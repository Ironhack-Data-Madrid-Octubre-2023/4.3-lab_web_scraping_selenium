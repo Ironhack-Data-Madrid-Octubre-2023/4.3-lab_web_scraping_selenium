{
 "cells": [
  {
   "cell_type": "markdown",
   "metadata": {},
   "source": [
    "# Web Scraping Lab\n",
    "\n",
    "You will find in this notebook some scrapy exercises to practise your scraping skills.\n",
    "\n",
    "**Tips:**\n",
    "\n",
    "- Check the response status code for each request to ensure you have obtained the intended contennt.\n",
    "- Print the response text in each request to understand the kind of info you are getting and its format.\n",
    "- Check for patterns in the response text to extract the data/info requested in each question.\n",
    "- Visit each url and take a look at its source through Chrome DevTools. You'll need to identify the html tags, special class names etc. used for the html content you are expected to extract."
   ]
  },
  {
   "cell_type": "markdown",
   "metadata": {},
   "source": [
    "- [Selenium Doc](https://www.selenium.dev/documentation/)\n",
    "- [Requests library](http://docs.python-requests.org/en/master/#the-user-guide) documentation \n",
    "- [Urllib](https://docs.python.org/3/library/urllib.html#module-urllib)\n",
    "- [re lib](https://docs.python.org/3/library/re.html)\n",
    "- [lxml lib](https://lxml.de/)\n",
    "- [Scrapy](https://scrapy.org/)\n",
    "- [List of HTTP status codes](https://en.wikipedia.org/wiki/List_of_HTTP_status_codes)\n",
    "- [HTML basics](http://www.simplehtmlguide.com/cheatsheet.php)\n",
    "- [CSS basics](https://www.cssbasics.com/#page_start)"
   ]
  },
  {
   "cell_type": "markdown",
   "metadata": {},
   "source": [
    "#### Below are the libraries and modules you may need. `Selenium` and `pandas` are imported for you."
   ]
  },
  {
   "cell_type": "code",
   "execution_count": 1,
   "metadata": {},
   "outputs": [],
   "source": [
    "import pandas as pd\n",
    "from selenium.webdriver.chrome.options import Options\n",
    "from webdriver_manager.chrome import ChromeDriverManager\n",
    "from selenium import webdriver\n",
    "import time\n",
    "import warnings\n",
    "warnings.filterwarnings('ignore')\n",
    "from selenium.webdriver.common.keys import Keys\n",
    "from selenium.webdriver.common.by import By # By es para buscar por tag, clase, id...\n",
    "import requests as req\n",
    "\n",
    "from bs4 import BeautifulSoup as bs"
   ]
  },
  {
   "cell_type": "code",
   "execution_count": 190,
   "metadata": {},
   "outputs": [],
   "source": [
    "from IPython.display import Image "
   ]
  },
  {
   "cell_type": "markdown",
   "metadata": {},
   "source": [
    "#### Enable the options you may need. In the next cell you have an example of them but you can choose to use them or not."
   ]
  },
  {
   "cell_type": "code",
   "execution_count": 2,
   "metadata": {},
   "outputs": [],
   "source": [
    "#driver configuration\n",
    "opciones=Options()\n",
    "\n",
    "opciones.add_experimental_option('excludeSwitches', ['enable-automation'])\n",
    "opciones.add_experimental_option('useAutomationExtension', False)\n",
    "opciones.headless=False    # si True, no aperece la ventana (headless=no visible)\n",
    "opciones.add_argument('--start-maximized')         # comienza maximizado\n",
    "#opciones.add_argument('user-data-dir=selenium')    # mantiene las cookies\n",
    "#opciones.add_extension('driver_folder/adblock.crx')       # adblocker\n",
    "opciones.add_argument('--incognito')"
   ]
  },
  {
   "cell_type": "code",
   "execution_count": null,
   "metadata": {},
   "outputs": [],
   "source": [
    "#driver = \"./chromedriver.exe\" #remember substitute this for your driver path\n",
    "#driver = webdriver.Chrome(driver,options = opciones)"
   ]
  },
  {
   "cell_type": "code",
   "execution_count": 4,
   "metadata": {},
   "outputs": [],
   "source": [
    "driver = \"./chromedriver.exe\" #remember substitute this for your driver path\n",
    "driver = webdriver.Chrome()"
   ]
  },
  {
   "cell_type": "markdown",
   "metadata": {},
   "source": [
    "#### Download, parse, and print the content from the Trending Developers page from GitHub:"
   ]
  },
  {
   "cell_type": "code",
   "execution_count": 5,
   "metadata": {},
   "outputs": [],
   "source": [
    "# This is the url you will scrape in this exercise\n",
    "url = 'https://github.com/trending/developers'"
   ]
  },
  {
   "cell_type": "code",
   "execution_count": 6,
   "metadata": {},
   "outputs": [],
   "source": [
    "#your code\n",
    "driver = webdriver.Chrome()\n",
    "\n",
    "driver.get(url)"
   ]
  },
  {
   "cell_type": "markdown",
   "metadata": {},
   "source": [
    "#### Display the names of the trending developers retrieved in the previous step.\n",
    "\n",
    "Your output should be a Python list of developer names. Each name should not contain any html tag.\n",
    "\n",
    "**Instructions:**\n",
    "\n",
    "1. Find out the html tag and class names used for the developer names.\n",
    "\n",
    "1. Use string manipulation techniques to replace whitespaces and linebreaks (i.e. `\\n`) in the *text* of each html element. Use a list to store the clean names.\n",
    "\n",
    "1. Print the list of names.\n",
    "\n",
    "Your output should look like below:\n",
    "\n",
    "```\n",
    "['trimstray (@trimstray)',\n",
    " 'joewalnes (JoeWalnes)',\n",
    " 'charlax (Charles-AxelDein)',\n",
    " 'ForrestKnight (ForrestKnight)',\n",
    " 'revery-ui (revery-ui)',\n",
    " 'alibaba (Alibaba)',\n",
    " 'Microsoft (Microsoft)',\n",
    " 'github (GitHub)',\n",
    " 'facebook (Facebook)',\n",
    " 'boazsegev (Bo)',\n",
    " 'google (Google)',\n",
    " 'cloudfetch',\n",
    " 'sindresorhus (SindreSorhus)',\n",
    " 'tensorflow',\n",
    " 'apache (TheApacheSoftwareFoundation)',\n",
    " 'DevonCrawford (DevonCrawford)',\n",
    " 'ARMmbed (ArmMbed)',\n",
    " 'vuejs (vuejs)',\n",
    " 'fastai (fast.ai)',\n",
    " 'QiShaoXuan (Qi)',\n",
    " 'joelparkerhenderson (JoelParkerHenderson)',\n",
    " 'torvalds (LinusTorvalds)',\n",
    " 'CyC2018',\n",
    " 'komeiji-satori (神楽坂覚々)',\n",
    " 'script-8']\n",
    " ```"
   ]
  },
  {
   "cell_type": "code",
   "execution_count": 35,
   "metadata": {},
   "outputs": [],
   "source": [
    "dev1 = driver.find_element(By.XPATH, '//*[@id=\"pa-homanp\"]/div[2]/div[1]/div[1]').text.split(\"\\n\")\n",
    "dev2 = driver.find_element(By.XPATH, '//*[@id=\"pa-chrisbanes\"]/div[2]/div[1]/div[1]').text.split(\"\\n\")\n",
    "dev3 = driver.find_element(By.XPATH, '//*[@id=\"pa-tmc\"]/div[2]/div[1]/div[1]').text.split(\"\\n\")\n",
    "dev4 = driver.find_element(By.XPATH, '//*[@id=\"pa-BBuf\"]/div[2]/div[1]/div[1]').text.split(\"\\n\")\n",
    "dev5 = driver.find_element(By.XPATH, '//*[@id=\"pa-stefanprodan\"]/div[2]/div[1]/div[1]').text.split(\"\\n\")\n",
    "dev6 = driver.find_element(By.XPATH, '//*[@id=\"pa-pcattori\"]/div[2]/div[1]/div[1]').text.split(\"\\n\")\n",
    "dev7 = driver.find_element(By.XPATH, '//*[@id=\"pa-lllyasviel\"]/div[2]/div[1]/div[1]').text.split(\"\\n\")\n",
    "dev8 = driver.find_element(By.XPATH, '//*[@id=\"pa-arvinxx\"]/div[2]/div[1]/div[1]').text.split(\"\\n\")\n",
    "dev9 = driver.find_element(By.XPATH, '//*[@id=\"pa-howardwu\"]/div[2]/div[1]/div[1]').text.split(\"\\n\")\n",
    "dev10 = driver.find_element(By.XPATH, '//*[@id=\"pa-shahednasser\"]/div[2]/div[1]/div[1]').text.split(\"\\n\")\n",
    "dev11 = driver.find_element(By.XPATH, '//*[@id=\"pa-knadh\"]/div[2]/div[1]/div[1]').text.split(\"\\n\")\n",
    "dev12 = driver.find_element(By.XPATH, '//*[@id=\"pa-mattt\"]/div[2]/div[1]/div[1]').text.split(\"\\n\")\n",
    "dev13 = driver.find_element(By.XPATH, '//*[@id=\"pa-kixelated\"]/div[2]/div[1]/div[1]').text.split(\"\\n\")\n",
    "dev14 = driver.find_element(By.XPATH, '//*[@id=\"pa-bradfitz\"]/div[2]/div[1]/div[1]').text.split(\"\\n\")\n",
    "dev15 = driver.find_element(By.XPATH, '//*[@id=\"pa-mhevery\"]/div[2]/div[1]/div[1]').text.split(\"\\n\")\n",
    "dev16 = driver.find_element(By.XPATH, '//*[@id=\"pa-andrewlock\"]/div[2]/div[1]/div[1]').text.split(\"\\n\")\n",
    "dev17 = driver.find_element(By.XPATH, '//*[@id=\"pa-briansmith\"]/div[2]/div[1]/div[1]').text.split(\"\\n\")\n",
    "dev18 = driver.find_element(By.XPATH, '//*[@id=\"pa-numandev1\"]/div[2]/div[1]/div[1]').text.split(\"\\n\")\n",
    "dev19 = driver.find_element(By.XPATH, '//*[@id=\"pa-fonsp\"]/div[2]/div[1]/div[1]').text.split(\"\\n\")\n",
    "dev20 = driver.find_element(By.XPATH, '//*[@id=\"pa-buger\"]/div[2]/div[1]/div[1]').text.split(\"\\n\")\n",
    "dev21 = driver.find_element(By.XPATH, '//*[@id=\"pa-uyarn\"]/div[2]/div[1]/div[1]').text.split(\"\\n\")\n",
    "dev22 = driver.find_element(By.XPATH, '//*[@id=\"pa-stnguyen90\"]/div[2]/div[1]/div[1]').text.split(\"\\n\")\n",
    "dev23 = driver.find_element(By.XPATH, '//*[@id=\"pa-ArgoZhang\"]/div[2]/div[1]/div[1]').text.split(\"\\n\")\n",
    "dev24 = driver.find_element(By.XPATH, '//*[@id=\"pa-jcstein\"]/div[2]/div[1]/div[1]').text.split(\"\\n\")\n",
    "dev25 = driver.find_element(By.XPATH, '//*[@id=\"pa-mikermcneil\"]/div[2]/div[1]/div[1]').text.split(\"\\n\")\n"
   ]
  },
  {
   "cell_type": "code",
   "execution_count": 37,
   "metadata": {},
   "outputs": [
    {
     "data": {
      "text/plain": [
       "(['Ismail Pelaseyed', 'homanp'],\n",
       " ['Chris Banes', 'chrisbanes'],\n",
       " ['Travis Cline', 'tmc'],\n",
       " ['Xiaoyu Zhang', 'BBuf'],\n",
       " ['Stefan Prodan', 'stefanprodan'],\n",
       " ['Pedro Cattori', 'pcattori'],\n",
       " ['lllyasviel'],\n",
       " ['Arvin Xu', 'arvinxx'],\n",
       " ['Howard Wu', 'howardwu'],\n",
       " ['Shahed Nasser', 'shahednasser'],\n",
       " ['Kailash Nadh', 'knadh'],\n",
       " ['Mattt', 'mattt'],\n",
       " ['kixelated'],\n",
       " ['Brad Fitzpatrick', 'bradfitz'],\n",
       " ['Miško Hevery', 'mhevery'],\n",
       " ['Andrew Lock', 'andrewlock'],\n",
       " ['Brian Smith', 'briansmith'],\n",
       " ['Fons van der Plas', 'fonsp'],\n",
       " ['Fons van der Plas', 'fonsp'],\n",
       " ['Leonid Bugaev', 'buger'],\n",
       " ['wū yāng', 'uyarn'],\n",
       " ['Steven Nguyen', 'stnguyen90'],\n",
       " ['Argo Zhang', 'ArgoZhang'],\n",
       " ['Josh Stein', 'jcstein'],\n",
       " ['Mike McNeil', 'mikermcneil'])"
      ]
     },
     "execution_count": 37,
     "metadata": {},
     "output_type": "execute_result"
    }
   ],
   "source": [
    "trending_developers = dev1, dev2, dev3, dev4, dev5, dev6, dev7, dev8, dev9, dev10, dev11, dev12, dev13, dev14, dev15, dev16, dev17, dev19, dev19, dev20, dev21, dev22, dev23, dev24, dev25\n",
    "trending_developers"
   ]
  },
  {
   "cell_type": "markdown",
   "metadata": {},
   "source": [
    "#### Display the trending Python repositories in GitHub\n",
    "\n",
    "The steps to solve this problem is similar to the previous one except that you need to find out the repository names instead of developer names."
   ]
  },
  {
   "cell_type": "code",
   "execution_count": 42,
   "metadata": {},
   "outputs": [],
   "source": [
    "# This is the url you will scrape in this exercise\n",
    "url = 'https://github.com/trending/python?since=daily'\n",
    "\n",
    "driver = webdriver.Chrome()\n",
    "\n",
    "driver.get(url)"
   ]
  },
  {
   "cell_type": "code",
   "execution_count": 43,
   "metadata": {},
   "outputs": [
    {
     "data": {
      "text/plain": [
       "[<selenium.webdriver.remote.webelement.WebElement (session=\"30fd9d4ff57b51fff1e4289c9ef6d288\", element=\"3C7AE5ADBF60C504FEC66A132DBC6C15_element_626\")>,\n",
       " <selenium.webdriver.remote.webelement.WebElement (session=\"30fd9d4ff57b51fff1e4289c9ef6d288\", element=\"3C7AE5ADBF60C504FEC66A132DBC6C15_element_654\")>,\n",
       " <selenium.webdriver.remote.webelement.WebElement (session=\"30fd9d4ff57b51fff1e4289c9ef6d288\", element=\"3C7AE5ADBF60C504FEC66A132DBC6C15_element_684\")>,\n",
       " <selenium.webdriver.remote.webelement.WebElement (session=\"30fd9d4ff57b51fff1e4289c9ef6d288\", element=\"3C7AE5ADBF60C504FEC66A132DBC6C15_element_714\")>,\n",
       " <selenium.webdriver.remote.webelement.WebElement (session=\"30fd9d4ff57b51fff1e4289c9ef6d288\", element=\"3C7AE5ADBF60C504FEC66A132DBC6C15_element_744\")>,\n",
       " <selenium.webdriver.remote.webelement.WebElement (session=\"30fd9d4ff57b51fff1e4289c9ef6d288\", element=\"3C7AE5ADBF60C504FEC66A132DBC6C15_element_774\")>,\n",
       " <selenium.webdriver.remote.webelement.WebElement (session=\"30fd9d4ff57b51fff1e4289c9ef6d288\", element=\"3C7AE5ADBF60C504FEC66A132DBC6C15_element_804\")>,\n",
       " <selenium.webdriver.remote.webelement.WebElement (session=\"30fd9d4ff57b51fff1e4289c9ef6d288\", element=\"3C7AE5ADBF60C504FEC66A132DBC6C15_element_828\")>,\n",
       " <selenium.webdriver.remote.webelement.WebElement (session=\"30fd9d4ff57b51fff1e4289c9ef6d288\", element=\"3C7AE5ADBF60C504FEC66A132DBC6C15_element_858\")>,\n",
       " <selenium.webdriver.remote.webelement.WebElement (session=\"30fd9d4ff57b51fff1e4289c9ef6d288\", element=\"3C7AE5ADBF60C504FEC66A132DBC6C15_element_888\")>,\n",
       " <selenium.webdriver.remote.webelement.WebElement (session=\"30fd9d4ff57b51fff1e4289c9ef6d288\", element=\"3C7AE5ADBF60C504FEC66A132DBC6C15_element_918\")>,\n",
       " <selenium.webdriver.remote.webelement.WebElement (session=\"30fd9d4ff57b51fff1e4289c9ef6d288\", element=\"3C7AE5ADBF60C504FEC66A132DBC6C15_element_948\")>,\n",
       " <selenium.webdriver.remote.webelement.WebElement (session=\"30fd9d4ff57b51fff1e4289c9ef6d288\", element=\"3C7AE5ADBF60C504FEC66A132DBC6C15_element_978\")>,\n",
       " <selenium.webdriver.remote.webelement.WebElement (session=\"30fd9d4ff57b51fff1e4289c9ef6d288\", element=\"3C7AE5ADBF60C504FEC66A132DBC6C15_element_1006\")>,\n",
       " <selenium.webdriver.remote.webelement.WebElement (session=\"30fd9d4ff57b51fff1e4289c9ef6d288\", element=\"3C7AE5ADBF60C504FEC66A132DBC6C15_element_1036\")>,\n",
       " <selenium.webdriver.remote.webelement.WebElement (session=\"30fd9d4ff57b51fff1e4289c9ef6d288\", element=\"3C7AE5ADBF60C504FEC66A132DBC6C15_element_1060\")>,\n",
       " <selenium.webdriver.remote.webelement.WebElement (session=\"30fd9d4ff57b51fff1e4289c9ef6d288\", element=\"3C7AE5ADBF60C504FEC66A132DBC6C15_element_1092\")>,\n",
       " <selenium.webdriver.remote.webelement.WebElement (session=\"30fd9d4ff57b51fff1e4289c9ef6d288\", element=\"3C7AE5ADBF60C504FEC66A132DBC6C15_element_1122\")>,\n",
       " <selenium.webdriver.remote.webelement.WebElement (session=\"30fd9d4ff57b51fff1e4289c9ef6d288\", element=\"3C7AE5ADBF60C504FEC66A132DBC6C15_element_1152\")>,\n",
       " <selenium.webdriver.remote.webelement.WebElement (session=\"30fd9d4ff57b51fff1e4289c9ef6d288\", element=\"3C7AE5ADBF60C504FEC66A132DBC6C15_element_1182\")>,\n",
       " <selenium.webdriver.remote.webelement.WebElement (session=\"30fd9d4ff57b51fff1e4289c9ef6d288\", element=\"3C7AE5ADBF60C504FEC66A132DBC6C15_element_1212\")>,\n",
       " <selenium.webdriver.remote.webelement.WebElement (session=\"30fd9d4ff57b51fff1e4289c9ef6d288\", element=\"3C7AE5ADBF60C504FEC66A132DBC6C15_element_1242\")>,\n",
       " <selenium.webdriver.remote.webelement.WebElement (session=\"30fd9d4ff57b51fff1e4289c9ef6d288\", element=\"3C7AE5ADBF60C504FEC66A132DBC6C15_element_1272\")>,\n",
       " <selenium.webdriver.remote.webelement.WebElement (session=\"30fd9d4ff57b51fff1e4289c9ef6d288\", element=\"3C7AE5ADBF60C504FEC66A132DBC6C15_element_1300\")>,\n",
       " <selenium.webdriver.remote.webelement.WebElement (session=\"30fd9d4ff57b51fff1e4289c9ef6d288\", element=\"3C7AE5ADBF60C504FEC66A132DBC6C15_element_1330\")>]"
      ]
     },
     "execution_count": 43,
     "metadata": {},
     "output_type": "execute_result"
    }
   ],
   "source": [
    "#your code\n",
    "\n",
    "driver.find_elements(By.XPATH, '//DIV//h2//a')"
   ]
  },
  {
   "cell_type": "code",
   "execution_count": 50,
   "metadata": {},
   "outputs": [
    {
     "data": {
      "text/plain": [
       "<selenium.webdriver.remote.webelement.WebElement (session=\"30fd9d4ff57b51fff1e4289c9ef6d288\", element=\"3C7AE5ADBF60C504FEC66A132DBC6C15_element_683\")>"
      ]
     },
     "execution_count": 50,
     "metadata": {},
     "output_type": "execute_result"
    }
   ],
   "source": [
    "driver.find_elements(By.XPATH, '//DIV//h2')[3]"
   ]
  },
  {
   "cell_type": "code",
   "execution_count": 52,
   "metadata": {},
   "outputs": [],
   "source": [
    "repos = driver.find_elements(By.XPATH, '//DIV//h2//a')"
   ]
  },
  {
   "cell_type": "code",
   "execution_count": 48,
   "metadata": {},
   "outputs": [
    {
     "data": {
      "text/plain": [
       "['swisskyrepo / PayloadsAllTheThings',\n",
       " 'THUDM / ChatGLM3',\n",
       " 'PaddlePaddle / PaddleOCR',\n",
       " 'langchain-ai / langchain',\n",
       " 'dataelement / bisheng',\n",
       " 'Azure / MS-AMP',\n",
       " 'xxlong0 / Wonder3D',\n",
       " 'yunjey / pytorch-tutorial',\n",
       " 'facebookresearch / llama',\n",
       " 'localstack / localstack',\n",
       " 'OpenBMB / ChatDev',\n",
       " 'ray-project / ray',\n",
       " 'CycodeLabs / raven',\n",
       " 'ageitgey / face_recognition',\n",
       " 'iam-veeramalla / aws-devops-zero-to-hero',\n",
       " 'openai / whisper',\n",
       " 'sqlfluff / sqlfluff',\n",
       " 'imartinez / privateGPT',\n",
       " 'reflex-dev / reflex',\n",
       " 'donnemartin / system-design-primer',\n",
       " 'lm-sys / FastChat',\n",
       " 'togethercomputer / RedPajama-Data',\n",
       " 'SkyworkAI / Skywork',\n",
       " 'microsoft / qlib',\n",
       " 'pathwaycom / llm-app']"
      ]
     },
     "execution_count": 48,
     "metadata": {},
     "output_type": "execute_result"
    }
   ],
   "source": [
    "my_repos_list= []\n",
    "\n",
    "for e in repos:\n",
    "    my_repos_list.append(e.text)\n",
    "\n",
    "my_repos_list"
   ]
  },
  {
   "cell_type": "code",
   "execution_count": null,
   "metadata": {},
   "outputs": [],
   "source": []
  },
  {
   "cell_type": "markdown",
   "metadata": {},
   "source": [
    "#### Display all the image links from Walt Disney wikipedia page"
   ]
  },
  {
   "cell_type": "code",
   "execution_count": 53,
   "metadata": {},
   "outputs": [],
   "source": [
    "# This is the url you will scrape in this exercise\n",
    "url = 'https://en.wikipedia.org/wiki/Walt_Disney'\n",
    "driver = webdriver.Chrome()\n",
    "\n",
    "driver.get(url)"
   ]
  },
  {
   "cell_type": "code",
   "execution_count": 105,
   "metadata": {},
   "outputs": [
    {
     "data": {
      "text/plain": [
       "[<selenium.webdriver.remote.webelement.WebElement (session=\"2fec61f9bb578b320c2e52c55b79c0ef\", element=\"E57B3A84BD439B0A4BA3338A20D6E46A_element_7164\")>,\n",
       " <selenium.webdriver.remote.webelement.WebElement (session=\"2fec61f9bb578b320c2e52c55b79c0ef\", element=\"E57B3A84BD439B0A4BA3338A20D6E46A_element_41\")>,\n",
       " <selenium.webdriver.remote.webelement.WebElement (session=\"2fec61f9bb578b320c2e52c55b79c0ef\", element=\"E57B3A84BD439B0A4BA3338A20D6E46A_element_783\")>,\n",
       " <selenium.webdriver.remote.webelement.WebElement (session=\"2fec61f9bb578b320c2e52c55b79c0ef\", element=\"E57B3A84BD439B0A4BA3338A20D6E46A_element_941\")>,\n",
       " <selenium.webdriver.remote.webelement.WebElement (session=\"2fec61f9bb578b320c2e52c55b79c0ef\", element=\"E57B3A84BD439B0A4BA3338A20D6E46A_element_945\")>,\n",
       " <selenium.webdriver.remote.webelement.WebElement (session=\"2fec61f9bb578b320c2e52c55b79c0ef\", element=\"E57B3A84BD439B0A4BA3338A20D6E46A_element_963\")>,\n",
       " <selenium.webdriver.remote.webelement.WebElement (session=\"2fec61f9bb578b320c2e52c55b79c0ef\", element=\"E57B3A84BD439B0A4BA3338A20D6E46A_element_1069\")>,\n",
       " <selenium.webdriver.remote.webelement.WebElement (session=\"2fec61f9bb578b320c2e52c55b79c0ef\", element=\"E57B3A84BD439B0A4BA3338A20D6E46A_element_1227\")>,\n",
       " <selenium.webdriver.remote.webelement.WebElement (session=\"2fec61f9bb578b320c2e52c55b79c0ef\", element=\"E57B3A84BD439B0A4BA3338A20D6E46A_element_1417\")>,\n",
       " <selenium.webdriver.remote.webelement.WebElement (session=\"2fec61f9bb578b320c2e52c55b79c0ef\", element=\"E57B3A84BD439B0A4BA3338A20D6E46A_element_1676\")>,\n",
       " <selenium.webdriver.remote.webelement.WebElement (session=\"2fec61f9bb578b320c2e52c55b79c0ef\", element=\"E57B3A84BD439B0A4BA3338A20D6E46A_element_1849\")>,\n",
       " <selenium.webdriver.remote.webelement.WebElement (session=\"2fec61f9bb578b320c2e52c55b79c0ef\", element=\"E57B3A84BD439B0A4BA3338A20D6E46A_element_1987\")>,\n",
       " <selenium.webdriver.remote.webelement.WebElement (session=\"2fec61f9bb578b320c2e52c55b79c0ef\", element=\"E57B3A84BD439B0A4BA3338A20D6E46A_element_2143\")>,\n",
       " <selenium.webdriver.remote.webelement.WebElement (session=\"2fec61f9bb578b320c2e52c55b79c0ef\", element=\"E57B3A84BD439B0A4BA3338A20D6E46A_element_2359\")>,\n",
       " <selenium.webdriver.remote.webelement.WebElement (session=\"2fec61f9bb578b320c2e52c55b79c0ef\", element=\"E57B3A84BD439B0A4BA3338A20D6E46A_element_2545\")>,\n",
       " <selenium.webdriver.remote.webelement.WebElement (session=\"2fec61f9bb578b320c2e52c55b79c0ef\", element=\"E57B3A84BD439B0A4BA3338A20D6E46A_element_2662\")>,\n",
       " <selenium.webdriver.remote.webelement.WebElement (session=\"2fec61f9bb578b320c2e52c55b79c0ef\", element=\"E57B3A84BD439B0A4BA3338A20D6E46A_element_2721\")>,\n",
       " <selenium.webdriver.remote.webelement.WebElement (session=\"2fec61f9bb578b320c2e52c55b79c0ef\", element=\"E57B3A84BD439B0A4BA3338A20D6E46A_element_2897\")>,\n",
       " <selenium.webdriver.remote.webelement.WebElement (session=\"2fec61f9bb578b320c2e52c55b79c0ef\", element=\"E57B3A84BD439B0A4BA3338A20D6E46A_element_3192\")>,\n",
       " <selenium.webdriver.remote.webelement.WebElement (session=\"2fec61f9bb578b320c2e52c55b79c0ef\", element=\"E57B3A84BD439B0A4BA3338A20D6E46A_element_10156\")>,\n",
       " <selenium.webdriver.remote.webelement.WebElement (session=\"2fec61f9bb578b320c2e52c55b79c0ef\", element=\"E57B3A84BD439B0A4BA3338A20D6E46A_element_10162\")>,\n",
       " <selenium.webdriver.remote.webelement.WebElement (session=\"2fec61f9bb578b320c2e52c55b79c0ef\", element=\"E57B3A84BD439B0A4BA3338A20D6E46A_element_10169\")>,\n",
       " <selenium.webdriver.remote.webelement.WebElement (session=\"2fec61f9bb578b320c2e52c55b79c0ef\", element=\"E57B3A84BD439B0A4BA3338A20D6E46A_element_7055\")>,\n",
       " <selenium.webdriver.remote.webelement.WebElement (session=\"2fec61f9bb578b320c2e52c55b79c0ef\", element=\"E57B3A84BD439B0A4BA3338A20D6E46A_element_7064\")>,\n",
       " <selenium.webdriver.remote.webelement.WebElement (session=\"2fec61f9bb578b320c2e52c55b79c0ef\", element=\"E57B3A84BD439B0A4BA3338A20D6E46A_element_12146\")>,\n",
       " <selenium.webdriver.remote.webelement.WebElement (session=\"2fec61f9bb578b320c2e52c55b79c0ef\", element=\"E57B3A84BD439B0A4BA3338A20D6E46A_element_7940\")>,\n",
       " <selenium.webdriver.remote.webelement.WebElement (session=\"2fec61f9bb578b320c2e52c55b79c0ef\", element=\"E57B3A84BD439B0A4BA3338A20D6E46A_element_7974\")>,\n",
       " <selenium.webdriver.remote.webelement.WebElement (session=\"2fec61f9bb578b320c2e52c55b79c0ef\", element=\"E57B3A84BD439B0A4BA3338A20D6E46A_element_10198\")>,\n",
       " <selenium.webdriver.remote.webelement.WebElement (session=\"2fec61f9bb578b320c2e52c55b79c0ef\", element=\"E57B3A84BD439B0A4BA3338A20D6E46A_element_7984\")>,\n",
       " <selenium.webdriver.remote.webelement.WebElement (session=\"2fec61f9bb578b320c2e52c55b79c0ef\", element=\"E57B3A84BD439B0A4BA3338A20D6E46A_element_10202\")>,\n",
       " <selenium.webdriver.remote.webelement.WebElement (session=\"2fec61f9bb578b320c2e52c55b79c0ef\", element=\"E57B3A84BD439B0A4BA3338A20D6E46A_element_7993\")>,\n",
       " <selenium.webdriver.remote.webelement.WebElement (session=\"2fec61f9bb578b320c2e52c55b79c0ef\", element=\"E57B3A84BD439B0A4BA3338A20D6E46A_element_7999\")>,\n",
       " <selenium.webdriver.remote.webelement.WebElement (session=\"2fec61f9bb578b320c2e52c55b79c0ef\", element=\"E57B3A84BD439B0A4BA3338A20D6E46A_element_8004\")>,\n",
       " <selenium.webdriver.remote.webelement.WebElement (session=\"2fec61f9bb578b320c2e52c55b79c0ef\", element=\"E57B3A84BD439B0A4BA3338A20D6E46A_element_8016\")>,\n",
       " <selenium.webdriver.remote.webelement.WebElement (session=\"2fec61f9bb578b320c2e52c55b79c0ef\", element=\"E57B3A84BD439B0A4BA3338A20D6E46A_element_8284\")>,\n",
       " <selenium.webdriver.remote.webelement.WebElement (session=\"2fec61f9bb578b320c2e52c55b79c0ef\", element=\"E57B3A84BD439B0A4BA3338A20D6E46A_element_8287\")>,\n",
       " <selenium.webdriver.remote.webelement.WebElement (session=\"2fec61f9bb578b320c2e52c55b79c0ef\", element=\"E57B3A84BD439B0A4BA3338A20D6E46A_element_12232\")>]"
      ]
     },
     "execution_count": 105,
     "metadata": {},
     "output_type": "execute_result"
    }
   ],
   "source": [
    "driver.find_elements(By.XPATH, '//img')  #No puedo llamar por SRC, ya que es un atributo y no es llamable "
   ]
  },
  {
   "cell_type": "code",
   "execution_count": 107,
   "metadata": {},
   "outputs": [
    {
     "data": {
      "text/plain": [
       "['https://en.wikipedia.org/static/images/icons/wikipedia.png',\n",
       " 'https://en.wikipedia.org/static/images/mobile/copyright/wikipedia-wordmark-en.svg',\n",
       " 'https://en.wikipedia.org/static/images/mobile/copyright/wikipedia-tagline-en.svg',\n",
       " 'https://upload.wikimedia.org/wikipedia/en/thumb/e/e7/Cscr-featured.svg/20px-Cscr-featured.svg.png',\n",
       " 'https://upload.wikimedia.org/wikipedia/en/thumb/8/8c/Extended-protection-shackle.svg/20px-Extended-protection-shackle.svg.png',\n",
       " 'https://upload.wikimedia.org/wikipedia/commons/thumb/d/df/Walt_Disney_1946.JPG/220px-Walt_Disney_1946.JPG',\n",
       " 'https://upload.wikimedia.org/wikipedia/commons/thumb/8/87/Walt_Disney_1942_signature.svg/150px-Walt_Disney_1942_signature.svg.png',\n",
       " 'https://upload.wikimedia.org/wikipedia/commons/thumb/3/3a/Walt_Disney_Birthplace_Exterior_Hermosa_Chicago_Illinois.jpg/220px-Walt_Disney_Birthplace_Exterior_Hermosa_Chicago_Illinois.jpg',\n",
       " 'https://upload.wikimedia.org/wikipedia/commons/thumb/c/c4/Walt_Disney_envelope_ca._1921.jpg/220px-Walt_Disney_envelope_ca._1921.jpg',\n",
       " 'https://upload.wikimedia.org/wikipedia/en/thumb/4/4e/Steamboat-willie.jpg/220px-Steamboat-willie.jpg',\n",
       " 'https://upload.wikimedia.org/wikipedia/commons/thumb/c/cd/Walt_Disney_Snow_white_1937_trailer_screenshot_%2813%29.jpg/220px-Walt_Disney_Snow_white_1937_trailer_screenshot_%2813%29.jpg',\n",
       " 'https://upload.wikimedia.org/wikipedia/commons/thumb/1/15/Disney_drawing_goofy.jpg/170px-Disney_drawing_goofy.jpg',\n",
       " 'https://upload.wikimedia.org/wikipedia/commons/thumb/8/8c/WaltDisneyplansDisneylandDec1954.jpg/220px-WaltDisneyplansDisneylandDec1954.jpg',\n",
       " 'https://upload.wikimedia.org/wikipedia/commons/thumb/f/ff/Walt_disney_portrait_right.jpg/170px-Walt_disney_portrait_right.jpg',\n",
       " 'https://upload.wikimedia.org/wikipedia/commons/thumb/1/1a/Walt_Disney_Grave.JPG/170px-Walt_Disney_Grave.JPG',\n",
       " 'https://upload.wikimedia.org/wikipedia/commons/thumb/1/1b/Nuvola_apps_kaboodle.svg/16px-Nuvola_apps_kaboodle.svg.png',\n",
       " 'https://upload.wikimedia.org/wikipedia/commons/thumb/1/13/DisneySchiphol1951.jpg/220px-DisneySchiphol1951.jpg',\n",
       " 'https://upload.wikimedia.org/wikipedia/commons/thumb/6/6c/Disney1968.jpg/170px-Disney1968.jpg',\n",
       " 'https://upload.wikimedia.org/wikipedia/commons/thumb/b/b0/Disney_Oscar_1953_%28cropped%29.jpg/170px-Disney_Oscar_1953_%28cropped%29.jpg',\n",
       " 'https://upload.wikimedia.org/wikipedia/en/thumb/4/4a/Commons-logo.svg/30px-Commons-logo.svg.png',\n",
       " 'https://upload.wikimedia.org/wikipedia/commons/thumb/4/4c/Wikisource-logo.svg/38px-Wikisource-logo.svg.png',\n",
       " 'https://upload.wikimedia.org/wikipedia/commons/thumb/f/fa/Wikiquote-logo.svg/34px-Wikiquote-logo.svg.png',\n",
       " 'https://upload.wikimedia.org/wikipedia/en/thumb/8/8a/OOjs_UI_icon_edit-ltr-progressive.svg/10px-OOjs_UI_icon_edit-ltr-progressive.svg.png',\n",
       " 'https://upload.wikimedia.org/wikipedia/en/thumb/8/8a/OOjs_UI_icon_edit-ltr-progressive.svg/10px-OOjs_UI_icon_edit-ltr-progressive.svg.png',\n",
       " 'https://upload.wikimedia.org/wikipedia/en/thumb/9/96/Symbol_category_class.svg/16px-Symbol_category_class.svg.png',\n",
       " 'https://upload.wikimedia.org/wikipedia/commons/thumb/e/e3/Disneyland_Resort_logo.svg/135px-Disneyland_Resort_logo.svg.png',\n",
       " 'https://upload.wikimedia.org/wikipedia/commons/thumb/d/da/Animation_disc.svg/20px-Animation_disc.svg.png',\n",
       " 'https://upload.wikimedia.org/wikipedia/en/thumb/6/69/P_vip.svg/19px-P_vip.svg.png',\n",
       " 'https://upload.wikimedia.org/wikipedia/commons/thumb/1/1a/Magic_Kingdom_castle.jpg/15px-Magic_Kingdom_castle.jpg',\n",
       " 'https://upload.wikimedia.org/wikipedia/en/thumb/e/e7/Video-x-generic.svg/19px-Video-x-generic.svg.png',\n",
       " 'https://upload.wikimedia.org/wikipedia/commons/thumb/a/a3/Flag_of_Los_Angeles_County%2C_California.svg/21px-Flag_of_Los_Angeles_County%2C_California.svg.png',\n",
       " 'https://upload.wikimedia.org/wikipedia/commons/thumb/8/8c/Blank_television_set.svg/21px-Blank_television_set.svg.png',\n",
       " 'https://upload.wikimedia.org/wikipedia/en/thumb/a/a4/Flag_of_the_United_States.svg/21px-Flag_of_the_United_States.svg.png',\n",
       " 'https://upload.wikimedia.org/wikipedia/en/thumb/8/8a/OOjs_UI_icon_edit-ltr-progressive.svg/10px-OOjs_UI_icon_edit-ltr-progressive.svg.png',\n",
       " 'https://en.wikipedia.org/static/images/footer/wikimedia-button.png',\n",
       " 'https://en.wikipedia.org/static/images/footer/poweredby_mediawiki_88x31.png']"
      ]
     },
     "execution_count": 107,
     "metadata": {},
     "output_type": "execute_result"
    }
   ],
   "source": [
    "my_pictures = []\n",
    "\n",
    "for e in driver.find_elements(By.XPATH, '//img'):\n",
    "    my_pictures.append(e.get_attribute(\"src\"))\n",
    "\n",
    "my_pictures"
   ]
  },
  {
   "cell_type": "code",
   "execution_count": 191,
   "metadata": {},
   "outputs": [
    {
     "data": {
      "text/html": [
       "<img src=\"https://en.wikipedia.org/static/images/icons/wikipedia.png\"/>"
      ],
      "text/plain": [
       "<IPython.core.display.Image object>"
      ]
     },
     "metadata": {},
     "output_type": "display_data"
    },
    {
     "data": {
      "text/html": [
       "<img src=\"https://en.wikipedia.org/static/images/mobile/copyright/wikipedia-wordmark-en.svg\"/>"
      ],
      "text/plain": [
       "<IPython.core.display.Image object>"
      ]
     },
     "metadata": {},
     "output_type": "display_data"
    },
    {
     "data": {
      "text/html": [
       "<img src=\"https://en.wikipedia.org/static/images/mobile/copyright/wikipedia-tagline-en.svg\"/>"
      ],
      "text/plain": [
       "<IPython.core.display.Image object>"
      ]
     },
     "metadata": {},
     "output_type": "display_data"
    },
    {
     "data": {
      "text/html": [
       "<img src=\"https://upload.wikimedia.org/wikipedia/en/thumb/e/e7/Cscr-featured.svg/20px-Cscr-featured.svg.png\"/>"
      ],
      "text/plain": [
       "<IPython.core.display.Image object>"
      ]
     },
     "metadata": {},
     "output_type": "display_data"
    },
    {
     "data": {
      "text/html": [
       "<img src=\"https://upload.wikimedia.org/wikipedia/en/thumb/8/8c/Extended-protection-shackle.svg/20px-Extended-protection-shackle.svg.png\"/>"
      ],
      "text/plain": [
       "<IPython.core.display.Image object>"
      ]
     },
     "metadata": {},
     "output_type": "display_data"
    },
    {
     "data": {
      "text/html": [
       "<img src=\"https://upload.wikimedia.org/wikipedia/commons/thumb/d/df/Walt_Disney_1946.JPG/220px-Walt_Disney_1946.JPG\"/>"
      ],
      "text/plain": [
       "<IPython.core.display.Image object>"
      ]
     },
     "metadata": {},
     "output_type": "display_data"
    },
    {
     "data": {
      "text/html": [
       "<img src=\"https://upload.wikimedia.org/wikipedia/commons/thumb/8/87/Walt_Disney_1942_signature.svg/150px-Walt_Disney_1942_signature.svg.png\"/>"
      ],
      "text/plain": [
       "<IPython.core.display.Image object>"
      ]
     },
     "metadata": {},
     "output_type": "display_data"
    },
    {
     "data": {
      "text/html": [
       "<img src=\"https://upload.wikimedia.org/wikipedia/commons/thumb/3/3a/Walt_Disney_Birthplace_Exterior_Hermosa_Chicago_Illinois.jpg/220px-Walt_Disney_Birthplace_Exterior_Hermosa_Chicago_Illinois.jpg\"/>"
      ],
      "text/plain": [
       "<IPython.core.display.Image object>"
      ]
     },
     "metadata": {},
     "output_type": "display_data"
    },
    {
     "data": {
      "text/html": [
       "<img src=\"https://upload.wikimedia.org/wikipedia/commons/thumb/c/c4/Walt_Disney_envelope_ca._1921.jpg/220px-Walt_Disney_envelope_ca._1921.jpg\"/>"
      ],
      "text/plain": [
       "<IPython.core.display.Image object>"
      ]
     },
     "metadata": {},
     "output_type": "display_data"
    },
    {
     "data": {
      "text/html": [
       "<img src=\"https://upload.wikimedia.org/wikipedia/en/thumb/4/4e/Steamboat-willie.jpg/220px-Steamboat-willie.jpg\"/>"
      ],
      "text/plain": [
       "<IPython.core.display.Image object>"
      ]
     },
     "metadata": {},
     "output_type": "display_data"
    },
    {
     "data": {
      "text/html": [
       "<img src=\"https://upload.wikimedia.org/wikipedia/commons/thumb/c/cd/Walt_Disney_Snow_white_1937_trailer_screenshot_%2813%29.jpg/220px-Walt_Disney_Snow_white_1937_trailer_screenshot_%2813%29.jpg\"/>"
      ],
      "text/plain": [
       "<IPython.core.display.Image object>"
      ]
     },
     "metadata": {},
     "output_type": "display_data"
    },
    {
     "data": {
      "text/html": [
       "<img src=\"https://upload.wikimedia.org/wikipedia/commons/thumb/1/15/Disney_drawing_goofy.jpg/170px-Disney_drawing_goofy.jpg\"/>"
      ],
      "text/plain": [
       "<IPython.core.display.Image object>"
      ]
     },
     "metadata": {},
     "output_type": "display_data"
    },
    {
     "data": {
      "text/html": [
       "<img src=\"https://upload.wikimedia.org/wikipedia/commons/thumb/8/8c/WaltDisneyplansDisneylandDec1954.jpg/220px-WaltDisneyplansDisneylandDec1954.jpg\"/>"
      ],
      "text/plain": [
       "<IPython.core.display.Image object>"
      ]
     },
     "metadata": {},
     "output_type": "display_data"
    },
    {
     "data": {
      "text/html": [
       "<img src=\"https://upload.wikimedia.org/wikipedia/commons/thumb/f/ff/Walt_disney_portrait_right.jpg/170px-Walt_disney_portrait_right.jpg\"/>"
      ],
      "text/plain": [
       "<IPython.core.display.Image object>"
      ]
     },
     "metadata": {},
     "output_type": "display_data"
    },
    {
     "data": {
      "text/html": [
       "<img src=\"https://upload.wikimedia.org/wikipedia/commons/thumb/1/1a/Walt_Disney_Grave.JPG/170px-Walt_Disney_Grave.JPG\"/>"
      ],
      "text/plain": [
       "<IPython.core.display.Image object>"
      ]
     },
     "metadata": {},
     "output_type": "display_data"
    },
    {
     "data": {
      "text/html": [
       "<img src=\"https://upload.wikimedia.org/wikipedia/commons/thumb/1/1b/Nuvola_apps_kaboodle.svg/16px-Nuvola_apps_kaboodle.svg.png\"/>"
      ],
      "text/plain": [
       "<IPython.core.display.Image object>"
      ]
     },
     "metadata": {},
     "output_type": "display_data"
    },
    {
     "data": {
      "text/html": [
       "<img src=\"https://upload.wikimedia.org/wikipedia/commons/thumb/1/13/DisneySchiphol1951.jpg/220px-DisneySchiphol1951.jpg\"/>"
      ],
      "text/plain": [
       "<IPython.core.display.Image object>"
      ]
     },
     "metadata": {},
     "output_type": "display_data"
    },
    {
     "data": {
      "text/html": [
       "<img src=\"https://upload.wikimedia.org/wikipedia/commons/thumb/6/6c/Disney1968.jpg/170px-Disney1968.jpg\"/>"
      ],
      "text/plain": [
       "<IPython.core.display.Image object>"
      ]
     },
     "metadata": {},
     "output_type": "display_data"
    },
    {
     "data": {
      "text/html": [
       "<img src=\"https://upload.wikimedia.org/wikipedia/commons/thumb/b/b0/Disney_Oscar_1953_%28cropped%29.jpg/170px-Disney_Oscar_1953_%28cropped%29.jpg\"/>"
      ],
      "text/plain": [
       "<IPython.core.display.Image object>"
      ]
     },
     "metadata": {},
     "output_type": "display_data"
    },
    {
     "data": {
      "text/html": [
       "<img src=\"https://upload.wikimedia.org/wikipedia/en/thumb/4/4a/Commons-logo.svg/30px-Commons-logo.svg.png\"/>"
      ],
      "text/plain": [
       "<IPython.core.display.Image object>"
      ]
     },
     "metadata": {},
     "output_type": "display_data"
    },
    {
     "data": {
      "text/html": [
       "<img src=\"https://upload.wikimedia.org/wikipedia/commons/thumb/4/4c/Wikisource-logo.svg/38px-Wikisource-logo.svg.png\"/>"
      ],
      "text/plain": [
       "<IPython.core.display.Image object>"
      ]
     },
     "metadata": {},
     "output_type": "display_data"
    },
    {
     "data": {
      "text/html": [
       "<img src=\"https://upload.wikimedia.org/wikipedia/commons/thumb/f/fa/Wikiquote-logo.svg/34px-Wikiquote-logo.svg.png\"/>"
      ],
      "text/plain": [
       "<IPython.core.display.Image object>"
      ]
     },
     "metadata": {},
     "output_type": "display_data"
    },
    {
     "data": {
      "text/html": [
       "<img src=\"https://upload.wikimedia.org/wikipedia/en/thumb/8/8a/OOjs_UI_icon_edit-ltr-progressive.svg/10px-OOjs_UI_icon_edit-ltr-progressive.svg.png\"/>"
      ],
      "text/plain": [
       "<IPython.core.display.Image object>"
      ]
     },
     "metadata": {},
     "output_type": "display_data"
    },
    {
     "data": {
      "text/html": [
       "<img src=\"https://upload.wikimedia.org/wikipedia/en/thumb/8/8a/OOjs_UI_icon_edit-ltr-progressive.svg/10px-OOjs_UI_icon_edit-ltr-progressive.svg.png\"/>"
      ],
      "text/plain": [
       "<IPython.core.display.Image object>"
      ]
     },
     "metadata": {},
     "output_type": "display_data"
    },
    {
     "data": {
      "text/html": [
       "<img src=\"https://upload.wikimedia.org/wikipedia/en/thumb/9/96/Symbol_category_class.svg/16px-Symbol_category_class.svg.png\"/>"
      ],
      "text/plain": [
       "<IPython.core.display.Image object>"
      ]
     },
     "metadata": {},
     "output_type": "display_data"
    },
    {
     "data": {
      "text/html": [
       "<img src=\"https://upload.wikimedia.org/wikipedia/commons/thumb/e/e3/Disneyland_Resort_logo.svg/135px-Disneyland_Resort_logo.svg.png\"/>"
      ],
      "text/plain": [
       "<IPython.core.display.Image object>"
      ]
     },
     "metadata": {},
     "output_type": "display_data"
    },
    {
     "data": {
      "text/html": [
       "<img src=\"https://upload.wikimedia.org/wikipedia/commons/thumb/d/da/Animation_disc.svg/20px-Animation_disc.svg.png\"/>"
      ],
      "text/plain": [
       "<IPython.core.display.Image object>"
      ]
     },
     "metadata": {},
     "output_type": "display_data"
    },
    {
     "data": {
      "text/html": [
       "<img src=\"https://upload.wikimedia.org/wikipedia/en/thumb/6/69/P_vip.svg/19px-P_vip.svg.png\"/>"
      ],
      "text/plain": [
       "<IPython.core.display.Image object>"
      ]
     },
     "metadata": {},
     "output_type": "display_data"
    },
    {
     "data": {
      "text/html": [
       "<img src=\"https://upload.wikimedia.org/wikipedia/commons/thumb/1/1a/Magic_Kingdom_castle.jpg/15px-Magic_Kingdom_castle.jpg\"/>"
      ],
      "text/plain": [
       "<IPython.core.display.Image object>"
      ]
     },
     "metadata": {},
     "output_type": "display_data"
    },
    {
     "data": {
      "text/html": [
       "<img src=\"https://upload.wikimedia.org/wikipedia/en/thumb/e/e7/Video-x-generic.svg/19px-Video-x-generic.svg.png\"/>"
      ],
      "text/plain": [
       "<IPython.core.display.Image object>"
      ]
     },
     "metadata": {},
     "output_type": "display_data"
    },
    {
     "data": {
      "text/html": [
       "<img src=\"https://upload.wikimedia.org/wikipedia/commons/thumb/a/a3/Flag_of_Los_Angeles_County%2C_California.svg/21px-Flag_of_Los_Angeles_County%2C_California.svg.png\"/>"
      ],
      "text/plain": [
       "<IPython.core.display.Image object>"
      ]
     },
     "metadata": {},
     "output_type": "display_data"
    },
    {
     "data": {
      "text/html": [
       "<img src=\"https://upload.wikimedia.org/wikipedia/commons/thumb/8/8c/Blank_television_set.svg/21px-Blank_television_set.svg.png\"/>"
      ],
      "text/plain": [
       "<IPython.core.display.Image object>"
      ]
     },
     "metadata": {},
     "output_type": "display_data"
    },
    {
     "data": {
      "text/html": [
       "<img src=\"https://upload.wikimedia.org/wikipedia/en/thumb/a/a4/Flag_of_the_United_States.svg/21px-Flag_of_the_United_States.svg.png\"/>"
      ],
      "text/plain": [
       "<IPython.core.display.Image object>"
      ]
     },
     "metadata": {},
     "output_type": "display_data"
    },
    {
     "data": {
      "text/html": [
       "<img src=\"https://upload.wikimedia.org/wikipedia/en/thumb/8/8a/OOjs_UI_icon_edit-ltr-progressive.svg/10px-OOjs_UI_icon_edit-ltr-progressive.svg.png\"/>"
      ],
      "text/plain": [
       "<IPython.core.display.Image object>"
      ]
     },
     "metadata": {},
     "output_type": "display_data"
    },
    {
     "data": {
      "text/html": [
       "<img src=\"https://en.wikipedia.org/static/images/footer/wikimedia-button.png\"/>"
      ],
      "text/plain": [
       "<IPython.core.display.Image object>"
      ]
     },
     "metadata": {},
     "output_type": "display_data"
    },
    {
     "data": {
      "text/html": [
       "<img src=\"https://en.wikipedia.org/static/images/footer/poweredby_mediawiki_88x31.png\"/>"
      ],
      "text/plain": [
       "<IPython.core.display.Image object>"
      ]
     },
     "metadata": {},
     "output_type": "display_data"
    }
   ],
   "source": [
    "for e in my_pictures:\n",
    "    display(Image(url=e))"
   ]
  },
  {
   "cell_type": "markdown",
   "metadata": {},
   "source": [
    "#### Retrieve an arbitary Wikipedia page of \"Python\" and create a list of links on that page"
   ]
  },
  {
   "cell_type": "code",
   "execution_count": 149,
   "metadata": {},
   "outputs": [],
   "source": [
    "# This is the url you will scrape in this exercise\n",
    "url ='https://en.wikipedia.org/wiki/Python' \n",
    "driver = webdriver.Chrome()\n",
    "\n",
    "driver.get(url)"
   ]
  },
  {
   "cell_type": "code",
   "execution_count": 150,
   "metadata": {},
   "outputs": [
    {
     "data": {
      "text/plain": [
       "[<selenium.webdriver.remote.webelement.WebElement (session=\"3b13cd26260d52aea2c940a49ed113b6\", element=\"F35E53873B440B39906AA5C7B9A4C18F_element_588\")>,\n",
       " <selenium.webdriver.remote.webelement.WebElement (session=\"3b13cd26260d52aea2c940a49ed113b6\", element=\"F35E53873B440B39906AA5C7B9A4C18F_element_592\")>,\n",
       " <selenium.webdriver.remote.webelement.WebElement (session=\"3b13cd26260d52aea2c940a49ed113b6\", element=\"F35E53873B440B39906AA5C7B9A4C18F_element_596\")>,\n",
       " <selenium.webdriver.remote.webelement.WebElement (session=\"3b13cd26260d52aea2c940a49ed113b6\", element=\"F35E53873B440B39906AA5C7B9A4C18F_element_600\")>,\n",
       " <selenium.webdriver.remote.webelement.WebElement (session=\"3b13cd26260d52aea2c940a49ed113b6\", element=\"F35E53873B440B39906AA5C7B9A4C18F_element_604\")>,\n",
       " <selenium.webdriver.remote.webelement.WebElement (session=\"3b13cd26260d52aea2c940a49ed113b6\", element=\"F35E53873B440B39906AA5C7B9A4C18F_element_608\")>,\n",
       " <selenium.webdriver.remote.webelement.WebElement (session=\"3b13cd26260d52aea2c940a49ed113b6\", element=\"F35E53873B440B39906AA5C7B9A4C18F_element_612\")>,\n",
       " <selenium.webdriver.remote.webelement.WebElement (session=\"3b13cd26260d52aea2c940a49ed113b6\", element=\"F35E53873B440B39906AA5C7B9A4C18F_element_621\")>,\n",
       " <selenium.webdriver.remote.webelement.WebElement (session=\"3b13cd26260d52aea2c940a49ed113b6\", element=\"F35E53873B440B39906AA5C7B9A4C18F_element_625\")>,\n",
       " <selenium.webdriver.remote.webelement.WebElement (session=\"3b13cd26260d52aea2c940a49ed113b6\", element=\"F35E53873B440B39906AA5C7B9A4C18F_element_629\")>,\n",
       " <selenium.webdriver.remote.webelement.WebElement (session=\"3b13cd26260d52aea2c940a49ed113b6\", element=\"F35E53873B440B39906AA5C7B9A4C18F_element_633\")>,\n",
       " <selenium.webdriver.remote.webelement.WebElement (session=\"3b13cd26260d52aea2c940a49ed113b6\", element=\"F35E53873B440B39906AA5C7B9A4C18F_element_637\")>,\n",
       " <selenium.webdriver.remote.webelement.WebElement (session=\"3b13cd26260d52aea2c940a49ed113b6\", element=\"F35E53873B440B39906AA5C7B9A4C18F_element_84\")>,\n",
       " <selenium.webdriver.remote.webelement.WebElement (session=\"3b13cd26260d52aea2c940a49ed113b6\", element=\"F35E53873B440B39906AA5C7B9A4C18F_element_87\")>,\n",
       " <selenium.webdriver.remote.webelement.WebElement (session=\"3b13cd26260d52aea2c940a49ed113b6\", element=\"F35E53873B440B39906AA5C7B9A4C18F_element_1121\")>,\n",
       " <selenium.webdriver.remote.webelement.WebElement (session=\"3b13cd26260d52aea2c940a49ed113b6\", element=\"F35E53873B440B39906AA5C7B9A4C18F_element_1122\")>,\n",
       " <selenium.webdriver.remote.webelement.WebElement (session=\"3b13cd26260d52aea2c940a49ed113b6\", element=\"F35E53873B440B39906AA5C7B9A4C18F_element_678\")>,\n",
       " <selenium.webdriver.remote.webelement.WebElement (session=\"3b13cd26260d52aea2c940a49ed113b6\", element=\"F35E53873B440B39906AA5C7B9A4C18F_element_682\")>,\n",
       " <selenium.webdriver.remote.webelement.WebElement (session=\"3b13cd26260d52aea2c940a49ed113b6\", element=\"F35E53873B440B39906AA5C7B9A4C18F_element_104\")>,\n",
       " <selenium.webdriver.remote.webelement.WebElement (session=\"3b13cd26260d52aea2c940a49ed113b6\", element=\"F35E53873B440B39906AA5C7B9A4C18F_element_108\")>,\n",
       " <selenium.webdriver.remote.webelement.WebElement (session=\"3b13cd26260d52aea2c940a49ed113b6\", element=\"F35E53873B440B39906AA5C7B9A4C18F_element_113\")>,\n",
       " <selenium.webdriver.remote.webelement.WebElement (session=\"3b13cd26260d52aea2c940a49ed113b6\", element=\"F35E53873B440B39906AA5C7B9A4C18F_element_118\")>,\n",
       " <selenium.webdriver.remote.webelement.WebElement (session=\"3b13cd26260d52aea2c940a49ed113b6\", element=\"F35E53873B440B39906AA5C7B9A4C18F_element_123\")>,\n",
       " <selenium.webdriver.remote.webelement.WebElement (session=\"3b13cd26260d52aea2c940a49ed113b6\", element=\"F35E53873B440B39906AA5C7B9A4C18F_element_128\")>,\n",
       " <selenium.webdriver.remote.webelement.WebElement (session=\"3b13cd26260d52aea2c940a49ed113b6\", element=\"F35E53873B440B39906AA5C7B9A4C18F_element_133\")>,\n",
       " <selenium.webdriver.remote.webelement.WebElement (session=\"3b13cd26260d52aea2c940a49ed113b6\", element=\"F35E53873B440B39906AA5C7B9A4C18F_element_138\")>,\n",
       " <selenium.webdriver.remote.webelement.WebElement (session=\"3b13cd26260d52aea2c940a49ed113b6\", element=\"F35E53873B440B39906AA5C7B9A4C18F_element_143\")>,\n",
       " <selenium.webdriver.remote.webelement.WebElement (session=\"3b13cd26260d52aea2c940a49ed113b6\", element=\"F35E53873B440B39906AA5C7B9A4C18F_element_1123\")>,\n",
       " <selenium.webdriver.remote.webelement.WebElement (session=\"3b13cd26260d52aea2c940a49ed113b6\", element=\"F35E53873B440B39906AA5C7B9A4C18F_element_1124\")>,\n",
       " <selenium.webdriver.remote.webelement.WebElement (session=\"3b13cd26260d52aea2c940a49ed113b6\", element=\"F35E53873B440B39906AA5C7B9A4C18F_element_1125\")>,\n",
       " <selenium.webdriver.remote.webelement.WebElement (session=\"3b13cd26260d52aea2c940a49ed113b6\", element=\"F35E53873B440B39906AA5C7B9A4C18F_element_1126\")>,\n",
       " <selenium.webdriver.remote.webelement.WebElement (session=\"3b13cd26260d52aea2c940a49ed113b6\", element=\"F35E53873B440B39906AA5C7B9A4C18F_element_1127\")>,\n",
       " <selenium.webdriver.remote.webelement.WebElement (session=\"3b13cd26260d52aea2c940a49ed113b6\", element=\"F35E53873B440B39906AA5C7B9A4C18F_element_1128\")>,\n",
       " <selenium.webdriver.remote.webelement.WebElement (session=\"3b13cd26260d52aea2c940a49ed113b6\", element=\"F35E53873B440B39906AA5C7B9A4C18F_element_1129\")>,\n",
       " <selenium.webdriver.remote.webelement.WebElement (session=\"3b13cd26260d52aea2c940a49ed113b6\", element=\"F35E53873B440B39906AA5C7B9A4C18F_element_1130\")>,\n",
       " <selenium.webdriver.remote.webelement.WebElement (session=\"3b13cd26260d52aea2c940a49ed113b6\", element=\"F35E53873B440B39906AA5C7B9A4C18F_element_1131\")>,\n",
       " <selenium.webdriver.remote.webelement.WebElement (session=\"3b13cd26260d52aea2c940a49ed113b6\", element=\"F35E53873B440B39906AA5C7B9A4C18F_element_1132\")>,\n",
       " <selenium.webdriver.remote.webelement.WebElement (session=\"3b13cd26260d52aea2c940a49ed113b6\", element=\"F35E53873B440B39906AA5C7B9A4C18F_element_1133\")>,\n",
       " <selenium.webdriver.remote.webelement.WebElement (session=\"3b13cd26260d52aea2c940a49ed113b6\", element=\"F35E53873B440B39906AA5C7B9A4C18F_element_1134\")>,\n",
       " <selenium.webdriver.remote.webelement.WebElement (session=\"3b13cd26260d52aea2c940a49ed113b6\", element=\"F35E53873B440B39906AA5C7B9A4C18F_element_1135\")>,\n",
       " <selenium.webdriver.remote.webelement.WebElement (session=\"3b13cd26260d52aea2c940a49ed113b6\", element=\"F35E53873B440B39906AA5C7B9A4C18F_element_1136\")>,\n",
       " <selenium.webdriver.remote.webelement.WebElement (session=\"3b13cd26260d52aea2c940a49ed113b6\", element=\"F35E53873B440B39906AA5C7B9A4C18F_element_1137\")>,\n",
       " <selenium.webdriver.remote.webelement.WebElement (session=\"3b13cd26260d52aea2c940a49ed113b6\", element=\"F35E53873B440B39906AA5C7B9A4C18F_element_1138\")>,\n",
       " <selenium.webdriver.remote.webelement.WebElement (session=\"3b13cd26260d52aea2c940a49ed113b6\", element=\"F35E53873B440B39906AA5C7B9A4C18F_element_1139\")>,\n",
       " <selenium.webdriver.remote.webelement.WebElement (session=\"3b13cd26260d52aea2c940a49ed113b6\", element=\"F35E53873B440B39906AA5C7B9A4C18F_element_1140\")>,\n",
       " <selenium.webdriver.remote.webelement.WebElement (session=\"3b13cd26260d52aea2c940a49ed113b6\", element=\"F35E53873B440B39906AA5C7B9A4C18F_element_1141\")>,\n",
       " <selenium.webdriver.remote.webelement.WebElement (session=\"3b13cd26260d52aea2c940a49ed113b6\", element=\"F35E53873B440B39906AA5C7B9A4C18F_element_1142\")>,\n",
       " <selenium.webdriver.remote.webelement.WebElement (session=\"3b13cd26260d52aea2c940a49ed113b6\", element=\"F35E53873B440B39906AA5C7B9A4C18F_element_1143\")>,\n",
       " <selenium.webdriver.remote.webelement.WebElement (session=\"3b13cd26260d52aea2c940a49ed113b6\", element=\"F35E53873B440B39906AA5C7B9A4C18F_element_1144\")>,\n",
       " <selenium.webdriver.remote.webelement.WebElement (session=\"3b13cd26260d52aea2c940a49ed113b6\", element=\"F35E53873B440B39906AA5C7B9A4C18F_element_1145\")>,\n",
       " <selenium.webdriver.remote.webelement.WebElement (session=\"3b13cd26260d52aea2c940a49ed113b6\", element=\"F35E53873B440B39906AA5C7B9A4C18F_element_1146\")>,\n",
       " <selenium.webdriver.remote.webelement.WebElement (session=\"3b13cd26260d52aea2c940a49ed113b6\", element=\"F35E53873B440B39906AA5C7B9A4C18F_element_1147\")>,\n",
       " <selenium.webdriver.remote.webelement.WebElement (session=\"3b13cd26260d52aea2c940a49ed113b6\", element=\"F35E53873B440B39906AA5C7B9A4C18F_element_1148\")>,\n",
       " <selenium.webdriver.remote.webelement.WebElement (session=\"3b13cd26260d52aea2c940a49ed113b6\", element=\"F35E53873B440B39906AA5C7B9A4C18F_element_1149\")>,\n",
       " <selenium.webdriver.remote.webelement.WebElement (session=\"3b13cd26260d52aea2c940a49ed113b6\", element=\"F35E53873B440B39906AA5C7B9A4C18F_element_1150\")>,\n",
       " <selenium.webdriver.remote.webelement.WebElement (session=\"3b13cd26260d52aea2c940a49ed113b6\", element=\"F35E53873B440B39906AA5C7B9A4C18F_element_1151\")>,\n",
       " <selenium.webdriver.remote.webelement.WebElement (session=\"3b13cd26260d52aea2c940a49ed113b6\", element=\"F35E53873B440B39906AA5C7B9A4C18F_element_1152\")>,\n",
       " <selenium.webdriver.remote.webelement.WebElement (session=\"3b13cd26260d52aea2c940a49ed113b6\", element=\"F35E53873B440B39906AA5C7B9A4C18F_element_1153\")>,\n",
       " <selenium.webdriver.remote.webelement.WebElement (session=\"3b13cd26260d52aea2c940a49ed113b6\", element=\"F35E53873B440B39906AA5C7B9A4C18F_element_1154\")>,\n",
       " <selenium.webdriver.remote.webelement.WebElement (session=\"3b13cd26260d52aea2c940a49ed113b6\", element=\"F35E53873B440B39906AA5C7B9A4C18F_element_1155\")>,\n",
       " <selenium.webdriver.remote.webelement.WebElement (session=\"3b13cd26260d52aea2c940a49ed113b6\", element=\"F35E53873B440B39906AA5C7B9A4C18F_element_1156\")>,\n",
       " <selenium.webdriver.remote.webelement.WebElement (session=\"3b13cd26260d52aea2c940a49ed113b6\", element=\"F35E53873B440B39906AA5C7B9A4C18F_element_1157\")>,\n",
       " <selenium.webdriver.remote.webelement.WebElement (session=\"3b13cd26260d52aea2c940a49ed113b6\", element=\"F35E53873B440B39906AA5C7B9A4C18F_element_1158\")>,\n",
       " <selenium.webdriver.remote.webelement.WebElement (session=\"3b13cd26260d52aea2c940a49ed113b6\", element=\"F35E53873B440B39906AA5C7B9A4C18F_element_1159\")>,\n",
       " <selenium.webdriver.remote.webelement.WebElement (session=\"3b13cd26260d52aea2c940a49ed113b6\", element=\"F35E53873B440B39906AA5C7B9A4C18F_element_1160\")>,\n",
       " <selenium.webdriver.remote.webelement.WebElement (session=\"3b13cd26260d52aea2c940a49ed113b6\", element=\"F35E53873B440B39906AA5C7B9A4C18F_element_1161\")>,\n",
       " <selenium.webdriver.remote.webelement.WebElement (session=\"3b13cd26260d52aea2c940a49ed113b6\", element=\"F35E53873B440B39906AA5C7B9A4C18F_element_1162\")>,\n",
       " <selenium.webdriver.remote.webelement.WebElement (session=\"3b13cd26260d52aea2c940a49ed113b6\", element=\"F35E53873B440B39906AA5C7B9A4C18F_element_1163\")>,\n",
       " <selenium.webdriver.remote.webelement.WebElement (session=\"3b13cd26260d52aea2c940a49ed113b6\", element=\"F35E53873B440B39906AA5C7B9A4C18F_element_1164\")>,\n",
       " <selenium.webdriver.remote.webelement.WebElement (session=\"3b13cd26260d52aea2c940a49ed113b6\", element=\"F35E53873B440B39906AA5C7B9A4C18F_element_1165\")>,\n",
       " <selenium.webdriver.remote.webelement.WebElement (session=\"3b13cd26260d52aea2c940a49ed113b6\", element=\"F35E53873B440B39906AA5C7B9A4C18F_element_1166\")>,\n",
       " <selenium.webdriver.remote.webelement.WebElement (session=\"3b13cd26260d52aea2c940a49ed113b6\", element=\"F35E53873B440B39906AA5C7B9A4C18F_element_1167\")>,\n",
       " <selenium.webdriver.remote.webelement.WebElement (session=\"3b13cd26260d52aea2c940a49ed113b6\", element=\"F35E53873B440B39906AA5C7B9A4C18F_element_158\")>,\n",
       " <selenium.webdriver.remote.webelement.WebElement (session=\"3b13cd26260d52aea2c940a49ed113b6\", element=\"F35E53873B440B39906AA5C7B9A4C18F_element_161\")>,\n",
       " <selenium.webdriver.remote.webelement.WebElement (session=\"3b13cd26260d52aea2c940a49ed113b6\", element=\"F35E53873B440B39906AA5C7B9A4C18F_element_168\")>,\n",
       " <selenium.webdriver.remote.webelement.WebElement (session=\"3b13cd26260d52aea2c940a49ed113b6\", element=\"F35E53873B440B39906AA5C7B9A4C18F_element_171\")>,\n",
       " <selenium.webdriver.remote.webelement.WebElement (session=\"3b13cd26260d52aea2c940a49ed113b6\", element=\"F35E53873B440B39906AA5C7B9A4C18F_element_174\")>,\n",
       " <selenium.webdriver.remote.webelement.WebElement (session=\"3b13cd26260d52aea2c940a49ed113b6\", element=\"F35E53873B440B39906AA5C7B9A4C18F_element_1168\")>,\n",
       " <selenium.webdriver.remote.webelement.WebElement (session=\"3b13cd26260d52aea2c940a49ed113b6\", element=\"F35E53873B440B39906AA5C7B9A4C18F_element_1169\")>,\n",
       " <selenium.webdriver.remote.webelement.WebElement (session=\"3b13cd26260d52aea2c940a49ed113b6\", element=\"F35E53873B440B39906AA5C7B9A4C18F_element_1170\")>,\n",
       " <selenium.webdriver.remote.webelement.WebElement (session=\"3b13cd26260d52aea2c940a49ed113b6\", element=\"F35E53873B440B39906AA5C7B9A4C18F_element_799\")>,\n",
       " <selenium.webdriver.remote.webelement.WebElement (session=\"3b13cd26260d52aea2c940a49ed113b6\", element=\"F35E53873B440B39906AA5C7B9A4C18F_element_803\")>,\n",
       " <selenium.webdriver.remote.webelement.WebElement (session=\"3b13cd26260d52aea2c940a49ed113b6\", element=\"F35E53873B440B39906AA5C7B9A4C18F_element_1171\")>,\n",
       " <selenium.webdriver.remote.webelement.WebElement (session=\"3b13cd26260d52aea2c940a49ed113b6\", element=\"F35E53873B440B39906AA5C7B9A4C18F_element_807\")>,\n",
       " <selenium.webdriver.remote.webelement.WebElement (session=\"3b13cd26260d52aea2c940a49ed113b6\", element=\"F35E53873B440B39906AA5C7B9A4C18F_element_811\")>,\n",
       " <selenium.webdriver.remote.webelement.WebElement (session=\"3b13cd26260d52aea2c940a49ed113b6\", element=\"F35E53873B440B39906AA5C7B9A4C18F_element_815\")>,\n",
       " <selenium.webdriver.remote.webelement.WebElement (session=\"3b13cd26260d52aea2c940a49ed113b6\", element=\"F35E53873B440B39906AA5C7B9A4C18F_element_819\")>,\n",
       " <selenium.webdriver.remote.webelement.WebElement (session=\"3b13cd26260d52aea2c940a49ed113b6\", element=\"F35E53873B440B39906AA5C7B9A4C18F_element_823\")>,\n",
       " <selenium.webdriver.remote.webelement.WebElement (session=\"3b13cd26260d52aea2c940a49ed113b6\", element=\"F35E53873B440B39906AA5C7B9A4C18F_element_827\")>,\n",
       " <selenium.webdriver.remote.webelement.WebElement (session=\"3b13cd26260d52aea2c940a49ed113b6\", element=\"F35E53873B440B39906AA5C7B9A4C18F_element_692\")>,\n",
       " <selenium.webdriver.remote.webelement.WebElement (session=\"3b13cd26260d52aea2c940a49ed113b6\", element=\"F35E53873B440B39906AA5C7B9A4C18F_element_838\")>,\n",
       " <selenium.webdriver.remote.webelement.WebElement (session=\"3b13cd26260d52aea2c940a49ed113b6\", element=\"F35E53873B440B39906AA5C7B9A4C18F_element_842\")>,\n",
       " <selenium.webdriver.remote.webelement.WebElement (session=\"3b13cd26260d52aea2c940a49ed113b6\", element=\"F35E53873B440B39906AA5C7B9A4C18F_element_851\")>,\n",
       " <selenium.webdriver.remote.webelement.WebElement (session=\"3b13cd26260d52aea2c940a49ed113b6\", element=\"F35E53873B440B39906AA5C7B9A4C18F_element_209\")>,\n",
       " <selenium.webdriver.remote.webelement.WebElement (session=\"3b13cd26260d52aea2c940a49ed113b6\", element=\"F35E53873B440B39906AA5C7B9A4C18F_element_215\")>,\n",
       " <selenium.webdriver.remote.webelement.WebElement (session=\"3b13cd26260d52aea2c940a49ed113b6\", element=\"F35E53873B440B39906AA5C7B9A4C18F_element_221\")>,\n",
       " <selenium.webdriver.remote.webelement.WebElement (session=\"3b13cd26260d52aea2c940a49ed113b6\", element=\"F35E53873B440B39906AA5C7B9A4C18F_element_234\")>,\n",
       " <selenium.webdriver.remote.webelement.WebElement (session=\"3b13cd26260d52aea2c940a49ed113b6\", element=\"F35E53873B440B39906AA5C7B9A4C18F_element_240\")>,\n",
       " <selenium.webdriver.remote.webelement.WebElement (session=\"3b13cd26260d52aea2c940a49ed113b6\", element=\"F35E53873B440B39906AA5C7B9A4C18F_element_245\")>,\n",
       " <selenium.webdriver.remote.webelement.WebElement (session=\"3b13cd26260d52aea2c940a49ed113b6\", element=\"F35E53873B440B39906AA5C7B9A4C18F_element_258\")>,\n",
       " <selenium.webdriver.remote.webelement.WebElement (session=\"3b13cd26260d52aea2c940a49ed113b6\", element=\"F35E53873B440B39906AA5C7B9A4C18F_element_263\")>,\n",
       " <selenium.webdriver.remote.webelement.WebElement (session=\"3b13cd26260d52aea2c940a49ed113b6\", element=\"F35E53873B440B39906AA5C7B9A4C18F_element_268\")>,\n",
       " <selenium.webdriver.remote.webelement.WebElement (session=\"3b13cd26260d52aea2c940a49ed113b6\", element=\"F35E53873B440B39906AA5C7B9A4C18F_element_273\")>,\n",
       " <selenium.webdriver.remote.webelement.WebElement (session=\"3b13cd26260d52aea2c940a49ed113b6\", element=\"F35E53873B440B39906AA5C7B9A4C18F_element_278\")>,\n",
       " <selenium.webdriver.remote.webelement.WebElement (session=\"3b13cd26260d52aea2c940a49ed113b6\", element=\"F35E53873B440B39906AA5C7B9A4C18F_element_291\")>,\n",
       " <selenium.webdriver.remote.webelement.WebElement (session=\"3b13cd26260d52aea2c940a49ed113b6\", element=\"F35E53873B440B39906AA5C7B9A4C18F_element_296\")>,\n",
       " <selenium.webdriver.remote.webelement.WebElement (session=\"3b13cd26260d52aea2c940a49ed113b6\", element=\"F35E53873B440B39906AA5C7B9A4C18F_element_301\")>,\n",
       " <selenium.webdriver.remote.webelement.WebElement (session=\"3b13cd26260d52aea2c940a49ed113b6\", element=\"F35E53873B440B39906AA5C7B9A4C18F_element_314\")>,\n",
       " <selenium.webdriver.remote.webelement.WebElement (session=\"3b13cd26260d52aea2c940a49ed113b6\", element=\"F35E53873B440B39906AA5C7B9A4C18F_element_319\")>,\n",
       " <selenium.webdriver.remote.webelement.WebElement (session=\"3b13cd26260d52aea2c940a49ed113b6\", element=\"F35E53873B440B39906AA5C7B9A4C18F_element_332\")>,\n",
       " <selenium.webdriver.remote.webelement.WebElement (session=\"3b13cd26260d52aea2c940a49ed113b6\", element=\"F35E53873B440B39906AA5C7B9A4C18F_element_337\")>,\n",
       " <selenium.webdriver.remote.webelement.WebElement (session=\"3b13cd26260d52aea2c940a49ed113b6\", element=\"F35E53873B440B39906AA5C7B9A4C18F_element_342\")>,\n",
       " <selenium.webdriver.remote.webelement.WebElement (session=\"3b13cd26260d52aea2c940a49ed113b6\", element=\"F35E53873B440B39906AA5C7B9A4C18F_element_355\")>,\n",
       " <selenium.webdriver.remote.webelement.WebElement (session=\"3b13cd26260d52aea2c940a49ed113b6\", element=\"F35E53873B440B39906AA5C7B9A4C18F_element_360\")>,\n",
       " <selenium.webdriver.remote.webelement.WebElement (session=\"3b13cd26260d52aea2c940a49ed113b6\", element=\"F35E53873B440B39906AA5C7B9A4C18F_element_366\")>,\n",
       " <selenium.webdriver.remote.webelement.WebElement (session=\"3b13cd26260d52aea2c940a49ed113b6\", element=\"F35E53873B440B39906AA5C7B9A4C18F_element_372\")>,\n",
       " <selenium.webdriver.remote.webelement.WebElement (session=\"3b13cd26260d52aea2c940a49ed113b6\", element=\"F35E53873B440B39906AA5C7B9A4C18F_element_379\")>,\n",
       " <selenium.webdriver.remote.webelement.WebElement (session=\"3b13cd26260d52aea2c940a49ed113b6\", element=\"F35E53873B440B39906AA5C7B9A4C18F_element_391\")>,\n",
       " <selenium.webdriver.remote.webelement.WebElement (session=\"3b13cd26260d52aea2c940a49ed113b6\", element=\"F35E53873B440B39906AA5C7B9A4C18F_element_396\")>,\n",
       " <selenium.webdriver.remote.webelement.WebElement (session=\"3b13cd26260d52aea2c940a49ed113b6\", element=\"F35E53873B440B39906AA5C7B9A4C18F_element_421\")>,\n",
       " <selenium.webdriver.remote.webelement.WebElement (session=\"3b13cd26260d52aea2c940a49ed113b6\", element=\"F35E53873B440B39906AA5C7B9A4C18F_element_424\")>,\n",
       " <selenium.webdriver.remote.webelement.WebElement (session=\"3b13cd26260d52aea2c940a49ed113b6\", element=\"F35E53873B440B39906AA5C7B9A4C18F_element_427\")>,\n",
       " <selenium.webdriver.remote.webelement.WebElement (session=\"3b13cd26260d52aea2c940a49ed113b6\", element=\"F35E53873B440B39906AA5C7B9A4C18F_element_1172\")>,\n",
       " <selenium.webdriver.remote.webelement.WebElement (session=\"3b13cd26260d52aea2c940a49ed113b6\", element=\"F35E53873B440B39906AA5C7B9A4C18F_element_1173\")>,\n",
       " <selenium.webdriver.remote.webelement.WebElement (session=\"3b13cd26260d52aea2c940a49ed113b6\", element=\"F35E53873B440B39906AA5C7B9A4C18F_element_1174\")>,\n",
       " <selenium.webdriver.remote.webelement.WebElement (session=\"3b13cd26260d52aea2c940a49ed113b6\", element=\"F35E53873B440B39906AA5C7B9A4C18F_element_1175\")>,\n",
       " <selenium.webdriver.remote.webelement.WebElement (session=\"3b13cd26260d52aea2c940a49ed113b6\", element=\"F35E53873B440B39906AA5C7B9A4C18F_element_437\")>,\n",
       " <selenium.webdriver.remote.webelement.WebElement (session=\"3b13cd26260d52aea2c940a49ed113b6\", element=\"F35E53873B440B39906AA5C7B9A4C18F_element_1176\")>,\n",
       " <selenium.webdriver.remote.webelement.WebElement (session=\"3b13cd26260d52aea2c940a49ed113b6\", element=\"F35E53873B440B39906AA5C7B9A4C18F_element_440\")>,\n",
       " <selenium.webdriver.remote.webelement.WebElement (session=\"3b13cd26260d52aea2c940a49ed113b6\", element=\"F35E53873B440B39906AA5C7B9A4C18F_element_443\")>,\n",
       " <selenium.webdriver.remote.webelement.WebElement (session=\"3b13cd26260d52aea2c940a49ed113b6\", element=\"F35E53873B440B39906AA5C7B9A4C18F_element_446\")>,\n",
       " <selenium.webdriver.remote.webelement.WebElement (session=\"3b13cd26260d52aea2c940a49ed113b6\", element=\"F35E53873B440B39906AA5C7B9A4C18F_element_451\")>,\n",
       " <selenium.webdriver.remote.webelement.WebElement (session=\"3b13cd26260d52aea2c940a49ed113b6\", element=\"F35E53873B440B39906AA5C7B9A4C18F_element_454\")>,\n",
       " <selenium.webdriver.remote.webelement.WebElement (session=\"3b13cd26260d52aea2c940a49ed113b6\", element=\"F35E53873B440B39906AA5C7B9A4C18F_element_457\")>,\n",
       " <selenium.webdriver.remote.webelement.WebElement (session=\"3b13cd26260d52aea2c940a49ed113b6\", element=\"F35E53873B440B39906AA5C7B9A4C18F_element_460\")>,\n",
       " <selenium.webdriver.remote.webelement.WebElement (session=\"3b13cd26260d52aea2c940a49ed113b6\", element=\"F35E53873B440B39906AA5C7B9A4C18F_element_463\")>,\n",
       " <selenium.webdriver.remote.webelement.WebElement (session=\"3b13cd26260d52aea2c940a49ed113b6\", element=\"F35E53873B440B39906AA5C7B9A4C18F_element_466\")>,\n",
       " <selenium.webdriver.remote.webelement.WebElement (session=\"3b13cd26260d52aea2c940a49ed113b6\", element=\"F35E53873B440B39906AA5C7B9A4C18F_element_469\")>,\n",
       " <selenium.webdriver.remote.webelement.WebElement (session=\"3b13cd26260d52aea2c940a49ed113b6\", element=\"F35E53873B440B39906AA5C7B9A4C18F_element_472\")>,\n",
       " <selenium.webdriver.remote.webelement.WebElement (session=\"3b13cd26260d52aea2c940a49ed113b6\", element=\"F35E53873B440B39906AA5C7B9A4C18F_element_475\")>,\n",
       " <selenium.webdriver.remote.webelement.WebElement (session=\"3b13cd26260d52aea2c940a49ed113b6\", element=\"F35E53873B440B39906AA5C7B9A4C18F_element_1177\")>,\n",
       " <selenium.webdriver.remote.webelement.WebElement (session=\"3b13cd26260d52aea2c940a49ed113b6\", element=\"F35E53873B440B39906AA5C7B9A4C18F_element_479\")>,\n",
       " <selenium.webdriver.remote.webelement.WebElement (session=\"3b13cd26260d52aea2c940a49ed113b6\", element=\"F35E53873B440B39906AA5C7B9A4C18F_element_482\")>]"
      ]
     },
     "execution_count": 150,
     "metadata": {},
     "output_type": "execute_result"
    }
   ],
   "source": [
    "driver.find_elements(By.XPATH, \"//li//a\")"
   ]
  },
  {
   "cell_type": "code",
   "execution_count": 151,
   "metadata": {},
   "outputs": [],
   "source": [
    "links = driver.find_elements(By.XPATH, \"//li//a\")"
   ]
  },
  {
   "cell_type": "code",
   "execution_count": 152,
   "metadata": {},
   "outputs": [
    {
     "data": {
      "text/plain": [
       "['https://en.wikipedia.org/wiki/Main_Page',\n",
       " 'https://en.wikipedia.org/wiki/Wikipedia:Contents',\n",
       " 'https://en.wikipedia.org/wiki/Portal:Current_events',\n",
       " 'https://en.wikipedia.org/wiki/Special:Random',\n",
       " 'https://en.wikipedia.org/wiki/Wikipedia:About',\n",
       " 'https://en.wikipedia.org/wiki/Wikipedia:Contact_us',\n",
       " 'https://donate.wikimedia.org/wiki/Special:FundraiserRedirector?utm_source=donate&utm_medium=sidebar&utm_campaign=C13_en.wikipedia.org&uselang=en',\n",
       " 'https://en.wikipedia.org/wiki/Help:Contents',\n",
       " 'https://en.wikipedia.org/wiki/Help:Introduction',\n",
       " 'https://en.wikipedia.org/wiki/Wikipedia:Community_portal',\n",
       " 'https://en.wikipedia.org/wiki/Special:RecentChanges',\n",
       " 'https://en.wikipedia.org/wiki/Wikipedia:File_upload_wizard',\n",
       " 'https://en.wikipedia.org/w/index.php?title=Special:CreateAccount&returnto=Python',\n",
       " 'https://en.wikipedia.org/w/index.php?title=Special:UserLogin&returnto=Python',\n",
       " 'https://en.wikipedia.org/w/index.php?title=Special:CreateAccount&returnto=Python',\n",
       " 'https://en.wikipedia.org/w/index.php?title=Special:UserLogin&returnto=Python',\n",
       " 'https://en.wikipedia.org/wiki/Special:MyContributions',\n",
       " 'https://en.wikipedia.org/wiki/Special:MyTalk',\n",
       " 'https://en.wikipedia.org/wiki/Python#',\n",
       " 'https://en.wikipedia.org/wiki/Python#Snakes',\n",
       " 'https://en.wikipedia.org/wiki/Python#Computing',\n",
       " 'https://en.wikipedia.org/wiki/Python#People',\n",
       " 'https://en.wikipedia.org/wiki/Python#Roller_coasters',\n",
       " 'https://en.wikipedia.org/wiki/Python#Vehicles',\n",
       " 'https://en.wikipedia.org/wiki/Python#Weaponry',\n",
       " 'https://en.wikipedia.org/wiki/Python#Other_uses',\n",
       " 'https://en.wikipedia.org/wiki/Python#See_also',\n",
       " 'https://af.wikipedia.org/wiki/Python',\n",
       " 'https://als.wikipedia.org/wiki/Python',\n",
       " 'https://ar.wikipedia.org/wiki/%D8%A8%D8%A7%D9%8A%D8%AB%D9%88%D9%86_(%D8%AA%D9%88%D8%B6%D9%8A%D8%AD)',\n",
       " 'https://az.wikipedia.org/wiki/Python_(d%C9%99qiql%C9%99%C5%9Fdirm%C9%99)',\n",
       " 'https://bn.wikipedia.org/wiki/%E0%A6%AA%E0%A6%BE%E0%A6%87%E0%A6%A5%E0%A6%A8_(%E0%A6%A6%E0%A7%8D%E0%A6%AC%E0%A7%8D%E0%A6%AF%E0%A6%B0%E0%A7%8D%E0%A6%A5%E0%A6%A4%E0%A6%BE_%E0%A6%A8%E0%A6%BF%E0%A6%B0%E0%A6%B8%E0%A6%A8)',\n",
       " 'https://be.wikipedia.org/wiki/Python',\n",
       " 'https://bg.wikipedia.org/wiki/%D0%9F%D0%B8%D1%82%D0%BE%D0%BD_(%D0%BF%D0%BE%D1%8F%D1%81%D0%BD%D0%B5%D0%BD%D0%B8%D0%B5)',\n",
       " 'https://cs.wikipedia.org/wiki/Python_(rozcestn%C3%ADk)',\n",
       " 'https://da.wikipedia.org/wiki/Python',\n",
       " 'https://de.wikipedia.org/wiki/Python',\n",
       " 'https://eo.wikipedia.org/wiki/Pitono_(apartigilo)',\n",
       " 'https://eu.wikipedia.org/wiki/Python_(argipena)',\n",
       " 'https://fa.wikipedia.org/wiki/%D9%BE%D8%A7%DB%8C%D8%AA%D9%88%D9%86',\n",
       " 'https://fr.wikipedia.org/wiki/Python',\n",
       " 'https://ko.wikipedia.org/wiki/%ED%8C%8C%EC%9D%B4%EC%84%A0',\n",
       " 'https://hr.wikipedia.org/wiki/Python_(razdvojba)',\n",
       " 'https://io.wikipedia.org/wiki/Pitono',\n",
       " 'https://id.wikipedia.org/wiki/Python',\n",
       " 'https://ia.wikipedia.org/wiki/Python_(disambiguation)',\n",
       " 'https://is.wikipedia.org/wiki/Python_(a%C3%B0greining)',\n",
       " 'https://it.wikipedia.org/wiki/Python_(disambigua)',\n",
       " 'https://he.wikipedia.org/wiki/%D7%A4%D7%99%D7%AA%D7%95%D7%9F',\n",
       " 'https://ka.wikipedia.org/wiki/%E1%83%9E%E1%83%98%E1%83%97%E1%83%9D%E1%83%9C%E1%83%98_(%E1%83%9B%E1%83%A0%E1%83%90%E1%83%95%E1%83%90%E1%83%9A%E1%83%9B%E1%83%9C%E1%83%98%E1%83%A8%E1%83%95%E1%83%9C%E1%83%94%E1%83%9A%E1%83%9D%E1%83%95%E1%83%90%E1%83%9C%E1%83%98)',\n",
       " 'https://kg.wikipedia.org/wiki/Mboma_(nyoka)',\n",
       " 'https://la.wikipedia.org/wiki/Python_(discretiva)',\n",
       " 'https://lb.wikipedia.org/wiki/Python',\n",
       " 'https://hu.wikipedia.org/wiki/Python_(egy%C3%A9rtelm%C5%B1s%C3%ADt%C5%91_lap)',\n",
       " 'https://mr.wikipedia.org/wiki/%E0%A4%AA%E0%A4%BE%E0%A4%AF%E0%A4%A5%E0%A5%89%E0%A4%A8_(%E0%A4%86%E0%A4%9C%E0%A5%8D%E0%A4%9E%E0%A4%BE%E0%A4%B5%E0%A4%B2%E0%A5%80_%E0%A4%AD%E0%A4%BE%E0%A4%B7%E0%A4%BE)',\n",
       " 'https://nl.wikipedia.org/wiki/Python',\n",
       " 'https://ja.wikipedia.org/wiki/%E3%83%91%E3%82%A4%E3%82%BD%E3%83%B3',\n",
       " 'https://no.wikipedia.org/wiki/Pyton',\n",
       " 'https://pl.wikipedia.org/wiki/Pyton',\n",
       " 'https://pt.wikipedia.org/wiki/Python_(desambigua%C3%A7%C3%A3o)',\n",
       " 'https://ru.wikipedia.org/wiki/Python_(%D0%B7%D0%BD%D0%B0%D1%87%D0%B5%D0%BD%D0%B8%D1%8F)',\n",
       " 'https://sk.wikipedia.org/wiki/Python',\n",
       " 'https://sr.wikipedia.org/wiki/%D0%9F%D0%B8%D1%82%D0%BE%D0%BD_(%D0%B2%D0%B8%D1%88%D0%B5%D0%B7%D0%BD%D0%B0%D1%87%D0%BD%D0%B0_%D0%BE%D0%B4%D1%80%D0%B5%D0%B4%D0%BD%D0%B8%D1%86%D0%B0)',\n",
       " 'https://sh.wikipedia.org/wiki/Python',\n",
       " 'https://fi.wikipedia.org/wiki/Python',\n",
       " 'https://sv.wikipedia.org/wiki/Pyton',\n",
       " 'https://th.wikipedia.org/wiki/%E0%B9%84%E0%B8%9E%E0%B8%97%E0%B8%AD%E0%B8%99',\n",
       " 'https://tr.wikipedia.org/wiki/Python_(anlam_ayr%C4%B1m%C4%B1)',\n",
       " 'https://uk.wikipedia.org/wiki/%D0%9F%D1%96%D1%84%D0%BE%D0%BD',\n",
       " 'https://ur.wikipedia.org/wiki/%D9%BE%D8%A7%D8%A6%DB%8C%D8%AA%DA%BE%D9%88%D9%86',\n",
       " 'https://vi.wikipedia.org/wiki/Python',\n",
       " 'https://zh.wikipedia.org/wiki/Python_(%E6%B6%88%E6%AD%A7%E4%B9%89)',\n",
       " 'https://en.wikipedia.org/wiki/Python',\n",
       " 'https://en.wikipedia.org/wiki/Talk:Python',\n",
       " 'https://en.wikipedia.org/wiki/Python',\n",
       " 'https://en.wikipedia.org/w/index.php?title=Python&action=edit&editintro=Template:Disambig_editintro',\n",
       " 'https://en.wikipedia.org/w/index.php?title=Python&action=history',\n",
       " 'https://en.wikipedia.org/wiki/Python',\n",
       " 'https://en.wikipedia.org/w/index.php?title=Python&action=edit',\n",
       " 'https://en.wikipedia.org/w/index.php?title=Python&action=history',\n",
       " 'https://en.wikipedia.org/wiki/Special:WhatLinksHere/Python',\n",
       " 'https://en.wikipedia.org/wiki/Special:RecentChangesLinked/Python',\n",
       " 'https://en.wikipedia.org/wiki/Wikipedia:File_Upload_Wizard',\n",
       " 'https://en.wikipedia.org/wiki/Special:SpecialPages',\n",
       " 'https://en.wikipedia.org/w/index.php?title=Python&oldid=1182751793',\n",
       " 'https://en.wikipedia.org/w/index.php?title=Python&action=info',\n",
       " 'https://en.wikipedia.org/w/index.php?title=Special:CiteThisPage&page=Python&id=1182751793&wpFormIdentifier=titleform',\n",
       " 'https://en.wikipedia.org/w/index.php?title=Special:UrlShortener&url=https%3A%2F%2Fen.wikipedia.org%2Fwiki%2FPython',\n",
       " 'https://www.wikidata.org/wiki/Special:EntityPage/Q747452',\n",
       " 'https://www.wikidata.org/wiki/Special:EntityPage/Q747452#sitelinks-wikipedia',\n",
       " 'https://en.wikipedia.org/w/index.php?title=Special:DownloadAsPdf&page=Python&action=show-download-screen',\n",
       " 'https://en.wikipedia.org/w/index.php?title=Python&printable=yes',\n",
       " 'https://commons.wikimedia.org/wiki/Category:Python',\n",
       " 'https://en.wikipedia.org/wiki/Pythonidae',\n",
       " 'https://en.wikipedia.org/wiki/Python_(genus)',\n",
       " 'https://en.wikipedia.org/wiki/Python_(mythology)',\n",
       " 'https://en.wikipedia.org/wiki/Python_(programming_language)',\n",
       " 'https://en.wikipedia.org/wiki/CMU_Common_Lisp',\n",
       " 'https://en.wikipedia.org/wiki/PERQ#PERQ_3',\n",
       " 'https://en.wikipedia.org/wiki/Python_of_Aenus',\n",
       " 'https://en.wikipedia.org/wiki/Python_(painter)',\n",
       " 'https://en.wikipedia.org/wiki/Python_of_Byzantium',\n",
       " 'https://en.wikipedia.org/wiki/Python_of_Catana',\n",
       " 'https://en.wikipedia.org/wiki/Python_Anghelo',\n",
       " 'https://en.wikipedia.org/wiki/Python_(Efteling)',\n",
       " 'https://en.wikipedia.org/wiki/Python_(Busch_Gardens_Tampa_Bay)',\n",
       " 'https://en.wikipedia.org/wiki/Python_(Coney_Island,_Cincinnati,_Ohio)',\n",
       " 'https://en.wikipedia.org/wiki/Python_(automobile_maker)',\n",
       " 'https://en.wikipedia.org/wiki/Python_(Ford_prototype)',\n",
       " 'https://en.wikipedia.org/wiki/Python_(missile)',\n",
       " 'https://en.wikipedia.org/wiki/Python_(nuclear_primary)',\n",
       " 'https://en.wikipedia.org/wiki/Colt_Python',\n",
       " 'https://en.wikipedia.org/wiki/Python_(codename)',\n",
       " 'https://en.wikipedia.org/wiki/Python_(film)',\n",
       " 'https://en.wikipedia.org/wiki/Monty_Python',\n",
       " 'https://en.wikipedia.org/wiki/Python_(Monty)_Pictures',\n",
       " 'https://en.wikipedia.org/wiki/Timon_of_Phlius',\n",
       " 'https://en.wikipedia.org/wiki/Pyton',\n",
       " 'https://en.wikipedia.org/wiki/Pithon',\n",
       " 'https://en.wikipedia.org/wiki/Category:Disambiguation_pages',\n",
       " 'https://en.wikipedia.org/wiki/Category:Human_name_disambiguation_pages',\n",
       " 'https://en.wikipedia.org/wiki/Category:Disambiguation_pages_with_given-name-holder_lists',\n",
       " 'https://en.wikipedia.org/wiki/Category:Short_description_is_different_from_Wikidata',\n",
       " 'https://en.wikipedia.org/wiki/Category:All_article_disambiguation_pages',\n",
       " 'https://en.wikipedia.org/wiki/Category:All_disambiguation_pages',\n",
       " 'https://en.wikipedia.org/wiki/Category:Animal_common_name_disambiguation_pages',\n",
       " 'https://en.wikipedia.org/wiki/Wikipedia:Text_of_the_Creative_Commons_Attribution-ShareAlike_4.0_International_License',\n",
       " 'https://en.wikipedia.org/wiki/Wikipedia:Text_of_the_Creative_Commons_Attribution-ShareAlike_4.0_International_License',\n",
       " 'https://foundation.wikimedia.org/wiki/Terms_of_Use',\n",
       " 'https://foundation.wikimedia.org/wiki/Privacy_policy',\n",
       " 'https://www.wikimediafoundation.org/',\n",
       " 'https://foundation.wikimedia.org/wiki/Special:MyLanguage/Policy:Privacy_policy',\n",
       " 'https://en.wikipedia.org/wiki/Wikipedia:About',\n",
       " 'https://en.wikipedia.org/wiki/Wikipedia:General_disclaimer',\n",
       " 'https://en.wikipedia.org/wiki/Wikipedia:Contact_us',\n",
       " 'https://foundation.wikimedia.org/wiki/Special:MyLanguage/Universal_Code_of_Conduct',\n",
       " 'https://developer.wikimedia.org/',\n",
       " 'https://stats.wikimedia.org/#/en.wikipedia.org',\n",
       " 'https://foundation.wikimedia.org/wiki/Special:MyLanguage/Policy:Cookie_statement',\n",
       " 'https://en.m.wikipedia.org/w/index.php?title=Python&mobileaction=toggle_view_mobile',\n",
       " 'https://en.wikipedia.org/wiki/Python#',\n",
       " 'https://wikimediafoundation.org/',\n",
       " 'https://www.mediawiki.org/']"
      ]
     },
     "execution_count": 152,
     "metadata": {},
     "output_type": "execute_result"
    }
   ],
   "source": [
    "mi_nueva_lista = []\n",
    "for e in links:\n",
    "    mi_nueva_lista.append(e.get_attribute(\"href\"))\n",
    "\n",
    "mi_nueva_lista"
   ]
  },
  {
   "cell_type": "code",
   "execution_count": 121,
   "metadata": {},
   "outputs": [],
   "source": [
    "mi_nueva_lista = [e.get_attribute(\"href\") for e in links ]"
   ]
  },
  {
   "cell_type": "code",
   "execution_count": 112,
   "metadata": {},
   "outputs": [
    {
     "data": {
      "text/plain": [
       "[<selenium.webdriver.remote.webelement.WebElement (session=\"6155eaea91315554c376e9ce535008c2\", element=\"91E50AC36CE96D200E82D7B416DDBD12_element_611\")>,\n",
       " <selenium.webdriver.remote.webelement.WebElement (session=\"6155eaea91315554c376e9ce535008c2\", element=\"91E50AC36CE96D200E82D7B416DDBD12_element_615\")>,\n",
       " <selenium.webdriver.remote.webelement.WebElement (session=\"6155eaea91315554c376e9ce535008c2\", element=\"91E50AC36CE96D200E82D7B416DDBD12_element_619\")>,\n",
       " <selenium.webdriver.remote.webelement.WebElement (session=\"6155eaea91315554c376e9ce535008c2\", element=\"91E50AC36CE96D200E82D7B416DDBD12_element_623\")>,\n",
       " <selenium.webdriver.remote.webelement.WebElement (session=\"6155eaea91315554c376e9ce535008c2\", element=\"91E50AC36CE96D200E82D7B416DDBD12_element_627\")>,\n",
       " <selenium.webdriver.remote.webelement.WebElement (session=\"6155eaea91315554c376e9ce535008c2\", element=\"91E50AC36CE96D200E82D7B416DDBD12_element_631\")>,\n",
       " <selenium.webdriver.remote.webelement.WebElement (session=\"6155eaea91315554c376e9ce535008c2\", element=\"91E50AC36CE96D200E82D7B416DDBD12_element_635\")>,\n",
       " <selenium.webdriver.remote.webelement.WebElement (session=\"6155eaea91315554c376e9ce535008c2\", element=\"91E50AC36CE96D200E82D7B416DDBD12_element_644\")>,\n",
       " <selenium.webdriver.remote.webelement.WebElement (session=\"6155eaea91315554c376e9ce535008c2\", element=\"91E50AC36CE96D200E82D7B416DDBD12_element_648\")>,\n",
       " <selenium.webdriver.remote.webelement.WebElement (session=\"6155eaea91315554c376e9ce535008c2\", element=\"91E50AC36CE96D200E82D7B416DDBD12_element_652\")>,\n",
       " <selenium.webdriver.remote.webelement.WebElement (session=\"6155eaea91315554c376e9ce535008c2\", element=\"91E50AC36CE96D200E82D7B416DDBD12_element_656\")>,\n",
       " <selenium.webdriver.remote.webelement.WebElement (session=\"6155eaea91315554c376e9ce535008c2\", element=\"91E50AC36CE96D200E82D7B416DDBD12_element_660\")>,\n",
       " <selenium.webdriver.remote.webelement.WebElement (session=\"6155eaea91315554c376e9ce535008c2\", element=\"91E50AC36CE96D200E82D7B416DDBD12_element_86\")>,\n",
       " <selenium.webdriver.remote.webelement.WebElement (session=\"6155eaea91315554c376e9ce535008c2\", element=\"91E50AC36CE96D200E82D7B416DDBD12_element_89\")>,\n",
       " <selenium.webdriver.remote.webelement.WebElement (session=\"6155eaea91315554c376e9ce535008c2\", element=\"91E50AC36CE96D200E82D7B416DDBD12_element_1140\")>,\n",
       " <selenium.webdriver.remote.webelement.WebElement (session=\"6155eaea91315554c376e9ce535008c2\", element=\"91E50AC36CE96D200E82D7B416DDBD12_element_1141\")>,\n",
       " <selenium.webdriver.remote.webelement.WebElement (session=\"6155eaea91315554c376e9ce535008c2\", element=\"91E50AC36CE96D200E82D7B416DDBD12_element_702\")>,\n",
       " <selenium.webdriver.remote.webelement.WebElement (session=\"6155eaea91315554c376e9ce535008c2\", element=\"91E50AC36CE96D200E82D7B416DDBD12_element_706\")>,\n",
       " <selenium.webdriver.remote.webelement.WebElement (session=\"6155eaea91315554c376e9ce535008c2\", element=\"91E50AC36CE96D200E82D7B416DDBD12_element_106\")>,\n",
       " <selenium.webdriver.remote.webelement.WebElement (session=\"6155eaea91315554c376e9ce535008c2\", element=\"91E50AC36CE96D200E82D7B416DDBD12_element_110\")>,\n",
       " <selenium.webdriver.remote.webelement.WebElement (session=\"6155eaea91315554c376e9ce535008c2\", element=\"91E50AC36CE96D200E82D7B416DDBD12_element_115\")>,\n",
       " <selenium.webdriver.remote.webelement.WebElement (session=\"6155eaea91315554c376e9ce535008c2\", element=\"91E50AC36CE96D200E82D7B416DDBD12_element_120\")>,\n",
       " <selenium.webdriver.remote.webelement.WebElement (session=\"6155eaea91315554c376e9ce535008c2\", element=\"91E50AC36CE96D200E82D7B416DDBD12_element_125\")>,\n",
       " <selenium.webdriver.remote.webelement.WebElement (session=\"6155eaea91315554c376e9ce535008c2\", element=\"91E50AC36CE96D200E82D7B416DDBD12_element_130\")>,\n",
       " <selenium.webdriver.remote.webelement.WebElement (session=\"6155eaea91315554c376e9ce535008c2\", element=\"91E50AC36CE96D200E82D7B416DDBD12_element_135\")>,\n",
       " <selenium.webdriver.remote.webelement.WebElement (session=\"6155eaea91315554c376e9ce535008c2\", element=\"91E50AC36CE96D200E82D7B416DDBD12_element_140\")>,\n",
       " <selenium.webdriver.remote.webelement.WebElement (session=\"6155eaea91315554c376e9ce535008c2\", element=\"91E50AC36CE96D200E82D7B416DDBD12_element_145\")>,\n",
       " <selenium.webdriver.remote.webelement.WebElement (session=\"6155eaea91315554c376e9ce535008c2\", element=\"91E50AC36CE96D200E82D7B416DDBD12_element_1142\")>,\n",
       " <selenium.webdriver.remote.webelement.WebElement (session=\"6155eaea91315554c376e9ce535008c2\", element=\"91E50AC36CE96D200E82D7B416DDBD12_element_1143\")>,\n",
       " <selenium.webdriver.remote.webelement.WebElement (session=\"6155eaea91315554c376e9ce535008c2\", element=\"91E50AC36CE96D200E82D7B416DDBD12_element_1144\")>,\n",
       " <selenium.webdriver.remote.webelement.WebElement (session=\"6155eaea91315554c376e9ce535008c2\", element=\"91E50AC36CE96D200E82D7B416DDBD12_element_1145\")>,\n",
       " <selenium.webdriver.remote.webelement.WebElement (session=\"6155eaea91315554c376e9ce535008c2\", element=\"91E50AC36CE96D200E82D7B416DDBD12_element_1146\")>,\n",
       " <selenium.webdriver.remote.webelement.WebElement (session=\"6155eaea91315554c376e9ce535008c2\", element=\"91E50AC36CE96D200E82D7B416DDBD12_element_1147\")>,\n",
       " <selenium.webdriver.remote.webelement.WebElement (session=\"6155eaea91315554c376e9ce535008c2\", element=\"91E50AC36CE96D200E82D7B416DDBD12_element_1148\")>,\n",
       " <selenium.webdriver.remote.webelement.WebElement (session=\"6155eaea91315554c376e9ce535008c2\", element=\"91E50AC36CE96D200E82D7B416DDBD12_element_1149\")>,\n",
       " <selenium.webdriver.remote.webelement.WebElement (session=\"6155eaea91315554c376e9ce535008c2\", element=\"91E50AC36CE96D200E82D7B416DDBD12_element_1150\")>,\n",
       " <selenium.webdriver.remote.webelement.WebElement (session=\"6155eaea91315554c376e9ce535008c2\", element=\"91E50AC36CE96D200E82D7B416DDBD12_element_1151\")>,\n",
       " <selenium.webdriver.remote.webelement.WebElement (session=\"6155eaea91315554c376e9ce535008c2\", element=\"91E50AC36CE96D200E82D7B416DDBD12_element_1152\")>,\n",
       " <selenium.webdriver.remote.webelement.WebElement (session=\"6155eaea91315554c376e9ce535008c2\", element=\"91E50AC36CE96D200E82D7B416DDBD12_element_1153\")>,\n",
       " <selenium.webdriver.remote.webelement.WebElement (session=\"6155eaea91315554c376e9ce535008c2\", element=\"91E50AC36CE96D200E82D7B416DDBD12_element_1154\")>,\n",
       " <selenium.webdriver.remote.webelement.WebElement (session=\"6155eaea91315554c376e9ce535008c2\", element=\"91E50AC36CE96D200E82D7B416DDBD12_element_1155\")>,\n",
       " <selenium.webdriver.remote.webelement.WebElement (session=\"6155eaea91315554c376e9ce535008c2\", element=\"91E50AC36CE96D200E82D7B416DDBD12_element_1156\")>,\n",
       " <selenium.webdriver.remote.webelement.WebElement (session=\"6155eaea91315554c376e9ce535008c2\", element=\"91E50AC36CE96D200E82D7B416DDBD12_element_1157\")>,\n",
       " <selenium.webdriver.remote.webelement.WebElement (session=\"6155eaea91315554c376e9ce535008c2\", element=\"91E50AC36CE96D200E82D7B416DDBD12_element_1158\")>,\n",
       " <selenium.webdriver.remote.webelement.WebElement (session=\"6155eaea91315554c376e9ce535008c2\", element=\"91E50AC36CE96D200E82D7B416DDBD12_element_1159\")>,\n",
       " <selenium.webdriver.remote.webelement.WebElement (session=\"6155eaea91315554c376e9ce535008c2\", element=\"91E50AC36CE96D200E82D7B416DDBD12_element_1160\")>,\n",
       " <selenium.webdriver.remote.webelement.WebElement (session=\"6155eaea91315554c376e9ce535008c2\", element=\"91E50AC36CE96D200E82D7B416DDBD12_element_1161\")>,\n",
       " <selenium.webdriver.remote.webelement.WebElement (session=\"6155eaea91315554c376e9ce535008c2\", element=\"91E50AC36CE96D200E82D7B416DDBD12_element_1162\")>,\n",
       " <selenium.webdriver.remote.webelement.WebElement (session=\"6155eaea91315554c376e9ce535008c2\", element=\"91E50AC36CE96D200E82D7B416DDBD12_element_1163\")>,\n",
       " <selenium.webdriver.remote.webelement.WebElement (session=\"6155eaea91315554c376e9ce535008c2\", element=\"91E50AC36CE96D200E82D7B416DDBD12_element_1164\")>,\n",
       " <selenium.webdriver.remote.webelement.WebElement (session=\"6155eaea91315554c376e9ce535008c2\", element=\"91E50AC36CE96D200E82D7B416DDBD12_element_1165\")>,\n",
       " <selenium.webdriver.remote.webelement.WebElement (session=\"6155eaea91315554c376e9ce535008c2\", element=\"91E50AC36CE96D200E82D7B416DDBD12_element_1166\")>,\n",
       " <selenium.webdriver.remote.webelement.WebElement (session=\"6155eaea91315554c376e9ce535008c2\", element=\"91E50AC36CE96D200E82D7B416DDBD12_element_1167\")>,\n",
       " <selenium.webdriver.remote.webelement.WebElement (session=\"6155eaea91315554c376e9ce535008c2\", element=\"91E50AC36CE96D200E82D7B416DDBD12_element_1168\")>,\n",
       " <selenium.webdriver.remote.webelement.WebElement (session=\"6155eaea91315554c376e9ce535008c2\", element=\"91E50AC36CE96D200E82D7B416DDBD12_element_1169\")>,\n",
       " <selenium.webdriver.remote.webelement.WebElement (session=\"6155eaea91315554c376e9ce535008c2\", element=\"91E50AC36CE96D200E82D7B416DDBD12_element_1170\")>,\n",
       " <selenium.webdriver.remote.webelement.WebElement (session=\"6155eaea91315554c376e9ce535008c2\", element=\"91E50AC36CE96D200E82D7B416DDBD12_element_1171\")>,\n",
       " <selenium.webdriver.remote.webelement.WebElement (session=\"6155eaea91315554c376e9ce535008c2\", element=\"91E50AC36CE96D200E82D7B416DDBD12_element_1172\")>,\n",
       " <selenium.webdriver.remote.webelement.WebElement (session=\"6155eaea91315554c376e9ce535008c2\", element=\"91E50AC36CE96D200E82D7B416DDBD12_element_1173\")>,\n",
       " <selenium.webdriver.remote.webelement.WebElement (session=\"6155eaea91315554c376e9ce535008c2\", element=\"91E50AC36CE96D200E82D7B416DDBD12_element_1174\")>,\n",
       " <selenium.webdriver.remote.webelement.WebElement (session=\"6155eaea91315554c376e9ce535008c2\", element=\"91E50AC36CE96D200E82D7B416DDBD12_element_1175\")>,\n",
       " <selenium.webdriver.remote.webelement.WebElement (session=\"6155eaea91315554c376e9ce535008c2\", element=\"91E50AC36CE96D200E82D7B416DDBD12_element_1176\")>,\n",
       " <selenium.webdriver.remote.webelement.WebElement (session=\"6155eaea91315554c376e9ce535008c2\", element=\"91E50AC36CE96D200E82D7B416DDBD12_element_1177\")>,\n",
       " <selenium.webdriver.remote.webelement.WebElement (session=\"6155eaea91315554c376e9ce535008c2\", element=\"91E50AC36CE96D200E82D7B416DDBD12_element_1178\")>,\n",
       " <selenium.webdriver.remote.webelement.WebElement (session=\"6155eaea91315554c376e9ce535008c2\", element=\"91E50AC36CE96D200E82D7B416DDBD12_element_1179\")>,\n",
       " <selenium.webdriver.remote.webelement.WebElement (session=\"6155eaea91315554c376e9ce535008c2\", element=\"91E50AC36CE96D200E82D7B416DDBD12_element_1180\")>,\n",
       " <selenium.webdriver.remote.webelement.WebElement (session=\"6155eaea91315554c376e9ce535008c2\", element=\"91E50AC36CE96D200E82D7B416DDBD12_element_1181\")>,\n",
       " <selenium.webdriver.remote.webelement.WebElement (session=\"6155eaea91315554c376e9ce535008c2\", element=\"91E50AC36CE96D200E82D7B416DDBD12_element_1182\")>,\n",
       " <selenium.webdriver.remote.webelement.WebElement (session=\"6155eaea91315554c376e9ce535008c2\", element=\"91E50AC36CE96D200E82D7B416DDBD12_element_1183\")>,\n",
       " <selenium.webdriver.remote.webelement.WebElement (session=\"6155eaea91315554c376e9ce535008c2\", element=\"91E50AC36CE96D200E82D7B416DDBD12_element_1184\")>,\n",
       " <selenium.webdriver.remote.webelement.WebElement (session=\"6155eaea91315554c376e9ce535008c2\", element=\"91E50AC36CE96D200E82D7B416DDBD12_element_1185\")>,\n",
       " <selenium.webdriver.remote.webelement.WebElement (session=\"6155eaea91315554c376e9ce535008c2\", element=\"91E50AC36CE96D200E82D7B416DDBD12_element_1186\")>,\n",
       " <selenium.webdriver.remote.webelement.WebElement (session=\"6155eaea91315554c376e9ce535008c2\", element=\"91E50AC36CE96D200E82D7B416DDBD12_element_160\")>,\n",
       " <selenium.webdriver.remote.webelement.WebElement (session=\"6155eaea91315554c376e9ce535008c2\", element=\"91E50AC36CE96D200E82D7B416DDBD12_element_163\")>,\n",
       " <selenium.webdriver.remote.webelement.WebElement (session=\"6155eaea91315554c376e9ce535008c2\", element=\"91E50AC36CE96D200E82D7B416DDBD12_element_170\")>,\n",
       " <selenium.webdriver.remote.webelement.WebElement (session=\"6155eaea91315554c376e9ce535008c2\", element=\"91E50AC36CE96D200E82D7B416DDBD12_element_173\")>,\n",
       " <selenium.webdriver.remote.webelement.WebElement (session=\"6155eaea91315554c376e9ce535008c2\", element=\"91E50AC36CE96D200E82D7B416DDBD12_element_176\")>,\n",
       " <selenium.webdriver.remote.webelement.WebElement (session=\"6155eaea91315554c376e9ce535008c2\", element=\"91E50AC36CE96D200E82D7B416DDBD12_element_1187\")>,\n",
       " <selenium.webdriver.remote.webelement.WebElement (session=\"6155eaea91315554c376e9ce535008c2\", element=\"91E50AC36CE96D200E82D7B416DDBD12_element_1188\")>,\n",
       " <selenium.webdriver.remote.webelement.WebElement (session=\"6155eaea91315554c376e9ce535008c2\", element=\"91E50AC36CE96D200E82D7B416DDBD12_element_1189\")>,\n",
       " <selenium.webdriver.remote.webelement.WebElement (session=\"6155eaea91315554c376e9ce535008c2\", element=\"91E50AC36CE96D200E82D7B416DDBD12_element_802\")>,\n",
       " <selenium.webdriver.remote.webelement.WebElement (session=\"6155eaea91315554c376e9ce535008c2\", element=\"91E50AC36CE96D200E82D7B416DDBD12_element_806\")>,\n",
       " <selenium.webdriver.remote.webelement.WebElement (session=\"6155eaea91315554c376e9ce535008c2\", element=\"91E50AC36CE96D200E82D7B416DDBD12_element_1190\")>,\n",
       " <selenium.webdriver.remote.webelement.WebElement (session=\"6155eaea91315554c376e9ce535008c2\", element=\"91E50AC36CE96D200E82D7B416DDBD12_element_810\")>,\n",
       " <selenium.webdriver.remote.webelement.WebElement (session=\"6155eaea91315554c376e9ce535008c2\", element=\"91E50AC36CE96D200E82D7B416DDBD12_element_814\")>,\n",
       " <selenium.webdriver.remote.webelement.WebElement (session=\"6155eaea91315554c376e9ce535008c2\", element=\"91E50AC36CE96D200E82D7B416DDBD12_element_818\")>,\n",
       " <selenium.webdriver.remote.webelement.WebElement (session=\"6155eaea91315554c376e9ce535008c2\", element=\"91E50AC36CE96D200E82D7B416DDBD12_element_822\")>,\n",
       " <selenium.webdriver.remote.webelement.WebElement (session=\"6155eaea91315554c376e9ce535008c2\", element=\"91E50AC36CE96D200E82D7B416DDBD12_element_826\")>,\n",
       " <selenium.webdriver.remote.webelement.WebElement (session=\"6155eaea91315554c376e9ce535008c2\", element=\"91E50AC36CE96D200E82D7B416DDBD12_element_830\")>,\n",
       " <selenium.webdriver.remote.webelement.WebElement (session=\"6155eaea91315554c376e9ce535008c2\", element=\"91E50AC36CE96D200E82D7B416DDBD12_element_524\")>,\n",
       " <selenium.webdriver.remote.webelement.WebElement (session=\"6155eaea91315554c376e9ce535008c2\", element=\"91E50AC36CE96D200E82D7B416DDBD12_element_841\")>,\n",
       " <selenium.webdriver.remote.webelement.WebElement (session=\"6155eaea91315554c376e9ce535008c2\", element=\"91E50AC36CE96D200E82D7B416DDBD12_element_845\")>,\n",
       " <selenium.webdriver.remote.webelement.WebElement (session=\"6155eaea91315554c376e9ce535008c2\", element=\"91E50AC36CE96D200E82D7B416DDBD12_element_854\")>,\n",
       " <selenium.webdriver.remote.webelement.WebElement (session=\"6155eaea91315554c376e9ce535008c2\", element=\"91E50AC36CE96D200E82D7B416DDBD12_element_211\")>,\n",
       " <selenium.webdriver.remote.webelement.WebElement (session=\"6155eaea91315554c376e9ce535008c2\", element=\"91E50AC36CE96D200E82D7B416DDBD12_element_217\")>,\n",
       " <selenium.webdriver.remote.webelement.WebElement (session=\"6155eaea91315554c376e9ce535008c2\", element=\"91E50AC36CE96D200E82D7B416DDBD12_element_223\")>,\n",
       " <selenium.webdriver.remote.webelement.WebElement (session=\"6155eaea91315554c376e9ce535008c2\", element=\"91E50AC36CE96D200E82D7B416DDBD12_element_236\")>,\n",
       " <selenium.webdriver.remote.webelement.WebElement (session=\"6155eaea91315554c376e9ce535008c2\", element=\"91E50AC36CE96D200E82D7B416DDBD12_element_242\")>,\n",
       " <selenium.webdriver.remote.webelement.WebElement (session=\"6155eaea91315554c376e9ce535008c2\", element=\"91E50AC36CE96D200E82D7B416DDBD12_element_247\")>,\n",
       " <selenium.webdriver.remote.webelement.WebElement (session=\"6155eaea91315554c376e9ce535008c2\", element=\"91E50AC36CE96D200E82D7B416DDBD12_element_260\")>,\n",
       " <selenium.webdriver.remote.webelement.WebElement (session=\"6155eaea91315554c376e9ce535008c2\", element=\"91E50AC36CE96D200E82D7B416DDBD12_element_265\")>,\n",
       " <selenium.webdriver.remote.webelement.WebElement (session=\"6155eaea91315554c376e9ce535008c2\", element=\"91E50AC36CE96D200E82D7B416DDBD12_element_270\")>,\n",
       " <selenium.webdriver.remote.webelement.WebElement (session=\"6155eaea91315554c376e9ce535008c2\", element=\"91E50AC36CE96D200E82D7B416DDBD12_element_275\")>,\n",
       " <selenium.webdriver.remote.webelement.WebElement (session=\"6155eaea91315554c376e9ce535008c2\", element=\"91E50AC36CE96D200E82D7B416DDBD12_element_280\")>,\n",
       " <selenium.webdriver.remote.webelement.WebElement (session=\"6155eaea91315554c376e9ce535008c2\", element=\"91E50AC36CE96D200E82D7B416DDBD12_element_293\")>,\n",
       " <selenium.webdriver.remote.webelement.WebElement (session=\"6155eaea91315554c376e9ce535008c2\", element=\"91E50AC36CE96D200E82D7B416DDBD12_element_298\")>,\n",
       " <selenium.webdriver.remote.webelement.WebElement (session=\"6155eaea91315554c376e9ce535008c2\", element=\"91E50AC36CE96D200E82D7B416DDBD12_element_303\")>,\n",
       " <selenium.webdriver.remote.webelement.WebElement (session=\"6155eaea91315554c376e9ce535008c2\", element=\"91E50AC36CE96D200E82D7B416DDBD12_element_316\")>,\n",
       " <selenium.webdriver.remote.webelement.WebElement (session=\"6155eaea91315554c376e9ce535008c2\", element=\"91E50AC36CE96D200E82D7B416DDBD12_element_321\")>,\n",
       " <selenium.webdriver.remote.webelement.WebElement (session=\"6155eaea91315554c376e9ce535008c2\", element=\"91E50AC36CE96D200E82D7B416DDBD12_element_334\")>,\n",
       " <selenium.webdriver.remote.webelement.WebElement (session=\"6155eaea91315554c376e9ce535008c2\", element=\"91E50AC36CE96D200E82D7B416DDBD12_element_339\")>,\n",
       " <selenium.webdriver.remote.webelement.WebElement (session=\"6155eaea91315554c376e9ce535008c2\", element=\"91E50AC36CE96D200E82D7B416DDBD12_element_344\")>,\n",
       " <selenium.webdriver.remote.webelement.WebElement (session=\"6155eaea91315554c376e9ce535008c2\", element=\"91E50AC36CE96D200E82D7B416DDBD12_element_357\")>,\n",
       " <selenium.webdriver.remote.webelement.WebElement (session=\"6155eaea91315554c376e9ce535008c2\", element=\"91E50AC36CE96D200E82D7B416DDBD12_element_362\")>,\n",
       " <selenium.webdriver.remote.webelement.WebElement (session=\"6155eaea91315554c376e9ce535008c2\", element=\"91E50AC36CE96D200E82D7B416DDBD12_element_368\")>,\n",
       " <selenium.webdriver.remote.webelement.WebElement (session=\"6155eaea91315554c376e9ce535008c2\", element=\"91E50AC36CE96D200E82D7B416DDBD12_element_374\")>,\n",
       " <selenium.webdriver.remote.webelement.WebElement (session=\"6155eaea91315554c376e9ce535008c2\", element=\"91E50AC36CE96D200E82D7B416DDBD12_element_381\")>,\n",
       " <selenium.webdriver.remote.webelement.WebElement (session=\"6155eaea91315554c376e9ce535008c2\", element=\"91E50AC36CE96D200E82D7B416DDBD12_element_393\")>,\n",
       " <selenium.webdriver.remote.webelement.WebElement (session=\"6155eaea91315554c376e9ce535008c2\", element=\"91E50AC36CE96D200E82D7B416DDBD12_element_398\")>,\n",
       " <selenium.webdriver.remote.webelement.WebElement (session=\"6155eaea91315554c376e9ce535008c2\", element=\"91E50AC36CE96D200E82D7B416DDBD12_element_423\")>,\n",
       " <selenium.webdriver.remote.webelement.WebElement (session=\"6155eaea91315554c376e9ce535008c2\", element=\"91E50AC36CE96D200E82D7B416DDBD12_element_426\")>,\n",
       " <selenium.webdriver.remote.webelement.WebElement (session=\"6155eaea91315554c376e9ce535008c2\", element=\"91E50AC36CE96D200E82D7B416DDBD12_element_429\")>,\n",
       " <selenium.webdriver.remote.webelement.WebElement (session=\"6155eaea91315554c376e9ce535008c2\", element=\"91E50AC36CE96D200E82D7B416DDBD12_element_1191\")>,\n",
       " <selenium.webdriver.remote.webelement.WebElement (session=\"6155eaea91315554c376e9ce535008c2\", element=\"91E50AC36CE96D200E82D7B416DDBD12_element_1192\")>,\n",
       " <selenium.webdriver.remote.webelement.WebElement (session=\"6155eaea91315554c376e9ce535008c2\", element=\"91E50AC36CE96D200E82D7B416DDBD12_element_1193\")>,\n",
       " <selenium.webdriver.remote.webelement.WebElement (session=\"6155eaea91315554c376e9ce535008c2\", element=\"91E50AC36CE96D200E82D7B416DDBD12_element_1194\")>,\n",
       " <selenium.webdriver.remote.webelement.WebElement (session=\"6155eaea91315554c376e9ce535008c2\", element=\"91E50AC36CE96D200E82D7B416DDBD12_element_439\")>,\n",
       " <selenium.webdriver.remote.webelement.WebElement (session=\"6155eaea91315554c376e9ce535008c2\", element=\"91E50AC36CE96D200E82D7B416DDBD12_element_1195\")>,\n",
       " <selenium.webdriver.remote.webelement.WebElement (session=\"6155eaea91315554c376e9ce535008c2\", element=\"91E50AC36CE96D200E82D7B416DDBD12_element_442\")>,\n",
       " <selenium.webdriver.remote.webelement.WebElement (session=\"6155eaea91315554c376e9ce535008c2\", element=\"91E50AC36CE96D200E82D7B416DDBD12_element_445\")>,\n",
       " <selenium.webdriver.remote.webelement.WebElement (session=\"6155eaea91315554c376e9ce535008c2\", element=\"91E50AC36CE96D200E82D7B416DDBD12_element_448\")>,\n",
       " <selenium.webdriver.remote.webelement.WebElement (session=\"6155eaea91315554c376e9ce535008c2\", element=\"91E50AC36CE96D200E82D7B416DDBD12_element_453\")>,\n",
       " <selenium.webdriver.remote.webelement.WebElement (session=\"6155eaea91315554c376e9ce535008c2\", element=\"91E50AC36CE96D200E82D7B416DDBD12_element_456\")>,\n",
       " <selenium.webdriver.remote.webelement.WebElement (session=\"6155eaea91315554c376e9ce535008c2\", element=\"91E50AC36CE96D200E82D7B416DDBD12_element_459\")>,\n",
       " <selenium.webdriver.remote.webelement.WebElement (session=\"6155eaea91315554c376e9ce535008c2\", element=\"91E50AC36CE96D200E82D7B416DDBD12_element_462\")>,\n",
       " <selenium.webdriver.remote.webelement.WebElement (session=\"6155eaea91315554c376e9ce535008c2\", element=\"91E50AC36CE96D200E82D7B416DDBD12_element_465\")>,\n",
       " <selenium.webdriver.remote.webelement.WebElement (session=\"6155eaea91315554c376e9ce535008c2\", element=\"91E50AC36CE96D200E82D7B416DDBD12_element_468\")>,\n",
       " <selenium.webdriver.remote.webelement.WebElement (session=\"6155eaea91315554c376e9ce535008c2\", element=\"91E50AC36CE96D200E82D7B416DDBD12_element_471\")>,\n",
       " <selenium.webdriver.remote.webelement.WebElement (session=\"6155eaea91315554c376e9ce535008c2\", element=\"91E50AC36CE96D200E82D7B416DDBD12_element_474\")>,\n",
       " <selenium.webdriver.remote.webelement.WebElement (session=\"6155eaea91315554c376e9ce535008c2\", element=\"91E50AC36CE96D200E82D7B416DDBD12_element_477\")>,\n",
       " <selenium.webdriver.remote.webelement.WebElement (session=\"6155eaea91315554c376e9ce535008c2\", element=\"91E50AC36CE96D200E82D7B416DDBD12_element_1196\")>,\n",
       " <selenium.webdriver.remote.webelement.WebElement (session=\"6155eaea91315554c376e9ce535008c2\", element=\"91E50AC36CE96D200E82D7B416DDBD12_element_481\")>,\n",
       " <selenium.webdriver.remote.webelement.WebElement (session=\"6155eaea91315554c376e9ce535008c2\", element=\"91E50AC36CE96D200E82D7B416DDBD12_element_484\")>]"
      ]
     },
     "execution_count": 112,
     "metadata": {},
     "output_type": "execute_result"
    }
   ],
   "source": [
    "#your code\n",
    "driver.find_elements(By.XPATH, '//li//a') #No puedo llamar por HRC, ya que es un atributo y no es llamable "
   ]
  },
  {
   "cell_type": "code",
   "execution_count": 114,
   "metadata": {},
   "outputs": [],
   "source": [
    "links = driver.find_elements(By.XPATH, '//li//a') "
   ]
  },
  {
   "cell_type": "code",
   "execution_count": 116,
   "metadata": {},
   "outputs": [
    {
     "data": {
      "text/plain": [
       "['https://en.wikipedia.org/wiki/Main_Page',\n",
       " 'https://en.wikipedia.org/wiki/Wikipedia:Contents',\n",
       " 'https://en.wikipedia.org/wiki/Portal:Current_events',\n",
       " 'https://en.wikipedia.org/wiki/Special:Random',\n",
       " 'https://en.wikipedia.org/wiki/Wikipedia:About',\n",
       " 'https://en.wikipedia.org/wiki/Wikipedia:Contact_us',\n",
       " 'https://donate.wikimedia.org/wiki/Special:FundraiserRedirector?utm_source=donate&utm_medium=sidebar&utm_campaign=C13_en.wikipedia.org&uselang=en',\n",
       " 'https://en.wikipedia.org/wiki/Help:Contents',\n",
       " 'https://en.wikipedia.org/wiki/Help:Introduction',\n",
       " 'https://en.wikipedia.org/wiki/Wikipedia:Community_portal',\n",
       " 'https://en.wikipedia.org/wiki/Special:RecentChanges',\n",
       " 'https://en.wikipedia.org/wiki/Wikipedia:File_upload_wizard',\n",
       " 'https://en.wikipedia.org/w/index.php?title=Special:CreateAccount&returnto=Python',\n",
       " 'https://en.wikipedia.org/w/index.php?title=Special:UserLogin&returnto=Python',\n",
       " 'https://en.wikipedia.org/w/index.php?title=Special:CreateAccount&returnto=Python',\n",
       " 'https://en.wikipedia.org/w/index.php?title=Special:UserLogin&returnto=Python',\n",
       " 'https://en.wikipedia.org/wiki/Special:MyContributions',\n",
       " 'https://en.wikipedia.org/wiki/Special:MyTalk',\n",
       " 'https://en.wikipedia.org/wiki/Python#',\n",
       " 'https://en.wikipedia.org/wiki/Python#Snakes',\n",
       " 'https://en.wikipedia.org/wiki/Python#Computing',\n",
       " 'https://en.wikipedia.org/wiki/Python#People',\n",
       " 'https://en.wikipedia.org/wiki/Python#Roller_coasters',\n",
       " 'https://en.wikipedia.org/wiki/Python#Vehicles',\n",
       " 'https://en.wikipedia.org/wiki/Python#Weaponry',\n",
       " 'https://en.wikipedia.org/wiki/Python#Other_uses',\n",
       " 'https://en.wikipedia.org/wiki/Python#See_also',\n",
       " 'https://af.wikipedia.org/wiki/Python',\n",
       " 'https://als.wikipedia.org/wiki/Python',\n",
       " 'https://ar.wikipedia.org/wiki/%D8%A8%D8%A7%D9%8A%D8%AB%D9%88%D9%86_(%D8%AA%D9%88%D8%B6%D9%8A%D8%AD)',\n",
       " 'https://az.wikipedia.org/wiki/Python_(d%C9%99qiql%C9%99%C5%9Fdirm%C9%99)',\n",
       " 'https://bn.wikipedia.org/wiki/%E0%A6%AA%E0%A6%BE%E0%A6%87%E0%A6%A5%E0%A6%A8_(%E0%A6%A6%E0%A7%8D%E0%A6%AC%E0%A7%8D%E0%A6%AF%E0%A6%B0%E0%A7%8D%E0%A6%A5%E0%A6%A4%E0%A6%BE_%E0%A6%A8%E0%A6%BF%E0%A6%B0%E0%A6%B8%E0%A6%A8)',\n",
       " 'https://be.wikipedia.org/wiki/Python',\n",
       " 'https://bg.wikipedia.org/wiki/%D0%9F%D0%B8%D1%82%D0%BE%D0%BD_(%D0%BF%D0%BE%D1%8F%D1%81%D0%BD%D0%B5%D0%BD%D0%B8%D0%B5)',\n",
       " 'https://cs.wikipedia.org/wiki/Python_(rozcestn%C3%ADk)',\n",
       " 'https://da.wikipedia.org/wiki/Python',\n",
       " 'https://de.wikipedia.org/wiki/Python',\n",
       " 'https://eo.wikipedia.org/wiki/Pitono_(apartigilo)',\n",
       " 'https://eu.wikipedia.org/wiki/Python_(argipena)',\n",
       " 'https://fa.wikipedia.org/wiki/%D9%BE%D8%A7%DB%8C%D8%AA%D9%88%D9%86',\n",
       " 'https://fr.wikipedia.org/wiki/Python',\n",
       " 'https://ko.wikipedia.org/wiki/%ED%8C%8C%EC%9D%B4%EC%84%A0',\n",
       " 'https://hr.wikipedia.org/wiki/Python_(razdvojba)',\n",
       " 'https://io.wikipedia.org/wiki/Pitono',\n",
       " 'https://id.wikipedia.org/wiki/Python',\n",
       " 'https://ia.wikipedia.org/wiki/Python_(disambiguation)',\n",
       " 'https://is.wikipedia.org/wiki/Python_(a%C3%B0greining)',\n",
       " 'https://it.wikipedia.org/wiki/Python_(disambigua)',\n",
       " 'https://he.wikipedia.org/wiki/%D7%A4%D7%99%D7%AA%D7%95%D7%9F',\n",
       " 'https://ka.wikipedia.org/wiki/%E1%83%9E%E1%83%98%E1%83%97%E1%83%9D%E1%83%9C%E1%83%98_(%E1%83%9B%E1%83%A0%E1%83%90%E1%83%95%E1%83%90%E1%83%9A%E1%83%9B%E1%83%9C%E1%83%98%E1%83%A8%E1%83%95%E1%83%9C%E1%83%94%E1%83%9A%E1%83%9D%E1%83%95%E1%83%90%E1%83%9C%E1%83%98)',\n",
       " 'https://kg.wikipedia.org/wiki/Mboma_(nyoka)',\n",
       " 'https://la.wikipedia.org/wiki/Python_(discretiva)',\n",
       " 'https://lb.wikipedia.org/wiki/Python',\n",
       " 'https://hu.wikipedia.org/wiki/Python_(egy%C3%A9rtelm%C5%B1s%C3%ADt%C5%91_lap)',\n",
       " 'https://mr.wikipedia.org/wiki/%E0%A4%AA%E0%A4%BE%E0%A4%AF%E0%A4%A5%E0%A5%89%E0%A4%A8_(%E0%A4%86%E0%A4%9C%E0%A5%8D%E0%A4%9E%E0%A4%BE%E0%A4%B5%E0%A4%B2%E0%A5%80_%E0%A4%AD%E0%A4%BE%E0%A4%B7%E0%A4%BE)',\n",
       " 'https://nl.wikipedia.org/wiki/Python',\n",
       " 'https://ja.wikipedia.org/wiki/%E3%83%91%E3%82%A4%E3%82%BD%E3%83%B3',\n",
       " 'https://no.wikipedia.org/wiki/Pyton',\n",
       " 'https://pl.wikipedia.org/wiki/Pyton',\n",
       " 'https://pt.wikipedia.org/wiki/Python_(desambigua%C3%A7%C3%A3o)',\n",
       " 'https://ru.wikipedia.org/wiki/Python_(%D0%B7%D0%BD%D0%B0%D1%87%D0%B5%D0%BD%D0%B8%D1%8F)',\n",
       " 'https://sk.wikipedia.org/wiki/Python',\n",
       " 'https://sr.wikipedia.org/wiki/%D0%9F%D0%B8%D1%82%D0%BE%D0%BD_(%D0%B2%D0%B8%D1%88%D0%B5%D0%B7%D0%BD%D0%B0%D1%87%D0%BD%D0%B0_%D0%BE%D0%B4%D1%80%D0%B5%D0%B4%D0%BD%D0%B8%D1%86%D0%B0)',\n",
       " 'https://sh.wikipedia.org/wiki/Python',\n",
       " 'https://fi.wikipedia.org/wiki/Python',\n",
       " 'https://sv.wikipedia.org/wiki/Pyton',\n",
       " 'https://th.wikipedia.org/wiki/%E0%B9%84%E0%B8%9E%E0%B8%97%E0%B8%AD%E0%B8%99',\n",
       " 'https://tr.wikipedia.org/wiki/Python_(anlam_ayr%C4%B1m%C4%B1)',\n",
       " 'https://uk.wikipedia.org/wiki/%D0%9F%D1%96%D1%84%D0%BE%D0%BD',\n",
       " 'https://ur.wikipedia.org/wiki/%D9%BE%D8%A7%D8%A6%DB%8C%D8%AA%DA%BE%D9%88%D9%86',\n",
       " 'https://vi.wikipedia.org/wiki/Python',\n",
       " 'https://zh.wikipedia.org/wiki/Python_(%E6%B6%88%E6%AD%A7%E4%B9%89)',\n",
       " 'https://en.wikipedia.org/wiki/Python',\n",
       " 'https://en.wikipedia.org/wiki/Talk:Python',\n",
       " 'https://en.wikipedia.org/wiki/Python',\n",
       " 'https://en.wikipedia.org/w/index.php?title=Python&action=edit&editintro=Template:Disambig_editintro',\n",
       " 'https://en.wikipedia.org/w/index.php?title=Python&action=history',\n",
       " 'https://en.wikipedia.org/wiki/Python',\n",
       " 'https://en.wikipedia.org/w/index.php?title=Python&action=edit',\n",
       " 'https://en.wikipedia.org/w/index.php?title=Python&action=history',\n",
       " 'https://en.wikipedia.org/wiki/Special:WhatLinksHere/Python',\n",
       " 'https://en.wikipedia.org/wiki/Special:RecentChangesLinked/Python',\n",
       " 'https://en.wikipedia.org/wiki/Wikipedia:File_Upload_Wizard',\n",
       " 'https://en.wikipedia.org/wiki/Special:SpecialPages',\n",
       " 'https://en.wikipedia.org/w/index.php?title=Python&oldid=1182751793',\n",
       " 'https://en.wikipedia.org/w/index.php?title=Python&action=info',\n",
       " 'https://en.wikipedia.org/w/index.php?title=Special:CiteThisPage&page=Python&id=1182751793&wpFormIdentifier=titleform',\n",
       " 'https://en.wikipedia.org/w/index.php?title=Special:UrlShortener&url=https%3A%2F%2Fen.wikipedia.org%2Fwiki%2FPython',\n",
       " 'https://www.wikidata.org/wiki/Special:EntityPage/Q747452',\n",
       " 'https://www.wikidata.org/wiki/Special:EntityPage/Q747452#sitelinks-wikipedia',\n",
       " 'https://en.wikipedia.org/w/index.php?title=Special:DownloadAsPdf&page=Python&action=show-download-screen',\n",
       " 'https://en.wikipedia.org/w/index.php?title=Python&printable=yes',\n",
       " 'https://commons.wikimedia.org/wiki/Category:Python',\n",
       " 'https://en.wikipedia.org/wiki/Pythonidae',\n",
       " 'https://en.wikipedia.org/wiki/Python_(genus)',\n",
       " 'https://en.wikipedia.org/wiki/Python_(mythology)',\n",
       " 'https://en.wikipedia.org/wiki/Python_(programming_language)',\n",
       " 'https://en.wikipedia.org/wiki/CMU_Common_Lisp',\n",
       " 'https://en.wikipedia.org/wiki/PERQ#PERQ_3',\n",
       " 'https://en.wikipedia.org/wiki/Python_of_Aenus',\n",
       " 'https://en.wikipedia.org/wiki/Python_(painter)',\n",
       " 'https://en.wikipedia.org/wiki/Python_of_Byzantium',\n",
       " 'https://en.wikipedia.org/wiki/Python_of_Catana',\n",
       " 'https://en.wikipedia.org/wiki/Python_Anghelo',\n",
       " 'https://en.wikipedia.org/wiki/Python_(Efteling)',\n",
       " 'https://en.wikipedia.org/wiki/Python_(Busch_Gardens_Tampa_Bay)',\n",
       " 'https://en.wikipedia.org/wiki/Python_(Coney_Island,_Cincinnati,_Ohio)',\n",
       " 'https://en.wikipedia.org/wiki/Python_(automobile_maker)',\n",
       " 'https://en.wikipedia.org/wiki/Python_(Ford_prototype)',\n",
       " 'https://en.wikipedia.org/wiki/Python_(missile)',\n",
       " 'https://en.wikipedia.org/wiki/Python_(nuclear_primary)',\n",
       " 'https://en.wikipedia.org/wiki/Colt_Python',\n",
       " 'https://en.wikipedia.org/wiki/Python_(codename)',\n",
       " 'https://en.wikipedia.org/wiki/Python_(film)',\n",
       " 'https://en.wikipedia.org/wiki/Monty_Python',\n",
       " 'https://en.wikipedia.org/wiki/Python_(Monty)_Pictures',\n",
       " 'https://en.wikipedia.org/wiki/Timon_of_Phlius',\n",
       " 'https://en.wikipedia.org/wiki/Pyton',\n",
       " 'https://en.wikipedia.org/wiki/Pithon',\n",
       " 'https://en.wikipedia.org/wiki/Category:Disambiguation_pages',\n",
       " 'https://en.wikipedia.org/wiki/Category:Human_name_disambiguation_pages',\n",
       " 'https://en.wikipedia.org/wiki/Category:Disambiguation_pages_with_given-name-holder_lists',\n",
       " 'https://en.wikipedia.org/wiki/Category:Short_description_is_different_from_Wikidata',\n",
       " 'https://en.wikipedia.org/wiki/Category:All_article_disambiguation_pages',\n",
       " 'https://en.wikipedia.org/wiki/Category:All_disambiguation_pages',\n",
       " 'https://en.wikipedia.org/wiki/Category:Animal_common_name_disambiguation_pages',\n",
       " 'https://en.wikipedia.org/wiki/Wikipedia:Text_of_the_Creative_Commons_Attribution-ShareAlike_4.0_International_License',\n",
       " 'https://en.wikipedia.org/wiki/Wikipedia:Text_of_the_Creative_Commons_Attribution-ShareAlike_4.0_International_License',\n",
       " 'https://foundation.wikimedia.org/wiki/Terms_of_Use',\n",
       " 'https://foundation.wikimedia.org/wiki/Privacy_policy',\n",
       " 'https://www.wikimediafoundation.org/',\n",
       " 'https://foundation.wikimedia.org/wiki/Special:MyLanguage/Policy:Privacy_policy',\n",
       " 'https://en.wikipedia.org/wiki/Wikipedia:About',\n",
       " 'https://en.wikipedia.org/wiki/Wikipedia:General_disclaimer',\n",
       " 'https://en.wikipedia.org/wiki/Wikipedia:Contact_us',\n",
       " 'https://foundation.wikimedia.org/wiki/Special:MyLanguage/Universal_Code_of_Conduct',\n",
       " 'https://developer.wikimedia.org/',\n",
       " 'https://stats.wikimedia.org/#/en.wikipedia.org',\n",
       " 'https://foundation.wikimedia.org/wiki/Special:MyLanguage/Policy:Cookie_statement',\n",
       " 'https://en.m.wikipedia.org/w/index.php?title=Python&mobileaction=toggle_view_mobile',\n",
       " 'https://en.wikipedia.org/wiki/Python#',\n",
       " 'https://wikimediafoundation.org/',\n",
       " 'https://www.mediawiki.org/']"
      ]
     },
     "execution_count": 116,
     "metadata": {},
     "output_type": "execute_result"
    }
   ],
   "source": [
    "my_links_list= []\n",
    "\n",
    "for e in links:\n",
    "    my_links_list.append(e.get_attribute(\"href\"))\n",
    "\n",
    "my_links_list"
   ]
  },
  {
   "cell_type": "code",
   "execution_count": null,
   "metadata": {},
   "outputs": [],
   "source": []
  },
  {
   "cell_type": "markdown",
   "metadata": {},
   "source": [
    "#### Number of Titles that have changed in the United States Code since its last release point "
   ]
  },
  {
   "cell_type": "code",
   "execution_count": 153,
   "metadata": {},
   "outputs": [],
   "source": [
    "# This is the url you will scrape in this exercise\n",
    "url = 'http://uscode.house.gov/download/download.shtml'\n",
    "\n",
    "driver = webdriver.Chrome()\n",
    "\n",
    "driver.get(url)"
   ]
  },
  {
   "cell_type": "code",
   "execution_count": 158,
   "metadata": {},
   "outputs": [
    {
     "data": {
      "text/plain": [
       "[<selenium.webdriver.remote.webelement.WebElement (session=\"b35f1eb3c9c66a91bd96176791f89eb1\", element=\"8DB511A02DC36495D14A514CF7CBCA22_element_12\")>,\n",
       " <selenium.webdriver.remote.webelement.WebElement (session=\"b35f1eb3c9c66a91bd96176791f89eb1\", element=\"8DB511A02DC36495D14A514CF7CBCA22_element_13\")>]"
      ]
     },
     "execution_count": 158,
     "metadata": {},
     "output_type": "execute_result"
    }
   ],
   "source": [
    "#your code\n",
    "\n",
    "driver.find_elements(By.XPATH,'//div//div[@class=\"usctitlechanged\"]')"
   ]
  },
  {
   "cell_type": "code",
   "execution_count": 159,
   "metadata": {},
   "outputs": [
    {
     "data": {
      "text/plain": [
       "['Title 20 - Education', \"Title 38 - Veterans' Benefits ٭\"]"
      ]
     },
     "execution_count": 159,
     "metadata": {},
     "output_type": "execute_result"
    }
   ],
   "source": [
    "titles = []\n",
    "\n",
    "for e in driver.find_elements(By.XPATH, '//div//div[@class=\"usctitlechanged\"]'):\n",
    "    titles.append(e.text)\n",
    "\n",
    "titles"
   ]
  },
  {
   "cell_type": "markdown",
   "metadata": {},
   "source": [
    "#### A Python list with the top ten FBI's Most Wanted names "
   ]
  },
  {
   "cell_type": "code",
   "execution_count": 176,
   "metadata": {},
   "outputs": [],
   "source": [
    "# This is the url you will scrape in this exercise\n",
    "url = 'https://www.fbi.gov/wanted/topten'\n",
    "driver = webdriver.Chrome()\n",
    "\n",
    "driver.get(url)"
   ]
  },
  {
   "cell_type": "code",
   "execution_count": 177,
   "metadata": {},
   "outputs": [
    {
     "data": {
      "text/plain": [
       "20"
      ]
     },
     "execution_count": 177,
     "metadata": {},
     "output_type": "execute_result"
    }
   ],
   "source": [
    "#your code \n",
    "url = driver.find_element(By.CSS_SELECTOR, '#query-results-0f737222c5054a81a120bce207b0446a').find_elements(By.TAG_NAME, 'a')\n",
    "\n",
    "len(url)\n",
    "\n",
    "#query-results-0f737222c5054a81a120bce207b0446a > ul\n"
   ]
  },
  {
   "cell_type": "code",
   "execution_count": 148,
   "metadata": {},
   "outputs": [
    {
     "name": "stdout",
     "output_type": "stream",
     "text": [
      "\n",
      "ARNOLDO JIMENEZ\n",
      "\n",
      "OMAR ALEXANDER CARDENAS\n",
      "\n",
      "YULAN ADONAY ARCHAGA CARIAS\n",
      "\n",
      "BHADRESHKUMAR CHETANBHAI PATEL\n",
      "\n",
      "DONALD EUGENE FIELDS II\n",
      "\n",
      "RUJA IGNATOVA\n",
      "\n",
      "WILVER VILLEGAS-PALOMINO\n",
      "\n",
      "ALEJANDRO ROSALES CASTILLO\n",
      "\n",
      "ALEXIS FLORES\n",
      "\n",
      "JOSE RODOLFO VILLARREAL-HERNANDEZ\n"
     ]
    }
   ],
   "source": [
    "for f in url:\n",
    "    print (f.text)"
   ]
  },
  {
   "cell_type": "markdown",
   "metadata": {},
   "source": [
    "####  20 latest earthquakes info (date, time, latitude, longitude and region name) by the EMSC as a pandas dataframe"
   ]
  },
  {
   "cell_type": "code",
   "execution_count": 160,
   "metadata": {},
   "outputs": [],
   "source": [
    "# This is the url you will scrape in this exercise   #CONTINUO AL SIGUIENTE \n",
    "url = 'https://www.emsc-csem.org/Earthquake/'\n",
    "\n",
    "driver = webdriver.Chrome()\n",
    "\n",
    "driver.get(url)"
   ]
  },
  {
   "cell_type": "code",
   "execution_count": null,
   "metadata": {},
   "outputs": [],
   "source": [
    "#your code\n",
    "\n",
    "driver.find_elements(By.XPATH,'//div')"
   ]
  },
  {
   "cell_type": "markdown",
   "metadata": {},
   "source": [
    "#### Count number of tweets by a given Twitter account."
   ]
  },
  {
   "cell_type": "markdown",
   "metadata": {},
   "source": [
    "You will need to include a ***try/except block*** for account names not found. \n",
    "<br>***Hint:*** the program should count the number of tweets for any provided account"
   ]
  },
  {
   "cell_type": "code",
   "execution_count": 164,
   "metadata": {},
   "outputs": [],
   "source": [
    "# This is the url you will scrape in this exercise \n",
    "# You will need to add the account credentials to this url\n",
    "url = 'https://twitter.com/elonmusk'\n",
    "driver = webdriver.Chrome()\n",
    "\n",
    "driver.get(url)"
   ]
  },
  {
   "cell_type": "code",
   "execution_count": 167,
   "metadata": {},
   "outputs": [
    {
     "data": {
      "text/plain": [
       "[<selenium.webdriver.remote.webelement.WebElement (session=\"57c447f7ddf8edc68c0cdde5ab8fb7c2\", element=\"5B8835ACC7CA4B32340F161B7C2AEFAA_element_1051\")>]"
      ]
     },
     "execution_count": 167,
     "metadata": {},
     "output_type": "execute_result"
    }
   ],
   "source": [
    "#your code\n",
    "driver.find_elements(By.XPATH,'//*[@id=\"react-root\"]/div/div/div[2]/main/div/div/div/div/div/div[1]/div[1]/div/div/div/div/div/div[2]/div/div')"
   ]
  },
  {
   "cell_type": "code",
   "execution_count": 170,
   "metadata": {},
   "outputs": [],
   "source": [
    "twits = driver.find_elements(By.XPATH,'//*[@id=\"react-root\"]/div/div/div[2]/main/div/div/div/div/div/div[1]/div[1]/div/div/div/div/div/div[2]/div/div')"
   ]
  },
  {
   "cell_type": "code",
   "execution_count": 171,
   "metadata": {},
   "outputs": [
    {
     "name": "stdout",
     "output_type": "stream",
     "text": [
      "32,7 mil posts\n"
     ]
    }
   ],
   "source": [
    "for i in twits:\n",
    "    print (i.text)"
   ]
  },
  {
   "cell_type": "markdown",
   "metadata": {},
   "source": [
    "#### Number of followers of a given twitter account"
   ]
  },
  {
   "cell_type": "markdown",
   "metadata": {},
   "source": [
    "You will need to include a ***try/except block*** in case account/s name not found. \n",
    "<br>***Hint:*** the program should count the followers for any provided account"
   ]
  },
  {
   "cell_type": "code",
   "execution_count": null,
   "metadata": {},
   "outputs": [],
   "source": [
    "# This is the url you will scrape in this exercise \n",
    "# You will need to add the account credentials to this url\n",
    "url = 'https://twitter.com/elonmusk'"
   ]
  },
  {
   "cell_type": "code",
   "execution_count": 173,
   "metadata": {},
   "outputs": [],
   "source": [
    "#your code\n",
    "\n",
    "followers = driver.find_elements(By.XPATH,'//*[@id=\"react-root\"]/div/div/div[2]/main/div/div/div/div/div/div[3]/div/div/div/div/div[4]/div[2]/a/span[1]/span')"
   ]
  },
  {
   "cell_type": "code",
   "execution_count": 175,
   "metadata": {},
   "outputs": [
    {
     "name": "stdout",
     "output_type": "stream",
     "text": [
      "161,8 M\n"
     ]
    }
   ],
   "source": [
    "for i in followers:\n",
    "    print (i.text)"
   ]
  },
  {
   "cell_type": "markdown",
   "metadata": {},
   "source": [
    "#### List all language names and number of related articles in the order they appear in wikipedia.org"
   ]
  },
  {
   "cell_type": "code",
   "execution_count": 178,
   "metadata": {},
   "outputs": [],
   "source": [
    "# This is the url you will scrape in this exercise\n",
    "url = 'https://www.wikipedia.org/'\n",
    "driver = webdriver.Chrome()\n",
    "\n",
    "driver.get(url)"
   ]
  },
  {
   "cell_type": "code",
   "execution_count": 179,
   "metadata": {},
   "outputs": [
    {
     "name": "stdout",
     "output_type": "stream",
     "text": [
      "Español\n",
      "1 892 000+ artículos\n",
      "English\n",
      "6 715 000+ articles\n",
      "日本語\n",
      "1 387 000+ 記事\n",
      "Русский\n",
      "1 938 000+ статей\n",
      "Deutsch\n",
      "2 836 000+ Artikel\n",
      "Français\n",
      "2 553 000+ articles\n",
      "Italiano\n",
      "1 826 000+ voci\n",
      "中文\n",
      "1 377 000+ 条目 / 條目\n",
      "Português\n",
      "1 109 000+ artigos\n",
      "العربية\n",
      "1 217 000+ مقالة\n"
     ]
    }
   ],
   "source": [
    "#your code\n",
    "url = driver.find_element(By.CSS_SELECTOR, '#www-wikipedia-org > div.central-featured').find_elements(By.TAG_NAME, 'a')\n",
    "\n",
    "\n",
    "for f in url:\n",
    "    print (f.text)"
   ]
  },
  {
   "cell_type": "markdown",
   "metadata": {},
   "source": [
    "#### A list with the different kind of datasets available in data.gov.uk "
   ]
  },
  {
   "cell_type": "code",
   "execution_count": 180,
   "metadata": {},
   "outputs": [],
   "source": [
    "# This is the url you will scrape in this exercise\n",
    "url = 'https://data.gov.uk/'\n",
    "driver = webdriver.Chrome()\n",
    "\n",
    "driver.get(url)"
   ]
  },
  {
   "cell_type": "code",
   "execution_count": 182,
   "metadata": {},
   "outputs": [
    {
     "name": "stdout",
     "output_type": "stream",
     "text": [
      "Business and economy\n",
      "Crime and justice\n",
      "Defence\n",
      "Education\n",
      "Environment\n",
      "Government\n",
      "Government spending\n",
      "Health\n",
      "Mapping\n",
      "Society\n",
      "Towns and cities\n",
      "Transport\n",
      "Digital service performance\n",
      "Government reference data\n"
     ]
    }
   ],
   "source": [
    "#your code \n",
    "url = driver.find_element(By.CSS_SELECTOR, '#main-content > div:nth-child(3) > div > ul').find_elements(By.TAG_NAME, 'a')\n",
    "\n",
    "for f in url:\n",
    "    print (f.text)"
   ]
  },
  {
   "cell_type": "markdown",
   "metadata": {},
   "source": [
    "#### Top 10 languages by number of native speakers stored in a Pandas Dataframe"
   ]
  },
  {
   "cell_type": "code",
   "execution_count": 183,
   "metadata": {},
   "outputs": [],
   "source": [
    "# This is the url you will scrape in this exercise\n",
    "url = 'https://en.wikipedia.org/wiki/List_of_languages_by_number_of_native_speakers'\n",
    "driver = webdriver.Chrome()\n",
    "\n",
    "driver.get(url)"
   ]
  },
  {
   "cell_type": "code",
   "execution_count": 189,
   "metadata": {},
   "outputs": [
    {
     "data": {
      "text/html": [
       "<div>\n",
       "<style scoped>\n",
       "    .dataframe tbody tr th:only-of-type {\n",
       "        vertical-align: middle;\n",
       "    }\n",
       "\n",
       "    .dataframe tbody tr th {\n",
       "        vertical-align: top;\n",
       "    }\n",
       "\n",
       "    .dataframe thead th {\n",
       "        text-align: right;\n",
       "    }\n",
       "</style>\n",
       "<table border=\"1\" class=\"dataframe\">\n",
       "  <thead>\n",
       "    <tr style=\"text-align: right;\">\n",
       "      <th></th>\n",
       "      <th></th>\n",
       "      <th></th>\n",
       "      <th>#your</th>\n",
       "      <th>code</th>\n",
       "    </tr>\n",
       "  </thead>\n",
       "  <tbody>\n",
       "    <tr>\n",
       "      <th>df</th>\n",
       "      <th>=</th>\n",
       "      <th>pd.read_clipboard()</th>\n",
       "      <td>#</td>\n",
       "      <td>ctrl+v</td>\n",
       "    </tr>\n",
       "    <tr>\n",
       "      <th>df.head()</th>\n",
       "      <th>NaN</th>\n",
       "      <th>NaN</th>\n",
       "      <td>None</td>\n",
       "      <td>None</td>\n",
       "    </tr>\n",
       "  </tbody>\n",
       "</table>\n",
       "</div>"
      ],
      "text/plain": [
       "                                  #your    code\n",
       "df        =   pd.read_clipboard()     #  ctrl+v\n",
       "df.head() NaN NaN                  None    None"
      ]
     },
     "execution_count": 189,
     "metadata": {},
     "output_type": "execute_result"
    }
   ],
   "source": [
    "#your code PEDIR AYUDA\n",
    "\n",
    "df = pd.read_clipboard()    # ctrl+v\n",
    "\n",
    "df.head()"
   ]
  },
  {
   "cell_type": "markdown",
   "metadata": {},
   "source": [
    "### BONUS QUESTIONS"
   ]
  },
  {
   "cell_type": "markdown",
   "metadata": {},
   "source": [
    "#### Scrape a certain number of tweets of a given Twitter account."
   ]
  },
  {
   "cell_type": "code",
   "execution_count": null,
   "metadata": {},
   "outputs": [],
   "source": [
    "# This is the url you will scrape in this exercise \n",
    "# You will need to add the account credentials to this url\n",
    "url = 'https://twitter.com/'"
   ]
  },
  {
   "cell_type": "code",
   "execution_count": null,
   "metadata": {},
   "outputs": [],
   "source": [
    "# your code"
   ]
  },
  {
   "cell_type": "markdown",
   "metadata": {},
   "source": [
    "#### IMDB's Top 250 data (movie name, Initial release, director name and stars) as a pandas dataframe"
   ]
  },
  {
   "cell_type": "code",
   "execution_count": null,
   "metadata": {},
   "outputs": [],
   "source": [
    "# This is the url you will scrape in this exercise \n",
    "url = 'https://www.imdb.com/chart/top'"
   ]
  },
  {
   "cell_type": "code",
   "execution_count": null,
   "metadata": {},
   "outputs": [],
   "source": [
    "# your code"
   ]
  },
  {
   "cell_type": "markdown",
   "metadata": {},
   "source": [
    "#### Movie name, year and a brief summary of the top 10 random movies (IMDB) as a pandas dataframe."
   ]
  },
  {
   "cell_type": "code",
   "execution_count": null,
   "metadata": {},
   "outputs": [],
   "source": [
    "#This is the url you will scrape in this exercise\n",
    "url = 'http://www.imdb.com/chart/top'"
   ]
  },
  {
   "cell_type": "code",
   "execution_count": null,
   "metadata": {},
   "outputs": [],
   "source": [
    "#your code"
   ]
  },
  {
   "cell_type": "markdown",
   "metadata": {},
   "source": [
    "#### Find the live weather report (temperature, wind speed, description and weather) of a given city."
   ]
  },
  {
   "cell_type": "code",
   "execution_count": null,
   "metadata": {},
   "outputs": [],
   "source": [
    "#https://openweathermap.org/current\n",
    "city = city=input('Enter the city:')\n",
    "url = 'http://api.openweathermap.org/data/2.5/weather?'+'q='+city+'&APPID=b35975e18dc93725acb092f7272cc6b8&units=metric'"
   ]
  },
  {
   "cell_type": "code",
   "execution_count": null,
   "metadata": {},
   "outputs": [],
   "source": [
    "# your code"
   ]
  },
  {
   "cell_type": "markdown",
   "metadata": {},
   "source": [
    "#### Book name,price and stock availability as a pandas dataframe."
   ]
  },
  {
   "cell_type": "code",
   "execution_count": null,
   "metadata": {},
   "outputs": [],
   "source": [
    "# This is the url you will scrape in this exercise. \n",
    "# It is a fictional bookstore created to be scraped. \n",
    "url = 'http://books.toscrape.com/'"
   ]
  },
  {
   "cell_type": "code",
   "execution_count": null,
   "metadata": {},
   "outputs": [],
   "source": [
    "#your code"
   ]
  }
 ],
 "metadata": {
  "kernelspec": {
   "display_name": "Python 3",
   "language": "python",
   "name": "python3"
  },
  "language_info": {
   "codemirror_mode": {
    "name": "ipython",
    "version": 3
   },
   "file_extension": ".py",
   "mimetype": "text/x-python",
   "name": "python",
   "nbconvert_exporter": "python",
   "pygments_lexer": "ipython3",
   "version": "3.11.5"
  }
 },
 "nbformat": 4,
 "nbformat_minor": 2
}
