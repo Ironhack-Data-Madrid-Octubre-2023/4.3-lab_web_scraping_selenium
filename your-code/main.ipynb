{
 "cells": [
  {
   "cell_type": "markdown",
   "metadata": {},
   "source": [
    "# Web Scraping Lab\n",
    "\n",
    "You will find in this notebook some scrapy exercises to practise your scraping skills.\n",
    "\n",
    "**Tips:**\n",
    "\n",
    "- Check the response status code for each request to ensure you have obtained the intended contennt.\n",
    "- Print the response text in each request to understand the kind of info you are getting and its format.\n",
    "- Check for patterns in the response text to extract the data/info requested in each question.\n",
    "- Visit each url and take a look at its source through Chrome DevTools. You'll need to identify the html tags, special class names etc. used for the html content you are expected to extract."
   ]
  },
  {
   "cell_type": "markdown",
   "metadata": {},
   "source": [
    "- [Selenium Doc](https://www.selenium.dev/documentation/)\n",
    "- [Requests library](http://docs.python-requests.org/en/master/#the-user-guide) documentation \n",
    "- [Urllib](https://docs.python.org/3/library/urllib.html#module-urllib)\n",
    "- [re lib](https://docs.python.org/3/library/re.html)\n",
    "- [lxml lib](https://lxml.de/)\n",
    "- [Scrapy](https://scrapy.org/)\n",
    "- [List of HTTP status codes](https://en.wikipedia.org/wiki/List_of_HTTP_status_codes)\n",
    "- [HTML basics](http://www.simplehtmlguide.com/cheatsheet.php)\n",
    "- [CSS basics](https://www.cssbasics.com/#page_start)"
   ]
  },
  {
   "cell_type": "markdown",
   "metadata": {},
   "source": [
    "#### Below are the libraries and modules you may need. `Selenium` and `pandas` are imported for you."
   ]
  },
  {
   "cell_type": "code",
   "execution_count": 39,
   "metadata": {},
   "outputs": [],
   "source": [
    "import pandas as pd\n",
    "from selenium.webdriver.chrome.options import Options\n",
    "from webdriver_manager.chrome import ChromeDriverManager\n",
    "from selenium import webdriver\n",
    "import time\n",
    "import warnings\n",
    "warnings.filterwarnings('ignore')\n",
    "from selenium.webdriver.common.keys import Keys\n",
    "from selenium.webdriver.common.by import By # By es para buscar por tag, clase, id...\n",
    "import requests as req\n",
    "\n",
    "from bs4 import BeautifulSoup as bs"
   ]
  },
  {
   "cell_type": "code",
   "execution_count": 40,
   "metadata": {},
   "outputs": [],
   "source": [
    "from IPython.display import Image "
   ]
  },
  {
   "cell_type": "markdown",
   "metadata": {},
   "source": [
    "#### Enable the options you may need. In the next cell you have an example of them but you can choose to use them or not."
   ]
  },
  {
   "cell_type": "code",
   "execution_count": 41,
   "metadata": {},
   "outputs": [],
   "source": [
    "#driver configuration\n",
    "opciones=Options()\n",
    "\n",
    "opciones.add_experimental_option('excludeSwitches', ['enable-automation'])\n",
    "opciones.add_experimental_option('useAutomationExtension', False)\n",
    "opciones.headless=False    # si True, no aperece la ventana (headless=no visible)\n",
    "opciones.add_argument('--start-maximized')         # comienza maximizado\n",
    "#opciones.add_argument('user-data-dir=selenium')    # mantiene las cookies\n",
    "#opciones.add_extension('driver_folder/adblock.crx')       # adblocker\n",
    "opciones.add_argument('--incognito')"
   ]
  },
  {
   "cell_type": "code",
   "execution_count": null,
   "metadata": {},
   "outputs": [],
   "source": [
    "#driver = \"./chromedriver.exe\" #remember substitute this for your driver path\n",
    "#driver = webdriver.Chrome(driver,options = opciones)"
   ]
  },
  {
   "cell_type": "code",
   "execution_count": 42,
   "metadata": {},
   "outputs": [],
   "source": [
    "driver = \"./chromedriver.exe\" #remember substitute this for your driver path\n",
    "driver = webdriver.Chrome()"
   ]
  },
  {
   "cell_type": "markdown",
   "metadata": {},
   "source": [
    "#### Download, parse, and print the content from the Trending Developers page from GitHub:"
   ]
  },
  {
   "cell_type": "code",
   "execution_count": 5,
   "metadata": {},
   "outputs": [],
   "source": [
    "# This is the url you will scrape in this exercise\n",
    "url = 'https://github.com/trending/developers'"
   ]
  },
  {
   "cell_type": "code",
   "execution_count": 6,
   "metadata": {},
   "outputs": [],
   "source": [
    "#your code\n",
    "driver = webdriver.Chrome()\n",
    "\n",
    "driver.get(url)"
   ]
  },
  {
   "cell_type": "markdown",
   "metadata": {},
   "source": [
    "#### Display the names of the trending developers retrieved in the previous step.\n",
    "\n",
    "Your output should be a Python list of developer names. Each name should not contain any html tag.\n",
    "\n",
    "**Instructions:**\n",
    "\n",
    "1. Find out the html tag and class names used for the developer names.\n",
    "\n",
    "1. Use string manipulation techniques to replace whitespaces and linebreaks (i.e. `\\n`) in the *text* of each html element. Use a list to store the clean names.\n",
    "\n",
    "1. Print the list of names.\n",
    "\n",
    "Your output should look like below:\n",
    "\n",
    "```\n",
    "['trimstray (@trimstray)',\n",
    " 'joewalnes (JoeWalnes)',\n",
    " 'charlax (Charles-AxelDein)',\n",
    " 'ForrestKnight (ForrestKnight)',\n",
    " 'revery-ui (revery-ui)',\n",
    " 'alibaba (Alibaba)',\n",
    " 'Microsoft (Microsoft)',\n",
    " 'github (GitHub)',\n",
    " 'facebook (Facebook)',\n",
    " 'boazsegev (Bo)',\n",
    " 'google (Google)',\n",
    " 'cloudfetch',\n",
    " 'sindresorhus (SindreSorhus)',\n",
    " 'tensorflow',\n",
    " 'apache (TheApacheSoftwareFoundation)',\n",
    " 'DevonCrawford (DevonCrawford)',\n",
    " 'ARMmbed (ArmMbed)',\n",
    " 'vuejs (vuejs)',\n",
    " 'fastai (fast.ai)',\n",
    " 'QiShaoXuan (Qi)',\n",
    " 'joelparkerhenderson (JoelParkerHenderson)',\n",
    " 'torvalds (LinusTorvalds)',\n",
    " 'CyC2018',\n",
    " 'komeiji-satori (神楽坂覚々)',\n",
    " 'script-8']\n",
    " ```"
   ]
  },
  {
   "cell_type": "code",
   "execution_count": 35,
   "metadata": {},
   "outputs": [],
   "source": [
    "dev1 = driver.find_element(By.XPATH, '//*[@id=\"pa-homanp\"]/div[2]/div[1]/div[1]').text.split(\"\\n\")\n",
    "dev2 = driver.find_element(By.XPATH, '//*[@id=\"pa-chrisbanes\"]/div[2]/div[1]/div[1]').text.split(\"\\n\")\n",
    "dev3 = driver.find_element(By.XPATH, '//*[@id=\"pa-tmc\"]/div[2]/div[1]/div[1]').text.split(\"\\n\")\n",
    "dev4 = driver.find_element(By.XPATH, '//*[@id=\"pa-BBuf\"]/div[2]/div[1]/div[1]').text.split(\"\\n\")\n",
    "dev5 = driver.find_element(By.XPATH, '//*[@id=\"pa-stefanprodan\"]/div[2]/div[1]/div[1]').text.split(\"\\n\")\n",
    "dev6 = driver.find_element(By.XPATH, '//*[@id=\"pa-pcattori\"]/div[2]/div[1]/div[1]').text.split(\"\\n\")\n",
    "dev7 = driver.find_element(By.XPATH, '//*[@id=\"pa-lllyasviel\"]/div[2]/div[1]/div[1]').text.split(\"\\n\")\n",
    "dev8 = driver.find_element(By.XPATH, '//*[@id=\"pa-arvinxx\"]/div[2]/div[1]/div[1]').text.split(\"\\n\")\n",
    "dev9 = driver.find_element(By.XPATH, '//*[@id=\"pa-howardwu\"]/div[2]/div[1]/div[1]').text.split(\"\\n\")\n",
    "dev10 = driver.find_element(By.XPATH, '//*[@id=\"pa-shahednasser\"]/div[2]/div[1]/div[1]').text.split(\"\\n\")\n",
    "dev11 = driver.find_element(By.XPATH, '//*[@id=\"pa-knadh\"]/div[2]/div[1]/div[1]').text.split(\"\\n\")\n",
    "dev12 = driver.find_element(By.XPATH, '//*[@id=\"pa-mattt\"]/div[2]/div[1]/div[1]').text.split(\"\\n\")\n",
    "dev13 = driver.find_element(By.XPATH, '//*[@id=\"pa-kixelated\"]/div[2]/div[1]/div[1]').text.split(\"\\n\")\n",
    "dev14 = driver.find_element(By.XPATH, '//*[@id=\"pa-bradfitz\"]/div[2]/div[1]/div[1]').text.split(\"\\n\")\n",
    "dev15 = driver.find_element(By.XPATH, '//*[@id=\"pa-mhevery\"]/div[2]/div[1]/div[1]').text.split(\"\\n\")\n",
    "dev16 = driver.find_element(By.XPATH, '//*[@id=\"pa-andrewlock\"]/div[2]/div[1]/div[1]').text.split(\"\\n\")\n",
    "dev17 = driver.find_element(By.XPATH, '//*[@id=\"pa-briansmith\"]/div[2]/div[1]/div[1]').text.split(\"\\n\")\n",
    "dev18 = driver.find_element(By.XPATH, '//*[@id=\"pa-numandev1\"]/div[2]/div[1]/div[1]').text.split(\"\\n\")\n",
    "dev19 = driver.find_element(By.XPATH, '//*[@id=\"pa-fonsp\"]/div[2]/div[1]/div[1]').text.split(\"\\n\")\n",
    "dev20 = driver.find_element(By.XPATH, '//*[@id=\"pa-buger\"]/div[2]/div[1]/div[1]').text.split(\"\\n\")\n",
    "dev21 = driver.find_element(By.XPATH, '//*[@id=\"pa-uyarn\"]/div[2]/div[1]/div[1]').text.split(\"\\n\")\n",
    "dev22 = driver.find_element(By.XPATH, '//*[@id=\"pa-stnguyen90\"]/div[2]/div[1]/div[1]').text.split(\"\\n\")\n",
    "dev23 = driver.find_element(By.XPATH, '//*[@id=\"pa-ArgoZhang\"]/div[2]/div[1]/div[1]').text.split(\"\\n\")\n",
    "dev24 = driver.find_element(By.XPATH, '//*[@id=\"pa-jcstein\"]/div[2]/div[1]/div[1]').text.split(\"\\n\")\n",
    "dev25 = driver.find_element(By.XPATH, '//*[@id=\"pa-mikermcneil\"]/div[2]/div[1]/div[1]').text.split(\"\\n\")\n"
   ]
  },
  {
   "cell_type": "code",
   "execution_count": 37,
   "metadata": {},
   "outputs": [
    {
     "data": {
      "text/plain": [
       "(['Ismail Pelaseyed', 'homanp'],\n",
       " ['Chris Banes', 'chrisbanes'],\n",
       " ['Travis Cline', 'tmc'],\n",
       " ['Xiaoyu Zhang', 'BBuf'],\n",
       " ['Stefan Prodan', 'stefanprodan'],\n",
       " ['Pedro Cattori', 'pcattori'],\n",
       " ['lllyasviel'],\n",
       " ['Arvin Xu', 'arvinxx'],\n",
       " ['Howard Wu', 'howardwu'],\n",
       " ['Shahed Nasser', 'shahednasser'],\n",
       " ['Kailash Nadh', 'knadh'],\n",
       " ['Mattt', 'mattt'],\n",
       " ['kixelated'],\n",
       " ['Brad Fitzpatrick', 'bradfitz'],\n",
       " ['Miško Hevery', 'mhevery'],\n",
       " ['Andrew Lock', 'andrewlock'],\n",
       " ['Brian Smith', 'briansmith'],\n",
       " ['Fons van der Plas', 'fonsp'],\n",
       " ['Fons van der Plas', 'fonsp'],\n",
       " ['Leonid Bugaev', 'buger'],\n",
       " ['wū yāng', 'uyarn'],\n",
       " ['Steven Nguyen', 'stnguyen90'],\n",
       " ['Argo Zhang', 'ArgoZhang'],\n",
       " ['Josh Stein', 'jcstein'],\n",
       " ['Mike McNeil', 'mikermcneil'])"
      ]
     },
     "execution_count": 37,
     "metadata": {},
     "output_type": "execute_result"
    }
   ],
   "source": [
    "trending_developers = dev1, dev2, dev3, dev4, dev5, dev6, dev7, dev8, dev9, dev10, dev11, dev12, dev13, dev14, dev15, dev16, dev17, dev19, dev19, dev20, dev21, dev22, dev23, dev24, dev25\n",
    "trending_developers"
   ]
  },
  {
   "cell_type": "markdown",
   "metadata": {},
   "source": [
    "#### Display the trending Python repositories in GitHub\n",
    "\n",
    "The steps to solve this problem is similar to the previous one except that you need to find out the repository names instead of developer names."
   ]
  },
  {
   "cell_type": "code",
   "execution_count": 42,
   "metadata": {},
   "outputs": [],
   "source": [
    "# This is the url you will scrape in this exercise\n",
    "url = 'https://github.com/trending/python?since=daily'\n",
    "\n",
    "driver = webdriver.Chrome()\n",
    "\n",
    "driver.get(url)"
   ]
  },
  {
   "cell_type": "code",
   "execution_count": 43,
   "metadata": {},
   "outputs": [
    {
     "data": {
      "text/plain": [
       "[<selenium.webdriver.remote.webelement.WebElement (session=\"30fd9d4ff57b51fff1e4289c9ef6d288\", element=\"3C7AE5ADBF60C504FEC66A132DBC6C15_element_626\")>,\n",
       " <selenium.webdriver.remote.webelement.WebElement (session=\"30fd9d4ff57b51fff1e4289c9ef6d288\", element=\"3C7AE5ADBF60C504FEC66A132DBC6C15_element_654\")>,\n",
       " <selenium.webdriver.remote.webelement.WebElement (session=\"30fd9d4ff57b51fff1e4289c9ef6d288\", element=\"3C7AE5ADBF60C504FEC66A132DBC6C15_element_684\")>,\n",
       " <selenium.webdriver.remote.webelement.WebElement (session=\"30fd9d4ff57b51fff1e4289c9ef6d288\", element=\"3C7AE5ADBF60C504FEC66A132DBC6C15_element_714\")>,\n",
       " <selenium.webdriver.remote.webelement.WebElement (session=\"30fd9d4ff57b51fff1e4289c9ef6d288\", element=\"3C7AE5ADBF60C504FEC66A132DBC6C15_element_744\")>,\n",
       " <selenium.webdriver.remote.webelement.WebElement (session=\"30fd9d4ff57b51fff1e4289c9ef6d288\", element=\"3C7AE5ADBF60C504FEC66A132DBC6C15_element_774\")>,\n",
       " <selenium.webdriver.remote.webelement.WebElement (session=\"30fd9d4ff57b51fff1e4289c9ef6d288\", element=\"3C7AE5ADBF60C504FEC66A132DBC6C15_element_804\")>,\n",
       " <selenium.webdriver.remote.webelement.WebElement (session=\"30fd9d4ff57b51fff1e4289c9ef6d288\", element=\"3C7AE5ADBF60C504FEC66A132DBC6C15_element_828\")>,\n",
       " <selenium.webdriver.remote.webelement.WebElement (session=\"30fd9d4ff57b51fff1e4289c9ef6d288\", element=\"3C7AE5ADBF60C504FEC66A132DBC6C15_element_858\")>,\n",
       " <selenium.webdriver.remote.webelement.WebElement (session=\"30fd9d4ff57b51fff1e4289c9ef6d288\", element=\"3C7AE5ADBF60C504FEC66A132DBC6C15_element_888\")>,\n",
       " <selenium.webdriver.remote.webelement.WebElement (session=\"30fd9d4ff57b51fff1e4289c9ef6d288\", element=\"3C7AE5ADBF60C504FEC66A132DBC6C15_element_918\")>,\n",
       " <selenium.webdriver.remote.webelement.WebElement (session=\"30fd9d4ff57b51fff1e4289c9ef6d288\", element=\"3C7AE5ADBF60C504FEC66A132DBC6C15_element_948\")>,\n",
       " <selenium.webdriver.remote.webelement.WebElement (session=\"30fd9d4ff57b51fff1e4289c9ef6d288\", element=\"3C7AE5ADBF60C504FEC66A132DBC6C15_element_978\")>,\n",
       " <selenium.webdriver.remote.webelement.WebElement (session=\"30fd9d4ff57b51fff1e4289c9ef6d288\", element=\"3C7AE5ADBF60C504FEC66A132DBC6C15_element_1006\")>,\n",
       " <selenium.webdriver.remote.webelement.WebElement (session=\"30fd9d4ff57b51fff1e4289c9ef6d288\", element=\"3C7AE5ADBF60C504FEC66A132DBC6C15_element_1036\")>,\n",
       " <selenium.webdriver.remote.webelement.WebElement (session=\"30fd9d4ff57b51fff1e4289c9ef6d288\", element=\"3C7AE5ADBF60C504FEC66A132DBC6C15_element_1060\")>,\n",
       " <selenium.webdriver.remote.webelement.WebElement (session=\"30fd9d4ff57b51fff1e4289c9ef6d288\", element=\"3C7AE5ADBF60C504FEC66A132DBC6C15_element_1092\")>,\n",
       " <selenium.webdriver.remote.webelement.WebElement (session=\"30fd9d4ff57b51fff1e4289c9ef6d288\", element=\"3C7AE5ADBF60C504FEC66A132DBC6C15_element_1122\")>,\n",
       " <selenium.webdriver.remote.webelement.WebElement (session=\"30fd9d4ff57b51fff1e4289c9ef6d288\", element=\"3C7AE5ADBF60C504FEC66A132DBC6C15_element_1152\")>,\n",
       " <selenium.webdriver.remote.webelement.WebElement (session=\"30fd9d4ff57b51fff1e4289c9ef6d288\", element=\"3C7AE5ADBF60C504FEC66A132DBC6C15_element_1182\")>,\n",
       " <selenium.webdriver.remote.webelement.WebElement (session=\"30fd9d4ff57b51fff1e4289c9ef6d288\", element=\"3C7AE5ADBF60C504FEC66A132DBC6C15_element_1212\")>,\n",
       " <selenium.webdriver.remote.webelement.WebElement (session=\"30fd9d4ff57b51fff1e4289c9ef6d288\", element=\"3C7AE5ADBF60C504FEC66A132DBC6C15_element_1242\")>,\n",
       " <selenium.webdriver.remote.webelement.WebElement (session=\"30fd9d4ff57b51fff1e4289c9ef6d288\", element=\"3C7AE5ADBF60C504FEC66A132DBC6C15_element_1272\")>,\n",
       " <selenium.webdriver.remote.webelement.WebElement (session=\"30fd9d4ff57b51fff1e4289c9ef6d288\", element=\"3C7AE5ADBF60C504FEC66A132DBC6C15_element_1300\")>,\n",
       " <selenium.webdriver.remote.webelement.WebElement (session=\"30fd9d4ff57b51fff1e4289c9ef6d288\", element=\"3C7AE5ADBF60C504FEC66A132DBC6C15_element_1330\")>]"
      ]
     },
     "execution_count": 43,
     "metadata": {},
     "output_type": "execute_result"
    }
   ],
   "source": [
    "#your code\n",
    "\n",
    "driver.find_elements(By.XPATH, '//DIV//h2//a')"
   ]
  },
  {
   "cell_type": "code",
   "execution_count": 50,
   "metadata": {},
   "outputs": [
    {
     "data": {
      "text/plain": [
       "<selenium.webdriver.remote.webelement.WebElement (session=\"30fd9d4ff57b51fff1e4289c9ef6d288\", element=\"3C7AE5ADBF60C504FEC66A132DBC6C15_element_683\")>"
      ]
     },
     "execution_count": 50,
     "metadata": {},
     "output_type": "execute_result"
    }
   ],
   "source": [
    "driver.find_elements(By.XPATH, '//DIV//h2')[3]"
   ]
  },
  {
   "cell_type": "code",
   "execution_count": 52,
   "metadata": {},
   "outputs": [],
   "source": [
    "repos = driver.find_elements(By.XPATH, '//DIV//h2//a')"
   ]
  },
  {
   "cell_type": "code",
   "execution_count": 48,
   "metadata": {},
   "outputs": [
    {
     "data": {
      "text/plain": [
       "['swisskyrepo / PayloadsAllTheThings',\n",
       " 'THUDM / ChatGLM3',\n",
       " 'PaddlePaddle / PaddleOCR',\n",
       " 'langchain-ai / langchain',\n",
       " 'dataelement / bisheng',\n",
       " 'Azure / MS-AMP',\n",
       " 'xxlong0 / Wonder3D',\n",
       " 'yunjey / pytorch-tutorial',\n",
       " 'facebookresearch / llama',\n",
       " 'localstack / localstack',\n",
       " 'OpenBMB / ChatDev',\n",
       " 'ray-project / ray',\n",
       " 'CycodeLabs / raven',\n",
       " 'ageitgey / face_recognition',\n",
       " 'iam-veeramalla / aws-devops-zero-to-hero',\n",
       " 'openai / whisper',\n",
       " 'sqlfluff / sqlfluff',\n",
       " 'imartinez / privateGPT',\n",
       " 'reflex-dev / reflex',\n",
       " 'donnemartin / system-design-primer',\n",
       " 'lm-sys / FastChat',\n",
       " 'togethercomputer / RedPajama-Data',\n",
       " 'SkyworkAI / Skywork',\n",
       " 'microsoft / qlib',\n",
       " 'pathwaycom / llm-app']"
      ]
     },
     "execution_count": 48,
     "metadata": {},
     "output_type": "execute_result"
    }
   ],
   "source": [
    "my_repos_list= []\n",
    "\n",
    "for e in repos:\n",
    "    my_repos_list.append(e.text)\n",
    "\n",
    "my_repos_list"
   ]
  },
  {
   "cell_type": "code",
   "execution_count": null,
   "metadata": {},
   "outputs": [],
   "source": []
  },
  {
   "cell_type": "markdown",
   "metadata": {},
   "source": [
    "#### Display all the image links from Walt Disney wikipedia page"
   ]
  },
  {
   "cell_type": "code",
   "execution_count": 53,
   "metadata": {},
   "outputs": [],
   "source": [
    "# This is the url you will scrape in this exercise\n",
    "url = 'https://en.wikipedia.org/wiki/Walt_Disney'\n",
    "driver = webdriver.Chrome()\n",
    "\n",
    "driver.get(url)"
   ]
  },
  {
   "cell_type": "code",
   "execution_count": 105,
   "metadata": {},
   "outputs": [
    {
     "data": {
      "text/plain": [
       "[<selenium.webdriver.remote.webelement.WebElement (session=\"2fec61f9bb578b320c2e52c55b79c0ef\", element=\"E57B3A84BD439B0A4BA3338A20D6E46A_element_7164\")>,\n",
       " <selenium.webdriver.remote.webelement.WebElement (session=\"2fec61f9bb578b320c2e52c55b79c0ef\", element=\"E57B3A84BD439B0A4BA3338A20D6E46A_element_41\")>,\n",
       " <selenium.webdriver.remote.webelement.WebElement (session=\"2fec61f9bb578b320c2e52c55b79c0ef\", element=\"E57B3A84BD439B0A4BA3338A20D6E46A_element_783\")>,\n",
       " <selenium.webdriver.remote.webelement.WebElement (session=\"2fec61f9bb578b320c2e52c55b79c0ef\", element=\"E57B3A84BD439B0A4BA3338A20D6E46A_element_941\")>,\n",
       " <selenium.webdriver.remote.webelement.WebElement (session=\"2fec61f9bb578b320c2e52c55b79c0ef\", element=\"E57B3A84BD439B0A4BA3338A20D6E46A_element_945\")>,\n",
       " <selenium.webdriver.remote.webelement.WebElement (session=\"2fec61f9bb578b320c2e52c55b79c0ef\", element=\"E57B3A84BD439B0A4BA3338A20D6E46A_element_963\")>,\n",
       " <selenium.webdriver.remote.webelement.WebElement (session=\"2fec61f9bb578b320c2e52c55b79c0ef\", element=\"E57B3A84BD439B0A4BA3338A20D6E46A_element_1069\")>,\n",
       " <selenium.webdriver.remote.webelement.WebElement (session=\"2fec61f9bb578b320c2e52c55b79c0ef\", element=\"E57B3A84BD439B0A4BA3338A20D6E46A_element_1227\")>,\n",
       " <selenium.webdriver.remote.webelement.WebElement (session=\"2fec61f9bb578b320c2e52c55b79c0ef\", element=\"E57B3A84BD439B0A4BA3338A20D6E46A_element_1417\")>,\n",
       " <selenium.webdriver.remote.webelement.WebElement (session=\"2fec61f9bb578b320c2e52c55b79c0ef\", element=\"E57B3A84BD439B0A4BA3338A20D6E46A_element_1676\")>,\n",
       " <selenium.webdriver.remote.webelement.WebElement (session=\"2fec61f9bb578b320c2e52c55b79c0ef\", element=\"E57B3A84BD439B0A4BA3338A20D6E46A_element_1849\")>,\n",
       " <selenium.webdriver.remote.webelement.WebElement (session=\"2fec61f9bb578b320c2e52c55b79c0ef\", element=\"E57B3A84BD439B0A4BA3338A20D6E46A_element_1987\")>,\n",
       " <selenium.webdriver.remote.webelement.WebElement (session=\"2fec61f9bb578b320c2e52c55b79c0ef\", element=\"E57B3A84BD439B0A4BA3338A20D6E46A_element_2143\")>,\n",
       " <selenium.webdriver.remote.webelement.WebElement (session=\"2fec61f9bb578b320c2e52c55b79c0ef\", element=\"E57B3A84BD439B0A4BA3338A20D6E46A_element_2359\")>,\n",
       " <selenium.webdriver.remote.webelement.WebElement (session=\"2fec61f9bb578b320c2e52c55b79c0ef\", element=\"E57B3A84BD439B0A4BA3338A20D6E46A_element_2545\")>,\n",
       " <selenium.webdriver.remote.webelement.WebElement (session=\"2fec61f9bb578b320c2e52c55b79c0ef\", element=\"E57B3A84BD439B0A4BA3338A20D6E46A_element_2662\")>,\n",
       " <selenium.webdriver.remote.webelement.WebElement (session=\"2fec61f9bb578b320c2e52c55b79c0ef\", element=\"E57B3A84BD439B0A4BA3338A20D6E46A_element_2721\")>,\n",
       " <selenium.webdriver.remote.webelement.WebElement (session=\"2fec61f9bb578b320c2e52c55b79c0ef\", element=\"E57B3A84BD439B0A4BA3338A20D6E46A_element_2897\")>,\n",
       " <selenium.webdriver.remote.webelement.WebElement (session=\"2fec61f9bb578b320c2e52c55b79c0ef\", element=\"E57B3A84BD439B0A4BA3338A20D6E46A_element_3192\")>,\n",
       " <selenium.webdriver.remote.webelement.WebElement (session=\"2fec61f9bb578b320c2e52c55b79c0ef\", element=\"E57B3A84BD439B0A4BA3338A20D6E46A_element_10156\")>,\n",
       " <selenium.webdriver.remote.webelement.WebElement (session=\"2fec61f9bb578b320c2e52c55b79c0ef\", element=\"E57B3A84BD439B0A4BA3338A20D6E46A_element_10162\")>,\n",
       " <selenium.webdriver.remote.webelement.WebElement (session=\"2fec61f9bb578b320c2e52c55b79c0ef\", element=\"E57B3A84BD439B0A4BA3338A20D6E46A_element_10169\")>,\n",
       " <selenium.webdriver.remote.webelement.WebElement (session=\"2fec61f9bb578b320c2e52c55b79c0ef\", element=\"E57B3A84BD439B0A4BA3338A20D6E46A_element_7055\")>,\n",
       " <selenium.webdriver.remote.webelement.WebElement (session=\"2fec61f9bb578b320c2e52c55b79c0ef\", element=\"E57B3A84BD439B0A4BA3338A20D6E46A_element_7064\")>,\n",
       " <selenium.webdriver.remote.webelement.WebElement (session=\"2fec61f9bb578b320c2e52c55b79c0ef\", element=\"E57B3A84BD439B0A4BA3338A20D6E46A_element_12146\")>,\n",
       " <selenium.webdriver.remote.webelement.WebElement (session=\"2fec61f9bb578b320c2e52c55b79c0ef\", element=\"E57B3A84BD439B0A4BA3338A20D6E46A_element_7940\")>,\n",
       " <selenium.webdriver.remote.webelement.WebElement (session=\"2fec61f9bb578b320c2e52c55b79c0ef\", element=\"E57B3A84BD439B0A4BA3338A20D6E46A_element_7974\")>,\n",
       " <selenium.webdriver.remote.webelement.WebElement (session=\"2fec61f9bb578b320c2e52c55b79c0ef\", element=\"E57B3A84BD439B0A4BA3338A20D6E46A_element_10198\")>,\n",
       " <selenium.webdriver.remote.webelement.WebElement (session=\"2fec61f9bb578b320c2e52c55b79c0ef\", element=\"E57B3A84BD439B0A4BA3338A20D6E46A_element_7984\")>,\n",
       " <selenium.webdriver.remote.webelement.WebElement (session=\"2fec61f9bb578b320c2e52c55b79c0ef\", element=\"E57B3A84BD439B0A4BA3338A20D6E46A_element_10202\")>,\n",
       " <selenium.webdriver.remote.webelement.WebElement (session=\"2fec61f9bb578b320c2e52c55b79c0ef\", element=\"E57B3A84BD439B0A4BA3338A20D6E46A_element_7993\")>,\n",
       " <selenium.webdriver.remote.webelement.WebElement (session=\"2fec61f9bb578b320c2e52c55b79c0ef\", element=\"E57B3A84BD439B0A4BA3338A20D6E46A_element_7999\")>,\n",
       " <selenium.webdriver.remote.webelement.WebElement (session=\"2fec61f9bb578b320c2e52c55b79c0ef\", element=\"E57B3A84BD439B0A4BA3338A20D6E46A_element_8004\")>,\n",
       " <selenium.webdriver.remote.webelement.WebElement (session=\"2fec61f9bb578b320c2e52c55b79c0ef\", element=\"E57B3A84BD439B0A4BA3338A20D6E46A_element_8016\")>,\n",
       " <selenium.webdriver.remote.webelement.WebElement (session=\"2fec61f9bb578b320c2e52c55b79c0ef\", element=\"E57B3A84BD439B0A4BA3338A20D6E46A_element_8284\")>,\n",
       " <selenium.webdriver.remote.webelement.WebElement (session=\"2fec61f9bb578b320c2e52c55b79c0ef\", element=\"E57B3A84BD439B0A4BA3338A20D6E46A_element_8287\")>,\n",
       " <selenium.webdriver.remote.webelement.WebElement (session=\"2fec61f9bb578b320c2e52c55b79c0ef\", element=\"E57B3A84BD439B0A4BA3338A20D6E46A_element_12232\")>]"
      ]
     },
     "execution_count": 105,
     "metadata": {},
     "output_type": "execute_result"
    }
   ],
   "source": [
    "driver.find_elements(By.XPATH, '//img')  #No puedo llamar por SRC, ya que es un atributo y no es llamable "
   ]
  },
  {
   "cell_type": "code",
   "execution_count": 107,
   "metadata": {},
   "outputs": [
    {
     "data": {
      "text/plain": [
       "['https://en.wikipedia.org/static/images/icons/wikipedia.png',\n",
       " 'https://en.wikipedia.org/static/images/mobile/copyright/wikipedia-wordmark-en.svg',\n",
       " 'https://en.wikipedia.org/static/images/mobile/copyright/wikipedia-tagline-en.svg',\n",
       " 'https://upload.wikimedia.org/wikipedia/en/thumb/e/e7/Cscr-featured.svg/20px-Cscr-featured.svg.png',\n",
       " 'https://upload.wikimedia.org/wikipedia/en/thumb/8/8c/Extended-protection-shackle.svg/20px-Extended-protection-shackle.svg.png',\n",
       " 'https://upload.wikimedia.org/wikipedia/commons/thumb/d/df/Walt_Disney_1946.JPG/220px-Walt_Disney_1946.JPG',\n",
       " 'https://upload.wikimedia.org/wikipedia/commons/thumb/8/87/Walt_Disney_1942_signature.svg/150px-Walt_Disney_1942_signature.svg.png',\n",
       " 'https://upload.wikimedia.org/wikipedia/commons/thumb/3/3a/Walt_Disney_Birthplace_Exterior_Hermosa_Chicago_Illinois.jpg/220px-Walt_Disney_Birthplace_Exterior_Hermosa_Chicago_Illinois.jpg',\n",
       " 'https://upload.wikimedia.org/wikipedia/commons/thumb/c/c4/Walt_Disney_envelope_ca._1921.jpg/220px-Walt_Disney_envelope_ca._1921.jpg',\n",
       " 'https://upload.wikimedia.org/wikipedia/en/thumb/4/4e/Steamboat-willie.jpg/220px-Steamboat-willie.jpg',\n",
       " 'https://upload.wikimedia.org/wikipedia/commons/thumb/c/cd/Walt_Disney_Snow_white_1937_trailer_screenshot_%2813%29.jpg/220px-Walt_Disney_Snow_white_1937_trailer_screenshot_%2813%29.jpg',\n",
       " 'https://upload.wikimedia.org/wikipedia/commons/thumb/1/15/Disney_drawing_goofy.jpg/170px-Disney_drawing_goofy.jpg',\n",
       " 'https://upload.wikimedia.org/wikipedia/commons/thumb/8/8c/WaltDisneyplansDisneylandDec1954.jpg/220px-WaltDisneyplansDisneylandDec1954.jpg',\n",
       " 'https://upload.wikimedia.org/wikipedia/commons/thumb/f/ff/Walt_disney_portrait_right.jpg/170px-Walt_disney_portrait_right.jpg',\n",
       " 'https://upload.wikimedia.org/wikipedia/commons/thumb/1/1a/Walt_Disney_Grave.JPG/170px-Walt_Disney_Grave.JPG',\n",
       " 'https://upload.wikimedia.org/wikipedia/commons/thumb/1/1b/Nuvola_apps_kaboodle.svg/16px-Nuvola_apps_kaboodle.svg.png',\n",
       " 'https://upload.wikimedia.org/wikipedia/commons/thumb/1/13/DisneySchiphol1951.jpg/220px-DisneySchiphol1951.jpg',\n",
       " 'https://upload.wikimedia.org/wikipedia/commons/thumb/6/6c/Disney1968.jpg/170px-Disney1968.jpg',\n",
       " 'https://upload.wikimedia.org/wikipedia/commons/thumb/b/b0/Disney_Oscar_1953_%28cropped%29.jpg/170px-Disney_Oscar_1953_%28cropped%29.jpg',\n",
       " 'https://upload.wikimedia.org/wikipedia/en/thumb/4/4a/Commons-logo.svg/30px-Commons-logo.svg.png',\n",
       " 'https://upload.wikimedia.org/wikipedia/commons/thumb/4/4c/Wikisource-logo.svg/38px-Wikisource-logo.svg.png',\n",
       " 'https://upload.wikimedia.org/wikipedia/commons/thumb/f/fa/Wikiquote-logo.svg/34px-Wikiquote-logo.svg.png',\n",
       " 'https://upload.wikimedia.org/wikipedia/en/thumb/8/8a/OOjs_UI_icon_edit-ltr-progressive.svg/10px-OOjs_UI_icon_edit-ltr-progressive.svg.png',\n",
       " 'https://upload.wikimedia.org/wikipedia/en/thumb/8/8a/OOjs_UI_icon_edit-ltr-progressive.svg/10px-OOjs_UI_icon_edit-ltr-progressive.svg.png',\n",
       " 'https://upload.wikimedia.org/wikipedia/en/thumb/9/96/Symbol_category_class.svg/16px-Symbol_category_class.svg.png',\n",
       " 'https://upload.wikimedia.org/wikipedia/commons/thumb/e/e3/Disneyland_Resort_logo.svg/135px-Disneyland_Resort_logo.svg.png',\n",
       " 'https://upload.wikimedia.org/wikipedia/commons/thumb/d/da/Animation_disc.svg/20px-Animation_disc.svg.png',\n",
       " 'https://upload.wikimedia.org/wikipedia/en/thumb/6/69/P_vip.svg/19px-P_vip.svg.png',\n",
       " 'https://upload.wikimedia.org/wikipedia/commons/thumb/1/1a/Magic_Kingdom_castle.jpg/15px-Magic_Kingdom_castle.jpg',\n",
       " 'https://upload.wikimedia.org/wikipedia/en/thumb/e/e7/Video-x-generic.svg/19px-Video-x-generic.svg.png',\n",
       " 'https://upload.wikimedia.org/wikipedia/commons/thumb/a/a3/Flag_of_Los_Angeles_County%2C_California.svg/21px-Flag_of_Los_Angeles_County%2C_California.svg.png',\n",
       " 'https://upload.wikimedia.org/wikipedia/commons/thumb/8/8c/Blank_television_set.svg/21px-Blank_television_set.svg.png',\n",
       " 'https://upload.wikimedia.org/wikipedia/en/thumb/a/a4/Flag_of_the_United_States.svg/21px-Flag_of_the_United_States.svg.png',\n",
       " 'https://upload.wikimedia.org/wikipedia/en/thumb/8/8a/OOjs_UI_icon_edit-ltr-progressive.svg/10px-OOjs_UI_icon_edit-ltr-progressive.svg.png',\n",
       " 'https://en.wikipedia.org/static/images/footer/wikimedia-button.png',\n",
       " 'https://en.wikipedia.org/static/images/footer/poweredby_mediawiki_88x31.png']"
      ]
     },
     "execution_count": 107,
     "metadata": {},
     "output_type": "execute_result"
    }
   ],
   "source": [
    "my_pictures = []\n",
    "\n",
    "for e in driver.find_elements(By.XPATH, '//img'):\n",
    "    my_pictures.append(e.get_attribute(\"src\"))\n",
    "\n",
    "my_pictures"
   ]
  },
  {
   "cell_type": "code",
   "execution_count": 191,
   "metadata": {},
   "outputs": [
    {
     "data": {
      "text/html": [
       "<img src=\"https://en.wikipedia.org/static/images/icons/wikipedia.png\"/>"
      ],
      "text/plain": [
       "<IPython.core.display.Image object>"
      ]
     },
     "metadata": {},
     "output_type": "display_data"
    },
    {
     "data": {
      "text/html": [
       "<img src=\"https://en.wikipedia.org/static/images/mobile/copyright/wikipedia-wordmark-en.svg\"/>"
      ],
      "text/plain": [
       "<IPython.core.display.Image object>"
      ]
     },
     "metadata": {},
     "output_type": "display_data"
    },
    {
     "data": {
      "text/html": [
       "<img src=\"https://en.wikipedia.org/static/images/mobile/copyright/wikipedia-tagline-en.svg\"/>"
      ],
      "text/plain": [
       "<IPython.core.display.Image object>"
      ]
     },
     "metadata": {},
     "output_type": "display_data"
    },
    {
     "data": {
      "text/html": [
       "<img src=\"https://upload.wikimedia.org/wikipedia/en/thumb/e/e7/Cscr-featured.svg/20px-Cscr-featured.svg.png\"/>"
      ],
      "text/plain": [
       "<IPython.core.display.Image object>"
      ]
     },
     "metadata": {},
     "output_type": "display_data"
    },
    {
     "data": {
      "text/html": [
       "<img src=\"https://upload.wikimedia.org/wikipedia/en/thumb/8/8c/Extended-protection-shackle.svg/20px-Extended-protection-shackle.svg.png\"/>"
      ],
      "text/plain": [
       "<IPython.core.display.Image object>"
      ]
     },
     "metadata": {},
     "output_type": "display_data"
    },
    {
     "data": {
      "text/html": [
       "<img src=\"https://upload.wikimedia.org/wikipedia/commons/thumb/d/df/Walt_Disney_1946.JPG/220px-Walt_Disney_1946.JPG\"/>"
      ],
      "text/plain": [
       "<IPython.core.display.Image object>"
      ]
     },
     "metadata": {},
     "output_type": "display_data"
    },
    {
     "data": {
      "text/html": [
       "<img src=\"https://upload.wikimedia.org/wikipedia/commons/thumb/8/87/Walt_Disney_1942_signature.svg/150px-Walt_Disney_1942_signature.svg.png\"/>"
      ],
      "text/plain": [
       "<IPython.core.display.Image object>"
      ]
     },
     "metadata": {},
     "output_type": "display_data"
    },
    {
     "data": {
      "text/html": [
       "<img src=\"https://upload.wikimedia.org/wikipedia/commons/thumb/3/3a/Walt_Disney_Birthplace_Exterior_Hermosa_Chicago_Illinois.jpg/220px-Walt_Disney_Birthplace_Exterior_Hermosa_Chicago_Illinois.jpg\"/>"
      ],
      "text/plain": [
       "<IPython.core.display.Image object>"
      ]
     },
     "metadata": {},
     "output_type": "display_data"
    },
    {
     "data": {
      "text/html": [
       "<img src=\"https://upload.wikimedia.org/wikipedia/commons/thumb/c/c4/Walt_Disney_envelope_ca._1921.jpg/220px-Walt_Disney_envelope_ca._1921.jpg\"/>"
      ],
      "text/plain": [
       "<IPython.core.display.Image object>"
      ]
     },
     "metadata": {},
     "output_type": "display_data"
    },
    {
     "data": {
      "text/html": [
       "<img src=\"https://upload.wikimedia.org/wikipedia/en/thumb/4/4e/Steamboat-willie.jpg/220px-Steamboat-willie.jpg\"/>"
      ],
      "text/plain": [
       "<IPython.core.display.Image object>"
      ]
     },
     "metadata": {},
     "output_type": "display_data"
    },
    {
     "data": {
      "text/html": [
       "<img src=\"https://upload.wikimedia.org/wikipedia/commons/thumb/c/cd/Walt_Disney_Snow_white_1937_trailer_screenshot_%2813%29.jpg/220px-Walt_Disney_Snow_white_1937_trailer_screenshot_%2813%29.jpg\"/>"
      ],
      "text/plain": [
       "<IPython.core.display.Image object>"
      ]
     },
     "metadata": {},
     "output_type": "display_data"
    },
    {
     "data": {
      "text/html": [
       "<img src=\"https://upload.wikimedia.org/wikipedia/commons/thumb/1/15/Disney_drawing_goofy.jpg/170px-Disney_drawing_goofy.jpg\"/>"
      ],
      "text/plain": [
       "<IPython.core.display.Image object>"
      ]
     },
     "metadata": {},
     "output_type": "display_data"
    },
    {
     "data": {
      "text/html": [
       "<img src=\"https://upload.wikimedia.org/wikipedia/commons/thumb/8/8c/WaltDisneyplansDisneylandDec1954.jpg/220px-WaltDisneyplansDisneylandDec1954.jpg\"/>"
      ],
      "text/plain": [
       "<IPython.core.display.Image object>"
      ]
     },
     "metadata": {},
     "output_type": "display_data"
    },
    {
     "data": {
      "text/html": [
       "<img src=\"https://upload.wikimedia.org/wikipedia/commons/thumb/f/ff/Walt_disney_portrait_right.jpg/170px-Walt_disney_portrait_right.jpg\"/>"
      ],
      "text/plain": [
       "<IPython.core.display.Image object>"
      ]
     },
     "metadata": {},
     "output_type": "display_data"
    },
    {
     "data": {
      "text/html": [
       "<img src=\"https://upload.wikimedia.org/wikipedia/commons/thumb/1/1a/Walt_Disney_Grave.JPG/170px-Walt_Disney_Grave.JPG\"/>"
      ],
      "text/plain": [
       "<IPython.core.display.Image object>"
      ]
     },
     "metadata": {},
     "output_type": "display_data"
    },
    {
     "data": {
      "text/html": [
       "<img src=\"https://upload.wikimedia.org/wikipedia/commons/thumb/1/1b/Nuvola_apps_kaboodle.svg/16px-Nuvola_apps_kaboodle.svg.png\"/>"
      ],
      "text/plain": [
       "<IPython.core.display.Image object>"
      ]
     },
     "metadata": {},
     "output_type": "display_data"
    },
    {
     "data": {
      "text/html": [
       "<img src=\"https://upload.wikimedia.org/wikipedia/commons/thumb/1/13/DisneySchiphol1951.jpg/220px-DisneySchiphol1951.jpg\"/>"
      ],
      "text/plain": [
       "<IPython.core.display.Image object>"
      ]
     },
     "metadata": {},
     "output_type": "display_data"
    },
    {
     "data": {
      "text/html": [
       "<img src=\"https://upload.wikimedia.org/wikipedia/commons/thumb/6/6c/Disney1968.jpg/170px-Disney1968.jpg\"/>"
      ],
      "text/plain": [
       "<IPython.core.display.Image object>"
      ]
     },
     "metadata": {},
     "output_type": "display_data"
    },
    {
     "data": {
      "text/html": [
       "<img src=\"https://upload.wikimedia.org/wikipedia/commons/thumb/b/b0/Disney_Oscar_1953_%28cropped%29.jpg/170px-Disney_Oscar_1953_%28cropped%29.jpg\"/>"
      ],
      "text/plain": [
       "<IPython.core.display.Image object>"
      ]
     },
     "metadata": {},
     "output_type": "display_data"
    },
    {
     "data": {
      "text/html": [
       "<img src=\"https://upload.wikimedia.org/wikipedia/en/thumb/4/4a/Commons-logo.svg/30px-Commons-logo.svg.png\"/>"
      ],
      "text/plain": [
       "<IPython.core.display.Image object>"
      ]
     },
     "metadata": {},
     "output_type": "display_data"
    },
    {
     "data": {
      "text/html": [
       "<img src=\"https://upload.wikimedia.org/wikipedia/commons/thumb/4/4c/Wikisource-logo.svg/38px-Wikisource-logo.svg.png\"/>"
      ],
      "text/plain": [
       "<IPython.core.display.Image object>"
      ]
     },
     "metadata": {},
     "output_type": "display_data"
    },
    {
     "data": {
      "text/html": [
       "<img src=\"https://upload.wikimedia.org/wikipedia/commons/thumb/f/fa/Wikiquote-logo.svg/34px-Wikiquote-logo.svg.png\"/>"
      ],
      "text/plain": [
       "<IPython.core.display.Image object>"
      ]
     },
     "metadata": {},
     "output_type": "display_data"
    },
    {
     "data": {
      "text/html": [
       "<img src=\"https://upload.wikimedia.org/wikipedia/en/thumb/8/8a/OOjs_UI_icon_edit-ltr-progressive.svg/10px-OOjs_UI_icon_edit-ltr-progressive.svg.png\"/>"
      ],
      "text/plain": [
       "<IPython.core.display.Image object>"
      ]
     },
     "metadata": {},
     "output_type": "display_data"
    },
    {
     "data": {
      "text/html": [
       "<img src=\"https://upload.wikimedia.org/wikipedia/en/thumb/8/8a/OOjs_UI_icon_edit-ltr-progressive.svg/10px-OOjs_UI_icon_edit-ltr-progressive.svg.png\"/>"
      ],
      "text/plain": [
       "<IPython.core.display.Image object>"
      ]
     },
     "metadata": {},
     "output_type": "display_data"
    },
    {
     "data": {
      "text/html": [
       "<img src=\"https://upload.wikimedia.org/wikipedia/en/thumb/9/96/Symbol_category_class.svg/16px-Symbol_category_class.svg.png\"/>"
      ],
      "text/plain": [
       "<IPython.core.display.Image object>"
      ]
     },
     "metadata": {},
     "output_type": "display_data"
    },
    {
     "data": {
      "text/html": [
       "<img src=\"https://upload.wikimedia.org/wikipedia/commons/thumb/e/e3/Disneyland_Resort_logo.svg/135px-Disneyland_Resort_logo.svg.png\"/>"
      ],
      "text/plain": [
       "<IPython.core.display.Image object>"
      ]
     },
     "metadata": {},
     "output_type": "display_data"
    },
    {
     "data": {
      "text/html": [
       "<img src=\"https://upload.wikimedia.org/wikipedia/commons/thumb/d/da/Animation_disc.svg/20px-Animation_disc.svg.png\"/>"
      ],
      "text/plain": [
       "<IPython.core.display.Image object>"
      ]
     },
     "metadata": {},
     "output_type": "display_data"
    },
    {
     "data": {
      "text/html": [
       "<img src=\"https://upload.wikimedia.org/wikipedia/en/thumb/6/69/P_vip.svg/19px-P_vip.svg.png\"/>"
      ],
      "text/plain": [
       "<IPython.core.display.Image object>"
      ]
     },
     "metadata": {},
     "output_type": "display_data"
    },
    {
     "data": {
      "text/html": [
       "<img src=\"https://upload.wikimedia.org/wikipedia/commons/thumb/1/1a/Magic_Kingdom_castle.jpg/15px-Magic_Kingdom_castle.jpg\"/>"
      ],
      "text/plain": [
       "<IPython.core.display.Image object>"
      ]
     },
     "metadata": {},
     "output_type": "display_data"
    },
    {
     "data": {
      "text/html": [
       "<img src=\"https://upload.wikimedia.org/wikipedia/en/thumb/e/e7/Video-x-generic.svg/19px-Video-x-generic.svg.png\"/>"
      ],
      "text/plain": [
       "<IPython.core.display.Image object>"
      ]
     },
     "metadata": {},
     "output_type": "display_data"
    },
    {
     "data": {
      "text/html": [
       "<img src=\"https://upload.wikimedia.org/wikipedia/commons/thumb/a/a3/Flag_of_Los_Angeles_County%2C_California.svg/21px-Flag_of_Los_Angeles_County%2C_California.svg.png\"/>"
      ],
      "text/plain": [
       "<IPython.core.display.Image object>"
      ]
     },
     "metadata": {},
     "output_type": "display_data"
    },
    {
     "data": {
      "text/html": [
       "<img src=\"https://upload.wikimedia.org/wikipedia/commons/thumb/8/8c/Blank_television_set.svg/21px-Blank_television_set.svg.png\"/>"
      ],
      "text/plain": [
       "<IPython.core.display.Image object>"
      ]
     },
     "metadata": {},
     "output_type": "display_data"
    },
    {
     "data": {
      "text/html": [
       "<img src=\"https://upload.wikimedia.org/wikipedia/en/thumb/a/a4/Flag_of_the_United_States.svg/21px-Flag_of_the_United_States.svg.png\"/>"
      ],
      "text/plain": [
       "<IPython.core.display.Image object>"
      ]
     },
     "metadata": {},
     "output_type": "display_data"
    },
    {
     "data": {
      "text/html": [
       "<img src=\"https://upload.wikimedia.org/wikipedia/en/thumb/8/8a/OOjs_UI_icon_edit-ltr-progressive.svg/10px-OOjs_UI_icon_edit-ltr-progressive.svg.png\"/>"
      ],
      "text/plain": [
       "<IPython.core.display.Image object>"
      ]
     },
     "metadata": {},
     "output_type": "display_data"
    },
    {
     "data": {
      "text/html": [
       "<img src=\"https://en.wikipedia.org/static/images/footer/wikimedia-button.png\"/>"
      ],
      "text/plain": [
       "<IPython.core.display.Image object>"
      ]
     },
     "metadata": {},
     "output_type": "display_data"
    },
    {
     "data": {
      "text/html": [
       "<img src=\"https://en.wikipedia.org/static/images/footer/poweredby_mediawiki_88x31.png\"/>"
      ],
      "text/plain": [
       "<IPython.core.display.Image object>"
      ]
     },
     "metadata": {},
     "output_type": "display_data"
    }
   ],
   "source": [
    "for e in my_pictures:\n",
    "    display(Image(url=e))"
   ]
  },
  {
   "cell_type": "markdown",
   "metadata": {},
   "source": [
    "#### Retrieve an arbitary Wikipedia page of \"Python\" and create a list of links on that page"
   ]
  },
  {
   "cell_type": "code",
   "execution_count": 149,
   "metadata": {},
   "outputs": [],
   "source": [
    "# This is the url you will scrape in this exercise\n",
    "url ='https://en.wikipedia.org/wiki/Python' \n",
    "driver = webdriver.Chrome()\n",
    "\n",
    "driver.get(url)"
   ]
  },
  {
   "cell_type": "code",
   "execution_count": 150,
   "metadata": {},
   "outputs": [
    {
     "data": {
      "text/plain": [
       "[<selenium.webdriver.remote.webelement.WebElement (session=\"3b13cd26260d52aea2c940a49ed113b6\", element=\"F35E53873B440B39906AA5C7B9A4C18F_element_588\")>,\n",
       " <selenium.webdriver.remote.webelement.WebElement (session=\"3b13cd26260d52aea2c940a49ed113b6\", element=\"F35E53873B440B39906AA5C7B9A4C18F_element_592\")>,\n",
       " <selenium.webdriver.remote.webelement.WebElement (session=\"3b13cd26260d52aea2c940a49ed113b6\", element=\"F35E53873B440B39906AA5C7B9A4C18F_element_596\")>,\n",
       " <selenium.webdriver.remote.webelement.WebElement (session=\"3b13cd26260d52aea2c940a49ed113b6\", element=\"F35E53873B440B39906AA5C7B9A4C18F_element_600\")>,\n",
       " <selenium.webdriver.remote.webelement.WebElement (session=\"3b13cd26260d52aea2c940a49ed113b6\", element=\"F35E53873B440B39906AA5C7B9A4C18F_element_604\")>,\n",
       " <selenium.webdriver.remote.webelement.WebElement (session=\"3b13cd26260d52aea2c940a49ed113b6\", element=\"F35E53873B440B39906AA5C7B9A4C18F_element_608\")>,\n",
       " <selenium.webdriver.remote.webelement.WebElement (session=\"3b13cd26260d52aea2c940a49ed113b6\", element=\"F35E53873B440B39906AA5C7B9A4C18F_element_612\")>,\n",
       " <selenium.webdriver.remote.webelement.WebElement (session=\"3b13cd26260d52aea2c940a49ed113b6\", element=\"F35E53873B440B39906AA5C7B9A4C18F_element_621\")>,\n",
       " <selenium.webdriver.remote.webelement.WebElement (session=\"3b13cd26260d52aea2c940a49ed113b6\", element=\"F35E53873B440B39906AA5C7B9A4C18F_element_625\")>,\n",
       " <selenium.webdriver.remote.webelement.WebElement (session=\"3b13cd26260d52aea2c940a49ed113b6\", element=\"F35E53873B440B39906AA5C7B9A4C18F_element_629\")>,\n",
       " <selenium.webdriver.remote.webelement.WebElement (session=\"3b13cd26260d52aea2c940a49ed113b6\", element=\"F35E53873B440B39906AA5C7B9A4C18F_element_633\")>,\n",
       " <selenium.webdriver.remote.webelement.WebElement (session=\"3b13cd26260d52aea2c940a49ed113b6\", element=\"F35E53873B440B39906AA5C7B9A4C18F_element_637\")>,\n",
       " <selenium.webdriver.remote.webelement.WebElement (session=\"3b13cd26260d52aea2c940a49ed113b6\", element=\"F35E53873B440B39906AA5C7B9A4C18F_element_84\")>,\n",
       " <selenium.webdriver.remote.webelement.WebElement (session=\"3b13cd26260d52aea2c940a49ed113b6\", element=\"F35E53873B440B39906AA5C7B9A4C18F_element_87\")>,\n",
       " <selenium.webdriver.remote.webelement.WebElement (session=\"3b13cd26260d52aea2c940a49ed113b6\", element=\"F35E53873B440B39906AA5C7B9A4C18F_element_1121\")>,\n",
       " <selenium.webdriver.remote.webelement.WebElement (session=\"3b13cd26260d52aea2c940a49ed113b6\", element=\"F35E53873B440B39906AA5C7B9A4C18F_element_1122\")>,\n",
       " <selenium.webdriver.remote.webelement.WebElement (session=\"3b13cd26260d52aea2c940a49ed113b6\", element=\"F35E53873B440B39906AA5C7B9A4C18F_element_678\")>,\n",
       " <selenium.webdriver.remote.webelement.WebElement (session=\"3b13cd26260d52aea2c940a49ed113b6\", element=\"F35E53873B440B39906AA5C7B9A4C18F_element_682\")>,\n",
       " <selenium.webdriver.remote.webelement.WebElement (session=\"3b13cd26260d52aea2c940a49ed113b6\", element=\"F35E53873B440B39906AA5C7B9A4C18F_element_104\")>,\n",
       " <selenium.webdriver.remote.webelement.WebElement (session=\"3b13cd26260d52aea2c940a49ed113b6\", element=\"F35E53873B440B39906AA5C7B9A4C18F_element_108\")>,\n",
       " <selenium.webdriver.remote.webelement.WebElement (session=\"3b13cd26260d52aea2c940a49ed113b6\", element=\"F35E53873B440B39906AA5C7B9A4C18F_element_113\")>,\n",
       " <selenium.webdriver.remote.webelement.WebElement (session=\"3b13cd26260d52aea2c940a49ed113b6\", element=\"F35E53873B440B39906AA5C7B9A4C18F_element_118\")>,\n",
       " <selenium.webdriver.remote.webelement.WebElement (session=\"3b13cd26260d52aea2c940a49ed113b6\", element=\"F35E53873B440B39906AA5C7B9A4C18F_element_123\")>,\n",
       " <selenium.webdriver.remote.webelement.WebElement (session=\"3b13cd26260d52aea2c940a49ed113b6\", element=\"F35E53873B440B39906AA5C7B9A4C18F_element_128\")>,\n",
       " <selenium.webdriver.remote.webelement.WebElement (session=\"3b13cd26260d52aea2c940a49ed113b6\", element=\"F35E53873B440B39906AA5C7B9A4C18F_element_133\")>,\n",
       " <selenium.webdriver.remote.webelement.WebElement (session=\"3b13cd26260d52aea2c940a49ed113b6\", element=\"F35E53873B440B39906AA5C7B9A4C18F_element_138\")>,\n",
       " <selenium.webdriver.remote.webelement.WebElement (session=\"3b13cd26260d52aea2c940a49ed113b6\", element=\"F35E53873B440B39906AA5C7B9A4C18F_element_143\")>,\n",
       " <selenium.webdriver.remote.webelement.WebElement (session=\"3b13cd26260d52aea2c940a49ed113b6\", element=\"F35E53873B440B39906AA5C7B9A4C18F_element_1123\")>,\n",
       " <selenium.webdriver.remote.webelement.WebElement (session=\"3b13cd26260d52aea2c940a49ed113b6\", element=\"F35E53873B440B39906AA5C7B9A4C18F_element_1124\")>,\n",
       " <selenium.webdriver.remote.webelement.WebElement (session=\"3b13cd26260d52aea2c940a49ed113b6\", element=\"F35E53873B440B39906AA5C7B9A4C18F_element_1125\")>,\n",
       " <selenium.webdriver.remote.webelement.WebElement (session=\"3b13cd26260d52aea2c940a49ed113b6\", element=\"F35E53873B440B39906AA5C7B9A4C18F_element_1126\")>,\n",
       " <selenium.webdriver.remote.webelement.WebElement (session=\"3b13cd26260d52aea2c940a49ed113b6\", element=\"F35E53873B440B39906AA5C7B9A4C18F_element_1127\")>,\n",
       " <selenium.webdriver.remote.webelement.WebElement (session=\"3b13cd26260d52aea2c940a49ed113b6\", element=\"F35E53873B440B39906AA5C7B9A4C18F_element_1128\")>,\n",
       " <selenium.webdriver.remote.webelement.WebElement (session=\"3b13cd26260d52aea2c940a49ed113b6\", element=\"F35E53873B440B39906AA5C7B9A4C18F_element_1129\")>,\n",
       " <selenium.webdriver.remote.webelement.WebElement (session=\"3b13cd26260d52aea2c940a49ed113b6\", element=\"F35E53873B440B39906AA5C7B9A4C18F_element_1130\")>,\n",
       " <selenium.webdriver.remote.webelement.WebElement (session=\"3b13cd26260d52aea2c940a49ed113b6\", element=\"F35E53873B440B39906AA5C7B9A4C18F_element_1131\")>,\n",
       " <selenium.webdriver.remote.webelement.WebElement (session=\"3b13cd26260d52aea2c940a49ed113b6\", element=\"F35E53873B440B39906AA5C7B9A4C18F_element_1132\")>,\n",
       " <selenium.webdriver.remote.webelement.WebElement (session=\"3b13cd26260d52aea2c940a49ed113b6\", element=\"F35E53873B440B39906AA5C7B9A4C18F_element_1133\")>,\n",
       " <selenium.webdriver.remote.webelement.WebElement (session=\"3b13cd26260d52aea2c940a49ed113b6\", element=\"F35E53873B440B39906AA5C7B9A4C18F_element_1134\")>,\n",
       " <selenium.webdriver.remote.webelement.WebElement (session=\"3b13cd26260d52aea2c940a49ed113b6\", element=\"F35E53873B440B39906AA5C7B9A4C18F_element_1135\")>,\n",
       " <selenium.webdriver.remote.webelement.WebElement (session=\"3b13cd26260d52aea2c940a49ed113b6\", element=\"F35E53873B440B39906AA5C7B9A4C18F_element_1136\")>,\n",
       " <selenium.webdriver.remote.webelement.WebElement (session=\"3b13cd26260d52aea2c940a49ed113b6\", element=\"F35E53873B440B39906AA5C7B9A4C18F_element_1137\")>,\n",
       " <selenium.webdriver.remote.webelement.WebElement (session=\"3b13cd26260d52aea2c940a49ed113b6\", element=\"F35E53873B440B39906AA5C7B9A4C18F_element_1138\")>,\n",
       " <selenium.webdriver.remote.webelement.WebElement (session=\"3b13cd26260d52aea2c940a49ed113b6\", element=\"F35E53873B440B39906AA5C7B9A4C18F_element_1139\")>,\n",
       " <selenium.webdriver.remote.webelement.WebElement (session=\"3b13cd26260d52aea2c940a49ed113b6\", element=\"F35E53873B440B39906AA5C7B9A4C18F_element_1140\")>,\n",
       " <selenium.webdriver.remote.webelement.WebElement (session=\"3b13cd26260d52aea2c940a49ed113b6\", element=\"F35E53873B440B39906AA5C7B9A4C18F_element_1141\")>,\n",
       " <selenium.webdriver.remote.webelement.WebElement (session=\"3b13cd26260d52aea2c940a49ed113b6\", element=\"F35E53873B440B39906AA5C7B9A4C18F_element_1142\")>,\n",
       " <selenium.webdriver.remote.webelement.WebElement (session=\"3b13cd26260d52aea2c940a49ed113b6\", element=\"F35E53873B440B39906AA5C7B9A4C18F_element_1143\")>,\n",
       " <selenium.webdriver.remote.webelement.WebElement (session=\"3b13cd26260d52aea2c940a49ed113b6\", element=\"F35E53873B440B39906AA5C7B9A4C18F_element_1144\")>,\n",
       " <selenium.webdriver.remote.webelement.WebElement (session=\"3b13cd26260d52aea2c940a49ed113b6\", element=\"F35E53873B440B39906AA5C7B9A4C18F_element_1145\")>,\n",
       " <selenium.webdriver.remote.webelement.WebElement (session=\"3b13cd26260d52aea2c940a49ed113b6\", element=\"F35E53873B440B39906AA5C7B9A4C18F_element_1146\")>,\n",
       " <selenium.webdriver.remote.webelement.WebElement (session=\"3b13cd26260d52aea2c940a49ed113b6\", element=\"F35E53873B440B39906AA5C7B9A4C18F_element_1147\")>,\n",
       " <selenium.webdriver.remote.webelement.WebElement (session=\"3b13cd26260d52aea2c940a49ed113b6\", element=\"F35E53873B440B39906AA5C7B9A4C18F_element_1148\")>,\n",
       " <selenium.webdriver.remote.webelement.WebElement (session=\"3b13cd26260d52aea2c940a49ed113b6\", element=\"F35E53873B440B39906AA5C7B9A4C18F_element_1149\")>,\n",
       " <selenium.webdriver.remote.webelement.WebElement (session=\"3b13cd26260d52aea2c940a49ed113b6\", element=\"F35E53873B440B39906AA5C7B9A4C18F_element_1150\")>,\n",
       " <selenium.webdriver.remote.webelement.WebElement (session=\"3b13cd26260d52aea2c940a49ed113b6\", element=\"F35E53873B440B39906AA5C7B9A4C18F_element_1151\")>,\n",
       " <selenium.webdriver.remote.webelement.WebElement (session=\"3b13cd26260d52aea2c940a49ed113b6\", element=\"F35E53873B440B39906AA5C7B9A4C18F_element_1152\")>,\n",
       " <selenium.webdriver.remote.webelement.WebElement (session=\"3b13cd26260d52aea2c940a49ed113b6\", element=\"F35E53873B440B39906AA5C7B9A4C18F_element_1153\")>,\n",
       " <selenium.webdriver.remote.webelement.WebElement (session=\"3b13cd26260d52aea2c940a49ed113b6\", element=\"F35E53873B440B39906AA5C7B9A4C18F_element_1154\")>,\n",
       " <selenium.webdriver.remote.webelement.WebElement (session=\"3b13cd26260d52aea2c940a49ed113b6\", element=\"F35E53873B440B39906AA5C7B9A4C18F_element_1155\")>,\n",
       " <selenium.webdriver.remote.webelement.WebElement (session=\"3b13cd26260d52aea2c940a49ed113b6\", element=\"F35E53873B440B39906AA5C7B9A4C18F_element_1156\")>,\n",
       " <selenium.webdriver.remote.webelement.WebElement (session=\"3b13cd26260d52aea2c940a49ed113b6\", element=\"F35E53873B440B39906AA5C7B9A4C18F_element_1157\")>,\n",
       " <selenium.webdriver.remote.webelement.WebElement (session=\"3b13cd26260d52aea2c940a49ed113b6\", element=\"F35E53873B440B39906AA5C7B9A4C18F_element_1158\")>,\n",
       " <selenium.webdriver.remote.webelement.WebElement (session=\"3b13cd26260d52aea2c940a49ed113b6\", element=\"F35E53873B440B39906AA5C7B9A4C18F_element_1159\")>,\n",
       " <selenium.webdriver.remote.webelement.WebElement (session=\"3b13cd26260d52aea2c940a49ed113b6\", element=\"F35E53873B440B39906AA5C7B9A4C18F_element_1160\")>,\n",
       " <selenium.webdriver.remote.webelement.WebElement (session=\"3b13cd26260d52aea2c940a49ed113b6\", element=\"F35E53873B440B39906AA5C7B9A4C18F_element_1161\")>,\n",
       " <selenium.webdriver.remote.webelement.WebElement (session=\"3b13cd26260d52aea2c940a49ed113b6\", element=\"F35E53873B440B39906AA5C7B9A4C18F_element_1162\")>,\n",
       " <selenium.webdriver.remote.webelement.WebElement (session=\"3b13cd26260d52aea2c940a49ed113b6\", element=\"F35E53873B440B39906AA5C7B9A4C18F_element_1163\")>,\n",
       " <selenium.webdriver.remote.webelement.WebElement (session=\"3b13cd26260d52aea2c940a49ed113b6\", element=\"F35E53873B440B39906AA5C7B9A4C18F_element_1164\")>,\n",
       " <selenium.webdriver.remote.webelement.WebElement (session=\"3b13cd26260d52aea2c940a49ed113b6\", element=\"F35E53873B440B39906AA5C7B9A4C18F_element_1165\")>,\n",
       " <selenium.webdriver.remote.webelement.WebElement (session=\"3b13cd26260d52aea2c940a49ed113b6\", element=\"F35E53873B440B39906AA5C7B9A4C18F_element_1166\")>,\n",
       " <selenium.webdriver.remote.webelement.WebElement (session=\"3b13cd26260d52aea2c940a49ed113b6\", element=\"F35E53873B440B39906AA5C7B9A4C18F_element_1167\")>,\n",
       " <selenium.webdriver.remote.webelement.WebElement (session=\"3b13cd26260d52aea2c940a49ed113b6\", element=\"F35E53873B440B39906AA5C7B9A4C18F_element_158\")>,\n",
       " <selenium.webdriver.remote.webelement.WebElement (session=\"3b13cd26260d52aea2c940a49ed113b6\", element=\"F35E53873B440B39906AA5C7B9A4C18F_element_161\")>,\n",
       " <selenium.webdriver.remote.webelement.WebElement (session=\"3b13cd26260d52aea2c940a49ed113b6\", element=\"F35E53873B440B39906AA5C7B9A4C18F_element_168\")>,\n",
       " <selenium.webdriver.remote.webelement.WebElement (session=\"3b13cd26260d52aea2c940a49ed113b6\", element=\"F35E53873B440B39906AA5C7B9A4C18F_element_171\")>,\n",
       " <selenium.webdriver.remote.webelement.WebElement (session=\"3b13cd26260d52aea2c940a49ed113b6\", element=\"F35E53873B440B39906AA5C7B9A4C18F_element_174\")>,\n",
       " <selenium.webdriver.remote.webelement.WebElement (session=\"3b13cd26260d52aea2c940a49ed113b6\", element=\"F35E53873B440B39906AA5C7B9A4C18F_element_1168\")>,\n",
       " <selenium.webdriver.remote.webelement.WebElement (session=\"3b13cd26260d52aea2c940a49ed113b6\", element=\"F35E53873B440B39906AA5C7B9A4C18F_element_1169\")>,\n",
       " <selenium.webdriver.remote.webelement.WebElement (session=\"3b13cd26260d52aea2c940a49ed113b6\", element=\"F35E53873B440B39906AA5C7B9A4C18F_element_1170\")>,\n",
       " <selenium.webdriver.remote.webelement.WebElement (session=\"3b13cd26260d52aea2c940a49ed113b6\", element=\"F35E53873B440B39906AA5C7B9A4C18F_element_799\")>,\n",
       " <selenium.webdriver.remote.webelement.WebElement (session=\"3b13cd26260d52aea2c940a49ed113b6\", element=\"F35E53873B440B39906AA5C7B9A4C18F_element_803\")>,\n",
       " <selenium.webdriver.remote.webelement.WebElement (session=\"3b13cd26260d52aea2c940a49ed113b6\", element=\"F35E53873B440B39906AA5C7B9A4C18F_element_1171\")>,\n",
       " <selenium.webdriver.remote.webelement.WebElement (session=\"3b13cd26260d52aea2c940a49ed113b6\", element=\"F35E53873B440B39906AA5C7B9A4C18F_element_807\")>,\n",
       " <selenium.webdriver.remote.webelement.WebElement (session=\"3b13cd26260d52aea2c940a49ed113b6\", element=\"F35E53873B440B39906AA5C7B9A4C18F_element_811\")>,\n",
       " <selenium.webdriver.remote.webelement.WebElement (session=\"3b13cd26260d52aea2c940a49ed113b6\", element=\"F35E53873B440B39906AA5C7B9A4C18F_element_815\")>,\n",
       " <selenium.webdriver.remote.webelement.WebElement (session=\"3b13cd26260d52aea2c940a49ed113b6\", element=\"F35E53873B440B39906AA5C7B9A4C18F_element_819\")>,\n",
       " <selenium.webdriver.remote.webelement.WebElement (session=\"3b13cd26260d52aea2c940a49ed113b6\", element=\"F35E53873B440B39906AA5C7B9A4C18F_element_823\")>,\n",
       " <selenium.webdriver.remote.webelement.WebElement (session=\"3b13cd26260d52aea2c940a49ed113b6\", element=\"F35E53873B440B39906AA5C7B9A4C18F_element_827\")>,\n",
       " <selenium.webdriver.remote.webelement.WebElement (session=\"3b13cd26260d52aea2c940a49ed113b6\", element=\"F35E53873B440B39906AA5C7B9A4C18F_element_692\")>,\n",
       " <selenium.webdriver.remote.webelement.WebElement (session=\"3b13cd26260d52aea2c940a49ed113b6\", element=\"F35E53873B440B39906AA5C7B9A4C18F_element_838\")>,\n",
       " <selenium.webdriver.remote.webelement.WebElement (session=\"3b13cd26260d52aea2c940a49ed113b6\", element=\"F35E53873B440B39906AA5C7B9A4C18F_element_842\")>,\n",
       " <selenium.webdriver.remote.webelement.WebElement (session=\"3b13cd26260d52aea2c940a49ed113b6\", element=\"F35E53873B440B39906AA5C7B9A4C18F_element_851\")>,\n",
       " <selenium.webdriver.remote.webelement.WebElement (session=\"3b13cd26260d52aea2c940a49ed113b6\", element=\"F35E53873B440B39906AA5C7B9A4C18F_element_209\")>,\n",
       " <selenium.webdriver.remote.webelement.WebElement (session=\"3b13cd26260d52aea2c940a49ed113b6\", element=\"F35E53873B440B39906AA5C7B9A4C18F_element_215\")>,\n",
       " <selenium.webdriver.remote.webelement.WebElement (session=\"3b13cd26260d52aea2c940a49ed113b6\", element=\"F35E53873B440B39906AA5C7B9A4C18F_element_221\")>,\n",
       " <selenium.webdriver.remote.webelement.WebElement (session=\"3b13cd26260d52aea2c940a49ed113b6\", element=\"F35E53873B440B39906AA5C7B9A4C18F_element_234\")>,\n",
       " <selenium.webdriver.remote.webelement.WebElement (session=\"3b13cd26260d52aea2c940a49ed113b6\", element=\"F35E53873B440B39906AA5C7B9A4C18F_element_240\")>,\n",
       " <selenium.webdriver.remote.webelement.WebElement (session=\"3b13cd26260d52aea2c940a49ed113b6\", element=\"F35E53873B440B39906AA5C7B9A4C18F_element_245\")>,\n",
       " <selenium.webdriver.remote.webelement.WebElement (session=\"3b13cd26260d52aea2c940a49ed113b6\", element=\"F35E53873B440B39906AA5C7B9A4C18F_element_258\")>,\n",
       " <selenium.webdriver.remote.webelement.WebElement (session=\"3b13cd26260d52aea2c940a49ed113b6\", element=\"F35E53873B440B39906AA5C7B9A4C18F_element_263\")>,\n",
       " <selenium.webdriver.remote.webelement.WebElement (session=\"3b13cd26260d52aea2c940a49ed113b6\", element=\"F35E53873B440B39906AA5C7B9A4C18F_element_268\")>,\n",
       " <selenium.webdriver.remote.webelement.WebElement (session=\"3b13cd26260d52aea2c940a49ed113b6\", element=\"F35E53873B440B39906AA5C7B9A4C18F_element_273\")>,\n",
       " <selenium.webdriver.remote.webelement.WebElement (session=\"3b13cd26260d52aea2c940a49ed113b6\", element=\"F35E53873B440B39906AA5C7B9A4C18F_element_278\")>,\n",
       " <selenium.webdriver.remote.webelement.WebElement (session=\"3b13cd26260d52aea2c940a49ed113b6\", element=\"F35E53873B440B39906AA5C7B9A4C18F_element_291\")>,\n",
       " <selenium.webdriver.remote.webelement.WebElement (session=\"3b13cd26260d52aea2c940a49ed113b6\", element=\"F35E53873B440B39906AA5C7B9A4C18F_element_296\")>,\n",
       " <selenium.webdriver.remote.webelement.WebElement (session=\"3b13cd26260d52aea2c940a49ed113b6\", element=\"F35E53873B440B39906AA5C7B9A4C18F_element_301\")>,\n",
       " <selenium.webdriver.remote.webelement.WebElement (session=\"3b13cd26260d52aea2c940a49ed113b6\", element=\"F35E53873B440B39906AA5C7B9A4C18F_element_314\")>,\n",
       " <selenium.webdriver.remote.webelement.WebElement (session=\"3b13cd26260d52aea2c940a49ed113b6\", element=\"F35E53873B440B39906AA5C7B9A4C18F_element_319\")>,\n",
       " <selenium.webdriver.remote.webelement.WebElement (session=\"3b13cd26260d52aea2c940a49ed113b6\", element=\"F35E53873B440B39906AA5C7B9A4C18F_element_332\")>,\n",
       " <selenium.webdriver.remote.webelement.WebElement (session=\"3b13cd26260d52aea2c940a49ed113b6\", element=\"F35E53873B440B39906AA5C7B9A4C18F_element_337\")>,\n",
       " <selenium.webdriver.remote.webelement.WebElement (session=\"3b13cd26260d52aea2c940a49ed113b6\", element=\"F35E53873B440B39906AA5C7B9A4C18F_element_342\")>,\n",
       " <selenium.webdriver.remote.webelement.WebElement (session=\"3b13cd26260d52aea2c940a49ed113b6\", element=\"F35E53873B440B39906AA5C7B9A4C18F_element_355\")>,\n",
       " <selenium.webdriver.remote.webelement.WebElement (session=\"3b13cd26260d52aea2c940a49ed113b6\", element=\"F35E53873B440B39906AA5C7B9A4C18F_element_360\")>,\n",
       " <selenium.webdriver.remote.webelement.WebElement (session=\"3b13cd26260d52aea2c940a49ed113b6\", element=\"F35E53873B440B39906AA5C7B9A4C18F_element_366\")>,\n",
       " <selenium.webdriver.remote.webelement.WebElement (session=\"3b13cd26260d52aea2c940a49ed113b6\", element=\"F35E53873B440B39906AA5C7B9A4C18F_element_372\")>,\n",
       " <selenium.webdriver.remote.webelement.WebElement (session=\"3b13cd26260d52aea2c940a49ed113b6\", element=\"F35E53873B440B39906AA5C7B9A4C18F_element_379\")>,\n",
       " <selenium.webdriver.remote.webelement.WebElement (session=\"3b13cd26260d52aea2c940a49ed113b6\", element=\"F35E53873B440B39906AA5C7B9A4C18F_element_391\")>,\n",
       " <selenium.webdriver.remote.webelement.WebElement (session=\"3b13cd26260d52aea2c940a49ed113b6\", element=\"F35E53873B440B39906AA5C7B9A4C18F_element_396\")>,\n",
       " <selenium.webdriver.remote.webelement.WebElement (session=\"3b13cd26260d52aea2c940a49ed113b6\", element=\"F35E53873B440B39906AA5C7B9A4C18F_element_421\")>,\n",
       " <selenium.webdriver.remote.webelement.WebElement (session=\"3b13cd26260d52aea2c940a49ed113b6\", element=\"F35E53873B440B39906AA5C7B9A4C18F_element_424\")>,\n",
       " <selenium.webdriver.remote.webelement.WebElement (session=\"3b13cd26260d52aea2c940a49ed113b6\", element=\"F35E53873B440B39906AA5C7B9A4C18F_element_427\")>,\n",
       " <selenium.webdriver.remote.webelement.WebElement (session=\"3b13cd26260d52aea2c940a49ed113b6\", element=\"F35E53873B440B39906AA5C7B9A4C18F_element_1172\")>,\n",
       " <selenium.webdriver.remote.webelement.WebElement (session=\"3b13cd26260d52aea2c940a49ed113b6\", element=\"F35E53873B440B39906AA5C7B9A4C18F_element_1173\")>,\n",
       " <selenium.webdriver.remote.webelement.WebElement (session=\"3b13cd26260d52aea2c940a49ed113b6\", element=\"F35E53873B440B39906AA5C7B9A4C18F_element_1174\")>,\n",
       " <selenium.webdriver.remote.webelement.WebElement (session=\"3b13cd26260d52aea2c940a49ed113b6\", element=\"F35E53873B440B39906AA5C7B9A4C18F_element_1175\")>,\n",
       " <selenium.webdriver.remote.webelement.WebElement (session=\"3b13cd26260d52aea2c940a49ed113b6\", element=\"F35E53873B440B39906AA5C7B9A4C18F_element_437\")>,\n",
       " <selenium.webdriver.remote.webelement.WebElement (session=\"3b13cd26260d52aea2c940a49ed113b6\", element=\"F35E53873B440B39906AA5C7B9A4C18F_element_1176\")>,\n",
       " <selenium.webdriver.remote.webelement.WebElement (session=\"3b13cd26260d52aea2c940a49ed113b6\", element=\"F35E53873B440B39906AA5C7B9A4C18F_element_440\")>,\n",
       " <selenium.webdriver.remote.webelement.WebElement (session=\"3b13cd26260d52aea2c940a49ed113b6\", element=\"F35E53873B440B39906AA5C7B9A4C18F_element_443\")>,\n",
       " <selenium.webdriver.remote.webelement.WebElement (session=\"3b13cd26260d52aea2c940a49ed113b6\", element=\"F35E53873B440B39906AA5C7B9A4C18F_element_446\")>,\n",
       " <selenium.webdriver.remote.webelement.WebElement (session=\"3b13cd26260d52aea2c940a49ed113b6\", element=\"F35E53873B440B39906AA5C7B9A4C18F_element_451\")>,\n",
       " <selenium.webdriver.remote.webelement.WebElement (session=\"3b13cd26260d52aea2c940a49ed113b6\", element=\"F35E53873B440B39906AA5C7B9A4C18F_element_454\")>,\n",
       " <selenium.webdriver.remote.webelement.WebElement (session=\"3b13cd26260d52aea2c940a49ed113b6\", element=\"F35E53873B440B39906AA5C7B9A4C18F_element_457\")>,\n",
       " <selenium.webdriver.remote.webelement.WebElement (session=\"3b13cd26260d52aea2c940a49ed113b6\", element=\"F35E53873B440B39906AA5C7B9A4C18F_element_460\")>,\n",
       " <selenium.webdriver.remote.webelement.WebElement (session=\"3b13cd26260d52aea2c940a49ed113b6\", element=\"F35E53873B440B39906AA5C7B9A4C18F_element_463\")>,\n",
       " <selenium.webdriver.remote.webelement.WebElement (session=\"3b13cd26260d52aea2c940a49ed113b6\", element=\"F35E53873B440B39906AA5C7B9A4C18F_element_466\")>,\n",
       " <selenium.webdriver.remote.webelement.WebElement (session=\"3b13cd26260d52aea2c940a49ed113b6\", element=\"F35E53873B440B39906AA5C7B9A4C18F_element_469\")>,\n",
       " <selenium.webdriver.remote.webelement.WebElement (session=\"3b13cd26260d52aea2c940a49ed113b6\", element=\"F35E53873B440B39906AA5C7B9A4C18F_element_472\")>,\n",
       " <selenium.webdriver.remote.webelement.WebElement (session=\"3b13cd26260d52aea2c940a49ed113b6\", element=\"F35E53873B440B39906AA5C7B9A4C18F_element_475\")>,\n",
       " <selenium.webdriver.remote.webelement.WebElement (session=\"3b13cd26260d52aea2c940a49ed113b6\", element=\"F35E53873B440B39906AA5C7B9A4C18F_element_1177\")>,\n",
       " <selenium.webdriver.remote.webelement.WebElement (session=\"3b13cd26260d52aea2c940a49ed113b6\", element=\"F35E53873B440B39906AA5C7B9A4C18F_element_479\")>,\n",
       " <selenium.webdriver.remote.webelement.WebElement (session=\"3b13cd26260d52aea2c940a49ed113b6\", element=\"F35E53873B440B39906AA5C7B9A4C18F_element_482\")>]"
      ]
     },
     "execution_count": 150,
     "metadata": {},
     "output_type": "execute_result"
    }
   ],
   "source": [
    "driver.find_elements(By.XPATH, \"//li//a\")"
   ]
  },
  {
   "cell_type": "code",
   "execution_count": 151,
   "metadata": {},
   "outputs": [],
   "source": [
    "links = driver.find_elements(By.XPATH, \"//li//a\")"
   ]
  },
  {
   "cell_type": "code",
   "execution_count": 152,
   "metadata": {},
   "outputs": [
    {
     "data": {
      "text/plain": [
       "['https://en.wikipedia.org/wiki/Main_Page',\n",
       " 'https://en.wikipedia.org/wiki/Wikipedia:Contents',\n",
       " 'https://en.wikipedia.org/wiki/Portal:Current_events',\n",
       " 'https://en.wikipedia.org/wiki/Special:Random',\n",
       " 'https://en.wikipedia.org/wiki/Wikipedia:About',\n",
       " 'https://en.wikipedia.org/wiki/Wikipedia:Contact_us',\n",
       " 'https://donate.wikimedia.org/wiki/Special:FundraiserRedirector?utm_source=donate&utm_medium=sidebar&utm_campaign=C13_en.wikipedia.org&uselang=en',\n",
       " 'https://en.wikipedia.org/wiki/Help:Contents',\n",
       " 'https://en.wikipedia.org/wiki/Help:Introduction',\n",
       " 'https://en.wikipedia.org/wiki/Wikipedia:Community_portal',\n",
       " 'https://en.wikipedia.org/wiki/Special:RecentChanges',\n",
       " 'https://en.wikipedia.org/wiki/Wikipedia:File_upload_wizard',\n",
       " 'https://en.wikipedia.org/w/index.php?title=Special:CreateAccount&returnto=Python',\n",
       " 'https://en.wikipedia.org/w/index.php?title=Special:UserLogin&returnto=Python',\n",
       " 'https://en.wikipedia.org/w/index.php?title=Special:CreateAccount&returnto=Python',\n",
       " 'https://en.wikipedia.org/w/index.php?title=Special:UserLogin&returnto=Python',\n",
       " 'https://en.wikipedia.org/wiki/Special:MyContributions',\n",
       " 'https://en.wikipedia.org/wiki/Special:MyTalk',\n",
       " 'https://en.wikipedia.org/wiki/Python#',\n",
       " 'https://en.wikipedia.org/wiki/Python#Snakes',\n",
       " 'https://en.wikipedia.org/wiki/Python#Computing',\n",
       " 'https://en.wikipedia.org/wiki/Python#People',\n",
       " 'https://en.wikipedia.org/wiki/Python#Roller_coasters',\n",
       " 'https://en.wikipedia.org/wiki/Python#Vehicles',\n",
       " 'https://en.wikipedia.org/wiki/Python#Weaponry',\n",
       " 'https://en.wikipedia.org/wiki/Python#Other_uses',\n",
       " 'https://en.wikipedia.org/wiki/Python#See_also',\n",
       " 'https://af.wikipedia.org/wiki/Python',\n",
       " 'https://als.wikipedia.org/wiki/Python',\n",
       " 'https://ar.wikipedia.org/wiki/%D8%A8%D8%A7%D9%8A%D8%AB%D9%88%D9%86_(%D8%AA%D9%88%D8%B6%D9%8A%D8%AD)',\n",
       " 'https://az.wikipedia.org/wiki/Python_(d%C9%99qiql%C9%99%C5%9Fdirm%C9%99)',\n",
       " 'https://bn.wikipedia.org/wiki/%E0%A6%AA%E0%A6%BE%E0%A6%87%E0%A6%A5%E0%A6%A8_(%E0%A6%A6%E0%A7%8D%E0%A6%AC%E0%A7%8D%E0%A6%AF%E0%A6%B0%E0%A7%8D%E0%A6%A5%E0%A6%A4%E0%A6%BE_%E0%A6%A8%E0%A6%BF%E0%A6%B0%E0%A6%B8%E0%A6%A8)',\n",
       " 'https://be.wikipedia.org/wiki/Python',\n",
       " 'https://bg.wikipedia.org/wiki/%D0%9F%D0%B8%D1%82%D0%BE%D0%BD_(%D0%BF%D0%BE%D1%8F%D1%81%D0%BD%D0%B5%D0%BD%D0%B8%D0%B5)',\n",
       " 'https://cs.wikipedia.org/wiki/Python_(rozcestn%C3%ADk)',\n",
       " 'https://da.wikipedia.org/wiki/Python',\n",
       " 'https://de.wikipedia.org/wiki/Python',\n",
       " 'https://eo.wikipedia.org/wiki/Pitono_(apartigilo)',\n",
       " 'https://eu.wikipedia.org/wiki/Python_(argipena)',\n",
       " 'https://fa.wikipedia.org/wiki/%D9%BE%D8%A7%DB%8C%D8%AA%D9%88%D9%86',\n",
       " 'https://fr.wikipedia.org/wiki/Python',\n",
       " 'https://ko.wikipedia.org/wiki/%ED%8C%8C%EC%9D%B4%EC%84%A0',\n",
       " 'https://hr.wikipedia.org/wiki/Python_(razdvojba)',\n",
       " 'https://io.wikipedia.org/wiki/Pitono',\n",
       " 'https://id.wikipedia.org/wiki/Python',\n",
       " 'https://ia.wikipedia.org/wiki/Python_(disambiguation)',\n",
       " 'https://is.wikipedia.org/wiki/Python_(a%C3%B0greining)',\n",
       " 'https://it.wikipedia.org/wiki/Python_(disambigua)',\n",
       " 'https://he.wikipedia.org/wiki/%D7%A4%D7%99%D7%AA%D7%95%D7%9F',\n",
       " 'https://ka.wikipedia.org/wiki/%E1%83%9E%E1%83%98%E1%83%97%E1%83%9D%E1%83%9C%E1%83%98_(%E1%83%9B%E1%83%A0%E1%83%90%E1%83%95%E1%83%90%E1%83%9A%E1%83%9B%E1%83%9C%E1%83%98%E1%83%A8%E1%83%95%E1%83%9C%E1%83%94%E1%83%9A%E1%83%9D%E1%83%95%E1%83%90%E1%83%9C%E1%83%98)',\n",
       " 'https://kg.wikipedia.org/wiki/Mboma_(nyoka)',\n",
       " 'https://la.wikipedia.org/wiki/Python_(discretiva)',\n",
       " 'https://lb.wikipedia.org/wiki/Python',\n",
       " 'https://hu.wikipedia.org/wiki/Python_(egy%C3%A9rtelm%C5%B1s%C3%ADt%C5%91_lap)',\n",
       " 'https://mr.wikipedia.org/wiki/%E0%A4%AA%E0%A4%BE%E0%A4%AF%E0%A4%A5%E0%A5%89%E0%A4%A8_(%E0%A4%86%E0%A4%9C%E0%A5%8D%E0%A4%9E%E0%A4%BE%E0%A4%B5%E0%A4%B2%E0%A5%80_%E0%A4%AD%E0%A4%BE%E0%A4%B7%E0%A4%BE)',\n",
       " 'https://nl.wikipedia.org/wiki/Python',\n",
       " 'https://ja.wikipedia.org/wiki/%E3%83%91%E3%82%A4%E3%82%BD%E3%83%B3',\n",
       " 'https://no.wikipedia.org/wiki/Pyton',\n",
       " 'https://pl.wikipedia.org/wiki/Pyton',\n",
       " 'https://pt.wikipedia.org/wiki/Python_(desambigua%C3%A7%C3%A3o)',\n",
       " 'https://ru.wikipedia.org/wiki/Python_(%D0%B7%D0%BD%D0%B0%D1%87%D0%B5%D0%BD%D0%B8%D1%8F)',\n",
       " 'https://sk.wikipedia.org/wiki/Python',\n",
       " 'https://sr.wikipedia.org/wiki/%D0%9F%D0%B8%D1%82%D0%BE%D0%BD_(%D0%B2%D0%B8%D1%88%D0%B5%D0%B7%D0%BD%D0%B0%D1%87%D0%BD%D0%B0_%D0%BE%D0%B4%D1%80%D0%B5%D0%B4%D0%BD%D0%B8%D1%86%D0%B0)',\n",
       " 'https://sh.wikipedia.org/wiki/Python',\n",
       " 'https://fi.wikipedia.org/wiki/Python',\n",
       " 'https://sv.wikipedia.org/wiki/Pyton',\n",
       " 'https://th.wikipedia.org/wiki/%E0%B9%84%E0%B8%9E%E0%B8%97%E0%B8%AD%E0%B8%99',\n",
       " 'https://tr.wikipedia.org/wiki/Python_(anlam_ayr%C4%B1m%C4%B1)',\n",
       " 'https://uk.wikipedia.org/wiki/%D0%9F%D1%96%D1%84%D0%BE%D0%BD',\n",
       " 'https://ur.wikipedia.org/wiki/%D9%BE%D8%A7%D8%A6%DB%8C%D8%AA%DA%BE%D9%88%D9%86',\n",
       " 'https://vi.wikipedia.org/wiki/Python',\n",
       " 'https://zh.wikipedia.org/wiki/Python_(%E6%B6%88%E6%AD%A7%E4%B9%89)',\n",
       " 'https://en.wikipedia.org/wiki/Python',\n",
       " 'https://en.wikipedia.org/wiki/Talk:Python',\n",
       " 'https://en.wikipedia.org/wiki/Python',\n",
       " 'https://en.wikipedia.org/w/index.php?title=Python&action=edit&editintro=Template:Disambig_editintro',\n",
       " 'https://en.wikipedia.org/w/index.php?title=Python&action=history',\n",
       " 'https://en.wikipedia.org/wiki/Python',\n",
       " 'https://en.wikipedia.org/w/index.php?title=Python&action=edit',\n",
       " 'https://en.wikipedia.org/w/index.php?title=Python&action=history',\n",
       " 'https://en.wikipedia.org/wiki/Special:WhatLinksHere/Python',\n",
       " 'https://en.wikipedia.org/wiki/Special:RecentChangesLinked/Python',\n",
       " 'https://en.wikipedia.org/wiki/Wikipedia:File_Upload_Wizard',\n",
       " 'https://en.wikipedia.org/wiki/Special:SpecialPages',\n",
       " 'https://en.wikipedia.org/w/index.php?title=Python&oldid=1182751793',\n",
       " 'https://en.wikipedia.org/w/index.php?title=Python&action=info',\n",
       " 'https://en.wikipedia.org/w/index.php?title=Special:CiteThisPage&page=Python&id=1182751793&wpFormIdentifier=titleform',\n",
       " 'https://en.wikipedia.org/w/index.php?title=Special:UrlShortener&url=https%3A%2F%2Fen.wikipedia.org%2Fwiki%2FPython',\n",
       " 'https://www.wikidata.org/wiki/Special:EntityPage/Q747452',\n",
       " 'https://www.wikidata.org/wiki/Special:EntityPage/Q747452#sitelinks-wikipedia',\n",
       " 'https://en.wikipedia.org/w/index.php?title=Special:DownloadAsPdf&page=Python&action=show-download-screen',\n",
       " 'https://en.wikipedia.org/w/index.php?title=Python&printable=yes',\n",
       " 'https://commons.wikimedia.org/wiki/Category:Python',\n",
       " 'https://en.wikipedia.org/wiki/Pythonidae',\n",
       " 'https://en.wikipedia.org/wiki/Python_(genus)',\n",
       " 'https://en.wikipedia.org/wiki/Python_(mythology)',\n",
       " 'https://en.wikipedia.org/wiki/Python_(programming_language)',\n",
       " 'https://en.wikipedia.org/wiki/CMU_Common_Lisp',\n",
       " 'https://en.wikipedia.org/wiki/PERQ#PERQ_3',\n",
       " 'https://en.wikipedia.org/wiki/Python_of_Aenus',\n",
       " 'https://en.wikipedia.org/wiki/Python_(painter)',\n",
       " 'https://en.wikipedia.org/wiki/Python_of_Byzantium',\n",
       " 'https://en.wikipedia.org/wiki/Python_of_Catana',\n",
       " 'https://en.wikipedia.org/wiki/Python_Anghelo',\n",
       " 'https://en.wikipedia.org/wiki/Python_(Efteling)',\n",
       " 'https://en.wikipedia.org/wiki/Python_(Busch_Gardens_Tampa_Bay)',\n",
       " 'https://en.wikipedia.org/wiki/Python_(Coney_Island,_Cincinnati,_Ohio)',\n",
       " 'https://en.wikipedia.org/wiki/Python_(automobile_maker)',\n",
       " 'https://en.wikipedia.org/wiki/Python_(Ford_prototype)',\n",
       " 'https://en.wikipedia.org/wiki/Python_(missile)',\n",
       " 'https://en.wikipedia.org/wiki/Python_(nuclear_primary)',\n",
       " 'https://en.wikipedia.org/wiki/Colt_Python',\n",
       " 'https://en.wikipedia.org/wiki/Python_(codename)',\n",
       " 'https://en.wikipedia.org/wiki/Python_(film)',\n",
       " 'https://en.wikipedia.org/wiki/Monty_Python',\n",
       " 'https://en.wikipedia.org/wiki/Python_(Monty)_Pictures',\n",
       " 'https://en.wikipedia.org/wiki/Timon_of_Phlius',\n",
       " 'https://en.wikipedia.org/wiki/Pyton',\n",
       " 'https://en.wikipedia.org/wiki/Pithon',\n",
       " 'https://en.wikipedia.org/wiki/Category:Disambiguation_pages',\n",
       " 'https://en.wikipedia.org/wiki/Category:Human_name_disambiguation_pages',\n",
       " 'https://en.wikipedia.org/wiki/Category:Disambiguation_pages_with_given-name-holder_lists',\n",
       " 'https://en.wikipedia.org/wiki/Category:Short_description_is_different_from_Wikidata',\n",
       " 'https://en.wikipedia.org/wiki/Category:All_article_disambiguation_pages',\n",
       " 'https://en.wikipedia.org/wiki/Category:All_disambiguation_pages',\n",
       " 'https://en.wikipedia.org/wiki/Category:Animal_common_name_disambiguation_pages',\n",
       " 'https://en.wikipedia.org/wiki/Wikipedia:Text_of_the_Creative_Commons_Attribution-ShareAlike_4.0_International_License',\n",
       " 'https://en.wikipedia.org/wiki/Wikipedia:Text_of_the_Creative_Commons_Attribution-ShareAlike_4.0_International_License',\n",
       " 'https://foundation.wikimedia.org/wiki/Terms_of_Use',\n",
       " 'https://foundation.wikimedia.org/wiki/Privacy_policy',\n",
       " 'https://www.wikimediafoundation.org/',\n",
       " 'https://foundation.wikimedia.org/wiki/Special:MyLanguage/Policy:Privacy_policy',\n",
       " 'https://en.wikipedia.org/wiki/Wikipedia:About',\n",
       " 'https://en.wikipedia.org/wiki/Wikipedia:General_disclaimer',\n",
       " 'https://en.wikipedia.org/wiki/Wikipedia:Contact_us',\n",
       " 'https://foundation.wikimedia.org/wiki/Special:MyLanguage/Universal_Code_of_Conduct',\n",
       " 'https://developer.wikimedia.org/',\n",
       " 'https://stats.wikimedia.org/#/en.wikipedia.org',\n",
       " 'https://foundation.wikimedia.org/wiki/Special:MyLanguage/Policy:Cookie_statement',\n",
       " 'https://en.m.wikipedia.org/w/index.php?title=Python&mobileaction=toggle_view_mobile',\n",
       " 'https://en.wikipedia.org/wiki/Python#',\n",
       " 'https://wikimediafoundation.org/',\n",
       " 'https://www.mediawiki.org/']"
      ]
     },
     "execution_count": 152,
     "metadata": {},
     "output_type": "execute_result"
    }
   ],
   "source": [
    "mi_nueva_lista = []\n",
    "for e in links:\n",
    "    mi_nueva_lista.append(e.get_attribute(\"href\"))\n",
    "\n",
    "mi_nueva_lista"
   ]
  },
  {
   "cell_type": "code",
   "execution_count": 121,
   "metadata": {},
   "outputs": [],
   "source": [
    "mi_nueva_lista = [e.get_attribute(\"href\") for e in links ]"
   ]
  },
  {
   "cell_type": "code",
   "execution_count": 112,
   "metadata": {},
   "outputs": [
    {
     "data": {
      "text/plain": [
       "[<selenium.webdriver.remote.webelement.WebElement (session=\"6155eaea91315554c376e9ce535008c2\", element=\"91E50AC36CE96D200E82D7B416DDBD12_element_611\")>,\n",
       " <selenium.webdriver.remote.webelement.WebElement (session=\"6155eaea91315554c376e9ce535008c2\", element=\"91E50AC36CE96D200E82D7B416DDBD12_element_615\")>,\n",
       " <selenium.webdriver.remote.webelement.WebElement (session=\"6155eaea91315554c376e9ce535008c2\", element=\"91E50AC36CE96D200E82D7B416DDBD12_element_619\")>,\n",
       " <selenium.webdriver.remote.webelement.WebElement (session=\"6155eaea91315554c376e9ce535008c2\", element=\"91E50AC36CE96D200E82D7B416DDBD12_element_623\")>,\n",
       " <selenium.webdriver.remote.webelement.WebElement (session=\"6155eaea91315554c376e9ce535008c2\", element=\"91E50AC36CE96D200E82D7B416DDBD12_element_627\")>,\n",
       " <selenium.webdriver.remote.webelement.WebElement (session=\"6155eaea91315554c376e9ce535008c2\", element=\"91E50AC36CE96D200E82D7B416DDBD12_element_631\")>,\n",
       " <selenium.webdriver.remote.webelement.WebElement (session=\"6155eaea91315554c376e9ce535008c2\", element=\"91E50AC36CE96D200E82D7B416DDBD12_element_635\")>,\n",
       " <selenium.webdriver.remote.webelement.WebElement (session=\"6155eaea91315554c376e9ce535008c2\", element=\"91E50AC36CE96D200E82D7B416DDBD12_element_644\")>,\n",
       " <selenium.webdriver.remote.webelement.WebElement (session=\"6155eaea91315554c376e9ce535008c2\", element=\"91E50AC36CE96D200E82D7B416DDBD12_element_648\")>,\n",
       " <selenium.webdriver.remote.webelement.WebElement (session=\"6155eaea91315554c376e9ce535008c2\", element=\"91E50AC36CE96D200E82D7B416DDBD12_element_652\")>,\n",
       " <selenium.webdriver.remote.webelement.WebElement (session=\"6155eaea91315554c376e9ce535008c2\", element=\"91E50AC36CE96D200E82D7B416DDBD12_element_656\")>,\n",
       " <selenium.webdriver.remote.webelement.WebElement (session=\"6155eaea91315554c376e9ce535008c2\", element=\"91E50AC36CE96D200E82D7B416DDBD12_element_660\")>,\n",
       " <selenium.webdriver.remote.webelement.WebElement (session=\"6155eaea91315554c376e9ce535008c2\", element=\"91E50AC36CE96D200E82D7B416DDBD12_element_86\")>,\n",
       " <selenium.webdriver.remote.webelement.WebElement (session=\"6155eaea91315554c376e9ce535008c2\", element=\"91E50AC36CE96D200E82D7B416DDBD12_element_89\")>,\n",
       " <selenium.webdriver.remote.webelement.WebElement (session=\"6155eaea91315554c376e9ce535008c2\", element=\"91E50AC36CE96D200E82D7B416DDBD12_element_1140\")>,\n",
       " <selenium.webdriver.remote.webelement.WebElement (session=\"6155eaea91315554c376e9ce535008c2\", element=\"91E50AC36CE96D200E82D7B416DDBD12_element_1141\")>,\n",
       " <selenium.webdriver.remote.webelement.WebElement (session=\"6155eaea91315554c376e9ce535008c2\", element=\"91E50AC36CE96D200E82D7B416DDBD12_element_702\")>,\n",
       " <selenium.webdriver.remote.webelement.WebElement (session=\"6155eaea91315554c376e9ce535008c2\", element=\"91E50AC36CE96D200E82D7B416DDBD12_element_706\")>,\n",
       " <selenium.webdriver.remote.webelement.WebElement (session=\"6155eaea91315554c376e9ce535008c2\", element=\"91E50AC36CE96D200E82D7B416DDBD12_element_106\")>,\n",
       " <selenium.webdriver.remote.webelement.WebElement (session=\"6155eaea91315554c376e9ce535008c2\", element=\"91E50AC36CE96D200E82D7B416DDBD12_element_110\")>,\n",
       " <selenium.webdriver.remote.webelement.WebElement (session=\"6155eaea91315554c376e9ce535008c2\", element=\"91E50AC36CE96D200E82D7B416DDBD12_element_115\")>,\n",
       " <selenium.webdriver.remote.webelement.WebElement (session=\"6155eaea91315554c376e9ce535008c2\", element=\"91E50AC36CE96D200E82D7B416DDBD12_element_120\")>,\n",
       " <selenium.webdriver.remote.webelement.WebElement (session=\"6155eaea91315554c376e9ce535008c2\", element=\"91E50AC36CE96D200E82D7B416DDBD12_element_125\")>,\n",
       " <selenium.webdriver.remote.webelement.WebElement (session=\"6155eaea91315554c376e9ce535008c2\", element=\"91E50AC36CE96D200E82D7B416DDBD12_element_130\")>,\n",
       " <selenium.webdriver.remote.webelement.WebElement (session=\"6155eaea91315554c376e9ce535008c2\", element=\"91E50AC36CE96D200E82D7B416DDBD12_element_135\")>,\n",
       " <selenium.webdriver.remote.webelement.WebElement (session=\"6155eaea91315554c376e9ce535008c2\", element=\"91E50AC36CE96D200E82D7B416DDBD12_element_140\")>,\n",
       " <selenium.webdriver.remote.webelement.WebElement (session=\"6155eaea91315554c376e9ce535008c2\", element=\"91E50AC36CE96D200E82D7B416DDBD12_element_145\")>,\n",
       " <selenium.webdriver.remote.webelement.WebElement (session=\"6155eaea91315554c376e9ce535008c2\", element=\"91E50AC36CE96D200E82D7B416DDBD12_element_1142\")>,\n",
       " <selenium.webdriver.remote.webelement.WebElement (session=\"6155eaea91315554c376e9ce535008c2\", element=\"91E50AC36CE96D200E82D7B416DDBD12_element_1143\")>,\n",
       " <selenium.webdriver.remote.webelement.WebElement (session=\"6155eaea91315554c376e9ce535008c2\", element=\"91E50AC36CE96D200E82D7B416DDBD12_element_1144\")>,\n",
       " <selenium.webdriver.remote.webelement.WebElement (session=\"6155eaea91315554c376e9ce535008c2\", element=\"91E50AC36CE96D200E82D7B416DDBD12_element_1145\")>,\n",
       " <selenium.webdriver.remote.webelement.WebElement (session=\"6155eaea91315554c376e9ce535008c2\", element=\"91E50AC36CE96D200E82D7B416DDBD12_element_1146\")>,\n",
       " <selenium.webdriver.remote.webelement.WebElement (session=\"6155eaea91315554c376e9ce535008c2\", element=\"91E50AC36CE96D200E82D7B416DDBD12_element_1147\")>,\n",
       " <selenium.webdriver.remote.webelement.WebElement (session=\"6155eaea91315554c376e9ce535008c2\", element=\"91E50AC36CE96D200E82D7B416DDBD12_element_1148\")>,\n",
       " <selenium.webdriver.remote.webelement.WebElement (session=\"6155eaea91315554c376e9ce535008c2\", element=\"91E50AC36CE96D200E82D7B416DDBD12_element_1149\")>,\n",
       " <selenium.webdriver.remote.webelement.WebElement (session=\"6155eaea91315554c376e9ce535008c2\", element=\"91E50AC36CE96D200E82D7B416DDBD12_element_1150\")>,\n",
       " <selenium.webdriver.remote.webelement.WebElement (session=\"6155eaea91315554c376e9ce535008c2\", element=\"91E50AC36CE96D200E82D7B416DDBD12_element_1151\")>,\n",
       " <selenium.webdriver.remote.webelement.WebElement (session=\"6155eaea91315554c376e9ce535008c2\", element=\"91E50AC36CE96D200E82D7B416DDBD12_element_1152\")>,\n",
       " <selenium.webdriver.remote.webelement.WebElement (session=\"6155eaea91315554c376e9ce535008c2\", element=\"91E50AC36CE96D200E82D7B416DDBD12_element_1153\")>,\n",
       " <selenium.webdriver.remote.webelement.WebElement (session=\"6155eaea91315554c376e9ce535008c2\", element=\"91E50AC36CE96D200E82D7B416DDBD12_element_1154\")>,\n",
       " <selenium.webdriver.remote.webelement.WebElement (session=\"6155eaea91315554c376e9ce535008c2\", element=\"91E50AC36CE96D200E82D7B416DDBD12_element_1155\")>,\n",
       " <selenium.webdriver.remote.webelement.WebElement (session=\"6155eaea91315554c376e9ce535008c2\", element=\"91E50AC36CE96D200E82D7B416DDBD12_element_1156\")>,\n",
       " <selenium.webdriver.remote.webelement.WebElement (session=\"6155eaea91315554c376e9ce535008c2\", element=\"91E50AC36CE96D200E82D7B416DDBD12_element_1157\")>,\n",
       " <selenium.webdriver.remote.webelement.WebElement (session=\"6155eaea91315554c376e9ce535008c2\", element=\"91E50AC36CE96D200E82D7B416DDBD12_element_1158\")>,\n",
       " <selenium.webdriver.remote.webelement.WebElement (session=\"6155eaea91315554c376e9ce535008c2\", element=\"91E50AC36CE96D200E82D7B416DDBD12_element_1159\")>,\n",
       " <selenium.webdriver.remote.webelement.WebElement (session=\"6155eaea91315554c376e9ce535008c2\", element=\"91E50AC36CE96D200E82D7B416DDBD12_element_1160\")>,\n",
       " <selenium.webdriver.remote.webelement.WebElement (session=\"6155eaea91315554c376e9ce535008c2\", element=\"91E50AC36CE96D200E82D7B416DDBD12_element_1161\")>,\n",
       " <selenium.webdriver.remote.webelement.WebElement (session=\"6155eaea91315554c376e9ce535008c2\", element=\"91E50AC36CE96D200E82D7B416DDBD12_element_1162\")>,\n",
       " <selenium.webdriver.remote.webelement.WebElement (session=\"6155eaea91315554c376e9ce535008c2\", element=\"91E50AC36CE96D200E82D7B416DDBD12_element_1163\")>,\n",
       " <selenium.webdriver.remote.webelement.WebElement (session=\"6155eaea91315554c376e9ce535008c2\", element=\"91E50AC36CE96D200E82D7B416DDBD12_element_1164\")>,\n",
       " <selenium.webdriver.remote.webelement.WebElement (session=\"6155eaea91315554c376e9ce535008c2\", element=\"91E50AC36CE96D200E82D7B416DDBD12_element_1165\")>,\n",
       " <selenium.webdriver.remote.webelement.WebElement (session=\"6155eaea91315554c376e9ce535008c2\", element=\"91E50AC36CE96D200E82D7B416DDBD12_element_1166\")>,\n",
       " <selenium.webdriver.remote.webelement.WebElement (session=\"6155eaea91315554c376e9ce535008c2\", element=\"91E50AC36CE96D200E82D7B416DDBD12_element_1167\")>,\n",
       " <selenium.webdriver.remote.webelement.WebElement (session=\"6155eaea91315554c376e9ce535008c2\", element=\"91E50AC36CE96D200E82D7B416DDBD12_element_1168\")>,\n",
       " <selenium.webdriver.remote.webelement.WebElement (session=\"6155eaea91315554c376e9ce535008c2\", element=\"91E50AC36CE96D200E82D7B416DDBD12_element_1169\")>,\n",
       " <selenium.webdriver.remote.webelement.WebElement (session=\"6155eaea91315554c376e9ce535008c2\", element=\"91E50AC36CE96D200E82D7B416DDBD12_element_1170\")>,\n",
       " <selenium.webdriver.remote.webelement.WebElement (session=\"6155eaea91315554c376e9ce535008c2\", element=\"91E50AC36CE96D200E82D7B416DDBD12_element_1171\")>,\n",
       " <selenium.webdriver.remote.webelement.WebElement (session=\"6155eaea91315554c376e9ce535008c2\", element=\"91E50AC36CE96D200E82D7B416DDBD12_element_1172\")>,\n",
       " <selenium.webdriver.remote.webelement.WebElement (session=\"6155eaea91315554c376e9ce535008c2\", element=\"91E50AC36CE96D200E82D7B416DDBD12_element_1173\")>,\n",
       " <selenium.webdriver.remote.webelement.WebElement (session=\"6155eaea91315554c376e9ce535008c2\", element=\"91E50AC36CE96D200E82D7B416DDBD12_element_1174\")>,\n",
       " <selenium.webdriver.remote.webelement.WebElement (session=\"6155eaea91315554c376e9ce535008c2\", element=\"91E50AC36CE96D200E82D7B416DDBD12_element_1175\")>,\n",
       " <selenium.webdriver.remote.webelement.WebElement (session=\"6155eaea91315554c376e9ce535008c2\", element=\"91E50AC36CE96D200E82D7B416DDBD12_element_1176\")>,\n",
       " <selenium.webdriver.remote.webelement.WebElement (session=\"6155eaea91315554c376e9ce535008c2\", element=\"91E50AC36CE96D200E82D7B416DDBD12_element_1177\")>,\n",
       " <selenium.webdriver.remote.webelement.WebElement (session=\"6155eaea91315554c376e9ce535008c2\", element=\"91E50AC36CE96D200E82D7B416DDBD12_element_1178\")>,\n",
       " <selenium.webdriver.remote.webelement.WebElement (session=\"6155eaea91315554c376e9ce535008c2\", element=\"91E50AC36CE96D200E82D7B416DDBD12_element_1179\")>,\n",
       " <selenium.webdriver.remote.webelement.WebElement (session=\"6155eaea91315554c376e9ce535008c2\", element=\"91E50AC36CE96D200E82D7B416DDBD12_element_1180\")>,\n",
       " <selenium.webdriver.remote.webelement.WebElement (session=\"6155eaea91315554c376e9ce535008c2\", element=\"91E50AC36CE96D200E82D7B416DDBD12_element_1181\")>,\n",
       " <selenium.webdriver.remote.webelement.WebElement (session=\"6155eaea91315554c376e9ce535008c2\", element=\"91E50AC36CE96D200E82D7B416DDBD12_element_1182\")>,\n",
       " <selenium.webdriver.remote.webelement.WebElement (session=\"6155eaea91315554c376e9ce535008c2\", element=\"91E50AC36CE96D200E82D7B416DDBD12_element_1183\")>,\n",
       " <selenium.webdriver.remote.webelement.WebElement (session=\"6155eaea91315554c376e9ce535008c2\", element=\"91E50AC36CE96D200E82D7B416DDBD12_element_1184\")>,\n",
       " <selenium.webdriver.remote.webelement.WebElement (session=\"6155eaea91315554c376e9ce535008c2\", element=\"91E50AC36CE96D200E82D7B416DDBD12_element_1185\")>,\n",
       " <selenium.webdriver.remote.webelement.WebElement (session=\"6155eaea91315554c376e9ce535008c2\", element=\"91E50AC36CE96D200E82D7B416DDBD12_element_1186\")>,\n",
       " <selenium.webdriver.remote.webelement.WebElement (session=\"6155eaea91315554c376e9ce535008c2\", element=\"91E50AC36CE96D200E82D7B416DDBD12_element_160\")>,\n",
       " <selenium.webdriver.remote.webelement.WebElement (session=\"6155eaea91315554c376e9ce535008c2\", element=\"91E50AC36CE96D200E82D7B416DDBD12_element_163\")>,\n",
       " <selenium.webdriver.remote.webelement.WebElement (session=\"6155eaea91315554c376e9ce535008c2\", element=\"91E50AC36CE96D200E82D7B416DDBD12_element_170\")>,\n",
       " <selenium.webdriver.remote.webelement.WebElement (session=\"6155eaea91315554c376e9ce535008c2\", element=\"91E50AC36CE96D200E82D7B416DDBD12_element_173\")>,\n",
       " <selenium.webdriver.remote.webelement.WebElement (session=\"6155eaea91315554c376e9ce535008c2\", element=\"91E50AC36CE96D200E82D7B416DDBD12_element_176\")>,\n",
       " <selenium.webdriver.remote.webelement.WebElement (session=\"6155eaea91315554c376e9ce535008c2\", element=\"91E50AC36CE96D200E82D7B416DDBD12_element_1187\")>,\n",
       " <selenium.webdriver.remote.webelement.WebElement (session=\"6155eaea91315554c376e9ce535008c2\", element=\"91E50AC36CE96D200E82D7B416DDBD12_element_1188\")>,\n",
       " <selenium.webdriver.remote.webelement.WebElement (session=\"6155eaea91315554c376e9ce535008c2\", element=\"91E50AC36CE96D200E82D7B416DDBD12_element_1189\")>,\n",
       " <selenium.webdriver.remote.webelement.WebElement (session=\"6155eaea91315554c376e9ce535008c2\", element=\"91E50AC36CE96D200E82D7B416DDBD12_element_802\")>,\n",
       " <selenium.webdriver.remote.webelement.WebElement (session=\"6155eaea91315554c376e9ce535008c2\", element=\"91E50AC36CE96D200E82D7B416DDBD12_element_806\")>,\n",
       " <selenium.webdriver.remote.webelement.WebElement (session=\"6155eaea91315554c376e9ce535008c2\", element=\"91E50AC36CE96D200E82D7B416DDBD12_element_1190\")>,\n",
       " <selenium.webdriver.remote.webelement.WebElement (session=\"6155eaea91315554c376e9ce535008c2\", element=\"91E50AC36CE96D200E82D7B416DDBD12_element_810\")>,\n",
       " <selenium.webdriver.remote.webelement.WebElement (session=\"6155eaea91315554c376e9ce535008c2\", element=\"91E50AC36CE96D200E82D7B416DDBD12_element_814\")>,\n",
       " <selenium.webdriver.remote.webelement.WebElement (session=\"6155eaea91315554c376e9ce535008c2\", element=\"91E50AC36CE96D200E82D7B416DDBD12_element_818\")>,\n",
       " <selenium.webdriver.remote.webelement.WebElement (session=\"6155eaea91315554c376e9ce535008c2\", element=\"91E50AC36CE96D200E82D7B416DDBD12_element_822\")>,\n",
       " <selenium.webdriver.remote.webelement.WebElement (session=\"6155eaea91315554c376e9ce535008c2\", element=\"91E50AC36CE96D200E82D7B416DDBD12_element_826\")>,\n",
       " <selenium.webdriver.remote.webelement.WebElement (session=\"6155eaea91315554c376e9ce535008c2\", element=\"91E50AC36CE96D200E82D7B416DDBD12_element_830\")>,\n",
       " <selenium.webdriver.remote.webelement.WebElement (session=\"6155eaea91315554c376e9ce535008c2\", element=\"91E50AC36CE96D200E82D7B416DDBD12_element_524\")>,\n",
       " <selenium.webdriver.remote.webelement.WebElement (session=\"6155eaea91315554c376e9ce535008c2\", element=\"91E50AC36CE96D200E82D7B416DDBD12_element_841\")>,\n",
       " <selenium.webdriver.remote.webelement.WebElement (session=\"6155eaea91315554c376e9ce535008c2\", element=\"91E50AC36CE96D200E82D7B416DDBD12_element_845\")>,\n",
       " <selenium.webdriver.remote.webelement.WebElement (session=\"6155eaea91315554c376e9ce535008c2\", element=\"91E50AC36CE96D200E82D7B416DDBD12_element_854\")>,\n",
       " <selenium.webdriver.remote.webelement.WebElement (session=\"6155eaea91315554c376e9ce535008c2\", element=\"91E50AC36CE96D200E82D7B416DDBD12_element_211\")>,\n",
       " <selenium.webdriver.remote.webelement.WebElement (session=\"6155eaea91315554c376e9ce535008c2\", element=\"91E50AC36CE96D200E82D7B416DDBD12_element_217\")>,\n",
       " <selenium.webdriver.remote.webelement.WebElement (session=\"6155eaea91315554c376e9ce535008c2\", element=\"91E50AC36CE96D200E82D7B416DDBD12_element_223\")>,\n",
       " <selenium.webdriver.remote.webelement.WebElement (session=\"6155eaea91315554c376e9ce535008c2\", element=\"91E50AC36CE96D200E82D7B416DDBD12_element_236\")>,\n",
       " <selenium.webdriver.remote.webelement.WebElement (session=\"6155eaea91315554c376e9ce535008c2\", element=\"91E50AC36CE96D200E82D7B416DDBD12_element_242\")>,\n",
       " <selenium.webdriver.remote.webelement.WebElement (session=\"6155eaea91315554c376e9ce535008c2\", element=\"91E50AC36CE96D200E82D7B416DDBD12_element_247\")>,\n",
       " <selenium.webdriver.remote.webelement.WebElement (session=\"6155eaea91315554c376e9ce535008c2\", element=\"91E50AC36CE96D200E82D7B416DDBD12_element_260\")>,\n",
       " <selenium.webdriver.remote.webelement.WebElement (session=\"6155eaea91315554c376e9ce535008c2\", element=\"91E50AC36CE96D200E82D7B416DDBD12_element_265\")>,\n",
       " <selenium.webdriver.remote.webelement.WebElement (session=\"6155eaea91315554c376e9ce535008c2\", element=\"91E50AC36CE96D200E82D7B416DDBD12_element_270\")>,\n",
       " <selenium.webdriver.remote.webelement.WebElement (session=\"6155eaea91315554c376e9ce535008c2\", element=\"91E50AC36CE96D200E82D7B416DDBD12_element_275\")>,\n",
       " <selenium.webdriver.remote.webelement.WebElement (session=\"6155eaea91315554c376e9ce535008c2\", element=\"91E50AC36CE96D200E82D7B416DDBD12_element_280\")>,\n",
       " <selenium.webdriver.remote.webelement.WebElement (session=\"6155eaea91315554c376e9ce535008c2\", element=\"91E50AC36CE96D200E82D7B416DDBD12_element_293\")>,\n",
       " <selenium.webdriver.remote.webelement.WebElement (session=\"6155eaea91315554c376e9ce535008c2\", element=\"91E50AC36CE96D200E82D7B416DDBD12_element_298\")>,\n",
       " <selenium.webdriver.remote.webelement.WebElement (session=\"6155eaea91315554c376e9ce535008c2\", element=\"91E50AC36CE96D200E82D7B416DDBD12_element_303\")>,\n",
       " <selenium.webdriver.remote.webelement.WebElement (session=\"6155eaea91315554c376e9ce535008c2\", element=\"91E50AC36CE96D200E82D7B416DDBD12_element_316\")>,\n",
       " <selenium.webdriver.remote.webelement.WebElement (session=\"6155eaea91315554c376e9ce535008c2\", element=\"91E50AC36CE96D200E82D7B416DDBD12_element_321\")>,\n",
       " <selenium.webdriver.remote.webelement.WebElement (session=\"6155eaea91315554c376e9ce535008c2\", element=\"91E50AC36CE96D200E82D7B416DDBD12_element_334\")>,\n",
       " <selenium.webdriver.remote.webelement.WebElement (session=\"6155eaea91315554c376e9ce535008c2\", element=\"91E50AC36CE96D200E82D7B416DDBD12_element_339\")>,\n",
       " <selenium.webdriver.remote.webelement.WebElement (session=\"6155eaea91315554c376e9ce535008c2\", element=\"91E50AC36CE96D200E82D7B416DDBD12_element_344\")>,\n",
       " <selenium.webdriver.remote.webelement.WebElement (session=\"6155eaea91315554c376e9ce535008c2\", element=\"91E50AC36CE96D200E82D7B416DDBD12_element_357\")>,\n",
       " <selenium.webdriver.remote.webelement.WebElement (session=\"6155eaea91315554c376e9ce535008c2\", element=\"91E50AC36CE96D200E82D7B416DDBD12_element_362\")>,\n",
       " <selenium.webdriver.remote.webelement.WebElement (session=\"6155eaea91315554c376e9ce535008c2\", element=\"91E50AC36CE96D200E82D7B416DDBD12_element_368\")>,\n",
       " <selenium.webdriver.remote.webelement.WebElement (session=\"6155eaea91315554c376e9ce535008c2\", element=\"91E50AC36CE96D200E82D7B416DDBD12_element_374\")>,\n",
       " <selenium.webdriver.remote.webelement.WebElement (session=\"6155eaea91315554c376e9ce535008c2\", element=\"91E50AC36CE96D200E82D7B416DDBD12_element_381\")>,\n",
       " <selenium.webdriver.remote.webelement.WebElement (session=\"6155eaea91315554c376e9ce535008c2\", element=\"91E50AC36CE96D200E82D7B416DDBD12_element_393\")>,\n",
       " <selenium.webdriver.remote.webelement.WebElement (session=\"6155eaea91315554c376e9ce535008c2\", element=\"91E50AC36CE96D200E82D7B416DDBD12_element_398\")>,\n",
       " <selenium.webdriver.remote.webelement.WebElement (session=\"6155eaea91315554c376e9ce535008c2\", element=\"91E50AC36CE96D200E82D7B416DDBD12_element_423\")>,\n",
       " <selenium.webdriver.remote.webelement.WebElement (session=\"6155eaea91315554c376e9ce535008c2\", element=\"91E50AC36CE96D200E82D7B416DDBD12_element_426\")>,\n",
       " <selenium.webdriver.remote.webelement.WebElement (session=\"6155eaea91315554c376e9ce535008c2\", element=\"91E50AC36CE96D200E82D7B416DDBD12_element_429\")>,\n",
       " <selenium.webdriver.remote.webelement.WebElement (session=\"6155eaea91315554c376e9ce535008c2\", element=\"91E50AC36CE96D200E82D7B416DDBD12_element_1191\")>,\n",
       " <selenium.webdriver.remote.webelement.WebElement (session=\"6155eaea91315554c376e9ce535008c2\", element=\"91E50AC36CE96D200E82D7B416DDBD12_element_1192\")>,\n",
       " <selenium.webdriver.remote.webelement.WebElement (session=\"6155eaea91315554c376e9ce535008c2\", element=\"91E50AC36CE96D200E82D7B416DDBD12_element_1193\")>,\n",
       " <selenium.webdriver.remote.webelement.WebElement (session=\"6155eaea91315554c376e9ce535008c2\", element=\"91E50AC36CE96D200E82D7B416DDBD12_element_1194\")>,\n",
       " <selenium.webdriver.remote.webelement.WebElement (session=\"6155eaea91315554c376e9ce535008c2\", element=\"91E50AC36CE96D200E82D7B416DDBD12_element_439\")>,\n",
       " <selenium.webdriver.remote.webelement.WebElement (session=\"6155eaea91315554c376e9ce535008c2\", element=\"91E50AC36CE96D200E82D7B416DDBD12_element_1195\")>,\n",
       " <selenium.webdriver.remote.webelement.WebElement (session=\"6155eaea91315554c376e9ce535008c2\", element=\"91E50AC36CE96D200E82D7B416DDBD12_element_442\")>,\n",
       " <selenium.webdriver.remote.webelement.WebElement (session=\"6155eaea91315554c376e9ce535008c2\", element=\"91E50AC36CE96D200E82D7B416DDBD12_element_445\")>,\n",
       " <selenium.webdriver.remote.webelement.WebElement (session=\"6155eaea91315554c376e9ce535008c2\", element=\"91E50AC36CE96D200E82D7B416DDBD12_element_448\")>,\n",
       " <selenium.webdriver.remote.webelement.WebElement (session=\"6155eaea91315554c376e9ce535008c2\", element=\"91E50AC36CE96D200E82D7B416DDBD12_element_453\")>,\n",
       " <selenium.webdriver.remote.webelement.WebElement (session=\"6155eaea91315554c376e9ce535008c2\", element=\"91E50AC36CE96D200E82D7B416DDBD12_element_456\")>,\n",
       " <selenium.webdriver.remote.webelement.WebElement (session=\"6155eaea91315554c376e9ce535008c2\", element=\"91E50AC36CE96D200E82D7B416DDBD12_element_459\")>,\n",
       " <selenium.webdriver.remote.webelement.WebElement (session=\"6155eaea91315554c376e9ce535008c2\", element=\"91E50AC36CE96D200E82D7B416DDBD12_element_462\")>,\n",
       " <selenium.webdriver.remote.webelement.WebElement (session=\"6155eaea91315554c376e9ce535008c2\", element=\"91E50AC36CE96D200E82D7B416DDBD12_element_465\")>,\n",
       " <selenium.webdriver.remote.webelement.WebElement (session=\"6155eaea91315554c376e9ce535008c2\", element=\"91E50AC36CE96D200E82D7B416DDBD12_element_468\")>,\n",
       " <selenium.webdriver.remote.webelement.WebElement (session=\"6155eaea91315554c376e9ce535008c2\", element=\"91E50AC36CE96D200E82D7B416DDBD12_element_471\")>,\n",
       " <selenium.webdriver.remote.webelement.WebElement (session=\"6155eaea91315554c376e9ce535008c2\", element=\"91E50AC36CE96D200E82D7B416DDBD12_element_474\")>,\n",
       " <selenium.webdriver.remote.webelement.WebElement (session=\"6155eaea91315554c376e9ce535008c2\", element=\"91E50AC36CE96D200E82D7B416DDBD12_element_477\")>,\n",
       " <selenium.webdriver.remote.webelement.WebElement (session=\"6155eaea91315554c376e9ce535008c2\", element=\"91E50AC36CE96D200E82D7B416DDBD12_element_1196\")>,\n",
       " <selenium.webdriver.remote.webelement.WebElement (session=\"6155eaea91315554c376e9ce535008c2\", element=\"91E50AC36CE96D200E82D7B416DDBD12_element_481\")>,\n",
       " <selenium.webdriver.remote.webelement.WebElement (session=\"6155eaea91315554c376e9ce535008c2\", element=\"91E50AC36CE96D200E82D7B416DDBD12_element_484\")>]"
      ]
     },
     "execution_count": 112,
     "metadata": {},
     "output_type": "execute_result"
    }
   ],
   "source": [
    "#your code\n",
    "driver.find_elements(By.XPATH, '//li//a') #No puedo llamar por HRC, ya que es un atributo y no es llamable "
   ]
  },
  {
   "cell_type": "code",
   "execution_count": 114,
   "metadata": {},
   "outputs": [],
   "source": [
    "links = driver.find_elements(By.XPATH, '//li//a') "
   ]
  },
  {
   "cell_type": "code",
   "execution_count": 116,
   "metadata": {},
   "outputs": [
    {
     "data": {
      "text/plain": [
       "['https://en.wikipedia.org/wiki/Main_Page',\n",
       " 'https://en.wikipedia.org/wiki/Wikipedia:Contents',\n",
       " 'https://en.wikipedia.org/wiki/Portal:Current_events',\n",
       " 'https://en.wikipedia.org/wiki/Special:Random',\n",
       " 'https://en.wikipedia.org/wiki/Wikipedia:About',\n",
       " 'https://en.wikipedia.org/wiki/Wikipedia:Contact_us',\n",
       " 'https://donate.wikimedia.org/wiki/Special:FundraiserRedirector?utm_source=donate&utm_medium=sidebar&utm_campaign=C13_en.wikipedia.org&uselang=en',\n",
       " 'https://en.wikipedia.org/wiki/Help:Contents',\n",
       " 'https://en.wikipedia.org/wiki/Help:Introduction',\n",
       " 'https://en.wikipedia.org/wiki/Wikipedia:Community_portal',\n",
       " 'https://en.wikipedia.org/wiki/Special:RecentChanges',\n",
       " 'https://en.wikipedia.org/wiki/Wikipedia:File_upload_wizard',\n",
       " 'https://en.wikipedia.org/w/index.php?title=Special:CreateAccount&returnto=Python',\n",
       " 'https://en.wikipedia.org/w/index.php?title=Special:UserLogin&returnto=Python',\n",
       " 'https://en.wikipedia.org/w/index.php?title=Special:CreateAccount&returnto=Python',\n",
       " 'https://en.wikipedia.org/w/index.php?title=Special:UserLogin&returnto=Python',\n",
       " 'https://en.wikipedia.org/wiki/Special:MyContributions',\n",
       " 'https://en.wikipedia.org/wiki/Special:MyTalk',\n",
       " 'https://en.wikipedia.org/wiki/Python#',\n",
       " 'https://en.wikipedia.org/wiki/Python#Snakes',\n",
       " 'https://en.wikipedia.org/wiki/Python#Computing',\n",
       " 'https://en.wikipedia.org/wiki/Python#People',\n",
       " 'https://en.wikipedia.org/wiki/Python#Roller_coasters',\n",
       " 'https://en.wikipedia.org/wiki/Python#Vehicles',\n",
       " 'https://en.wikipedia.org/wiki/Python#Weaponry',\n",
       " 'https://en.wikipedia.org/wiki/Python#Other_uses',\n",
       " 'https://en.wikipedia.org/wiki/Python#See_also',\n",
       " 'https://af.wikipedia.org/wiki/Python',\n",
       " 'https://als.wikipedia.org/wiki/Python',\n",
       " 'https://ar.wikipedia.org/wiki/%D8%A8%D8%A7%D9%8A%D8%AB%D9%88%D9%86_(%D8%AA%D9%88%D8%B6%D9%8A%D8%AD)',\n",
       " 'https://az.wikipedia.org/wiki/Python_(d%C9%99qiql%C9%99%C5%9Fdirm%C9%99)',\n",
       " 'https://bn.wikipedia.org/wiki/%E0%A6%AA%E0%A6%BE%E0%A6%87%E0%A6%A5%E0%A6%A8_(%E0%A6%A6%E0%A7%8D%E0%A6%AC%E0%A7%8D%E0%A6%AF%E0%A6%B0%E0%A7%8D%E0%A6%A5%E0%A6%A4%E0%A6%BE_%E0%A6%A8%E0%A6%BF%E0%A6%B0%E0%A6%B8%E0%A6%A8)',\n",
       " 'https://be.wikipedia.org/wiki/Python',\n",
       " 'https://bg.wikipedia.org/wiki/%D0%9F%D0%B8%D1%82%D0%BE%D0%BD_(%D0%BF%D0%BE%D1%8F%D1%81%D0%BD%D0%B5%D0%BD%D0%B8%D0%B5)',\n",
       " 'https://cs.wikipedia.org/wiki/Python_(rozcestn%C3%ADk)',\n",
       " 'https://da.wikipedia.org/wiki/Python',\n",
       " 'https://de.wikipedia.org/wiki/Python',\n",
       " 'https://eo.wikipedia.org/wiki/Pitono_(apartigilo)',\n",
       " 'https://eu.wikipedia.org/wiki/Python_(argipena)',\n",
       " 'https://fa.wikipedia.org/wiki/%D9%BE%D8%A7%DB%8C%D8%AA%D9%88%D9%86',\n",
       " 'https://fr.wikipedia.org/wiki/Python',\n",
       " 'https://ko.wikipedia.org/wiki/%ED%8C%8C%EC%9D%B4%EC%84%A0',\n",
       " 'https://hr.wikipedia.org/wiki/Python_(razdvojba)',\n",
       " 'https://io.wikipedia.org/wiki/Pitono',\n",
       " 'https://id.wikipedia.org/wiki/Python',\n",
       " 'https://ia.wikipedia.org/wiki/Python_(disambiguation)',\n",
       " 'https://is.wikipedia.org/wiki/Python_(a%C3%B0greining)',\n",
       " 'https://it.wikipedia.org/wiki/Python_(disambigua)',\n",
       " 'https://he.wikipedia.org/wiki/%D7%A4%D7%99%D7%AA%D7%95%D7%9F',\n",
       " 'https://ka.wikipedia.org/wiki/%E1%83%9E%E1%83%98%E1%83%97%E1%83%9D%E1%83%9C%E1%83%98_(%E1%83%9B%E1%83%A0%E1%83%90%E1%83%95%E1%83%90%E1%83%9A%E1%83%9B%E1%83%9C%E1%83%98%E1%83%A8%E1%83%95%E1%83%9C%E1%83%94%E1%83%9A%E1%83%9D%E1%83%95%E1%83%90%E1%83%9C%E1%83%98)',\n",
       " 'https://kg.wikipedia.org/wiki/Mboma_(nyoka)',\n",
       " 'https://la.wikipedia.org/wiki/Python_(discretiva)',\n",
       " 'https://lb.wikipedia.org/wiki/Python',\n",
       " 'https://hu.wikipedia.org/wiki/Python_(egy%C3%A9rtelm%C5%B1s%C3%ADt%C5%91_lap)',\n",
       " 'https://mr.wikipedia.org/wiki/%E0%A4%AA%E0%A4%BE%E0%A4%AF%E0%A4%A5%E0%A5%89%E0%A4%A8_(%E0%A4%86%E0%A4%9C%E0%A5%8D%E0%A4%9E%E0%A4%BE%E0%A4%B5%E0%A4%B2%E0%A5%80_%E0%A4%AD%E0%A4%BE%E0%A4%B7%E0%A4%BE)',\n",
       " 'https://nl.wikipedia.org/wiki/Python',\n",
       " 'https://ja.wikipedia.org/wiki/%E3%83%91%E3%82%A4%E3%82%BD%E3%83%B3',\n",
       " 'https://no.wikipedia.org/wiki/Pyton',\n",
       " 'https://pl.wikipedia.org/wiki/Pyton',\n",
       " 'https://pt.wikipedia.org/wiki/Python_(desambigua%C3%A7%C3%A3o)',\n",
       " 'https://ru.wikipedia.org/wiki/Python_(%D0%B7%D0%BD%D0%B0%D1%87%D0%B5%D0%BD%D0%B8%D1%8F)',\n",
       " 'https://sk.wikipedia.org/wiki/Python',\n",
       " 'https://sr.wikipedia.org/wiki/%D0%9F%D0%B8%D1%82%D0%BE%D0%BD_(%D0%B2%D0%B8%D1%88%D0%B5%D0%B7%D0%BD%D0%B0%D1%87%D0%BD%D0%B0_%D0%BE%D0%B4%D1%80%D0%B5%D0%B4%D0%BD%D0%B8%D1%86%D0%B0)',\n",
       " 'https://sh.wikipedia.org/wiki/Python',\n",
       " 'https://fi.wikipedia.org/wiki/Python',\n",
       " 'https://sv.wikipedia.org/wiki/Pyton',\n",
       " 'https://th.wikipedia.org/wiki/%E0%B9%84%E0%B8%9E%E0%B8%97%E0%B8%AD%E0%B8%99',\n",
       " 'https://tr.wikipedia.org/wiki/Python_(anlam_ayr%C4%B1m%C4%B1)',\n",
       " 'https://uk.wikipedia.org/wiki/%D0%9F%D1%96%D1%84%D0%BE%D0%BD',\n",
       " 'https://ur.wikipedia.org/wiki/%D9%BE%D8%A7%D8%A6%DB%8C%D8%AA%DA%BE%D9%88%D9%86',\n",
       " 'https://vi.wikipedia.org/wiki/Python',\n",
       " 'https://zh.wikipedia.org/wiki/Python_(%E6%B6%88%E6%AD%A7%E4%B9%89)',\n",
       " 'https://en.wikipedia.org/wiki/Python',\n",
       " 'https://en.wikipedia.org/wiki/Talk:Python',\n",
       " 'https://en.wikipedia.org/wiki/Python',\n",
       " 'https://en.wikipedia.org/w/index.php?title=Python&action=edit&editintro=Template:Disambig_editintro',\n",
       " 'https://en.wikipedia.org/w/index.php?title=Python&action=history',\n",
       " 'https://en.wikipedia.org/wiki/Python',\n",
       " 'https://en.wikipedia.org/w/index.php?title=Python&action=edit',\n",
       " 'https://en.wikipedia.org/w/index.php?title=Python&action=history',\n",
       " 'https://en.wikipedia.org/wiki/Special:WhatLinksHere/Python',\n",
       " 'https://en.wikipedia.org/wiki/Special:RecentChangesLinked/Python',\n",
       " 'https://en.wikipedia.org/wiki/Wikipedia:File_Upload_Wizard',\n",
       " 'https://en.wikipedia.org/wiki/Special:SpecialPages',\n",
       " 'https://en.wikipedia.org/w/index.php?title=Python&oldid=1182751793',\n",
       " 'https://en.wikipedia.org/w/index.php?title=Python&action=info',\n",
       " 'https://en.wikipedia.org/w/index.php?title=Special:CiteThisPage&page=Python&id=1182751793&wpFormIdentifier=titleform',\n",
       " 'https://en.wikipedia.org/w/index.php?title=Special:UrlShortener&url=https%3A%2F%2Fen.wikipedia.org%2Fwiki%2FPython',\n",
       " 'https://www.wikidata.org/wiki/Special:EntityPage/Q747452',\n",
       " 'https://www.wikidata.org/wiki/Special:EntityPage/Q747452#sitelinks-wikipedia',\n",
       " 'https://en.wikipedia.org/w/index.php?title=Special:DownloadAsPdf&page=Python&action=show-download-screen',\n",
       " 'https://en.wikipedia.org/w/index.php?title=Python&printable=yes',\n",
       " 'https://commons.wikimedia.org/wiki/Category:Python',\n",
       " 'https://en.wikipedia.org/wiki/Pythonidae',\n",
       " 'https://en.wikipedia.org/wiki/Python_(genus)',\n",
       " 'https://en.wikipedia.org/wiki/Python_(mythology)',\n",
       " 'https://en.wikipedia.org/wiki/Python_(programming_language)',\n",
       " 'https://en.wikipedia.org/wiki/CMU_Common_Lisp',\n",
       " 'https://en.wikipedia.org/wiki/PERQ#PERQ_3',\n",
       " 'https://en.wikipedia.org/wiki/Python_of_Aenus',\n",
       " 'https://en.wikipedia.org/wiki/Python_(painter)',\n",
       " 'https://en.wikipedia.org/wiki/Python_of_Byzantium',\n",
       " 'https://en.wikipedia.org/wiki/Python_of_Catana',\n",
       " 'https://en.wikipedia.org/wiki/Python_Anghelo',\n",
       " 'https://en.wikipedia.org/wiki/Python_(Efteling)',\n",
       " 'https://en.wikipedia.org/wiki/Python_(Busch_Gardens_Tampa_Bay)',\n",
       " 'https://en.wikipedia.org/wiki/Python_(Coney_Island,_Cincinnati,_Ohio)',\n",
       " 'https://en.wikipedia.org/wiki/Python_(automobile_maker)',\n",
       " 'https://en.wikipedia.org/wiki/Python_(Ford_prototype)',\n",
       " 'https://en.wikipedia.org/wiki/Python_(missile)',\n",
       " 'https://en.wikipedia.org/wiki/Python_(nuclear_primary)',\n",
       " 'https://en.wikipedia.org/wiki/Colt_Python',\n",
       " 'https://en.wikipedia.org/wiki/Python_(codename)',\n",
       " 'https://en.wikipedia.org/wiki/Python_(film)',\n",
       " 'https://en.wikipedia.org/wiki/Monty_Python',\n",
       " 'https://en.wikipedia.org/wiki/Python_(Monty)_Pictures',\n",
       " 'https://en.wikipedia.org/wiki/Timon_of_Phlius',\n",
       " 'https://en.wikipedia.org/wiki/Pyton',\n",
       " 'https://en.wikipedia.org/wiki/Pithon',\n",
       " 'https://en.wikipedia.org/wiki/Category:Disambiguation_pages',\n",
       " 'https://en.wikipedia.org/wiki/Category:Human_name_disambiguation_pages',\n",
       " 'https://en.wikipedia.org/wiki/Category:Disambiguation_pages_with_given-name-holder_lists',\n",
       " 'https://en.wikipedia.org/wiki/Category:Short_description_is_different_from_Wikidata',\n",
       " 'https://en.wikipedia.org/wiki/Category:All_article_disambiguation_pages',\n",
       " 'https://en.wikipedia.org/wiki/Category:All_disambiguation_pages',\n",
       " 'https://en.wikipedia.org/wiki/Category:Animal_common_name_disambiguation_pages',\n",
       " 'https://en.wikipedia.org/wiki/Wikipedia:Text_of_the_Creative_Commons_Attribution-ShareAlike_4.0_International_License',\n",
       " 'https://en.wikipedia.org/wiki/Wikipedia:Text_of_the_Creative_Commons_Attribution-ShareAlike_4.0_International_License',\n",
       " 'https://foundation.wikimedia.org/wiki/Terms_of_Use',\n",
       " 'https://foundation.wikimedia.org/wiki/Privacy_policy',\n",
       " 'https://www.wikimediafoundation.org/',\n",
       " 'https://foundation.wikimedia.org/wiki/Special:MyLanguage/Policy:Privacy_policy',\n",
       " 'https://en.wikipedia.org/wiki/Wikipedia:About',\n",
       " 'https://en.wikipedia.org/wiki/Wikipedia:General_disclaimer',\n",
       " 'https://en.wikipedia.org/wiki/Wikipedia:Contact_us',\n",
       " 'https://foundation.wikimedia.org/wiki/Special:MyLanguage/Universal_Code_of_Conduct',\n",
       " 'https://developer.wikimedia.org/',\n",
       " 'https://stats.wikimedia.org/#/en.wikipedia.org',\n",
       " 'https://foundation.wikimedia.org/wiki/Special:MyLanguage/Policy:Cookie_statement',\n",
       " 'https://en.m.wikipedia.org/w/index.php?title=Python&mobileaction=toggle_view_mobile',\n",
       " 'https://en.wikipedia.org/wiki/Python#',\n",
       " 'https://wikimediafoundation.org/',\n",
       " 'https://www.mediawiki.org/']"
      ]
     },
     "execution_count": 116,
     "metadata": {},
     "output_type": "execute_result"
    }
   ],
   "source": [
    "my_links_list= []\n",
    "\n",
    "for e in links:\n",
    "    my_links_list.append(e.get_attribute(\"href\"))\n",
    "\n",
    "my_links_list"
   ]
  },
  {
   "cell_type": "code",
   "execution_count": null,
   "metadata": {},
   "outputs": [],
   "source": []
  },
  {
   "cell_type": "markdown",
   "metadata": {},
   "source": [
    "#### Number of Titles that have changed in the United States Code since its last release point "
   ]
  },
  {
   "cell_type": "code",
   "execution_count": 153,
   "metadata": {},
   "outputs": [],
   "source": [
    "# This is the url you will scrape in this exercise\n",
    "url = 'http://uscode.house.gov/download/download.shtml'\n",
    "\n",
    "driver = webdriver.Chrome()\n",
    "\n",
    "driver.get(url)"
   ]
  },
  {
   "cell_type": "code",
   "execution_count": 158,
   "metadata": {},
   "outputs": [
    {
     "data": {
      "text/plain": [
       "[<selenium.webdriver.remote.webelement.WebElement (session=\"b35f1eb3c9c66a91bd96176791f89eb1\", element=\"8DB511A02DC36495D14A514CF7CBCA22_element_12\")>,\n",
       " <selenium.webdriver.remote.webelement.WebElement (session=\"b35f1eb3c9c66a91bd96176791f89eb1\", element=\"8DB511A02DC36495D14A514CF7CBCA22_element_13\")>]"
      ]
     },
     "execution_count": 158,
     "metadata": {},
     "output_type": "execute_result"
    }
   ],
   "source": [
    "#your code\n",
    "\n",
    "driver.find_elements(By.XPATH,'//div//div[@class=\"usctitlechanged\"]')"
   ]
  },
  {
   "cell_type": "code",
   "execution_count": 159,
   "metadata": {},
   "outputs": [
    {
     "data": {
      "text/plain": [
       "['Title 20 - Education', \"Title 38 - Veterans' Benefits ٭\"]"
      ]
     },
     "execution_count": 159,
     "metadata": {},
     "output_type": "execute_result"
    }
   ],
   "source": [
    "titles = []\n",
    "\n",
    "for e in driver.find_elements(By.XPATH, '//div//div[@class=\"usctitlechanged\"]'):\n",
    "    titles.append(e.text)\n",
    "\n",
    "titles"
   ]
  },
  {
   "cell_type": "markdown",
   "metadata": {},
   "source": [
    "#### A Python list with the top ten FBI's Most Wanted names "
   ]
  },
  {
   "cell_type": "code",
   "execution_count": 176,
   "metadata": {},
   "outputs": [],
   "source": [
    "# This is the url you will scrape in this exercise\n",
    "url = 'https://www.fbi.gov/wanted/topten'\n",
    "driver = webdriver.Chrome()\n",
    "\n",
    "driver.get(url)"
   ]
  },
  {
   "cell_type": "code",
   "execution_count": 177,
   "metadata": {},
   "outputs": [
    {
     "data": {
      "text/plain": [
       "20"
      ]
     },
     "execution_count": 177,
     "metadata": {},
     "output_type": "execute_result"
    }
   ],
   "source": [
    "#your code \n",
    "url = driver.find_element(By.CSS_SELECTOR, '#query-results-0f737222c5054a81a120bce207b0446a').find_elements(By.TAG_NAME, 'a')\n",
    "\n",
    "len(url)\n",
    "\n",
    "#query-results-0f737222c5054a81a120bce207b0446a > ul\n"
   ]
  },
  {
   "cell_type": "code",
   "execution_count": 148,
   "metadata": {},
   "outputs": [
    {
     "name": "stdout",
     "output_type": "stream",
     "text": [
      "\n",
      "ARNOLDO JIMENEZ\n",
      "\n",
      "OMAR ALEXANDER CARDENAS\n",
      "\n",
      "YULAN ADONAY ARCHAGA CARIAS\n",
      "\n",
      "BHADRESHKUMAR CHETANBHAI PATEL\n",
      "\n",
      "DONALD EUGENE FIELDS II\n",
      "\n",
      "RUJA IGNATOVA\n",
      "\n",
      "WILVER VILLEGAS-PALOMINO\n",
      "\n",
      "ALEJANDRO ROSALES CASTILLO\n",
      "\n",
      "ALEXIS FLORES\n",
      "\n",
      "JOSE RODOLFO VILLARREAL-HERNANDEZ\n"
     ]
    }
   ],
   "source": [
    "for f in url:\n",
    "    print (f.text)"
   ]
  },
  {
   "cell_type": "markdown",
   "metadata": {},
   "source": [
    "####  20 latest earthquakes info (date, time, latitude, longitude and region name) by the EMSC as a pandas dataframe"
   ]
  },
  {
   "cell_type": "code",
   "execution_count": 19,
   "metadata": {},
   "outputs": [],
   "source": [
    "# This is the url you will scrape in this exercise   #CONTINUO AL SIGUIENTE \n",
    "url = 'https://www.emsc-csem.org/Earthquake/'\n",
    "\n",
    "driver = webdriver.Chrome()\n",
    "\n",
    "driver.get(url)"
   ]
  },
  {
   "cell_type": "code",
   "execution_count": 20,
   "metadata": {},
   "outputs": [
    {
     "data": {
      "text/plain": [
       "'38.897'"
      ]
     },
     "execution_count": 20,
     "metadata": {},
     "output_type": "execute_result"
    }
   ],
   "source": [
    "#your code\n",
    "\n",
    "tabla = driver.find_element(By.XPATH, '/html/body/div[3]/div[6]/table')\n",
    "terremoto = tabla.find_element(By.TAG_NAME, 'tbody')\n",
    "terremoto\n",
    "EMSC = terremoto.find_elements(By.TAG_NAME, 'tr')\n",
    "EMSC\n",
    "EMSC[0].find_elements(By.TAG_NAME, 'td')[4].text"
   ]
  },
  {
   "cell_type": "code",
   "execution_count": 21,
   "metadata": {},
   "outputs": [
    {
     "data": {
      "text/plain": [
       "[['',\n",
       "  '',\n",
       "  '',\n",
       "  '2023-11-06 15:51:56\\n11 min ago',\n",
       "  '38.897',\n",
       "  '-118.580',\n",
       "  '2',\n",
       "  '',\n",
       "  '2.1',\n",
       "  'NEVADA'],\n",
       " ['',\n",
       "  '',\n",
       "  '',\n",
       "  '2023-11-06 15:50:26\\n13 min ago',\n",
       "  '19.523',\n",
       "  '-156.453',\n",
       "  '15',\n",
       "  '',\n",
       "  '2.8',\n",
       "  'HAWAII REGION, HAWAII'],\n",
       " ['',\n",
       "  '1',\n",
       "  '',\n",
       "  '2023-11-06 15:36:42\\n26 min ago',\n",
       "  '-7.554',\n",
       "  '127.747',\n",
       "  '148',\n",
       "  '',\n",
       "  '5.2',\n",
       "  'KEPULAUAN BARAT DAYA, INDONESIA'],\n",
       " ['',\n",
       "  '',\n",
       "  '',\n",
       "  '2023-11-06 15:18:31\\n45 min ago',\n",
       "  '17.915',\n",
       "  '-66.285',\n",
       "  '13',\n",
       "  '',\n",
       "  '2.1',\n",
       "  'PUERTO RICO REGION'],\n",
       " ['',\n",
       "  '',\n",
       "  '',\n",
       "  '2023-11-06 15:15:23\\n48 min ago',\n",
       "  '-33.060',\n",
       "  '-71.910',\n",
       "  '40',\n",
       "  '',\n",
       "  '2.8',\n",
       "  'OFFSHORE VALPARAISO, CHILE'],\n",
       " ['',\n",
       "  '',\n",
       "  '',\n",
       "  '2023-11-06 14:29:04\\n1 hr 34 min ago',\n",
       "  '18.626',\n",
       "  '-66.888',\n",
       "  '14',\n",
       "  '',\n",
       "  '2.6',\n",
       "  'PUERTO RICO REGION'],\n",
       " ['',\n",
       "  '',\n",
       "  '',\n",
       "  '2023-11-06 14:25:30\\n1 hr 38 min ago',\n",
       "  '45.588',\n",
       "  '13.187',\n",
       "  '12',\n",
       "  '',\n",
       "  '2.4',\n",
       "  'NORTHERN ITALY'],\n",
       " ['',\n",
       "  '1',\n",
       "  '',\n",
       "  '2023-11-06 14:00:16\\n2 hr 03 min ago',\n",
       "  '36.567',\n",
       "  '3.266',\n",
       "  '28',\n",
       "  '',\n",
       "  '3.5',\n",
       "  'NORTHERN ALGERIA'],\n",
       " ['',\n",
       "  '55',\n",
       "  '',\n",
       "  '2023-11-06 13:51:10\\n2 hr 12 min ago',\n",
       "  '-33.034',\n",
       "  '-71.925',\n",
       "  '26',\n",
       "  '',\n",
       "  '5.2',\n",
       "  'OFFSHORE VALPARAISO, CHILE'],\n",
       " ['',\n",
       "  '',\n",
       "  '',\n",
       "  '2023-11-06 13:43:35\\n2 hr 20 min ago',\n",
       "  '-22.860',\n",
       "  '-69.960',\n",
       "  '62',\n",
       "  '',\n",
       "  '3.4',\n",
       "  'ANTOFAGASTA, CHILE'],\n",
       " ['',\n",
       "  '',\n",
       "  '',\n",
       "  '2023-11-06 13:36:31\\n2 hr 27 min ago',\n",
       "  '11.690',\n",
       "  '-86.270',\n",
       "  '115',\n",
       "  '',\n",
       "  '2.8',\n",
       "  'NEAR COAST OF NICARAGUA'],\n",
       " ['',\n",
       "  '',\n",
       "  '',\n",
       "  '2023-11-06 13:13:25\\n2 hr 50 min ago',\n",
       "  '-22.540',\n",
       "  '-68.890',\n",
       "  '118',\n",
       "  '',\n",
       "  '2.9',\n",
       "  'ANTOFAGASTA, CHILE'],\n",
       " ['',\n",
       "  '',\n",
       "  '',\n",
       "  '2023-11-06 13:08:08\\n2 hr 55 min ago',\n",
       "  '-1.340',\n",
       "  '126.344',\n",
       "  '10',\n",
       "  '',\n",
       "  '4.7',\n",
       "  'KEPULAUAN SULA, INDONESIA'],\n",
       " ['',\n",
       "  '',\n",
       "  '',\n",
       "  '2023-11-06 12:55:26\\n3 hr 08 min ago',\n",
       "  '-21.870',\n",
       "  '-68.900',\n",
       "  '122',\n",
       "  '',\n",
       "  '2.5',\n",
       "  'ANTOFAGASTA, CHILE'],\n",
       " ['',\n",
       "  '',\n",
       "  '',\n",
       "  '2023-11-06 12:51:57\\n3 hr 11 min ago',\n",
       "  '36.790',\n",
       "  '-3.018',\n",
       "  '7',\n",
       "  '',\n",
       "  '1.8',\n",
       "  'STRAIT OF GIBRALTAR'],\n",
       " ['',\n",
       "  '',\n",
       "  '',\n",
       "  '2023-11-06 12:50:12\\n3 hr 13 min ago',\n",
       "  '48.027',\n",
       "  '-1.297',\n",
       "  '5',\n",
       "  '',\n",
       "  '2.4',\n",
       "  'FRANCE'],\n",
       " ['',\n",
       "  '',\n",
       "  '',\n",
       "  '2023-11-06 12:47:46\\n3 hr 15 min ago',\n",
       "  '13.760',\n",
       "  '120.530',\n",
       "  '89',\n",
       "  '',\n",
       "  '3.1',\n",
       "  'MINDORO, PHILIPPINES'],\n",
       " ['',\n",
       "  '',\n",
       "  '',\n",
       "  '2023-11-06 12:47:01\\n3 hr 16 min ago',\n",
       "  '15.055',\n",
       "  '-60.474',\n",
       "  '42',\n",
       "  '',\n",
       "  '3.2',\n",
       "  'MARTINIQUE REGION, WINDWARD ISL.'],\n",
       " ['',\n",
       "  '',\n",
       "  '',\n",
       "  '2023-11-06 12:46:34\\n3 hr 17 min ago',\n",
       "  '-23.364',\n",
       "  '170.727',\n",
       "  '10',\n",
       "  '',\n",
       "  '4.6',\n",
       "  'SOUTHEAST OF LOYALTY ISLANDS'],\n",
       " ['',\n",
       "  '',\n",
       "  '',\n",
       "  '2023-11-06 12:43:38\\n3 hr 20 min ago',\n",
       "  '45.895',\n",
       "  '2.750',\n",
       "  '5',\n",
       "  '',\n",
       "  '2.0',\n",
       "  'FRANCE'],\n",
       " ['',\n",
       "  '',\n",
       "  '',\n",
       "  '2023-11-06 12:31:42\\n3 hr 31 min ago',\n",
       "  '-8.510',\n",
       "  '118.380',\n",
       "  '109',\n",
       "  '',\n",
       "  '2.6',\n",
       "  'SUMBAWA REGION, INDONESIA'],\n",
       " ['',\n",
       "  '',\n",
       "  '',\n",
       "  '2023-11-06 12:29:58\\n3 hr 33 min ago',\n",
       "  '46.243',\n",
       "  '6.960',\n",
       "  '3',\n",
       "  '',\n",
       "  '1.3',\n",
       "  'SWITZERLAND'],\n",
       " ['',\n",
       "  '',\n",
       "  '',\n",
       "  '2023-11-06 12:28:35\\n3 hr 35 min ago',\n",
       "  '45.420',\n",
       "  '3.221',\n",
       "  '5',\n",
       "  '',\n",
       "  '2.0',\n",
       "  'FRANCE'],\n",
       " ['',\n",
       "  '',\n",
       "  '',\n",
       "  '2023-11-06 12:28:08\\n3 hr 35 min ago',\n",
       "  '37.834',\n",
       "  '36.348',\n",
       "  '9',\n",
       "  '',\n",
       "  '2.1',\n",
       "  'CENTRAL TURKEY'],\n",
       " ['',\n",
       "  '',\n",
       "  '',\n",
       "  '2023-11-06 12:17:32\\n3 hr 46 min ago',\n",
       "  '54.876',\n",
       "  '-156.269',\n",
       "  '2',\n",
       "  '',\n",
       "  '3.6',\n",
       "  'SOUTH OF ALASKA'],\n",
       " ['',\n",
       "  '',\n",
       "  '',\n",
       "  '2023-11-06 12:09:12\\n3 hr 54 min ago',\n",
       "  '33.011',\n",
       "  '-116.250',\n",
       "  '7',\n",
       "  '',\n",
       "  '2.0',\n",
       "  'SOUTHERN CALIFORNIA'],\n",
       " ['',\n",
       "  '',\n",
       "  '',\n",
       "  '2023-11-06 12:04:23\\n3 hr 59 min ago',\n",
       "  '-1.208',\n",
       "  '-24.122',\n",
       "  '13',\n",
       "  '',\n",
       "  '5.5',\n",
       "  'CENTRAL MID-ATLANTIC RIDGE'],\n",
       " ['',\n",
       "  '',\n",
       "  '',\n",
       "  '2023-11-06 11:50:39\\n4 hr 13 min ago',\n",
       "  '-3.710',\n",
       "  '133.720',\n",
       "  '47',\n",
       "  '',\n",
       "  '3.3',\n",
       "  'PAPUA, INDONESIA'],\n",
       " ['',\n",
       "  '',\n",
       "  '',\n",
       "  '2023-11-06 11:38:09\\n4 hr 25 min ago',\n",
       "  '1.080',\n",
       "  '126.210',\n",
       "  '20',\n",
       "  '',\n",
       "  '3.1',\n",
       "  'MOLUCCA SEA'],\n",
       " ['',\n",
       "  '',\n",
       "  '',\n",
       "  '2023-11-06 11:33:56\\n4 hr 29 min ago',\n",
       "  '19.222',\n",
       "  '-155.372',\n",
       "  '31',\n",
       "  '',\n",
       "  '2.2',\n",
       "  'ISLAND OF HAWAII, HAWAII'],\n",
       " ['',\n",
       "  '',\n",
       "  '',\n",
       "  '2023-11-06 11:30:52\\n4 hr 32 min ago',\n",
       "  '18.075',\n",
       "  '-66.953',\n",
       "  '11',\n",
       "  '',\n",
       "  '2.4',\n",
       "  'PUERTO RICO'],\n",
       " ['',\n",
       "  '',\n",
       "  '',\n",
       "  '2023-11-06 11:28:07\\n4 hr 35 min ago',\n",
       "  '45.740',\n",
       "  '4.515',\n",
       "  '5',\n",
       "  '',\n",
       "  '2.2',\n",
       "  'FRANCE'],\n",
       " ['',\n",
       "  '',\n",
       "  '',\n",
       "  '2023-11-06 11:27:47\\n4 hr 35 min ago',\n",
       "  '48.367',\n",
       "  '-2.567',\n",
       "  '5',\n",
       "  '',\n",
       "  '2.5',\n",
       "  'FRANCE'],\n",
       " ['',\n",
       "  '',\n",
       "  '',\n",
       "  '2023-11-06 11:24:17\\n4 hr 39 min ago',\n",
       "  '46.130',\n",
       "  '4.521',\n",
       "  '5',\n",
       "  '',\n",
       "  '2.2',\n",
       "  'FRANCE'],\n",
       " ['',\n",
       "  '',\n",
       "  '',\n",
       "  '2023-11-06 11:15:10\\n4 hr 48 min ago',\n",
       "  '46.140',\n",
       "  '11.172',\n",
       "  '4',\n",
       "  '',\n",
       "  '1.0',\n",
       "  'NORTHERN ITALY'],\n",
       " ['',\n",
       "  '',\n",
       "  '',\n",
       "  '2023-11-06 11:08:08\\n4 hr 55 min ago',\n",
       "  '36.468',\n",
       "  '36.389',\n",
       "  '5',\n",
       "  '',\n",
       "  '2.0',\n",
       "  'TURKEY-SYRIA BORDER REGION'],\n",
       " ['',\n",
       "  '',\n",
       "  '',\n",
       "  '2023-11-06 11:07:52\\n4 hr 55 min ago',\n",
       "  '48.176',\n",
       "  '-0.240',\n",
       "  '0',\n",
       "  '',\n",
       "  '2.0',\n",
       "  'FRANCE'],\n",
       " ['',\n",
       "  '',\n",
       "  '',\n",
       "  '2023-11-06 10:53:35\\n5 hr 10 min ago',\n",
       "  '12.510',\n",
       "  '-87.820',\n",
       "  '30',\n",
       "  '',\n",
       "  '2.7',\n",
       "  'NEAR COAST OF NICARAGUA'],\n",
       " ['',\n",
       "  '19',\n",
       "  '',\n",
       "  '2023-11-06 10:46:40\\n5 hr 16 min ago',\n",
       "  '28.933',\n",
       "  '82.201',\n",
       "  '10',\n",
       "  '',\n",
       "  '5.3',\n",
       "  'NEPAL'],\n",
       " ['',\n",
       "  '',\n",
       "  '',\n",
       "  '2023-11-06 10:46:29\\n5 hr 17 min ago',\n",
       "  '19.074',\n",
       "  '-155.347',\n",
       "  '33',\n",
       "  '',\n",
       "  '2.0',\n",
       "  'ISLAND OF HAWAII, HAWAII'],\n",
       " ['',\n",
       "  '',\n",
       "  '',\n",
       "  '2023-11-06 10:38:42\\n5 hr 24 min ago',\n",
       "  '38.315',\n",
       "  '37.267',\n",
       "  '1',\n",
       "  '',\n",
       "  '2.2',\n",
       "  'CENTRAL TURKEY'],\n",
       " ['',\n",
       "  '',\n",
       "  '',\n",
       "  '2023-11-06 10:34:46\\n5 hr 28 min ago',\n",
       "  '16.350',\n",
       "  '-98.320',\n",
       "  '11',\n",
       "  '',\n",
       "  '3.6',\n",
       "  'OAXACA, MEXICO'],\n",
       " ['',\n",
       "  '',\n",
       "  '',\n",
       "  '2023-11-06 10:30:37\\n5 hr 33 min ago',\n",
       "  '16.610',\n",
       "  '-98.980',\n",
       "  '11',\n",
       "  '',\n",
       "  '3.7',\n",
       "  'GUERRERO, MEXICO'],\n",
       " ['',\n",
       "  '',\n",
       "  '',\n",
       "  '2023-11-06 10:20:58\\n5 hr 42 min ago',\n",
       "  '16.330',\n",
       "  '-98.600',\n",
       "  '16',\n",
       "  '',\n",
       "  '3.5',\n",
       "  'OFFSHORE GUERRERO, MEXICO'],\n",
       " ['',\n",
       "  '',\n",
       "  '',\n",
       "  '2023-11-06 10:17:19\\n5 hr 46 min ago',\n",
       "  '46.988',\n",
       "  '-0.299',\n",
       "  '5',\n",
       "  '',\n",
       "  '2.4',\n",
       "  'FRANCE'],\n",
       " ['',\n",
       "  '',\n",
       "  '',\n",
       "  '2023-11-06 10:16:55\\n5 hr 46 min ago',\n",
       "  '38.105',\n",
       "  '37.852',\n",
       "  '11',\n",
       "  '',\n",
       "  '2.4',\n",
       "  'CENTRAL TURKEY'],\n",
       " ['',\n",
       "  '',\n",
       "  '',\n",
       "  '2023-11-06 10:14:51\\n5 hr 48 min ago',\n",
       "  '-23.110',\n",
       "  '-68.710',\n",
       "  '89',\n",
       "  '',\n",
       "  '2.6',\n",
       "  'ANTOFAGASTA, CHILE'],\n",
       " ['',\n",
       "  '',\n",
       "  '',\n",
       "  '2023-11-06 10:04:42\\n5 hr 58 min ago',\n",
       "  '18.080',\n",
       "  '-103.360',\n",
       "  '6',\n",
       "  '',\n",
       "  '3.8',\n",
       "  'OFFSHORE MICHOACAN, MEXICO'],\n",
       " ['',\n",
       "  '',\n",
       "  '',\n",
       "  '2023-11-06 10:02:49\\n6 hr 00 min ago',\n",
       "  '18.140',\n",
       "  '-103.430',\n",
       "  '5',\n",
       "  '',\n",
       "  '3.5',\n",
       "  'OFFSHORE MICHOACAN, MEXICO'],\n",
       " ['',\n",
       "  '',\n",
       "  '',\n",
       "  '2023-11-06 10:00:21\\n6 hr 03 min ago',\n",
       "  '37.105',\n",
       "  '-3.822',\n",
       "  '10',\n",
       "  '',\n",
       "  '1.6',\n",
       "  'SPAIN'],\n",
       " ['',\n",
       "  '',\n",
       "  '',\n",
       "  '2023-11-06 09:51:23\\n6 hr 12 min ago',\n",
       "  '41.489',\n",
       "  '46.654',\n",
       "  '5',\n",
       "  '',\n",
       "  '3.3',\n",
       "  'AZERBAIJAN'],\n",
       " ['',\n",
       "  '',\n",
       "  '',\n",
       "  '2023-11-06 09:48:40\\n6 hr 15 min ago',\n",
       "  '-22.250',\n",
       "  '-68.550',\n",
       "  '116',\n",
       "  '',\n",
       "  '2.9',\n",
       "  'ANTOFAGASTA, CHILE'],\n",
       " ['',\n",
       "  '',\n",
       "  '',\n",
       "  '2023-11-06 09:46:18\\n6 hr 17 min ago',\n",
       "  '19.500',\n",
       "  '-103.780',\n",
       "  '98',\n",
       "  '',\n",
       "  '3.3',\n",
       "  'JALISCO, MEXICO'],\n",
       " ['',\n",
       "  '',\n",
       "  '',\n",
       "  '2023-11-06 09:45:54\\n6 hr 17 min ago',\n",
       "  '6.030',\n",
       "  '125.430',\n",
       "  '77',\n",
       "  '',\n",
       "  '4.0',\n",
       "  'MINDANAO, PHILIPPINES'],\n",
       " ['',\n",
       "  '',\n",
       "  '',\n",
       "  '2023-11-06 09:42:11\\n6 hr 21 min ago',\n",
       "  '38.879',\n",
       "  '43.689',\n",
       "  '5',\n",
       "  '',\n",
       "  '2.3',\n",
       "  'EASTERN TURKEY'],\n",
       " ['',\n",
       "  '',\n",
       "  '',\n",
       "  '2023-11-06 09:28:48\\n6 hr 34 min ago',\n",
       "  '36.671',\n",
       "  '-6.152',\n",
       "  '38',\n",
       "  '',\n",
       "  '1.9',\n",
       "  'STRAIT OF GIBRALTAR'],\n",
       " ['',\n",
       "  '',\n",
       "  '',\n",
       "  '2023-11-06 09:21:00\\n6 hr 42 min ago',\n",
       "  '44.279',\n",
       "  '-110.626',\n",
       "  '4',\n",
       "  '',\n",
       "  '2.5',\n",
       "  'YELLOWSTONE NAT. PARK, WYOMING'],\n",
       " ['',\n",
       "  '',\n",
       "  '',\n",
       "  '2023-11-06 09:04:51\\n6 hr 58 min ago',\n",
       "  '46.305',\n",
       "  '13.600',\n",
       "  '12',\n",
       "  '',\n",
       "  '1.0',\n",
       "  'SLOVENIA'],\n",
       " ['',\n",
       "  '',\n",
       "  '',\n",
       "  '2023-11-06 08:59:19\\n7 hr 04 min ago',\n",
       "  '36.981',\n",
       "  '-24.590',\n",
       "  '5',\n",
       "  '',\n",
       "  '2.3',\n",
       "  'AZORES ISLANDS REGION'],\n",
       " ['',\n",
       "  '',\n",
       "  '',\n",
       "  '2023-11-06 08:59:08\\n7 hr 04 min ago',\n",
       "  '45.866',\n",
       "  '6.979',\n",
       "  '3',\n",
       "  '',\n",
       "  '1.6',\n",
       "  'FRANCE'],\n",
       " ['',\n",
       "  '',\n",
       "  '',\n",
       "  '2023-11-06 08:58:34\\n7 hr 05 min ago',\n",
       "  '45.866',\n",
       "  '6.964',\n",
       "  '3',\n",
       "  '',\n",
       "  '0.5',\n",
       "  'FRANCE'],\n",
       " ['',\n",
       "  '',\n",
       "  '',\n",
       "  '2023-11-06 08:53:30\\n7 hr 10 min ago',\n",
       "  '9.804',\n",
       "  '-84.082',\n",
       "  '13',\n",
       "  '',\n",
       "  '3.0',\n",
       "  'COSTA RICA'],\n",
       " ['',\n",
       "  '',\n",
       "  '',\n",
       "  '2023-11-06 08:52:00\\n7 hr 11 min ago',\n",
       "  '15.310',\n",
       "  '-94.440',\n",
       "  '38',\n",
       "  '',\n",
       "  '3.9',\n",
       "  'OFFSHORE CHIAPAS, MEXICO'],\n",
       " ['',\n",
       "  '',\n",
       "  '',\n",
       "  '2023-11-06 08:21:30\\n7 hr 42 min ago',\n",
       "  '8.284',\n",
       "  '-82.874',\n",
       "  '23',\n",
       "  '',\n",
       "  '3.0',\n",
       "  'PANAMA-COSTA RICA BORDER REGION'],\n",
       " ['',\n",
       "  '',\n",
       "  '',\n",
       "  '2023-11-06 08:20:31\\n7 hr 43 min ago',\n",
       "  '-7.660',\n",
       "  '128.750',\n",
       "  '170',\n",
       "  '',\n",
       "  '4.1',\n",
       "  'KEPULAUAN BARAT DAYA, INDONESIA'],\n",
       " ['',\n",
       "  '',\n",
       "  '',\n",
       "  '2023-11-06 08:14:17\\n7 hr 49 min ago',\n",
       "  '-33.380',\n",
       "  '-70.230',\n",
       "  '127',\n",
       "  '',\n",
       "  '2.7',\n",
       "  'REGION METROPOLITANA, CHILE'],\n",
       " ['',\n",
       "  '',\n",
       "  '',\n",
       "  '2023-11-06 07:45:05\\n8 hr 18 min ago',\n",
       "  '-28.760',\n",
       "  '-71.530',\n",
       "  '42',\n",
       "  '',\n",
       "  '2.8',\n",
       "  'OFFSHORE ATACAMA, CHILE'],\n",
       " ['',\n",
       "  '',\n",
       "  '',\n",
       "  '2023-11-06 07:44:26\\n8 hr 19 min ago',\n",
       "  '38.241',\n",
       "  '15.476',\n",
       "  '187',\n",
       "  '',\n",
       "  '2.4',\n",
       "  'SICILY, ITALY'],\n",
       " ['',\n",
       "  '',\n",
       "  '',\n",
       "  '2023-11-06 07:37:43\\n8 hr 25 min ago',\n",
       "  '1.210',\n",
       "  '121.760',\n",
       "  '10',\n",
       "  '',\n",
       "  '2.9',\n",
       "  'MINAHASA, SULAWESI, INDONESIA'],\n",
       " ['',\n",
       "  '',\n",
       "  '',\n",
       "  '2023-11-06 07:35:51\\n8 hr 27 min ago',\n",
       "  '-28.740',\n",
       "  '-71.530',\n",
       "  '45',\n",
       "  '',\n",
       "  '2.9',\n",
       "  'OFFSHORE ATACAMA, CHILE'],\n",
       " ['',\n",
       "  '',\n",
       "  '',\n",
       "  '2023-11-06 07:30:54\\n8 hr 32 min ago',\n",
       "  '18.739',\n",
       "  '-70.330',\n",
       "  '85',\n",
       "  '',\n",
       "  '3.0',\n",
       "  'DOMINICAN REPUBLIC'],\n",
       " ['',\n",
       "  '',\n",
       "  '',\n",
       "  '2023-11-06 07:27:29\\n8 hr 36 min ago',\n",
       "  '34.607',\n",
       "  '33.427',\n",
       "  '5',\n",
       "  '',\n",
       "  '2.2',\n",
       "  'CYPRUS REGION'],\n",
       " ['',\n",
       "  '',\n",
       "  '',\n",
       "  '2023-11-06 07:18:10\\n8 hr 45 min ago',\n",
       "  '12.170',\n",
       "  '-87.870',\n",
       "  '26',\n",
       "  '',\n",
       "  '3.2',\n",
       "  'NEAR COAST OF NICARAGUA'],\n",
       " ['',\n",
       "  '',\n",
       "  '',\n",
       "  '2023-11-06 07:16:34\\n8 hr 47 min ago',\n",
       "  '18.070',\n",
       "  '-103.090',\n",
       "  '10',\n",
       "  '',\n",
       "  '3.7',\n",
       "  'OFFSHORE MICHOACAN, MEXICO'],\n",
       " ['',\n",
       "  '',\n",
       "  '',\n",
       "  '2023-11-06 07:03:04\\n9 hr 00 min ago',\n",
       "  '63.890',\n",
       "  '-22.398',\n",
       "  '7',\n",
       "  '',\n",
       "  '3.3',\n",
       "  'ICELAND REGION'],\n",
       " ['',\n",
       "  '',\n",
       "  '',\n",
       "  '2023-11-06 06:54:57\\n9 hr 08 min ago',\n",
       "  '14.800',\n",
       "  '-94.140',\n",
       "  '16',\n",
       "  '',\n",
       "  '3.8',\n",
       "  'OFF COAST OF CHIAPAS, MEXICO'],\n",
       " ['',\n",
       "  '',\n",
       "  '',\n",
       "  '2023-11-06 06:54:01\\n9 hr 09 min ago',\n",
       "  '-20.070',\n",
       "  '-69.080',\n",
       "  '108',\n",
       "  '',\n",
       "  '2.6',\n",
       "  'TARAPACA, CHILE'],\n",
       " ['',\n",
       "  '',\n",
       "  '',\n",
       "  '2023-11-06 06:53:27\\n9 hr 10 min ago',\n",
       "  '35.840',\n",
       "  '-121.341',\n",
       "  '4',\n",
       "  '',\n",
       "  '2.2',\n",
       "  'CENTRAL CALIFORNIA'],\n",
       " ['',\n",
       "  '',\n",
       "  '',\n",
       "  '2023-11-06 06:49:13\\n9 hr 14 min ago',\n",
       "  '-7.690',\n",
       "  '119.440',\n",
       "  '268',\n",
       "  '',\n",
       "  '4.1',\n",
       "  'FLORES SEA'],\n",
       " ['',\n",
       "  '',\n",
       "  '',\n",
       "  '2023-11-06 06:40:29\\n9 hr 23 min ago',\n",
       "  '46.269',\n",
       "  '12.500',\n",
       "  '10',\n",
       "  '',\n",
       "  '0.7',\n",
       "  'NORTHERN ITALY'],\n",
       " ['',\n",
       "  '',\n",
       "  '',\n",
       "  '2023-11-06 06:29:30\\n9 hr 34 min ago',\n",
       "  '-5.230',\n",
       "  '122.170',\n",
       "  '10',\n",
       "  '',\n",
       "  '3.4',\n",
       "  'SULAWESI, INDONESIA'],\n",
       " ['',\n",
       "  '',\n",
       "  '',\n",
       "  '2023-11-06 06:16:02\\n9 hr 47 min ago',\n",
       "  '45.887',\n",
       "  '6.987',\n",
       "  '6',\n",
       "  '',\n",
       "  '1.5',\n",
       "  'FRANCE'],\n",
       " ['',\n",
       "  '',\n",
       "  '',\n",
       "  '2023-11-06 06:14:16\\n9 hr 49 min ago',\n",
       "  '-8.240',\n",
       "  '118.040',\n",
       "  '13',\n",
       "  '',\n",
       "  '3.0',\n",
       "  'SUMBAWA REGION, INDONESIA'],\n",
       " ['',\n",
       "  '',\n",
       "  '',\n",
       "  '2023-11-06 06:02:48\\n10 hr 00 min ago',\n",
       "  '16.510',\n",
       "  '-94.880',\n",
       "  '91',\n",
       "  '',\n",
       "  '3.5',\n",
       "  'OAXACA, MEXICO'],\n",
       " ['',\n",
       "  '',\n",
       "  '',\n",
       "  '2023-11-06 05:53:20\\n10 hr 10 min ago',\n",
       "  '3.560',\n",
       "  '126.800',\n",
       "  '13',\n",
       "  '',\n",
       "  '3.9',\n",
       "  'KEPULAUAN TALAUD, INDONESIA'],\n",
       " ['',\n",
       "  '',\n",
       "  '',\n",
       "  '2023-11-06 05:50:30\\n10 hr 13 min ago',\n",
       "  '-31.570',\n",
       "  '-68.801',\n",
       "  '107',\n",
       "  '',\n",
       "  '3.0',\n",
       "  'SAN JUAN, ARGENTINA'],\n",
       " ['',\n",
       "  '',\n",
       "  '',\n",
       "  '2023-11-06 05:46:31\\n10 hr 17 min ago',\n",
       "  '-26.167',\n",
       "  '27.819',\n",
       "  '10',\n",
       "  '',\n",
       "  '3.0',\n",
       "  'SOUTH AFRICA'],\n",
       " ['',\n",
       "  '',\n",
       "  '',\n",
       "  '2023-11-06 05:44:40\\n10 hr 19 min ago',\n",
       "  '-34.010',\n",
       "  '57.954',\n",
       "  '10',\n",
       "  '',\n",
       "  '5.1',\n",
       "  'SOUTH INDIAN OCEAN'],\n",
       " ['',\n",
       "  '',\n",
       "  '',\n",
       "  '2023-11-06 05:42:50\\n10 hr 20 min ago',\n",
       "  '38.958',\n",
       "  '75.165',\n",
       "  '10',\n",
       "  '',\n",
       "  '4.7',\n",
       "  'SOUTHERN XINJIANG, CHINA'],\n",
       " ['',\n",
       "  '',\n",
       "  '',\n",
       "  '2023-11-06 05:33:08\\n10 hr 30 min ago',\n",
       "  '-2.420',\n",
       "  '101.840',\n",
       "  '119',\n",
       "  '',\n",
       "  '3.5',\n",
       "  'SOUTHERN SUMATRA, INDONESIA'],\n",
       " ['',\n",
       "  '',\n",
       "  '',\n",
       "  '2023-11-06 05:26:47\\n10 hr 36 min ago',\n",
       "  '46.305',\n",
       "  '13.600',\n",
       "  '8',\n",
       "  '',\n",
       "  '1.0',\n",
       "  'SLOVENIA'],\n",
       " ['',\n",
       "  '',\n",
       "  '',\n",
       "  '2023-11-06 05:26:09\\n10 hr 37 min ago',\n",
       "  '37.991',\n",
       "  '38.070',\n",
       "  '8',\n",
       "  '',\n",
       "  '2.0',\n",
       "  'EASTERN TURKEY'],\n",
       " ['',\n",
       "  '',\n",
       "  '',\n",
       "  '2023-11-06 05:19:58\\n10 hr 43 min ago',\n",
       "  '16.150',\n",
       "  '-97.500',\n",
       "  '32',\n",
       "  '',\n",
       "  '3.4',\n",
       "  'OAXACA, MEXICO'],\n",
       " ['',\n",
       "  '',\n",
       "  '',\n",
       "  '2023-11-06 05:18:38\\n10 hr 45 min ago',\n",
       "  '-4.020',\n",
       "  '-76.750',\n",
       "  '137',\n",
       "  '',\n",
       "  '4.2',\n",
       "  'NORTHERN PERU'],\n",
       " ['',\n",
       "  '',\n",
       "  '',\n",
       "  '2023-11-06 05:15:28\\n10 hr 48 min ago',\n",
       "  '46.305',\n",
       "  '13.600',\n",
       "  '12',\n",
       "  '',\n",
       "  '0.8',\n",
       "  'SLOVENIA'],\n",
       " ['',\n",
       "  '4',\n",
       "  '',\n",
       "  '2023-11-06 05:14:11\\n10 hr 49 min ago',\n",
       "  '40.888',\n",
       "  '31.685',\n",
       "  '5',\n",
       "  '',\n",
       "  '3.1',\n",
       "  'WESTERN TURKEY'],\n",
       " ['',\n",
       "  '',\n",
       "  '',\n",
       "  '2023-11-06 05:11:54\\n10 hr 51 min ago',\n",
       "  '46.323',\n",
       "  '13.595',\n",
       "  '6',\n",
       "  '',\n",
       "  '2.3',\n",
       "  'SLOVENIA'],\n",
       " ['',\n",
       "  '',\n",
       "  '',\n",
       "  '2023-11-06 05:07:05\\n10 hr 56 min ago',\n",
       "  '-5.960',\n",
       "  '103.920',\n",
       "  '10',\n",
       "  '',\n",
       "  '3.4',\n",
       "  'SOUTHERN SUMATRA, INDONESIA'],\n",
       " ['',\n",
       "  '',\n",
       "  '',\n",
       "  '2023-11-06 05:04:43\\n10 hr 58 min ago',\n",
       "  '36.598',\n",
       "  '-3.051',\n",
       "  '0',\n",
       "  '',\n",
       "  '1.5',\n",
       "  'STRAIT OF GIBRALTAR'],\n",
       " ['',\n",
       "  '',\n",
       "  '',\n",
       "  '2023-11-06 05:04:37\\n10 hr 59 min ago',\n",
       "  '-5.810',\n",
       "  '104.100',\n",
       "  '10',\n",
       "  '',\n",
       "  '3.2',\n",
       "  'SOUTHERN SUMATRA, INDONESIA']]"
      ]
     },
     "execution_count": 21,
     "metadata": {},
     "output_type": "execute_result"
    }
   ],
   "source": [
    "matriz = []\n",
    "for f in EMSC:\n",
    "    tmp = []\n",
    "    elems = f.find_elements(By.TAG_NAME, 'td')\n",
    "    for e in elems:\n",
    "        tmp.append(e.text)\n",
    "    matriz.append(tmp)\n",
    "matriz"
   ]
  },
  {
   "cell_type": "code",
   "execution_count": 22,
   "metadata": {},
   "outputs": [
    {
     "data": {
      "text/plain": [
       "10"
      ]
     },
     "execution_count": 22,
     "metadata": {},
     "output_type": "execute_result"
    }
   ],
   "source": [
    "len(matriz[0])"
   ]
  },
  {
   "cell_type": "code",
   "execution_count": 23,
   "metadata": {},
   "outputs": [
    {
     "data": {
      "text/plain": [
       "8"
      ]
     },
     "execution_count": 23,
     "metadata": {},
     "output_type": "execute_result"
    }
   ],
   "source": [
    "cabecera = tabla.find_element(By.TAG_NAME, 'thead')\n",
    "len(cabecera.find_elements(By.TAG_NAME, 'th'))"
   ]
  },
  {
   "cell_type": "code",
   "execution_count": 24,
   "metadata": {},
   "outputs": [
    {
     "data": {
      "text/plain": [
       "['',\n",
       " 'Citizen\\nresponse',\n",
       " 'Date & Time\\nUTC',\n",
       " 'Lat.\\ndegrees',\n",
       " 'Lon.\\ndegrees',\n",
       " 'Depth\\nkm',\n",
       " 'Mag.[+]',\n",
       " 'Region']"
      ]
     },
     "execution_count": 24,
     "metadata": {},
     "output_type": "execute_result"
    }
   ],
   "source": [
    "[e.text for e in cabecera.find_elements(By.TAG_NAME, 'th')]"
   ]
  },
  {
   "cell_type": "code",
   "execution_count": 25,
   "metadata": {},
   "outputs": [],
   "source": [
    "columnas = [i for i in range(10)]\n",
    "df = pd.DataFrame(matriz, columns=columnas)\n",
    "df = df[[3, 4, 5, 6, 8, 9]]"
   ]
  },
  {
   "cell_type": "code",
   "execution_count": 26,
   "metadata": {},
   "outputs": [
    {
     "data": {
      "text/plain": [
       "8"
      ]
     },
     "execution_count": 26,
     "metadata": {},
     "output_type": "execute_result"
    }
   ],
   "source": [
    "n_cols = [e.text for e in cabecera.find_elements(By.TAG_NAME, 'th')]\n",
    "len(n_cols)"
   ]
  },
  {
   "cell_type": "code",
   "execution_count": 27,
   "metadata": {},
   "outputs": [
    {
     "data": {
      "text/plain": [
       "['Date & Time\\nUTC',\n",
       " 'Lat.\\ndegrees',\n",
       " 'Lon.\\ndegrees',\n",
       " 'Depth\\nkm',\n",
       " 'Mag.[+]',\n",
       " 'Region']"
      ]
     },
     "execution_count": 27,
     "metadata": {},
     "output_type": "execute_result"
    }
   ],
   "source": [
    "n_cols[2:]"
   ]
  },
  {
   "cell_type": "code",
   "execution_count": 28,
   "metadata": {},
   "outputs": [
    {
     "data": {
      "text/html": [
       "<div>\n",
       "<style scoped>\n",
       "    .dataframe tbody tr th:only-of-type {\n",
       "        vertical-align: middle;\n",
       "    }\n",
       "\n",
       "    .dataframe tbody tr th {\n",
       "        vertical-align: top;\n",
       "    }\n",
       "\n",
       "    .dataframe thead th {\n",
       "        text-align: right;\n",
       "    }\n",
       "</style>\n",
       "<table border=\"1\" class=\"dataframe\">\n",
       "  <thead>\n",
       "    <tr style=\"text-align: right;\">\n",
       "      <th></th>\n",
       "      <th>3</th>\n",
       "      <th>4</th>\n",
       "      <th>5</th>\n",
       "      <th>6</th>\n",
       "      <th>8</th>\n",
       "      <th>9</th>\n",
       "    </tr>\n",
       "  </thead>\n",
       "  <tbody>\n",
       "    <tr>\n",
       "      <th>0</th>\n",
       "      <td>2023-11-06 15:51:56\\n11 min ago</td>\n",
       "      <td>38.897</td>\n",
       "      <td>-118.580</td>\n",
       "      <td>2</td>\n",
       "      <td>2.1</td>\n",
       "      <td>NEVADA</td>\n",
       "    </tr>\n",
       "    <tr>\n",
       "      <th>1</th>\n",
       "      <td>2023-11-06 15:50:26\\n13 min ago</td>\n",
       "      <td>19.523</td>\n",
       "      <td>-156.453</td>\n",
       "      <td>15</td>\n",
       "      <td>2.8</td>\n",
       "      <td>HAWAII REGION, HAWAII</td>\n",
       "    </tr>\n",
       "    <tr>\n",
       "      <th>2</th>\n",
       "      <td>2023-11-06 15:36:42\\n26 min ago</td>\n",
       "      <td>-7.554</td>\n",
       "      <td>127.747</td>\n",
       "      <td>148</td>\n",
       "      <td>5.2</td>\n",
       "      <td>KEPULAUAN BARAT DAYA, INDONESIA</td>\n",
       "    </tr>\n",
       "    <tr>\n",
       "      <th>3</th>\n",
       "      <td>2023-11-06 15:18:31\\n45 min ago</td>\n",
       "      <td>17.915</td>\n",
       "      <td>-66.285</td>\n",
       "      <td>13</td>\n",
       "      <td>2.1</td>\n",
       "      <td>PUERTO RICO REGION</td>\n",
       "    </tr>\n",
       "    <tr>\n",
       "      <th>4</th>\n",
       "      <td>2023-11-06 15:15:23\\n48 min ago</td>\n",
       "      <td>-33.060</td>\n",
       "      <td>-71.910</td>\n",
       "      <td>40</td>\n",
       "      <td>2.8</td>\n",
       "      <td>OFFSHORE VALPARAISO, CHILE</td>\n",
       "    </tr>\n",
       "  </tbody>\n",
       "</table>\n",
       "</div>"
      ],
      "text/plain": [
       "                                 3        4         5    6    8  \\\n",
       "0  2023-11-06 15:51:56\\n11 min ago   38.897  -118.580    2  2.1   \n",
       "1  2023-11-06 15:50:26\\n13 min ago   19.523  -156.453   15  2.8   \n",
       "2  2023-11-06 15:36:42\\n26 min ago   -7.554   127.747  148  5.2   \n",
       "3  2023-11-06 15:18:31\\n45 min ago   17.915   -66.285   13  2.1   \n",
       "4  2023-11-06 15:15:23\\n48 min ago  -33.060   -71.910   40  2.8   \n",
       "\n",
       "                                 9  \n",
       "0                           NEVADA  \n",
       "1            HAWAII REGION, HAWAII  \n",
       "2  KEPULAUAN BARAT DAYA, INDONESIA  \n",
       "3               PUERTO RICO REGION  \n",
       "4       OFFSHORE VALPARAISO, CHILE  "
      ]
     },
     "execution_count": 28,
     "metadata": {},
     "output_type": "execute_result"
    }
   ],
   "source": [
    "df.head()"
   ]
  },
  {
   "cell_type": "code",
   "execution_count": 29,
   "metadata": {},
   "outputs": [
    {
     "data": {
      "text/html": [
       "<div>\n",
       "<style scoped>\n",
       "    .dataframe tbody tr th:only-of-type {\n",
       "        vertical-align: middle;\n",
       "    }\n",
       "\n",
       "    .dataframe tbody tr th {\n",
       "        vertical-align: top;\n",
       "    }\n",
       "\n",
       "    .dataframe thead th {\n",
       "        text-align: right;\n",
       "    }\n",
       "</style>\n",
       "<table border=\"1\" class=\"dataframe\">\n",
       "  <thead>\n",
       "    <tr style=\"text-align: right;\">\n",
       "      <th></th>\n",
       "      <th>Date &amp; Time\\nUTC</th>\n",
       "      <th>Lat.\\ndegrees</th>\n",
       "      <th>Lon.\\ndegrees</th>\n",
       "      <th>Depth\\nkm</th>\n",
       "      <th>Mag.[+]</th>\n",
       "      <th>Region</th>\n",
       "    </tr>\n",
       "  </thead>\n",
       "  <tbody>\n",
       "    <tr>\n",
       "      <th>0</th>\n",
       "      <td>2023-11-06 15:51:56\\n11 min ago</td>\n",
       "      <td>38.897</td>\n",
       "      <td>-118.580</td>\n",
       "      <td>2</td>\n",
       "      <td>2.1</td>\n",
       "      <td>NEVADA</td>\n",
       "    </tr>\n",
       "    <tr>\n",
       "      <th>1</th>\n",
       "      <td>2023-11-06 15:50:26\\n13 min ago</td>\n",
       "      <td>19.523</td>\n",
       "      <td>-156.453</td>\n",
       "      <td>15</td>\n",
       "      <td>2.8</td>\n",
       "      <td>HAWAII REGION, HAWAII</td>\n",
       "    </tr>\n",
       "    <tr>\n",
       "      <th>2</th>\n",
       "      <td>2023-11-06 15:36:42\\n26 min ago</td>\n",
       "      <td>-7.554</td>\n",
       "      <td>127.747</td>\n",
       "      <td>148</td>\n",
       "      <td>5.2</td>\n",
       "      <td>KEPULAUAN BARAT DAYA, INDONESIA</td>\n",
       "    </tr>\n",
       "    <tr>\n",
       "      <th>3</th>\n",
       "      <td>2023-11-06 15:18:31\\n45 min ago</td>\n",
       "      <td>17.915</td>\n",
       "      <td>-66.285</td>\n",
       "      <td>13</td>\n",
       "      <td>2.1</td>\n",
       "      <td>PUERTO RICO REGION</td>\n",
       "    </tr>\n",
       "    <tr>\n",
       "      <th>4</th>\n",
       "      <td>2023-11-06 15:15:23\\n48 min ago</td>\n",
       "      <td>-33.060</td>\n",
       "      <td>-71.910</td>\n",
       "      <td>40</td>\n",
       "      <td>2.8</td>\n",
       "      <td>OFFSHORE VALPARAISO, CHILE</td>\n",
       "    </tr>\n",
       "  </tbody>\n",
       "</table>\n",
       "</div>"
      ],
      "text/plain": [
       "                  Date & Time\\nUTC Lat.\\ndegrees Lon.\\ndegrees Depth\\nkm  \\\n",
       "0  2023-11-06 15:51:56\\n11 min ago        38.897      -118.580         2   \n",
       "1  2023-11-06 15:50:26\\n13 min ago        19.523      -156.453        15   \n",
       "2  2023-11-06 15:36:42\\n26 min ago        -7.554       127.747       148   \n",
       "3  2023-11-06 15:18:31\\n45 min ago        17.915       -66.285        13   \n",
       "4  2023-11-06 15:15:23\\n48 min ago       -33.060       -71.910        40   \n",
       "\n",
       "  Mag.[+]                           Region  \n",
       "0     2.1                           NEVADA  \n",
       "1     2.8            HAWAII REGION, HAWAII  \n",
       "2     5.2  KEPULAUAN BARAT DAYA, INDONESIA  \n",
       "3     2.1               PUERTO RICO REGION  \n",
       "4     2.8       OFFSHORE VALPARAISO, CHILE  "
      ]
     },
     "execution_count": 29,
     "metadata": {},
     "output_type": "execute_result"
    }
   ],
   "source": [
    "df.columns = n_cols[2:]\n",
    "df.head()"
   ]
  },
  {
   "cell_type": "code",
   "execution_count": null,
   "metadata": {},
   "outputs": [],
   "source": []
  },
  {
   "cell_type": "markdown",
   "metadata": {},
   "source": [
    "#### Count number of tweets by a given Twitter account."
   ]
  },
  {
   "cell_type": "markdown",
   "metadata": {},
   "source": [
    "You will need to include a ***try/except block*** for account names not found. \n",
    "<br>***Hint:*** the program should count the number of tweets for any provided account"
   ]
  },
  {
   "cell_type": "code",
   "execution_count": 164,
   "metadata": {},
   "outputs": [],
   "source": [
    "# This is the url you will scrape in this exercise \n",
    "# You will need to add the account credentials to this url\n",
    "url = 'https://twitter.com/elonmusk'\n",
    "driver = webdriver.Chrome()\n",
    "\n",
    "driver.get(url)"
   ]
  },
  {
   "cell_type": "code",
   "execution_count": 167,
   "metadata": {},
   "outputs": [
    {
     "data": {
      "text/plain": [
       "[<selenium.webdriver.remote.webelement.WebElement (session=\"57c447f7ddf8edc68c0cdde5ab8fb7c2\", element=\"5B8835ACC7CA4B32340F161B7C2AEFAA_element_1051\")>]"
      ]
     },
     "execution_count": 167,
     "metadata": {},
     "output_type": "execute_result"
    }
   ],
   "source": [
    "#your code\n",
    "driver.find_elements(By.XPATH,'//*[@id=\"react-root\"]/div/div/div[2]/main/div/div/div/div/div/div[1]/div[1]/div/div/div/div/div/div[2]/div/div')"
   ]
  },
  {
   "cell_type": "code",
   "execution_count": 170,
   "metadata": {},
   "outputs": [],
   "source": [
    "twits = driver.find_elements(By.XPATH,'//*[@id=\"react-root\"]/div/div/div[2]/main/div/div/div/div/div/div[1]/div[1]/div/div/div/div/div/div[2]/div/div')"
   ]
  },
  {
   "cell_type": "code",
   "execution_count": 171,
   "metadata": {},
   "outputs": [
    {
     "name": "stdout",
     "output_type": "stream",
     "text": [
      "32,7 mil posts\n"
     ]
    }
   ],
   "source": [
    "for i in twits:\n",
    "    print (i.text)"
   ]
  },
  {
   "cell_type": "markdown",
   "metadata": {},
   "source": [
    "#### Number of followers of a given twitter account"
   ]
  },
  {
   "cell_type": "markdown",
   "metadata": {},
   "source": [
    "You will need to include a ***try/except block*** in case account/s name not found. \n",
    "<br>***Hint:*** the program should count the followers for any provided account"
   ]
  },
  {
   "cell_type": "code",
   "execution_count": null,
   "metadata": {},
   "outputs": [],
   "source": [
    "# This is the url you will scrape in this exercise \n",
    "# You will need to add the account credentials to this url\n",
    "url = 'https://twitter.com/elonmusk'"
   ]
  },
  {
   "cell_type": "code",
   "execution_count": 173,
   "metadata": {},
   "outputs": [],
   "source": [
    "#your code\n",
    "\n",
    "followers = driver.find_elements(By.XPATH,'//*[@id=\"react-root\"]/div/div/div[2]/main/div/div/div/div/div/div[3]/div/div/div/div/div[4]/div[2]/a/span[1]/span')"
   ]
  },
  {
   "cell_type": "code",
   "execution_count": 175,
   "metadata": {},
   "outputs": [
    {
     "name": "stdout",
     "output_type": "stream",
     "text": [
      "161,8 M\n"
     ]
    }
   ],
   "source": [
    "for i in followers:\n",
    "    print (i.text)"
   ]
  },
  {
   "cell_type": "markdown",
   "metadata": {},
   "source": [
    "#### List all language names and number of related articles in the order they appear in wikipedia.org"
   ]
  },
  {
   "cell_type": "code",
   "execution_count": 178,
   "metadata": {},
   "outputs": [],
   "source": [
    "# This is the url you will scrape in this exercise\n",
    "url = 'https://www.wikipedia.org/'\n",
    "driver = webdriver.Chrome()\n",
    "\n",
    "driver.get(url)"
   ]
  },
  {
   "cell_type": "code",
   "execution_count": 179,
   "metadata": {},
   "outputs": [
    {
     "name": "stdout",
     "output_type": "stream",
     "text": [
      "Español\n",
      "1 892 000+ artículos\n",
      "English\n",
      "6 715 000+ articles\n",
      "日本語\n",
      "1 387 000+ 記事\n",
      "Русский\n",
      "1 938 000+ статей\n",
      "Deutsch\n",
      "2 836 000+ Artikel\n",
      "Français\n",
      "2 553 000+ articles\n",
      "Italiano\n",
      "1 826 000+ voci\n",
      "中文\n",
      "1 377 000+ 条目 / 條目\n",
      "Português\n",
      "1 109 000+ artigos\n",
      "العربية\n",
      "1 217 000+ مقالة\n"
     ]
    }
   ],
   "source": [
    "#your code\n",
    "url = driver.find_element(By.CSS_SELECTOR, '#www-wikipedia-org > div.central-featured').find_elements(By.TAG_NAME, 'a')\n",
    "\n",
    "\n",
    "for f in url:\n",
    "    print (f.text)"
   ]
  },
  {
   "cell_type": "markdown",
   "metadata": {},
   "source": [
    "#### A list with the different kind of datasets available in data.gov.uk "
   ]
  },
  {
   "cell_type": "code",
   "execution_count": 180,
   "metadata": {},
   "outputs": [],
   "source": [
    "# This is the url you will scrape in this exercise\n",
    "url = 'https://data.gov.uk/'\n",
    "driver = webdriver.Chrome()\n",
    "\n",
    "driver.get(url)"
   ]
  },
  {
   "cell_type": "code",
   "execution_count": 182,
   "metadata": {},
   "outputs": [
    {
     "name": "stdout",
     "output_type": "stream",
     "text": [
      "Business and economy\n",
      "Crime and justice\n",
      "Defence\n",
      "Education\n",
      "Environment\n",
      "Government\n",
      "Government spending\n",
      "Health\n",
      "Mapping\n",
      "Society\n",
      "Towns and cities\n",
      "Transport\n",
      "Digital service performance\n",
      "Government reference data\n"
     ]
    }
   ],
   "source": [
    "#your code \n",
    "url = driver.find_element(By.CSS_SELECTOR, '#main-content > div:nth-child(3) > div > ul').find_elements(By.TAG_NAME, 'a')\n",
    "\n",
    "for f in url:\n",
    "    print (f.text)"
   ]
  },
  {
   "cell_type": "markdown",
   "metadata": {},
   "source": [
    "#### Top 10 languages by number of native speakers stored in a Pandas Dataframe"
   ]
  },
  {
   "cell_type": "code",
   "execution_count": 49,
   "metadata": {},
   "outputs": [],
   "source": [
    "# This is the url you will scrape in this exercise\n",
    "url = 'https://en.wikipedia.org/wiki/List_of_languages_by_number_of_native_speakers'\n",
    "driver = webdriver.Chrome()\n",
    "\n",
    "driver.get(url)"
   ]
  },
  {
   "cell_type": "code",
   "execution_count": 50,
   "metadata": {},
   "outputs": [
    {
     "data": {
      "text/plain": [
       "<selenium.webdriver.remote.webelement.WebElement (session=\"7d816eb083ed87cb7010e70c97f495ef\", element=\"2A5CC046843606F7387994FB0688D815_element_497\")>"
      ]
     },
     "execution_count": 50,
     "metadata": {},
     "output_type": "execute_result"
    }
   ],
   "source": [
    "#your code PEDIR AYUDA\n",
    "\n",
    "tablas = driver.find_element(By.CSS_SELECTOR, '#mw-content-text > div.mw-parser-output > table.wikitable.sortable.static-row-numbers.jquery-tablesorter')\n",
    "tablas"
   ]
  },
  {
   "cell_type": "code",
   "execution_count": 51,
   "metadata": {},
   "outputs": [
    {
     "data": {
      "text/plain": [
       "'Languages with at least 50 million first-language speakers[7]\\nLanguage Native speakers\\n(millions) Language family Branch\\nMandarin Chinese\\n(incl. Standard Chinese, but excl. other varieties) 939 Sino-Tibetan Sinitic\\nSpanish 485 Indo-European Romance\\nEnglish 380 Indo-European Germanic\\nHindi\\n(excl. Urdu, and other languages) 345 Indo-European Indo-Aryan\\nPortuguese 236 Indo-European Romance\\nBengali 234 Indo-European Indo-Aryan\\nRussian 147 Indo-European Balto-Slavic\\nJapanese 123 Japonic Japanese\\nYue Chinese\\n(incl. Cantonese) 86.1 Sino-Tibetan Sinitic\\nVietnamese 85.0 Austroasiatic Vietic\\nTurkish 84.0 Turkic Oghuz\\nWu Chinese\\n(incl. Shanghainese) 83.4 Sino-Tibetan Sinitic\\nMarathi 83.2 Indo-European Indo-Aryan\\nTelugu 83.0 Dravidian South-Central\\nKorean 81.7 Koreanic —\\nFrench 80.8 Indo-European Romance\\nTamil 78.6 Dravidian South\\nEgyptian Spoken Arabic\\n(excl. Saʽidi Arabic) 77.4 Afroasiatic Semitic\\nStandard German 75.3 Indo-European Germanic\\nUrdu\\n(excl. Hindi) 70.6 Indo-European Indo-Aryan\\nJavanese 68.3 Austronesian Malayo-Polynesian\\nWestern Punjabi\\n(excl. Eastern Punjabi) 66.7 Indo-European Indo-Aryan\\nItalian 64.6 Indo-European Romance\\nGujarati 57.1 Indo-European Indo-Aryan\\nIranian Persian\\n(excl. Dari and Tajik) 57.2 Indo-European Iranian\\nBhojpuri 52.3 Indo-European Indo-Aryan\\nHausa 51.7 Afroasiatic Chadic'"
      ]
     },
     "execution_count": 51,
     "metadata": {},
     "output_type": "execute_result"
    }
   ],
   "source": [
    "tablas.text"
   ]
  },
  {
   "cell_type": "code",
   "execution_count": 52,
   "metadata": {},
   "outputs": [
    {
     "data": {
      "text/plain": [
       "'Sino-Tibetan'"
      ]
     },
     "execution_count": 52,
     "metadata": {},
     "output_type": "execute_result"
    }
   ],
   "source": [
    "cuerpo = tablas.find_element(By.TAG_NAME, 'tbody')\n",
    "filas = cuerpo.find_elements(By.TAG_NAME, 'tr')\n",
    "filas[0].find_elements(By.TAG_NAME, 'td')[2].text"
   ]
  },
  {
   "cell_type": "code",
   "execution_count": 53,
   "metadata": {},
   "outputs": [],
   "source": [
    "matriz = []\n",
    "for f in filas:\n",
    "    tmp = []\n",
    "    elems = f.find_elements(By.TAG_NAME, 'td')  # esto es una lista\n",
    "    for e in elems:\n",
    "        tmp.append(e.text)\n",
    "    matriz.append(tmp)"
   ]
  },
  {
   "cell_type": "code",
   "execution_count": 54,
   "metadata": {},
   "outputs": [
    {
     "data": {
      "text/html": [
       "<div>\n",
       "<style scoped>\n",
       "    .dataframe tbody tr th:only-of-type {\n",
       "        vertical-align: middle;\n",
       "    }\n",
       "\n",
       "    .dataframe tbody tr th {\n",
       "        vertical-align: top;\n",
       "    }\n",
       "\n",
       "    .dataframe thead th {\n",
       "        text-align: right;\n",
       "    }\n",
       "</style>\n",
       "<table border=\"1\" class=\"dataframe\">\n",
       "  <thead>\n",
       "    <tr style=\"text-align: right;\">\n",
       "      <th></th>\n",
       "      <th>0</th>\n",
       "      <th>1</th>\n",
       "      <th>2</th>\n",
       "      <th>3</th>\n",
       "    </tr>\n",
       "  </thead>\n",
       "  <tbody>\n",
       "    <tr>\n",
       "      <th>0</th>\n",
       "      <td>Mandarin Chinese\\n(incl. Standard Chinese, but...</td>\n",
       "      <td>939</td>\n",
       "      <td>Sino-Tibetan</td>\n",
       "      <td>Sinitic</td>\n",
       "    </tr>\n",
       "    <tr>\n",
       "      <th>1</th>\n",
       "      <td>Spanish</td>\n",
       "      <td>485</td>\n",
       "      <td>Indo-European</td>\n",
       "      <td>Romance</td>\n",
       "    </tr>\n",
       "    <tr>\n",
       "      <th>2</th>\n",
       "      <td>English</td>\n",
       "      <td>380</td>\n",
       "      <td>Indo-European</td>\n",
       "      <td>Germanic</td>\n",
       "    </tr>\n",
       "    <tr>\n",
       "      <th>3</th>\n",
       "      <td>Hindi\\n(excl. Urdu, and other languages)</td>\n",
       "      <td>345</td>\n",
       "      <td>Indo-European</td>\n",
       "      <td>Indo-Aryan</td>\n",
       "    </tr>\n",
       "    <tr>\n",
       "      <th>4</th>\n",
       "      <td>Portuguese</td>\n",
       "      <td>236</td>\n",
       "      <td>Indo-European</td>\n",
       "      <td>Romance</td>\n",
       "    </tr>\n",
       "    <tr>\n",
       "      <th>5</th>\n",
       "      <td>Bengali</td>\n",
       "      <td>234</td>\n",
       "      <td>Indo-European</td>\n",
       "      <td>Indo-Aryan</td>\n",
       "    </tr>\n",
       "    <tr>\n",
       "      <th>6</th>\n",
       "      <td>Russian</td>\n",
       "      <td>147</td>\n",
       "      <td>Indo-European</td>\n",
       "      <td>Balto-Slavic</td>\n",
       "    </tr>\n",
       "    <tr>\n",
       "      <th>7</th>\n",
       "      <td>Japanese</td>\n",
       "      <td>123</td>\n",
       "      <td>Japonic</td>\n",
       "      <td>Japanese</td>\n",
       "    </tr>\n",
       "    <tr>\n",
       "      <th>8</th>\n",
       "      <td>Yue Chinese\\n(incl. Cantonese)</td>\n",
       "      <td>86.1</td>\n",
       "      <td>Sino-Tibetan</td>\n",
       "      <td>Sinitic</td>\n",
       "    </tr>\n",
       "    <tr>\n",
       "      <th>9</th>\n",
       "      <td>Vietnamese</td>\n",
       "      <td>85.0</td>\n",
       "      <td>Austroasiatic</td>\n",
       "      <td>Vietic</td>\n",
       "    </tr>\n",
       "    <tr>\n",
       "      <th>10</th>\n",
       "      <td>Turkish</td>\n",
       "      <td>84.0</td>\n",
       "      <td>Turkic</td>\n",
       "      <td>Oghuz</td>\n",
       "    </tr>\n",
       "    <tr>\n",
       "      <th>11</th>\n",
       "      <td>Wu Chinese\\n(incl. Shanghainese)</td>\n",
       "      <td>83.4</td>\n",
       "      <td>Sino-Tibetan</td>\n",
       "      <td>Sinitic</td>\n",
       "    </tr>\n",
       "    <tr>\n",
       "      <th>12</th>\n",
       "      <td>Marathi</td>\n",
       "      <td>83.2</td>\n",
       "      <td>Indo-European</td>\n",
       "      <td>Indo-Aryan</td>\n",
       "    </tr>\n",
       "    <tr>\n",
       "      <th>13</th>\n",
       "      <td>Telugu</td>\n",
       "      <td>83.0</td>\n",
       "      <td>Dravidian</td>\n",
       "      <td>South-Central</td>\n",
       "    </tr>\n",
       "    <tr>\n",
       "      <th>14</th>\n",
       "      <td>Korean</td>\n",
       "      <td>81.7</td>\n",
       "      <td>Koreanic</td>\n",
       "      <td>—</td>\n",
       "    </tr>\n",
       "    <tr>\n",
       "      <th>15</th>\n",
       "      <td>French</td>\n",
       "      <td>80.8</td>\n",
       "      <td>Indo-European</td>\n",
       "      <td>Romance</td>\n",
       "    </tr>\n",
       "    <tr>\n",
       "      <th>16</th>\n",
       "      <td>Tamil</td>\n",
       "      <td>78.6</td>\n",
       "      <td>Dravidian</td>\n",
       "      <td>South</td>\n",
       "    </tr>\n",
       "    <tr>\n",
       "      <th>17</th>\n",
       "      <td>Egyptian Spoken Arabic\\n(excl. Saʽidi Arabic)</td>\n",
       "      <td>77.4</td>\n",
       "      <td>Afroasiatic</td>\n",
       "      <td>Semitic</td>\n",
       "    </tr>\n",
       "    <tr>\n",
       "      <th>18</th>\n",
       "      <td>Standard German</td>\n",
       "      <td>75.3</td>\n",
       "      <td>Indo-European</td>\n",
       "      <td>Germanic</td>\n",
       "    </tr>\n",
       "    <tr>\n",
       "      <th>19</th>\n",
       "      <td>Urdu\\n(excl. Hindi)</td>\n",
       "      <td>70.6</td>\n",
       "      <td>Indo-European</td>\n",
       "      <td>Indo-Aryan</td>\n",
       "    </tr>\n",
       "    <tr>\n",
       "      <th>20</th>\n",
       "      <td>Javanese</td>\n",
       "      <td>68.3</td>\n",
       "      <td>Austronesian</td>\n",
       "      <td>Malayo-Polynesian</td>\n",
       "    </tr>\n",
       "    <tr>\n",
       "      <th>21</th>\n",
       "      <td>Western Punjabi\\n(excl. Eastern Punjabi)</td>\n",
       "      <td>66.7</td>\n",
       "      <td>Indo-European</td>\n",
       "      <td>Indo-Aryan</td>\n",
       "    </tr>\n",
       "    <tr>\n",
       "      <th>22</th>\n",
       "      <td>Italian</td>\n",
       "      <td>64.6</td>\n",
       "      <td>Indo-European</td>\n",
       "      <td>Romance</td>\n",
       "    </tr>\n",
       "    <tr>\n",
       "      <th>23</th>\n",
       "      <td>Gujarati</td>\n",
       "      <td>57.1</td>\n",
       "      <td>Indo-European</td>\n",
       "      <td>Indo-Aryan</td>\n",
       "    </tr>\n",
       "    <tr>\n",
       "      <th>24</th>\n",
       "      <td>Iranian Persian\\n(excl. Dari and Tajik)</td>\n",
       "      <td>57.2</td>\n",
       "      <td>Indo-European</td>\n",
       "      <td>Iranian</td>\n",
       "    </tr>\n",
       "    <tr>\n",
       "      <th>25</th>\n",
       "      <td>Bhojpuri</td>\n",
       "      <td>52.3</td>\n",
       "      <td>Indo-European</td>\n",
       "      <td>Indo-Aryan</td>\n",
       "    </tr>\n",
       "    <tr>\n",
       "      <th>26</th>\n",
       "      <td>Hausa</td>\n",
       "      <td>51.7</td>\n",
       "      <td>Afroasiatic</td>\n",
       "      <td>Chadic</td>\n",
       "    </tr>\n",
       "  </tbody>\n",
       "</table>\n",
       "</div>"
      ],
      "text/plain": [
       "                                                    0     1              2  \\\n",
       "0   Mandarin Chinese\\n(incl. Standard Chinese, but...   939   Sino-Tibetan   \n",
       "1                                             Spanish   485  Indo-European   \n",
       "2                                             English   380  Indo-European   \n",
       "3            Hindi\\n(excl. Urdu, and other languages)   345  Indo-European   \n",
       "4                                          Portuguese   236  Indo-European   \n",
       "5                                             Bengali   234  Indo-European   \n",
       "6                                             Russian   147  Indo-European   \n",
       "7                                            Japanese   123        Japonic   \n",
       "8                      Yue Chinese\\n(incl. Cantonese)  86.1   Sino-Tibetan   \n",
       "9                                          Vietnamese  85.0  Austroasiatic   \n",
       "10                                            Turkish  84.0         Turkic   \n",
       "11                   Wu Chinese\\n(incl. Shanghainese)  83.4   Sino-Tibetan   \n",
       "12                                            Marathi  83.2  Indo-European   \n",
       "13                                             Telugu  83.0      Dravidian   \n",
       "14                                             Korean  81.7       Koreanic   \n",
       "15                                             French  80.8  Indo-European   \n",
       "16                                              Tamil  78.6      Dravidian   \n",
       "17      Egyptian Spoken Arabic\\n(excl. Saʽidi Arabic)  77.4    Afroasiatic   \n",
       "18                                    Standard German  75.3  Indo-European   \n",
       "19                                Urdu\\n(excl. Hindi)  70.6  Indo-European   \n",
       "20                                           Javanese  68.3   Austronesian   \n",
       "21           Western Punjabi\\n(excl. Eastern Punjabi)  66.7  Indo-European   \n",
       "22                                            Italian  64.6  Indo-European   \n",
       "23                                           Gujarati  57.1  Indo-European   \n",
       "24            Iranian Persian\\n(excl. Dari and Tajik)  57.2  Indo-European   \n",
       "25                                           Bhojpuri  52.3  Indo-European   \n",
       "26                                              Hausa  51.7    Afroasiatic   \n",
       "\n",
       "                    3  \n",
       "0             Sinitic  \n",
       "1             Romance  \n",
       "2            Germanic  \n",
       "3          Indo-Aryan  \n",
       "4             Romance  \n",
       "5          Indo-Aryan  \n",
       "6        Balto-Slavic  \n",
       "7            Japanese  \n",
       "8             Sinitic  \n",
       "9              Vietic  \n",
       "10              Oghuz  \n",
       "11            Sinitic  \n",
       "12         Indo-Aryan  \n",
       "13      South-Central  \n",
       "14                  —  \n",
       "15            Romance  \n",
       "16              South  \n",
       "17            Semitic  \n",
       "18           Germanic  \n",
       "19         Indo-Aryan  \n",
       "20  Malayo-Polynesian  \n",
       "21         Indo-Aryan  \n",
       "22            Romance  \n",
       "23         Indo-Aryan  \n",
       "24            Iranian  \n",
       "25         Indo-Aryan  \n",
       "26             Chadic  "
      ]
     },
     "execution_count": 54,
     "metadata": {},
     "output_type": "execute_result"
    }
   ],
   "source": [
    "df = pd.DataFrame(matriz)\n",
    "df"
   ]
  },
  {
   "cell_type": "code",
   "execution_count": 55,
   "metadata": {},
   "outputs": [
    {
     "data": {
      "text/plain": [
       "'Mandarin Chinese\\n(incl. Standard Chinese, but excl. other varieties)'"
      ]
     },
     "execution_count": 55,
     "metadata": {},
     "output_type": "execute_result"
    }
   ],
   "source": [
    "matriz[0][0]"
   ]
  },
  {
   "cell_type": "code",
   "execution_count": 56,
   "metadata": {},
   "outputs": [
    {
     "data": {
      "text/html": [
       "<div>\n",
       "<style scoped>\n",
       "    .dataframe tbody tr th:only-of-type {\n",
       "        vertical-align: middle;\n",
       "    }\n",
       "\n",
       "    .dataframe tbody tr th {\n",
       "        vertical-align: top;\n",
       "    }\n",
       "\n",
       "    .dataframe thead th {\n",
       "        text-align: right;\n",
       "    }\n",
       "</style>\n",
       "<table border=\"1\" class=\"dataframe\">\n",
       "  <thead>\n",
       "    <tr style=\"text-align: right;\">\n",
       "      <th></th>\n",
       "      <th>0</th>\n",
       "      <th>1</th>\n",
       "      <th>2</th>\n",
       "      <th>3</th>\n",
       "    </tr>\n",
       "  </thead>\n",
       "  <tbody>\n",
       "    <tr>\n",
       "      <th>0</th>\n",
       "      <td>Mandarin Chinese</td>\n",
       "      <td>939</td>\n",
       "      <td>Sino-Tibetan</td>\n",
       "      <td>Sinitic</td>\n",
       "    </tr>\n",
       "    <tr>\n",
       "      <th>1</th>\n",
       "      <td>Spanish</td>\n",
       "      <td>485</td>\n",
       "      <td>Indo-European</td>\n",
       "      <td>Romance</td>\n",
       "    </tr>\n",
       "    <tr>\n",
       "      <th>2</th>\n",
       "      <td>English</td>\n",
       "      <td>380</td>\n",
       "      <td>Indo-European</td>\n",
       "      <td>Germanic</td>\n",
       "    </tr>\n",
       "    <tr>\n",
       "      <th>3</th>\n",
       "      <td>Hindi</td>\n",
       "      <td>345</td>\n",
       "      <td>Indo-European</td>\n",
       "      <td>Indo-Aryan</td>\n",
       "    </tr>\n",
       "    <tr>\n",
       "      <th>4</th>\n",
       "      <td>Portuguese</td>\n",
       "      <td>236</td>\n",
       "      <td>Indo-European</td>\n",
       "      <td>Romance</td>\n",
       "    </tr>\n",
       "    <tr>\n",
       "      <th>5</th>\n",
       "      <td>Bengali</td>\n",
       "      <td>234</td>\n",
       "      <td>Indo-European</td>\n",
       "      <td>Indo-Aryan</td>\n",
       "    </tr>\n",
       "    <tr>\n",
       "      <th>6</th>\n",
       "      <td>Russian</td>\n",
       "      <td>147</td>\n",
       "      <td>Indo-European</td>\n",
       "      <td>Balto-Slavic</td>\n",
       "    </tr>\n",
       "    <tr>\n",
       "      <th>7</th>\n",
       "      <td>Japanese</td>\n",
       "      <td>123</td>\n",
       "      <td>Japonic</td>\n",
       "      <td>Japanese</td>\n",
       "    </tr>\n",
       "    <tr>\n",
       "      <th>8</th>\n",
       "      <td>Yue Chinese</td>\n",
       "      <td>86.1</td>\n",
       "      <td>Sino-Tibetan</td>\n",
       "      <td>Sinitic</td>\n",
       "    </tr>\n",
       "    <tr>\n",
       "      <th>9</th>\n",
       "      <td>Vietnamese</td>\n",
       "      <td>85.0</td>\n",
       "      <td>Austroasiatic</td>\n",
       "      <td>Vietic</td>\n",
       "    </tr>\n",
       "    <tr>\n",
       "      <th>10</th>\n",
       "      <td>Turkish</td>\n",
       "      <td>84.0</td>\n",
       "      <td>Turkic</td>\n",
       "      <td>Oghuz</td>\n",
       "    </tr>\n",
       "    <tr>\n",
       "      <th>11</th>\n",
       "      <td>Wu Chinese</td>\n",
       "      <td>83.4</td>\n",
       "      <td>Sino-Tibetan</td>\n",
       "      <td>Sinitic</td>\n",
       "    </tr>\n",
       "    <tr>\n",
       "      <th>12</th>\n",
       "      <td>Marathi</td>\n",
       "      <td>83.2</td>\n",
       "      <td>Indo-European</td>\n",
       "      <td>Indo-Aryan</td>\n",
       "    </tr>\n",
       "    <tr>\n",
       "      <th>13</th>\n",
       "      <td>Telugu</td>\n",
       "      <td>83.0</td>\n",
       "      <td>Dravidian</td>\n",
       "      <td>South-Central</td>\n",
       "    </tr>\n",
       "    <tr>\n",
       "      <th>14</th>\n",
       "      <td>Korean</td>\n",
       "      <td>81.7</td>\n",
       "      <td>Koreanic</td>\n",
       "      <td>—</td>\n",
       "    </tr>\n",
       "    <tr>\n",
       "      <th>15</th>\n",
       "      <td>French</td>\n",
       "      <td>80.8</td>\n",
       "      <td>Indo-European</td>\n",
       "      <td>Romance</td>\n",
       "    </tr>\n",
       "    <tr>\n",
       "      <th>16</th>\n",
       "      <td>Tamil</td>\n",
       "      <td>78.6</td>\n",
       "      <td>Dravidian</td>\n",
       "      <td>South</td>\n",
       "    </tr>\n",
       "    <tr>\n",
       "      <th>17</th>\n",
       "      <td>Egyptian Spoken Arabic</td>\n",
       "      <td>77.4</td>\n",
       "      <td>Afroasiatic</td>\n",
       "      <td>Semitic</td>\n",
       "    </tr>\n",
       "    <tr>\n",
       "      <th>18</th>\n",
       "      <td>Standard German</td>\n",
       "      <td>75.3</td>\n",
       "      <td>Indo-European</td>\n",
       "      <td>Germanic</td>\n",
       "    </tr>\n",
       "    <tr>\n",
       "      <th>19</th>\n",
       "      <td>Urdu</td>\n",
       "      <td>70.6</td>\n",
       "      <td>Indo-European</td>\n",
       "      <td>Indo-Aryan</td>\n",
       "    </tr>\n",
       "    <tr>\n",
       "      <th>20</th>\n",
       "      <td>Javanese</td>\n",
       "      <td>68.3</td>\n",
       "      <td>Austronesian</td>\n",
       "      <td>Malayo-Polynesian</td>\n",
       "    </tr>\n",
       "    <tr>\n",
       "      <th>21</th>\n",
       "      <td>Western Punjabi</td>\n",
       "      <td>66.7</td>\n",
       "      <td>Indo-European</td>\n",
       "      <td>Indo-Aryan</td>\n",
       "    </tr>\n",
       "    <tr>\n",
       "      <th>22</th>\n",
       "      <td>Italian</td>\n",
       "      <td>64.6</td>\n",
       "      <td>Indo-European</td>\n",
       "      <td>Romance</td>\n",
       "    </tr>\n",
       "    <tr>\n",
       "      <th>23</th>\n",
       "      <td>Gujarati</td>\n",
       "      <td>57.1</td>\n",
       "      <td>Indo-European</td>\n",
       "      <td>Indo-Aryan</td>\n",
       "    </tr>\n",
       "    <tr>\n",
       "      <th>24</th>\n",
       "      <td>Iranian Persian</td>\n",
       "      <td>57.2</td>\n",
       "      <td>Indo-European</td>\n",
       "      <td>Iranian</td>\n",
       "    </tr>\n",
       "    <tr>\n",
       "      <th>25</th>\n",
       "      <td>Bhojpuri</td>\n",
       "      <td>52.3</td>\n",
       "      <td>Indo-European</td>\n",
       "      <td>Indo-Aryan</td>\n",
       "    </tr>\n",
       "    <tr>\n",
       "      <th>26</th>\n",
       "      <td>Hausa</td>\n",
       "      <td>51.7</td>\n",
       "      <td>Afroasiatic</td>\n",
       "      <td>Chadic</td>\n",
       "    </tr>\n",
       "  </tbody>\n",
       "</table>\n",
       "</div>"
      ],
      "text/plain": [
       "                         0     1              2                  3\n",
       "0         Mandarin Chinese   939   Sino-Tibetan            Sinitic\n",
       "1                  Spanish   485  Indo-European            Romance\n",
       "2                  English   380  Indo-European           Germanic\n",
       "3                    Hindi   345  Indo-European         Indo-Aryan\n",
       "4               Portuguese   236  Indo-European            Romance\n",
       "5                  Bengali   234  Indo-European         Indo-Aryan\n",
       "6                  Russian   147  Indo-European       Balto-Slavic\n",
       "7                 Japanese   123        Japonic           Japanese\n",
       "8              Yue Chinese  86.1   Sino-Tibetan            Sinitic\n",
       "9               Vietnamese  85.0  Austroasiatic             Vietic\n",
       "10                 Turkish  84.0         Turkic              Oghuz\n",
       "11              Wu Chinese  83.4   Sino-Tibetan            Sinitic\n",
       "12                 Marathi  83.2  Indo-European         Indo-Aryan\n",
       "13                  Telugu  83.0      Dravidian      South-Central\n",
       "14                  Korean  81.7       Koreanic                  —\n",
       "15                  French  80.8  Indo-European            Romance\n",
       "16                   Tamil  78.6      Dravidian              South\n",
       "17  Egyptian Spoken Arabic  77.4    Afroasiatic            Semitic\n",
       "18         Standard German  75.3  Indo-European           Germanic\n",
       "19                    Urdu  70.6  Indo-European         Indo-Aryan\n",
       "20                Javanese  68.3   Austronesian  Malayo-Polynesian\n",
       "21         Western Punjabi  66.7  Indo-European         Indo-Aryan\n",
       "22                 Italian  64.6  Indo-European            Romance\n",
       "23                Gujarati  57.1  Indo-European         Indo-Aryan\n",
       "24         Iranian Persian  57.2  Indo-European            Iranian\n",
       "25                Bhojpuri  52.3  Indo-European         Indo-Aryan\n",
       "26                   Hausa  51.7    Afroasiatic             Chadic"
      ]
     },
     "execution_count": 56,
     "metadata": {},
     "output_type": "execute_result"
    }
   ],
   "source": [
    "df[0] = df[0].apply(lambda x: x.split('\\n')[0])\n",
    "df"
   ]
  },
  {
   "cell_type": "code",
   "execution_count": 58,
   "metadata": {},
   "outputs": [
    {
     "data": {
      "text/html": [
       "<div>\n",
       "<style scoped>\n",
       "    .dataframe tbody tr th:only-of-type {\n",
       "        vertical-align: middle;\n",
       "    }\n",
       "\n",
       "    .dataframe tbody tr th {\n",
       "        vertical-align: top;\n",
       "    }\n",
       "\n",
       "    .dataframe thead th {\n",
       "        text-align: right;\n",
       "    }\n",
       "</style>\n",
       "<table border=\"1\" class=\"dataframe\">\n",
       "  <thead>\n",
       "    <tr style=\"text-align: right;\">\n",
       "      <th></th>\n",
       "      <th>Language</th>\n",
       "      <th>Native speakers</th>\n",
       "      <th>Language family</th>\n",
       "      <th>Branch</th>\n",
       "    </tr>\n",
       "  </thead>\n",
       "  <tbody>\n",
       "    <tr>\n",
       "      <th>0</th>\n",
       "      <td>Mandarin Chinese</td>\n",
       "      <td>939</td>\n",
       "      <td>Sino-Tibetan</td>\n",
       "      <td>Sinitic</td>\n",
       "    </tr>\n",
       "    <tr>\n",
       "      <th>1</th>\n",
       "      <td>Spanish</td>\n",
       "      <td>485</td>\n",
       "      <td>Indo-European</td>\n",
       "      <td>Romance</td>\n",
       "    </tr>\n",
       "    <tr>\n",
       "      <th>2</th>\n",
       "      <td>English</td>\n",
       "      <td>380</td>\n",
       "      <td>Indo-European</td>\n",
       "      <td>Germanic</td>\n",
       "    </tr>\n",
       "    <tr>\n",
       "      <th>3</th>\n",
       "      <td>Hindi</td>\n",
       "      <td>345</td>\n",
       "      <td>Indo-European</td>\n",
       "      <td>Indo-Aryan</td>\n",
       "    </tr>\n",
       "    <tr>\n",
       "      <th>4</th>\n",
       "      <td>Portuguese</td>\n",
       "      <td>236</td>\n",
       "      <td>Indo-European</td>\n",
       "      <td>Romance</td>\n",
       "    </tr>\n",
       "    <tr>\n",
       "      <th>5</th>\n",
       "      <td>Bengali</td>\n",
       "      <td>234</td>\n",
       "      <td>Indo-European</td>\n",
       "      <td>Indo-Aryan</td>\n",
       "    </tr>\n",
       "    <tr>\n",
       "      <th>6</th>\n",
       "      <td>Russian</td>\n",
       "      <td>147</td>\n",
       "      <td>Indo-European</td>\n",
       "      <td>Balto-Slavic</td>\n",
       "    </tr>\n",
       "    <tr>\n",
       "      <th>7</th>\n",
       "      <td>Japanese</td>\n",
       "      <td>123</td>\n",
       "      <td>Japonic</td>\n",
       "      <td>Japanese</td>\n",
       "    </tr>\n",
       "    <tr>\n",
       "      <th>8</th>\n",
       "      <td>Yue Chinese</td>\n",
       "      <td>86.1</td>\n",
       "      <td>Sino-Tibetan</td>\n",
       "      <td>Sinitic</td>\n",
       "    </tr>\n",
       "    <tr>\n",
       "      <th>9</th>\n",
       "      <td>Vietnamese</td>\n",
       "      <td>85.0</td>\n",
       "      <td>Austroasiatic</td>\n",
       "      <td>Vietic</td>\n",
       "    </tr>\n",
       "    <tr>\n",
       "      <th>10</th>\n",
       "      <td>Turkish</td>\n",
       "      <td>84.0</td>\n",
       "      <td>Turkic</td>\n",
       "      <td>Oghuz</td>\n",
       "    </tr>\n",
       "    <tr>\n",
       "      <th>11</th>\n",
       "      <td>Wu Chinese</td>\n",
       "      <td>83.4</td>\n",
       "      <td>Sino-Tibetan</td>\n",
       "      <td>Sinitic</td>\n",
       "    </tr>\n",
       "    <tr>\n",
       "      <th>12</th>\n",
       "      <td>Marathi</td>\n",
       "      <td>83.2</td>\n",
       "      <td>Indo-European</td>\n",
       "      <td>Indo-Aryan</td>\n",
       "    </tr>\n",
       "    <tr>\n",
       "      <th>13</th>\n",
       "      <td>Telugu</td>\n",
       "      <td>83.0</td>\n",
       "      <td>Dravidian</td>\n",
       "      <td>South-Central</td>\n",
       "    </tr>\n",
       "    <tr>\n",
       "      <th>14</th>\n",
       "      <td>Korean</td>\n",
       "      <td>81.7</td>\n",
       "      <td>Koreanic</td>\n",
       "      <td>—</td>\n",
       "    </tr>\n",
       "    <tr>\n",
       "      <th>15</th>\n",
       "      <td>French</td>\n",
       "      <td>80.8</td>\n",
       "      <td>Indo-European</td>\n",
       "      <td>Romance</td>\n",
       "    </tr>\n",
       "    <tr>\n",
       "      <th>16</th>\n",
       "      <td>Tamil</td>\n",
       "      <td>78.6</td>\n",
       "      <td>Dravidian</td>\n",
       "      <td>South</td>\n",
       "    </tr>\n",
       "    <tr>\n",
       "      <th>17</th>\n",
       "      <td>Egyptian Spoken Arabic</td>\n",
       "      <td>77.4</td>\n",
       "      <td>Afroasiatic</td>\n",
       "      <td>Semitic</td>\n",
       "    </tr>\n",
       "    <tr>\n",
       "      <th>18</th>\n",
       "      <td>Standard German</td>\n",
       "      <td>75.3</td>\n",
       "      <td>Indo-European</td>\n",
       "      <td>Germanic</td>\n",
       "    </tr>\n",
       "    <tr>\n",
       "      <th>19</th>\n",
       "      <td>Urdu</td>\n",
       "      <td>70.6</td>\n",
       "      <td>Indo-European</td>\n",
       "      <td>Indo-Aryan</td>\n",
       "    </tr>\n",
       "    <tr>\n",
       "      <th>20</th>\n",
       "      <td>Javanese</td>\n",
       "      <td>68.3</td>\n",
       "      <td>Austronesian</td>\n",
       "      <td>Malayo-Polynesian</td>\n",
       "    </tr>\n",
       "    <tr>\n",
       "      <th>21</th>\n",
       "      <td>Western Punjabi</td>\n",
       "      <td>66.7</td>\n",
       "      <td>Indo-European</td>\n",
       "      <td>Indo-Aryan</td>\n",
       "    </tr>\n",
       "    <tr>\n",
       "      <th>22</th>\n",
       "      <td>Italian</td>\n",
       "      <td>64.6</td>\n",
       "      <td>Indo-European</td>\n",
       "      <td>Romance</td>\n",
       "    </tr>\n",
       "    <tr>\n",
       "      <th>23</th>\n",
       "      <td>Gujarati</td>\n",
       "      <td>57.1</td>\n",
       "      <td>Indo-European</td>\n",
       "      <td>Indo-Aryan</td>\n",
       "    </tr>\n",
       "    <tr>\n",
       "      <th>24</th>\n",
       "      <td>Iranian Persian</td>\n",
       "      <td>57.2</td>\n",
       "      <td>Indo-European</td>\n",
       "      <td>Iranian</td>\n",
       "    </tr>\n",
       "    <tr>\n",
       "      <th>25</th>\n",
       "      <td>Bhojpuri</td>\n",
       "      <td>52.3</td>\n",
       "      <td>Indo-European</td>\n",
       "      <td>Indo-Aryan</td>\n",
       "    </tr>\n",
       "    <tr>\n",
       "      <th>26</th>\n",
       "      <td>Hausa</td>\n",
       "      <td>51.7</td>\n",
       "      <td>Afroasiatic</td>\n",
       "      <td>Chadic</td>\n",
       "    </tr>\n",
       "  </tbody>\n",
       "</table>\n",
       "</div>"
      ],
      "text/plain": [
       "                  Language Native speakers Language family             Branch\n",
       "0         Mandarin Chinese             939    Sino-Tibetan            Sinitic\n",
       "1                  Spanish             485   Indo-European            Romance\n",
       "2                  English             380   Indo-European           Germanic\n",
       "3                    Hindi             345   Indo-European         Indo-Aryan\n",
       "4               Portuguese             236   Indo-European            Romance\n",
       "5                  Bengali             234   Indo-European         Indo-Aryan\n",
       "6                  Russian             147   Indo-European       Balto-Slavic\n",
       "7                 Japanese             123         Japonic           Japanese\n",
       "8              Yue Chinese            86.1    Sino-Tibetan            Sinitic\n",
       "9               Vietnamese            85.0   Austroasiatic             Vietic\n",
       "10                 Turkish            84.0          Turkic              Oghuz\n",
       "11              Wu Chinese            83.4    Sino-Tibetan            Sinitic\n",
       "12                 Marathi            83.2   Indo-European         Indo-Aryan\n",
       "13                  Telugu            83.0       Dravidian      South-Central\n",
       "14                  Korean            81.7        Koreanic                  —\n",
       "15                  French            80.8   Indo-European            Romance\n",
       "16                   Tamil            78.6       Dravidian              South\n",
       "17  Egyptian Spoken Arabic            77.4     Afroasiatic            Semitic\n",
       "18         Standard German            75.3   Indo-European           Germanic\n",
       "19                    Urdu            70.6   Indo-European         Indo-Aryan\n",
       "20                Javanese            68.3    Austronesian  Malayo-Polynesian\n",
       "21         Western Punjabi            66.7   Indo-European         Indo-Aryan\n",
       "22                 Italian            64.6   Indo-European            Romance\n",
       "23                Gujarati            57.1   Indo-European         Indo-Aryan\n",
       "24         Iranian Persian            57.2   Indo-European            Iranian\n",
       "25                Bhojpuri            52.3   Indo-European         Indo-Aryan\n",
       "26                   Hausa            51.7     Afroasiatic             Chadic"
      ]
     },
     "execution_count": 58,
     "metadata": {},
     "output_type": "execute_result"
    }
   ],
   "source": [
    "cols = [e.text for e in tablas.find_element(By.TAG_NAME, 'thead').find_elements(By.TAG_NAME, 'th')]\n",
    "cols = [e.split('\\n')[0] for e in cols]\n",
    "df.columns = cols\n",
    "df"
   ]
  },
  {
   "cell_type": "markdown",
   "metadata": {},
   "source": [
    "### BONUS QUESTIONS"
   ]
  },
  {
   "cell_type": "markdown",
   "metadata": {},
   "source": [
    "#### Scrape a certain number of tweets of a given Twitter account."
   ]
  },
  {
   "cell_type": "code",
   "execution_count": null,
   "metadata": {},
   "outputs": [],
   "source": [
    "# This is the url you will scrape in this exercise \n",
    "# You will need to add the account credentials to this url\n",
    "url = 'https://twitter.com/'"
   ]
  },
  {
   "cell_type": "code",
   "execution_count": null,
   "metadata": {},
   "outputs": [],
   "source": [
    "# your code"
   ]
  },
  {
   "cell_type": "markdown",
   "metadata": {},
   "source": [
    "#### IMDB's Top 250 data (movie name, Initial release, director name and stars) as a pandas dataframe"
   ]
  },
  {
   "cell_type": "code",
   "execution_count": null,
   "metadata": {},
   "outputs": [],
   "source": [
    "# This is the url you will scrape in this exercise \n",
    "url = 'https://www.imdb.com/chart/top'"
   ]
  },
  {
   "cell_type": "code",
   "execution_count": null,
   "metadata": {},
   "outputs": [],
   "source": [
    "# your code"
   ]
  },
  {
   "cell_type": "markdown",
   "metadata": {},
   "source": [
    "#### Movie name, year and a brief summary of the top 10 random movies (IMDB) as a pandas dataframe."
   ]
  },
  {
   "cell_type": "code",
   "execution_count": null,
   "metadata": {},
   "outputs": [],
   "source": [
    "#This is the url you will scrape in this exercise\n",
    "url = 'http://www.imdb.com/chart/top'"
   ]
  },
  {
   "cell_type": "code",
   "execution_count": null,
   "metadata": {},
   "outputs": [],
   "source": [
    "#your code"
   ]
  },
  {
   "cell_type": "markdown",
   "metadata": {},
   "source": [
    "#### Find the live weather report (temperature, wind speed, description and weather) of a given city."
   ]
  },
  {
   "cell_type": "code",
   "execution_count": null,
   "metadata": {},
   "outputs": [],
   "source": [
    "#https://openweathermap.org/current\n",
    "city = city=input('Enter the city:')\n",
    "url = 'http://api.openweathermap.org/data/2.5/weather?'+'q='+city+'&APPID=b35975e18dc93725acb092f7272cc6b8&units=metric'"
   ]
  },
  {
   "cell_type": "code",
   "execution_count": null,
   "metadata": {},
   "outputs": [],
   "source": [
    "# your code"
   ]
  },
  {
   "cell_type": "markdown",
   "metadata": {},
   "source": [
    "#### Book name,price and stock availability as a pandas dataframe."
   ]
  },
  {
   "cell_type": "code",
   "execution_count": null,
   "metadata": {},
   "outputs": [],
   "source": [
    "# This is the url you will scrape in this exercise. \n",
    "# It is a fictional bookstore created to be scraped. \n",
    "url = 'http://books.toscrape.com/'"
   ]
  },
  {
   "cell_type": "code",
   "execution_count": null,
   "metadata": {},
   "outputs": [],
   "source": [
    "#your code"
   ]
  }
 ],
 "metadata": {
  "kernelspec": {
   "display_name": "Python 3",
   "language": "python",
   "name": "python3"
  },
  "language_info": {
   "codemirror_mode": {
    "name": "ipython",
    "version": 3
   },
   "file_extension": ".py",
   "mimetype": "text/x-python",
   "name": "python",
   "nbconvert_exporter": "python",
   "pygments_lexer": "ipython3",
   "version": "3.11.5"
  }
 },
 "nbformat": 4,
 "nbformat_minor": 2
}
