{
 "cells": [
  {
   "cell_type": "markdown",
   "metadata": {},
   "source": [
    "# Web Scraping Lab\n",
    "\n",
    "You will find in this notebook some scrapy exercises to practise your scraping skills.\n",
    "\n",
    "**Tips:**\n",
    "\n",
    "- Check the response status code for each request to ensure you have obtained the intended contennt.\n",
    "- Print the response text in each request to understand the kind of info you are getting and its format.\n",
    "- Check for patterns in the response text to extract the data/info requested in each question.\n",
    "- Visit each url and take a look at its source through Chrome DevTools. You'll need to identify the html tags, special class names etc. used for the html content you are expected to extract."
   ]
  },
  {
   "cell_type": "markdown",
   "metadata": {},
   "source": [
    "- [Selenium Doc](https://www.selenium.dev/documentation/)\n",
    "- [Requests library](http://docs.python-requests.org/en/master/#the-user-guide) documentation \n",
    "- [Urllib](https://docs.python.org/3/library/urllib.html#module-urllib)\n",
    "- [re lib](https://docs.python.org/3/library/re.html)\n",
    "- [lxml lib](https://lxml.de/)\n",
    "- [Scrapy](https://scrapy.org/)\n",
    "- [List of HTTP status codes](https://en.wikipedia.org/wiki/List_of_HTTP_status_codes)\n",
    "- [HTML basics](http://www.simplehtmlguide.com/cheatsheet.php)\n",
    "- [CSS basics](https://www.cssbasics.com/#page_start)"
   ]
  },
  {
   "cell_type": "markdown",
   "metadata": {},
   "source": [
    "#### Below are the libraries and modules you may need. `Selenium` and `pandas` are imported for you."
   ]
  },
  {
   "cell_type": "code",
   "execution_count": 1,
   "metadata": {},
   "outputs": [],
   "source": [
    "import pandas as pd\n",
    "from selenium.webdriver.chrome.options import Options\n",
    "from webdriver_manager.chrome import ChromeDriverManager"
   ]
  },
  {
   "cell_type": "markdown",
   "metadata": {},
   "source": [
    "#### Enable the options you may need. In the next cell you have an example of them but you can choose to use them or not."
   ]
  },
  {
   "cell_type": "code",
   "execution_count": 29,
   "metadata": {},
   "outputs": [],
   "source": [
    "#driver configuration\n",
    "opciones=Options()\n",
    "\n",
    "opciones.add_experimental_option('excludeSwitches', ['enable-automation'])\n",
    "opciones.add_experimental_option('useAutomationExtension', False)\n",
    "opciones.headless=False    # si True, no aperece la ventana (headless=no visible)\n",
    "opciones.add_argument('--start-maximized')         # comienza maximizado\n",
    "#opciones.add_argument('user-data-dir=selenium')    # mantiene las cookies\n",
    "#opciones.add_extension('driver_folder/adblock.crx')       # adblocker\n",
    "opciones.add_argument('--incognito')\n",
    "from selenium.webdriver.common.by import By\n",
    "from IPython.display import Image # Para mostrar imágenes en python\n",
    "from bs4 import BeautifulSoup as bs\n",
    "import time"
   ]
  },
  {
   "cell_type": "code",
   "execution_count": 3,
   "metadata": {},
   "outputs": [
    {
     "name": "stderr",
     "output_type": "stream",
     "text": [
      "Cache folder (C:\\Users\\jacom\\.cache\\selenium) cannot be created: No se puede crear un archivo que ya existe. (os error 183)\n",
      "Cache folder (C:\\Users\\jacom\\.cache\\selenium) cannot be created: No se puede crear un archivo que ya existe. (os error 183)\n"
     ]
    }
   ],
   "source": [
    "from selenium import webdriver\n",
    "PATH = 'driver/chromedriver.exe'\n",
    "driver = webdriver.Chrome()\n",
    "driver.get('https://www.google.es')"
   ]
  },
  {
   "cell_type": "markdown",
   "metadata": {},
   "source": [
    "#### Download, parse, and print the content from the Trending Developers page from GitHub:"
   ]
  },
  {
   "cell_type": "code",
   "execution_count": 12,
   "metadata": {},
   "outputs": [],
   "source": [
    "# This is the url you will scrape in this exercise\n",
    "url = 'https://github.com/trending/developers'"
   ]
  },
  {
   "cell_type": "code",
   "execution_count": 13,
   "metadata": {},
   "outputs": [],
   "source": [
    "driver.get(url)"
   ]
  },
  {
   "cell_type": "markdown",
   "metadata": {},
   "source": [
    "#### Display the names of the trending developers retrieved in the previous step.\n",
    "\n",
    "Your output should be a Python list of developer names. Each name should not contain any html tag.\n",
    "\n",
    "**Instructions:**\n",
    "\n",
    "1. Find out the html tag and class names used for the developer names.\n",
    "\n",
    "1. Use string manipulation techniques to replace whitespaces and linebreaks (i.e. `\\n`) in the *text* of each html element. Use a list to store the clean names.\n",
    "\n",
    "1. Print the list of names.\n",
    "\n",
    "Your output should look like below:\n",
    "\n",
    "```\n",
    "['trimstray (@trimstray)',\n",
    " 'joewalnes (JoeWalnes)',\n",
    " 'charlax (Charles-AxelDein)',\n",
    " 'ForrestKnight (ForrestKnight)',\n",
    " 'revery-ui (revery-ui)',\n",
    " 'alibaba (Alibaba)',\n",
    " 'Microsoft (Microsoft)',\n",
    " 'github (GitHub)',\n",
    " 'facebook (Facebook)',\n",
    " 'boazsegev (Bo)',\n",
    " 'google (Google)',\n",
    " 'cloudfetch',\n",
    " 'sindresorhus (SindreSorhus)',\n",
    " 'tensorflow',\n",
    " 'apache (TheApacheSoftwareFoundation)',\n",
    " 'DevonCrawford (DevonCrawford)',\n",
    " 'ARMmbed (ArmMbed)',\n",
    " 'vuejs (vuejs)',\n",
    " 'fastai (fast.ai)',\n",
    " 'QiShaoXuan (Qi)',\n",
    " 'joelparkerhenderson (JoelParkerHenderson)',\n",
    " 'torvalds (LinusTorvalds)',\n",
    " 'CyC2018',\n",
    " 'komeiji-satori (神楽坂覚々)',\n",
    " 'script-8']\n",
    " ```"
   ]
  },
  {
   "cell_type": "code",
   "execution_count": 26,
   "metadata": {},
   "outputs": [
    {
     "data": {
      "text/plain": [
       "[<selenium.webdriver.remote.webelement.WebElement (session=\"ae83513566c8bf97d7db159cac65205c\", element=\"AAE256AB5F90AB5F572AC99EC86D5A5C_element_368\")>,\n",
       " <selenium.webdriver.remote.webelement.WebElement (session=\"ae83513566c8bf97d7db159cac65205c\", element=\"AAE256AB5F90AB5F572AC99EC86D5A5C_element_4218\")>,\n",
       " <selenium.webdriver.remote.webelement.WebElement (session=\"ae83513566c8bf97d7db159cac65205c\", element=\"AAE256AB5F90AB5F572AC99EC86D5A5C_element_4219\")>,\n",
       " <selenium.webdriver.remote.webelement.WebElement (session=\"ae83513566c8bf97d7db159cac65205c\", element=\"AAE256AB5F90AB5F572AC99EC86D5A5C_element_4220\")>,\n",
       " <selenium.webdriver.remote.webelement.WebElement (session=\"ae83513566c8bf97d7db159cac65205c\", element=\"AAE256AB5F90AB5F572AC99EC86D5A5C_element_4221\")>,\n",
       " <selenium.webdriver.remote.webelement.WebElement (session=\"ae83513566c8bf97d7db159cac65205c\", element=\"AAE256AB5F90AB5F572AC99EC86D5A5C_element_4222\")>,\n",
       " <selenium.webdriver.remote.webelement.WebElement (session=\"ae83513566c8bf97d7db159cac65205c\", element=\"AAE256AB5F90AB5F572AC99EC86D5A5C_element_4223\")>,\n",
       " <selenium.webdriver.remote.webelement.WebElement (session=\"ae83513566c8bf97d7db159cac65205c\", element=\"AAE256AB5F90AB5F572AC99EC86D5A5C_element_4224\")>,\n",
       " <selenium.webdriver.remote.webelement.WebElement (session=\"ae83513566c8bf97d7db159cac65205c\", element=\"AAE256AB5F90AB5F572AC99EC86D5A5C_element_4225\")>,\n",
       " <selenium.webdriver.remote.webelement.WebElement (session=\"ae83513566c8bf97d7db159cac65205c\", element=\"AAE256AB5F90AB5F572AC99EC86D5A5C_element_4226\")>,\n",
       " <selenium.webdriver.remote.webelement.WebElement (session=\"ae83513566c8bf97d7db159cac65205c\", element=\"AAE256AB5F90AB5F572AC99EC86D5A5C_element_4227\")>,\n",
       " <selenium.webdriver.remote.webelement.WebElement (session=\"ae83513566c8bf97d7db159cac65205c\", element=\"AAE256AB5F90AB5F572AC99EC86D5A5C_element_4228\")>,\n",
       " <selenium.webdriver.remote.webelement.WebElement (session=\"ae83513566c8bf97d7db159cac65205c\", element=\"AAE256AB5F90AB5F572AC99EC86D5A5C_element_4229\")>,\n",
       " <selenium.webdriver.remote.webelement.WebElement (session=\"ae83513566c8bf97d7db159cac65205c\", element=\"AAE256AB5F90AB5F572AC99EC86D5A5C_element_4230\")>,\n",
       " <selenium.webdriver.remote.webelement.WebElement (session=\"ae83513566c8bf97d7db159cac65205c\", element=\"AAE256AB5F90AB5F572AC99EC86D5A5C_element_4231\")>,\n",
       " <selenium.webdriver.remote.webelement.WebElement (session=\"ae83513566c8bf97d7db159cac65205c\", element=\"AAE256AB5F90AB5F572AC99EC86D5A5C_element_4232\")>,\n",
       " <selenium.webdriver.remote.webelement.WebElement (session=\"ae83513566c8bf97d7db159cac65205c\", element=\"AAE256AB5F90AB5F572AC99EC86D5A5C_element_4233\")>,\n",
       " <selenium.webdriver.remote.webelement.WebElement (session=\"ae83513566c8bf97d7db159cac65205c\", element=\"AAE256AB5F90AB5F572AC99EC86D5A5C_element_4234\")>,\n",
       " <selenium.webdriver.remote.webelement.WebElement (session=\"ae83513566c8bf97d7db159cac65205c\", element=\"AAE256AB5F90AB5F572AC99EC86D5A5C_element_4235\")>,\n",
       " <selenium.webdriver.remote.webelement.WebElement (session=\"ae83513566c8bf97d7db159cac65205c\", element=\"AAE256AB5F90AB5F572AC99EC86D5A5C_element_4236\")>,\n",
       " <selenium.webdriver.remote.webelement.WebElement (session=\"ae83513566c8bf97d7db159cac65205c\", element=\"AAE256AB5F90AB5F572AC99EC86D5A5C_element_4237\")>,\n",
       " <selenium.webdriver.remote.webelement.WebElement (session=\"ae83513566c8bf97d7db159cac65205c\", element=\"AAE256AB5F90AB5F572AC99EC86D5A5C_element_4238\")>,\n",
       " <selenium.webdriver.remote.webelement.WebElement (session=\"ae83513566c8bf97d7db159cac65205c\", element=\"AAE256AB5F90AB5F572AC99EC86D5A5C_element_4239\")>,\n",
       " <selenium.webdriver.remote.webelement.WebElement (session=\"ae83513566c8bf97d7db159cac65205c\", element=\"AAE256AB5F90AB5F572AC99EC86D5A5C_element_4240\")>,\n",
       " <selenium.webdriver.remote.webelement.WebElement (session=\"ae83513566c8bf97d7db159cac65205c\", element=\"AAE256AB5F90AB5F572AC99EC86D5A5C_element_4241\")>]"
      ]
     },
     "execution_count": 26,
     "metadata": {},
     "output_type": "execute_result"
    }
   ],
   "source": [
    "a = driver.find_elements(By.XPATH, '//div[@class=\"col-sm-8 d-md-flex\"]')\n",
    "a"
   ]
  },
  {
   "cell_type": "code",
   "execution_count": 28,
   "metadata": {},
   "outputs": [
    {
     "data": {
      "text/plain": [
       "['Ismail Pelaseyed',\n",
       " 'homanp',\n",
       " 'POPULAR REPO',\n",
       " 'superagent',\n",
       " '🥷 The open framework for building AI Assistants']"
      ]
     },
     "execution_count": 28,
     "metadata": {},
     "output_type": "execute_result"
    }
   ],
   "source": [
    "a[0].text.split('\\n')"
   ]
  },
  {
   "cell_type": "code",
   "execution_count": 30,
   "metadata": {},
   "outputs": [
    {
     "data": {
      "text/plain": [
       "['Ismail Pelaseyed', 'homanp']"
      ]
     },
     "execution_count": 30,
     "metadata": {},
     "output_type": "execute_result"
    }
   ],
   "source": [
    "a[0].text.split('\\n')[:2] # Así me quedo únicamente con nombre y user_id del manin"
   ]
  },
  {
   "cell_type": "code",
   "execution_count": 31,
   "metadata": {},
   "outputs": [
    {
     "name": "stdout",
     "output_type": "stream",
     "text": [
      "['Ismail Pelaseyed', 'homanp']\n",
      "['Chris Banes', 'chrisbanes']\n",
      "['Travis Cline', 'tmc']\n",
      "['Xiaoyu Zhang', 'BBuf']\n",
      "['Stefan Prodan', 'stefanprodan']\n",
      "['Pedro Cattori', 'pcattori']\n",
      "['lllyasviel', 'POPULAR REPO']\n",
      "['Arvin Xu', 'arvinxx']\n",
      "['Howard Wu', 'howardwu']\n",
      "['Shahed Nasser', 'shahednasser']\n",
      "['Kailash Nadh', 'knadh']\n",
      "['Mattt', 'mattt']\n",
      "['kixelated', 'POPULAR REPO']\n",
      "['Brad Fitzpatrick', 'bradfitz']\n",
      "['Miško Hevery', 'mhevery']\n",
      "['Andrew Lock', 'andrewlock']\n",
      "['Brian Smith', 'briansmith']\n",
      "['Numan', 'numandev1']\n",
      "['Fons van der Plas', 'fonsp']\n",
      "['Leonid Bugaev', 'buger']\n",
      "['wū yāng', 'uyarn']\n",
      "['Steven Nguyen', 'stnguyen90']\n",
      "['Argo Zhang', 'ArgoZhang']\n",
      "['Josh Stein', 'jcstein']\n",
      "['Mike McNeil', 'mikermcneil']\n"
     ]
    }
   ],
   "source": [
    "# Loopeo en la lista de a\n",
    "for e in a:\n",
    "    print(e.text.split('\\n')[:2])"
   ]
  },
  {
   "cell_type": "markdown",
   "metadata": {},
   "source": [
    "#### Display the trending Python repositories in GitHub\n",
    "\n",
    "The steps to solve this problem is similar to the previous one except that you need to find out the repository names instead of developer names."
   ]
  },
  {
   "cell_type": "code",
   "execution_count": 32,
   "metadata": {},
   "outputs": [],
   "source": [
    "# This is the url you will scrape in this exercise\n",
    "url = 'https://github.com/trending/python?since=daily'"
   ]
  },
  {
   "cell_type": "code",
   "execution_count": 33,
   "metadata": {},
   "outputs": [],
   "source": [
    "driver.get(url)"
   ]
  },
  {
   "cell_type": "code",
   "execution_count": 41,
   "metadata": {},
   "outputs": [],
   "source": [
    "lista_repos = driver.find_elements(By.XPATH, '//h2[@class=\"h3 lh-condensed\"]')"
   ]
  },
  {
   "cell_type": "code",
   "execution_count": 42,
   "metadata": {},
   "outputs": [
    {
     "data": {
      "text/plain": [
       "25"
      ]
     },
     "execution_count": 42,
     "metadata": {},
     "output_type": "execute_result"
    }
   ],
   "source": [
    "len(lista_repos)"
   ]
  },
  {
   "cell_type": "code",
   "execution_count": 43,
   "metadata": {},
   "outputs": [
    {
     "data": {
      "text/plain": [
       "'swisskyrepo / PayloadsAllTheThings'"
      ]
     },
     "execution_count": 43,
     "metadata": {},
     "output_type": "execute_result"
    }
   ],
   "source": [
    "lista_repos[0].text"
   ]
  },
  {
   "cell_type": "code",
   "execution_count": 47,
   "metadata": {},
   "outputs": [
    {
     "name": "stdout",
     "output_type": "stream",
     "text": [
      "swisskyrepo / PayloadsAllTheThings\n",
      "THUDM / ChatGLM3\n",
      "PaddlePaddle / PaddleOCR\n",
      "langchain-ai / langchain\n",
      "dataelement / bisheng\n",
      "Azure / MS-AMP\n",
      "xxlong0 / Wonder3D\n",
      "yunjey / pytorch-tutorial\n",
      "facebookresearch / llama\n",
      "localstack / localstack\n",
      "OpenBMB / ChatDev\n",
      "ray-project / ray\n",
      "CycodeLabs / raven\n",
      "ageitgey / face_recognition\n",
      "iam-veeramalla / aws-devops-zero-to-hero\n",
      "openai / whisper\n",
      "sqlfluff / sqlfluff\n",
      "imartinez / privateGPT\n",
      "reflex-dev / reflex\n",
      "donnemartin / system-design-primer\n",
      "lm-sys / FastChat\n",
      "togethercomputer / RedPajama-Data\n",
      "SkyworkAI / Skywork\n",
      "microsoft / qlib\n",
      "pathwaycom / llm-app\n"
     ]
    }
   ],
   "source": [
    "# Ahora pasamos a loopear\n",
    "for e in lista_repos:\n",
    "    print(e.text)"
   ]
  },
  {
   "cell_type": "markdown",
   "metadata": {},
   "source": [
    "#### Display all the image links from Walt Disney wikipedia page"
   ]
  },
  {
   "cell_type": "code",
   "execution_count": 49,
   "metadata": {},
   "outputs": [],
   "source": [
    "# This is the url you will scrape in this exercise\n",
    "url = 'https://en.wikipedia.org/wiki/Walt_Disney'"
   ]
  },
  {
   "cell_type": "code",
   "execution_count": 50,
   "metadata": {},
   "outputs": [],
   "source": [
    "driver.get(url)"
   ]
  },
  {
   "cell_type": "code",
   "execution_count": 56,
   "metadata": {},
   "outputs": [],
   "source": [
    "lista_imgs = driver.find_elements(By.TAG_NAME, 'img')"
   ]
  },
  {
   "cell_type": "code",
   "execution_count": 68,
   "metadata": {},
   "outputs": [
    {
     "data": {
      "text/plain": [
       "36"
      ]
     },
     "execution_count": 68,
     "metadata": {},
     "output_type": "execute_result"
    }
   ],
   "source": [
    "len(lista_imgs)"
   ]
  },
  {
   "cell_type": "code",
   "execution_count": 62,
   "metadata": {},
   "outputs": [
    {
     "data": {
      "text/plain": [
       "'https://en.wikipedia.org/static/images/icons/wikipedia.png'"
      ]
     },
     "execution_count": 62,
     "metadata": {},
     "output_type": "execute_result"
    }
   ],
   "source": [
    "lista_imgs[0].get_attribute('src')"
   ]
  },
  {
   "cell_type": "code",
   "execution_count": 64,
   "metadata": {},
   "outputs": [
    {
     "data": {
      "text/plain": [
       "['https://en.wikipedia.org/static/images/icons/wikipedia.png',\n",
       " 'https://en.wikipedia.org/static/images/mobile/copyright/wikipedia-wordmark-en.svg',\n",
       " 'https://en.wikipedia.org/static/images/mobile/copyright/wikipedia-tagline-en.svg',\n",
       " 'https://upload.wikimedia.org/wikipedia/en/thumb/e/e7/Cscr-featured.svg/20px-Cscr-featured.svg.png',\n",
       " 'https://upload.wikimedia.org/wikipedia/en/thumb/8/8c/Extended-protection-shackle.svg/20px-Extended-protection-shackle.svg.png',\n",
       " 'https://upload.wikimedia.org/wikipedia/commons/thumb/d/df/Walt_Disney_1946.JPG/220px-Walt_Disney_1946.JPG',\n",
       " 'https://upload.wikimedia.org/wikipedia/commons/thumb/8/87/Walt_Disney_1942_signature.svg/150px-Walt_Disney_1942_signature.svg.png',\n",
       " 'https://upload.wikimedia.org/wikipedia/commons/thumb/3/3a/Walt_Disney_Birthplace_Exterior_Hermosa_Chicago_Illinois.jpg/220px-Walt_Disney_Birthplace_Exterior_Hermosa_Chicago_Illinois.jpg',\n",
       " 'https://upload.wikimedia.org/wikipedia/commons/thumb/c/c4/Walt_Disney_envelope_ca._1921.jpg/220px-Walt_Disney_envelope_ca._1921.jpg',\n",
       " 'https://upload.wikimedia.org/wikipedia/en/thumb/4/4e/Steamboat-willie.jpg/220px-Steamboat-willie.jpg',\n",
       " 'https://upload.wikimedia.org/wikipedia/commons/thumb/c/cd/Walt_Disney_Snow_white_1937_trailer_screenshot_%2813%29.jpg/220px-Walt_Disney_Snow_white_1937_trailer_screenshot_%2813%29.jpg',\n",
       " 'https://upload.wikimedia.org/wikipedia/commons/thumb/1/15/Disney_drawing_goofy.jpg/170px-Disney_drawing_goofy.jpg',\n",
       " 'https://upload.wikimedia.org/wikipedia/commons/thumb/8/8c/WaltDisneyplansDisneylandDec1954.jpg/220px-WaltDisneyplansDisneylandDec1954.jpg',\n",
       " 'https://upload.wikimedia.org/wikipedia/commons/thumb/f/ff/Walt_disney_portrait_right.jpg/170px-Walt_disney_portrait_right.jpg',\n",
       " 'https://upload.wikimedia.org/wikipedia/commons/thumb/1/1a/Walt_Disney_Grave.JPG/170px-Walt_Disney_Grave.JPG',\n",
       " 'https://upload.wikimedia.org/wikipedia/commons/thumb/1/1b/Nuvola_apps_kaboodle.svg/16px-Nuvola_apps_kaboodle.svg.png',\n",
       " 'https://upload.wikimedia.org/wikipedia/commons/thumb/1/13/DisneySchiphol1951.jpg/220px-DisneySchiphol1951.jpg',\n",
       " 'https://upload.wikimedia.org/wikipedia/commons/thumb/6/6c/Disney1968.jpg/170px-Disney1968.jpg',\n",
       " 'https://upload.wikimedia.org/wikipedia/commons/thumb/b/b0/Disney_Oscar_1953_%28cropped%29.jpg/170px-Disney_Oscar_1953_%28cropped%29.jpg',\n",
       " 'https://upload.wikimedia.org/wikipedia/en/thumb/4/4a/Commons-logo.svg/30px-Commons-logo.svg.png',\n",
       " 'https://upload.wikimedia.org/wikipedia/commons/thumb/4/4c/Wikisource-logo.svg/38px-Wikisource-logo.svg.png',\n",
       " 'https://upload.wikimedia.org/wikipedia/commons/thumb/f/fa/Wikiquote-logo.svg/34px-Wikiquote-logo.svg.png',\n",
       " 'https://upload.wikimedia.org/wikipedia/en/thumb/8/8a/OOjs_UI_icon_edit-ltr-progressive.svg/10px-OOjs_UI_icon_edit-ltr-progressive.svg.png',\n",
       " 'https://upload.wikimedia.org/wikipedia/en/thumb/8/8a/OOjs_UI_icon_edit-ltr-progressive.svg/10px-OOjs_UI_icon_edit-ltr-progressive.svg.png',\n",
       " 'https://upload.wikimedia.org/wikipedia/en/thumb/9/96/Symbol_category_class.svg/16px-Symbol_category_class.svg.png',\n",
       " 'https://upload.wikimedia.org/wikipedia/commons/thumb/e/e3/Disneyland_Resort_logo.svg/135px-Disneyland_Resort_logo.svg.png',\n",
       " 'https://upload.wikimedia.org/wikipedia/commons/thumb/d/da/Animation_disc.svg/20px-Animation_disc.svg.png',\n",
       " 'https://upload.wikimedia.org/wikipedia/en/thumb/6/69/P_vip.svg/19px-P_vip.svg.png',\n",
       " 'https://upload.wikimedia.org/wikipedia/commons/thumb/1/1a/Magic_Kingdom_castle.jpg/15px-Magic_Kingdom_castle.jpg',\n",
       " 'https://upload.wikimedia.org/wikipedia/en/thumb/e/e7/Video-x-generic.svg/19px-Video-x-generic.svg.png',\n",
       " 'https://upload.wikimedia.org/wikipedia/commons/thumb/a/a3/Flag_of_Los_Angeles_County%2C_California.svg/21px-Flag_of_Los_Angeles_County%2C_California.svg.png',\n",
       " 'https://upload.wikimedia.org/wikipedia/commons/thumb/8/8c/Blank_television_set.svg/21px-Blank_television_set.svg.png',\n",
       " 'https://upload.wikimedia.org/wikipedia/en/thumb/a/a4/Flag_of_the_United_States.svg/21px-Flag_of_the_United_States.svg.png',\n",
       " 'https://upload.wikimedia.org/wikipedia/en/thumb/8/8a/OOjs_UI_icon_edit-ltr-progressive.svg/10px-OOjs_UI_icon_edit-ltr-progressive.svg.png',\n",
       " 'https://en.wikipedia.org/static/images/footer/wikimedia-button.png',\n",
       " 'https://en.wikipedia.org/static/images/footer/poweredby_mediawiki_88x31.png']"
      ]
     },
     "execution_count": 64,
     "metadata": {},
     "output_type": "execute_result"
    }
   ],
   "source": [
    "lista_imgs_url = [] # Creo una lista vacía para meter los urls de cada pic\n",
    "for e in lista_imgs:\n",
    "    lista_imgs_url.append(e.get_attribute('src'))\n",
    "\n",
    "lista_imgs_url"
   ]
  },
  {
   "cell_type": "code",
   "execution_count": 67,
   "metadata": {},
   "outputs": [
    {
     "data": {
      "text/html": [
       "<img src=\"https://en.wikipedia.org/static/images/icons/wikipedia.png\"/>"
      ],
      "text/plain": [
       "<IPython.core.display.Image object>"
      ]
     },
     "metadata": {},
     "output_type": "display_data"
    },
    {
     "data": {
      "text/html": [
       "<img src=\"https://en.wikipedia.org/static/images/mobile/copyright/wikipedia-wordmark-en.svg\"/>"
      ],
      "text/plain": [
       "<IPython.core.display.Image object>"
      ]
     },
     "metadata": {},
     "output_type": "display_data"
    },
    {
     "data": {
      "text/html": [
       "<img src=\"https://en.wikipedia.org/static/images/mobile/copyright/wikipedia-tagline-en.svg\"/>"
      ],
      "text/plain": [
       "<IPython.core.display.Image object>"
      ]
     },
     "metadata": {},
     "output_type": "display_data"
    },
    {
     "data": {
      "text/html": [
       "<img src=\"https://upload.wikimedia.org/wikipedia/en/thumb/e/e7/Cscr-featured.svg/20px-Cscr-featured.svg.png\"/>"
      ],
      "text/plain": [
       "<IPython.core.display.Image object>"
      ]
     },
     "metadata": {},
     "output_type": "display_data"
    },
    {
     "data": {
      "text/html": [
       "<img src=\"https://upload.wikimedia.org/wikipedia/en/thumb/8/8c/Extended-protection-shackle.svg/20px-Extended-protection-shackle.svg.png\"/>"
      ],
      "text/plain": [
       "<IPython.core.display.Image object>"
      ]
     },
     "metadata": {},
     "output_type": "display_data"
    },
    {
     "data": {
      "text/html": [
       "<img src=\"https://upload.wikimedia.org/wikipedia/commons/thumb/d/df/Walt_Disney_1946.JPG/220px-Walt_Disney_1946.JPG\"/>"
      ],
      "text/plain": [
       "<IPython.core.display.Image object>"
      ]
     },
     "metadata": {},
     "output_type": "display_data"
    },
    {
     "data": {
      "text/html": [
       "<img src=\"https://upload.wikimedia.org/wikipedia/commons/thumb/8/87/Walt_Disney_1942_signature.svg/150px-Walt_Disney_1942_signature.svg.png\"/>"
      ],
      "text/plain": [
       "<IPython.core.display.Image object>"
      ]
     },
     "metadata": {},
     "output_type": "display_data"
    },
    {
     "data": {
      "text/html": [
       "<img src=\"https://upload.wikimedia.org/wikipedia/commons/thumb/3/3a/Walt_Disney_Birthplace_Exterior_Hermosa_Chicago_Illinois.jpg/220px-Walt_Disney_Birthplace_Exterior_Hermosa_Chicago_Illinois.jpg\"/>"
      ],
      "text/plain": [
       "<IPython.core.display.Image object>"
      ]
     },
     "metadata": {},
     "output_type": "display_data"
    },
    {
     "data": {
      "text/html": [
       "<img src=\"https://upload.wikimedia.org/wikipedia/commons/thumb/c/c4/Walt_Disney_envelope_ca._1921.jpg/220px-Walt_Disney_envelope_ca._1921.jpg\"/>"
      ],
      "text/plain": [
       "<IPython.core.display.Image object>"
      ]
     },
     "metadata": {},
     "output_type": "display_data"
    },
    {
     "data": {
      "text/html": [
       "<img src=\"https://upload.wikimedia.org/wikipedia/en/thumb/4/4e/Steamboat-willie.jpg/220px-Steamboat-willie.jpg\"/>"
      ],
      "text/plain": [
       "<IPython.core.display.Image object>"
      ]
     },
     "metadata": {},
     "output_type": "display_data"
    },
    {
     "data": {
      "text/html": [
       "<img src=\"https://upload.wikimedia.org/wikipedia/commons/thumb/c/cd/Walt_Disney_Snow_white_1937_trailer_screenshot_%2813%29.jpg/220px-Walt_Disney_Snow_white_1937_trailer_screenshot_%2813%29.jpg\"/>"
      ],
      "text/plain": [
       "<IPython.core.display.Image object>"
      ]
     },
     "metadata": {},
     "output_type": "display_data"
    },
    {
     "data": {
      "text/html": [
       "<img src=\"https://upload.wikimedia.org/wikipedia/commons/thumb/1/15/Disney_drawing_goofy.jpg/170px-Disney_drawing_goofy.jpg\"/>"
      ],
      "text/plain": [
       "<IPython.core.display.Image object>"
      ]
     },
     "metadata": {},
     "output_type": "display_data"
    },
    {
     "data": {
      "text/html": [
       "<img src=\"https://upload.wikimedia.org/wikipedia/commons/thumb/8/8c/WaltDisneyplansDisneylandDec1954.jpg/220px-WaltDisneyplansDisneylandDec1954.jpg\"/>"
      ],
      "text/plain": [
       "<IPython.core.display.Image object>"
      ]
     },
     "metadata": {},
     "output_type": "display_data"
    },
    {
     "data": {
      "text/html": [
       "<img src=\"https://upload.wikimedia.org/wikipedia/commons/thumb/f/ff/Walt_disney_portrait_right.jpg/170px-Walt_disney_portrait_right.jpg\"/>"
      ],
      "text/plain": [
       "<IPython.core.display.Image object>"
      ]
     },
     "metadata": {},
     "output_type": "display_data"
    },
    {
     "data": {
      "text/html": [
       "<img src=\"https://upload.wikimedia.org/wikipedia/commons/thumb/1/1a/Walt_Disney_Grave.JPG/170px-Walt_Disney_Grave.JPG\"/>"
      ],
      "text/plain": [
       "<IPython.core.display.Image object>"
      ]
     },
     "metadata": {},
     "output_type": "display_data"
    },
    {
     "data": {
      "text/html": [
       "<img src=\"https://upload.wikimedia.org/wikipedia/commons/thumb/1/1b/Nuvola_apps_kaboodle.svg/16px-Nuvola_apps_kaboodle.svg.png\"/>"
      ],
      "text/plain": [
       "<IPython.core.display.Image object>"
      ]
     },
     "metadata": {},
     "output_type": "display_data"
    },
    {
     "data": {
      "text/html": [
       "<img src=\"https://upload.wikimedia.org/wikipedia/commons/thumb/1/13/DisneySchiphol1951.jpg/220px-DisneySchiphol1951.jpg\"/>"
      ],
      "text/plain": [
       "<IPython.core.display.Image object>"
      ]
     },
     "metadata": {},
     "output_type": "display_data"
    },
    {
     "data": {
      "text/html": [
       "<img src=\"https://upload.wikimedia.org/wikipedia/commons/thumb/6/6c/Disney1968.jpg/170px-Disney1968.jpg\"/>"
      ],
      "text/plain": [
       "<IPython.core.display.Image object>"
      ]
     },
     "metadata": {},
     "output_type": "display_data"
    },
    {
     "data": {
      "text/html": [
       "<img src=\"https://upload.wikimedia.org/wikipedia/commons/thumb/b/b0/Disney_Oscar_1953_%28cropped%29.jpg/170px-Disney_Oscar_1953_%28cropped%29.jpg\"/>"
      ],
      "text/plain": [
       "<IPython.core.display.Image object>"
      ]
     },
     "metadata": {},
     "output_type": "display_data"
    },
    {
     "data": {
      "text/html": [
       "<img src=\"https://upload.wikimedia.org/wikipedia/en/thumb/4/4a/Commons-logo.svg/30px-Commons-logo.svg.png\"/>"
      ],
      "text/plain": [
       "<IPython.core.display.Image object>"
      ]
     },
     "metadata": {},
     "output_type": "display_data"
    },
    {
     "data": {
      "text/html": [
       "<img src=\"https://upload.wikimedia.org/wikipedia/commons/thumb/4/4c/Wikisource-logo.svg/38px-Wikisource-logo.svg.png\"/>"
      ],
      "text/plain": [
       "<IPython.core.display.Image object>"
      ]
     },
     "metadata": {},
     "output_type": "display_data"
    },
    {
     "data": {
      "text/html": [
       "<img src=\"https://upload.wikimedia.org/wikipedia/commons/thumb/f/fa/Wikiquote-logo.svg/34px-Wikiquote-logo.svg.png\"/>"
      ],
      "text/plain": [
       "<IPython.core.display.Image object>"
      ]
     },
     "metadata": {},
     "output_type": "display_data"
    },
    {
     "data": {
      "text/html": [
       "<img src=\"https://upload.wikimedia.org/wikipedia/en/thumb/8/8a/OOjs_UI_icon_edit-ltr-progressive.svg/10px-OOjs_UI_icon_edit-ltr-progressive.svg.png\"/>"
      ],
      "text/plain": [
       "<IPython.core.display.Image object>"
      ]
     },
     "metadata": {},
     "output_type": "display_data"
    },
    {
     "data": {
      "text/html": [
       "<img src=\"https://upload.wikimedia.org/wikipedia/en/thumb/8/8a/OOjs_UI_icon_edit-ltr-progressive.svg/10px-OOjs_UI_icon_edit-ltr-progressive.svg.png\"/>"
      ],
      "text/plain": [
       "<IPython.core.display.Image object>"
      ]
     },
     "metadata": {},
     "output_type": "display_data"
    },
    {
     "data": {
      "text/html": [
       "<img src=\"https://upload.wikimedia.org/wikipedia/en/thumb/9/96/Symbol_category_class.svg/16px-Symbol_category_class.svg.png\"/>"
      ],
      "text/plain": [
       "<IPython.core.display.Image object>"
      ]
     },
     "metadata": {},
     "output_type": "display_data"
    },
    {
     "data": {
      "text/html": [
       "<img src=\"https://upload.wikimedia.org/wikipedia/commons/thumb/e/e3/Disneyland_Resort_logo.svg/135px-Disneyland_Resort_logo.svg.png\"/>"
      ],
      "text/plain": [
       "<IPython.core.display.Image object>"
      ]
     },
     "metadata": {},
     "output_type": "display_data"
    },
    {
     "data": {
      "text/html": [
       "<img src=\"https://upload.wikimedia.org/wikipedia/commons/thumb/d/da/Animation_disc.svg/20px-Animation_disc.svg.png\"/>"
      ],
      "text/plain": [
       "<IPython.core.display.Image object>"
      ]
     },
     "metadata": {},
     "output_type": "display_data"
    },
    {
     "data": {
      "text/html": [
       "<img src=\"https://upload.wikimedia.org/wikipedia/en/thumb/6/69/P_vip.svg/19px-P_vip.svg.png\"/>"
      ],
      "text/plain": [
       "<IPython.core.display.Image object>"
      ]
     },
     "metadata": {},
     "output_type": "display_data"
    },
    {
     "data": {
      "text/html": [
       "<img src=\"https://upload.wikimedia.org/wikipedia/commons/thumb/1/1a/Magic_Kingdom_castle.jpg/15px-Magic_Kingdom_castle.jpg\"/>"
      ],
      "text/plain": [
       "<IPython.core.display.Image object>"
      ]
     },
     "metadata": {},
     "output_type": "display_data"
    },
    {
     "data": {
      "text/html": [
       "<img src=\"https://upload.wikimedia.org/wikipedia/en/thumb/e/e7/Video-x-generic.svg/19px-Video-x-generic.svg.png\"/>"
      ],
      "text/plain": [
       "<IPython.core.display.Image object>"
      ]
     },
     "metadata": {},
     "output_type": "display_data"
    },
    {
     "data": {
      "text/html": [
       "<img src=\"https://upload.wikimedia.org/wikipedia/commons/thumb/a/a3/Flag_of_Los_Angeles_County%2C_California.svg/21px-Flag_of_Los_Angeles_County%2C_California.svg.png\"/>"
      ],
      "text/plain": [
       "<IPython.core.display.Image object>"
      ]
     },
     "metadata": {},
     "output_type": "display_data"
    },
    {
     "data": {
      "text/html": [
       "<img src=\"https://upload.wikimedia.org/wikipedia/commons/thumb/8/8c/Blank_television_set.svg/21px-Blank_television_set.svg.png\"/>"
      ],
      "text/plain": [
       "<IPython.core.display.Image object>"
      ]
     },
     "metadata": {},
     "output_type": "display_data"
    },
    {
     "data": {
      "text/html": [
       "<img src=\"https://upload.wikimedia.org/wikipedia/en/thumb/a/a4/Flag_of_the_United_States.svg/21px-Flag_of_the_United_States.svg.png\"/>"
      ],
      "text/plain": [
       "<IPython.core.display.Image object>"
      ]
     },
     "metadata": {},
     "output_type": "display_data"
    },
    {
     "data": {
      "text/html": [
       "<img src=\"https://upload.wikimedia.org/wikipedia/en/thumb/8/8a/OOjs_UI_icon_edit-ltr-progressive.svg/10px-OOjs_UI_icon_edit-ltr-progressive.svg.png\"/>"
      ],
      "text/plain": [
       "<IPython.core.display.Image object>"
      ]
     },
     "metadata": {},
     "output_type": "display_data"
    },
    {
     "data": {
      "text/html": [
       "<img src=\"https://en.wikipedia.org/static/images/footer/wikimedia-button.png\"/>"
      ],
      "text/plain": [
       "<IPython.core.display.Image object>"
      ]
     },
     "metadata": {},
     "output_type": "display_data"
    },
    {
     "data": {
      "text/html": [
       "<img src=\"https://en.wikipedia.org/static/images/footer/poweredby_mediawiki_88x31.png\"/>"
      ],
      "text/plain": [
       "<IPython.core.display.Image object>"
      ]
     },
     "metadata": {},
     "output_type": "display_data"
    }
   ],
   "source": [
    "# Ahora paso a imprimirlas:\n",
    "for e in lista_imgs_url:\n",
    "    display(Image(url=e))"
   ]
  },
  {
   "cell_type": "code",
   "execution_count": null,
   "metadata": {},
   "outputs": [],
   "source": []
  },
  {
   "cell_type": "markdown",
   "metadata": {},
   "source": [
    "#### Retrieve an arbitary Wikipedia page of \"Python\" and create a list of links on that page"
   ]
  },
  {
   "cell_type": "code",
   "execution_count": 69,
   "metadata": {},
   "outputs": [],
   "source": [
    "# This is the url you will scrape in this exercise\n",
    "url ='https://en.wikipedia.org/wiki/Python' "
   ]
  },
  {
   "cell_type": "code",
   "execution_count": 70,
   "metadata": {},
   "outputs": [],
   "source": [
    "driver.get(url)"
   ]
  },
  {
   "cell_type": "code",
   "execution_count": 77,
   "metadata": {},
   "outputs": [
    {
     "data": {
      "text/plain": [
       "143"
      ]
     },
     "execution_count": 77,
     "metadata": {},
     "output_type": "execute_result"
    }
   ],
   "source": [
    "num_links = len(driver.find_elements(By.XPATH, '//li//a'))\n",
    "num_links"
   ]
  },
  {
   "cell_type": "code",
   "execution_count": 80,
   "metadata": {},
   "outputs": [
    {
     "data": {
      "text/plain": [
       "[<selenium.webdriver.remote.webelement.WebElement (session=\"ae83513566c8bf97d7db159cac65205c\", element=\"3CC26C94DAF9829CDE296E092486CCA0_element_1528\")>,\n",
       " <selenium.webdriver.remote.webelement.WebElement (session=\"ae83513566c8bf97d7db159cac65205c\", element=\"3CC26C94DAF9829CDE296E092486CCA0_element_1529\")>,\n",
       " <selenium.webdriver.remote.webelement.WebElement (session=\"ae83513566c8bf97d7db159cac65205c\", element=\"3CC26C94DAF9829CDE296E092486CCA0_element_1530\")>,\n",
       " <selenium.webdriver.remote.webelement.WebElement (session=\"ae83513566c8bf97d7db159cac65205c\", element=\"3CC26C94DAF9829CDE296E092486CCA0_element_1531\")>,\n",
       " <selenium.webdriver.remote.webelement.WebElement (session=\"ae83513566c8bf97d7db159cac65205c\", element=\"3CC26C94DAF9829CDE296E092486CCA0_element_1532\")>,\n",
       " <selenium.webdriver.remote.webelement.WebElement (session=\"ae83513566c8bf97d7db159cac65205c\", element=\"3CC26C94DAF9829CDE296E092486CCA0_element_1533\")>,\n",
       " <selenium.webdriver.remote.webelement.WebElement (session=\"ae83513566c8bf97d7db159cac65205c\", element=\"3CC26C94DAF9829CDE296E092486CCA0_element_1534\")>,\n",
       " <selenium.webdriver.remote.webelement.WebElement (session=\"ae83513566c8bf97d7db159cac65205c\", element=\"3CC26C94DAF9829CDE296E092486CCA0_element_1535\")>,\n",
       " <selenium.webdriver.remote.webelement.WebElement (session=\"ae83513566c8bf97d7db159cac65205c\", element=\"3CC26C94DAF9829CDE296E092486CCA0_element_1536\")>,\n",
       " <selenium.webdriver.remote.webelement.WebElement (session=\"ae83513566c8bf97d7db159cac65205c\", element=\"3CC26C94DAF9829CDE296E092486CCA0_element_1537\")>]"
      ]
     },
     "execution_count": 80,
     "metadata": {},
     "output_type": "execute_result"
    }
   ],
   "source": [
    "# 143 links no parece un número tan raro -> voy a crear una lista de links\n",
    "links = driver.find_elements(By.XPATH, '//li//a')\n",
    "links[:10]"
   ]
  },
  {
   "cell_type": "code",
   "execution_count": 81,
   "metadata": {},
   "outputs": [
    {
     "data": {
      "text/plain": [
       "selenium.webdriver.remote.webelement.WebElement"
      ]
     },
     "execution_count": 81,
     "metadata": {},
     "output_type": "execute_result"
    }
   ],
   "source": [
    "# Tengo que extraer los links de aqui\n",
    "type(links[0])"
   ]
  },
  {
   "cell_type": "code",
   "execution_count": 82,
   "metadata": {},
   "outputs": [
    {
     "data": {
      "text/plain": [
       "'https://en.wikipedia.org/wiki/Main_Page'"
      ]
     },
     "execution_count": 82,
     "metadata": {},
     "output_type": "execute_result"
    }
   ],
   "source": [
    "links[0].get_attribute('href')"
   ]
  },
  {
   "cell_type": "code",
   "execution_count": 83,
   "metadata": {},
   "outputs": [
    {
     "data": {
      "text/plain": [
       "['https://en.wikipedia.org/wiki/Main_Page',\n",
       " 'https://en.wikipedia.org/wiki/Wikipedia:Contents',\n",
       " 'https://en.wikipedia.org/wiki/Portal:Current_events',\n",
       " 'https://en.wikipedia.org/wiki/Special:Random',\n",
       " 'https://en.wikipedia.org/wiki/Wikipedia:About',\n",
       " 'https://en.wikipedia.org/wiki/Wikipedia:Contact_us',\n",
       " 'https://donate.wikimedia.org/wiki/Special:FundraiserRedirector?utm_source=donate&utm_medium=sidebar&utm_campaign=C13_en.wikipedia.org&uselang=en',\n",
       " 'https://en.wikipedia.org/wiki/Help:Contents',\n",
       " 'https://en.wikipedia.org/wiki/Help:Introduction',\n",
       " 'https://en.wikipedia.org/wiki/Wikipedia:Community_portal']"
      ]
     },
     "execution_count": 83,
     "metadata": {},
     "output_type": "execute_result"
    }
   ],
   "source": [
    "# cool, he sacado un link del primer elemento, bucleo para sacar todos los links y meterlos en una lista\n",
    "links_list = []\n",
    "\n",
    "for e in links:\n",
    "    links_list.append(e.get_attribute('href'))\n",
    "\n",
    "links_list[:10]"
   ]
  },
  {
   "cell_type": "code",
   "execution_count": 84,
   "metadata": {},
   "outputs": [
    {
     "data": {
      "text/plain": [
       "['https://en.wikipedia.org/wiki/Main_Page',\n",
       " 'https://en.wikipedia.org/wiki/Wikipedia:Contents',\n",
       " 'https://en.wikipedia.org/wiki/Portal:Current_events',\n",
       " 'https://en.wikipedia.org/wiki/Special:Random',\n",
       " 'https://en.wikipedia.org/wiki/Wikipedia:About',\n",
       " 'https://en.wikipedia.org/wiki/Wikipedia:Contact_us',\n",
       " 'https://donate.wikimedia.org/wiki/Special:FundraiserRedirector?utm_source=donate&utm_medium=sidebar&utm_campaign=C13_en.wikipedia.org&uselang=en',\n",
       " 'https://en.wikipedia.org/wiki/Help:Contents',\n",
       " 'https://en.wikipedia.org/wiki/Help:Introduction',\n",
       " 'https://en.wikipedia.org/wiki/Wikipedia:Community_portal']"
      ]
     },
     "execution_count": 84,
     "metadata": {},
     "output_type": "execute_result"
    }
   ],
   "source": [
    "# Voy a hacerlo en una línea\n",
    "links_lista_guay = [e.get_attribute('href') for e in links]\n",
    "\n",
    "links_lista_guay[:10]"
   ]
  },
  {
   "cell_type": "code",
   "execution_count": 85,
   "metadata": {},
   "outputs": [],
   "source": [
    "# Coooooool"
   ]
  },
  {
   "cell_type": "markdown",
   "metadata": {},
   "source": [
    "#### Number of Titles that have changed in the United States Code since its last release point "
   ]
  },
  {
   "cell_type": "code",
   "execution_count": 103,
   "metadata": {},
   "outputs": [],
   "source": [
    "# This is the url you will scrape in this exercise\n",
    "url = 'http://uscode.house.gov/download/download.shtml'"
   ]
  },
  {
   "cell_type": "code",
   "execution_count": 104,
   "metadata": {},
   "outputs": [],
   "source": [
    "driver.get(url)"
   ]
  },
  {
   "cell_type": "code",
   "execution_count": 105,
   "metadata": {},
   "outputs": [
    {
     "data": {
      "text/plain": [
       "2"
      ]
     },
     "execution_count": 105,
     "metadata": {},
     "output_type": "execute_result"
    }
   ],
   "source": [
    "lista_us = driver.find_elements(By.XPATH, '//div[@class=\"usctitlechanged\"]')\n",
    "len(lista_us)"
   ]
  },
  {
   "cell_type": "code",
   "execution_count": 106,
   "metadata": {},
   "outputs": [],
   "source": [
    "#Hecho -> piden solo el número -> 2"
   ]
  },
  {
   "cell_type": "markdown",
   "metadata": {},
   "source": [
    "#### A Python list with the top ten FBI's Most Wanted names "
   ]
  },
  {
   "cell_type": "code",
   "execution_count": 93,
   "metadata": {},
   "outputs": [],
   "source": [
    "# This is the url you will scrape in this exercise\n",
    "url = 'https://www.fbi.gov/wanted/topten'"
   ]
  },
  {
   "cell_type": "code",
   "execution_count": 94,
   "metadata": {},
   "outputs": [],
   "source": [
    "driver.get(url)"
   ]
  },
  {
   "cell_type": "code",
   "execution_count": 96,
   "metadata": {},
   "outputs": [
    {
     "data": {
      "text/plain": [
       "10"
      ]
     },
     "execution_count": 96,
     "metadata": {},
     "output_type": "execute_result"
    }
   ],
   "source": [
    "malos = driver.find_elements(By.XPATH, '//h3//a')\n",
    "len(malos)"
   ]
  },
  {
   "cell_type": "code",
   "execution_count": 98,
   "metadata": {},
   "outputs": [
    {
     "data": {
      "text/plain": [
       "'ARNOLDO JIMENEZ'"
      ]
     },
     "execution_count": 98,
     "metadata": {},
     "output_type": "execute_result"
    }
   ],
   "source": [
    "malos[0].text"
   ]
  },
  {
   "cell_type": "code",
   "execution_count": 99,
   "metadata": {},
   "outputs": [
    {
     "data": {
      "text/plain": [
       "['ARNOLDO JIMENEZ',\n",
       " 'OMAR ALEXANDER CARDENAS',\n",
       " 'YULAN ADONAY ARCHAGA CARIAS',\n",
       " 'BHADRESHKUMAR CHETANBHAI PATEL',\n",
       " 'DONALD EUGENE FIELDS II',\n",
       " 'RUJA IGNATOVA',\n",
       " 'WILVER VILLEGAS-PALOMINO',\n",
       " 'ALEJANDRO ROSALES CASTILLO',\n",
       " 'ALEXIS FLORES',\n",
       " 'JOSE RODOLFO VILLARREAL-HERNANDEZ']"
      ]
     },
     "execution_count": 99,
     "metadata": {},
     "output_type": "execute_result"
    }
   ],
   "source": [
    "# Lo paso a bucle en una línea\n",
    "[e.text for e in malos]"
   ]
  },
  {
   "cell_type": "code",
   "execution_count": 100,
   "metadata": {},
   "outputs": [],
   "source": [
    "# Coooooool"
   ]
  },
  {
   "cell_type": "markdown",
   "metadata": {},
   "source": [
    "####  20 latest earthquakes info (date, time, latitude, longitude and region name) by the EMSC as a pandas dataframe"
   ]
  },
  {
   "cell_type": "code",
   "execution_count": 107,
   "metadata": {},
   "outputs": [],
   "source": [
    "# This is the url you will scrape in this exercise\n",
    "url = 'https://www.emsc-csem.org/Earthquake/'"
   ]
  },
  {
   "cell_type": "code",
   "execution_count": 108,
   "metadata": {},
   "outputs": [],
   "source": [
    "driver.get(url)"
   ]
  },
  {
   "cell_type": "code",
   "execution_count": 110,
   "metadata": {},
   "outputs": [
    {
     "data": {
      "text/plain": [
       "1"
      ]
     },
     "execution_count": 110,
     "metadata": {},
     "output_type": "execute_result"
    }
   ],
   "source": [
    "tabla = driver.find_elements(By.XPATH, '/html/body/div[3]/div[6]/table')\n",
    "len(tabla)"
   ]
  },
  {
   "cell_type": "code",
   "execution_count": 112,
   "metadata": {},
   "outputs": [
    {
     "data": {
      "text/plain": [
       "'<table class=\"eqs table-scroll\">\\n\\t\\t<thead><tr><th class=\"thico\"></th><th class=\"citiz\" colspan=\"2\"><div>Citizen<br>response</div><div><div class=\"dm comm\"></div><div class=\"dm pic\"></div></div></th>\\n\\t\\t<th class=\"tbdat\">Date &amp; Time<div>UTC</div></th><th class=\"tblat\">Lat.<div>degrees</div></th><th class=\"tblon\">Lon.<div>degrees</div></th><th class=\"tbdep\">Depth<div>km</div></th><th class=\"tbmag\">Mag.<span>[+]</span></th><th class=\"tbreg\">Region</th></tr></thead>\\n\\t\\t<tbody><tr class=\"lilist e_1572977\" data-id=\"1572977\" data-time=\"1698871247.38\"><td class=\"tbico\"></td><td class=\"tdcom\"></td><td class=\"tdpic\"></td><td class=\"tbdat\"><a href=\"/Earthquake_information/earthquake.php?id=1572977\">2023-11-01 20:40:47<div class=\"tago\" data-t=\"1698871247.38\">6 min ago</div></a></td><td class=\"tblat\">39.163</td><td class=\"tblon\">-123.064</td><td class=\"tbdep\">5</td><td class=\"tbmagtyp\">MD</td><td class=\"tbmag\">2.2</td><td class=\"tbreg\" title=\"NORTHERN CALIFORNIA\">NORTHERN CALIFORNIA</td></tr><tr class=\"lilist e_1572975\" data-id=\"1572975\" data-time=\"1698869508.7\"><td class=\"tbico\"></td><td class=\"tdcom\"></td><td class=\"tdpic\"></td><td class=\"tbdat\"><a href=\"/Earthquake_information/earthquake.php?id=1572975\">2023-11-01 20:11:48<div class=\"tago\" data-t=\"1698869508.7\">35 min ago</div></a></td><td class=\"tblat\">37.999</td><td class=\"tblon\">36.332</td><td class=\"tbdep\">5</td><td class=\"tbmagtyp\">ML</td><td class=\"tbmag\">3.2</td><td class=\"tbreg\" title=\"CENTRAL TURKEY\">CENTRAL TURKEY</td></tr><tr class=\"lilist e_1572974\" data-id=\"1572974\" data-time=\"1698869217\"><td class=\"tbico\"></td><td class=\"tdcom\"></td><td class=\"tdpic\"></td><td class=\"tbdat\"><a href=\"/Earthquake_information/earthquake.php?id=1572974\">2023-11-01 20:06:57<div class=\"tago\" data-t=\"1698869217\">40 min ago</div></a></td><td class=\"tblat\">-8.390</td><td class=\"tblon\">121.590</td><td class=\"tbdep\">11</td><td class=\"tbmagtyp\">M</td><td class=\"tbmag\">4.2</td><td class=\"tbreg\" title=\"FLORES REGION, INDONESIA\">FLORES REGION, INDONESIA</td></tr><tr class=\"lilist e_1572972\" data-id=\"1572972\" data-time=\"1698869068.38\"><td class=\"tbico\"></td><td class=\"tdcom\"></td><td class=\"tdpic\"></td><td class=\"tbdat\"><a href=\"/Earthquake_information/earthquake.php?id=1572972\">2023-11-01 20:04:28<div class=\"tago\" data-t=\"1698869068.38\">43 min ago</div></a></td><td class=\"tblat\">27.958</td><td class=\"tblon\">-15.164</td><td class=\"tbdep\">9</td><td class=\"tbmagtyp\">ML</td><td class=\"tbmag\">3.0</td><td class=\"tbreg\" title=\"CANARY ISLANDS, SPAIN REGION\">CANARY ISLANDS, SPAIN REGION</td></tr><tr class=\"lilist e_1572973\" data-id=\"1572973\" data-time=\"1698868864\"><td class=\"tbico\"></td><td class=\"tdcom\"></td><td class=\"tdpic\"></td><td class=\"tbdat\"><a href=\"/Earthquake_information/earthquake.php?id=1572973\">2023-11-01 20:01:04<div class=\"tago\" data-t=\"1698868864\">46 min ago</div></a></td><td class=\"tblat\">8.746</td><td class=\"tblon\">-82.931</td><td class=\"tbdep\">19</td><td class=\"tbmagtyp\">M</td><td class=\"tbmag\">3.0</td><td class=\"tbreg\" title=\"PANAMA-COSTA RICA BORDER REGION\">PANAMA-COSTA RICA BORDER REGION</td></tr><tr class=\"lilist e_1572971\" data-id=\"1572971\" data-time=\"1698868509.212613\"><td class=\"tbico\"></td><td class=\"tdcom\"></td><td class=\"tdpic\"></td><td class=\"tbdat\"><a href=\"/Earthquake_information/earthquake.php?id=1572971\">2023-11-01 19:55:09<div class=\"tago\" data-t=\"1698868509.212613\">52 min ago</div></a></td><td class=\"tblat\">-42.704</td><td class=\"tblon\">172.742</td><td class=\"tbdep\">12</td><td class=\"tbmagtyp\">M</td><td class=\"tbmag\">3.1</td><td class=\"tbreg\" title=\"SOUTH ISLAND OF NEW ZEALAND\">SOUTH ISLAND OF NEW ZEALAND</td></tr><tr class=\"lilist e_1572969\" data-id=\"1572969\" data-time=\"1698867696.81\"><td class=\"tbico\"></td><td class=\"tdcom\"></td><td class=\"tdpic\"></td><td class=\"tbdat\"><a href=\"/Earthquake_information/earthquake.php?id=1572969\">2023-11-01 19:41:36<div class=\"tago\" data-t=\"1698867696.81\">1 hr  05 min ago</div></a></td><td class=\"tblat\">19.617</td><td class=\"tblon\">-155.941</td><td class=\"tbdep\">13</td><td class=\"tbmagtyp\">MD</td><td class=\"tbmag\">2.1</td><td class=\"tbreg\" title=\"ISLAND OF HAWAII, HAWAII\">ISLAND OF HAWAII, HAWAII</td></tr><tr class=\"lilist e_1572968\" data-id=\"1572968\" data-time=\"1698867367\"><td class=\"tbico\"></td><td class=\"tdcom\"></td><td class=\"tdpic\"></td><td class=\"tbdat\"><a href=\"/Earthquake_information/earthquake.php?id=1572968\">2023-11-01 19:36:07<div class=\"tago\" data-t=\"1698867367\">1 hr  11 min ago</div></a></td><td class=\"tblat\">-22.390</td><td class=\"tblon\">-68.930</td><td class=\"tbdep\">111</td><td class=\"tbmagtyp\">ML</td><td class=\"tbmag\">3.1</td><td class=\"tbreg\" title=\"ANTOFAGASTA, CHILE\">ANTOFAGASTA, CHILE</td></tr><tr class=\"lilist e_1572964\" data-id=\"1572964\" data-time=\"1698866587\"><td class=\"tbico\"></td><td class=\"tdcom\"></td><td class=\"tdpic\"></td><td class=\"tbdat\"><a href=\"/Earthquake_information/earthquake.php?id=1572964\">2023-11-01 19:23:07<div class=\"tago\" data-t=\"1698866587\">1 hr  24 min ago</div></a></td><td class=\"tblat\">17.780</td><td class=\"tblon\">120.630</td><td class=\"tbdep\">14</td><td class=\"tbmagtyp\">M</td><td class=\"tbmag\">3.0</td><td class=\"tbreg\" title=\"LUZON, PHILIPPINES\">LUZON, PHILIPPINES</td></tr><tr class=\"lilist e_1572962\" data-id=\"1572962\" data-time=\"1698866033\"><td class=\"tbico\"></td><td class=\"tdcom\"></td><td class=\"tdpic\"></td><td class=\"tbdat\"><a href=\"/Earthquake_information/earthquake.php?id=1572962\">2023-11-01 19:13:53<div class=\"tago\" data-t=\"1698866033\">1 hr  33 min ago</div></a></td><td class=\"tblat\">12.470</td><td class=\"tblon\">-88.050</td><td class=\"tbdep\">32</td><td class=\"tbmagtyp\">M</td><td class=\"tbmag\">2.8</td><td class=\"tbreg\" title=\"NEAR COAST OF NICARAGUA\">NEAR COAST OF NICARAGUA</td></tr><tr class=\"lilist e_1572958\" data-id=\"1572958\" data-time=\"1698865225\"><td class=\"tbico\"></td><td class=\"tdcom\"></td><td class=\"tdpic\"></td><td class=\"tbdat\"><a href=\"/Earthquake_information/earthquake.php?id=1572958\">2023-11-01 19:00:25<div class=\"tago\" data-t=\"1698865225\">1 hr  47 min ago</div></a></td><td class=\"tblat\">-33.150</td><td class=\"tblon\">-70.270</td><td class=\"tbdep\">15</td><td class=\"tbmagtyp\">ML</td><td class=\"tbmag\">2.6</td><td class=\"tbreg\" title=\"REGION METROPOLITANA, CHILE\">REGION METROPOLITANA, CHILE</td></tr><tr class=\"lilist e_1572954\" data-id=\"1572954\" data-time=\"1698863945\"><td class=\"tbico\"></td><td class=\"tdcom\"></td><td class=\"tdpic\"></td><td class=\"tbdat\"><a href=\"/Earthquake_information/earthquake.php?id=1572954\">2023-11-01 18:39:05<div class=\"tago\" data-t=\"1698863945\">2 hr  08 min ago</div></a></td><td class=\"tblat\">-29.410</td><td class=\"tblon\">-69.920</td><td class=\"tbdep\">121</td><td class=\"tbmagtyp\">M</td><td class=\"tbmag\">3.0</td><td class=\"tbreg\" title=\"SAN JUAN, ARGENTINA\">SAN JUAN, ARGENTINA</td></tr><tr class=\"lilist e_1572952\" data-id=\"1572952\" data-time=\"1698863737\"><td class=\"tbico\"></td><td class=\"tdcom\"></td><td class=\"tdpic\"></td><td class=\"tbdat\"><a href=\"/Earthquake_information/earthquake.php?id=1572952\">2023-11-01 18:35:37<div class=\"tago\" data-t=\"1698863737\">2 hr  11 min ago</div></a></td><td class=\"tblat\">-24.250</td><td class=\"tblon\">-67.280</td><td class=\"tbdep\">210</td><td class=\"tbmagtyp\">ML</td><td class=\"tbmag\">3.8</td><td class=\"tbreg\" title=\"SALTA, ARGENTINA\">SALTA, ARGENTINA</td></tr><tr class=\"lilist e_1572961\" data-id=\"1572961\" data-time=\"1698863610\"><td class=\"tbico\"></td><td class=\"tdcom\"></td><td class=\"tdpic\"></td><td class=\"tbdat\"><a href=\"/Earthquake_information/earthquake.php?id=1572961\">2023-11-01 18:33:30<div class=\"tago\" data-t=\"1698863610\">2 hr  14 min ago</div></a></td><td class=\"tblat\">9.306</td><td class=\"tblon\">-85.372</td><td class=\"tbdep\">27</td><td class=\"tbmagtyp\">M</td><td class=\"tbmag\">4.0</td><td class=\"tbreg\" title=\"OFF COAST OF COSTA RICA\">OFF COAST OF COSTA RICA</td></tr><tr class=\"lilist e_1572951\" data-id=\"1572951\" data-time=\"1698861009.7\"><td class=\"tbico\"></td><td class=\"tdcom\"></td><td class=\"tdpic\"></td><td class=\"tbdat\"><a href=\"/Earthquake_information/earthquake.php?id=1572951\">2023-11-01 17:50:09<div class=\"tago\" data-t=\"1698861009.7\">2 hr  57 min ago</div></a></td><td class=\"tblat\">38.478</td><td class=\"tblon\">39.474</td><td class=\"tbdep\">5</td><td class=\"tbmagtyp\">ML</td><td class=\"tbmag\">3.1</td><td class=\"tbreg\" title=\"EASTERN TURKEY\">EASTERN TURKEY</td></tr><tr class=\"lilist e_1572948\" data-id=\"1572948\" data-time=\"1698857912.84\"><td class=\"tbico\"></td><td class=\"tdcom\"></td><td class=\"tdpic\"></td><td class=\"tbdat\"><a href=\"/Earthquake_information/earthquake.php?id=1572948\">2023-11-01 16:58:32<div class=\"tago\" data-t=\"1698857912.84\">3 hr  48 min ago</div></a></td><td class=\"tblat\">17.970</td><td class=\"tblon\">-66.882</td><td class=\"tbdep\">13</td><td class=\"tbmagtyp\">MD</td><td class=\"tbmag\">2.3</td><td class=\"tbreg\" title=\"PUERTO RICO\">PUERTO RICO</td></tr><tr class=\"lilist e_1572943\" data-id=\"1572943\" data-time=\"1698857627\"><td class=\"tbico\"></td><td class=\"tdcom\"></td><td class=\"tdpic\"></td><td class=\"tbdat\"><a href=\"/Earthquake_information/earthquake.php?id=1572943\">2023-11-01 16:53:47<div class=\"tago\" data-t=\"1698857627\">3 hr  53 min ago</div></a></td><td class=\"tblat\">29.760</td><td class=\"tblon\">140.410</td><td class=\"tbdep\">150</td><td class=\"tbmagtyp\">mb</td><td class=\"tbmag\">4.7</td><td class=\"tbreg\" title=\"IZU ISLANDS, JAPAN REGION\">IZU ISLANDS, JAPAN REGION</td></tr><tr class=\"lilist e_1572944\" data-id=\"1572944\" data-time=\"1698857595.09\"><td class=\"tbico\"></td><td class=\"tdcom\"></td><td class=\"tdpic\"></td><td class=\"tbdat\"><a href=\"/Earthquake_information/earthquake.php?id=1572944\">2023-11-01 16:53:15<div class=\"tago\" data-t=\"1698857595.09\">3 hr  54 min ago</div></a></td><td class=\"tblat\">28.049</td><td class=\"tblon\">-17.147</td><td class=\"tbdep\">12</td><td class=\"tbmagtyp\">ML</td><td class=\"tbmag\">2.1</td><td class=\"tbreg\" title=\"CANARY ISLANDS, SPAIN REGION\">CANARY ISLANDS, SPAIN REGION</td></tr><tr class=\"lilist e_1572945\" data-id=\"1572945\" data-time=\"1698857481\"><td class=\"tbico\"></td><td class=\"tdcom\"></td><td class=\"tdpic\"></td><td class=\"tbdat\"><a href=\"/Earthquake_information/earthquake.php?id=1572945\">2023-11-01 16:51:21<div class=\"tago\" data-t=\"1698857481\">3 hr  56 min ago</div></a></td><td class=\"tblat\">-0.550</td><td class=\"tblon\">122.930</td><td class=\"tbdep\">10</td><td class=\"tbmagtyp\">M</td><td class=\"tbmag\">2.9</td><td class=\"tbreg\" title=\"SULAWESI, INDONESIA\">SULAWESI, INDONESIA</td></tr><tr class=\"lilist e_1572942\" data-id=\"1572942\" data-time=\"1698856594\"><td class=\"tbico\"></td><td class=\"tdcom\"></td><td class=\"tdpic\"></td><td class=\"tbdat\"><a href=\"/Earthquake_information/earthquake.php?id=1572942\">2023-11-01 16:36:34<div class=\"tago\" data-t=\"1698856594\">4 hr  10 min ago</div></a></td><td class=\"tblat\">7.371</td><td class=\"tblon\">-80.606</td><td class=\"tbdep\">8</td><td class=\"tbmagtyp\">M</td><td class=\"tbmag\">3.3</td><td class=\"tbreg\" title=\"PANAMA\">PANAMA</td></tr><tr class=\"lilist e_1572939\" data-id=\"1572939\" data-time=\"1698856422\"><td class=\"tbico\"></td><td class=\"tdcom\"></td><td class=\"tdpic\"></td><td class=\"tbdat\"><a href=\"/Earthquake_information/earthquake.php?id=1572939\">2023-11-01 16:33:42<div class=\"tago\" data-t=\"1698856422\">4 hr  13 min ago</div></a></td><td class=\"tblat\">-9.130</td><td class=\"tblon\">117.510</td><td class=\"tbdep\">10</td><td class=\"tbmagtyp\">M</td><td class=\"tbmag\">3.3</td><td class=\"tbreg\" title=\"SUMBAWA REGION, INDONESIA\">SUMBAWA REGION, INDONESIA</td></tr><tr class=\"lilist e_1572940\" data-id=\"1572940\" data-time=\"1698856344\"><td class=\"tbico\"></td><td class=\"tdcom\"></td><td class=\"tdpic\"></td><td class=\"tbdat\"><a href=\"/Earthquake_information/earthquake.php?id=1572940\">2023-11-01 16:32:24<div class=\"tago\" data-t=\"1698856344\">4 hr  15 min ago</div></a></td><td class=\"tblat\">-9.090</td><td class=\"tblon\">117.500</td><td class=\"tbdep\">10</td><td class=\"tbmagtyp\">M</td><td class=\"tbmag\">3.3</td><td class=\"tbreg\" title=\"SUMBAWA REGION, INDONESIA\">SUMBAWA REGION, INDONESIA</td></tr><tr class=\"lilist e_1572937\" data-id=\"1572937\" data-time=\"1698855929\"><td class=\"tbico\"></td><td class=\"tdcom\"></td><td class=\"tdpic\"></td><td class=\"tbdat\"><a href=\"/Earthquake_information/earthquake.php?id=1572937\">2023-11-01 16:25:29<div class=\"tago\" data-t=\"1698855929\">4 hr  22 min ago</div></a></td><td class=\"tblat\">-0.800</td><td class=\"tblon\">126.840</td><td class=\"tbdep\">10</td><td class=\"tbmagtyp\">M</td><td class=\"tbmag\">3.5</td><td class=\"tbreg\" title=\"MOLUCCA SEA\">MOLUCCA SEA</td></tr><tr class=\"lilist e_1572938\" data-id=\"1572938\" data-time=\"1698855703\"><td class=\"tbico\"></td><td class=\"tdcom\"></td><td class=\"tdpic\"></td><td class=\"tbdat\"><a href=\"/Earthquake_information/earthquake.php?id=1572938\">2023-11-01 16:21:43<div class=\"tago\" data-t=\"1698855703\">4 hr  25 min ago</div></a></td><td class=\"tblat\">-3.710</td><td class=\"tblon\">131.230</td><td class=\"tbdep\">10</td><td class=\"tbmagtyp\">M</td><td class=\"tbmag\">3.8</td><td class=\"tbreg\" title=\"CERAM SEA, INDONESIA\">CERAM SEA, INDONESIA</td></tr><tr class=\"lilist e_1572936\" data-id=\"1572936\" data-time=\"1698854917\"><td class=\"tbico\"></td><td class=\"tdcom\"></td><td class=\"tdpic\"></td><td class=\"tbdat\"><a href=\"/Earthquake_information/earthquake.php?id=1572936\">2023-11-01 16:08:37<div class=\"tago\" data-t=\"1698854917\">4 hr  38 min ago</div></a></td><td class=\"tblat\">-32.700</td><td class=\"tblon\">-71.690</td><td class=\"tbdep\">35</td><td class=\"tbmagtyp\">ML</td><td class=\"tbmag\">2.6</td><td class=\"tbreg\" title=\"OFFSHORE VALPARAISO, CHILE\">OFFSHORE VALPARAISO, CHILE</td></tr><tr class=\"lilist e_1572932\" data-id=\"1572932\" data-time=\"1698853987.5\"><td class=\"tbico\"></td><td class=\"tdcom\"></td><td class=\"tdpic\"></td><td class=\"tbdat\"><a href=\"/Earthquake_information/earthquake.php?id=1572932\">2023-11-01 15:53:07<div class=\"tago\" data-t=\"1698853987.5\">4 hr  54 min ago</div></a></td><td class=\"tblat\">61.855</td><td class=\"tblon\">-148.042</td><td class=\"tbdep\">23</td><td class=\"tbmagtyp\">ML</td><td class=\"tbmag\">3.8</td><td class=\"tbreg\" title=\"SOUTHERN ALASKA\">SOUTHERN ALASKA</td></tr><tr class=\"lilist e_1572931\" data-id=\"1572931\" data-time=\"1698853012\"><td class=\"tbico\"></td><td class=\"tdcom\"></td><td class=\"tdpic\"></td><td class=\"tbdat\"><a href=\"/Earthquake_information/earthquake.php?id=1572931\">2023-11-01 15:36:52<div class=\"tago\" data-t=\"1698853012\">5 hr  10 min ago</div></a></td><td class=\"tblat\">11.940</td><td class=\"tblon\">-86.820</td><td class=\"tbdep\">44</td><td class=\"tbmagtyp\">M</td><td class=\"tbmag\">3.6</td><td class=\"tbreg\" title=\"NEAR COAST OF NICARAGUA\">NEAR COAST OF NICARAGUA</td></tr><tr class=\"lilist e_1572929\" data-id=\"1572929\" data-time=\"1698852182\"><td class=\"tbico\"></td><td class=\"tdcom\"></td><td class=\"tdpic\"></td><td class=\"tbdat\"><a href=\"/Earthquake_information/earthquake.php?id=1572929\">2023-11-01 15:23:02<div class=\"tago\" data-t=\"1698852182\">5 hr  24 min ago</div></a></td><td class=\"tblat\">-21.190</td><td class=\"tblon\">-68.910</td><td class=\"tbdep\">111</td><td class=\"tbmagtyp\">ML</td><td class=\"tbmag\">2.6</td><td class=\"tbreg\" title=\"TARAPACA, CHILE\">TARAPACA, CHILE</td></tr><tr class=\"lilist e_1572926\" data-id=\"1572926\" data-time=\"1698851653.47\"><td class=\"tbico\"></td><td class=\"tdcom\"></td><td class=\"tdpic\"></td><td class=\"tbdat\"><a href=\"/Earthquake_information/earthquake.php?id=1572926\">2023-11-01 15:14:13<div class=\"tago\" data-t=\"1698851653.47\">5 hr  33 min ago</div></a></td><td class=\"tblat\">36.891</td><td class=\"tblon\">-2.999</td><td class=\"tbdep\">13</td><td class=\"tbmagtyp\">ML</td><td class=\"tbmag\">2.2</td><td class=\"tbreg\" title=\"STRAIT OF GIBRALTAR\">STRAIT OF GIBRALTAR</td></tr><tr class=\"lilist e_1572927\" data-id=\"1572927\" data-time=\"1698851349\"><td class=\"tbico\"></td><td class=\"tdcom\"></td><td class=\"tdpic\"></td><td class=\"tbdat\"><a href=\"/Earthquake_information/earthquake.php?id=1572927\">2023-11-01 15:09:09<div class=\"tago\" data-t=\"1698851349\">5 hr  38 min ago</div></a></td><td class=\"tblat\">11.840</td><td class=\"tblon\">125.640</td><td class=\"tbdep\">19</td><td class=\"tbmagtyp\">M</td><td class=\"tbmag\">3.0</td><td class=\"tbreg\" title=\"SAMAR, PHILIPPINES\">SAMAR, PHILIPPINES</td></tr><tr class=\"lilist e_1572925\" data-id=\"1572925\" data-time=\"1698851012.41\"><td class=\"tbico\"></td><td class=\"tdcom\"></td><td class=\"tdpic\"></td><td class=\"tbdat\"><a href=\"/Earthquake_information/earthquake.php?id=1572925\">2023-11-01 15:03:32<div class=\"tago\" data-t=\"1698851012.41\">5 hr  43 min ago</div></a></td><td class=\"tblat\">40.528</td><td class=\"tblon\">-123.568</td><td class=\"tbdep\">5</td><td class=\"tbmagtyp\">MD</td><td class=\"tbmag\">2.4</td><td class=\"tbreg\" title=\"NORTHERN CALIFORNIA\">NORTHERN CALIFORNIA</td></tr><tr class=\"lilist e_1572920\" data-id=\"1572920\" data-time=\"1698850186.38\"><td class=\"tbico\"></td><td class=\"tdcom\"></td><td class=\"tdpic\"></td><td class=\"tbdat\"><a href=\"/Earthquake_information/earthquake.php?id=1572920\">2023-11-01 14:49:46<div class=\"tago\" data-t=\"1698850186.38\">5 hr  57 min ago</div></a></td><td class=\"tblat\">59.976</td><td class=\"tblon\">10.946</td><td class=\"tbdep\">8</td><td class=\"tbmagtyp\">mb</td><td class=\"tbmag\">3.0</td><td class=\"tbreg\" title=\"SOUTHERN NORWAY\">SOUTHERN NORWAY</td></tr><tr class=\"lilist e_1572921\" data-id=\"1572921\" data-time=\"1698849925\"><td class=\"tbico\"></td><td class=\"tdcom\"></td><td class=\"tdpic\"></td><td class=\"tbdat\"><a href=\"/Earthquake_information/earthquake.php?id=1572921\">2023-11-01 14:45:25<div class=\"tago\" data-t=\"1698849925\">6 hr  02 min ago</div></a></td><td class=\"tblat\">0.140</td><td class=\"tblon\">124.260</td><td class=\"tbdep\">75</td><td class=\"tbmagtyp\">M</td><td class=\"tbmag\">3.5</td><td class=\"tbreg\" title=\"MINAHASA, SULAWESI, INDONESIA\">MINAHASA, SULAWESI, INDONESIA</td></tr><tr class=\"lilist e_1572914\" data-id=\"1572914\" data-time=\"1698849482.07\"><td class=\"tbico\"></td><td class=\"tdcom\"></td><td class=\"tdpic\"></td><td class=\"tbdat\"><a href=\"/Earthquake_information/earthquake.php?id=1572914\">2023-11-01 14:38:02<div class=\"tago\" data-t=\"1698849482.07\">6 hr  09 min ago</div></a></td><td class=\"tblat\">36.839</td><td class=\"tblon\">-3.007</td><td class=\"tbdep\">13</td><td class=\"tbmagtyp\">ML</td><td class=\"tbmag\">1.8</td><td class=\"tbreg\" title=\"STRAIT OF GIBRALTAR\">STRAIT OF GIBRALTAR</td></tr><tr class=\"lilist e_1572915\" data-id=\"1572915\" data-time=\"1698849325\"><td class=\"tbico\"></td><td class=\"tdcom\"></td><td class=\"tdpic\"></td><td class=\"tbdat\"><a href=\"/Earthquake_information/earthquake.php?id=1572915\">2023-11-01 14:35:25<div class=\"tago\" data-t=\"1698849325\">6 hr  12 min ago</div></a></td><td class=\"tblat\">13.820</td><td class=\"tblon\">120.520</td><td class=\"tbdep\">50</td><td class=\"tbmagtyp\">M</td><td class=\"tbmag\">3.6</td><td class=\"tbreg\" title=\"MINDORO, PHILIPPINES\">MINDORO, PHILIPPINES</td></tr><tr class=\"lilist e_1572913\" data-id=\"1572913\" data-time=\"1698849221.2\"><td class=\"tbico\"></td><td class=\"tdcom\"></td><td class=\"tdpic\"></td><td class=\"tbdat\"><a href=\"/Earthquake_information/earthquake.php?id=1572913\">2023-11-01 14:33:41<div class=\"tago\" data-t=\"1698849221.2\">6 hr  13 min ago</div></a></td><td class=\"tblat\">37.600</td><td class=\"tblon\">21.830</td><td class=\"tbdep\">11</td><td class=\"tbmagtyp\">ML</td><td class=\"tbmag\">2.5</td><td class=\"tbreg\" title=\"SOUTHERN GREECE\">SOUTHERN GREECE</td></tr><tr class=\"lilist e_1572911\" data-id=\"1572911\" data-time=\"1698849021.65\"><td class=\"tbico\"></td><td class=\"tdcom\"></td><td class=\"tdpic\"></td><td class=\"tbdat\"><a href=\"/Earthquake_information/earthquake.php?id=1572911\">2023-11-01 14:30:21<div class=\"tago\" data-t=\"1698849021.65\">6 hr  17 min ago</div></a></td><td class=\"tblat\">19.402</td><td class=\"tblon\">-155.264</td><td class=\"tbdep\">4</td><td class=\"tbmagtyp\">MD</td><td class=\"tbmag\">2.0</td><td class=\"tbreg\" title=\"ISLAND OF HAWAII, HAWAII\">ISLAND OF HAWAII, HAWAII</td></tr><tr class=\"lilist e_1572912\" data-id=\"1572912\" data-time=\"1698848967\"><td class=\"tbico\"></td><td class=\"tdcom\"></td><td class=\"tdpic\"></td><td class=\"tbdat\"><a href=\"/Earthquake_information/earthquake.php?id=1572912\">2023-11-01 14:29:27<div class=\"tago\" data-t=\"1698848967\">6 hr  18 min ago</div></a></td><td class=\"tblat\">37.875</td><td class=\"tblon\">36.335</td><td class=\"tbdep\">3</td><td class=\"tbmagtyp\">ML</td><td class=\"tbmag\">2.1</td><td class=\"tbreg\" title=\"CENTRAL TURKEY\">CENTRAL TURKEY</td></tr><tr class=\"lilist e_1572916\" data-id=\"1572916\" data-time=\"1698848790\"><td class=\"tbico\"></td><td class=\"tdcom\"></td><td class=\"tdpic\"></td><td class=\"tbdat\"><a href=\"/Earthquake_information/earthquake.php?id=1572916\">2023-11-01 14:26:30<div class=\"tago\" data-t=\"1698848790\">6 hr  21 min ago</div></a></td><td class=\"tblat\">-24.003</td><td class=\"tblon\">-66.809</td><td class=\"tbdep\">218</td><td class=\"tbmagtyp\">M</td><td class=\"tbmag\">3.0</td><td class=\"tbreg\" title=\"JUJUY, ARGENTINA\">JUJUY, ARGENTINA</td></tr><tr class=\"lilist e_1572907\" data-id=\"1572907\" data-time=\"1698847858.56\"><td class=\"tbico\"></td><td class=\"tdcom\"></td><td class=\"tdpic\"></td><td class=\"tbdat\"><a href=\"/Earthquake_information/earthquake.php?id=1572907\">2023-11-01 14:10:58<div class=\"tago\" data-t=\"1698847858.56\">6 hr  36 min ago</div></a></td><td class=\"tblat\">19.483</td><td class=\"tblon\">-155.489</td><td class=\"tbdep\">-0</td><td class=\"tbmagtyp\">ML</td><td class=\"tbmag\">2.5</td><td class=\"tbreg\" title=\"ISLAND OF HAWAII, HAWAII\">ISLAND OF HAWAII, HAWAII</td></tr><tr class=\"lilist e_1572909\" data-id=\"1572909\" data-time=\"1698847741.3\"><td class=\"tbico\"></td><td class=\"tdcom\"></td><td class=\"tdpic\"></td><td class=\"tbdat\"><a href=\"/Earthquake_information/earthquake.php?id=1572909\">2023-11-01 14:09:01<div class=\"tago\" data-t=\"1698847741.3\">6 hr  38 min ago</div></a></td><td class=\"tblat\">36.796</td><td class=\"tblon\">-3.026</td><td class=\"tbdep\">9</td><td class=\"tbmagtyp\">ML</td><td class=\"tbmag\">2.2</td><td class=\"tbreg\" title=\"STRAIT OF GIBRALTAR\">STRAIT OF GIBRALTAR</td></tr><tr class=\"lilist e_1572906\" data-id=\"1572906\" data-time=\"1698847668.239\"><td class=\"tbico\"></td><td class=\"tdcom\"></td><td class=\"tdpic\"></td><td class=\"tbdat\"><a href=\"/Earthquake_information/earthquake.php?id=1572906\">2023-11-01 14:07:48<div class=\"tago\" data-t=\"1698847668.239\">6 hr  39 min ago</div></a></td><td class=\"tblat\">-8.333</td><td class=\"tblon\">121.545</td><td class=\"tbdep\">13</td><td class=\"tbmagtyp\">mb</td><td class=\"tbmag\">5.1</td><td class=\"tbreg\" title=\"FLORES REGION, INDONESIA\">FLORES REGION, INDONESIA</td></tr><tr class=\"lilist e_1572889\" data-id=\"1572889\" data-time=\"1698847240.59\"><td class=\"tbico\"></td><td class=\"tdcom\"></td><td class=\"tdpic\"></td><td class=\"tbdat\"><a href=\"/Earthquake_information/earthquake.php?id=1572889\">2023-11-01 14:00:40<div class=\"tago\" data-t=\"1698847240.59\">6 hr  46 min ago</div></a></td><td class=\"tblat\">45.943</td><td class=\"tblon\">13.823</td><td class=\"tbdep\">6</td><td class=\"tbmagtyp\">ML</td><td class=\"tbmag\">1.2</td><td class=\"tbreg\" title=\"SLOVENIA\">SLOVENIA</td></tr><tr class=\"lilist e_1572904\" data-id=\"1572904\" data-time=\"1698847048.7\"><td class=\"tbico\"></td><td class=\"tdcom\"></td><td class=\"tdpic\"></td><td class=\"tbdat\"><a href=\"/Earthquake_information/earthquake.php?id=1572904\">2023-11-01 13:57:28<div class=\"tago\" data-t=\"1698847048.7\">6 hr  50 min ago</div></a></td><td class=\"tblat\">37.870</td><td class=\"tblon\">36.359</td><td class=\"tbdep\">5</td><td class=\"tbmagtyp\">ML</td><td class=\"tbmag\">2.7</td><td class=\"tbreg\" title=\"CENTRAL TURKEY\">CENTRAL TURKEY</td></tr><tr class=\"lilist e_1572888\" data-id=\"1572888\" data-time=\"1698846615.83\"><td class=\"tbico\"></td><td class=\"tdcom\"></td><td class=\"tdpic\"></td><td class=\"tbdat\"><a href=\"/Earthquake_information/earthquake.php?id=1572888\">2023-11-01 13:50:15<div class=\"tago\" data-t=\"1698846615.83\">6 hr  57 min ago</div></a></td><td class=\"tblat\">45.937</td><td class=\"tblon\">10.947</td><td class=\"tbdep\">6</td><td class=\"tbmagtyp\">ML</td><td class=\"tbmag\">1.1</td><td class=\"tbreg\" title=\"NORTHERN ITALY\">NORTHERN ITALY</td></tr><tr class=\"lilist e_1572887\" data-id=\"1572887\" data-time=\"1698846389.49\"><td class=\"tbico\"></td><td class=\"tdcom\"></td><td class=\"tdpic\"></td><td class=\"tbdat\"><a href=\"/Earthquake_information/earthquake.php?id=1572887\">2023-11-01 13:46:29<div class=\"tago\" data-t=\"1698846389.49\">7 hr  01 min ago</div></a></td><td class=\"tblat\">39.161</td><td class=\"tblon\">20.542</td><td class=\"tbdep\">4</td><td class=\"tbmagtyp\">ML</td><td class=\"tbmag\">2.0</td><td class=\"tbreg\" title=\"GREECE\">GREECE</td></tr><tr class=\"lilist e_1572886\" data-id=\"1572886\" data-time=\"1698846277\"><td class=\"tbico\"></td><td class=\"tdcom\"></td><td class=\"tdpic\"></td><td class=\"tbdat\"><a href=\"/Earthquake_information/earthquake.php?id=1572886\">2023-11-01 13:44:37<div class=\"tago\" data-t=\"1698846277\">7 hr  02 min ago</div></a></td><td class=\"tblat\">-2.960</td><td class=\"tblon\">128.840</td><td class=\"tbdep\">10</td><td class=\"tbmagtyp\">M</td><td class=\"tbmag\">2.6</td><td class=\"tbreg\" title=\"CERAM SEA, INDONESIA\">CERAM SEA, INDONESIA</td></tr><tr class=\"lilist e_1572885\" data-id=\"1572885\" data-time=\"1698846225.9\"><td class=\"tbico\"></td><td class=\"tdcom\"></td><td class=\"tdpic\"></td><td class=\"tbdat\"><a href=\"/Earthquake_information/earthquake.php?id=1572885\">2023-11-01 13:43:45<div class=\"tago\" data-t=\"1698846225.9\">7 hr  03 min ago</div></a></td><td class=\"tblat\">35.760</td><td class=\"tblon\">26.920</td><td class=\"tbdep\">33</td><td class=\"tbmagtyp\">ML</td><td class=\"tbmag\">2.2</td><td class=\"tbreg\" title=\"CRETE, GREECE\">CRETE, GREECE</td></tr><tr class=\"lilist e_1572879\" data-id=\"1572879\" data-time=\"1698845272\"><td class=\"tbico\"></td><td class=\"tdcom\"></td><td class=\"tdpic\"></td><td class=\"tbdat\"><a href=\"/Earthquake_information/earthquake.php?id=1572879\">2023-11-01 13:27:52<div class=\"tago\" data-t=\"1698845272\">7 hr  19 min ago</div></a></td><td class=\"tblat\">41.439</td><td class=\"tblon\">28.428</td><td class=\"tbdep\">3</td><td class=\"tbmagtyp\">ML</td><td class=\"tbmag\">2.4</td><td class=\"tbreg\" title=\"WESTERN TURKEY\">WESTERN TURKEY</td></tr><tr class=\"lilist e_1572880\" data-id=\"1572880\" data-time=\"1698845148\"><td class=\"tbico\"></td><td class=\"tdcom\"></td><td class=\"tdpic\"></td><td class=\"tbdat\"><a href=\"/Earthquake_information/earthquake.php?id=1572880\">2023-11-01 13:25:48<div class=\"tago\" data-t=\"1698845148\">7 hr  21 min ago</div></a></td><td class=\"tblat\">-2.820</td><td class=\"tblon\">135.470</td><td class=\"tbdep\">10</td><td class=\"tbmagtyp\">M</td><td class=\"tbmag\">3.8</td><td class=\"tbreg\" title=\"NEAR N COAST OF PAPUA, INDONESIA\">NEAR N COAST OF PAPUA, INDONESIA</td></tr><tr class=\"lilist e_1572881\" data-id=\"1572881\" data-time=\"1698844937\"><td class=\"tbico\"></td><td class=\"tdcom\"></td><td class=\"tdpic\"></td><td class=\"tbdat\"><a href=\"/Earthquake_information/earthquake.php?id=1572881\">2023-11-01 13:22:17<div class=\"tago\" data-t=\"1698844937\">7 hr  25 min ago</div></a></td><td class=\"tblat\">-20.340</td><td class=\"tblon\">-69.000</td><td class=\"tbdep\">102</td><td class=\"tbmagtyp\">ML</td><td class=\"tbmag\">2.9</td><td class=\"tbreg\" title=\"TARAPACA, CHILE\">TARAPACA, CHILE</td></tr><tr class=\"lilist e_1572919\" data-id=\"1572919\" data-time=\"1698844303\"><td class=\"tbico\"></td><td class=\"tdcom\"></td><td class=\"tdpic\"></td><td class=\"tbdat\"><a href=\"/Earthquake_information/earthquake.php?id=1572919\">2023-11-01 13:11:43<div class=\"tago\" data-t=\"1698844303\">7 hr  35 min ago</div></a></td><td class=\"tblat\">48.640</td><td class=\"tblon\">155.950</td><td class=\"tbdep\">10</td><td class=\"tbmagtyp\">mb</td><td class=\"tbmag\">4.0</td><td class=\"tbreg\" title=\"KURIL ISLANDS\">KURIL ISLANDS</td></tr><tr class=\"lilist e_1572875\" data-id=\"1572875\" data-time=\"1698843528.2\"><td class=\"tbico\"></td><td class=\"tdcom\"></td><td class=\"tdpic\"></td><td class=\"tbdat\"><a href=\"/Earthquake_information/earthquake.php?id=1572875\">2023-11-01 12:58:48<div class=\"tago\" data-t=\"1698843528.2\">7 hr  48 min ago</div></a></td><td class=\"tblat\">36.036</td><td class=\"tblon\">36.103</td><td class=\"tbdep\">5</td><td class=\"tbmagtyp\">ML</td><td class=\"tbmag\">2.9</td><td class=\"tbreg\" title=\"TURKEY-SYRIA BORDER REGION\">TURKEY-SYRIA BORDER REGION</td></tr><tr class=\"lilist e_1572908\" data-id=\"1572908\" data-time=\"1698843188\"><td class=\"tbico\"></td><td class=\"tdcom\"></td><td class=\"tdpic\"></td><td class=\"tbdat\"><a href=\"/Earthquake_information/earthquake.php?id=1572908\">2023-11-01 12:53:08<div class=\"tago\" data-t=\"1698843188\">7 hr  54 min ago</div></a></td><td class=\"tblat\">38.080</td><td class=\"tblon\">23.480</td><td class=\"tbdep\">7</td><td class=\"tbmagtyp\">ML</td><td class=\"tbmag\">2.0</td><td class=\"tbreg\" title=\"GREECE\">GREECE</td></tr><tr class=\"lilist e_1572870\" data-id=\"1572870\" data-time=\"1698843075.461\"><td class=\"tbico\"></td><td class=\"tdcom\"></td><td class=\"tdpic\"></td><td class=\"tbdat\"><a href=\"/Earthquake_information/earthquake.php?id=1572870\">2023-11-01 12:51:15<div class=\"tago\" data-t=\"1698843075.461\">7 hr  56 min ago</div></a></td><td class=\"tblat\">10.925</td><td class=\"tblon\">93.060</td><td class=\"tbdep\">94</td><td class=\"tbmagtyp\">mb</td><td class=\"tbmag\">5.1</td><td class=\"tbreg\" title=\"ANDAMAN ISLANDS, INDIA REGION\">ANDAMAN ISLANDS, INDIA REGION</td></tr><tr class=\"lilist e_1572872\" data-id=\"1572872\" data-time=\"1698842971\"><td class=\"tbico\"></td><td class=\"tdcom\"></td><td class=\"tdpic\"></td><td class=\"tbdat\"><a href=\"/Earthquake_information/earthquake.php?id=1572872\">2023-11-01 12:49:31<div class=\"tago\" data-t=\"1698842971\">7 hr  58 min ago</div></a></td><td class=\"tblat\">-12.400</td><td class=\"tblon\">-77.020</td><td class=\"tbdep\">54</td><td class=\"tbmagtyp\">M</td><td class=\"tbmag\">3.7</td><td class=\"tbreg\" title=\"NEAR COAST OF CENTRAL PERU\">NEAR COAST OF CENTRAL PERU</td></tr><tr class=\"lilist e_1572871\" data-id=\"1572871\" data-time=\"1698842930\"><td class=\"tbico\"></td><td class=\"tdcom\"></td><td class=\"tdpic\"></td><td class=\"tbdat\"><a href=\"/Earthquake_information/earthquake.php?id=1572871\">2023-11-01 12:48:50<div class=\"tago\" data-t=\"1698842930\">7 hr  58 min ago</div></a></td><td class=\"tblat\">-5.090</td><td class=\"tblon\">104.130</td><td class=\"tbdep\">10</td><td class=\"tbmagtyp\">M</td><td class=\"tbmag\">2.5</td><td class=\"tbreg\" title=\"SOUTHERN SUMATRA, INDONESIA\">SOUTHERN SUMATRA, INDONESIA</td></tr><tr class=\"lilist e_1572868\" data-id=\"1572868\" data-time=\"1698841918.4\"><td class=\"tbico\"></td><td class=\"tdcom\"></td><td class=\"tdpic\"></td><td class=\"tbdat\"><a href=\"/Earthquake_information/earthquake.php?id=1572868\">2023-11-01 12:31:58<div class=\"tago\" data-t=\"1698841918.4\">8 hr  15 min ago</div></a></td><td class=\"tblat\">38.890</td><td class=\"tblon\">23.310</td><td class=\"tbdep\">10</td><td class=\"tbmagtyp\">ML</td><td class=\"tbmag\">2.0</td><td class=\"tbreg\" title=\"GREECE\">GREECE</td></tr><tr class=\"lilist e_1572928\" data-id=\"1572928\" data-time=\"1698841916.29772\"><td class=\"tbico\"></td><td class=\"tdcom\"></td><td class=\"tdpic\"></td><td class=\"tbdat\"><a href=\"/Earthquake_information/earthquake.php?id=1572928\">2023-11-01 12:31:56<div class=\"tago\" data-t=\"1698841916.29772\">8 hr  15 min ago</div></a></td><td class=\"tblat\">38.147</td><td class=\"tblon\">-118.193</td><td class=\"tbdep\">8</td><td class=\"tbmagtyp\">ML</td><td class=\"tbmag\">2.6</td><td class=\"tbreg\" title=\"NEVADA\">NEVADA</td></tr><tr class=\"lilist e_1572869\" data-id=\"1572869\" data-time=\"1698841513.72\"><td class=\"tbico\"></td><td class=\"tdcom\"></td><td class=\"tdpic\"></td><td class=\"tbdat\"><a href=\"/Earthquake_information/earthquake.php?id=1572869\">2023-11-01 12:25:13<div class=\"tago\" data-t=\"1698841513.72\">8 hr  22 min ago</div></a></td><td class=\"tblat\">50.306</td><td class=\"tblon\">12.367</td><td class=\"tbdep\">10</td><td class=\"tbmagtyp\">M</td><td class=\"tbmag\">2.4</td><td class=\"tbreg\" title=\"GERMANY\">GERMANY</td></tr><tr class=\"lilist e_1572876\" data-id=\"1572876\" data-time=\"1698841358.53\"><td class=\"tbico\"></td><td class=\"tdcom\"></td><td class=\"tdpic\"></td><td class=\"tbdat\"><a href=\"/Earthquake_information/earthquake.php?id=1572876\">2023-11-01 12:22:38<div class=\"tago\" data-t=\"1698841358.53\">8 hr  24 min ago</div></a></td><td class=\"tblat\">36.765</td><td class=\"tblon\">-3.002</td><td class=\"tbdep\">11</td><td class=\"tbmagtyp\">ML</td><td class=\"tbmag\">2.2</td><td class=\"tbreg\" title=\"STRAIT OF GIBRALTAR\">STRAIT OF GIBRALTAR</td></tr><tr class=\"lilist e_1572860\" data-id=\"1572860\" data-time=\"1698840105.7\"><td class=\"tbico\"></td><td class=\"tdcom\"></td><td class=\"tdpic\"></td><td class=\"tbdat\"><a href=\"/Earthquake_information/earthquake.php?id=1572860\">2023-11-01 12:01:45<div class=\"tago\" data-t=\"1698840105.7\">8 hr  45 min ago</div></a></td><td class=\"tblat\">37.470</td><td class=\"tblon\">22.230</td><td class=\"tbdep\">194</td><td class=\"tbmagtyp\">ML</td><td class=\"tbmag\">2.6</td><td class=\"tbreg\" title=\"SOUTHERN GREECE\">SOUTHERN GREECE</td></tr><tr class=\"lilist e_1572867\" data-id=\"1572867\" data-time=\"1698840041\"><td class=\"tbico\"></td><td class=\"tdcom\"></td><td class=\"tdpic\"></td><td class=\"tbdat\"><a href=\"/Earthquake_information/earthquake.php?id=1572867\">2023-11-01 12:00:41<div class=\"tago\" data-t=\"1698840041\">8 hr  46 min ago</div></a></td><td class=\"tblat\">11.850</td><td class=\"tblon\">-86.440</td><td class=\"tbdep\">79</td><td class=\"tbmagtyp\">M</td><td class=\"tbmag\">2.7</td><td class=\"tbreg\" title=\"NEAR COAST OF NICARAGUA\">NEAR COAST OF NICARAGUA</td></tr><tr class=\"lilist e_1572859\" data-id=\"1572859\" data-time=\"1698839684.9\"><td class=\"tbico\"></td><td class=\"tdcom\"></td><td class=\"tdpic\"></td><td class=\"tbdat\"><a href=\"/Earthquake_information/earthquake.php?id=1572859\">2023-11-01 11:54:44<div class=\"tago\" data-t=\"1698839684.9\">8 hr  52 min ago</div></a></td><td class=\"tblat\">37.466</td><td class=\"tblon\">37.274</td><td class=\"tbdep\">2</td><td class=\"tbmagtyp\">ML</td><td class=\"tbmag\">2.4</td><td class=\"tbreg\" title=\"CENTRAL TURKEY\">CENTRAL TURKEY</td></tr><tr class=\"lilist e_1572858\" data-id=\"1572858\" data-time=\"1698839570.4\"><td class=\"tbico\"></td><td class=\"tdcom\"></td><td class=\"tdpic\"></td><td class=\"tbdat\"><a href=\"/Earthquake_information/earthquake.php?id=1572858\">2023-11-01 11:52:50<div class=\"tago\" data-t=\"1698839570.4\">8 hr  54 min ago</div></a></td><td class=\"tblat\">38.775</td><td class=\"tblon\">40.173</td><td class=\"tbdep\">13</td><td class=\"tbmagtyp\">ML</td><td class=\"tbmag\">2.4</td><td class=\"tbreg\" title=\"EASTERN TURKEY\">EASTERN TURKEY</td></tr><tr class=\"lilist e_1572856\" data-id=\"1572856\" data-time=\"1698838841\"><td class=\"tbico\"></td><td class=\"tdcom\"></td><td class=\"tdpic\"></td><td class=\"tbdat\"><a href=\"/Earthquake_information/earthquake.php?id=1572856\">2023-11-01 11:40:41<div class=\"tago\" data-t=\"1698838841\">9 hr  06 min ago</div></a></td><td class=\"tblat\">-8.970</td><td class=\"tblon\">109.890</td><td class=\"tbdep\">10</td><td class=\"tbmagtyp\">M</td><td class=\"tbmag\">3.3</td><td class=\"tbreg\" title=\"JAVA, INDONESIA\">JAVA, INDONESIA</td></tr><tr class=\"lilist e_1572853\" data-id=\"1572853\" data-time=\"1698838537.113\"><td class=\"tbico\"></td><td class=\"tdcom\"></td><td class=\"tdpic\"></td><td class=\"tbdat\"><a href=\"/Earthquake_information/earthquake.php?id=1572853\">2023-11-01 11:35:37<div class=\"tago\" data-t=\"1698838537.113\">9 hr  11 min ago</div></a></td><td class=\"tblat\">61.345</td><td class=\"tblon\">-146.956</td><td class=\"tbdep\">32</td><td class=\"tbmagtyp\">ML</td><td class=\"tbmag\">2.5</td><td class=\"tbreg\" title=\"SOUTHERN ALASKA\">SOUTHERN ALASKA</td></tr><tr class=\"lilist e_1572855\" data-id=\"1572855\" data-time=\"1698838522\"><td class=\"tbico\"></td><td class=\"tdcom\"></td><td class=\"tdpic\"></td><td class=\"tbdat\"><a href=\"/Earthquake_information/earthquake.php?id=1572855\">2023-11-01 11:35:22<div class=\"tago\" data-t=\"1698838522\">9 hr  12 min ago</div></a></td><td class=\"tblat\">-8.920</td><td class=\"tblon\">109.990</td><td class=\"tbdep\">10</td><td class=\"tbmagtyp\">M</td><td class=\"tbmag\">3.2</td><td class=\"tbreg\" title=\"JAVA, INDONESIA\">JAVA, INDONESIA</td></tr><tr class=\"lilist e_1572857\" data-id=\"1572857\" data-time=\"1698838031\"><td class=\"tbico\"></td><td class=\"tdcom\"></td><td class=\"tdpic\"></td><td class=\"tbdat\"><a href=\"/Earthquake_information/earthquake.php?id=1572857\">2023-11-01 11:27:11<div class=\"tago\" data-t=\"1698838031\">9 hr  20 min ago</div></a></td><td class=\"tblat\">-8.030</td><td class=\"tblon\">107.370</td><td class=\"tbdep\">23</td><td class=\"tbmagtyp\">M</td><td class=\"tbmag\">3.2</td><td class=\"tbreg\" title=\"JAVA, INDONESIA\">JAVA, INDONESIA</td></tr><tr class=\"lilist e_1572862\" data-id=\"1572862\" data-time=\"1698837844.38\"><td class=\"tbico\"></td><td class=\"tdcom\"></td><td class=\"tdpic\"></td><td class=\"tbdat\"><a href=\"/Earthquake_information/earthquake.php?id=1572862\">2023-11-01 11:24:04<div class=\"tago\" data-t=\"1698837844.38\">9 hr  23 min ago</div></a></td><td class=\"tblat\">37.059</td><td class=\"tblon\">-1.885</td><td class=\"tbdep\">0</td><td class=\"tbmagtyp\">ML</td><td class=\"tbmag\">1.5</td><td class=\"tbreg\" title=\"SPAIN\">SPAIN</td></tr><tr class=\"lilist e_1572851\" data-id=\"1572851\" data-time=\"1698837301.20853\"><td class=\"tbico\"></td><td class=\"tdcom\"></td><td class=\"tdpic\"></td><td class=\"tbdat\"><a href=\"/Earthquake_information/earthquake.php?id=1572851\">2023-11-01 11:15:01<div class=\"tago\" data-t=\"1698837301.20853\">9 hr  32 min ago</div></a></td><td class=\"tblat\">36.659</td><td class=\"tblon\">-116.267</td><td class=\"tbdep\">8</td><td class=\"tbmagtyp\">ML</td><td class=\"tbmag\">2.7</td><td class=\"tbreg\" title=\"NEVADA\">NEVADA</td></tr><tr class=\"lilist e_1572850\" data-id=\"1572850\" data-time=\"1698837053.65\"><td class=\"tbico\"></td><td class=\"tdcom\"></td><td class=\"tdpic\"></td><td class=\"tbdat\"><a href=\"/Earthquake_information/earthquake.php?id=1572850\">2023-11-01 11:10:53<div class=\"tago\" data-t=\"1698837053.65\">9 hr  36 min ago</div></a></td><td class=\"tblat\">38.816</td><td class=\"tblon\">-122.818</td><td class=\"tbdep\">2</td><td class=\"tbmagtyp\">MD</td><td class=\"tbmag\">2.0</td><td class=\"tbreg\" title=\"NORTHERN CALIFORNIA\">NORTHERN CALIFORNIA</td></tr><tr class=\"lilist e_1572890\" data-id=\"1572890\" data-time=\"1698836064\"><td class=\"tbico\"></td><td class=\"tdcom\"></td><td class=\"tdpic\"></td><td class=\"tbdat\"><a href=\"/Earthquake_information/earthquake.php?id=1572890\">2023-11-01 10:54:24<div class=\"tago\" data-t=\"1698836064\">9 hr  53 min ago</div></a></td><td class=\"tblat\">18.650</td><td class=\"tblon\">-103.260</td><td class=\"tbdep\">11</td><td class=\"tbmagtyp\">M</td><td class=\"tbmag\">3.7</td><td class=\"tbreg\" title=\"MICHOACAN, MEXICO\">MICHOACAN, MEXICO</td></tr><tr class=\"lilist e_1572847\" data-id=\"1572847\" data-time=\"1698835646\"><td class=\"tbico\"></td><td class=\"tdcom\"></td><td class=\"tdpic\"></td><td class=\"tbdat\"><a href=\"/Earthquake_information/earthquake.php?id=1572847\">2023-11-01 10:47:26<div class=\"tago\" data-t=\"1698835646\">10 hr  00 min ago</div></a></td><td class=\"tblat\">47.365</td><td class=\"tblon\">6.916</td><td class=\"tbdep\">5</td><td class=\"tbmagtyp\">ML</td><td class=\"tbmag\">1.8</td><td class=\"tbreg\" title=\"FRANCE\">FRANCE</td></tr><tr class=\"lilist e_1572845\" data-id=\"1572845\" data-time=\"1698835573.135\"><td class=\"tbico\"></td><td class=\"tdcom\"></td><td class=\"tdpic\"></td><td class=\"tbdat\"><a href=\"/Earthquake_information/earthquake.php?id=1572845\">2023-11-01 10:46:13<div class=\"tago\" data-t=\"1698835573.135\">10 hr  01 min ago</div></a></td><td class=\"tblat\">35.858</td><td class=\"tblon\">-98.049</td><td class=\"tbdep\">5</td><td class=\"tbmagtyp\">ML</td><td class=\"tbmag\">2.3</td><td class=\"tbreg\" title=\"OKLAHOMA\">OKLAHOMA</td></tr><tr class=\"lilist e_1572846\" data-id=\"1572846\" data-time=\"1698835215.387\"><td class=\"tbico\"></td><td class=\"tdcom\"></td><td class=\"tdpic\"></td><td class=\"tbdat\"><a href=\"/Earthquake_information/earthquake.php?id=1572846\">2023-11-01 10:40:15<div class=\"tago\" data-t=\"1698835215.387\">10 hr  07 min ago</div></a></td><td class=\"tblat\">1.549</td><td class=\"tblon\">129.288</td><td class=\"tbdep\">10</td><td class=\"tbmagtyp\">mb</td><td class=\"tbmag\">4.9</td><td class=\"tbreg\" title=\"HALMAHERA, INDONESIA\">HALMAHERA, INDONESIA</td></tr><tr class=\"lilist e_1572843 bow\" data-id=\"1572843\" data-time=\"1698835187\"><td class=\"tbico\"></td><td class=\"tdcom\"></td><td class=\"tdpic\"></td><td class=\"tbdat\"><a href=\"/Earthquake_information/earthquake.php?id=1572843\">2023-11-01 10:39:47<div class=\"tago\" data-t=\"1698835187\">10 hr  07 min ago</div></a></td><td class=\"tblat\">32.110</td><td class=\"tblon\">59.730</td><td class=\"tbdep\">10</td><td class=\"tbmagtyp\">mb</td><td class=\"tbmag\">4.7</td><td class=\"tbreg\" title=\"EASTERN IRAN\">EASTERN IRAN</td></tr><tr class=\"lilist e_1572891\" data-id=\"1572891\" data-time=\"1698834587\"><td class=\"tbico\"></td><td class=\"tdcom\"></td><td class=\"tdpic\"></td><td class=\"tbdat\"><a href=\"/Earthquake_information/earthquake.php?id=1572891\">2023-11-01 10:29:47<div class=\"tago\" data-t=\"1698834587\">10 hr  17 min ago</div></a></td><td class=\"tblat\">19.650</td><td class=\"tblon\">-104.280</td><td class=\"tbdep\">45</td><td class=\"tbmagtyp\">M</td><td class=\"tbmag\">3.6</td><td class=\"tbreg\" title=\"JALISCO, MEXICO\">JALISCO, MEXICO</td></tr><tr class=\"lilist e_1572834\" data-id=\"1572834\" data-time=\"1698834292.214712\"><td class=\"tbico\"></td><td class=\"tdcom\"></td><td class=\"tdpic\"></td><td class=\"tbdat\"><a href=\"/Earthquake_information/earthquake.php?id=1572834\">2023-11-01 10:24:52<div class=\"tago\" data-t=\"1698834292.214712\">10 hr  22 min ago</div></a></td><td class=\"tblat\">-35.756</td><td class=\"tblon\">179.285</td><td class=\"tbdep\">239</td><td class=\"tbmagtyp\">ML</td><td class=\"tbmag\">3.3</td><td class=\"tbreg\" title=\"OFF E. COAST OF N. ISLAND, N.Z.\">OFF E. COAST OF N. ISLAND, N.Z.</td></tr><tr class=\"lilist e_1572828\" data-id=\"1572828\" data-time=\"1698833894.35\"><td class=\"tbico\"></td><td class=\"tdcom\"></td><td class=\"tdpic\"></td><td class=\"tbdat\"><a href=\"/Earthquake_information/earthquake.php?id=1572828\">2023-11-01 10:18:14<div class=\"tago\" data-t=\"1698833894.35\">10 hr  29 min ago</div></a></td><td class=\"tblat\">46.305</td><td class=\"tblon\">13.600</td><td class=\"tbdep\">6</td><td class=\"tbmagtyp\">ML</td><td class=\"tbmag\">1.3</td><td class=\"tbreg\" title=\"SLOVENIA\">SLOVENIA</td></tr><tr class=\"lilist e_1572830\" data-id=\"1572830\" data-time=\"1698833743.772\"><td class=\"tbico\"></td><td class=\"tdcom\"></td><td class=\"tdpic\"></td><td class=\"tbdat\"><a href=\"/Earthquake_information/earthquake.php?id=1572830\">2023-11-01 10:15:43<div class=\"tago\" data-t=\"1698833743.772\">10 hr  31 min ago</div></a></td><td class=\"tblat\">-15.517</td><td class=\"tblon\">-177.518</td><td class=\"tbdep\">410</td><td class=\"tbmagtyp\">mb</td><td class=\"tbmag\">5.1</td><td class=\"tbreg\" title=\"FIJI REGION\">FIJI REGION</td></tr><tr class=\"lilist e_1572892\" data-id=\"1572892\" data-time=\"1698833576\"><td class=\"tbico\"></td><td class=\"tdcom\"></td><td class=\"tdpic\"></td><td class=\"tbdat\"><a href=\"/Earthquake_information/earthquake.php?id=1572892\">2023-11-01 10:12:56<div class=\"tago\" data-t=\"1698833576\">10 hr  34 min ago</div></a></td><td class=\"tblat\">17.810</td><td class=\"tblon\">-103.020</td><td class=\"tbdep\">16</td><td class=\"tbmagtyp\">M</td><td class=\"tbmag\">3.8</td><td class=\"tbreg\" title=\"OFFSHORE MICHOACAN, MEXICO\">OFFSHORE MICHOACAN, MEXICO</td></tr><tr class=\"lilist e_1572854\" data-id=\"1572854\" data-time=\"1698833208.26\"><td class=\"tbico\"></td><td class=\"tdcom\"></td><td class=\"tdpic\"></td><td class=\"tbdat\"><a href=\"/Earthquake_information/earthquake.php?id=1572854\">2023-11-01 10:06:48<div class=\"tago\" data-t=\"1698833208.26\">10 hr  40 min ago</div></a></td><td class=\"tblat\">35.364</td><td class=\"tblon\">33.441</td><td class=\"tbdep\">24</td><td class=\"tbmagtyp\">ML</td><td class=\"tbmag\">1.5</td><td class=\"tbreg\" title=\"CYPRUS REGION\">CYPRUS REGION</td></tr><tr class=\"lilist e_1572839\" data-id=\"1572839\" data-time=\"1698832634.29\"><td class=\"tbico\"></td><td class=\"tdcom\"></td><td class=\"tdpic\"></td><td class=\"tbdat\"><a href=\"/Earthquake_information/earthquake.php?id=1572839\">2023-11-01 09:57:14<div class=\"tago\" data-t=\"1698832634.29\">10 hr  50 min ago</div></a></td><td class=\"tblat\">17.932</td><td class=\"tblon\">-66.287</td><td class=\"tbdep\">13</td><td class=\"tbmagtyp\">MD</td><td class=\"tbmag\">2.7</td><td class=\"tbreg\" title=\"PUERTO RICO REGION\">PUERTO RICO REGION</td></tr><tr class=\"lilist e_1572818\" data-id=\"1572818\" data-time=\"1698831630\"><td class=\"tbico\"></td><td class=\"tdcom\"></td><td class=\"tdpic\"></td><td class=\"tbdat\"><a href=\"/Earthquake_information/earthquake.php?id=1572818\">2023-11-01 09:40:30<div class=\"tago\" data-t=\"1698831630\">11 hr  07 min ago</div></a></td><td class=\"tblat\">-31.770</td><td class=\"tblon\">-69.090</td><td class=\"tbdep\">90</td><td class=\"tbmagtyp\">M</td><td class=\"tbmag\">3.1</td><td class=\"tbreg\" title=\"SAN JUAN, ARGENTINA\">SAN JUAN, ARGENTINA</td></tr><tr class=\"lilist e_1572817\" data-id=\"1572817\" data-time=\"1698831623\"><td class=\"tbico\"></td><td class=\"tdcom\"></td><td class=\"tdpic\"></td><td class=\"tbdat\"><a href=\"/Earthquake_information/earthquake.php?id=1572817\">2023-11-01 09:40:23<div class=\"tago\" data-t=\"1698831623\">11 hr  07 min ago</div></a></td><td class=\"tblat\">-2.110</td><td class=\"tblon\">120.920</td><td class=\"tbdep\">10</td><td class=\"tbmagtyp\">M</td><td class=\"tbmag\">3.3</td><td class=\"tbreg\" title=\"SULAWESI, INDONESIA\">SULAWESI, INDONESIA</td></tr><tr class=\"lilist e_1572893\" data-id=\"1572893\" data-time=\"1698831401\"><td class=\"tbico\"></td><td class=\"tdcom\"></td><td class=\"tdpic\"></td><td class=\"tbdat\"><a href=\"/Earthquake_information/earthquake.php?id=1572893\">2023-11-01 09:36:41<div class=\"tago\" data-t=\"1698831401\">11 hr  10 min ago</div></a></td><td class=\"tblat\">16.950</td><td class=\"tblon\">-99.640</td><td class=\"tbdep\">44</td><td class=\"tbmagtyp\">M</td><td class=\"tbmag\">3.7</td><td class=\"tbreg\" title=\"GUERRERO, MEXICO\">GUERRERO, MEXICO</td></tr><tr class=\"lilist e_1572816\" data-id=\"1572816\" data-time=\"1698831357.9\"><td class=\"tbico\"></td><td class=\"tdcom\"></td><td class=\"tdpic\"></td><td class=\"tbdat\"><a href=\"/Earthquake_information/earthquake.php?id=1572816\">2023-11-01 09:35:57<div class=\"tago\" data-t=\"1698831357.9\">11 hr  11 min ago</div></a></td><td class=\"tblat\">34.830</td><td class=\"tblon\">24.820</td><td class=\"tbdep\">20</td><td class=\"tbmagtyp\">ML</td><td class=\"tbmag\">2.8</td><td class=\"tbreg\" title=\"CRETE, GREECE\">CRETE, GREECE</td></tr><tr class=\"lilist e_1572894\" data-id=\"1572894\" data-time=\"1698831348\"><td class=\"tbico\"></td><td class=\"tdcom\"></td><td class=\"tdpic\"></td><td class=\"tbdat\"><a href=\"/Earthquake_information/earthquake.php?id=1572894\">2023-11-01 09:35:48<div class=\"tago\" data-t=\"1698831348\">11 hr  11 min ago</div></a></td><td class=\"tblat\">30.500</td><td class=\"tblon\">-116.180</td><td class=\"tbdep\">19</td><td class=\"tbmagtyp\">M</td><td class=\"tbmag\">3.6</td><td class=\"tbreg\" title=\"OFFSHORE BAJA CALIFORNIA, MEXICO\">OFFSHORE BAJA CALIFORNIA, MEXICO</td></tr><tr class=\"lilist e_1572814\" data-id=\"1572814\" data-time=\"1698830450.6\"><td class=\"tbico\"></td><td class=\"tdcom\"></td><td class=\"tdpic\"></td><td class=\"tbdat\"><a href=\"/Earthquake_information/earthquake.php?id=1572814\">2023-11-01 09:20:50<div class=\"tago\" data-t=\"1698830450.6\">11 hr  26 min ago</div></a></td><td class=\"tblat\">39.406</td><td class=\"tblon\">28.446</td><td class=\"tbdep\">5</td><td class=\"tbmagtyp\">ML</td><td class=\"tbmag\">2.1</td><td class=\"tbreg\" title=\"WESTERN TURKEY\">WESTERN TURKEY</td></tr><tr class=\"lilist e_1572819\" data-id=\"1572819\" data-time=\"1698830141\"><td class=\"tbico\"></td><td class=\"tdcom\"></td><td class=\"tdpic\"></td><td class=\"tbdat\"><a href=\"/Earthquake_information/earthquake.php?id=1572819\">2023-11-01 09:15:41<div class=\"tago\" data-t=\"1698830141\">11 hr  31 min ago</div></a></td><td class=\"tblat\">25.620</td><td class=\"tblon\">-100.720</td><td class=\"tbdep\">5</td><td class=\"tbmagtyp\">M</td><td class=\"tbmag\">3.9</td><td class=\"tbreg\" title=\"COAHUILA, MEXICO\">COAHUILA, MEXICO</td></tr><tr class=\"lilist e_1572829\" data-id=\"1572829\" data-time=\"1698829844.97\"><td class=\"tbico\"></td><td class=\"tdcom\"></td><td class=\"tdpic\"></td><td class=\"tbdat\"><a href=\"/Earthquake_information/earthquake.php?id=1572829\">2023-11-01 09:10:44<div class=\"tago\" data-t=\"1698829844.97\">11 hr  36 min ago</div></a></td><td class=\"tblat\">27.667</td><td class=\"tblon\">-18.256</td><td class=\"tbdep\">41</td><td class=\"tbmagtyp\">ML</td><td class=\"tbmag\">2.1</td><td class=\"tbreg\" title=\"CANARY ISLANDS, SPAIN REGION\">CANARY ISLANDS, SPAIN REGION</td></tr><tr class=\"lilist e_1572809\" data-id=\"1572809\" data-time=\"1698828919.7\"><td class=\"tbico\"></td><td class=\"tdcom\"></td><td class=\"tdpic\"></td><td class=\"tbdat\"><a href=\"/Earthquake_information/earthquake.php?id=1572809\">2023-11-01 08:55:19<div class=\"tago\" data-t=\"1698828919.7\">11 hr  52 min ago</div></a></td><td class=\"tblat\">37.816</td><td class=\"tblon\">36.459</td><td class=\"tbdep\">7</td><td class=\"tbmagtyp\">ML</td><td class=\"tbmag\">2.7</td><td class=\"tbreg\" title=\"CENTRAL TURKEY\">CENTRAL TURKEY</td></tr><tr class=\"lilist e_1572978\" data-id=\"1572978\" data-time=\"1698828603.9\"><td class=\"tbico\"></td><td class=\"tdcom\"></td><td class=\"tdpic\"></td><td class=\"tbdat\"><a href=\"/Earthquake_information/earthquake.php?id=1572978\">2023-11-01 08:50:03<div class=\"tago\" data-t=\"1698828603.9\">11 hr  57 min ago</div></a></td><td class=\"tblat\">-19.920</td><td class=\"tblon\">134.100</td><td class=\"tbdep\">10</td><td class=\"tbmagtyp\">MLa</td><td class=\"tbmag\">2.4</td><td class=\"tbreg\" title=\"NORTHERN TERRITORY, AUSTRALIA\">NORTHERN TERRITORY, AUSTRALIA</td></tr><tr class=\"lilist e_1572807\" data-id=\"1572807\" data-time=\"1698828241.2\"><td class=\"tbico\"></td><td class=\"tdcom\"></td><td class=\"tdpic\"></td><td class=\"tbdat\"><a href=\"/Earthquake_information/earthquake.php?id=1572807\">2023-11-01 08:44:01<div class=\"tago\" data-t=\"1698828241.2\">12 hr  03 min ago</div></a></td><td class=\"tblat\">39.086</td><td class=\"tblon\">33.067</td><td class=\"tbdep\">5</td><td class=\"tbmagtyp\">ML</td><td class=\"tbmag\">2.2</td><td class=\"tbreg\" title=\"CENTRAL TURKEY\">CENTRAL TURKEY</td></tr><tr class=\"lilist e_1572808\" data-id=\"1572808\" data-time=\"1698828162.670804\"><td class=\"tbico\"></td><td class=\"tdcom\"></td><td class=\"tdpic\"></td><td class=\"tbdat\"><a href=\"/Earthquake_information/earthquake.php?id=1572808\">2023-11-01 08:42:42<div class=\"tago\" data-t=\"1698828162.670804\">12 hr  04 min ago</div></a></td><td class=\"tblat\">-41.665</td><td class=\"tblon\">174.231</td><td class=\"tbdep\">12</td><td class=\"tbmagtyp\">ML</td><td class=\"tbmag\">3.1</td><td class=\"tbreg\" title=\"COOK STRAIT, NEW ZEALAND\">COOK STRAIT, NEW ZEALAND</td></tr><tr class=\"lilist e_1572805\" data-id=\"1572805\" data-time=\"1698828090\"><td class=\"tbico\"></td><td class=\"tdcom\"></td><td class=\"tdpic\"></td><td class=\"tbdat\"><a href=\"/Earthquake_information/earthquake.php?id=1572805\">2023-11-01 08:41:30<div class=\"tago\" data-t=\"1698828090\">12 hr  06 min ago</div></a></td><td class=\"tblat\">38.700</td><td class=\"tblon\">142.000</td><td class=\"tbdep\">60</td><td class=\"tbmagtyp\">M</td><td class=\"tbmag\">3.7</td><td class=\"tbreg\" title=\"NEAR EAST COAST OF HONSHU, JAPAN\">NEAR EAST COAST OF HONSHU, JAPAN</td></tr><tr class=\"lilist e_1572804\" data-id=\"1572804\" data-time=\"1698827916.964991\"><td class=\"tbico\"></td><td class=\"tdcom\"></td><td class=\"tdpic\"></td><td class=\"tbdat\"><a href=\"/Earthquake_information/earthquake.php?id=1572804\">2023-11-01 08:38:36<div class=\"tago\" data-t=\"1698827916.964991\">12 hr  08 min ago</div></a></td><td class=\"tblat\">-31.632</td><td class=\"tblon\">178.218</td><td class=\"tbdep\">33</td><td class=\"tbmagtyp\">M</td><td class=\"tbmag\">4.4</td><td class=\"tbreg\" title=\"KERMADEC ISLANDS REGION\">KERMADEC ISLANDS REGION</td></tr><tr class=\"lilist e_1572800\" data-id=\"1572800\" data-time=\"1698826967.7\"><td class=\"tbico\"></td><td class=\"tdcom\"></td><td class=\"tdpic\"></td><td class=\"tbdat\"><a href=\"/Earthquake_information/earthquake.php?id=1572800\">2023-11-01 08:22:47<div class=\"tago\" data-t=\"1698826967.7\">12 hr  24 min ago</div></a></td><td class=\"tblat\">38.900</td><td class=\"tblon\">22.610</td><td class=\"tbdep\">77</td><td class=\"tbmagtyp\">ML</td><td class=\"tbmag\">2.0</td><td class=\"tbreg\" title=\"GREECE\">GREECE</td></tr><tr class=\"lilist e_1572797\" data-id=\"1572797\" data-time=\"1698826705\"><td class=\"tbico\"></td><td class=\"tdcom\"></td><td class=\"tdpic\"></td><td class=\"tbdat\"><a href=\"/Earthquake_information/earthquake.php?id=1572797\">2023-11-01 08:18:25<div class=\"tago\" data-t=\"1698826705\">12 hr  29 min ago</div></a></td><td class=\"tblat\">-28.770</td><td class=\"tblon\">-71.500</td><td class=\"tbdep\">44</td><td class=\"tbmagtyp\">ML</td><td class=\"tbmag\">3.5</td><td class=\"tbreg\" title=\"OFFSHORE ATACAMA, CHILE\">OFFSHORE ATACAMA, CHILE</td></tr></tbody>\\n\\t\\t</table>'"
      ]
     },
     "execution_count": 112,
     "metadata": {},
     "output_type": "execute_result"
    }
   ],
   "source": [
    "# Dentro de tabla tengo toda la info de la misma -> tengo que extrae aprecido a cuando sacaba las imágenes y los links con getattribute\n",
    "tabla_html = tabla[0].get_attribute('outerHTML')\n",
    "tabla_html"
   ]
  },
  {
   "cell_type": "code",
   "execution_count": 116,
   "metadata": {},
   "outputs": [],
   "source": [
    "# Volvemos a usar a nuestro amigo bs para formar la tabla\n",
    "soup = bs(tabla_html, 'html.parser')\n",
    "#soup"
   ]
  },
  {
   "cell_type": "code",
   "execution_count": 118,
   "metadata": {},
   "outputs": [
    {
     "data": {
      "text/html": [
       "<div>\n",
       "<style scoped>\n",
       "    .dataframe tbody tr th:only-of-type {\n",
       "        vertical-align: middle;\n",
       "    }\n",
       "\n",
       "    .dataframe tbody tr th {\n",
       "        vertical-align: top;\n",
       "    }\n",
       "\n",
       "    .dataframe thead th {\n",
       "        text-align: right;\n",
       "    }\n",
       "</style>\n",
       "<table border=\"1\" class=\"dataframe\">\n",
       "  <thead>\n",
       "    <tr style=\"text-align: right;\">\n",
       "      <th></th>\n",
       "      <th>0</th>\n",
       "      <th>1</th>\n",
       "      <th>2</th>\n",
       "      <th>3</th>\n",
       "      <th>4</th>\n",
       "      <th>5</th>\n",
       "      <th>6</th>\n",
       "      <th>7</th>\n",
       "      <th>8</th>\n",
       "      <th>9</th>\n",
       "    </tr>\n",
       "  </thead>\n",
       "  <tbody>\n",
       "    <tr>\n",
       "      <th>0</th>\n",
       "      <td></td>\n",
       "      <td>Citizenresponse</td>\n",
       "      <td>Date &amp; TimeUTC</td>\n",
       "      <td>Lat.degrees</td>\n",
       "      <td>Lon.degrees</td>\n",
       "      <td>Depthkm</td>\n",
       "      <td>Mag.[+]</td>\n",
       "      <td>Region</td>\n",
       "      <td>None</td>\n",
       "      <td>None</td>\n",
       "    </tr>\n",
       "    <tr>\n",
       "      <th>1</th>\n",
       "      <td></td>\n",
       "      <td></td>\n",
       "      <td></td>\n",
       "      <td>2023-11-01 20:40:476 min ago</td>\n",
       "      <td>39.163</td>\n",
       "      <td>-123.064</td>\n",
       "      <td>5</td>\n",
       "      <td>MD</td>\n",
       "      <td>2.2</td>\n",
       "      <td>NORTHERN CALIFORNIA</td>\n",
       "    </tr>\n",
       "    <tr>\n",
       "      <th>2</th>\n",
       "      <td></td>\n",
       "      <td></td>\n",
       "      <td></td>\n",
       "      <td>2023-11-01 20:11:4835 min ago</td>\n",
       "      <td>37.999</td>\n",
       "      <td>36.332</td>\n",
       "      <td>5</td>\n",
       "      <td>ML</td>\n",
       "      <td>3.2</td>\n",
       "      <td>CENTRAL TURKEY</td>\n",
       "    </tr>\n",
       "    <tr>\n",
       "      <th>3</th>\n",
       "      <td></td>\n",
       "      <td></td>\n",
       "      <td></td>\n",
       "      <td>2023-11-01 20:06:5740 min ago</td>\n",
       "      <td>-8.390</td>\n",
       "      <td>121.590</td>\n",
       "      <td>11</td>\n",
       "      <td>M</td>\n",
       "      <td>4.2</td>\n",
       "      <td>FLORES REGION, INDONESIA</td>\n",
       "    </tr>\n",
       "    <tr>\n",
       "      <th>4</th>\n",
       "      <td></td>\n",
       "      <td></td>\n",
       "      <td></td>\n",
       "      <td>2023-11-01 20:04:2843 min ago</td>\n",
       "      <td>27.958</td>\n",
       "      <td>-15.164</td>\n",
       "      <td>9</td>\n",
       "      <td>ML</td>\n",
       "      <td>3.0</td>\n",
       "      <td>CANARY ISLANDS, SPAIN REGION</td>\n",
       "    </tr>\n",
       "    <tr>\n",
       "      <th>...</th>\n",
       "      <td>...</td>\n",
       "      <td>...</td>\n",
       "      <td>...</td>\n",
       "      <td>...</td>\n",
       "      <td>...</td>\n",
       "      <td>...</td>\n",
       "      <td>...</td>\n",
       "      <td>...</td>\n",
       "      <td>...</td>\n",
       "      <td>...</td>\n",
       "    </tr>\n",
       "    <tr>\n",
       "      <th>96</th>\n",
       "      <td></td>\n",
       "      <td></td>\n",
       "      <td></td>\n",
       "      <td>2023-11-01 08:42:4212 hr  04 min ago</td>\n",
       "      <td>-41.665</td>\n",
       "      <td>174.231</td>\n",
       "      <td>12</td>\n",
       "      <td>ML</td>\n",
       "      <td>3.1</td>\n",
       "      <td>COOK STRAIT, NEW ZEALAND</td>\n",
       "    </tr>\n",
       "    <tr>\n",
       "      <th>97</th>\n",
       "      <td></td>\n",
       "      <td></td>\n",
       "      <td></td>\n",
       "      <td>2023-11-01 08:41:3012 hr  06 min ago</td>\n",
       "      <td>38.700</td>\n",
       "      <td>142.000</td>\n",
       "      <td>60</td>\n",
       "      <td>M</td>\n",
       "      <td>3.7</td>\n",
       "      <td>NEAR EAST COAST OF HONSHU, JAPAN</td>\n",
       "    </tr>\n",
       "    <tr>\n",
       "      <th>98</th>\n",
       "      <td></td>\n",
       "      <td></td>\n",
       "      <td></td>\n",
       "      <td>2023-11-01 08:38:3612 hr  08 min ago</td>\n",
       "      <td>-31.632</td>\n",
       "      <td>178.218</td>\n",
       "      <td>33</td>\n",
       "      <td>M</td>\n",
       "      <td>4.4</td>\n",
       "      <td>KERMADEC ISLANDS REGION</td>\n",
       "    </tr>\n",
       "    <tr>\n",
       "      <th>99</th>\n",
       "      <td></td>\n",
       "      <td></td>\n",
       "      <td></td>\n",
       "      <td>2023-11-01 08:22:4712 hr  24 min ago</td>\n",
       "      <td>38.900</td>\n",
       "      <td>22.610</td>\n",
       "      <td>77</td>\n",
       "      <td>ML</td>\n",
       "      <td>2.0</td>\n",
       "      <td>GREECE</td>\n",
       "    </tr>\n",
       "    <tr>\n",
       "      <th>100</th>\n",
       "      <td></td>\n",
       "      <td></td>\n",
       "      <td></td>\n",
       "      <td>2023-11-01 08:18:2512 hr  29 min ago</td>\n",
       "      <td>-28.770</td>\n",
       "      <td>-71.500</td>\n",
       "      <td>44</td>\n",
       "      <td>ML</td>\n",
       "      <td>3.5</td>\n",
       "      <td>OFFSHORE ATACAMA, CHILE</td>\n",
       "    </tr>\n",
       "  </tbody>\n",
       "</table>\n",
       "<p>101 rows × 10 columns</p>\n",
       "</div>"
      ],
      "text/plain": [
       "    0                 1               2                                     3  \\\n",
       "0       Citizenresponse  Date & TimeUTC                           Lat.degrees   \n",
       "1                                                2023-11-01 20:40:476 min ago   \n",
       "2                                               2023-11-01 20:11:4835 min ago   \n",
       "3                                               2023-11-01 20:06:5740 min ago   \n",
       "4                                               2023-11-01 20:04:2843 min ago   \n",
       "..  ..              ...             ...                                   ...   \n",
       "96                                       2023-11-01 08:42:4212 hr  04 min ago   \n",
       "97                                       2023-11-01 08:41:3012 hr  06 min ago   \n",
       "98                                       2023-11-01 08:38:3612 hr  08 min ago   \n",
       "99                                       2023-11-01 08:22:4712 hr  24 min ago   \n",
       "100                                      2023-11-01 08:18:2512 hr  29 min ago   \n",
       "\n",
       "               4         5        6       7     8  \\\n",
       "0    Lon.degrees   Depthkm  Mag.[+]  Region  None   \n",
       "1         39.163  -123.064        5      MD   2.2   \n",
       "2         37.999    36.332        5      ML   3.2   \n",
       "3         -8.390   121.590       11       M   4.2   \n",
       "4         27.958   -15.164        9      ML   3.0   \n",
       "..           ...       ...      ...     ...   ...   \n",
       "96       -41.665   174.231       12      ML   3.1   \n",
       "97        38.700   142.000       60       M   3.7   \n",
       "98       -31.632   178.218       33       M   4.4   \n",
       "99        38.900    22.610       77      ML   2.0   \n",
       "100      -28.770   -71.500       44      ML   3.5   \n",
       "\n",
       "                                    9  \n",
       "0                                None  \n",
       "1                 NORTHERN CALIFORNIA  \n",
       "2                      CENTRAL TURKEY  \n",
       "3            FLORES REGION, INDONESIA  \n",
       "4        CANARY ISLANDS, SPAIN REGION  \n",
       "..                                ...  \n",
       "96           COOK STRAIT, NEW ZEALAND  \n",
       "97   NEAR EAST COAST OF HONSHU, JAPAN  \n",
       "98            KERMADEC ISLANDS REGION  \n",
       "99                             GREECE  \n",
       "100           OFFSHORE ATACAMA, CHILE  \n",
       "\n",
       "[101 rows x 10 columns]"
      ]
     },
     "execution_count": 118,
     "metadata": {},
     "output_type": "execute_result"
    }
   ],
   "source": [
    "data = []\n",
    "\n",
    "for fila in soup.find_all('tr'):\n",
    "    filadata = [celda.get_text(strip=True) for celda in fila.find_all(['td','th'])]\n",
    "    data.append(filadata)\n",
    "\n",
    "df = pd.DataFrame(data)\n",
    "df"
   ]
  },
  {
   "cell_type": "code",
   "execution_count": 119,
   "metadata": {},
   "outputs": [],
   "source": [
    "# Me falta arreglarlo un pelín..."
   ]
  },
  {
   "cell_type": "code",
   "execution_count": null,
   "metadata": {},
   "outputs": [],
   "source": []
  },
  {
   "cell_type": "markdown",
   "metadata": {},
   "source": [
    "#### Count number of tweets by a given Twitter account."
   ]
  },
  {
   "cell_type": "markdown",
   "metadata": {},
   "source": [
    "You will need to include a ***try/except block*** for account names not found. \n",
    "<br>***Hint:*** the program should count the number of tweets for any provided account"
   ]
  },
  {
   "cell_type": "code",
   "execution_count": 6,
   "metadata": {},
   "outputs": [],
   "source": [
    "# This is the url you will scrape in this exercise \n",
    "# You will need to add the account credentials to this url\n",
    "url = 'https://twitter.com/khruangbin'"
   ]
  },
  {
   "cell_type": "code",
   "execution_count": 7,
   "metadata": {},
   "outputs": [],
   "source": [
    "driver.get(url)"
   ]
  },
  {
   "cell_type": "code",
   "execution_count": 9,
   "metadata": {},
   "outputs": [],
   "source": [
    "tweets = driver.find_element(By.CSS_SELECTOR, '#react-root > div > div > div.css-1dbjc4n.r-18u37iz.r-13qz1uu.r-417010 > main > div > div > div > div > div > div.css-1dbjc4n.r-aqfbo4.r-gtdqiz.r-1gn8etr.r-1g40b8q > div:nth-child(1) > div > div > div > div > div > div.css-1dbjc4n.r-16y2uox.r-1wbh5a2.r-1pi2tsx.r-1777fci > div > div')"
   ]
  },
  {
   "cell_type": "code",
   "execution_count": 12,
   "metadata": {},
   "outputs": [
    {
     "data": {
      "text/plain": [
       "'2.235'"
      ]
     },
     "execution_count": 12,
     "metadata": {},
     "output_type": "execute_result"
    }
   ],
   "source": [
    "tweets.text.split()[0]"
   ]
  },
  {
   "cell_type": "code",
   "execution_count": 13,
   "metadata": {},
   "outputs": [
    {
     "data": {
      "text/plain": [
       "'2.235'"
      ]
     },
     "execution_count": 13,
     "metadata": {},
     "output_type": "execute_result"
    }
   ],
   "source": [
    "clean_tweets = tweets.text.split()[0]\n",
    "clean_tweets"
   ]
  },
  {
   "cell_type": "code",
   "execution_count": 32,
   "metadata": {},
   "outputs": [],
   "source": [
    "'''\n",
    "Ahora voy a hacerlo en una función\n",
    "\n",
    "Recordar lo de variables locales y globales\n",
    "\n",
    "Lo que cambia respecto a hacerlo sin función es que hay que usar el time.sleep() para darle un tiempo de carga a la web, vamos a hacer \n",
    "el pop de la pestaña de selenium directamente desde aquí\n",
    "\n",
    "'''\n",
    "\n",
    "def numdetweets(cuenta):\n",
    "    url_func = f'https://twitter.com/{cuenta}'\n",
    "\n",
    "    driver = webdriver.Chrome()\n",
    "\n",
    "    try:\n",
    "            \n",
    "        driver.get(url_func)\n",
    "\n",
    "        time.sleep(3)\n",
    "\n",
    "        tweet_num = driver.find_element(By.CSS_SELECTOR, 'div > div > div.css-1dbjc4n.r-18u37iz.r-13qz1uu.r-417010 > main > div > div > div > div > div > div.css-1dbjc4n.r-aqfbo4.r-gtdqiz.r-1gn8etr.r-1g40b8q > div:nth-child(1) > div > div > div > div > div > div.css-1dbjc4n.r-16y2uox.r-1wbh5a2.r-1pi2tsx.r-1777fci > div > div')\n",
    "\n",
    "        tweet_num_limpio = tweet_num.text.split()[0]\n",
    "    \n",
    "    except:\n",
    "        print(f'User {cuenta} not found, sorry')\n",
    "\n",
    "    driver.quit()\n",
    "    return(tweet_num_limpio)"
   ]
  },
  {
   "cell_type": "code",
   "execution_count": 34,
   "metadata": {},
   "outputs": [
    {
     "name": "stderr",
     "output_type": "stream",
     "text": [
      "Cache folder (C:\\Users\\jacom\\.cache\\selenium) cannot be created: No se puede crear un archivo que ya existe. (os error 183)\n",
      "Cache folder (C:\\Users\\jacom\\.cache\\selenium) cannot be created: No se puede crear un archivo que ya existe. (os error 183)\n"
     ]
    },
    {
     "data": {
      "text/plain": [
       "'2.235'"
      ]
     },
     "execution_count": 34,
     "metadata": {},
     "output_type": "execute_result"
    }
   ],
   "source": [
    "numdetweets('khruangbin')"
   ]
  },
  {
   "cell_type": "markdown",
   "metadata": {},
   "source": [
    "#### Number of followers of a given twitter account"
   ]
  },
  {
   "cell_type": "markdown",
   "metadata": {},
   "source": [
    "You will need to include a ***try/except block*** in case account/s name not found. \n",
    "<br>***Hint:*** the program should count the followers for any provided account"
   ]
  },
  {
   "cell_type": "code",
   "execution_count": null,
   "metadata": {},
   "outputs": [],
   "source": [
    "# This is the url you will scrape in this exercise \n",
    "# You will need to add the account credentials to this url\n",
    "url = 'https://twitter.com/'"
   ]
  },
  {
   "cell_type": "code",
   "execution_count": null,
   "metadata": {},
   "outputs": [],
   "source": [
    "#your code"
   ]
  },
  {
   "cell_type": "markdown",
   "metadata": {},
   "source": [
    "#### List all language names and number of related articles in the order they appear in wikipedia.org"
   ]
  },
  {
   "cell_type": "code",
   "execution_count": null,
   "metadata": {},
   "outputs": [],
   "source": [
    "# This is the url you will scrape in this exercise\n",
    "url = 'https://www.wikipedia.org/'"
   ]
  },
  {
   "cell_type": "code",
   "execution_count": null,
   "metadata": {},
   "outputs": [],
   "source": [
    "#your code"
   ]
  },
  {
   "cell_type": "markdown",
   "metadata": {},
   "source": [
    "#### A list with the different kind of datasets available in data.gov.uk "
   ]
  },
  {
   "cell_type": "code",
   "execution_count": null,
   "metadata": {},
   "outputs": [],
   "source": [
    "# This is the url you will scrape in this exercise\n",
    "url = 'https://data.gov.uk/'"
   ]
  },
  {
   "cell_type": "code",
   "execution_count": null,
   "metadata": {},
   "outputs": [],
   "source": [
    "#your code "
   ]
  },
  {
   "cell_type": "markdown",
   "metadata": {},
   "source": [
    "#### Top 10 languages by number of native speakers stored in a Pandas Dataframe"
   ]
  },
  {
   "cell_type": "code",
   "execution_count": null,
   "metadata": {},
   "outputs": [],
   "source": [
    "# This is the url you will scrape in this exercise\n",
    "url = 'https://en.wikipedia.org/wiki/List_of_languages_by_number_of_native_speakers'"
   ]
  },
  {
   "cell_type": "code",
   "execution_count": null,
   "metadata": {},
   "outputs": [],
   "source": [
    "#your code"
   ]
  },
  {
   "cell_type": "markdown",
   "metadata": {},
   "source": [
    "### BONUS QUESTIONS"
   ]
  },
  {
   "cell_type": "markdown",
   "metadata": {},
   "source": [
    "#### Scrape a certain number of tweets of a given Twitter account."
   ]
  },
  {
   "cell_type": "code",
   "execution_count": null,
   "metadata": {},
   "outputs": [],
   "source": [
    "# This is the url you will scrape in this exercise \n",
    "# You will need to add the account credentials to this url\n",
    "url = 'https://twitter.com/'"
   ]
  },
  {
   "cell_type": "code",
   "execution_count": null,
   "metadata": {},
   "outputs": [],
   "source": [
    "# your code"
   ]
  },
  {
   "cell_type": "markdown",
   "metadata": {},
   "source": [
    "#### IMDB's Top 250 data (movie name, Initial release, director name and stars) as a pandas dataframe"
   ]
  },
  {
   "cell_type": "code",
   "execution_count": null,
   "metadata": {},
   "outputs": [],
   "source": [
    "# This is the url you will scrape in this exercise \n",
    "url = 'https://www.imdb.com/chart/top'"
   ]
  },
  {
   "cell_type": "code",
   "execution_count": null,
   "metadata": {},
   "outputs": [],
   "source": [
    "# your code"
   ]
  },
  {
   "cell_type": "markdown",
   "metadata": {},
   "source": [
    "#### Movie name, year and a brief summary of the top 10 random movies (IMDB) as a pandas dataframe."
   ]
  },
  {
   "cell_type": "code",
   "execution_count": null,
   "metadata": {},
   "outputs": [],
   "source": [
    "#This is the url you will scrape in this exercise\n",
    "url = 'http://www.imdb.com/chart/top'"
   ]
  },
  {
   "cell_type": "code",
   "execution_count": null,
   "metadata": {},
   "outputs": [],
   "source": [
    "#your code"
   ]
  },
  {
   "cell_type": "markdown",
   "metadata": {},
   "source": [
    "#### Find the live weather report (temperature, wind speed, description and weather) of a given city."
   ]
  },
  {
   "cell_type": "code",
   "execution_count": null,
   "metadata": {},
   "outputs": [],
   "source": [
    "#https://openweathermap.org/current\n",
    "city = city=input('Enter the city:')\n",
    "url = 'http://api.openweathermap.org/data/2.5/weather?'+'q='+city+'&APPID=b35975e18dc93725acb092f7272cc6b8&units=metric'"
   ]
  },
  {
   "cell_type": "code",
   "execution_count": null,
   "metadata": {},
   "outputs": [],
   "source": [
    "# your code"
   ]
  },
  {
   "cell_type": "markdown",
   "metadata": {},
   "source": [
    "#### Book name,price and stock availability as a pandas dataframe."
   ]
  },
  {
   "cell_type": "code",
   "execution_count": null,
   "metadata": {},
   "outputs": [],
   "source": [
    "# This is the url you will scrape in this exercise. \n",
    "# It is a fictional bookstore created to be scraped. \n",
    "url = 'http://books.toscrape.com/'"
   ]
  },
  {
   "cell_type": "code",
   "execution_count": null,
   "metadata": {},
   "outputs": [],
   "source": [
    "#your code"
   ]
  }
 ],
 "metadata": {
  "kernelspec": {
   "display_name": "Python 3",
   "language": "python",
   "name": "python3"
  },
  "language_info": {
   "codemirror_mode": {
    "name": "ipython",
    "version": 3
   },
   "file_extension": ".py",
   "mimetype": "text/x-python",
   "name": "python",
   "nbconvert_exporter": "python",
   "pygments_lexer": "ipython3",
   "version": "3.10.13"
  }
 },
 "nbformat": 4,
 "nbformat_minor": 2
}
