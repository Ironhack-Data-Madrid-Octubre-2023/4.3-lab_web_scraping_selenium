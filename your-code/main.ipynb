{
 "cells": [
  {
   "cell_type": "markdown",
   "metadata": {},
   "source": [
    "# Web Scraping Lab\n",
    "\n",
    "You will find in this notebook some scrapy exercises to practise your scraping skills.\n",
    "\n",
    "**Tips:**\n",
    "\n",
    "- Check the response status code for each request to ensure you have obtained the intended contennt.\n",
    "- Print the response text in each request to understand the kind of info you are getting and its format.\n",
    "- Check for patterns in the response text to extract the data/info requested in each question.\n",
    "- Visit each url and take a look at its source through Chrome DevTools. You'll need to identify the html tags, special class names etc. used for the html content you are expected to extract."
   ]
  },
  {
   "cell_type": "markdown",
   "metadata": {},
   "source": [
    "- [Selenium Doc](https://www.selenium.dev/documentation/)\n",
    "- [Requests library](http://docs.python-requests.org/en/master/#the-user-guide) documentation \n",
    "- [Urllib](https://docs.python.org/3/library/urllib.html#module-urllib)\n",
    "- [re lib](https://docs.python.org/3/library/re.html)\n",
    "- [lxml lib](https://lxml.de/)\n",
    "- [Scrapy](https://scrapy.org/)\n",
    "- [List of HTTP status codes](https://en.wikipedia.org/wiki/List_of_HTTP_status_codes)\n",
    "- [HTML basics](http://www.simplehtmlguide.com/cheatsheet.php)\n",
    "- [CSS basics](https://www.cssbasics.com/#page_start)"
   ]
  },
  {
   "cell_type": "markdown",
   "metadata": {},
   "source": [
    "#### Below are the libraries and modules you may need. `Selenium` and `pandas` are imported for you."
   ]
  },
  {
   "cell_type": "code",
   "execution_count": 1,
   "metadata": {},
   "outputs": [],
   "source": [
    "import pandas as pd\n",
    "from selenium.webdriver.chrome.options import Options\n",
    "from webdriver_manager.chrome import ChromeDriverManager"
   ]
  },
  {
   "cell_type": "markdown",
   "metadata": {},
   "source": [
    "#### Enable the options you may need. In the next cell you have an example of them but you can choose to use them or not."
   ]
  },
  {
   "cell_type": "code",
   "execution_count": 2,
   "metadata": {},
   "outputs": [],
   "source": [
    "#driver configuration\n",
    "opciones=Options()\n",
    "\n",
    "opciones.add_experimental_option('excludeSwitches', ['enable-automation'])\n",
    "opciones.add_experimental_option('useAutomationExtension', False)\n",
    "opciones.headless=False    # si True, no aperece la ventana (headless=no visible)\n",
    "opciones.add_argument('--start-maximized')         # comienza maximizado\n",
    "#opciones.add_argument('user-data-dir=selenium')    # mantiene las cookies\n",
    "#opciones.add_extension('driver_folder/adblock.crx')       # adblocker\n",
    "opciones.add_argument('--incognito')"
   ]
  },
  {
   "cell_type": "code",
   "execution_count": 3,
   "metadata": {},
   "outputs": [],
   "source": [
    "from selenium import webdriver\n",
    "from selenium.webdriver.common.by import By\n",
    "\n",
    "PATH = 'driver/chromedriver.exe'\n",
    "\n",
    "driver = webdriver.Chrome()\n",
    "driver.get('https://www.google.es')"
   ]
  },
  {
   "cell_type": "markdown",
   "metadata": {},
   "source": [
    "#### Download, parse, and print the content from the Trending Developers page from GitHub:"
   ]
  },
  {
   "cell_type": "code",
   "execution_count": 4,
   "metadata": {},
   "outputs": [],
   "source": [
    "# This is the url you will scrape in this exercise\n",
    "url = 'https://github.com/trending/developers'"
   ]
  },
  {
   "cell_type": "code",
   "execution_count": 5,
   "metadata": {},
   "outputs": [],
   "source": [
    "driver.get(url)"
   ]
  },
  {
   "cell_type": "code",
   "execution_count": 6,
   "metadata": {},
   "outputs": [
    {
     "data": {
      "text/plain": [
       "['Ismail Pelaseyed', 'homanp']"
      ]
     },
     "execution_count": 6,
     "metadata": {},
     "output_type": "execute_result"
    }
   ],
   "source": [
    "driver.find_elements(By.CSS_SELECTOR, 'div.col-md-6')[0].text.split('\\n')"
   ]
  },
  {
   "cell_type": "markdown",
   "metadata": {},
   "source": [
    "#### Display the names of the trending developers retrieved in the previous step.\n",
    "\n",
    "Your output should be a Python list of developer names. Each name should not contain any html tag.\n",
    "\n",
    "**Instructions:**\n",
    "\n",
    "1. Find out the html tag and class names used for the developer names.\n",
    "\n",
    "1. Use string manipulation techniques to replace whitespaces and linebreaks (i.e. `\\n`) in the *text* of each html element. Use a list to store the clean names.\n",
    "\n",
    "1. Print the list of names.\n",
    "\n",
    "Your output should look like below:\n",
    "\n",
    "```\n",
    "['trimstray (@trimstray)',\n",
    " 'joewalnes (JoeWalnes)',\n",
    " 'charlax (Charles-AxelDein)',\n",
    " 'ForrestKnight (ForrestKnight)',\n",
    " 'revery-ui (revery-ui)',\n",
    " 'alibaba (Alibaba)',\n",
    " 'Microsoft (Microsoft)',\n",
    " 'github (GitHub)',\n",
    " 'facebook (Facebook)',\n",
    " 'boazsegev (Bo)',\n",
    " 'google (Google)',\n",
    " 'cloudfetch',\n",
    " 'sindresorhus (SindreSorhus)',\n",
    " 'tensorflow',\n",
    " 'apache (TheApacheSoftwareFoundation)',\n",
    " 'DevonCrawford (DevonCrawford)',\n",
    " 'ARMmbed (ArmMbed)',\n",
    " 'vuejs (vuejs)',\n",
    " 'fastai (fast.ai)',\n",
    " 'QiShaoXuan (Qi)',\n",
    " 'joelparkerhenderson (JoelParkerHenderson)',\n",
    " 'torvalds (LinusTorvalds)',\n",
    " 'CyC2018',\n",
    " 'komeiji-satori (神楽坂覚々)',\n",
    " 'script-8']\n",
    " ```"
   ]
  },
  {
   "cell_type": "code",
   "execution_count": 7,
   "metadata": {},
   "outputs": [],
   "source": [
    "lista = [e.text.split('\\n') for e in driver.find_elements(By.CSS_SELECTOR, 'div.col-md-6')]"
   ]
  },
  {
   "cell_type": "code",
   "execution_count": 8,
   "metadata": {},
   "outputs": [
    {
     "data": {
      "text/plain": [
       "[['Ismail Pelaseyed', 'homanp'],\n",
       " ['Chris Banes', 'chrisbanes'],\n",
       " ['Travis Cline', 'tmc'],\n",
       " ['Xiaoyu Zhang', 'BBuf'],\n",
       " ['Stefan Prodan', 'stefanprodan'],\n",
       " ['Pedro Cattori', 'pcattori'],\n",
       " ['POPULAR REPO', 'remix-template-vite'],\n",
       " ['lllyasviel'],\n",
       " ['Arvin Xu', 'arvinxx'],\n",
       " ['Howard Wu', 'howardwu'],\n",
       " ['Shahed Nasser', 'shahednasser'],\n",
       " ['Kailash Nadh', 'knadh'],\n",
       " ['Mattt', 'mattt'],\n",
       " ['kixelated'],\n",
       " ['Brad Fitzpatrick', 'bradfitz'],\n",
       " ['POPULAR REPO', 'issue-tracker-behaviors'],\n",
       " ['Miško Hevery', 'mhevery'],\n",
       " ['POPULAR REPO', 'JavaScriptVM_under_the_hood'],\n",
       " ['Andrew Lock', 'andrewlock'],\n",
       " ['Brian Smith', 'briansmith'],\n",
       " ['Numan', 'numandev1'],\n",
       " ['Fons van der Plas', 'fonsp'],\n",
       " ['Leonid Bugaev', 'buger'],\n",
       " ['wū yāng', 'uyarn'],\n",
       " ['Works for @Tencent', '@Tencent'],\n",
       " ['Steven Nguyen', 'stnguyen90'],\n",
       " ['Argo Zhang', 'ArgoZhang'],\n",
       " ['Josh Stein', 'jcstein'],\n",
       " ['Mike McNeil', 'mikermcneil'],\n",
       " ['Works for Fleet (@fleetdm)', 'Fleet (@fleetdm)']]"
      ]
     },
     "execution_count": 8,
     "metadata": {},
     "output_type": "execute_result"
    }
   ],
   "source": [
    "[e for e in lista if len(e)<3]"
   ]
  },
  {
   "cell_type": "markdown",
   "metadata": {},
   "source": [
    "#### Display the trending Python repositories in GitHub\n",
    "\n",
    "The steps to solve this problem is similar to the previous one except that you need to find out the repository names instead of developer names."
   ]
  },
  {
   "cell_type": "code",
   "execution_count": 9,
   "metadata": {},
   "outputs": [],
   "source": [
    "# This is the url you will scrape in this exercise\n",
    "url = 'https://github.com/trending/python?since=daily'"
   ]
  },
  {
   "cell_type": "code",
   "execution_count": 10,
   "metadata": {},
   "outputs": [],
   "source": [
    "driver.get(url)"
   ]
  },
  {
   "cell_type": "code",
   "execution_count": 11,
   "metadata": {},
   "outputs": [
    {
     "data": {
      "text/plain": [
       "'swisskyrepo / PayloadsAllTheThings'"
      ]
     },
     "execution_count": 11,
     "metadata": {},
     "output_type": "execute_result"
    }
   ],
   "source": [
    "filas=driver.find_element(By.XPATH, '//h2//a').text\n",
    "filas"
   ]
  },
  {
   "cell_type": "code",
   "execution_count": 12,
   "metadata": {},
   "outputs": [
    {
     "data": {
      "text/plain": [
       "['swisskyrepo / PayloadsAllTheThings',\n",
       " 'THUDM / ChatGLM3',\n",
       " 'PaddlePaddle / PaddleOCR',\n",
       " 'langchain-ai / langchain',\n",
       " 'dataelement / bisheng',\n",
       " 'Azure / MS-AMP',\n",
       " 'xxlong0 / Wonder3D',\n",
       " 'yunjey / pytorch-tutorial',\n",
       " 'facebookresearch / llama',\n",
       " 'localstack / localstack',\n",
       " 'OpenBMB / ChatDev',\n",
       " 'ray-project / ray',\n",
       " 'CycodeLabs / raven',\n",
       " 'ageitgey / face_recognition',\n",
       " 'iam-veeramalla / aws-devops-zero-to-hero',\n",
       " 'openai / whisper',\n",
       " 'sqlfluff / sqlfluff',\n",
       " 'imartinez / privateGPT',\n",
       " 'reflex-dev / reflex',\n",
       " 'donnemartin / system-design-primer',\n",
       " 'lm-sys / FastChat',\n",
       " 'togethercomputer / RedPajama-Data',\n",
       " 'SkyworkAI / Skywork',\n",
       " 'microsoft / qlib',\n",
       " 'pathwaycom / llm-app']"
      ]
     },
     "execution_count": 12,
     "metadata": {},
     "output_type": "execute_result"
    }
   ],
   "source": [
    "resultado=[]\n",
    "for f in driver.find_elements(By.XPATH, '//h2//a'):\n",
    "    resultado.append(f.text)\n",
    "resultado"
   ]
  },
  {
   "cell_type": "code",
   "execution_count": 13,
   "metadata": {},
   "outputs": [
    {
     "data": {
      "text/plain": [
       "['swisskyrepo / PayloadsAllTheThings',\n",
       " 'THUDM / ChatGLM3',\n",
       " 'PaddlePaddle / PaddleOCR',\n",
       " 'langchain-ai / langchain',\n",
       " 'dataelement / bisheng',\n",
       " 'Azure / MS-AMP',\n",
       " 'xxlong0 / Wonder3D',\n",
       " 'yunjey / pytorch-tutorial',\n",
       " 'facebookresearch / llama',\n",
       " 'localstack / localstack',\n",
       " 'OpenBMB / ChatDev',\n",
       " 'ray-project / ray',\n",
       " 'CycodeLabs / raven',\n",
       " 'ageitgey / face_recognition',\n",
       " 'iam-veeramalla / aws-devops-zero-to-hero',\n",
       " 'openai / whisper',\n",
       " 'sqlfluff / sqlfluff',\n",
       " 'imartinez / privateGPT',\n",
       " 'reflex-dev / reflex',\n",
       " 'donnemartin / system-design-primer',\n",
       " 'lm-sys / FastChat',\n",
       " 'togethercomputer / RedPajama-Data',\n",
       " 'SkyworkAI / Skywork',\n",
       " 'microsoft / qlib',\n",
       " 'pathwaycom / llm-app']"
      ]
     },
     "execution_count": 13,
     "metadata": {},
     "output_type": "execute_result"
    }
   ],
   "source": [
    "[e.text for e in driver.find_elements(By.XPATH, '//h2//a')]"
   ]
  },
  {
   "cell_type": "markdown",
   "metadata": {},
   "source": [
    "#### Display all the image links from Walt Disney wikipedia page"
   ]
  },
  {
   "cell_type": "code",
   "execution_count": 14,
   "metadata": {},
   "outputs": [],
   "source": [
    "# This is the url you will scrape in this exercise\n",
    "url = 'https://en.wikipedia.org/wiki/Walt_Disney'\n",
    "driver.get(url)"
   ]
  },
  {
   "cell_type": "code",
   "execution_count": 15,
   "metadata": {},
   "outputs": [
    {
     "data": {
      "text/plain": [
       "[<selenium.webdriver.remote.webelement.WebElement (session=\"0970daea1c37c169b0e55c54202cb2e6\", element=\"1F99C0E039688231E89CD47200315C31_element_1\")>,\n",
       " <selenium.webdriver.remote.webelement.WebElement (session=\"0970daea1c37c169b0e55c54202cb2e6\", element=\"1F99C0E039688231E89CD47200315C31_element_2\")>,\n",
       " <selenium.webdriver.remote.webelement.WebElement (session=\"0970daea1c37c169b0e55c54202cb2e6\", element=\"1F99C0E039688231E89CD47200315C31_element_3\")>,\n",
       " <selenium.webdriver.remote.webelement.WebElement (session=\"0970daea1c37c169b0e55c54202cb2e6\", element=\"1F99C0E039688231E89CD47200315C31_element_4\")>,\n",
       " <selenium.webdriver.remote.webelement.WebElement (session=\"0970daea1c37c169b0e55c54202cb2e6\", element=\"1F99C0E039688231E89CD47200315C31_element_5\")>,\n",
       " <selenium.webdriver.remote.webelement.WebElement (session=\"0970daea1c37c169b0e55c54202cb2e6\", element=\"1F99C0E039688231E89CD47200315C31_element_6\")>,\n",
       " <selenium.webdriver.remote.webelement.WebElement (session=\"0970daea1c37c169b0e55c54202cb2e6\", element=\"1F99C0E039688231E89CD47200315C31_element_7\")>,\n",
       " <selenium.webdriver.remote.webelement.WebElement (session=\"0970daea1c37c169b0e55c54202cb2e6\", element=\"1F99C0E039688231E89CD47200315C31_element_8\")>,\n",
       " <selenium.webdriver.remote.webelement.WebElement (session=\"0970daea1c37c169b0e55c54202cb2e6\", element=\"1F99C0E039688231E89CD47200315C31_element_9\")>,\n",
       " <selenium.webdriver.remote.webelement.WebElement (session=\"0970daea1c37c169b0e55c54202cb2e6\", element=\"1F99C0E039688231E89CD47200315C31_element_10\")>,\n",
       " <selenium.webdriver.remote.webelement.WebElement (session=\"0970daea1c37c169b0e55c54202cb2e6\", element=\"1F99C0E039688231E89CD47200315C31_element_11\")>,\n",
       " <selenium.webdriver.remote.webelement.WebElement (session=\"0970daea1c37c169b0e55c54202cb2e6\", element=\"1F99C0E039688231E89CD47200315C31_element_12\")>,\n",
       " <selenium.webdriver.remote.webelement.WebElement (session=\"0970daea1c37c169b0e55c54202cb2e6\", element=\"1F99C0E039688231E89CD47200315C31_element_13\")>,\n",
       " <selenium.webdriver.remote.webelement.WebElement (session=\"0970daea1c37c169b0e55c54202cb2e6\", element=\"1F99C0E039688231E89CD47200315C31_element_14\")>,\n",
       " <selenium.webdriver.remote.webelement.WebElement (session=\"0970daea1c37c169b0e55c54202cb2e6\", element=\"1F99C0E039688231E89CD47200315C31_element_15\")>,\n",
       " <selenium.webdriver.remote.webelement.WebElement (session=\"0970daea1c37c169b0e55c54202cb2e6\", element=\"1F99C0E039688231E89CD47200315C31_element_16\")>,\n",
       " <selenium.webdriver.remote.webelement.WebElement (session=\"0970daea1c37c169b0e55c54202cb2e6\", element=\"1F99C0E039688231E89CD47200315C31_element_17\")>,\n",
       " <selenium.webdriver.remote.webelement.WebElement (session=\"0970daea1c37c169b0e55c54202cb2e6\", element=\"1F99C0E039688231E89CD47200315C31_element_18\")>]"
      ]
     },
     "execution_count": 15,
     "metadata": {},
     "output_type": "execute_result"
    }
   ],
   "source": [
    "driver.find_elements(By.XPATH, '//a//img')"
   ]
  },
  {
   "cell_type": "code",
   "execution_count": 16,
   "metadata": {},
   "outputs": [
    {
     "data": {
      "text/plain": [
       "['https://en.wikipedia.org/static/images/icons/wikipedia.png',\n",
       " 'https://en.wikipedia.org/static/images/mobile/copyright/wikipedia-wordmark-en.svg',\n",
       " 'https://en.wikipedia.org/static/images/mobile/copyright/wikipedia-tagline-en.svg',\n",
       " 'https://upload.wikimedia.org/wikipedia/en/thumb/e/e7/Cscr-featured.svg/20px-Cscr-featured.svg.png',\n",
       " 'https://upload.wikimedia.org/wikipedia/en/thumb/8/8c/Extended-protection-shackle.svg/20px-Extended-protection-shackle.svg.png',\n",
       " 'https://upload.wikimedia.org/wikipedia/commons/thumb/d/df/Walt_Disney_1946.JPG/220px-Walt_Disney_1946.JPG',\n",
       " 'https://upload.wikimedia.org/wikipedia/commons/thumb/8/87/Walt_Disney_1942_signature.svg/150px-Walt_Disney_1942_signature.svg.png',\n",
       " 'https://upload.wikimedia.org/wikipedia/commons/thumb/3/3a/Walt_Disney_Birthplace_Exterior_Hermosa_Chicago_Illinois.jpg/220px-Walt_Disney_Birthplace_Exterior_Hermosa_Chicago_Illinois.jpg',\n",
       " 'https://upload.wikimedia.org/wikipedia/commons/thumb/c/c4/Walt_Disney_envelope_ca._1921.jpg/220px-Walt_Disney_envelope_ca._1921.jpg',\n",
       " 'https://upload.wikimedia.org/wikipedia/en/thumb/4/4e/Steamboat-willie.jpg/220px-Steamboat-willie.jpg',\n",
       " 'https://upload.wikimedia.org/wikipedia/commons/thumb/c/cd/Walt_Disney_Snow_white_1937_trailer_screenshot_%2813%29.jpg/220px-Walt_Disney_Snow_white_1937_trailer_screenshot_%2813%29.jpg',\n",
       " 'https://upload.wikimedia.org/wikipedia/commons/thumb/1/15/Disney_drawing_goofy.jpg/170px-Disney_drawing_goofy.jpg',\n",
       " 'https://upload.wikimedia.org/wikipedia/commons/thumb/8/8c/WaltDisneyplansDisneylandDec1954.jpg/220px-WaltDisneyplansDisneylandDec1954.jpg',\n",
       " 'https://upload.wikimedia.org/wikipedia/commons/thumb/f/ff/Walt_disney_portrait_right.jpg/170px-Walt_disney_portrait_right.jpg',\n",
       " 'https://upload.wikimedia.org/wikipedia/commons/thumb/1/1a/Walt_Disney_Grave.JPG/170px-Walt_Disney_Grave.JPG',\n",
       " 'https://upload.wikimedia.org/wikipedia/commons/thumb/1/13/DisneySchiphol1951.jpg/220px-DisneySchiphol1951.jpg',\n",
       " 'https://upload.wikimedia.org/wikipedia/commons/thumb/6/6c/Disney1968.jpg/170px-Disney1968.jpg',\n",
       " 'https://upload.wikimedia.org/wikipedia/commons/thumb/b/b0/Disney_Oscar_1953_%28cropped%29.jpg/170px-Disney_Oscar_1953_%28cropped%29.jpg',\n",
       " 'https://upload.wikimedia.org/wikipedia/en/thumb/8/8a/OOjs_UI_icon_edit-ltr-progressive.svg/10px-OOjs_UI_icon_edit-ltr-progressive.svg.png',\n",
       " 'https://upload.wikimedia.org/wikipedia/en/thumb/8/8a/OOjs_UI_icon_edit-ltr-progressive.svg/10px-OOjs_UI_icon_edit-ltr-progressive.svg.png',\n",
       " 'https://upload.wikimedia.org/wikipedia/commons/thumb/e/e3/Disneyland_Resort_logo.svg/135px-Disneyland_Resort_logo.svg.png',\n",
       " 'https://upload.wikimedia.org/wikipedia/commons/thumb/d/da/Animation_disc.svg/20px-Animation_disc.svg.png',\n",
       " 'https://upload.wikimedia.org/wikipedia/commons/thumb/1/1a/Magic_Kingdom_castle.jpg/15px-Magic_Kingdom_castle.jpg',\n",
       " 'https://upload.wikimedia.org/wikipedia/commons/thumb/8/8c/Blank_television_set.svg/21px-Blank_television_set.svg.png',\n",
       " 'https://upload.wikimedia.org/wikipedia/en/thumb/8/8a/OOjs_UI_icon_edit-ltr-progressive.svg/10px-OOjs_UI_icon_edit-ltr-progressive.svg.png',\n",
       " 'https://en.wikipedia.org/static/images/footer/wikimedia-button.png',\n",
       " 'https://en.wikipedia.org/static/images/footer/poweredby_mediawiki_88x31.png']"
      ]
     },
     "execution_count": 16,
     "metadata": {},
     "output_type": "execute_result"
    }
   ],
   "source": [
    "resultado=[]\n",
    "for f in driver.find_elements(By.XPATH, '//a//img'):\n",
    "    link=f.get_attribute('src')\n",
    "    resultado.append(link)\n",
    "resultado"
   ]
  },
  {
   "cell_type": "markdown",
   "metadata": {},
   "source": [
    "#### Retrieve an arbitary Wikipedia page of \"Python\" and create a list of links on that page"
   ]
  },
  {
   "cell_type": "code",
   "execution_count": 17,
   "metadata": {},
   "outputs": [],
   "source": [
    "# This is the url you will scrape in this exercise\n",
    "url ='https://en.wikipedia.org/wiki/Python' \n",
    "driver.get(url)"
   ]
  },
  {
   "cell_type": "code",
   "execution_count": 18,
   "metadata": {},
   "outputs": [
    {
     "data": {
      "text/plain": [
       "<selenium.webdriver.remote.webelement.WebElement (session=\"0970daea1c37c169b0e55c54202cb2e6\", element=\"110EDAF425D24291B505F85E6DD1709F_element_65\")>"
      ]
     },
     "execution_count": 18,
     "metadata": {},
     "output_type": "execute_result"
    }
   ],
   "source": [
    "driver.find_element(By.XPATH, '//li//a')"
   ]
  },
  {
   "cell_type": "code",
   "execution_count": 19,
   "metadata": {},
   "outputs": [
    {
     "data": {
      "text/plain": [
       "['https://en.wikipedia.org/wiki/Main_Page',\n",
       " 'https://en.wikipedia.org/wiki/Wikipedia:Contents',\n",
       " 'https://en.wikipedia.org/wiki/Portal:Current_events',\n",
       " 'https://en.wikipedia.org/wiki/Special:Random',\n",
       " 'https://en.wikipedia.org/wiki/Wikipedia:About',\n",
       " 'https://en.wikipedia.org/wiki/Wikipedia:Contact_us',\n",
       " 'https://donate.wikimedia.org/wiki/Special:FundraiserRedirector?utm_source=donate&utm_medium=sidebar&utm_campaign=C13_en.wikipedia.org&uselang=en',\n",
       " 'https://en.wikipedia.org/wiki/Help:Contents',\n",
       " 'https://en.wikipedia.org/wiki/Help:Introduction',\n",
       " 'https://en.wikipedia.org/wiki/Wikipedia:Community_portal',\n",
       " 'https://en.wikipedia.org/wiki/Special:RecentChanges',\n",
       " 'https://en.wikipedia.org/wiki/Wikipedia:File_upload_wizard',\n",
       " 'https://en.wikipedia.org/w/index.php?title=Special:CreateAccount&returnto=Python',\n",
       " 'https://en.wikipedia.org/w/index.php?title=Special:UserLogin&returnto=Python',\n",
       " 'https://en.wikipedia.org/w/index.php?title=Special:CreateAccount&returnto=Python',\n",
       " 'https://en.wikipedia.org/w/index.php?title=Special:UserLogin&returnto=Python',\n",
       " 'https://en.wikipedia.org/wiki/Special:MyContributions',\n",
       " 'https://en.wikipedia.org/wiki/Special:MyTalk',\n",
       " 'https://en.wikipedia.org/wiki/Python#',\n",
       " 'https://en.wikipedia.org/wiki/Python#Snakes',\n",
       " 'https://en.wikipedia.org/wiki/Python#Computing',\n",
       " 'https://en.wikipedia.org/wiki/Python#People',\n",
       " 'https://en.wikipedia.org/wiki/Python#Roller_coasters',\n",
       " 'https://en.wikipedia.org/wiki/Python#Vehicles',\n",
       " 'https://en.wikipedia.org/wiki/Python#Weaponry',\n",
       " 'https://en.wikipedia.org/wiki/Python#Other_uses',\n",
       " 'https://en.wikipedia.org/wiki/Python#See_also',\n",
       " 'https://af.wikipedia.org/wiki/Python',\n",
       " 'https://als.wikipedia.org/wiki/Python',\n",
       " 'https://ar.wikipedia.org/wiki/%D8%A8%D8%A7%D9%8A%D8%AB%D9%88%D9%86_(%D8%AA%D9%88%D8%B6%D9%8A%D8%AD)',\n",
       " 'https://az.wikipedia.org/wiki/Python_(d%C9%99qiql%C9%99%C5%9Fdirm%C9%99)',\n",
       " 'https://bn.wikipedia.org/wiki/%E0%A6%AA%E0%A6%BE%E0%A6%87%E0%A6%A5%E0%A6%A8_(%E0%A6%A6%E0%A7%8D%E0%A6%AC%E0%A7%8D%E0%A6%AF%E0%A6%B0%E0%A7%8D%E0%A6%A5%E0%A6%A4%E0%A6%BE_%E0%A6%A8%E0%A6%BF%E0%A6%B0%E0%A6%B8%E0%A6%A8)',\n",
       " 'https://be.wikipedia.org/wiki/Python',\n",
       " 'https://bg.wikipedia.org/wiki/%D0%9F%D0%B8%D1%82%D0%BE%D0%BD_(%D0%BF%D0%BE%D1%8F%D1%81%D0%BD%D0%B5%D0%BD%D0%B8%D0%B5)',\n",
       " 'https://cs.wikipedia.org/wiki/Python_(rozcestn%C3%ADk)',\n",
       " 'https://da.wikipedia.org/wiki/Python',\n",
       " 'https://de.wikipedia.org/wiki/Python',\n",
       " 'https://eo.wikipedia.org/wiki/Pitono_(apartigilo)',\n",
       " 'https://eu.wikipedia.org/wiki/Python_(argipena)',\n",
       " 'https://fa.wikipedia.org/wiki/%D9%BE%D8%A7%DB%8C%D8%AA%D9%88%D9%86',\n",
       " 'https://fr.wikipedia.org/wiki/Python',\n",
       " 'https://ko.wikipedia.org/wiki/%ED%8C%8C%EC%9D%B4%EC%84%A0',\n",
       " 'https://hr.wikipedia.org/wiki/Python_(razdvojba)',\n",
       " 'https://io.wikipedia.org/wiki/Pitono',\n",
       " 'https://id.wikipedia.org/wiki/Python',\n",
       " 'https://ia.wikipedia.org/wiki/Python_(disambiguation)',\n",
       " 'https://is.wikipedia.org/wiki/Python_(a%C3%B0greining)',\n",
       " 'https://it.wikipedia.org/wiki/Python_(disambigua)',\n",
       " 'https://he.wikipedia.org/wiki/%D7%A4%D7%99%D7%AA%D7%95%D7%9F',\n",
       " 'https://ka.wikipedia.org/wiki/%E1%83%9E%E1%83%98%E1%83%97%E1%83%9D%E1%83%9C%E1%83%98_(%E1%83%9B%E1%83%A0%E1%83%90%E1%83%95%E1%83%90%E1%83%9A%E1%83%9B%E1%83%9C%E1%83%98%E1%83%A8%E1%83%95%E1%83%9C%E1%83%94%E1%83%9A%E1%83%9D%E1%83%95%E1%83%90%E1%83%9C%E1%83%98)',\n",
       " 'https://kg.wikipedia.org/wiki/Mboma_(nyoka)',\n",
       " 'https://la.wikipedia.org/wiki/Python_(discretiva)',\n",
       " 'https://lb.wikipedia.org/wiki/Python',\n",
       " 'https://hu.wikipedia.org/wiki/Python_(egy%C3%A9rtelm%C5%B1s%C3%ADt%C5%91_lap)',\n",
       " 'https://mr.wikipedia.org/wiki/%E0%A4%AA%E0%A4%BE%E0%A4%AF%E0%A4%A5%E0%A5%89%E0%A4%A8_(%E0%A4%86%E0%A4%9C%E0%A5%8D%E0%A4%9E%E0%A4%BE%E0%A4%B5%E0%A4%B2%E0%A5%80_%E0%A4%AD%E0%A4%BE%E0%A4%B7%E0%A4%BE)',\n",
       " 'https://nl.wikipedia.org/wiki/Python',\n",
       " 'https://ja.wikipedia.org/wiki/%E3%83%91%E3%82%A4%E3%82%BD%E3%83%B3',\n",
       " 'https://no.wikipedia.org/wiki/Pyton',\n",
       " 'https://pl.wikipedia.org/wiki/Pyton',\n",
       " 'https://pt.wikipedia.org/wiki/Python_(desambigua%C3%A7%C3%A3o)',\n",
       " 'https://ru.wikipedia.org/wiki/Python_(%D0%B7%D0%BD%D0%B0%D1%87%D0%B5%D0%BD%D0%B8%D1%8F)',\n",
       " 'https://sk.wikipedia.org/wiki/Python',\n",
       " 'https://sr.wikipedia.org/wiki/%D0%9F%D0%B8%D1%82%D0%BE%D0%BD_(%D0%B2%D0%B8%D1%88%D0%B5%D0%B7%D0%BD%D0%B0%D1%87%D0%BD%D0%B0_%D0%BE%D0%B4%D1%80%D0%B5%D0%B4%D0%BD%D0%B8%D1%86%D0%B0)',\n",
       " 'https://sh.wikipedia.org/wiki/Python',\n",
       " 'https://fi.wikipedia.org/wiki/Python',\n",
       " 'https://sv.wikipedia.org/wiki/Pyton',\n",
       " 'https://th.wikipedia.org/wiki/%E0%B9%84%E0%B8%9E%E0%B8%97%E0%B8%AD%E0%B8%99',\n",
       " 'https://tr.wikipedia.org/wiki/Python_(anlam_ayr%C4%B1m%C4%B1)',\n",
       " 'https://uk.wikipedia.org/wiki/%D0%9F%D1%96%D1%84%D0%BE%D0%BD',\n",
       " 'https://ur.wikipedia.org/wiki/%D9%BE%D8%A7%D8%A6%DB%8C%D8%AA%DA%BE%D9%88%D9%86',\n",
       " 'https://vi.wikipedia.org/wiki/Python',\n",
       " 'https://zh.wikipedia.org/wiki/Python_(%E6%B6%88%E6%AD%A7%E4%B9%89)',\n",
       " 'https://en.wikipedia.org/wiki/Python',\n",
       " 'https://en.wikipedia.org/wiki/Talk:Python',\n",
       " 'https://en.wikipedia.org/wiki/Python',\n",
       " 'https://en.wikipedia.org/w/index.php?title=Python&action=edit&editintro=Template:Disambig_editintro',\n",
       " 'https://en.wikipedia.org/w/index.php?title=Python&action=history',\n",
       " 'https://en.wikipedia.org/wiki/Python',\n",
       " 'https://en.wikipedia.org/w/index.php?title=Python&action=edit',\n",
       " 'https://en.wikipedia.org/w/index.php?title=Python&action=history',\n",
       " 'https://en.wikipedia.org/wiki/Special:WhatLinksHere/Python',\n",
       " 'https://en.wikipedia.org/wiki/Special:RecentChangesLinked/Python',\n",
       " 'https://en.wikipedia.org/wiki/Wikipedia:File_Upload_Wizard',\n",
       " 'https://en.wikipedia.org/wiki/Special:SpecialPages',\n",
       " 'https://en.wikipedia.org/w/index.php?title=Python&oldid=1182751793',\n",
       " 'https://en.wikipedia.org/w/index.php?title=Python&action=info',\n",
       " 'https://en.wikipedia.org/w/index.php?title=Special:CiteThisPage&page=Python&id=1182751793&wpFormIdentifier=titleform',\n",
       " 'https://en.wikipedia.org/w/index.php?title=Special:UrlShortener&url=https%3A%2F%2Fen.wikipedia.org%2Fwiki%2FPython',\n",
       " 'https://www.wikidata.org/wiki/Special:EntityPage/Q747452',\n",
       " 'https://www.wikidata.org/wiki/Special:EntityPage/Q747452#sitelinks-wikipedia',\n",
       " 'https://en.wikipedia.org/w/index.php?title=Special:DownloadAsPdf&page=Python&action=show-download-screen',\n",
       " 'https://en.wikipedia.org/w/index.php?title=Python&printable=yes',\n",
       " 'https://commons.wikimedia.org/wiki/Category:Python',\n",
       " 'https://en.wikipedia.org/wiki/Pythonidae',\n",
       " 'https://en.wikipedia.org/wiki/Python_(genus)',\n",
       " 'https://en.wikipedia.org/wiki/Python_(mythology)',\n",
       " 'https://en.wikipedia.org/wiki/Python_(programming_language)',\n",
       " 'https://en.wikipedia.org/wiki/CMU_Common_Lisp',\n",
       " 'https://en.wikipedia.org/wiki/PERQ#PERQ_3',\n",
       " 'https://en.wikipedia.org/wiki/Python_of_Aenus',\n",
       " 'https://en.wikipedia.org/wiki/Python_(painter)',\n",
       " 'https://en.wikipedia.org/wiki/Python_of_Byzantium',\n",
       " 'https://en.wikipedia.org/wiki/Python_of_Catana',\n",
       " 'https://en.wikipedia.org/wiki/Python_Anghelo',\n",
       " 'https://en.wikipedia.org/wiki/Python_(Efteling)',\n",
       " 'https://en.wikipedia.org/wiki/Python_(Busch_Gardens_Tampa_Bay)',\n",
       " 'https://en.wikipedia.org/wiki/Python_(Coney_Island,_Cincinnati,_Ohio)',\n",
       " 'https://en.wikipedia.org/wiki/Python_(automobile_maker)',\n",
       " 'https://en.wikipedia.org/wiki/Python_(Ford_prototype)',\n",
       " 'https://en.wikipedia.org/wiki/Python_(missile)',\n",
       " 'https://en.wikipedia.org/wiki/Python_(nuclear_primary)',\n",
       " 'https://en.wikipedia.org/wiki/Colt_Python',\n",
       " 'https://en.wikipedia.org/wiki/Python_(codename)',\n",
       " 'https://en.wikipedia.org/wiki/Python_(film)',\n",
       " 'https://en.wikipedia.org/wiki/Monty_Python',\n",
       " 'https://en.wikipedia.org/wiki/Python_(Monty)_Pictures',\n",
       " 'https://en.wikipedia.org/wiki/Timon_of_Phlius',\n",
       " 'https://en.wikipedia.org/wiki/Pyton',\n",
       " 'https://en.wikipedia.org/wiki/Pithon',\n",
       " 'https://en.wikipedia.org/wiki/Category:Disambiguation_pages',\n",
       " 'https://en.wikipedia.org/wiki/Category:Human_name_disambiguation_pages',\n",
       " 'https://en.wikipedia.org/wiki/Category:Disambiguation_pages_with_given-name-holder_lists',\n",
       " 'https://en.wikipedia.org/wiki/Category:Short_description_is_different_from_Wikidata',\n",
       " 'https://en.wikipedia.org/wiki/Category:All_article_disambiguation_pages',\n",
       " 'https://en.wikipedia.org/wiki/Category:All_disambiguation_pages',\n",
       " 'https://en.wikipedia.org/wiki/Category:Animal_common_name_disambiguation_pages',\n",
       " 'https://en.wikipedia.org/wiki/Wikipedia:Text_of_the_Creative_Commons_Attribution-ShareAlike_4.0_International_License',\n",
       " 'https://en.wikipedia.org/wiki/Wikipedia:Text_of_the_Creative_Commons_Attribution-ShareAlike_4.0_International_License',\n",
       " 'https://foundation.wikimedia.org/wiki/Terms_of_Use',\n",
       " 'https://foundation.wikimedia.org/wiki/Privacy_policy',\n",
       " 'https://www.wikimediafoundation.org/',\n",
       " 'https://foundation.wikimedia.org/wiki/Special:MyLanguage/Policy:Privacy_policy',\n",
       " 'https://en.wikipedia.org/wiki/Wikipedia:About',\n",
       " 'https://en.wikipedia.org/wiki/Wikipedia:General_disclaimer',\n",
       " 'https://en.wikipedia.org/wiki/Wikipedia:Contact_us',\n",
       " 'https://foundation.wikimedia.org/wiki/Special:MyLanguage/Universal_Code_of_Conduct',\n",
       " 'https://developer.wikimedia.org/',\n",
       " 'https://stats.wikimedia.org/#/en.wikipedia.org',\n",
       " 'https://foundation.wikimedia.org/wiki/Special:MyLanguage/Policy:Cookie_statement',\n",
       " 'https://en.m.wikipedia.org/w/index.php?title=Python&mobileaction=toggle_view_mobile',\n",
       " 'https://en.wikipedia.org/wiki/Python#',\n",
       " 'https://wikimediafoundation.org/',\n",
       " 'https://www.mediawiki.org/']"
      ]
     },
     "execution_count": 19,
     "metadata": {},
     "output_type": "execute_result"
    }
   ],
   "source": [
    "resultado=[]\n",
    "for e in driver.find_elements(By.XPATH, '//li//a'):\n",
    "    link=e.get_attribute('href')\n",
    "    resultado.append(link)\n",
    "resultado"
   ]
  },
  {
   "cell_type": "markdown",
   "metadata": {},
   "source": [
    "#### Number of Titles that have changed in the United States Code since its last release point "
   ]
  },
  {
   "cell_type": "code",
   "execution_count": 20,
   "metadata": {},
   "outputs": [],
   "source": [
    "# This is the url you will scrape in this exercise\n",
    "url = 'http://uscode.house.gov/download/download.shtml'\n",
    "driver.get(url)"
   ]
  },
  {
   "cell_type": "code",
   "execution_count": 21,
   "metadata": {},
   "outputs": [
    {
     "data": {
      "text/plain": [
       "<selenium.webdriver.remote.webelement.WebElement (session=\"0970daea1c37c169b0e55c54202cb2e6\", element=\"C5F797F2E07D361A4C41AC750D4EF954_element_25\")>"
      ]
     },
     "execution_count": 21,
     "metadata": {},
     "output_type": "execute_result"
    }
   ],
   "source": [
    "driver.find_element(By.CLASS_NAME, 'usctitlechanged')"
   ]
  },
  {
   "cell_type": "code",
   "execution_count": 22,
   "metadata": {},
   "outputs": [
    {
     "data": {
      "text/plain": [
       "2"
      ]
     },
     "execution_count": 22,
     "metadata": {},
     "output_type": "execute_result"
    }
   ],
   "source": [
    "resultado=[]\n",
    "for e in driver.find_elements(By.CLASS_NAME, 'usctitlechanged'):\n",
    "    resultado.append(e)\n",
    "no_titulos=len(resultado)\n",
    "no_titulos"
   ]
  },
  {
   "cell_type": "markdown",
   "metadata": {},
   "source": [
    "#### A Python list with the top ten FBI's Most Wanted names "
   ]
  },
  {
   "cell_type": "code",
   "execution_count": 23,
   "metadata": {},
   "outputs": [],
   "source": [
    "# This is the url you will scrape in this exercise\n",
    "url = 'https://www.fbi.gov/wanted/topten'\n",
    "driver.get(url)"
   ]
  },
  {
   "cell_type": "code",
   "execution_count": 24,
   "metadata": {},
   "outputs": [
    {
     "data": {
      "text/plain": [
       "['ARNOLDO JIMENEZ',\n",
       " 'OMAR ALEXANDER CARDENAS',\n",
       " 'YULAN ADONAY ARCHAGA CARIAS',\n",
       " 'BHADRESHKUMAR CHETANBHAI PATEL',\n",
       " 'DONALD EUGENE FIELDS II',\n",
       " 'RUJA IGNATOVA',\n",
       " 'WILVER VILLEGAS-PALOMINO',\n",
       " 'ALEJANDRO ROSALES CASTILLO',\n",
       " 'ALEXIS FLORES',\n",
       " 'JOSE RODOLFO VILLARREAL-HERNANDEZ']"
      ]
     },
     "execution_count": 24,
     "metadata": {},
     "output_type": "execute_result"
    }
   ],
   "source": [
    "[e.text for e in driver.find_elements(By.CSS_SELECTOR, 'h3.title')]"
   ]
  },
  {
   "cell_type": "markdown",
   "metadata": {},
   "source": [
    "####  20 latest earthquakes info (date, time, latitude, longitude and region name) by the EMSC as a pandas dataframe"
   ]
  },
  {
   "cell_type": "code",
   "execution_count": 25,
   "metadata": {},
   "outputs": [],
   "source": [
    "# This is the url you will scrape in this exercise\n",
    "url = 'https://www.emsc-csem.org/Earthquake/'\n",
    "driver.get(url)"
   ]
  },
  {
   "cell_type": "code",
   "execution_count": 27,
   "metadata": {},
   "outputs": [
    {
     "data": {
      "text/plain": [
       "[<selenium.webdriver.remote.webelement.WebElement (session=\"0970daea1c37c169b0e55c54202cb2e6\", element=\"BD98B961BF8F521532A7A5C22B84C72A_element_37\")>,\n",
       " <selenium.webdriver.remote.webelement.WebElement (session=\"0970daea1c37c169b0e55c54202cb2e6\", element=\"BD98B961BF8F521532A7A5C22B84C72A_element_38\")>,\n",
       " <selenium.webdriver.remote.webelement.WebElement (session=\"0970daea1c37c169b0e55c54202cb2e6\", element=\"BD98B961BF8F521532A7A5C22B84C72A_element_39\")>,\n",
       " <selenium.webdriver.remote.webelement.WebElement (session=\"0970daea1c37c169b0e55c54202cb2e6\", element=\"BD98B961BF8F521532A7A5C22B84C72A_element_40\")>,\n",
       " <selenium.webdriver.remote.webelement.WebElement (session=\"0970daea1c37c169b0e55c54202cb2e6\", element=\"BD98B961BF8F521532A7A5C22B84C72A_element_41\")>,\n",
       " <selenium.webdriver.remote.webelement.WebElement (session=\"0970daea1c37c169b0e55c54202cb2e6\", element=\"BD98B961BF8F521532A7A5C22B84C72A_element_42\")>,\n",
       " <selenium.webdriver.remote.webelement.WebElement (session=\"0970daea1c37c169b0e55c54202cb2e6\", element=\"BD98B961BF8F521532A7A5C22B84C72A_element_43\")>,\n",
       " <selenium.webdriver.remote.webelement.WebElement (session=\"0970daea1c37c169b0e55c54202cb2e6\", element=\"BD98B961BF8F521532A7A5C22B84C72A_element_44\")>,\n",
       " <selenium.webdriver.remote.webelement.WebElement (session=\"0970daea1c37c169b0e55c54202cb2e6\", element=\"BD98B961BF8F521532A7A5C22B84C72A_element_45\")>,\n",
       " <selenium.webdriver.remote.webelement.WebElement (session=\"0970daea1c37c169b0e55c54202cb2e6\", element=\"BD98B961BF8F521532A7A5C22B84C72A_element_46\")>,\n",
       " <selenium.webdriver.remote.webelement.WebElement (session=\"0970daea1c37c169b0e55c54202cb2e6\", element=\"BD98B961BF8F521532A7A5C22B84C72A_element_47\")>,\n",
       " <selenium.webdriver.remote.webelement.WebElement (session=\"0970daea1c37c169b0e55c54202cb2e6\", element=\"BD98B961BF8F521532A7A5C22B84C72A_element_48\")>,\n",
       " <selenium.webdriver.remote.webelement.WebElement (session=\"0970daea1c37c169b0e55c54202cb2e6\", element=\"BD98B961BF8F521532A7A5C22B84C72A_element_49\")>,\n",
       " <selenium.webdriver.remote.webelement.WebElement (session=\"0970daea1c37c169b0e55c54202cb2e6\", element=\"BD98B961BF8F521532A7A5C22B84C72A_element_50\")>,\n",
       " <selenium.webdriver.remote.webelement.WebElement (session=\"0970daea1c37c169b0e55c54202cb2e6\", element=\"BD98B961BF8F521532A7A5C22B84C72A_element_51\")>,\n",
       " <selenium.webdriver.remote.webelement.WebElement (session=\"0970daea1c37c169b0e55c54202cb2e6\", element=\"BD98B961BF8F521532A7A5C22B84C72A_element_52\")>,\n",
       " <selenium.webdriver.remote.webelement.WebElement (session=\"0970daea1c37c169b0e55c54202cb2e6\", element=\"BD98B961BF8F521532A7A5C22B84C72A_element_53\")>,\n",
       " <selenium.webdriver.remote.webelement.WebElement (session=\"0970daea1c37c169b0e55c54202cb2e6\", element=\"BD98B961BF8F521532A7A5C22B84C72A_element_54\")>,\n",
       " <selenium.webdriver.remote.webelement.WebElement (session=\"0970daea1c37c169b0e55c54202cb2e6\", element=\"BD98B961BF8F521532A7A5C22B84C72A_element_55\")>,\n",
       " <selenium.webdriver.remote.webelement.WebElement (session=\"0970daea1c37c169b0e55c54202cb2e6\", element=\"BD98B961BF8F521532A7A5C22B84C72A_element_56\")>,\n",
       " <selenium.webdriver.remote.webelement.WebElement (session=\"0970daea1c37c169b0e55c54202cb2e6\", element=\"BD98B961BF8F521532A7A5C22B84C72A_element_57\")>,\n",
       " <selenium.webdriver.remote.webelement.WebElement (session=\"0970daea1c37c169b0e55c54202cb2e6\", element=\"BD98B961BF8F521532A7A5C22B84C72A_element_58\")>,\n",
       " <selenium.webdriver.remote.webelement.WebElement (session=\"0970daea1c37c169b0e55c54202cb2e6\", element=\"BD98B961BF8F521532A7A5C22B84C72A_element_59\")>,\n",
       " <selenium.webdriver.remote.webelement.WebElement (session=\"0970daea1c37c169b0e55c54202cb2e6\", element=\"BD98B961BF8F521532A7A5C22B84C72A_element_60\")>,\n",
       " <selenium.webdriver.remote.webelement.WebElement (session=\"0970daea1c37c169b0e55c54202cb2e6\", element=\"BD98B961BF8F521532A7A5C22B84C72A_element_61\")>,\n",
       " <selenium.webdriver.remote.webelement.WebElement (session=\"0970daea1c37c169b0e55c54202cb2e6\", element=\"BD98B961BF8F521532A7A5C22B84C72A_element_62\")>,\n",
       " <selenium.webdriver.remote.webelement.WebElement (session=\"0970daea1c37c169b0e55c54202cb2e6\", element=\"BD98B961BF8F521532A7A5C22B84C72A_element_63\")>,\n",
       " <selenium.webdriver.remote.webelement.WebElement (session=\"0970daea1c37c169b0e55c54202cb2e6\", element=\"BD98B961BF8F521532A7A5C22B84C72A_element_64\")>,\n",
       " <selenium.webdriver.remote.webelement.WebElement (session=\"0970daea1c37c169b0e55c54202cb2e6\", element=\"BD98B961BF8F521532A7A5C22B84C72A_element_65\")>,\n",
       " <selenium.webdriver.remote.webelement.WebElement (session=\"0970daea1c37c169b0e55c54202cb2e6\", element=\"BD98B961BF8F521532A7A5C22B84C72A_element_66\")>,\n",
       " <selenium.webdriver.remote.webelement.WebElement (session=\"0970daea1c37c169b0e55c54202cb2e6\", element=\"BD98B961BF8F521532A7A5C22B84C72A_element_67\")>,\n",
       " <selenium.webdriver.remote.webelement.WebElement (session=\"0970daea1c37c169b0e55c54202cb2e6\", element=\"BD98B961BF8F521532A7A5C22B84C72A_element_68\")>,\n",
       " <selenium.webdriver.remote.webelement.WebElement (session=\"0970daea1c37c169b0e55c54202cb2e6\", element=\"BD98B961BF8F521532A7A5C22B84C72A_element_69\")>,\n",
       " <selenium.webdriver.remote.webelement.WebElement (session=\"0970daea1c37c169b0e55c54202cb2e6\", element=\"BD98B961BF8F521532A7A5C22B84C72A_element_70\")>,\n",
       " <selenium.webdriver.remote.webelement.WebElement (session=\"0970daea1c37c169b0e55c54202cb2e6\", element=\"BD98B961BF8F521532A7A5C22B84C72A_element_71\")>,\n",
       " <selenium.webdriver.remote.webelement.WebElement (session=\"0970daea1c37c169b0e55c54202cb2e6\", element=\"BD98B961BF8F521532A7A5C22B84C72A_element_72\")>,\n",
       " <selenium.webdriver.remote.webelement.WebElement (session=\"0970daea1c37c169b0e55c54202cb2e6\", element=\"BD98B961BF8F521532A7A5C22B84C72A_element_73\")>,\n",
       " <selenium.webdriver.remote.webelement.WebElement (session=\"0970daea1c37c169b0e55c54202cb2e6\", element=\"BD98B961BF8F521532A7A5C22B84C72A_element_74\")>,\n",
       " <selenium.webdriver.remote.webelement.WebElement (session=\"0970daea1c37c169b0e55c54202cb2e6\", element=\"BD98B961BF8F521532A7A5C22B84C72A_element_75\")>,\n",
       " <selenium.webdriver.remote.webelement.WebElement (session=\"0970daea1c37c169b0e55c54202cb2e6\", element=\"BD98B961BF8F521532A7A5C22B84C72A_element_76\")>,\n",
       " <selenium.webdriver.remote.webelement.WebElement (session=\"0970daea1c37c169b0e55c54202cb2e6\", element=\"BD98B961BF8F521532A7A5C22B84C72A_element_77\")>,\n",
       " <selenium.webdriver.remote.webelement.WebElement (session=\"0970daea1c37c169b0e55c54202cb2e6\", element=\"BD98B961BF8F521532A7A5C22B84C72A_element_78\")>,\n",
       " <selenium.webdriver.remote.webelement.WebElement (session=\"0970daea1c37c169b0e55c54202cb2e6\", element=\"BD98B961BF8F521532A7A5C22B84C72A_element_79\")>,\n",
       " <selenium.webdriver.remote.webelement.WebElement (session=\"0970daea1c37c169b0e55c54202cb2e6\", element=\"BD98B961BF8F521532A7A5C22B84C72A_element_80\")>,\n",
       " <selenium.webdriver.remote.webelement.WebElement (session=\"0970daea1c37c169b0e55c54202cb2e6\", element=\"BD98B961BF8F521532A7A5C22B84C72A_element_81\")>,\n",
       " <selenium.webdriver.remote.webelement.WebElement (session=\"0970daea1c37c169b0e55c54202cb2e6\", element=\"BD98B961BF8F521532A7A5C22B84C72A_element_82\")>,\n",
       " <selenium.webdriver.remote.webelement.WebElement (session=\"0970daea1c37c169b0e55c54202cb2e6\", element=\"BD98B961BF8F521532A7A5C22B84C72A_element_83\")>,\n",
       " <selenium.webdriver.remote.webelement.WebElement (session=\"0970daea1c37c169b0e55c54202cb2e6\", element=\"BD98B961BF8F521532A7A5C22B84C72A_element_84\")>,\n",
       " <selenium.webdriver.remote.webelement.WebElement (session=\"0970daea1c37c169b0e55c54202cb2e6\", element=\"BD98B961BF8F521532A7A5C22B84C72A_element_85\")>,\n",
       " <selenium.webdriver.remote.webelement.WebElement (session=\"0970daea1c37c169b0e55c54202cb2e6\", element=\"BD98B961BF8F521532A7A5C22B84C72A_element_86\")>,\n",
       " <selenium.webdriver.remote.webelement.WebElement (session=\"0970daea1c37c169b0e55c54202cb2e6\", element=\"BD98B961BF8F521532A7A5C22B84C72A_element_87\")>,\n",
       " <selenium.webdriver.remote.webelement.WebElement (session=\"0970daea1c37c169b0e55c54202cb2e6\", element=\"BD98B961BF8F521532A7A5C22B84C72A_element_88\")>,\n",
       " <selenium.webdriver.remote.webelement.WebElement (session=\"0970daea1c37c169b0e55c54202cb2e6\", element=\"BD98B961BF8F521532A7A5C22B84C72A_element_89\")>,\n",
       " <selenium.webdriver.remote.webelement.WebElement (session=\"0970daea1c37c169b0e55c54202cb2e6\", element=\"BD98B961BF8F521532A7A5C22B84C72A_element_90\")>,\n",
       " <selenium.webdriver.remote.webelement.WebElement (session=\"0970daea1c37c169b0e55c54202cb2e6\", element=\"BD98B961BF8F521532A7A5C22B84C72A_element_91\")>,\n",
       " <selenium.webdriver.remote.webelement.WebElement (session=\"0970daea1c37c169b0e55c54202cb2e6\", element=\"BD98B961BF8F521532A7A5C22B84C72A_element_92\")>,\n",
       " <selenium.webdriver.remote.webelement.WebElement (session=\"0970daea1c37c169b0e55c54202cb2e6\", element=\"BD98B961BF8F521532A7A5C22B84C72A_element_93\")>,\n",
       " <selenium.webdriver.remote.webelement.WebElement (session=\"0970daea1c37c169b0e55c54202cb2e6\", element=\"BD98B961BF8F521532A7A5C22B84C72A_element_94\")>,\n",
       " <selenium.webdriver.remote.webelement.WebElement (session=\"0970daea1c37c169b0e55c54202cb2e6\", element=\"BD98B961BF8F521532A7A5C22B84C72A_element_95\")>,\n",
       " <selenium.webdriver.remote.webelement.WebElement (session=\"0970daea1c37c169b0e55c54202cb2e6\", element=\"BD98B961BF8F521532A7A5C22B84C72A_element_96\")>,\n",
       " <selenium.webdriver.remote.webelement.WebElement (session=\"0970daea1c37c169b0e55c54202cb2e6\", element=\"BD98B961BF8F521532A7A5C22B84C72A_element_97\")>,\n",
       " <selenium.webdriver.remote.webelement.WebElement (session=\"0970daea1c37c169b0e55c54202cb2e6\", element=\"BD98B961BF8F521532A7A5C22B84C72A_element_98\")>,\n",
       " <selenium.webdriver.remote.webelement.WebElement (session=\"0970daea1c37c169b0e55c54202cb2e6\", element=\"BD98B961BF8F521532A7A5C22B84C72A_element_99\")>,\n",
       " <selenium.webdriver.remote.webelement.WebElement (session=\"0970daea1c37c169b0e55c54202cb2e6\", element=\"BD98B961BF8F521532A7A5C22B84C72A_element_100\")>,\n",
       " <selenium.webdriver.remote.webelement.WebElement (session=\"0970daea1c37c169b0e55c54202cb2e6\", element=\"BD98B961BF8F521532A7A5C22B84C72A_element_101\")>,\n",
       " <selenium.webdriver.remote.webelement.WebElement (session=\"0970daea1c37c169b0e55c54202cb2e6\", element=\"BD98B961BF8F521532A7A5C22B84C72A_element_102\")>,\n",
       " <selenium.webdriver.remote.webelement.WebElement (session=\"0970daea1c37c169b0e55c54202cb2e6\", element=\"BD98B961BF8F521532A7A5C22B84C72A_element_103\")>,\n",
       " <selenium.webdriver.remote.webelement.WebElement (session=\"0970daea1c37c169b0e55c54202cb2e6\", element=\"BD98B961BF8F521532A7A5C22B84C72A_element_104\")>,\n",
       " <selenium.webdriver.remote.webelement.WebElement (session=\"0970daea1c37c169b0e55c54202cb2e6\", element=\"BD98B961BF8F521532A7A5C22B84C72A_element_105\")>,\n",
       " <selenium.webdriver.remote.webelement.WebElement (session=\"0970daea1c37c169b0e55c54202cb2e6\", element=\"BD98B961BF8F521532A7A5C22B84C72A_element_106\")>,\n",
       " <selenium.webdriver.remote.webelement.WebElement (session=\"0970daea1c37c169b0e55c54202cb2e6\", element=\"BD98B961BF8F521532A7A5C22B84C72A_element_107\")>,\n",
       " <selenium.webdriver.remote.webelement.WebElement (session=\"0970daea1c37c169b0e55c54202cb2e6\", element=\"BD98B961BF8F521532A7A5C22B84C72A_element_108\")>,\n",
       " <selenium.webdriver.remote.webelement.WebElement (session=\"0970daea1c37c169b0e55c54202cb2e6\", element=\"BD98B961BF8F521532A7A5C22B84C72A_element_109\")>,\n",
       " <selenium.webdriver.remote.webelement.WebElement (session=\"0970daea1c37c169b0e55c54202cb2e6\", element=\"BD98B961BF8F521532A7A5C22B84C72A_element_110\")>,\n",
       " <selenium.webdriver.remote.webelement.WebElement (session=\"0970daea1c37c169b0e55c54202cb2e6\", element=\"BD98B961BF8F521532A7A5C22B84C72A_element_111\")>,\n",
       " <selenium.webdriver.remote.webelement.WebElement (session=\"0970daea1c37c169b0e55c54202cb2e6\", element=\"BD98B961BF8F521532A7A5C22B84C72A_element_112\")>,\n",
       " <selenium.webdriver.remote.webelement.WebElement (session=\"0970daea1c37c169b0e55c54202cb2e6\", element=\"BD98B961BF8F521532A7A5C22B84C72A_element_113\")>,\n",
       " <selenium.webdriver.remote.webelement.WebElement (session=\"0970daea1c37c169b0e55c54202cb2e6\", element=\"BD98B961BF8F521532A7A5C22B84C72A_element_114\")>,\n",
       " <selenium.webdriver.remote.webelement.WebElement (session=\"0970daea1c37c169b0e55c54202cb2e6\", element=\"BD98B961BF8F521532A7A5C22B84C72A_element_115\")>,\n",
       " <selenium.webdriver.remote.webelement.WebElement (session=\"0970daea1c37c169b0e55c54202cb2e6\", element=\"BD98B961BF8F521532A7A5C22B84C72A_element_116\")>,\n",
       " <selenium.webdriver.remote.webelement.WebElement (session=\"0970daea1c37c169b0e55c54202cb2e6\", element=\"BD98B961BF8F521532A7A5C22B84C72A_element_117\")>,\n",
       " <selenium.webdriver.remote.webelement.WebElement (session=\"0970daea1c37c169b0e55c54202cb2e6\", element=\"BD98B961BF8F521532A7A5C22B84C72A_element_118\")>,\n",
       " <selenium.webdriver.remote.webelement.WebElement (session=\"0970daea1c37c169b0e55c54202cb2e6\", element=\"BD98B961BF8F521532A7A5C22B84C72A_element_119\")>,\n",
       " <selenium.webdriver.remote.webelement.WebElement (session=\"0970daea1c37c169b0e55c54202cb2e6\", element=\"BD98B961BF8F521532A7A5C22B84C72A_element_120\")>,\n",
       " <selenium.webdriver.remote.webelement.WebElement (session=\"0970daea1c37c169b0e55c54202cb2e6\", element=\"BD98B961BF8F521532A7A5C22B84C72A_element_121\")>,\n",
       " <selenium.webdriver.remote.webelement.WebElement (session=\"0970daea1c37c169b0e55c54202cb2e6\", element=\"BD98B961BF8F521532A7A5C22B84C72A_element_122\")>,\n",
       " <selenium.webdriver.remote.webelement.WebElement (session=\"0970daea1c37c169b0e55c54202cb2e6\", element=\"BD98B961BF8F521532A7A5C22B84C72A_element_123\")>,\n",
       " <selenium.webdriver.remote.webelement.WebElement (session=\"0970daea1c37c169b0e55c54202cb2e6\", element=\"BD98B961BF8F521532A7A5C22B84C72A_element_124\")>,\n",
       " <selenium.webdriver.remote.webelement.WebElement (session=\"0970daea1c37c169b0e55c54202cb2e6\", element=\"BD98B961BF8F521532A7A5C22B84C72A_element_125\")>,\n",
       " <selenium.webdriver.remote.webelement.WebElement (session=\"0970daea1c37c169b0e55c54202cb2e6\", element=\"BD98B961BF8F521532A7A5C22B84C72A_element_126\")>,\n",
       " <selenium.webdriver.remote.webelement.WebElement (session=\"0970daea1c37c169b0e55c54202cb2e6\", element=\"BD98B961BF8F521532A7A5C22B84C72A_element_127\")>,\n",
       " <selenium.webdriver.remote.webelement.WebElement (session=\"0970daea1c37c169b0e55c54202cb2e6\", element=\"BD98B961BF8F521532A7A5C22B84C72A_element_128\")>,\n",
       " <selenium.webdriver.remote.webelement.WebElement (session=\"0970daea1c37c169b0e55c54202cb2e6\", element=\"BD98B961BF8F521532A7A5C22B84C72A_element_129\")>,\n",
       " <selenium.webdriver.remote.webelement.WebElement (session=\"0970daea1c37c169b0e55c54202cb2e6\", element=\"BD98B961BF8F521532A7A5C22B84C72A_element_130\")>,\n",
       " <selenium.webdriver.remote.webelement.WebElement (session=\"0970daea1c37c169b0e55c54202cb2e6\", element=\"BD98B961BF8F521532A7A5C22B84C72A_element_131\")>,\n",
       " <selenium.webdriver.remote.webelement.WebElement (session=\"0970daea1c37c169b0e55c54202cb2e6\", element=\"BD98B961BF8F521532A7A5C22B84C72A_element_132\")>,\n",
       " <selenium.webdriver.remote.webelement.WebElement (session=\"0970daea1c37c169b0e55c54202cb2e6\", element=\"BD98B961BF8F521532A7A5C22B84C72A_element_133\")>,\n",
       " <selenium.webdriver.remote.webelement.WebElement (session=\"0970daea1c37c169b0e55c54202cb2e6\", element=\"BD98B961BF8F521532A7A5C22B84C72A_element_134\")>,\n",
       " <selenium.webdriver.remote.webelement.WebElement (session=\"0970daea1c37c169b0e55c54202cb2e6\", element=\"BD98B961BF8F521532A7A5C22B84C72A_element_135\")>,\n",
       " <selenium.webdriver.remote.webelement.WebElement (session=\"0970daea1c37c169b0e55c54202cb2e6\", element=\"BD98B961BF8F521532A7A5C22B84C72A_element_136\")>]"
      ]
     },
     "execution_count": 27,
     "metadata": {},
     "output_type": "execute_result"
    }
   ],
   "source": [
    "filas=driver.find_elements(By.CLASS_NAME, 'lilist')\n",
    "filas"
   ]
  },
  {
   "cell_type": "code",
   "execution_count": 28,
   "metadata": {},
   "outputs": [],
   "source": [
    "resultado=[]\n",
    "for f in filas:\n",
    "    tmp=[]\n",
    "    elementos = f.find_elements(By.TAG_NAME, 'td')\n",
    "    for e in elementos:\n",
    "        if e.text!='':\n",
    "            tmp.append(e.text.split('\\n'))\n",
    "    resultado.append(tmp)\n",
    "res_20=resultado[:20]"
   ]
  },
  {
   "cell_type": "code",
   "execution_count": 29,
   "metadata": {},
   "outputs": [
    {
     "data": {
      "text/plain": [
       "[[['2023-11-01 16:36:34', '14 min ago'],\n",
       "  ['7.371'],\n",
       "  ['-80.606'],\n",
       "  ['8'],\n",
       "  ['3.3'],\n",
       "  ['PANAMA']],\n",
       " [['2023-11-01 16:33:42', '17 min ago'],\n",
       "  ['-9.130'],\n",
       "  ['117.510'],\n",
       "  ['10'],\n",
       "  ['3.3'],\n",
       "  ['SUMBAWA REGION, INDONESIA']],\n",
       " [['2023-11-01 16:32:24', '18 min ago'],\n",
       "  ['-9.090'],\n",
       "  ['117.500'],\n",
       "  ['10'],\n",
       "  ['3.3'],\n",
       "  ['SUMBAWA REGION, INDONESIA']],\n",
       " [['2023-11-01 16:25:29', '25 min ago'],\n",
       "  ['-0.800'],\n",
       "  ['126.840'],\n",
       "  ['10'],\n",
       "  ['3.5'],\n",
       "  ['MOLUCCA SEA']],\n",
       " [['2023-11-01 16:21:43', '29 min ago'],\n",
       "  ['-3.710'],\n",
       "  ['131.230'],\n",
       "  ['10'],\n",
       "  ['3.8'],\n",
       "  ['CERAM SEA, INDONESIA']],\n",
       " [['2023-11-01 16:08:37', '42 min ago'],\n",
       "  ['-32.700'],\n",
       "  ['-71.690'],\n",
       "  ['35'],\n",
       "  ['2.6'],\n",
       "  ['OFFSHORE VALPARAISO, CHILE']],\n",
       " [['2023-11-01 15:53:07', '57 min ago'],\n",
       "  ['61.855'],\n",
       "  ['-148.042'],\n",
       "  ['23'],\n",
       "  ['3.8'],\n",
       "  ['SOUTHERN ALASKA']],\n",
       " [['2023-11-01 15:36:52', '1 hr 14 min ago'],\n",
       "  ['11.940'],\n",
       "  ['-86.820'],\n",
       "  ['44'],\n",
       "  ['3.6'],\n",
       "  ['NEAR COAST OF NICARAGUA']],\n",
       " [['2023-11-01 15:23:02', '1 hr 27 min ago'],\n",
       "  ['-21.190'],\n",
       "  ['-68.910'],\n",
       "  ['111'],\n",
       "  ['2.6'],\n",
       "  ['TARAPACA, CHILE']],\n",
       " [['2023-11-01 15:14:13', '1 hr 36 min ago'],\n",
       "  ['36.891'],\n",
       "  ['-2.999'],\n",
       "  ['13'],\n",
       "  ['2.2'],\n",
       "  ['STRAIT OF GIBRALTAR']],\n",
       " [['2023-11-01 15:09:09', '1 hr 41 min ago'],\n",
       "  ['11.840'],\n",
       "  ['125.640'],\n",
       "  ['19'],\n",
       "  ['3.0'],\n",
       "  ['SAMAR, PHILIPPINES']],\n",
       " [['2023-11-01 15:03:32', '1 hr 47 min ago'],\n",
       "  ['40.528'],\n",
       "  ['-123.568'],\n",
       "  ['5'],\n",
       "  ['2.4'],\n",
       "  ['NORTHERN CALIFORNIA']],\n",
       " [['2023-11-01 14:49:46', '2 hr 01 min ago'],\n",
       "  ['59.976'],\n",
       "  ['10.946'],\n",
       "  ['8'],\n",
       "  ['3.0'],\n",
       "  ['SOUTHERN NORWAY']],\n",
       " [['2023-11-01 14:45:25', '2 hr 05 min ago'],\n",
       "  ['0.140'],\n",
       "  ['124.260'],\n",
       "  ['75'],\n",
       "  ['3.5'],\n",
       "  ['MINAHASA, SULAWESI, INDONESIA']],\n",
       " [['2023-11-01 14:38:02', '2 hr 12 min ago'],\n",
       "  ['36.839'],\n",
       "  ['-3.007'],\n",
       "  ['13'],\n",
       "  ['1.8'],\n",
       "  ['STRAIT OF GIBRALTAR']],\n",
       " [['2023-11-01 14:35:25', '2 hr 15 min ago'],\n",
       "  ['13.820'],\n",
       "  ['120.520'],\n",
       "  ['50'],\n",
       "  ['3.6'],\n",
       "  ['MINDORO, PHILIPPINES']],\n",
       " [['2023-11-01 14:33:41', '2 hr 17 min ago'],\n",
       "  ['37.600'],\n",
       "  ['21.830'],\n",
       "  ['11'],\n",
       "  ['2.5'],\n",
       "  ['SOUTHERN GREECE']],\n",
       " [['2023-11-01 14:30:21', '2 hr 20 min ago'],\n",
       "  ['19.402'],\n",
       "  ['-155.264'],\n",
       "  ['4'],\n",
       "  ['2.0'],\n",
       "  ['ISLAND OF HAWAII, HAWAII']],\n",
       " [['2023-11-01 14:29:27', '2 hr 21 min ago'],\n",
       "  ['37.875'],\n",
       "  ['36.335'],\n",
       "  ['3'],\n",
       "  ['2.1'],\n",
       "  ['CENTRAL TURKEY']],\n",
       " [['2023-11-01 14:26:30', '2 hr 24 min ago'],\n",
       "  ['-24.003'],\n",
       "  ['-66.809'],\n",
       "  ['218'],\n",
       "  ['3.0'],\n",
       "  ['JUJUY, ARGENTINA']]]"
      ]
     },
     "execution_count": 29,
     "metadata": {},
     "output_type": "execute_result"
    }
   ],
   "source": [
    "res_20"
   ]
  },
  {
   "cell_type": "code",
   "execution_count": 30,
   "metadata": {},
   "outputs": [
    {
     "data": {
      "text/plain": [
       "20"
      ]
     },
     "execution_count": 30,
     "metadata": {},
     "output_type": "execute_result"
    }
   ],
   "source": [
    "len(res_20)"
   ]
  },
  {
   "cell_type": "code",
   "execution_count": 31,
   "metadata": {},
   "outputs": [
    {
     "data": {
      "text/plain": [
       "[['Date & Time',\n",
       "  'Lat. Degrees',\n",
       "  'Lon. Degrees',\n",
       "  'Depth km',\n",
       "  'Mag.+',\n",
       "  'Region']]"
      ]
     },
     "execution_count": 31,
     "metadata": {},
     "output_type": "execute_result"
    }
   ],
   "source": [
    "columnas=[['Date & Time','Lat. Degrees','Lon. Degrees','Depth km', 'Mag.+', 'Region']]\n",
    "columnas"
   ]
  },
  {
   "cell_type": "code",
   "execution_count": 32,
   "metadata": {},
   "outputs": [
    {
     "data": {
      "text/html": [
       "<div>\n",
       "<style scoped>\n",
       "    .dataframe tbody tr th:only-of-type {\n",
       "        vertical-align: middle;\n",
       "    }\n",
       "\n",
       "    .dataframe tbody tr th {\n",
       "        vertical-align: top;\n",
       "    }\n",
       "\n",
       "    .dataframe thead tr th {\n",
       "        text-align: left;\n",
       "    }\n",
       "</style>\n",
       "<table border=\"1\" class=\"dataframe\">\n",
       "  <thead>\n",
       "    <tr>\n",
       "      <th></th>\n",
       "      <th>Date &amp; Time</th>\n",
       "      <th>Lat. Degrees</th>\n",
       "      <th>Lon. Degrees</th>\n",
       "      <th>Depth km</th>\n",
       "      <th>Mag.+</th>\n",
       "      <th>Region</th>\n",
       "    </tr>\n",
       "  </thead>\n",
       "  <tbody>\n",
       "    <tr>\n",
       "      <th>0</th>\n",
       "      <td>[2023-11-01 16:36:34, 14 min ago]</td>\n",
       "      <td>[7.371]</td>\n",
       "      <td>[-80.606]</td>\n",
       "      <td>[8]</td>\n",
       "      <td>[3.3]</td>\n",
       "      <td>[PANAMA]</td>\n",
       "    </tr>\n",
       "    <tr>\n",
       "      <th>1</th>\n",
       "      <td>[2023-11-01 16:33:42, 17 min ago]</td>\n",
       "      <td>[-9.130]</td>\n",
       "      <td>[117.510]</td>\n",
       "      <td>[10]</td>\n",
       "      <td>[3.3]</td>\n",
       "      <td>[SUMBAWA REGION, INDONESIA]</td>\n",
       "    </tr>\n",
       "    <tr>\n",
       "      <th>2</th>\n",
       "      <td>[2023-11-01 16:32:24, 18 min ago]</td>\n",
       "      <td>[-9.090]</td>\n",
       "      <td>[117.500]</td>\n",
       "      <td>[10]</td>\n",
       "      <td>[3.3]</td>\n",
       "      <td>[SUMBAWA REGION, INDONESIA]</td>\n",
       "    </tr>\n",
       "    <tr>\n",
       "      <th>3</th>\n",
       "      <td>[2023-11-01 16:25:29, 25 min ago]</td>\n",
       "      <td>[-0.800]</td>\n",
       "      <td>[126.840]</td>\n",
       "      <td>[10]</td>\n",
       "      <td>[3.5]</td>\n",
       "      <td>[MOLUCCA SEA]</td>\n",
       "    </tr>\n",
       "    <tr>\n",
       "      <th>4</th>\n",
       "      <td>[2023-11-01 16:21:43, 29 min ago]</td>\n",
       "      <td>[-3.710]</td>\n",
       "      <td>[131.230]</td>\n",
       "      <td>[10]</td>\n",
       "      <td>[3.8]</td>\n",
       "      <td>[CERAM SEA, INDONESIA]</td>\n",
       "    </tr>\n",
       "    <tr>\n",
       "      <th>5</th>\n",
       "      <td>[2023-11-01 16:08:37, 42 min ago]</td>\n",
       "      <td>[-32.700]</td>\n",
       "      <td>[-71.690]</td>\n",
       "      <td>[35]</td>\n",
       "      <td>[2.6]</td>\n",
       "      <td>[OFFSHORE VALPARAISO, CHILE]</td>\n",
       "    </tr>\n",
       "    <tr>\n",
       "      <th>6</th>\n",
       "      <td>[2023-11-01 15:53:07, 57 min ago]</td>\n",
       "      <td>[61.855]</td>\n",
       "      <td>[-148.042]</td>\n",
       "      <td>[23]</td>\n",
       "      <td>[3.8]</td>\n",
       "      <td>[SOUTHERN ALASKA]</td>\n",
       "    </tr>\n",
       "    <tr>\n",
       "      <th>7</th>\n",
       "      <td>[2023-11-01 15:36:52, 1 hr 14 min ago]</td>\n",
       "      <td>[11.940]</td>\n",
       "      <td>[-86.820]</td>\n",
       "      <td>[44]</td>\n",
       "      <td>[3.6]</td>\n",
       "      <td>[NEAR COAST OF NICARAGUA]</td>\n",
       "    </tr>\n",
       "    <tr>\n",
       "      <th>8</th>\n",
       "      <td>[2023-11-01 15:23:02, 1 hr 27 min ago]</td>\n",
       "      <td>[-21.190]</td>\n",
       "      <td>[-68.910]</td>\n",
       "      <td>[111]</td>\n",
       "      <td>[2.6]</td>\n",
       "      <td>[TARAPACA, CHILE]</td>\n",
       "    </tr>\n",
       "    <tr>\n",
       "      <th>9</th>\n",
       "      <td>[2023-11-01 15:14:13, 1 hr 36 min ago]</td>\n",
       "      <td>[36.891]</td>\n",
       "      <td>[-2.999]</td>\n",
       "      <td>[13]</td>\n",
       "      <td>[2.2]</td>\n",
       "      <td>[STRAIT OF GIBRALTAR]</td>\n",
       "    </tr>\n",
       "    <tr>\n",
       "      <th>10</th>\n",
       "      <td>[2023-11-01 15:09:09, 1 hr 41 min ago]</td>\n",
       "      <td>[11.840]</td>\n",
       "      <td>[125.640]</td>\n",
       "      <td>[19]</td>\n",
       "      <td>[3.0]</td>\n",
       "      <td>[SAMAR, PHILIPPINES]</td>\n",
       "    </tr>\n",
       "    <tr>\n",
       "      <th>11</th>\n",
       "      <td>[2023-11-01 15:03:32, 1 hr 47 min ago]</td>\n",
       "      <td>[40.528]</td>\n",
       "      <td>[-123.568]</td>\n",
       "      <td>[5]</td>\n",
       "      <td>[2.4]</td>\n",
       "      <td>[NORTHERN CALIFORNIA]</td>\n",
       "    </tr>\n",
       "    <tr>\n",
       "      <th>12</th>\n",
       "      <td>[2023-11-01 14:49:46, 2 hr 01 min ago]</td>\n",
       "      <td>[59.976]</td>\n",
       "      <td>[10.946]</td>\n",
       "      <td>[8]</td>\n",
       "      <td>[3.0]</td>\n",
       "      <td>[SOUTHERN NORWAY]</td>\n",
       "    </tr>\n",
       "    <tr>\n",
       "      <th>13</th>\n",
       "      <td>[2023-11-01 14:45:25, 2 hr 05 min ago]</td>\n",
       "      <td>[0.140]</td>\n",
       "      <td>[124.260]</td>\n",
       "      <td>[75]</td>\n",
       "      <td>[3.5]</td>\n",
       "      <td>[MINAHASA, SULAWESI, INDONESIA]</td>\n",
       "    </tr>\n",
       "    <tr>\n",
       "      <th>14</th>\n",
       "      <td>[2023-11-01 14:38:02, 2 hr 12 min ago]</td>\n",
       "      <td>[36.839]</td>\n",
       "      <td>[-3.007]</td>\n",
       "      <td>[13]</td>\n",
       "      <td>[1.8]</td>\n",
       "      <td>[STRAIT OF GIBRALTAR]</td>\n",
       "    </tr>\n",
       "    <tr>\n",
       "      <th>15</th>\n",
       "      <td>[2023-11-01 14:35:25, 2 hr 15 min ago]</td>\n",
       "      <td>[13.820]</td>\n",
       "      <td>[120.520]</td>\n",
       "      <td>[50]</td>\n",
       "      <td>[3.6]</td>\n",
       "      <td>[MINDORO, PHILIPPINES]</td>\n",
       "    </tr>\n",
       "    <tr>\n",
       "      <th>16</th>\n",
       "      <td>[2023-11-01 14:33:41, 2 hr 17 min ago]</td>\n",
       "      <td>[37.600]</td>\n",
       "      <td>[21.830]</td>\n",
       "      <td>[11]</td>\n",
       "      <td>[2.5]</td>\n",
       "      <td>[SOUTHERN GREECE]</td>\n",
       "    </tr>\n",
       "    <tr>\n",
       "      <th>17</th>\n",
       "      <td>[2023-11-01 14:30:21, 2 hr 20 min ago]</td>\n",
       "      <td>[19.402]</td>\n",
       "      <td>[-155.264]</td>\n",
       "      <td>[4]</td>\n",
       "      <td>[2.0]</td>\n",
       "      <td>[ISLAND OF HAWAII, HAWAII]</td>\n",
       "    </tr>\n",
       "    <tr>\n",
       "      <th>18</th>\n",
       "      <td>[2023-11-01 14:29:27, 2 hr 21 min ago]</td>\n",
       "      <td>[37.875]</td>\n",
       "      <td>[36.335]</td>\n",
       "      <td>[3]</td>\n",
       "      <td>[2.1]</td>\n",
       "      <td>[CENTRAL TURKEY]</td>\n",
       "    </tr>\n",
       "    <tr>\n",
       "      <th>19</th>\n",
       "      <td>[2023-11-01 14:26:30, 2 hr 24 min ago]</td>\n",
       "      <td>[-24.003]</td>\n",
       "      <td>[-66.809]</td>\n",
       "      <td>[218]</td>\n",
       "      <td>[3.0]</td>\n",
       "      <td>[JUJUY, ARGENTINA]</td>\n",
       "    </tr>\n",
       "  </tbody>\n",
       "</table>\n",
       "</div>"
      ],
      "text/plain": [
       "                               Date & Time Lat. Degrees Lon. Degrees Depth km  \\\n",
       "0        [2023-11-01 16:36:34, 14 min ago]      [7.371]    [-80.606]      [8]   \n",
       "1        [2023-11-01 16:33:42, 17 min ago]     [-9.130]    [117.510]     [10]   \n",
       "2        [2023-11-01 16:32:24, 18 min ago]     [-9.090]    [117.500]     [10]   \n",
       "3        [2023-11-01 16:25:29, 25 min ago]     [-0.800]    [126.840]     [10]   \n",
       "4        [2023-11-01 16:21:43, 29 min ago]     [-3.710]    [131.230]     [10]   \n",
       "5        [2023-11-01 16:08:37, 42 min ago]    [-32.700]    [-71.690]     [35]   \n",
       "6        [2023-11-01 15:53:07, 57 min ago]     [61.855]   [-148.042]     [23]   \n",
       "7   [2023-11-01 15:36:52, 1 hr 14 min ago]     [11.940]    [-86.820]     [44]   \n",
       "8   [2023-11-01 15:23:02, 1 hr 27 min ago]    [-21.190]    [-68.910]    [111]   \n",
       "9   [2023-11-01 15:14:13, 1 hr 36 min ago]     [36.891]     [-2.999]     [13]   \n",
       "10  [2023-11-01 15:09:09, 1 hr 41 min ago]     [11.840]    [125.640]     [19]   \n",
       "11  [2023-11-01 15:03:32, 1 hr 47 min ago]     [40.528]   [-123.568]      [5]   \n",
       "12  [2023-11-01 14:49:46, 2 hr 01 min ago]     [59.976]     [10.946]      [8]   \n",
       "13  [2023-11-01 14:45:25, 2 hr 05 min ago]      [0.140]    [124.260]     [75]   \n",
       "14  [2023-11-01 14:38:02, 2 hr 12 min ago]     [36.839]     [-3.007]     [13]   \n",
       "15  [2023-11-01 14:35:25, 2 hr 15 min ago]     [13.820]    [120.520]     [50]   \n",
       "16  [2023-11-01 14:33:41, 2 hr 17 min ago]     [37.600]     [21.830]     [11]   \n",
       "17  [2023-11-01 14:30:21, 2 hr 20 min ago]     [19.402]   [-155.264]      [4]   \n",
       "18  [2023-11-01 14:29:27, 2 hr 21 min ago]     [37.875]     [36.335]      [3]   \n",
       "19  [2023-11-01 14:26:30, 2 hr 24 min ago]    [-24.003]    [-66.809]    [218]   \n",
       "\n",
       "    Mag.+                           Region  \n",
       "0   [3.3]                         [PANAMA]  \n",
       "1   [3.3]      [SUMBAWA REGION, INDONESIA]  \n",
       "2   [3.3]      [SUMBAWA REGION, INDONESIA]  \n",
       "3   [3.5]                    [MOLUCCA SEA]  \n",
       "4   [3.8]           [CERAM SEA, INDONESIA]  \n",
       "5   [2.6]     [OFFSHORE VALPARAISO, CHILE]  \n",
       "6   [3.8]                [SOUTHERN ALASKA]  \n",
       "7   [3.6]        [NEAR COAST OF NICARAGUA]  \n",
       "8   [2.6]                [TARAPACA, CHILE]  \n",
       "9   [2.2]            [STRAIT OF GIBRALTAR]  \n",
       "10  [3.0]             [SAMAR, PHILIPPINES]  \n",
       "11  [2.4]            [NORTHERN CALIFORNIA]  \n",
       "12  [3.0]                [SOUTHERN NORWAY]  \n",
       "13  [3.5]  [MINAHASA, SULAWESI, INDONESIA]  \n",
       "14  [1.8]            [STRAIT OF GIBRALTAR]  \n",
       "15  [3.6]           [MINDORO, PHILIPPINES]  \n",
       "16  [2.5]                [SOUTHERN GREECE]  \n",
       "17  [2.0]       [ISLAND OF HAWAII, HAWAII]  \n",
       "18  [2.1]                 [CENTRAL TURKEY]  \n",
       "19  [3.0]               [JUJUY, ARGENTINA]  "
      ]
     },
     "execution_count": 32,
     "metadata": {},
     "output_type": "execute_result"
    }
   ],
   "source": [
    "df=pd.DataFrame(res_20, columns=columnas)\n",
    "df"
   ]
  },
  {
   "cell_type": "code",
   "execution_count": 33,
   "metadata": {},
   "outputs": [
    {
     "data": {
      "text/html": [
       "<div>\n",
       "<style scoped>\n",
       "    .dataframe tbody tr th:only-of-type {\n",
       "        vertical-align: middle;\n",
       "    }\n",
       "\n",
       "    .dataframe tbody tr th {\n",
       "        vertical-align: top;\n",
       "    }\n",
       "\n",
       "    .dataframe thead tr th {\n",
       "        text-align: left;\n",
       "    }\n",
       "</style>\n",
       "<table border=\"1\" class=\"dataframe\">\n",
       "  <thead>\n",
       "    <tr>\n",
       "      <th></th>\n",
       "      <th>Date &amp; Time</th>\n",
       "      <th>Lat. Degrees</th>\n",
       "      <th>Lon. Degrees</th>\n",
       "      <th>Depth km</th>\n",
       "      <th>Mag.+</th>\n",
       "      <th>Region</th>\n",
       "    </tr>\n",
       "  </thead>\n",
       "  <tbody>\n",
       "    <tr>\n",
       "      <th>0</th>\n",
       "      <td>2023-11-01 16:36:34</td>\n",
       "      <td>7.371</td>\n",
       "      <td>-80.606</td>\n",
       "      <td>8</td>\n",
       "      <td>3.3</td>\n",
       "      <td>PANAMA</td>\n",
       "    </tr>\n",
       "    <tr>\n",
       "      <th>1</th>\n",
       "      <td>2023-11-01 16:33:42</td>\n",
       "      <td>-9.130</td>\n",
       "      <td>117.510</td>\n",
       "      <td>10</td>\n",
       "      <td>3.3</td>\n",
       "      <td>SUMBAWA REGION, INDONESIA</td>\n",
       "    </tr>\n",
       "    <tr>\n",
       "      <th>2</th>\n",
       "      <td>2023-11-01 16:32:24</td>\n",
       "      <td>-9.090</td>\n",
       "      <td>117.500</td>\n",
       "      <td>10</td>\n",
       "      <td>3.3</td>\n",
       "      <td>SUMBAWA REGION, INDONESIA</td>\n",
       "    </tr>\n",
       "    <tr>\n",
       "      <th>3</th>\n",
       "      <td>2023-11-01 16:25:29</td>\n",
       "      <td>-0.800</td>\n",
       "      <td>126.840</td>\n",
       "      <td>10</td>\n",
       "      <td>3.5</td>\n",
       "      <td>MOLUCCA SEA</td>\n",
       "    </tr>\n",
       "    <tr>\n",
       "      <th>4</th>\n",
       "      <td>2023-11-01 16:21:43</td>\n",
       "      <td>-3.710</td>\n",
       "      <td>131.230</td>\n",
       "      <td>10</td>\n",
       "      <td>3.8</td>\n",
       "      <td>CERAM SEA, INDONESIA</td>\n",
       "    </tr>\n",
       "    <tr>\n",
       "      <th>5</th>\n",
       "      <td>2023-11-01 16:08:37</td>\n",
       "      <td>-32.700</td>\n",
       "      <td>-71.690</td>\n",
       "      <td>35</td>\n",
       "      <td>2.6</td>\n",
       "      <td>OFFSHORE VALPARAISO, CHILE</td>\n",
       "    </tr>\n",
       "    <tr>\n",
       "      <th>6</th>\n",
       "      <td>2023-11-01 15:53:07</td>\n",
       "      <td>61.855</td>\n",
       "      <td>-148.042</td>\n",
       "      <td>23</td>\n",
       "      <td>3.8</td>\n",
       "      <td>SOUTHERN ALASKA</td>\n",
       "    </tr>\n",
       "    <tr>\n",
       "      <th>7</th>\n",
       "      <td>2023-11-01 15:36:52</td>\n",
       "      <td>11.940</td>\n",
       "      <td>-86.820</td>\n",
       "      <td>44</td>\n",
       "      <td>3.6</td>\n",
       "      <td>NEAR COAST OF NICARAGUA</td>\n",
       "    </tr>\n",
       "    <tr>\n",
       "      <th>8</th>\n",
       "      <td>2023-11-01 15:23:02</td>\n",
       "      <td>-21.190</td>\n",
       "      <td>-68.910</td>\n",
       "      <td>111</td>\n",
       "      <td>2.6</td>\n",
       "      <td>TARAPACA, CHILE</td>\n",
       "    </tr>\n",
       "    <tr>\n",
       "      <th>9</th>\n",
       "      <td>2023-11-01 15:14:13</td>\n",
       "      <td>36.891</td>\n",
       "      <td>-2.999</td>\n",
       "      <td>13</td>\n",
       "      <td>2.2</td>\n",
       "      <td>STRAIT OF GIBRALTAR</td>\n",
       "    </tr>\n",
       "    <tr>\n",
       "      <th>10</th>\n",
       "      <td>2023-11-01 15:09:09</td>\n",
       "      <td>11.840</td>\n",
       "      <td>125.640</td>\n",
       "      <td>19</td>\n",
       "      <td>3.0</td>\n",
       "      <td>SAMAR, PHILIPPINES</td>\n",
       "    </tr>\n",
       "    <tr>\n",
       "      <th>11</th>\n",
       "      <td>2023-11-01 15:03:32</td>\n",
       "      <td>40.528</td>\n",
       "      <td>-123.568</td>\n",
       "      <td>5</td>\n",
       "      <td>2.4</td>\n",
       "      <td>NORTHERN CALIFORNIA</td>\n",
       "    </tr>\n",
       "    <tr>\n",
       "      <th>12</th>\n",
       "      <td>2023-11-01 14:49:46</td>\n",
       "      <td>59.976</td>\n",
       "      <td>10.946</td>\n",
       "      <td>8</td>\n",
       "      <td>3.0</td>\n",
       "      <td>SOUTHERN NORWAY</td>\n",
       "    </tr>\n",
       "    <tr>\n",
       "      <th>13</th>\n",
       "      <td>2023-11-01 14:45:25</td>\n",
       "      <td>0.140</td>\n",
       "      <td>124.260</td>\n",
       "      <td>75</td>\n",
       "      <td>3.5</td>\n",
       "      <td>MINAHASA, SULAWESI, INDONESIA</td>\n",
       "    </tr>\n",
       "    <tr>\n",
       "      <th>14</th>\n",
       "      <td>2023-11-01 14:38:02</td>\n",
       "      <td>36.839</td>\n",
       "      <td>-3.007</td>\n",
       "      <td>13</td>\n",
       "      <td>1.8</td>\n",
       "      <td>STRAIT OF GIBRALTAR</td>\n",
       "    </tr>\n",
       "    <tr>\n",
       "      <th>15</th>\n",
       "      <td>2023-11-01 14:35:25</td>\n",
       "      <td>13.820</td>\n",
       "      <td>120.520</td>\n",
       "      <td>50</td>\n",
       "      <td>3.6</td>\n",
       "      <td>MINDORO, PHILIPPINES</td>\n",
       "    </tr>\n",
       "    <tr>\n",
       "      <th>16</th>\n",
       "      <td>2023-11-01 14:33:41</td>\n",
       "      <td>37.600</td>\n",
       "      <td>21.830</td>\n",
       "      <td>11</td>\n",
       "      <td>2.5</td>\n",
       "      <td>SOUTHERN GREECE</td>\n",
       "    </tr>\n",
       "    <tr>\n",
       "      <th>17</th>\n",
       "      <td>2023-11-01 14:30:21</td>\n",
       "      <td>19.402</td>\n",
       "      <td>-155.264</td>\n",
       "      <td>4</td>\n",
       "      <td>2.0</td>\n",
       "      <td>ISLAND OF HAWAII, HAWAII</td>\n",
       "    </tr>\n",
       "    <tr>\n",
       "      <th>18</th>\n",
       "      <td>2023-11-01 14:29:27</td>\n",
       "      <td>37.875</td>\n",
       "      <td>36.335</td>\n",
       "      <td>3</td>\n",
       "      <td>2.1</td>\n",
       "      <td>CENTRAL TURKEY</td>\n",
       "    </tr>\n",
       "    <tr>\n",
       "      <th>19</th>\n",
       "      <td>2023-11-01 14:26:30</td>\n",
       "      <td>-24.003</td>\n",
       "      <td>-66.809</td>\n",
       "      <td>218</td>\n",
       "      <td>3.0</td>\n",
       "      <td>JUJUY, ARGENTINA</td>\n",
       "    </tr>\n",
       "  </tbody>\n",
       "</table>\n",
       "</div>"
      ],
      "text/plain": [
       "            Date & Time Lat. Degrees Lon. Degrees Depth km Mag.+  \\\n",
       "0   2023-11-01 16:36:34        7.371      -80.606        8   3.3   \n",
       "1   2023-11-01 16:33:42       -9.130      117.510       10   3.3   \n",
       "2   2023-11-01 16:32:24       -9.090      117.500       10   3.3   \n",
       "3   2023-11-01 16:25:29       -0.800      126.840       10   3.5   \n",
       "4   2023-11-01 16:21:43       -3.710      131.230       10   3.8   \n",
       "5   2023-11-01 16:08:37      -32.700      -71.690       35   2.6   \n",
       "6   2023-11-01 15:53:07       61.855     -148.042       23   3.8   \n",
       "7   2023-11-01 15:36:52       11.940      -86.820       44   3.6   \n",
       "8   2023-11-01 15:23:02      -21.190      -68.910      111   2.6   \n",
       "9   2023-11-01 15:14:13       36.891       -2.999       13   2.2   \n",
       "10  2023-11-01 15:09:09       11.840      125.640       19   3.0   \n",
       "11  2023-11-01 15:03:32       40.528     -123.568        5   2.4   \n",
       "12  2023-11-01 14:49:46       59.976       10.946        8   3.0   \n",
       "13  2023-11-01 14:45:25        0.140      124.260       75   3.5   \n",
       "14  2023-11-01 14:38:02       36.839       -3.007       13   1.8   \n",
       "15  2023-11-01 14:35:25       13.820      120.520       50   3.6   \n",
       "16  2023-11-01 14:33:41       37.600       21.830       11   2.5   \n",
       "17  2023-11-01 14:30:21       19.402     -155.264        4   2.0   \n",
       "18  2023-11-01 14:29:27       37.875       36.335        3   2.1   \n",
       "19  2023-11-01 14:26:30      -24.003      -66.809      218   3.0   \n",
       "\n",
       "                           Region  \n",
       "0                          PANAMA  \n",
       "1       SUMBAWA REGION, INDONESIA  \n",
       "2       SUMBAWA REGION, INDONESIA  \n",
       "3                     MOLUCCA SEA  \n",
       "4            CERAM SEA, INDONESIA  \n",
       "5      OFFSHORE VALPARAISO, CHILE  \n",
       "6                 SOUTHERN ALASKA  \n",
       "7         NEAR COAST OF NICARAGUA  \n",
       "8                 TARAPACA, CHILE  \n",
       "9             STRAIT OF GIBRALTAR  \n",
       "10             SAMAR, PHILIPPINES  \n",
       "11            NORTHERN CALIFORNIA  \n",
       "12                SOUTHERN NORWAY  \n",
       "13  MINAHASA, SULAWESI, INDONESIA  \n",
       "14            STRAIT OF GIBRALTAR  \n",
       "15           MINDORO, PHILIPPINES  \n",
       "16                SOUTHERN GREECE  \n",
       "17       ISLAND OF HAWAII, HAWAII  \n",
       "18                 CENTRAL TURKEY  \n",
       "19               JUJUY, ARGENTINA  "
      ]
     },
     "execution_count": 33,
     "metadata": {},
     "output_type": "execute_result"
    }
   ],
   "source": [
    "df = df.applymap(lambda x: x[0] if isinstance(x, list) else x)\n",
    "df"
   ]
  },
  {
   "cell_type": "markdown",
   "metadata": {},
   "source": [
    "#### Count number of tweets by a given Twitter account."
   ]
  },
  {
   "cell_type": "markdown",
   "metadata": {},
   "source": [
    "You will need to include a ***try/except block*** for account names not found. \n",
    "<br>***Hint:*** the program should count the number of tweets for any provided account"
   ]
  },
  {
   "cell_type": "code",
   "execution_count": 53,
   "metadata": {},
   "outputs": [],
   "source": [
    "# This is the url you will scrape in this exercise \n",
    "# You will need to add the account credentials to this url\n",
    "url = 'https://twitter.com/JoeBiden?ref_src=twsrc%5Egoogle%7Ctwcamp%5Eserp%7Ctwgr%5Eauthor'\n",
    "driver.get(url)"
   ]
  },
  {
   "cell_type": "code",
   "execution_count": 55,
   "metadata": {},
   "outputs": [],
   "source": [
    "#your code\n",
    "driver.find_element(By.XPATH, '//*[@id=\"layers\"]/div[2]/div/div/div/div/div/div[2]/div[2]/div/div[2]/div/div[2]/div[2]/div[2]').click()"
   ]
  },
  {
   "cell_type": "code",
   "execution_count": 57,
   "metadata": {},
   "outputs": [
    {
     "data": {
      "text/plain": [
       "'9.748 posts'"
      ]
     },
     "execution_count": 57,
     "metadata": {},
     "output_type": "execute_result"
    }
   ],
   "source": [
    "driver.find_element(By.XPATH,'//*[@id=\"react-root\"]/div/div/div[2]/main/div/div/div/div/div/div[1]/div[1]/div/div/div/div/div/div[2]/div/div').text"
   ]
  },
  {
   "cell_type": "markdown",
   "metadata": {},
   "source": [
    "#### Number of followers of a given twitter account"
   ]
  },
  {
   "cell_type": "markdown",
   "metadata": {},
   "source": [
    "You will need to include a ***try/except block*** in case account/s name not found. \n",
    "<br>***Hint:*** the program should count the followers for any provided account"
   ]
  },
  {
   "cell_type": "code",
   "execution_count": 59,
   "metadata": {},
   "outputs": [],
   "source": [
    "# This is the url you will scrape in this exercise \n",
    "# You will need to add the account credentials to this url\n",
    "url = 'https://twitter.com/JoeBiden?ref_src=twsrc%5Egoogle%7Ctwcamp%5Eserp%7Ctwgr%5Eauthor'\n",
    "driver.get(url)"
   ]
  },
  {
   "cell_type": "code",
   "execution_count": 61,
   "metadata": {},
   "outputs": [
    {
     "data": {
      "text/plain": [
       "'37,6 M'"
      ]
     },
     "execution_count": 61,
     "metadata": {},
     "output_type": "execute_result"
    }
   ],
   "source": [
    "driver.find_element(By.XPATH,'//*[@id=\"react-root\"]/div/div/div[2]/main/div/div/div/div/div/div[3]/div/div/div/div/div[5]/div[2]/a/span[1]/span').text"
   ]
  },
  {
   "cell_type": "markdown",
   "metadata": {},
   "source": [
    "#### List all language names and number of related articles in the order they appear in wikipedia.org"
   ]
  },
  {
   "cell_type": "code",
   "execution_count": 34,
   "metadata": {},
   "outputs": [],
   "source": [
    "# This is the url you will scrape in this exercise\n",
    "url = 'https://www.wikipedia.org/'\n",
    "driver.get(url)"
   ]
  },
  {
   "cell_type": "code",
   "execution_count": 35,
   "metadata": {},
   "outputs": [
    {
     "data": {
      "text/plain": [
       "'Español\\n1 892 000+ artículos'"
      ]
     },
     "execution_count": 35,
     "metadata": {},
     "output_type": "execute_result"
    }
   ],
   "source": [
    "driver.find_elements(By.CLASS_NAME, 'central-featured-lang')[0].text"
   ]
  },
  {
   "cell_type": "code",
   "execution_count": 36,
   "metadata": {},
   "outputs": [
    {
     "data": {
      "text/plain": [
       "[<selenium.webdriver.remote.webelement.WebElement (session=\"0970daea1c37c169b0e55c54202cb2e6\", element=\"AFF5B72F1416961EB4937F952F4EE4D3_element_12\")>,\n",
       " <selenium.webdriver.remote.webelement.WebElement (session=\"0970daea1c37c169b0e55c54202cb2e6\", element=\"AFF5B72F1416961EB4937F952F4EE4D3_element_13\")>,\n",
       " <selenium.webdriver.remote.webelement.WebElement (session=\"0970daea1c37c169b0e55c54202cb2e6\", element=\"AFF5B72F1416961EB4937F952F4EE4D3_element_14\")>,\n",
       " <selenium.webdriver.remote.webelement.WebElement (session=\"0970daea1c37c169b0e55c54202cb2e6\", element=\"AFF5B72F1416961EB4937F952F4EE4D3_element_15\")>,\n",
       " <selenium.webdriver.remote.webelement.WebElement (session=\"0970daea1c37c169b0e55c54202cb2e6\", element=\"AFF5B72F1416961EB4937F952F4EE4D3_element_16\")>,\n",
       " <selenium.webdriver.remote.webelement.WebElement (session=\"0970daea1c37c169b0e55c54202cb2e6\", element=\"AFF5B72F1416961EB4937F952F4EE4D3_element_17\")>,\n",
       " <selenium.webdriver.remote.webelement.WebElement (session=\"0970daea1c37c169b0e55c54202cb2e6\", element=\"AFF5B72F1416961EB4937F952F4EE4D3_element_18\")>,\n",
       " <selenium.webdriver.remote.webelement.WebElement (session=\"0970daea1c37c169b0e55c54202cb2e6\", element=\"AFF5B72F1416961EB4937F952F4EE4D3_element_19\")>,\n",
       " <selenium.webdriver.remote.webelement.WebElement (session=\"0970daea1c37c169b0e55c54202cb2e6\", element=\"AFF5B72F1416961EB4937F952F4EE4D3_element_20\")>,\n",
       " <selenium.webdriver.remote.webelement.WebElement (session=\"0970daea1c37c169b0e55c54202cb2e6\", element=\"AFF5B72F1416961EB4937F952F4EE4D3_element_21\")>]"
      ]
     },
     "execution_count": 36,
     "metadata": {},
     "output_type": "execute_result"
    }
   ],
   "source": [
    "elementos=driver.find_elements(By.CLASS_NAME, 'central-featured-lang')\n",
    "elementos"
   ]
  },
  {
   "cell_type": "code",
   "execution_count": 37,
   "metadata": {},
   "outputs": [
    {
     "data": {
      "text/plain": [
       "[['Español', '1 892 000+ artículos'],\n",
       " ['English', '6 715 000+ articles'],\n",
       " ['日本語', '1 387 000+ 記事'],\n",
       " ['Русский', '1 938 000+ статей'],\n",
       " ['Deutsch', '2 836 000+ Artikel'],\n",
       " ['Français', '2 553 000+ articles'],\n",
       " ['Italiano', '1 826 000+ voci'],\n",
       " ['中文', '1 377 000+ 条目 / 條目'],\n",
       " ['Português', '1 109 000+ artigos'],\n",
       " ['العربية', '1 217 000+ مقالة']]"
      ]
     },
     "execution_count": 37,
     "metadata": {},
     "output_type": "execute_result"
    }
   ],
   "source": [
    "lst=[]\n",
    "for e in elementos:\n",
    "    lst.append(e.text.split('\\n'))\n",
    "lst"
   ]
  },
  {
   "cell_type": "markdown",
   "metadata": {},
   "source": [
    "#### A list with the different kind of datasets available in data.gov.uk "
   ]
  },
  {
   "cell_type": "code",
   "execution_count": 38,
   "metadata": {},
   "outputs": [],
   "source": [
    "# This is the url you will scrape in this exercise\n",
    "url = 'https://data.gov.uk/'\n",
    "driver.get(url)"
   ]
  },
  {
   "cell_type": "code",
   "execution_count": 39,
   "metadata": {},
   "outputs": [],
   "source": [
    "driver.find_element(By.XPATH,'//*[@id=\"global-cookie-message\"]/div[1]/div/div[2]/button[2]').click()"
   ]
  },
  {
   "cell_type": "code",
   "execution_count": 40,
   "metadata": {},
   "outputs": [
    {
     "data": {
      "text/plain": [
       "'Business and economy'"
      ]
     },
     "execution_count": 40,
     "metadata": {},
     "output_type": "execute_result"
    }
   ],
   "source": [
    " driver.find_elements(By.XPATH, '//h3//a')[0].text"
   ]
  },
  {
   "cell_type": "code",
   "execution_count": 41,
   "metadata": {},
   "outputs": [],
   "source": [
    "datasets= driver.find_elements(By.XPATH, '//h3//a')"
   ]
  },
  {
   "cell_type": "code",
   "execution_count": 42,
   "metadata": {},
   "outputs": [
    {
     "data": {
      "text/plain": [
       "['Business and economy',\n",
       " 'Crime and justice',\n",
       " 'Defence',\n",
       " 'Education',\n",
       " 'Environment',\n",
       " 'Government',\n",
       " 'Government spending',\n",
       " 'Health',\n",
       " 'Mapping',\n",
       " 'Society',\n",
       " 'Towns and cities',\n",
       " 'Transport',\n",
       " 'Digital service performance',\n",
       " 'Government reference data']"
      ]
     },
     "execution_count": 42,
     "metadata": {},
     "output_type": "execute_result"
    }
   ],
   "source": [
    "lst=[]\n",
    "for e in datasets:\n",
    "    lst.append(e.text)\n",
    "lst"
   ]
  },
  {
   "cell_type": "markdown",
   "metadata": {},
   "source": [
    "#### Top 10 languages by number of native speakers stored in a Pandas Dataframe"
   ]
  },
  {
   "cell_type": "code",
   "execution_count": 62,
   "metadata": {},
   "outputs": [],
   "source": [
    "# This is the url you will scrape in this exercise\n",
    "url = 'https://en.wikipedia.org/wiki/List_of_languages_by_number_of_native_speakers'\n",
    "driver.get(url)"
   ]
  },
  {
   "cell_type": "code",
   "execution_count": 67,
   "metadata": {},
   "outputs": [
    {
     "data": {
      "text/plain": [
       "'Mandarin Chinese'"
      ]
     },
     "execution_count": 67,
     "metadata": {},
     "output_type": "execute_result"
    }
   ],
   "source": [
    "driver.find_elements(By.CLASS_NAME, 'mw-redirect')[3].text"
   ]
  },
  {
   "cell_type": "code",
   "execution_count": 68,
   "metadata": {},
   "outputs": [],
   "source": [
    "idiomas=driver.find_elements(By.CLASS_NAME, 'mw-redirect')"
   ]
  },
  {
   "cell_type": "code",
   "execution_count": 71,
   "metadata": {},
   "outputs": [
    {
     "data": {
      "text/plain": [
       "['Mandarin Chinese',\n",
       " 'Spanish',\n",
       " 'English',\n",
       " 'Hindi',\n",
       " 'Portuguese',\n",
       " 'Bengali',\n",
       " 'Russian',\n",
       " 'Japanese',\n",
       " 'Yue Chinese',\n",
       " 'Vietnamese']"
      ]
     },
     "execution_count": 71,
     "metadata": {},
     "output_type": "execute_result"
    }
   ],
   "source": [
    "lst=[]\n",
    "for e in idiomas:\n",
    "    lst.append(e.text)\n",
    "lst=lst[:13]\n",
    "del lst[:3]\n",
    "lst"
   ]
  },
  {
   "cell_type": "markdown",
   "metadata": {},
   "source": [
    "### BONUS QUESTIONS"
   ]
  },
  {
   "cell_type": "markdown",
   "metadata": {},
   "source": [
    "#### Scrape a certain number of tweets of a given Twitter account."
   ]
  },
  {
   "cell_type": "code",
   "execution_count": null,
   "metadata": {},
   "outputs": [],
   "source": [
    "# This is the url you will scrape in this exercise \n",
    "# You will need to add the account credentials to this url\n",
    "url = 'https://twitter.com/'"
   ]
  },
  {
   "cell_type": "code",
   "execution_count": null,
   "metadata": {},
   "outputs": [],
   "source": [
    "# your code"
   ]
  },
  {
   "cell_type": "markdown",
   "metadata": {},
   "source": [
    "#### IMDB's Top 250 data (movie name, Initial release, director name and stars) as a pandas dataframe"
   ]
  },
  {
   "cell_type": "code",
   "execution_count": null,
   "metadata": {},
   "outputs": [],
   "source": [
    "# This is the url you will scrape in this exercise \n",
    "url = 'https://www.imdb.com/chart/top'"
   ]
  },
  {
   "cell_type": "code",
   "execution_count": null,
   "metadata": {},
   "outputs": [],
   "source": [
    "# your code"
   ]
  },
  {
   "cell_type": "markdown",
   "metadata": {},
   "source": [
    "#### Movie name, year and a brief summary of the top 10 random movies (IMDB) as a pandas dataframe."
   ]
  },
  {
   "cell_type": "code",
   "execution_count": null,
   "metadata": {},
   "outputs": [],
   "source": [
    "#This is the url you will scrape in this exercise\n",
    "url = 'http://www.imdb.com/chart/top'"
   ]
  },
  {
   "cell_type": "code",
   "execution_count": null,
   "metadata": {},
   "outputs": [],
   "source": [
    "#your code"
   ]
  },
  {
   "cell_type": "markdown",
   "metadata": {},
   "source": [
    "#### Find the live weather report (temperature, wind speed, description and weather) of a given city."
   ]
  },
  {
   "cell_type": "code",
   "execution_count": null,
   "metadata": {},
   "outputs": [],
   "source": [
    "#https://openweathermap.org/current\n",
    "city = city=input('Enter the city:')\n",
    "url = 'http://api.openweathermap.org/data/2.5/weather?'+'q='+city+'&APPID=b35975e18dc93725acb092f7272cc6b8&units=metric'"
   ]
  },
  {
   "cell_type": "code",
   "execution_count": null,
   "metadata": {},
   "outputs": [],
   "source": [
    "# your code"
   ]
  },
  {
   "cell_type": "markdown",
   "metadata": {},
   "source": [
    "#### Book name,price and stock availability as a pandas dataframe."
   ]
  },
  {
   "cell_type": "code",
   "execution_count": null,
   "metadata": {},
   "outputs": [],
   "source": [
    "# This is the url you will scrape in this exercise. \n",
    "# It is a fictional bookstore created to be scraped. \n",
    "url = 'http://books.toscrape.com/'"
   ]
  },
  {
   "cell_type": "code",
   "execution_count": null,
   "metadata": {},
   "outputs": [],
   "source": [
    "#your code"
   ]
  }
 ],
 "metadata": {
  "kernelspec": {
   "display_name": "Python 3 (ipykernel)",
   "language": "python",
   "name": "python3"
  },
  "language_info": {
   "codemirror_mode": {
    "name": "ipython",
    "version": 3
   },
   "file_extension": ".py",
   "mimetype": "text/x-python",
   "name": "python",
   "nbconvert_exporter": "python",
   "pygments_lexer": "ipython3",
   "version": "3.11.4"
  }
 },
 "nbformat": 4,
 "nbformat_minor": 2
}
