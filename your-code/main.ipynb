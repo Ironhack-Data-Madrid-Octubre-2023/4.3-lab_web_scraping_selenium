{
 "cells": [
  {
   "cell_type": "markdown",
   "metadata": {},
   "source": [
    "# Web Scraping Lab\n",
    "\n",
    "You will find in this notebook some scrapy exercises to practise your scraping skills.\n",
    "\n",
    "**Tips:**\n",
    "\n",
    "- Check the response status code for each request to ensure you have obtained the intended contennt.\n",
    "- Print the response text in each request to understand the kind of info you are getting and its format.\n",
    "- Check for patterns in the response text to extract the data/info requested in each question.\n",
    "- Visit each url and take a look at its source through Chrome DevTools. You'll need to identify the html tags, special class names etc. used for the html content you are expected to extract."
   ]
  },
  {
   "cell_type": "markdown",
   "metadata": {},
   "source": [
    "- [Selenium Doc](https://www.selenium.dev/documentation/)\n",
    "- [Requests library](http://docs.python-requests.org/en/master/#the-user-guide) documentation \n",
    "- [Urllib](https://docs.python.org/3/library/urllib.html#module-urllib)\n",
    "- [re lib](https://docs.python.org/3/library/re.html)\n",
    "- [lxml lib](https://lxml.de/)\n",
    "- [Scrapy](https://scrapy.org/)\n",
    "- [List of HTTP status codes](https://en.wikipedia.org/wiki/List_of_HTTP_status_codes)\n",
    "- [HTML basics](http://www.simplehtmlguide.com/cheatsheet.php)\n",
    "- [CSS basics](https://www.cssbasics.com/#page_start)"
   ]
  },
  {
   "cell_type": "markdown",
   "metadata": {},
   "source": [
    "#### Below are the libraries and modules you may need. `Selenium` and `pandas` are imported for you."
   ]
  },
  {
   "cell_type": "code",
   "execution_count": 1,
   "metadata": {},
   "outputs": [],
   "source": [
    "import pandas as pd\n",
    "from selenium.webdriver.chrome.options import Options\n",
    "from webdriver_manager.chrome import ChromeDriverManager"
   ]
  },
  {
   "cell_type": "code",
   "execution_count": 2,
   "metadata": {},
   "outputs": [],
   "source": [
    "from selenium import webdriver # driver de selenium\n",
    "\n",
    "import time   # para manejar tiempo\n",
    "\n",
    "import pandas as pd"
   ]
  },
  {
   "cell_type": "code",
   "execution_count": 3,
   "metadata": {},
   "outputs": [],
   "source": [
    "from selenium.webdriver.chrome.options import Options   # opciones del driver\n",
    "\n",
    "from selenium.webdriver.common.by import By   # para buscar segun tag, id, class, etc...\n",
    "\n",
    "from selenium.webdriver.support.ui import WebDriverWait   # es para esperar\n",
    "\n",
    "from selenium.webdriver.support import expected_conditions as EC  # condiciones esperadas...\n",
    "\n",
    "from selenium.webdriver import ActionChains as AC   # acciones encadenadas, rollo doble click\n",
    "\n",
    "from selenium.webdriver.common.keys import Keys  # manejar teclas"
   ]
  },
  {
   "cell_type": "markdown",
   "metadata": {},
   "source": [
    "#### Enable the options you may need. In the next cell you have an example of them but you can choose to use them or not."
   ]
  },
  {
   "cell_type": "code",
   "execution_count": 4,
   "metadata": {},
   "outputs": [],
   "source": [
    "#driver configuration\n",
    "opciones=Options()\n",
    "\n",
    "opciones.add_experimental_option('excludeSwitches', ['enable-automation'])\n",
    "opciones.add_experimental_option('useAutomationExtension', False)\n",
    "opciones.headless=False    # si True, no aperece la ventana (headless=no visible)\n",
    "opciones.add_argument('--start-maximized')         # comienza maximizado\n",
    "#opciones.add_argument('user-data-dir=selenium')    # mantiene las cookies\n",
    "#opciones.add_extension('driver_folder/adblock.crx')       # adblocker\n",
    "opciones.add_argument('--incognito')"
   ]
  },
  {
   "cell_type": "code",
   "execution_count": 5,
   "metadata": {},
   "outputs": [],
   "source": [
    "PATH = 'driver/chromedriver'\n",
    "\n",
    "driver = webdriver.Chrome()   # abre una ventana de chrome \n",
    "                            # una vez que he abierto una ventana, puedo trabajar siempre sobre esta misma.\n",
    "\n",
    "driver.get('https://www.google.es')"
   ]
  },
  {
   "cell_type": "markdown",
   "metadata": {},
   "source": [
    "#### Download, parse, and print the content from the Trending Developers page from GitHub:"
   ]
  },
  {
   "cell_type": "code",
   "execution_count": 6,
   "metadata": {},
   "outputs": [],
   "source": [
    "# This is the url you will scrape in this exercise\n",
    "url = 'https://github.com/trending/developers'"
   ]
  },
  {
   "cell_type": "code",
   "execution_count": 7,
   "metadata": {},
   "outputs": [],
   "source": [
    "driver.get(url)\n",
    "\n",
    "#no me hace falta volver a abrir la ventana de Chrome ya que ya tengo una abierta. SOLO llamar a la url nueva."
   ]
  },
  {
   "cell_type": "markdown",
   "metadata": {},
   "source": [
    "#### Display the names of the trending developers retrieved in the previous step.\n",
    "\n",
    "Your output should be a Python list of developer names. Each name should not contain any html tag.\n",
    "\n",
    "**Instructions:**\n",
    "\n",
    "1. Find out the html tag and class names used for the developer names.\n",
    "\n",
    "1. Use string manipulation techniques to replace whitespaces and linebreaks (i.e. `\\n`) in the *text* of each html element. Use a list to store the clean names.\n",
    "\n",
    "1. Print the list of names.\n",
    "\n",
    "Your output should look like below:\n",
    "\n",
    "```\n",
    "['trimstray (@trimstray)',\n",
    " 'joewalnes (JoeWalnes)',\n",
    " 'charlax (Charles-AxelDein)',\n",
    " 'ForrestKnight (ForrestKnight)',\n",
    " 'revery-ui (revery-ui)',\n",
    " 'alibaba (Alibaba)',\n",
    " 'Microsoft (Microsoft)',\n",
    " 'github (GitHub)',\n",
    " 'facebook (Facebook)',\n",
    " 'boazsegev (Bo)',\n",
    " 'google (Google)',\n",
    " 'cloudfetch',\n",
    " 'sindresorhus (SindreSorhus)',\n",
    " 'tensorflow',\n",
    " 'apache (TheApacheSoftwareFoundation)',\n",
    " 'DevonCrawford (DevonCrawford)',\n",
    " 'ARMmbed (ArmMbed)',\n",
    " 'vuejs (vuejs)',\n",
    " 'fastai (fast.ai)',\n",
    " 'QiShaoXuan (Qi)',\n",
    " 'joelparkerhenderson (JoelParkerHenderson)',\n",
    " 'torvalds (LinusTorvalds)',\n",
    " 'CyC2018',\n",
    " 'komeiji-satori (神楽坂覚々)',\n",
    " 'script-8']\n",
    " ```"
   ]
  },
  {
   "cell_type": "code",
   "execution_count": 8,
   "metadata": {},
   "outputs": [
    {
     "data": {
      "text/plain": [
       "['Ismail Pelaseyed', 'homanp']"
      ]
     },
     "execution_count": 8,
     "metadata": {},
     "output_type": "execute_result"
    }
   ],
   "source": [
    "driver.find_elements(By.CSS_SELECTOR, 'div.col-md-6')[0].text.split('\\n')"
   ]
  },
  {
   "cell_type": "code",
   "execution_count": 9,
   "metadata": {},
   "outputs": [],
   "source": [
    "lista = [e.text.split('\\n') for e in driver.find_elements(By.CSS_SELECTOR, 'div.col-md-6')]"
   ]
  },
  {
   "cell_type": "code",
   "execution_count": 10,
   "metadata": {},
   "outputs": [
    {
     "data": {
      "text/plain": [
       "[['Ismail Pelaseyed', 'homanp'],\n",
       " ['Chris Banes', 'chrisbanes'],\n",
       " ['Travis Cline', 'tmc'],\n",
       " ['Xiaoyu Zhang', 'BBuf'],\n",
       " ['Stefan Prodan', 'stefanprodan'],\n",
       " ['Pedro Cattori', 'pcattori'],\n",
       " ['POPULAR REPO', 'remix-template-vite'],\n",
       " ['lllyasviel'],\n",
       " ['Arvin Xu', 'arvinxx'],\n",
       " ['Howard Wu', 'howardwu'],\n",
       " ['Shahed Nasser', 'shahednasser'],\n",
       " ['Kailash Nadh', 'knadh'],\n",
       " ['Mattt', 'mattt'],\n",
       " ['kixelated'],\n",
       " ['Brad Fitzpatrick', 'bradfitz'],\n",
       " ['POPULAR REPO', 'issue-tracker-behaviors'],\n",
       " ['Miško Hevery', 'mhevery'],\n",
       " ['POPULAR REPO', 'JavaScriptVM_under_the_hood'],\n",
       " ['Andrew Lock', 'andrewlock'],\n",
       " ['Brian Smith', 'briansmith'],\n",
       " ['Numan', 'numandev1'],\n",
       " ['Fons van der Plas', 'fonsp'],\n",
       " ['Leonid Bugaev', 'buger'],\n",
       " ['wū yāng', 'uyarn'],\n",
       " ['Works for @Tencent', '@Tencent'],\n",
       " ['Steven Nguyen', 'stnguyen90'],\n",
       " ['Argo Zhang', 'ArgoZhang'],\n",
       " ['Josh Stein', 'jcstein'],\n",
       " ['Mike McNeil', 'mikermcneil'],\n",
       " ['Works for Fleet (@fleetdm)', 'Fleet (@fleetdm)']]"
      ]
     },
     "execution_count": 10,
     "metadata": {},
     "output_type": "execute_result"
    }
   ],
   "source": [
    "[e for e in lista if len(e)<3]"
   ]
  },
  {
   "cell_type": "code",
   "execution_count": 11,
   "metadata": {},
   "outputs": [
    {
     "data": {
      "text/plain": [
       "30"
      ]
     },
     "execution_count": 11,
     "metadata": {},
     "output_type": "execute_result"
    }
   ],
   "source": [
    "len([e for e in lista if len(e)<3])  # --> deberían salir 25\n",
    "                                    # aqui se han reordenado mal... "
   ]
  },
  {
   "cell_type": "code",
   "execution_count": 12,
   "metadata": {},
   "outputs": [],
   "source": [
    "nombres = [e.text for e in driver.find_elements(By.CSS_SELECTOR, 'h1.h3.lh-condensed')]"
   ]
  },
  {
   "cell_type": "code",
   "execution_count": 13,
   "metadata": {},
   "outputs": [],
   "source": [
    "nicks = [e.text for e in driver.find_elements(By.CSS_SELECTOR, 'p.f4.text-normal.mb-1')]"
   ]
  },
  {
   "cell_type": "code",
   "execution_count": 14,
   "metadata": {},
   "outputs": [
    {
     "data": {
      "text/plain": [
       "['Ismail Pelaseyed',\n",
       " 'Chris Banes',\n",
       " 'Travis Cline',\n",
       " 'Xiaoyu Zhang',\n",
       " 'Stefan Prodan',\n",
       " 'Pedro Cattori',\n",
       " 'lllyasviel',\n",
       " 'Arvin Xu',\n",
       " 'Howard Wu',\n",
       " 'Shahed Nasser',\n",
       " 'Kailash Nadh',\n",
       " 'Mattt',\n",
       " 'kixelated',\n",
       " 'Brad Fitzpatrick',\n",
       " 'Miško Hevery',\n",
       " 'Andrew Lock',\n",
       " 'Brian Smith',\n",
       " 'Numan',\n",
       " 'Fons van der Plas',\n",
       " 'Leonid Bugaev',\n",
       " 'wū yāng',\n",
       " 'Steven Nguyen',\n",
       " 'Argo Zhang',\n",
       " 'Josh Stein',\n",
       " 'Mike McNeil']"
      ]
     },
     "execution_count": 14,
     "metadata": {},
     "output_type": "execute_result"
    }
   ],
   "source": [
    "nombres"
   ]
  },
  {
   "cell_type": "code",
   "execution_count": 15,
   "metadata": {},
   "outputs": [
    {
     "data": {
      "text/plain": [
       "['homanp',\n",
       " 'chrisbanes',\n",
       " 'tmc',\n",
       " 'BBuf',\n",
       " 'stefanprodan',\n",
       " 'pcattori',\n",
       " 'arvinxx',\n",
       " 'howardwu',\n",
       " 'shahednasser',\n",
       " 'knadh',\n",
       " 'mattt',\n",
       " 'bradfitz',\n",
       " 'mhevery',\n",
       " 'andrewlock',\n",
       " 'briansmith',\n",
       " 'numandev1',\n",
       " 'fonsp',\n",
       " 'buger',\n",
       " 'uyarn',\n",
       " 'stnguyen90',\n",
       " 'ArgoZhang',\n",
       " 'jcstein',\n",
       " 'mikermcneil']"
      ]
     },
     "execution_count": 15,
     "metadata": {},
     "output_type": "execute_result"
    }
   ],
   "source": [
    "nicks"
   ]
  },
  {
   "cell_type": "code",
   "execution_count": 16,
   "metadata": {},
   "outputs": [
    {
     "data": {
      "text/plain": [
       "[('Ismail Pelaseyed', 'homanp'),\n",
       " ('Chris Banes', 'chrisbanes'),\n",
       " ('Travis Cline', 'tmc'),\n",
       " ('Xiaoyu Zhang', 'BBuf'),\n",
       " ('Stefan Prodan', 'stefanprodan'),\n",
       " ('Pedro Cattori', 'pcattori'),\n",
       " ('lllyasviel', 'arvinxx'),\n",
       " ('Arvin Xu', 'howardwu'),\n",
       " ('Howard Wu', 'shahednasser'),\n",
       " ('Shahed Nasser', 'knadh'),\n",
       " ('Kailash Nadh', 'mattt'),\n",
       " ('Mattt', 'bradfitz'),\n",
       " ('kixelated', 'mhevery'),\n",
       " ('Brad Fitzpatrick', 'andrewlock'),\n",
       " ('Miško Hevery', 'briansmith'),\n",
       " ('Andrew Lock', 'numandev1'),\n",
       " ('Brian Smith', 'fonsp'),\n",
       " ('Numan', 'buger'),\n",
       " ('Fons van der Plas', 'uyarn'),\n",
       " ('Leonid Bugaev', 'stnguyen90'),\n",
       " ('wū yāng', 'ArgoZhang'),\n",
       " ('Steven Nguyen', 'jcstein'),\n",
       " ('Argo Zhang', 'mikermcneil')]"
      ]
     },
     "execution_count": 16,
     "metadata": {},
     "output_type": "execute_result"
    }
   ],
   "source": [
    "list(zip(nombres, nicks))"
   ]
  },
  {
   "cell_type": "code",
   "execution_count": 17,
   "metadata": {},
   "outputs": [
    {
     "data": {
      "text/plain": [
       "23"
      ]
     },
     "execution_count": 17,
     "metadata": {},
     "output_type": "execute_result"
    }
   ],
   "source": [
    "len(list(zip(nombres, nicks)))\n",
    "\n",
    "#solamente escoge aquellos que estan ligados"
   ]
  },
  {
   "cell_type": "code",
   "execution_count": 18,
   "metadata": {},
   "outputs": [
    {
     "data": {
      "text/plain": [
       "25"
      ]
     },
     "execution_count": 18,
     "metadata": {},
     "output_type": "execute_result"
    }
   ],
   "source": [
    "len(nombres)"
   ]
  },
  {
   "cell_type": "code",
   "execution_count": 19,
   "metadata": {},
   "outputs": [
    {
     "data": {
      "text/plain": [
       "23"
      ]
     },
     "execution_count": 19,
     "metadata": {},
     "output_type": "execute_result"
    }
   ],
   "source": [
    "len(nicks)"
   ]
  },
  {
   "cell_type": "code",
   "execution_count": 20,
   "metadata": {},
   "outputs": [],
   "source": [
    "nombres = [e.text for e in driver.find_elements(By.XPATH, '//h1[@class=\"h3 lh-condensed\"]/a')]\n",
    "nicks = [e.text for e in driver.find_elements(By.XPATH, '//p[@class=\"f4 text-normal mb-1\"]/a')]"
   ]
  },
  {
   "cell_type": "code",
   "execution_count": 21,
   "metadata": {},
   "outputs": [
    {
     "data": {
      "text/plain": [
       "[('Ismail Pelaseyed', 'homanp'),\n",
       " ('Chris Banes', 'chrisbanes'),\n",
       " ('Travis Cline', 'tmc'),\n",
       " ('Xiaoyu Zhang', 'BBuf'),\n",
       " ('Stefan Prodan', 'stefanprodan'),\n",
       " ('Pedro Cattori', 'pcattori'),\n",
       " ('lllyasviel', 'arvinxx'),\n",
       " ('Arvin Xu', 'howardwu'),\n",
       " ('Howard Wu', 'shahednasser'),\n",
       " ('Shahed Nasser', 'knadh'),\n",
       " ('Kailash Nadh', 'mattt'),\n",
       " ('Mattt', 'bradfitz'),\n",
       " ('kixelated', 'mhevery'),\n",
       " ('Brad Fitzpatrick', 'andrewlock'),\n",
       " ('Miško Hevery', 'briansmith'),\n",
       " ('Andrew Lock', 'numandev1'),\n",
       " ('Brian Smith', 'fonsp'),\n",
       " ('Numan', 'buger'),\n",
       " ('Fons van der Plas', 'uyarn'),\n",
       " ('Leonid Bugaev', 'stnguyen90'),\n",
       " ('wū yāng', 'ArgoZhang'),\n",
       " ('Steven Nguyen', 'jcstein'),\n",
       " ('Argo Zhang', 'mikermcneil')]"
      ]
     },
     "execution_count": 21,
     "metadata": {},
     "output_type": "execute_result"
    }
   ],
   "source": [
    "tabla = list(zip(nombres, nicks))\n",
    "tabla"
   ]
  },
  {
   "cell_type": "code",
   "execution_count": 22,
   "metadata": {},
   "outputs": [
    {
     "data": {
      "text/plain": [
       "23"
      ]
     },
     "execution_count": 22,
     "metadata": {},
     "output_type": "execute_result"
    }
   ],
   "source": [
    "len(tabla)"
   ]
  },
  {
   "cell_type": "markdown",
   "metadata": {},
   "source": [
    "#### Display the trending Python repositories in GitHub\n",
    "\n",
    "The steps to solve this problem is similar to the previous one except that you need to find out the repository names instead of developer names."
   ]
  },
  {
   "cell_type": "code",
   "execution_count": 23,
   "metadata": {},
   "outputs": [],
   "source": [
    "# This is the url you will scrape in this exercise\n",
    "url = 'https://github.com/trending/python?since=daily'"
   ]
  },
  {
   "cell_type": "code",
   "execution_count": 24,
   "metadata": {},
   "outputs": [],
   "source": [
    "driver.get(url)"
   ]
  },
  {
   "cell_type": "code",
   "execution_count": 25,
   "metadata": {},
   "outputs": [
    {
     "data": {
      "text/plain": [
       "<selenium.webdriver.remote.webelement.WebElement (session=\"4ef56666dec724dab4139ffdd5d9d884\", element=\"0CD8EC2AF79A2F820D8BBEBAF78D4386_element_173\")>"
      ]
     },
     "execution_count": 25,
     "metadata": {},
     "output_type": "execute_result"
    }
   ],
   "source": [
    "driver.find_elements(By.CSS_SELECTOR, 'h2.h3.lh-condensed')[0]"
   ]
  },
  {
   "cell_type": "code",
   "execution_count": 26,
   "metadata": {},
   "outputs": [
    {
     "data": {
      "text/plain": [
       "['swisskyrepo / PayloadsAllTheThings',\n",
       " 'THUDM / ChatGLM3',\n",
       " 'PaddlePaddle / PaddleOCR',\n",
       " 'langchain-ai / langchain',\n",
       " 'dataelement / bisheng',\n",
       " 'Azure / MS-AMP',\n",
       " 'xxlong0 / Wonder3D',\n",
       " 'yunjey / pytorch-tutorial',\n",
       " 'facebookresearch / llama',\n",
       " 'localstack / localstack',\n",
       " 'OpenBMB / ChatDev',\n",
       " 'ray-project / ray',\n",
       " 'CycodeLabs / raven',\n",
       " 'ageitgey / face_recognition',\n",
       " 'iam-veeramalla / aws-devops-zero-to-hero',\n",
       " 'openai / whisper',\n",
       " 'sqlfluff / sqlfluff',\n",
       " 'imartinez / privateGPT',\n",
       " 'reflex-dev / reflex',\n",
       " 'donnemartin / system-design-primer',\n",
       " 'lm-sys / FastChat',\n",
       " 'togethercomputer / RedPajama-Data',\n",
       " 'SkyworkAI / Skywork',\n",
       " 'microsoft / qlib',\n",
       " 'pathwaycom / llm-app']"
      ]
     },
     "execution_count": 26,
     "metadata": {},
     "output_type": "execute_result"
    }
   ],
   "source": [
    "repositories = [e.text for e in driver.find_elements(By.CSS_SELECTOR, 'h2.h3.lh-condensed')]\n",
    "repositories"
   ]
  },
  {
   "cell_type": "code",
   "execution_count": 27,
   "metadata": {},
   "outputs": [
    {
     "data": {
      "text/plain": [
       "25"
      ]
     },
     "execution_count": 27,
     "metadata": {},
     "output_type": "execute_result"
    }
   ],
   "source": [
    "len(repositories)"
   ]
  },
  {
   "cell_type": "markdown",
   "metadata": {},
   "source": [
    "#### Display all the image links from Walt Disney wikipedia page"
   ]
  },
  {
   "cell_type": "code",
   "execution_count": 28,
   "metadata": {},
   "outputs": [],
   "source": [
    "# This is the url you will scrape in this exercise\n",
    "url = 'https://en.wikipedia.org/wiki/Walt_Disney'"
   ]
  },
  {
   "cell_type": "code",
   "execution_count": 29,
   "metadata": {},
   "outputs": [],
   "source": [
    "driver.get(url)"
   ]
  },
  {
   "cell_type": "code",
   "execution_count": 30,
   "metadata": {
    "scrolled": true
   },
   "outputs": [
    {
     "data": {
      "text/plain": [
       "[<selenium.webdriver.remote.webelement.WebElement (session=\"4ef56666dec724dab4139ffdd5d9d884\", element=\"FE69430D1C6B4A12C801ECBD2C05E751_element_2\")>,\n",
       " <selenium.webdriver.remote.webelement.WebElement (session=\"4ef56666dec724dab4139ffdd5d9d884\", element=\"FE69430D1C6B4A12C801ECBD2C05E751_element_3\")>,\n",
       " <selenium.webdriver.remote.webelement.WebElement (session=\"4ef56666dec724dab4139ffdd5d9d884\", element=\"FE69430D1C6B4A12C801ECBD2C05E751_element_5\")>,\n",
       " <selenium.webdriver.remote.webelement.WebElement (session=\"4ef56666dec724dab4139ffdd5d9d884\", element=\"FE69430D1C6B4A12C801ECBD2C05E751_element_23\")>,\n",
       " <selenium.webdriver.remote.webelement.WebElement (session=\"4ef56666dec724dab4139ffdd5d9d884\", element=\"FE69430D1C6B4A12C801ECBD2C05E751_element_24\")>,\n",
       " <selenium.webdriver.remote.webelement.WebElement (session=\"4ef56666dec724dab4139ffdd5d9d884\", element=\"FE69430D1C6B4A12C801ECBD2C05E751_element_17\")>,\n",
       " <selenium.webdriver.remote.webelement.WebElement (session=\"4ef56666dec724dab4139ffdd5d9d884\", element=\"FE69430D1C6B4A12C801ECBD2C05E751_element_25\")>,\n",
       " <selenium.webdriver.remote.webelement.WebElement (session=\"4ef56666dec724dab4139ffdd5d9d884\", element=\"FE69430D1C6B4A12C801ECBD2C05E751_element_26\")>,\n",
       " <selenium.webdriver.remote.webelement.WebElement (session=\"4ef56666dec724dab4139ffdd5d9d884\", element=\"FE69430D1C6B4A12C801ECBD2C05E751_element_27\")>,\n",
       " <selenium.webdriver.remote.webelement.WebElement (session=\"4ef56666dec724dab4139ffdd5d9d884\", element=\"FE69430D1C6B4A12C801ECBD2C05E751_element_28\")>,\n",
       " <selenium.webdriver.remote.webelement.WebElement (session=\"4ef56666dec724dab4139ffdd5d9d884\", element=\"FE69430D1C6B4A12C801ECBD2C05E751_element_29\")>,\n",
       " <selenium.webdriver.remote.webelement.WebElement (session=\"4ef56666dec724dab4139ffdd5d9d884\", element=\"FE69430D1C6B4A12C801ECBD2C05E751_element_30\")>,\n",
       " <selenium.webdriver.remote.webelement.WebElement (session=\"4ef56666dec724dab4139ffdd5d9d884\", element=\"FE69430D1C6B4A12C801ECBD2C05E751_element_31\")>,\n",
       " <selenium.webdriver.remote.webelement.WebElement (session=\"4ef56666dec724dab4139ffdd5d9d884\", element=\"FE69430D1C6B4A12C801ECBD2C05E751_element_32\")>,\n",
       " <selenium.webdriver.remote.webelement.WebElement (session=\"4ef56666dec724dab4139ffdd5d9d884\", element=\"FE69430D1C6B4A12C801ECBD2C05E751_element_33\")>,\n",
       " <selenium.webdriver.remote.webelement.WebElement (session=\"4ef56666dec724dab4139ffdd5d9d884\", element=\"FE69430D1C6B4A12C801ECBD2C05E751_element_34\")>,\n",
       " <selenium.webdriver.remote.webelement.WebElement (session=\"4ef56666dec724dab4139ffdd5d9d884\", element=\"FE69430D1C6B4A12C801ECBD2C05E751_element_35\")>,\n",
       " <selenium.webdriver.remote.webelement.WebElement (session=\"4ef56666dec724dab4139ffdd5d9d884\", element=\"FE69430D1C6B4A12C801ECBD2C05E751_element_36\")>,\n",
       " <selenium.webdriver.remote.webelement.WebElement (session=\"4ef56666dec724dab4139ffdd5d9d884\", element=\"FE69430D1C6B4A12C801ECBD2C05E751_element_37\")>,\n",
       " <selenium.webdriver.remote.webelement.WebElement (session=\"4ef56666dec724dab4139ffdd5d9d884\", element=\"FE69430D1C6B4A12C801ECBD2C05E751_element_38\")>,\n",
       " <selenium.webdriver.remote.webelement.WebElement (session=\"4ef56666dec724dab4139ffdd5d9d884\", element=\"FE69430D1C6B4A12C801ECBD2C05E751_element_39\")>,\n",
       " <selenium.webdriver.remote.webelement.WebElement (session=\"4ef56666dec724dab4139ffdd5d9d884\", element=\"FE69430D1C6B4A12C801ECBD2C05E751_element_40\")>,\n",
       " <selenium.webdriver.remote.webelement.WebElement (session=\"4ef56666dec724dab4139ffdd5d9d884\", element=\"FE69430D1C6B4A12C801ECBD2C05E751_element_41\")>,\n",
       " <selenium.webdriver.remote.webelement.WebElement (session=\"4ef56666dec724dab4139ffdd5d9d884\", element=\"FE69430D1C6B4A12C801ECBD2C05E751_element_42\")>,\n",
       " <selenium.webdriver.remote.webelement.WebElement (session=\"4ef56666dec724dab4139ffdd5d9d884\", element=\"FE69430D1C6B4A12C801ECBD2C05E751_element_43\")>,\n",
       " <selenium.webdriver.remote.webelement.WebElement (session=\"4ef56666dec724dab4139ffdd5d9d884\", element=\"FE69430D1C6B4A12C801ECBD2C05E751_element_44\")>,\n",
       " <selenium.webdriver.remote.webelement.WebElement (session=\"4ef56666dec724dab4139ffdd5d9d884\", element=\"FE69430D1C6B4A12C801ECBD2C05E751_element_45\")>,\n",
       " <selenium.webdriver.remote.webelement.WebElement (session=\"4ef56666dec724dab4139ffdd5d9d884\", element=\"FE69430D1C6B4A12C801ECBD2C05E751_element_46\")>,\n",
       " <selenium.webdriver.remote.webelement.WebElement (session=\"4ef56666dec724dab4139ffdd5d9d884\", element=\"FE69430D1C6B4A12C801ECBD2C05E751_element_47\")>,\n",
       " <selenium.webdriver.remote.webelement.WebElement (session=\"4ef56666dec724dab4139ffdd5d9d884\", element=\"FE69430D1C6B4A12C801ECBD2C05E751_element_48\")>,\n",
       " <selenium.webdriver.remote.webelement.WebElement (session=\"4ef56666dec724dab4139ffdd5d9d884\", element=\"FE69430D1C6B4A12C801ECBD2C05E751_element_49\")>,\n",
       " <selenium.webdriver.remote.webelement.WebElement (session=\"4ef56666dec724dab4139ffdd5d9d884\", element=\"FE69430D1C6B4A12C801ECBD2C05E751_element_50\")>,\n",
       " <selenium.webdriver.remote.webelement.WebElement (session=\"4ef56666dec724dab4139ffdd5d9d884\", element=\"FE69430D1C6B4A12C801ECBD2C05E751_element_51\")>,\n",
       " <selenium.webdriver.remote.webelement.WebElement (session=\"4ef56666dec724dab4139ffdd5d9d884\", element=\"FE69430D1C6B4A12C801ECBD2C05E751_element_52\")>,\n",
       " <selenium.webdriver.remote.webelement.WebElement (session=\"4ef56666dec724dab4139ffdd5d9d884\", element=\"FE69430D1C6B4A12C801ECBD2C05E751_element_53\")>,\n",
       " <selenium.webdriver.remote.webelement.WebElement (session=\"4ef56666dec724dab4139ffdd5d9d884\", element=\"FE69430D1C6B4A12C801ECBD2C05E751_element_54\")>]"
      ]
     },
     "execution_count": 30,
     "metadata": {},
     "output_type": "execute_result"
    }
   ],
   "source": [
    "images = driver.find_elements(By.TAG_NAME, 'img')\n",
    "images"
   ]
  },
  {
   "cell_type": "code",
   "execution_count": 31,
   "metadata": {
    "scrolled": true
   },
   "outputs": [
    {
     "data": {
      "text/plain": [
       "['https://en.wikipedia.org/static/images/icons/wikipedia.png',\n",
       " 'https://en.wikipedia.org/static/images/mobile/copyright/wikipedia-wordmark-en.svg',\n",
       " 'https://en.wikipedia.org/static/images/mobile/copyright/wikipedia-tagline-en.svg',\n",
       " 'https://upload.wikimedia.org/wikipedia/en/thumb/e/e7/Cscr-featured.svg/20px-Cscr-featured.svg.png',\n",
       " 'https://upload.wikimedia.org/wikipedia/en/thumb/8/8c/Extended-protection-shackle.svg/20px-Extended-protection-shackle.svg.png',\n",
       " 'https://upload.wikimedia.org/wikipedia/commons/thumb/d/df/Walt_Disney_1946.JPG/220px-Walt_Disney_1946.JPG',\n",
       " 'https://upload.wikimedia.org/wikipedia/commons/thumb/8/87/Walt_Disney_1942_signature.svg/150px-Walt_Disney_1942_signature.svg.png',\n",
       " 'https://upload.wikimedia.org/wikipedia/commons/thumb/3/3a/Walt_Disney_Birthplace_Exterior_Hermosa_Chicago_Illinois.jpg/220px-Walt_Disney_Birthplace_Exterior_Hermosa_Chicago_Illinois.jpg',\n",
       " 'https://upload.wikimedia.org/wikipedia/commons/thumb/c/c4/Walt_Disney_envelope_ca._1921.jpg/220px-Walt_Disney_envelope_ca._1921.jpg',\n",
       " 'https://upload.wikimedia.org/wikipedia/en/thumb/4/4e/Steamboat-willie.jpg/220px-Steamboat-willie.jpg',\n",
       " 'https://upload.wikimedia.org/wikipedia/commons/thumb/c/cd/Walt_Disney_Snow_white_1937_trailer_screenshot_%2813%29.jpg/220px-Walt_Disney_Snow_white_1937_trailer_screenshot_%2813%29.jpg',\n",
       " 'https://upload.wikimedia.org/wikipedia/commons/thumb/1/15/Disney_drawing_goofy.jpg/170px-Disney_drawing_goofy.jpg',\n",
       " 'https://upload.wikimedia.org/wikipedia/commons/thumb/8/8c/WaltDisneyplansDisneylandDec1954.jpg/220px-WaltDisneyplansDisneylandDec1954.jpg',\n",
       " 'https://upload.wikimedia.org/wikipedia/commons/thumb/f/ff/Walt_disney_portrait_right.jpg/170px-Walt_disney_portrait_right.jpg',\n",
       " 'https://upload.wikimedia.org/wikipedia/commons/thumb/1/1a/Walt_Disney_Grave.JPG/170px-Walt_Disney_Grave.JPG',\n",
       " 'https://upload.wikimedia.org/wikipedia/commons/thumb/1/1b/Nuvola_apps_kaboodle.svg/16px-Nuvola_apps_kaboodle.svg.png',\n",
       " 'https://upload.wikimedia.org/wikipedia/commons/thumb/1/13/DisneySchiphol1951.jpg/220px-DisneySchiphol1951.jpg',\n",
       " 'https://upload.wikimedia.org/wikipedia/commons/thumb/6/6c/Disney1968.jpg/170px-Disney1968.jpg',\n",
       " 'https://upload.wikimedia.org/wikipedia/commons/thumb/b/b0/Disney_Oscar_1953_%28cropped%29.jpg/170px-Disney_Oscar_1953_%28cropped%29.jpg',\n",
       " 'https://upload.wikimedia.org/wikipedia/en/thumb/4/4a/Commons-logo.svg/30px-Commons-logo.svg.png',\n",
       " 'https://upload.wikimedia.org/wikipedia/commons/thumb/4/4c/Wikisource-logo.svg/38px-Wikisource-logo.svg.png',\n",
       " 'https://upload.wikimedia.org/wikipedia/commons/thumb/f/fa/Wikiquote-logo.svg/34px-Wikiquote-logo.svg.png',\n",
       " 'https://upload.wikimedia.org/wikipedia/en/thumb/8/8a/OOjs_UI_icon_edit-ltr-progressive.svg/10px-OOjs_UI_icon_edit-ltr-progressive.svg.png',\n",
       " 'https://upload.wikimedia.org/wikipedia/en/thumb/8/8a/OOjs_UI_icon_edit-ltr-progressive.svg/10px-OOjs_UI_icon_edit-ltr-progressive.svg.png',\n",
       " 'https://upload.wikimedia.org/wikipedia/en/thumb/9/96/Symbol_category_class.svg/16px-Symbol_category_class.svg.png',\n",
       " 'https://upload.wikimedia.org/wikipedia/commons/thumb/e/e3/Disneyland_Resort_logo.svg/135px-Disneyland_Resort_logo.svg.png',\n",
       " 'https://upload.wikimedia.org/wikipedia/commons/thumb/d/da/Animation_disc.svg/20px-Animation_disc.svg.png',\n",
       " 'https://upload.wikimedia.org/wikipedia/en/thumb/6/69/P_vip.svg/19px-P_vip.svg.png',\n",
       " 'https://upload.wikimedia.org/wikipedia/commons/thumb/1/1a/Magic_Kingdom_castle.jpg/15px-Magic_Kingdom_castle.jpg',\n",
       " 'https://upload.wikimedia.org/wikipedia/en/thumb/e/e7/Video-x-generic.svg/19px-Video-x-generic.svg.png',\n",
       " 'https://upload.wikimedia.org/wikipedia/commons/thumb/a/a3/Flag_of_Los_Angeles_County%2C_California.svg/21px-Flag_of_Los_Angeles_County%2C_California.svg.png',\n",
       " 'https://upload.wikimedia.org/wikipedia/commons/thumb/8/8c/Blank_television_set.svg/21px-Blank_television_set.svg.png',\n",
       " 'https://upload.wikimedia.org/wikipedia/en/thumb/a/a4/Flag_of_the_United_States.svg/21px-Flag_of_the_United_States.svg.png',\n",
       " 'https://upload.wikimedia.org/wikipedia/en/thumb/8/8a/OOjs_UI_icon_edit-ltr-progressive.svg/10px-OOjs_UI_icon_edit-ltr-progressive.svg.png',\n",
       " 'https://en.wikipedia.org/static/images/footer/wikimedia-button.png',\n",
       " 'https://en.wikipedia.org/static/images/footer/poweredby_mediawiki_88x31.png']"
      ]
     },
     "execution_count": 31,
     "metadata": {},
     "output_type": "execute_result"
    }
   ],
   "source": [
    "image_links = [img.get_attribute('src') for img in images]\n",
    "image_links"
   ]
  },
  {
   "cell_type": "markdown",
   "metadata": {},
   "source": [
    "#### Retrieve an arbitary Wikipedia page of \"Python\" and create a list of links on that page"
   ]
  },
  {
   "cell_type": "code",
   "execution_count": 65,
   "metadata": {},
   "outputs": [],
   "source": [
    "# This is the url you will scrape in this exercise\n",
    "url ='https://en.wikipedia.org/wiki/Python' "
   ]
  },
  {
   "cell_type": "code",
   "execution_count": 66,
   "metadata": {},
   "outputs": [],
   "source": [
    "driver.get(url)"
   ]
  },
  {
   "cell_type": "code",
   "execution_count": 70,
   "metadata": {},
   "outputs": [
    {
     "data": {
      "text/plain": [
       "[<selenium.webdriver.remote.webelement.WebElement (session=\"4ef56666dec724dab4139ffdd5d9d884\", element=\"347E382E3281C0BD67576D436B253B1A_element_67\")>,\n",
       " <selenium.webdriver.remote.webelement.WebElement (session=\"4ef56666dec724dab4139ffdd5d9d884\", element=\"347E382E3281C0BD67576D436B253B1A_element_257\")>,\n",
       " <selenium.webdriver.remote.webelement.WebElement (session=\"4ef56666dec724dab4139ffdd5d9d884\", element=\"347E382E3281C0BD67576D436B253B1A_element_258\")>,\n",
       " <selenium.webdriver.remote.webelement.WebElement (session=\"4ef56666dec724dab4139ffdd5d9d884\", element=\"347E382E3281C0BD67576D436B253B1A_element_259\")>,\n",
       " <selenium.webdriver.remote.webelement.WebElement (session=\"4ef56666dec724dab4139ffdd5d9d884\", element=\"347E382E3281C0BD67576D436B253B1A_element_260\")>,\n",
       " <selenium.webdriver.remote.webelement.WebElement (session=\"4ef56666dec724dab4139ffdd5d9d884\", element=\"347E382E3281C0BD67576D436B253B1A_element_261\")>,\n",
       " <selenium.webdriver.remote.webelement.WebElement (session=\"4ef56666dec724dab4139ffdd5d9d884\", element=\"347E382E3281C0BD67576D436B253B1A_element_262\")>,\n",
       " <selenium.webdriver.remote.webelement.WebElement (session=\"4ef56666dec724dab4139ffdd5d9d884\", element=\"347E382E3281C0BD67576D436B253B1A_element_263\")>,\n",
       " <selenium.webdriver.remote.webelement.WebElement (session=\"4ef56666dec724dab4139ffdd5d9d884\", element=\"347E382E3281C0BD67576D436B253B1A_element_264\")>,\n",
       " <selenium.webdriver.remote.webelement.WebElement (session=\"4ef56666dec724dab4139ffdd5d9d884\", element=\"347E382E3281C0BD67576D436B253B1A_element_265\")>,\n",
       " <selenium.webdriver.remote.webelement.WebElement (session=\"4ef56666dec724dab4139ffdd5d9d884\", element=\"347E382E3281C0BD67576D436B253B1A_element_266\")>,\n",
       " <selenium.webdriver.remote.webelement.WebElement (session=\"4ef56666dec724dab4139ffdd5d9d884\", element=\"347E382E3281C0BD67576D436B253B1A_element_267\")>,\n",
       " <selenium.webdriver.remote.webelement.WebElement (session=\"4ef56666dec724dab4139ffdd5d9d884\", element=\"347E382E3281C0BD67576D436B253B1A_element_268\")>,\n",
       " <selenium.webdriver.remote.webelement.WebElement (session=\"4ef56666dec724dab4139ffdd5d9d884\", element=\"347E382E3281C0BD67576D436B253B1A_element_23\")>,\n",
       " <selenium.webdriver.remote.webelement.WebElement (session=\"4ef56666dec724dab4139ffdd5d9d884\", element=\"347E382E3281C0BD67576D436B253B1A_element_138\")>,\n",
       " <selenium.webdriver.remote.webelement.WebElement (session=\"4ef56666dec724dab4139ffdd5d9d884\", element=\"347E382E3281C0BD67576D436B253B1A_element_269\")>,\n",
       " <selenium.webdriver.remote.webelement.WebElement (session=\"4ef56666dec724dab4139ffdd5d9d884\", element=\"347E382E3281C0BD67576D436B253B1A_element_270\")>,\n",
       " <selenium.webdriver.remote.webelement.WebElement (session=\"4ef56666dec724dab4139ffdd5d9d884\", element=\"347E382E3281C0BD67576D436B253B1A_element_207\")>,\n",
       " <selenium.webdriver.remote.webelement.WebElement (session=\"4ef56666dec724dab4139ffdd5d9d884\", element=\"347E382E3281C0BD67576D436B253B1A_element_212\")>,\n",
       " <selenium.webdriver.remote.webelement.WebElement (session=\"4ef56666dec724dab4139ffdd5d9d884\", element=\"347E382E3281C0BD67576D436B253B1A_element_271\")>,\n",
       " <selenium.webdriver.remote.webelement.WebElement (session=\"4ef56666dec724dab4139ffdd5d9d884\", element=\"347E382E3281C0BD67576D436B253B1A_element_272\")>,\n",
       " <selenium.webdriver.remote.webelement.WebElement (session=\"4ef56666dec724dab4139ffdd5d9d884\", element=\"347E382E3281C0BD67576D436B253B1A_element_273\")>,\n",
       " <selenium.webdriver.remote.webelement.WebElement (session=\"4ef56666dec724dab4139ffdd5d9d884\", element=\"347E382E3281C0BD67576D436B253B1A_element_274\")>,\n",
       " <selenium.webdriver.remote.webelement.WebElement (session=\"4ef56666dec724dab4139ffdd5d9d884\", element=\"347E382E3281C0BD67576D436B253B1A_element_275\")>,\n",
       " <selenium.webdriver.remote.webelement.WebElement (session=\"4ef56666dec724dab4139ffdd5d9d884\", element=\"347E382E3281C0BD67576D436B253B1A_element_276\")>,\n",
       " <selenium.webdriver.remote.webelement.WebElement (session=\"4ef56666dec724dab4139ffdd5d9d884\", element=\"347E382E3281C0BD67576D436B253B1A_element_277\")>,\n",
       " <selenium.webdriver.remote.webelement.WebElement (session=\"4ef56666dec724dab4139ffdd5d9d884\", element=\"347E382E3281C0BD67576D436B253B1A_element_278\")>,\n",
       " <selenium.webdriver.remote.webelement.WebElement (session=\"4ef56666dec724dab4139ffdd5d9d884\", element=\"347E382E3281C0BD67576D436B253B1A_element_279\")>,\n",
       " <selenium.webdriver.remote.webelement.WebElement (session=\"4ef56666dec724dab4139ffdd5d9d884\", element=\"347E382E3281C0BD67576D436B253B1A_element_280\")>,\n",
       " <selenium.webdriver.remote.webelement.WebElement (session=\"4ef56666dec724dab4139ffdd5d9d884\", element=\"347E382E3281C0BD67576D436B253B1A_element_281\")>,\n",
       " <selenium.webdriver.remote.webelement.WebElement (session=\"4ef56666dec724dab4139ffdd5d9d884\", element=\"347E382E3281C0BD67576D436B253B1A_element_282\")>,\n",
       " <selenium.webdriver.remote.webelement.WebElement (session=\"4ef56666dec724dab4139ffdd5d9d884\", element=\"347E382E3281C0BD67576D436B253B1A_element_283\")>,\n",
       " <selenium.webdriver.remote.webelement.WebElement (session=\"4ef56666dec724dab4139ffdd5d9d884\", element=\"347E382E3281C0BD67576D436B253B1A_element_284\")>,\n",
       " <selenium.webdriver.remote.webelement.WebElement (session=\"4ef56666dec724dab4139ffdd5d9d884\", element=\"347E382E3281C0BD67576D436B253B1A_element_285\")>,\n",
       " <selenium.webdriver.remote.webelement.WebElement (session=\"4ef56666dec724dab4139ffdd5d9d884\", element=\"347E382E3281C0BD67576D436B253B1A_element_286\")>,\n",
       " <selenium.webdriver.remote.webelement.WebElement (session=\"4ef56666dec724dab4139ffdd5d9d884\", element=\"347E382E3281C0BD67576D436B253B1A_element_287\")>,\n",
       " <selenium.webdriver.remote.webelement.WebElement (session=\"4ef56666dec724dab4139ffdd5d9d884\", element=\"347E382E3281C0BD67576D436B253B1A_element_288\")>,\n",
       " <selenium.webdriver.remote.webelement.WebElement (session=\"4ef56666dec724dab4139ffdd5d9d884\", element=\"347E382E3281C0BD67576D436B253B1A_element_289\")>,\n",
       " <selenium.webdriver.remote.webelement.WebElement (session=\"4ef56666dec724dab4139ffdd5d9d884\", element=\"347E382E3281C0BD67576D436B253B1A_element_290\")>,\n",
       " <selenium.webdriver.remote.webelement.WebElement (session=\"4ef56666dec724dab4139ffdd5d9d884\", element=\"347E382E3281C0BD67576D436B253B1A_element_291\")>,\n",
       " <selenium.webdriver.remote.webelement.WebElement (session=\"4ef56666dec724dab4139ffdd5d9d884\", element=\"347E382E3281C0BD67576D436B253B1A_element_292\")>,\n",
       " <selenium.webdriver.remote.webelement.WebElement (session=\"4ef56666dec724dab4139ffdd5d9d884\", element=\"347E382E3281C0BD67576D436B253B1A_element_293\")>,\n",
       " <selenium.webdriver.remote.webelement.WebElement (session=\"4ef56666dec724dab4139ffdd5d9d884\", element=\"347E382E3281C0BD67576D436B253B1A_element_294\")>,\n",
       " <selenium.webdriver.remote.webelement.WebElement (session=\"4ef56666dec724dab4139ffdd5d9d884\", element=\"347E382E3281C0BD67576D436B253B1A_element_295\")>,\n",
       " <selenium.webdriver.remote.webelement.WebElement (session=\"4ef56666dec724dab4139ffdd5d9d884\", element=\"347E382E3281C0BD67576D436B253B1A_element_296\")>,\n",
       " <selenium.webdriver.remote.webelement.WebElement (session=\"4ef56666dec724dab4139ffdd5d9d884\", element=\"347E382E3281C0BD67576D436B253B1A_element_297\")>,\n",
       " <selenium.webdriver.remote.webelement.WebElement (session=\"4ef56666dec724dab4139ffdd5d9d884\", element=\"347E382E3281C0BD67576D436B253B1A_element_298\")>,\n",
       " <selenium.webdriver.remote.webelement.WebElement (session=\"4ef56666dec724dab4139ffdd5d9d884\", element=\"347E382E3281C0BD67576D436B253B1A_element_299\")>,\n",
       " <selenium.webdriver.remote.webelement.WebElement (session=\"4ef56666dec724dab4139ffdd5d9d884\", element=\"347E382E3281C0BD67576D436B253B1A_element_300\")>,\n",
       " <selenium.webdriver.remote.webelement.WebElement (session=\"4ef56666dec724dab4139ffdd5d9d884\", element=\"347E382E3281C0BD67576D436B253B1A_element_301\")>,\n",
       " <selenium.webdriver.remote.webelement.WebElement (session=\"4ef56666dec724dab4139ffdd5d9d884\", element=\"347E382E3281C0BD67576D436B253B1A_element_302\")>,\n",
       " <selenium.webdriver.remote.webelement.WebElement (session=\"4ef56666dec724dab4139ffdd5d9d884\", element=\"347E382E3281C0BD67576D436B253B1A_element_303\")>,\n",
       " <selenium.webdriver.remote.webelement.WebElement (session=\"4ef56666dec724dab4139ffdd5d9d884\", element=\"347E382E3281C0BD67576D436B253B1A_element_304\")>,\n",
       " <selenium.webdriver.remote.webelement.WebElement (session=\"4ef56666dec724dab4139ffdd5d9d884\", element=\"347E382E3281C0BD67576D436B253B1A_element_305\")>,\n",
       " <selenium.webdriver.remote.webelement.WebElement (session=\"4ef56666dec724dab4139ffdd5d9d884\", element=\"347E382E3281C0BD67576D436B253B1A_element_306\")>,\n",
       " <selenium.webdriver.remote.webelement.WebElement (session=\"4ef56666dec724dab4139ffdd5d9d884\", element=\"347E382E3281C0BD67576D436B253B1A_element_307\")>,\n",
       " <selenium.webdriver.remote.webelement.WebElement (session=\"4ef56666dec724dab4139ffdd5d9d884\", element=\"347E382E3281C0BD67576D436B253B1A_element_308\")>,\n",
       " <selenium.webdriver.remote.webelement.WebElement (session=\"4ef56666dec724dab4139ffdd5d9d884\", element=\"347E382E3281C0BD67576D436B253B1A_element_309\")>,\n",
       " <selenium.webdriver.remote.webelement.WebElement (session=\"4ef56666dec724dab4139ffdd5d9d884\", element=\"347E382E3281C0BD67576D436B253B1A_element_310\")>,\n",
       " <selenium.webdriver.remote.webelement.WebElement (session=\"4ef56666dec724dab4139ffdd5d9d884\", element=\"347E382E3281C0BD67576D436B253B1A_element_311\")>,\n",
       " <selenium.webdriver.remote.webelement.WebElement (session=\"4ef56666dec724dab4139ffdd5d9d884\", element=\"347E382E3281C0BD67576D436B253B1A_element_312\")>,\n",
       " <selenium.webdriver.remote.webelement.WebElement (session=\"4ef56666dec724dab4139ffdd5d9d884\", element=\"347E382E3281C0BD67576D436B253B1A_element_313\")>,\n",
       " <selenium.webdriver.remote.webelement.WebElement (session=\"4ef56666dec724dab4139ffdd5d9d884\", element=\"347E382E3281C0BD67576D436B253B1A_element_314\")>,\n",
       " <selenium.webdriver.remote.webelement.WebElement (session=\"4ef56666dec724dab4139ffdd5d9d884\", element=\"347E382E3281C0BD67576D436B253B1A_element_315\")>,\n",
       " <selenium.webdriver.remote.webelement.WebElement (session=\"4ef56666dec724dab4139ffdd5d9d884\", element=\"347E382E3281C0BD67576D436B253B1A_element_316\")>,\n",
       " <selenium.webdriver.remote.webelement.WebElement (session=\"4ef56666dec724dab4139ffdd5d9d884\", element=\"347E382E3281C0BD67576D436B253B1A_element_317\")>,\n",
       " <selenium.webdriver.remote.webelement.WebElement (session=\"4ef56666dec724dab4139ffdd5d9d884\", element=\"347E382E3281C0BD67576D436B253B1A_element_318\")>,\n",
       " <selenium.webdriver.remote.webelement.WebElement (session=\"4ef56666dec724dab4139ffdd5d9d884\", element=\"347E382E3281C0BD67576D436B253B1A_element_319\")>,\n",
       " <selenium.webdriver.remote.webelement.WebElement (session=\"4ef56666dec724dab4139ffdd5d9d884\", element=\"347E382E3281C0BD67576D436B253B1A_element_320\")>,\n",
       " <selenium.webdriver.remote.webelement.WebElement (session=\"4ef56666dec724dab4139ffdd5d9d884\", element=\"347E382E3281C0BD67576D436B253B1A_element_321\")>,\n",
       " <selenium.webdriver.remote.webelement.WebElement (session=\"4ef56666dec724dab4139ffdd5d9d884\", element=\"347E382E3281C0BD67576D436B253B1A_element_322\")>,\n",
       " <selenium.webdriver.remote.webelement.WebElement (session=\"4ef56666dec724dab4139ffdd5d9d884\", element=\"347E382E3281C0BD67576D436B253B1A_element_323\")>,\n",
       " <selenium.webdriver.remote.webelement.WebElement (session=\"4ef56666dec724dab4139ffdd5d9d884\", element=\"347E382E3281C0BD67576D436B253B1A_element_324\")>,\n",
       " <selenium.webdriver.remote.webelement.WebElement (session=\"4ef56666dec724dab4139ffdd5d9d884\", element=\"347E382E3281C0BD67576D436B253B1A_element_325\")>,\n",
       " <selenium.webdriver.remote.webelement.WebElement (session=\"4ef56666dec724dab4139ffdd5d9d884\", element=\"347E382E3281C0BD67576D436B253B1A_element_326\")>,\n",
       " <selenium.webdriver.remote.webelement.WebElement (session=\"4ef56666dec724dab4139ffdd5d9d884\", element=\"347E382E3281C0BD67576D436B253B1A_element_327\")>,\n",
       " <selenium.webdriver.remote.webelement.WebElement (session=\"4ef56666dec724dab4139ffdd5d9d884\", element=\"347E382E3281C0BD67576D436B253B1A_element_328\")>,\n",
       " <selenium.webdriver.remote.webelement.WebElement (session=\"4ef56666dec724dab4139ffdd5d9d884\", element=\"347E382E3281C0BD67576D436B253B1A_element_33\")>,\n",
       " <selenium.webdriver.remote.webelement.WebElement (session=\"4ef56666dec724dab4139ffdd5d9d884\", element=\"347E382E3281C0BD67576D436B253B1A_element_34\")>,\n",
       " <selenium.webdriver.remote.webelement.WebElement (session=\"4ef56666dec724dab4139ffdd5d9d884\", element=\"347E382E3281C0BD67576D436B253B1A_element_329\")>,\n",
       " <selenium.webdriver.remote.webelement.WebElement (session=\"4ef56666dec724dab4139ffdd5d9d884\", element=\"347E382E3281C0BD67576D436B253B1A_element_330\")>,\n",
       " <selenium.webdriver.remote.webelement.WebElement (session=\"4ef56666dec724dab4139ffdd5d9d884\", element=\"347E382E3281C0BD67576D436B253B1A_element_331\")>,\n",
       " <selenium.webdriver.remote.webelement.WebElement (session=\"4ef56666dec724dab4139ffdd5d9d884\", element=\"347E382E3281C0BD67576D436B253B1A_element_191\")>,\n",
       " <selenium.webdriver.remote.webelement.WebElement (session=\"4ef56666dec724dab4139ffdd5d9d884\", element=\"347E382E3281C0BD67576D436B253B1A_element_195\")>,\n",
       " <selenium.webdriver.remote.webelement.WebElement (session=\"4ef56666dec724dab4139ffdd5d9d884\", element=\"347E382E3281C0BD67576D436B253B1A_element_199\")>,\n",
       " <selenium.webdriver.remote.webelement.WebElement (session=\"4ef56666dec724dab4139ffdd5d9d884\", element=\"347E382E3281C0BD67576D436B253B1A_element_332\")>,\n",
       " <selenium.webdriver.remote.webelement.WebElement (session=\"4ef56666dec724dab4139ffdd5d9d884\", element=\"347E382E3281C0BD67576D436B253B1A_element_333\")>,\n",
       " <selenium.webdriver.remote.webelement.WebElement (session=\"4ef56666dec724dab4139ffdd5d9d884\", element=\"347E382E3281C0BD67576D436B253B1A_element_334\")>,\n",
       " <selenium.webdriver.remote.webelement.WebElement (session=\"4ef56666dec724dab4139ffdd5d9d884\", element=\"347E382E3281C0BD67576D436B253B1A_element_335\")>,\n",
       " <selenium.webdriver.remote.webelement.WebElement (session=\"4ef56666dec724dab4139ffdd5d9d884\", element=\"347E382E3281C0BD67576D436B253B1A_element_336\")>,\n",
       " <selenium.webdriver.remote.webelement.WebElement (session=\"4ef56666dec724dab4139ffdd5d9d884\", element=\"347E382E3281C0BD67576D436B253B1A_element_337\")>,\n",
       " <selenium.webdriver.remote.webelement.WebElement (session=\"4ef56666dec724dab4139ffdd5d9d884\", element=\"347E382E3281C0BD67576D436B253B1A_element_338\")>,\n",
       " <selenium.webdriver.remote.webelement.WebElement (session=\"4ef56666dec724dab4139ffdd5d9d884\", element=\"347E382E3281C0BD67576D436B253B1A_element_339\")>,\n",
       " <selenium.webdriver.remote.webelement.WebElement (session=\"4ef56666dec724dab4139ffdd5d9d884\", element=\"347E382E3281C0BD67576D436B253B1A_element_340\")>,\n",
       " <selenium.webdriver.remote.webelement.WebElement (session=\"4ef56666dec724dab4139ffdd5d9d884\", element=\"347E382E3281C0BD67576D436B253B1A_element_341\")>,\n",
       " <selenium.webdriver.remote.webelement.WebElement (session=\"4ef56666dec724dab4139ffdd5d9d884\", element=\"347E382E3281C0BD67576D436B253B1A_element_342\")>,\n",
       " <selenium.webdriver.remote.webelement.WebElement (session=\"4ef56666dec724dab4139ffdd5d9d884\", element=\"347E382E3281C0BD67576D436B253B1A_element_343\")>,\n",
       " <selenium.webdriver.remote.webelement.WebElement (session=\"4ef56666dec724dab4139ffdd5d9d884\", element=\"347E382E3281C0BD67576D436B253B1A_element_344\")>,\n",
       " <selenium.webdriver.remote.webelement.WebElement (session=\"4ef56666dec724dab4139ffdd5d9d884\", element=\"347E382E3281C0BD67576D436B253B1A_element_345\")>,\n",
       " <selenium.webdriver.remote.webelement.WebElement (session=\"4ef56666dec724dab4139ffdd5d9d884\", element=\"347E382E3281C0BD67576D436B253B1A_element_346\")>,\n",
       " <selenium.webdriver.remote.webelement.WebElement (session=\"4ef56666dec724dab4139ffdd5d9d884\", element=\"347E382E3281C0BD67576D436B253B1A_element_347\")>,\n",
       " <selenium.webdriver.remote.webelement.WebElement (session=\"4ef56666dec724dab4139ffdd5d9d884\", element=\"347E382E3281C0BD67576D436B253B1A_element_348\")>,\n",
       " <selenium.webdriver.remote.webelement.WebElement (session=\"4ef56666dec724dab4139ffdd5d9d884\", element=\"347E382E3281C0BD67576D436B253B1A_element_349\")>,\n",
       " <selenium.webdriver.remote.webelement.WebElement (session=\"4ef56666dec724dab4139ffdd5d9d884\", element=\"347E382E3281C0BD67576D436B253B1A_element_350\")>,\n",
       " <selenium.webdriver.remote.webelement.WebElement (session=\"4ef56666dec724dab4139ffdd5d9d884\", element=\"347E382E3281C0BD67576D436B253B1A_element_351\")>,\n",
       " <selenium.webdriver.remote.webelement.WebElement (session=\"4ef56666dec724dab4139ffdd5d9d884\", element=\"347E382E3281C0BD67576D436B253B1A_element_352\")>,\n",
       " <selenium.webdriver.remote.webelement.WebElement (session=\"4ef56666dec724dab4139ffdd5d9d884\", element=\"347E382E3281C0BD67576D436B253B1A_element_353\")>,\n",
       " <selenium.webdriver.remote.webelement.WebElement (session=\"4ef56666dec724dab4139ffdd5d9d884\", element=\"347E382E3281C0BD67576D436B253B1A_element_354\")>,\n",
       " <selenium.webdriver.remote.webelement.WebElement (session=\"4ef56666dec724dab4139ffdd5d9d884\", element=\"347E382E3281C0BD67576D436B253B1A_element_355\")>,\n",
       " <selenium.webdriver.remote.webelement.WebElement (session=\"4ef56666dec724dab4139ffdd5d9d884\", element=\"347E382E3281C0BD67576D436B253B1A_element_356\")>,\n",
       " <selenium.webdriver.remote.webelement.WebElement (session=\"4ef56666dec724dab4139ffdd5d9d884\", element=\"347E382E3281C0BD67576D436B253B1A_element_357\")>,\n",
       " <selenium.webdriver.remote.webelement.WebElement (session=\"4ef56666dec724dab4139ffdd5d9d884\", element=\"347E382E3281C0BD67576D436B253B1A_element_358\")>,\n",
       " <selenium.webdriver.remote.webelement.WebElement (session=\"4ef56666dec724dab4139ffdd5d9d884\", element=\"347E382E3281C0BD67576D436B253B1A_element_359\")>,\n",
       " <selenium.webdriver.remote.webelement.WebElement (session=\"4ef56666dec724dab4139ffdd5d9d884\", element=\"347E382E3281C0BD67576D436B253B1A_element_360\")>,\n",
       " <selenium.webdriver.remote.webelement.WebElement (session=\"4ef56666dec724dab4139ffdd5d9d884\", element=\"347E382E3281C0BD67576D436B253B1A_element_361\")>,\n",
       " <selenium.webdriver.remote.webelement.WebElement (session=\"4ef56666dec724dab4139ffdd5d9d884\", element=\"347E382E3281C0BD67576D436B253B1A_element_362\")>,\n",
       " <selenium.webdriver.remote.webelement.WebElement (session=\"4ef56666dec724dab4139ffdd5d9d884\", element=\"347E382E3281C0BD67576D436B253B1A_element_363\")>,\n",
       " <selenium.webdriver.remote.webelement.WebElement (session=\"4ef56666dec724dab4139ffdd5d9d884\", element=\"347E382E3281C0BD67576D436B253B1A_element_364\")>,\n",
       " <selenium.webdriver.remote.webelement.WebElement (session=\"4ef56666dec724dab4139ffdd5d9d884\", element=\"347E382E3281C0BD67576D436B253B1A_element_365\")>,\n",
       " <selenium.webdriver.remote.webelement.WebElement (session=\"4ef56666dec724dab4139ffdd5d9d884\", element=\"347E382E3281C0BD67576D436B253B1A_element_366\")>,\n",
       " <selenium.webdriver.remote.webelement.WebElement (session=\"4ef56666dec724dab4139ffdd5d9d884\", element=\"347E382E3281C0BD67576D436B253B1A_element_367\")>,\n",
       " <selenium.webdriver.remote.webelement.WebElement (session=\"4ef56666dec724dab4139ffdd5d9d884\", element=\"347E382E3281C0BD67576D436B253B1A_element_368\")>,\n",
       " <selenium.webdriver.remote.webelement.WebElement (session=\"4ef56666dec724dab4139ffdd5d9d884\", element=\"347E382E3281C0BD67576D436B253B1A_element_369\")>,\n",
       " <selenium.webdriver.remote.webelement.WebElement (session=\"4ef56666dec724dab4139ffdd5d9d884\", element=\"347E382E3281C0BD67576D436B253B1A_element_370\")>,\n",
       " <selenium.webdriver.remote.webelement.WebElement (session=\"4ef56666dec724dab4139ffdd5d9d884\", element=\"347E382E3281C0BD67576D436B253B1A_element_371\")>,\n",
       " <selenium.webdriver.remote.webelement.WebElement (session=\"4ef56666dec724dab4139ffdd5d9d884\", element=\"347E382E3281C0BD67576D436B253B1A_element_372\")>,\n",
       " <selenium.webdriver.remote.webelement.WebElement (session=\"4ef56666dec724dab4139ffdd5d9d884\", element=\"347E382E3281C0BD67576D436B253B1A_element_373\")>,\n",
       " <selenium.webdriver.remote.webelement.WebElement (session=\"4ef56666dec724dab4139ffdd5d9d884\", element=\"347E382E3281C0BD67576D436B253B1A_element_374\")>,\n",
       " <selenium.webdriver.remote.webelement.WebElement (session=\"4ef56666dec724dab4139ffdd5d9d884\", element=\"347E382E3281C0BD67576D436B253B1A_element_375\")>,\n",
       " <selenium.webdriver.remote.webelement.WebElement (session=\"4ef56666dec724dab4139ffdd5d9d884\", element=\"347E382E3281C0BD67576D436B253B1A_element_376\")>,\n",
       " <selenium.webdriver.remote.webelement.WebElement (session=\"4ef56666dec724dab4139ffdd5d9d884\", element=\"347E382E3281C0BD67576D436B253B1A_element_377\")>,\n",
       " <selenium.webdriver.remote.webelement.WebElement (session=\"4ef56666dec724dab4139ffdd5d9d884\", element=\"347E382E3281C0BD67576D436B253B1A_element_378\")>,\n",
       " <selenium.webdriver.remote.webelement.WebElement (session=\"4ef56666dec724dab4139ffdd5d9d884\", element=\"347E382E3281C0BD67576D436B253B1A_element_379\")>,\n",
       " <selenium.webdriver.remote.webelement.WebElement (session=\"4ef56666dec724dab4139ffdd5d9d884\", element=\"347E382E3281C0BD67576D436B253B1A_element_380\")>,\n",
       " <selenium.webdriver.remote.webelement.WebElement (session=\"4ef56666dec724dab4139ffdd5d9d884\", element=\"347E382E3281C0BD67576D436B253B1A_element_381\")>,\n",
       " <selenium.webdriver.remote.webelement.WebElement (session=\"4ef56666dec724dab4139ffdd5d9d884\", element=\"347E382E3281C0BD67576D436B253B1A_element_382\")>,\n",
       " <selenium.webdriver.remote.webelement.WebElement (session=\"4ef56666dec724dab4139ffdd5d9d884\", element=\"347E382E3281C0BD67576D436B253B1A_element_383\")>,\n",
       " <selenium.webdriver.remote.webelement.WebElement (session=\"4ef56666dec724dab4139ffdd5d9d884\", element=\"347E382E3281C0BD67576D436B253B1A_element_384\")>,\n",
       " <selenium.webdriver.remote.webelement.WebElement (session=\"4ef56666dec724dab4139ffdd5d9d884\", element=\"347E382E3281C0BD67576D436B253B1A_element_385\")>,\n",
       " <selenium.webdriver.remote.webelement.WebElement (session=\"4ef56666dec724dab4139ffdd5d9d884\", element=\"347E382E3281C0BD67576D436B253B1A_element_386\")>,\n",
       " <selenium.webdriver.remote.webelement.WebElement (session=\"4ef56666dec724dab4139ffdd5d9d884\", element=\"347E382E3281C0BD67576D436B253B1A_element_387\")>,\n",
       " <selenium.webdriver.remote.webelement.WebElement (session=\"4ef56666dec724dab4139ffdd5d9d884\", element=\"347E382E3281C0BD67576D436B253B1A_element_388\")>,\n",
       " <selenium.webdriver.remote.webelement.WebElement (session=\"4ef56666dec724dab4139ffdd5d9d884\", element=\"347E382E3281C0BD67576D436B253B1A_element_389\")>,\n",
       " <selenium.webdriver.remote.webelement.WebElement (session=\"4ef56666dec724dab4139ffdd5d9d884\", element=\"347E382E3281C0BD67576D436B253B1A_element_390\")>,\n",
       " <selenium.webdriver.remote.webelement.WebElement (session=\"4ef56666dec724dab4139ffdd5d9d884\", element=\"347E382E3281C0BD67576D436B253B1A_element_391\")>,\n",
       " <selenium.webdriver.remote.webelement.WebElement (session=\"4ef56666dec724dab4139ffdd5d9d884\", element=\"347E382E3281C0BD67576D436B253B1A_element_392\")>,\n",
       " <selenium.webdriver.remote.webelement.WebElement (session=\"4ef56666dec724dab4139ffdd5d9d884\", element=\"347E382E3281C0BD67576D436B253B1A_element_393\")>,\n",
       " <selenium.webdriver.remote.webelement.WebElement (session=\"4ef56666dec724dab4139ffdd5d9d884\", element=\"347E382E3281C0BD67576D436B253B1A_element_394\")>,\n",
       " <selenium.webdriver.remote.webelement.WebElement (session=\"4ef56666dec724dab4139ffdd5d9d884\", element=\"347E382E3281C0BD67576D436B253B1A_element_395\")>,\n",
       " <selenium.webdriver.remote.webelement.WebElement (session=\"4ef56666dec724dab4139ffdd5d9d884\", element=\"347E382E3281C0BD67576D436B253B1A_element_396\")>,\n",
       " <selenium.webdriver.remote.webelement.WebElement (session=\"4ef56666dec724dab4139ffdd5d9d884\", element=\"347E382E3281C0BD67576D436B253B1A_element_397\")>,\n",
       " <selenium.webdriver.remote.webelement.WebElement (session=\"4ef56666dec724dab4139ffdd5d9d884\", element=\"347E382E3281C0BD67576D436B253B1A_element_398\")>,\n",
       " <selenium.webdriver.remote.webelement.WebElement (session=\"4ef56666dec724dab4139ffdd5d9d884\", element=\"347E382E3281C0BD67576D436B253B1A_element_399\")>,\n",
       " <selenium.webdriver.remote.webelement.WebElement (session=\"4ef56666dec724dab4139ffdd5d9d884\", element=\"347E382E3281C0BD67576D436B253B1A_element_400\")>,\n",
       " <selenium.webdriver.remote.webelement.WebElement (session=\"4ef56666dec724dab4139ffdd5d9d884\", element=\"347E382E3281C0BD67576D436B253B1A_element_401\")>,\n",
       " <selenium.webdriver.remote.webelement.WebElement (session=\"4ef56666dec724dab4139ffdd5d9d884\", element=\"347E382E3281C0BD67576D436B253B1A_element_402\")>,\n",
       " <selenium.webdriver.remote.webelement.WebElement (session=\"4ef56666dec724dab4139ffdd5d9d884\", element=\"347E382E3281C0BD67576D436B253B1A_element_403\")>,\n",
       " <selenium.webdriver.remote.webelement.WebElement (session=\"4ef56666dec724dab4139ffdd5d9d884\", element=\"347E382E3281C0BD67576D436B253B1A_element_404\")>,\n",
       " <selenium.webdriver.remote.webelement.WebElement (session=\"4ef56666dec724dab4139ffdd5d9d884\", element=\"347E382E3281C0BD67576D436B253B1A_element_405\")>,\n",
       " <selenium.webdriver.remote.webelement.WebElement (session=\"4ef56666dec724dab4139ffdd5d9d884\", element=\"347E382E3281C0BD67576D436B253B1A_element_406\")>,\n",
       " <selenium.webdriver.remote.webelement.WebElement (session=\"4ef56666dec724dab4139ffdd5d9d884\", element=\"347E382E3281C0BD67576D436B253B1A_element_407\")>,\n",
       " <selenium.webdriver.remote.webelement.WebElement (session=\"4ef56666dec724dab4139ffdd5d9d884\", element=\"347E382E3281C0BD67576D436B253B1A_element_408\")>,\n",
       " <selenium.webdriver.remote.webelement.WebElement (session=\"4ef56666dec724dab4139ffdd5d9d884\", element=\"347E382E3281C0BD67576D436B253B1A_element_409\")>,\n",
       " <selenium.webdriver.remote.webelement.WebElement (session=\"4ef56666dec724dab4139ffdd5d9d884\", element=\"347E382E3281C0BD67576D436B253B1A_element_78\")>]"
      ]
     },
     "execution_count": 70,
     "metadata": {},
     "output_type": "execute_result"
    }
   ],
   "source": [
    "pages = driver.find_elements(By.TAG_NAME, 'a')\n",
    "pages"
   ]
  },
  {
   "cell_type": "markdown",
   "metadata": {},
   "source": [
    "page_link = [link.get_attribute('href') for link in pages]\n",
    "page_link"
   ]
  },
  {
   "cell_type": "code",
   "execution_count": 76,
   "metadata": {},
   "outputs": [
    {
     "name": "stdout",
     "output_type": "stream",
     "text": [
      "https://en.wikipedia.org/wiki/Python#bodyContent\n",
      "https://en.wikipedia.org/wiki/Main_Page\n",
      "https://en.wikipedia.org/wiki/Wikipedia:Contents\n",
      "https://en.wikipedia.org/wiki/Portal:Current_events\n",
      "https://en.wikipedia.org/wiki/Special:Random\n",
      "https://en.wikipedia.org/wiki/Wikipedia:About\n",
      "https://en.wikipedia.org/wiki/Wikipedia:Contact_us\n",
      "https://donate.wikimedia.org/wiki/Special:FundraiserRedirector?utm_source=donate&utm_medium=sidebar&utm_campaign=C13_en.wikipedia.org&uselang=en\n",
      "https://en.wikipedia.org/wiki/Help:Contents\n",
      "https://en.wikipedia.org/wiki/Help:Introduction\n",
      "https://en.wikipedia.org/wiki/Wikipedia:Community_portal\n",
      "https://en.wikipedia.org/wiki/Special:RecentChanges\n",
      "https://en.wikipedia.org/wiki/Wikipedia:File_upload_wizard\n",
      "https://en.wikipedia.org/wiki/Main_Page\n",
      "https://en.wikipedia.org/wiki/Special:Search\n",
      "https://en.wikipedia.org/w/index.php?title=Special:CreateAccount&returnto=Python\n",
      "https://en.wikipedia.org/w/index.php?title=Special:UserLogin&returnto=Python\n",
      "https://en.wikipedia.org/w/index.php?title=Special:CreateAccount&returnto=Python\n",
      "https://en.wikipedia.org/w/index.php?title=Special:UserLogin&returnto=Python\n",
      "https://en.wikipedia.org/wiki/Help:Introduction\n",
      "https://en.wikipedia.org/wiki/Special:MyContributions\n",
      "https://en.wikipedia.org/wiki/Special:MyTalk\n",
      "https://en.wikipedia.org/wiki/Python#\n",
      "https://en.wikipedia.org/wiki/Python#Snakes\n",
      "https://en.wikipedia.org/wiki/Python#Computing\n",
      "https://en.wikipedia.org/wiki/Python#People\n",
      "https://en.wikipedia.org/wiki/Python#Roller_coasters\n",
      "https://en.wikipedia.org/wiki/Python#Vehicles\n",
      "https://en.wikipedia.org/wiki/Python#Weaponry\n",
      "https://en.wikipedia.org/wiki/Python#Other_uses\n",
      "https://en.wikipedia.org/wiki/Python#See_also\n",
      "https://af.wikipedia.org/wiki/Python\n",
      "https://als.wikipedia.org/wiki/Python\n",
      "https://ar.wikipedia.org/wiki/%D8%A8%D8%A7%D9%8A%D8%AB%D9%88%D9%86_(%D8%AA%D9%88%D8%B6%D9%8A%D8%AD)\n",
      "https://az.wikipedia.org/wiki/Python_(d%C9%99qiql%C9%99%C5%9Fdirm%C9%99)\n",
      "https://bn.wikipedia.org/wiki/%E0%A6%AA%E0%A6%BE%E0%A6%87%E0%A6%A5%E0%A6%A8_(%E0%A6%A6%E0%A7%8D%E0%A6%AC%E0%A7%8D%E0%A6%AF%E0%A6%B0%E0%A7%8D%E0%A6%A5%E0%A6%A4%E0%A6%BE_%E0%A6%A8%E0%A6%BF%E0%A6%B0%E0%A6%B8%E0%A6%A8)\n",
      "https://be.wikipedia.org/wiki/Python\n",
      "https://bg.wikipedia.org/wiki/%D0%9F%D0%B8%D1%82%D0%BE%D0%BD_(%D0%BF%D0%BE%D1%8F%D1%81%D0%BD%D0%B5%D0%BD%D0%B8%D0%B5)\n",
      "https://cs.wikipedia.org/wiki/Python_(rozcestn%C3%ADk)\n",
      "https://da.wikipedia.org/wiki/Python\n",
      "https://de.wikipedia.org/wiki/Python\n",
      "https://eo.wikipedia.org/wiki/Pitono_(apartigilo)\n",
      "https://eu.wikipedia.org/wiki/Python_(argipena)\n",
      "https://fa.wikipedia.org/wiki/%D9%BE%D8%A7%DB%8C%D8%AA%D9%88%D9%86\n",
      "https://fr.wikipedia.org/wiki/Python\n",
      "https://ko.wikipedia.org/wiki/%ED%8C%8C%EC%9D%B4%EC%84%A0\n",
      "https://hr.wikipedia.org/wiki/Python_(razdvojba)\n",
      "https://io.wikipedia.org/wiki/Pitono\n",
      "https://id.wikipedia.org/wiki/Python\n",
      "https://ia.wikipedia.org/wiki/Python_(disambiguation)\n",
      "https://is.wikipedia.org/wiki/Python_(a%C3%B0greining)\n",
      "https://it.wikipedia.org/wiki/Python_(disambigua)\n",
      "https://he.wikipedia.org/wiki/%D7%A4%D7%99%D7%AA%D7%95%D7%9F\n",
      "https://ka.wikipedia.org/wiki/%E1%83%9E%E1%83%98%E1%83%97%E1%83%9D%E1%83%9C%E1%83%98_(%E1%83%9B%E1%83%A0%E1%83%90%E1%83%95%E1%83%90%E1%83%9A%E1%83%9B%E1%83%9C%E1%83%98%E1%83%A8%E1%83%95%E1%83%9C%E1%83%94%E1%83%9A%E1%83%9D%E1%83%95%E1%83%90%E1%83%9C%E1%83%98)\n",
      "https://kg.wikipedia.org/wiki/Mboma_(nyoka)\n",
      "https://la.wikipedia.org/wiki/Python_(discretiva)\n",
      "https://lb.wikipedia.org/wiki/Python\n",
      "https://hu.wikipedia.org/wiki/Python_(egy%C3%A9rtelm%C5%B1s%C3%ADt%C5%91_lap)\n",
      "https://mr.wikipedia.org/wiki/%E0%A4%AA%E0%A4%BE%E0%A4%AF%E0%A4%A5%E0%A5%89%E0%A4%A8_(%E0%A4%86%E0%A4%9C%E0%A5%8D%E0%A4%9E%E0%A4%BE%E0%A4%B5%E0%A4%B2%E0%A5%80_%E0%A4%AD%E0%A4%BE%E0%A4%B7%E0%A4%BE)\n",
      "https://nl.wikipedia.org/wiki/Python\n",
      "https://ja.wikipedia.org/wiki/%E3%83%91%E3%82%A4%E3%82%BD%E3%83%B3\n",
      "https://no.wikipedia.org/wiki/Pyton\n",
      "https://pl.wikipedia.org/wiki/Pyton\n",
      "https://pt.wikipedia.org/wiki/Python_(desambigua%C3%A7%C3%A3o)\n",
      "https://ru.wikipedia.org/wiki/Python_(%D0%B7%D0%BD%D0%B0%D1%87%D0%B5%D0%BD%D0%B8%D1%8F)\n",
      "https://sk.wikipedia.org/wiki/Python\n",
      "https://sr.wikipedia.org/wiki/%D0%9F%D0%B8%D1%82%D0%BE%D0%BD_(%D0%B2%D0%B8%D1%88%D0%B5%D0%B7%D0%BD%D0%B0%D1%87%D0%BD%D0%B0_%D0%BE%D0%B4%D1%80%D0%B5%D0%B4%D0%BD%D0%B8%D1%86%D0%B0)\n",
      "https://sh.wikipedia.org/wiki/Python\n",
      "https://fi.wikipedia.org/wiki/Python\n",
      "https://sv.wikipedia.org/wiki/Pyton\n",
      "https://th.wikipedia.org/wiki/%E0%B9%84%E0%B8%9E%E0%B8%97%E0%B8%AD%E0%B8%99\n",
      "https://tr.wikipedia.org/wiki/Python_(anlam_ayr%C4%B1m%C4%B1)\n",
      "https://uk.wikipedia.org/wiki/%D0%9F%D1%96%D1%84%D0%BE%D0%BD\n",
      "https://ur.wikipedia.org/wiki/%D9%BE%D8%A7%D8%A6%DB%8C%D8%AA%DA%BE%D9%88%D9%86\n",
      "https://vi.wikipedia.org/wiki/Python\n",
      "https://zh.wikipedia.org/wiki/Python_(%E6%B6%88%E6%AD%A7%E4%B9%89)\n",
      "https://www.wikidata.org/wiki/Special:EntityPage/Q747452#sitelinks-wikipedia\n",
      "https://en.wikipedia.org/wiki/Python\n",
      "https://en.wikipedia.org/wiki/Talk:Python\n",
      "https://en.wikipedia.org/wiki/Python\n",
      "https://en.wikipedia.org/w/index.php?title=Python&action=edit&editintro=Template:Disambig_editintro\n",
      "https://en.wikipedia.org/w/index.php?title=Python&action=history\n",
      "https://en.wikipedia.org/wiki/Python\n",
      "https://en.wikipedia.org/w/index.php?title=Python&action=edit\n",
      "https://en.wikipedia.org/w/index.php?title=Python&action=history\n",
      "https://en.wikipedia.org/wiki/Special:WhatLinksHere/Python\n",
      "https://en.wikipedia.org/wiki/Special:RecentChangesLinked/Python\n",
      "https://en.wikipedia.org/wiki/Wikipedia:File_Upload_Wizard\n",
      "https://en.wikipedia.org/wiki/Special:SpecialPages\n",
      "https://en.wikipedia.org/w/index.php?title=Python&oldid=1182751793\n",
      "https://en.wikipedia.org/w/index.php?title=Python&action=info\n",
      "https://en.wikipedia.org/w/index.php?title=Special:CiteThisPage&page=Python&id=1182751793&wpFormIdentifier=titleform\n",
      "https://en.wikipedia.org/w/index.php?title=Special:UrlShortener&url=https%3A%2F%2Fen.wikipedia.org%2Fwiki%2FPython\n",
      "https://www.wikidata.org/wiki/Special:EntityPage/Q747452\n",
      "https://www.wikidata.org/wiki/Special:EntityPage/Q747452#sitelinks-wikipedia\n",
      "https://en.wikipedia.org/w/index.php?title=Special:DownloadAsPdf&page=Python&action=show-download-screen\n",
      "https://en.wikipedia.org/w/index.php?title=Python&printable=yes\n",
      "https://commons.wikimedia.org/wiki/Category:Python\n",
      "https://en.wiktionary.org/wiki/Python\n",
      "https://en.wiktionary.org/wiki/python\n",
      "https://en.wikipedia.org/w/index.php?title=Python&action=edit&section=1&editintro=Template:Disambig_editintro\n",
      "https://en.wikipedia.org/wiki/Pythonidae\n",
      "https://en.wikipedia.org/wiki/Python_(genus)\n",
      "https://en.wikipedia.org/wiki/Python_(mythology)\n",
      "https://en.wikipedia.org/w/index.php?title=Python&action=edit&section=2&editintro=Template:Disambig_editintro\n",
      "https://en.wikipedia.org/wiki/Python_(programming_language)\n",
      "https://en.wikipedia.org/wiki/CMU_Common_Lisp\n",
      "https://en.wikipedia.org/wiki/PERQ#PERQ_3\n",
      "https://en.wikipedia.org/w/index.php?title=Python&action=edit&section=3&editintro=Template:Disambig_editintro\n",
      "https://en.wikipedia.org/wiki/Python_of_Aenus\n",
      "https://en.wikipedia.org/wiki/Python_(painter)\n",
      "https://en.wikipedia.org/wiki/Python_of_Byzantium\n",
      "https://en.wikipedia.org/wiki/Python_of_Catana\n",
      "https://en.wikipedia.org/wiki/Python_Anghelo\n",
      "https://en.wikipedia.org/w/index.php?title=Python&action=edit&section=4&editintro=Template:Disambig_editintro\n",
      "https://en.wikipedia.org/wiki/Python_(Efteling)\n",
      "https://en.wikipedia.org/wiki/Python_(Busch_Gardens_Tampa_Bay)\n",
      "https://en.wikipedia.org/wiki/Python_(Coney_Island,_Cincinnati,_Ohio)\n",
      "https://en.wikipedia.org/w/index.php?title=Python&action=edit&section=5&editintro=Template:Disambig_editintro\n",
      "https://en.wikipedia.org/wiki/Python_(automobile_maker)\n",
      "https://en.wikipedia.org/wiki/Python_(Ford_prototype)\n",
      "https://en.wikipedia.org/w/index.php?title=Python&action=edit&section=6&editintro=Template:Disambig_editintro\n",
      "https://en.wikipedia.org/wiki/Python_(missile)\n",
      "https://en.wikipedia.org/wiki/Python_(nuclear_primary)\n",
      "https://en.wikipedia.org/wiki/Colt_Python\n",
      "https://en.wikipedia.org/w/index.php?title=Python&action=edit&section=7&editintro=Template:Disambig_editintro\n",
      "https://en.wikipedia.org/wiki/Python_(codename)\n",
      "https://en.wikipedia.org/wiki/Python_(film)\n",
      "https://en.wikipedia.org/wiki/Monty_Python\n",
      "https://en.wikipedia.org/wiki/Python_(Monty)_Pictures\n",
      "https://en.wikipedia.org/wiki/Timon_of_Phlius\n",
      "https://en.wikipedia.org/w/index.php?title=Python&action=edit&section=8&editintro=Template:Disambig_editintro\n",
      "https://en.wikipedia.org/wiki/Pyton\n"
     ]
    },
    {
     "name": "stdout",
     "output_type": "stream",
     "text": [
      "https://en.wikipedia.org/wiki/Pithon\n",
      "https://en.wikipedia.org/wiki/File:Disambig_gray.svg\n",
      "https://en.wikipedia.org/wiki/Help:Disambiguation\n",
      "https://en.wikipedia.org/w/index.php?title=Special:WhatLinksHere/Python&namespace=0\n",
      "https://en.wikipedia.org/w/index.php?title=Python&oldid=1182751793\n",
      "https://en.wikipedia.org/wiki/Help:Category\n",
      "https://en.wikipedia.org/wiki/Category:Disambiguation_pages\n",
      "https://en.wikipedia.org/wiki/Category:Human_name_disambiguation_pages\n",
      "https://en.wikipedia.org/wiki/Category:Disambiguation_pages_with_given-name-holder_lists\n",
      "https://en.wikipedia.org/wiki/Category:Short_description_is_different_from_Wikidata\n",
      "https://en.wikipedia.org/wiki/Category:All_article_disambiguation_pages\n",
      "https://en.wikipedia.org/wiki/Category:All_disambiguation_pages\n",
      "https://en.wikipedia.org/wiki/Category:Animal_common_name_disambiguation_pages\n",
      "https://en.wikipedia.org/wiki/Wikipedia:Text_of_the_Creative_Commons_Attribution-ShareAlike_4.0_International_License\n",
      "https://en.wikipedia.org/wiki/Wikipedia:Text_of_the_Creative_Commons_Attribution-ShareAlike_4.0_International_License\n",
      "https://foundation.wikimedia.org/wiki/Terms_of_Use\n",
      "https://foundation.wikimedia.org/wiki/Privacy_policy\n",
      "https://www.wikimediafoundation.org/\n",
      "https://foundation.wikimedia.org/wiki/Special:MyLanguage/Policy:Privacy_policy\n",
      "https://en.wikipedia.org/wiki/Wikipedia:About\n",
      "https://en.wikipedia.org/wiki/Wikipedia:General_disclaimer\n",
      "https://en.wikipedia.org/wiki/Wikipedia:Contact_us\n",
      "https://foundation.wikimedia.org/wiki/Special:MyLanguage/Universal_Code_of_Conduct\n",
      "https://developer.wikimedia.org/\n",
      "https://stats.wikimedia.org/#/en.wikipedia.org\n",
      "https://foundation.wikimedia.org/wiki/Special:MyLanguage/Policy:Cookie_statement\n",
      "https://en.m.wikipedia.org/w/index.php?title=Python&mobileaction=toggle_view_mobile\n",
      "https://en.wikipedia.org/wiki/Python#\n",
      "https://wikimediafoundation.org/\n",
      "https://www.mediawiki.org/\n",
      "https://en.wikipedia.org/wiki/Python?action=edit\n"
     ]
    }
   ],
   "source": [
    "for e in pages:\n",
    "    print(e.get_attribute(\"href\"))"
   ]
  },
  {
   "cell_type": "markdown",
   "metadata": {},
   "source": [
    "#### Number of Titles that have changed in the United States Code since its last release point "
   ]
  },
  {
   "cell_type": "code",
   "execution_count": 77,
   "metadata": {},
   "outputs": [],
   "source": [
    "# This is the url you will scrape in this exercise\n",
    "url = 'http://uscode.house.gov/download/download.shtml'"
   ]
  },
  {
   "cell_type": "code",
   "execution_count": 78,
   "metadata": {},
   "outputs": [],
   "source": [
    "driver.get(url)"
   ]
  },
  {
   "cell_type": "code",
   "execution_count": 85,
   "metadata": {},
   "outputs": [
    {
     "data": {
      "text/plain": [
       "[<selenium.webdriver.remote.webelement.WebElement (session=\"4ef56666dec724dab4139ffdd5d9d884\", element=\"C1C823B4ECAD4FA46B6A6D1A1E21E719_element_385\")>,\n",
       " <selenium.webdriver.remote.webelement.WebElement (session=\"4ef56666dec724dab4139ffdd5d9d884\", element=\"C1C823B4ECAD4FA46B6A6D1A1E21E719_element_442\")>]"
      ]
     },
     "execution_count": 85,
     "metadata": {},
     "output_type": "execute_result"
    }
   ],
   "source": [
    "titles_changed = driver.find_elements(By.XPATH, '//div[@class=\"usctitlechanged\"]')\n",
    "titles_changed"
   ]
  },
  {
   "cell_type": "code",
   "execution_count": 86,
   "metadata": {},
   "outputs": [
    {
     "name": "stdout",
     "output_type": "stream",
     "text": [
      "Title 20 - Education\n",
      "Title 38 - Veterans' Benefits ٭\n"
     ]
    }
   ],
   "source": [
    "for e in titles_changed:\n",
    "    print(e.text)"
   ]
  },
  {
   "cell_type": "code",
   "execution_count": 88,
   "metadata": {},
   "outputs": [
    {
     "data": {
      "text/plain": [
       "2"
      ]
     },
     "execution_count": 88,
     "metadata": {},
     "output_type": "execute_result"
    }
   ],
   "source": [
    "num_titles = len(titles_changed)\n",
    "num_titles"
   ]
  },
  {
   "cell_type": "code",
   "execution_count": 89,
   "metadata": {},
   "outputs": [
    {
     "name": "stdout",
     "output_type": "stream",
     "text": [
      "There are 2 titles changed.\n"
     ]
    }
   ],
   "source": [
    "num_titles = len(titles_changed)\n",
    "print(f\"There are {num_titles} titles changed.\")"
   ]
  },
  {
   "cell_type": "markdown",
   "metadata": {},
   "source": [
    "#### A Python list with the top ten FBI's Most Wanted names "
   ]
  },
  {
   "cell_type": "code",
   "execution_count": 35,
   "metadata": {},
   "outputs": [],
   "source": [
    "# This is the url you will scrape in this exercise\n",
    "\n",
    "url = 'https://www.fbi.gov/wanted/topten'"
   ]
  },
  {
   "cell_type": "code",
   "execution_count": 36,
   "metadata": {},
   "outputs": [],
   "source": [
    "driver.get(url)"
   ]
  },
  {
   "cell_type": "code",
   "execution_count": 37,
   "metadata": {},
   "outputs": [
    {
     "data": {
      "text/plain": [
       "[<selenium.webdriver.remote.webelement.WebElement (session=\"4ef56666dec724dab4139ffdd5d9d884\", element=\"F1F66C9427D23746C373A2028AFAC230_element_31\")>,\n",
       " <selenium.webdriver.remote.webelement.WebElement (session=\"4ef56666dec724dab4139ffdd5d9d884\", element=\"F1F66C9427D23746C373A2028AFAC230_element_32\")>,\n",
       " <selenium.webdriver.remote.webelement.WebElement (session=\"4ef56666dec724dab4139ffdd5d9d884\", element=\"F1F66C9427D23746C373A2028AFAC230_element_33\")>,\n",
       " <selenium.webdriver.remote.webelement.WebElement (session=\"4ef56666dec724dab4139ffdd5d9d884\", element=\"F1F66C9427D23746C373A2028AFAC230_element_34\")>,\n",
       " <selenium.webdriver.remote.webelement.WebElement (session=\"4ef56666dec724dab4139ffdd5d9d884\", element=\"F1F66C9427D23746C373A2028AFAC230_element_35\")>,\n",
       " <selenium.webdriver.remote.webelement.WebElement (session=\"4ef56666dec724dab4139ffdd5d9d884\", element=\"F1F66C9427D23746C373A2028AFAC230_element_36\")>,\n",
       " <selenium.webdriver.remote.webelement.WebElement (session=\"4ef56666dec724dab4139ffdd5d9d884\", element=\"F1F66C9427D23746C373A2028AFAC230_element_37\")>,\n",
       " <selenium.webdriver.remote.webelement.WebElement (session=\"4ef56666dec724dab4139ffdd5d9d884\", element=\"F1F66C9427D23746C373A2028AFAC230_element_38\")>,\n",
       " <selenium.webdriver.remote.webelement.WebElement (session=\"4ef56666dec724dab4139ffdd5d9d884\", element=\"F1F66C9427D23746C373A2028AFAC230_element_39\")>,\n",
       " <selenium.webdriver.remote.webelement.WebElement (session=\"4ef56666dec724dab4139ffdd5d9d884\", element=\"F1F66C9427D23746C373A2028AFAC230_element_40\")>]"
      ]
     },
     "execution_count": 37,
     "metadata": {},
     "output_type": "execute_result"
    }
   ],
   "source": [
    "driver.find_elements(By.CSS_SELECTOR, 'h3.title')"
   ]
  },
  {
   "cell_type": "code",
   "execution_count": 38,
   "metadata": {},
   "outputs": [],
   "source": [
    "wanted = [e.text for e in driver.find_elements(By.CSS_SELECTOR, 'h3.title')]"
   ]
  },
  {
   "cell_type": "code",
   "execution_count": 39,
   "metadata": {},
   "outputs": [
    {
     "data": {
      "text/plain": [
       "['ARNOLDO JIMENEZ',\n",
       " 'OMAR ALEXANDER CARDENAS',\n",
       " 'YULAN ADONAY ARCHAGA CARIAS',\n",
       " 'BHADRESHKUMAR CHETANBHAI PATEL',\n",
       " 'DONALD EUGENE FIELDS II',\n",
       " 'RUJA IGNATOVA',\n",
       " 'WILVER VILLEGAS-PALOMINO',\n",
       " 'ALEJANDRO ROSALES CASTILLO',\n",
       " 'ALEXIS FLORES',\n",
       " 'JOSE RODOLFO VILLARREAL-HERNANDEZ']"
      ]
     },
     "execution_count": 39,
     "metadata": {},
     "output_type": "execute_result"
    }
   ],
   "source": [
    "wanted"
   ]
  },
  {
   "cell_type": "code",
   "execution_count": 40,
   "metadata": {},
   "outputs": [
    {
     "data": {
      "text/plain": [
       "[<selenium.webdriver.remote.webelement.WebElement (session=\"4ef56666dec724dab4139ffdd5d9d884\", element=\"F1F66C9427D23746C373A2028AFAC230_element_48\")>,\n",
       " <selenium.webdriver.remote.webelement.WebElement (session=\"4ef56666dec724dab4139ffdd5d9d884\", element=\"F1F66C9427D23746C373A2028AFAC230_element_49\")>,\n",
       " <selenium.webdriver.remote.webelement.WebElement (session=\"4ef56666dec724dab4139ffdd5d9d884\", element=\"F1F66C9427D23746C373A2028AFAC230_element_50\")>,\n",
       " <selenium.webdriver.remote.webelement.WebElement (session=\"4ef56666dec724dab4139ffdd5d9d884\", element=\"F1F66C9427D23746C373A2028AFAC230_element_51\")>,\n",
       " <selenium.webdriver.remote.webelement.WebElement (session=\"4ef56666dec724dab4139ffdd5d9d884\", element=\"F1F66C9427D23746C373A2028AFAC230_element_52\")>,\n",
       " <selenium.webdriver.remote.webelement.WebElement (session=\"4ef56666dec724dab4139ffdd5d9d884\", element=\"F1F66C9427D23746C373A2028AFAC230_element_53\")>,\n",
       " <selenium.webdriver.remote.webelement.WebElement (session=\"4ef56666dec724dab4139ffdd5d9d884\", element=\"F1F66C9427D23746C373A2028AFAC230_element_54\")>,\n",
       " <selenium.webdriver.remote.webelement.WebElement (session=\"4ef56666dec724dab4139ffdd5d9d884\", element=\"F1F66C9427D23746C373A2028AFAC230_element_55\")>,\n",
       " <selenium.webdriver.remote.webelement.WebElement (session=\"4ef56666dec724dab4139ffdd5d9d884\", element=\"F1F66C9427D23746C373A2028AFAC230_element_56\")>,\n",
       " <selenium.webdriver.remote.webelement.WebElement (session=\"4ef56666dec724dab4139ffdd5d9d884\", element=\"F1F66C9427D23746C373A2028AFAC230_element_57\")>]"
      ]
     },
     "execution_count": 40,
     "metadata": {},
     "output_type": "execute_result"
    }
   ],
   "source": [
    "els = driver.find_elements(By.XPATH, '//h3//a')\n",
    "els"
   ]
  },
  {
   "cell_type": "code",
   "execution_count": 41,
   "metadata": {},
   "outputs": [
    {
     "name": "stdout",
     "output_type": "stream",
     "text": [
      "ARNOLDO JIMENEZ\n",
      "OMAR ALEXANDER CARDENAS\n",
      "YULAN ADONAY ARCHAGA CARIAS\n",
      "BHADRESHKUMAR CHETANBHAI PATEL\n",
      "DONALD EUGENE FIELDS II\n",
      "RUJA IGNATOVA\n",
      "WILVER VILLEGAS-PALOMINO\n",
      "ALEJANDRO ROSALES CASTILLO\n",
      "ALEXIS FLORES\n",
      "JOSE RODOLFO VILLARREAL-HERNANDEZ\n"
     ]
    }
   ],
   "source": [
    "for e in els:\n",
    "    print(e.text)"
   ]
  },
  {
   "cell_type": "markdown",
   "metadata": {},
   "source": [
    "- aqui estoy probando a sacar el link de la imagen que acompaña al nombre."
   ]
  },
  {
   "cell_type": "code",
   "execution_count": 42,
   "metadata": {},
   "outputs": [
    {
     "name": "stdout",
     "output_type": "stream",
     "text": [
      "https://www.fbi.gov/wanted/topten/arnoldo-jimenez\n",
      "https://www.fbi.gov/wanted/topten/omar-alexander-cardenas\n",
      "https://www.fbi.gov/wanted/topten/yulan-adonay-archaga-carias\n",
      "https://www.fbi.gov/wanted/topten/bhadreshkumar-chetanbhai-patel\n",
      "https://www.fbi.gov/wanted/topten/donald-eugene-fields-ii\n",
      "https://www.fbi.gov/wanted/topten/ruja-ignatova\n",
      "https://www.fbi.gov/wanted/topten/wilver-villegas-palomino\n",
      "https://www.fbi.gov/wanted/topten/alejandro-castillo\n",
      "https://www.fbi.gov/wanted/topten/alexis-flores\n",
      "https://www.fbi.gov/wanted/topten/jose-rodolfo-villarreal-hernandez\n"
     ]
    }
   ],
   "source": [
    "for e in els:\n",
    "    print(e.get_attribute(\"href\"))\n",
    "    \n",
    "    #get_attribute()"
   ]
  },
  {
   "cell_type": "markdown",
   "metadata": {},
   "source": [
    "####  20 latest earthquakes info (date, time, latitude, longitude and region name) by the EMSC as a pandas dataframe"
   ]
  },
  {
   "cell_type": "code",
   "execution_count": 91,
   "metadata": {},
   "outputs": [],
   "source": [
    "# This is the url you will scrape in this exercise\n",
    "url = 'https://www.emsc-csem.org/Earthquake/'"
   ]
  },
  {
   "cell_type": "code",
   "execution_count": 92,
   "metadata": {},
   "outputs": [],
   "source": [
    "#your code\n",
    "driver.get(url)"
   ]
  },
  {
   "cell_type": "code",
   "execution_count": 93,
   "metadata": {},
   "outputs": [
    {
     "data": {
      "text/plain": [
       "[]"
      ]
     },
     "execution_count": 93,
     "metadata": {},
     "output_type": "execute_result"
    }
   ],
   "source": [
    "driver.find_elements(By.CSS_SELECTOR, 'h3.title')"
   ]
  },
  {
   "cell_type": "markdown",
   "metadata": {},
   "source": [
    "#### Count number of tweets by a given Twitter account."
   ]
  },
  {
   "cell_type": "markdown",
   "metadata": {},
   "source": [
    "You will need to include a ***try/except block*** for account names not found. \n",
    "<br>***Hint:*** the program should count the number of tweets for any provided account"
   ]
  },
  {
   "cell_type": "code",
   "execution_count": 45,
   "metadata": {},
   "outputs": [],
   "source": [
    "# This is the url you will scrape in this exercise \n",
    "# You will need to add the account credentials to this url\n",
    "url = 'https://twitter.com/'"
   ]
  },
  {
   "cell_type": "code",
   "execution_count": 46,
   "metadata": {},
   "outputs": [],
   "source": [
    "#your code"
   ]
  },
  {
   "cell_type": "markdown",
   "metadata": {},
   "source": [
    "#### Number of followers of a given twitter account"
   ]
  },
  {
   "cell_type": "markdown",
   "metadata": {},
   "source": [
    "You will need to include a ***try/except block*** in case account/s name not found. \n",
    "<br>***Hint:*** the program should count the followers for any provided account"
   ]
  },
  {
   "cell_type": "code",
   "execution_count": 47,
   "metadata": {},
   "outputs": [],
   "source": [
    "# This is the url you will scrape in this exercise \n",
    "# You will need to add the account credentials to this url\n",
    "#url = 'https://twitter.com/'"
   ]
  },
  {
   "cell_type": "code",
   "execution_count": 48,
   "metadata": {},
   "outputs": [],
   "source": [
    "#your code"
   ]
  },
  {
   "cell_type": "markdown",
   "metadata": {},
   "source": [
    "#### List all language names and number of related articles in the order they appear in wikipedia.org"
   ]
  },
  {
   "cell_type": "code",
   "execution_count": 125,
   "metadata": {},
   "outputs": [],
   "source": [
    "# This is the url you will scrape in this exercise\n",
    "url = 'https://www.wikipedia.org/'"
   ]
  },
  {
   "cell_type": "code",
   "execution_count": 126,
   "metadata": {},
   "outputs": [],
   "source": [
    "driver.get(url)"
   ]
  },
  {
   "cell_type": "code",
   "execution_count": 127,
   "metadata": {},
   "outputs": [],
   "source": [
    "articles = driver.find_elements(By.XPATH, '//div//a')"
   ]
  },
  {
   "cell_type": "code",
   "execution_count": 128,
   "metadata": {},
   "outputs": [
    {
     "data": {
      "text/plain": [
       "'Español\\n1 892 000+ artículos'"
      ]
     },
     "execution_count": 128,
     "metadata": {},
     "output_type": "execute_result"
    }
   ],
   "source": [
    "articles[0].text"
   ]
  },
  {
   "cell_type": "code",
   "execution_count": 137,
   "metadata": {},
   "outputs": [],
   "source": [
    "art_lst = []\n",
    "\n",
    "articles = driver.find_elements(By.XPATH, '//div//a')\n",
    "\n",
    "for i in range(len(articles)):\n",
    "    art_lst.append(articles[i].text.replace('\\n', '').replace('+', ''))\n",
    "    "
   ]
  },
  {
   "cell_type": "code",
   "execution_count": 138,
   "metadata": {},
   "outputs": [
    {
     "data": {
      "text/plain": [
       "['Español1 892 000 artículos',\n",
       " 'English6 715 000 articles',\n",
       " '日本語1 387 000 記事',\n",
       " 'Русский1 938 000 статей',\n",
       " 'Deutsch2 836 000 Artikel',\n",
       " 'Français2 553 000 articles',\n",
       " 'Italiano1 826 000 voci',\n",
       " '中文1 377 000 条目 / 條目',\n",
       " 'Português1 109 000 artigos',\n",
       " 'العربية1 217 000 مقالة']"
      ]
     },
     "execution_count": 138,
     "metadata": {},
     "output_type": "execute_result"
    }
   ],
   "source": [
    "art_lst[:10]"
   ]
  },
  {
   "cell_type": "markdown",
   "metadata": {},
   "source": [
    "#### A list with the different kind of datasets available in data.gov.uk "
   ]
  },
  {
   "cell_type": "code",
   "execution_count": 147,
   "metadata": {},
   "outputs": [],
   "source": [
    "# This is the url you will scrape in this exercise\n",
    "url = 'https://data.gov.uk/'"
   ]
  },
  {
   "cell_type": "code",
   "execution_count": 148,
   "metadata": {},
   "outputs": [],
   "source": [
    "driver.get(url)"
   ]
  },
  {
   "cell_type": "code",
   "execution_count": 152,
   "metadata": {},
   "outputs": [
    {
     "data": {
      "text/plain": [
       "<selenium.webdriver.remote.webelement.WebElement (session=\"4ef56666dec724dab4139ffdd5d9d884\", element=\"696452A46944BB3A6BAD6B55A3C971FE_element_99\")>"
      ]
     },
     "execution_count": 152,
     "metadata": {},
     "output_type": "execute_result"
    }
   ],
   "source": [
    "data = driver.find_elements(By.XPATH, '//h3//a')\n",
    "data[0]"
   ]
  },
  {
   "cell_type": "code",
   "execution_count": 153,
   "metadata": {},
   "outputs": [
    {
     "data": {
      "text/plain": [
       "'Business and economy'"
      ]
     },
     "execution_count": 153,
     "metadata": {},
     "output_type": "execute_result"
    }
   ],
   "source": [
    "data[0].text"
   ]
  },
  {
   "cell_type": "code",
   "execution_count": 155,
   "metadata": {},
   "outputs": [
    {
     "name": "stdout",
     "output_type": "stream",
     "text": [
      "Business and economy\n",
      "Crime and justice\n",
      "Defence\n",
      "Education\n",
      "Environment\n",
      "Government\n",
      "Government spending\n",
      "Health\n",
      "Mapping\n",
      "Society\n",
      "Towns and cities\n",
      "Transport\n",
      "Digital service performance\n",
      "Government reference data\n"
     ]
    }
   ],
   "source": [
    "for e in data:\n",
    "    print(e.text)"
   ]
  },
  {
   "cell_type": "markdown",
   "metadata": {},
   "source": [
    "#### Top 10 languages by number of native speakers stored in a Pandas Dataframe"
   ]
  },
  {
   "cell_type": "code",
   "execution_count": null,
   "metadata": {},
   "outputs": [],
   "source": [
    "# This is the url you will scrape in this exercise\n",
    "url = 'https://en.wikipedia.org/wiki/List_of_languages_by_number_of_native_speakers'"
   ]
  },
  {
   "cell_type": "code",
   "execution_count": 7,
   "metadata": {},
   "outputs": [],
   "source": [
    "driver.get(url)"
   ]
  },
  {
   "cell_type": "code",
   "execution_count": 8,
   "metadata": {},
   "outputs": [
    {
     "data": {
      "text/plain": [
       "'Mandarin Chinese'"
      ]
     },
     "execution_count": 8,
     "metadata": {},
     "output_type": "execute_result"
    }
   ],
   "source": [
    "language = driver.find_elements(By.XPATH, '//tr//td//a')\n",
    "language[0].text"
   ]
  },
  {
   "cell_type": "code",
   "execution_count": 9,
   "metadata": {},
   "outputs": [
    {
     "name": "stdout",
     "output_type": "stream",
     "text": [
      "Mandarin Chinese\n",
      "Standard Chinese\n",
      "other varieties\n",
      "Sino-Tibetan\n",
      "Sinitic\n",
      "Spanish\n",
      "Indo-European\n",
      "Romance\n",
      "English\n",
      "Indo-European\n",
      "Germanic\n",
      "Hindi\n",
      "Urdu\n",
      "other languages\n",
      "Indo-European\n",
      "Indo-Aryan\n",
      "Portuguese\n",
      "Indo-European\n",
      "Romance\n",
      "Bengali\n",
      "Indo-European\n",
      "Indo-Aryan\n",
      "Russian\n",
      "Indo-European\n",
      "Balto-Slavic\n",
      "Japanese\n",
      "Japonic\n",
      "Japanese\n",
      "Yue Chinese\n",
      "Cantonese\n",
      "Sino-Tibetan\n",
      "Sinitic\n",
      "Vietnamese\n",
      "Austroasiatic\n",
      "Vietic\n",
      "Turkish\n",
      "Turkic\n",
      "Oghuz\n",
      "Wu Chinese\n",
      "Shanghainese\n",
      "Sino-Tibetan\n",
      "Sinitic\n",
      "Marathi\n",
      "Indo-European\n",
      "Indo-Aryan\n",
      "Telugu\n",
      "Dravidian\n",
      "Korean\n",
      "Koreanic\n",
      "French\n",
      "Indo-European\n",
      "Romance\n",
      "Tamil\n",
      "Dravidian\n",
      "Egyptian Spoken Arabic\n",
      "Saʽidi Arabic\n",
      "Afroasiatic\n",
      "Semitic\n",
      "Standard German\n",
      "Indo-European\n",
      "Germanic\n",
      "Urdu\n",
      "Hindi\n",
      "Indo-European\n",
      "Indo-Aryan\n",
      "Javanese\n",
      "Austronesian\n",
      "Malayo-Polynesian\n",
      "Western Punjabi\n",
      "Eastern Punjabi\n",
      "Indo-European\n",
      "Indo-Aryan\n",
      "Italian\n",
      "Indo-European\n",
      "Romance\n",
      "Gujarati\n",
      "Indo-European\n",
      "Indo-Aryan\n",
      "Iranian Persian\n",
      "Dari\n",
      "Tajik\n",
      "Indo-European\n",
      "Iranian\n",
      "Bhojpuri\n",
      "Indo-European\n",
      "Indo-Aryan\n",
      "Hausa\n",
      "Afroasiatic\n",
      "Chadic\n",
      "Mandarin Chinese\n",
      "Spanish\n",
      "English\n",
      "Arabic\n",
      "Hindi\n",
      "Bengali\n",
      "Portuguese\n",
      "Russian\n",
      "Japanese\n",
      "Western Punjabi\n",
      "Javanese\n",
      "\n",
      "\n",
      "\n",
      "\n",
      "\n",
      "\n",
      "\n",
      "\n",
      "\n",
      "\n",
      "\n",
      "\n",
      "\n",
      "\n",
      "\n",
      "\n",
      "\n",
      "\n",
      "\n",
      "\n",
      "\n",
      "\n",
      "\n",
      "\n",
      "\n",
      "\n",
      "\n",
      "\n",
      "\n",
      "\n",
      "\n",
      "\n",
      "\n",
      "\n",
      "\n",
      "\n",
      "\n",
      "\n",
      "\n",
      "\n",
      "\n",
      "\n",
      "\n",
      "\n",
      "\n",
      "\n",
      "\n",
      "\n",
      "\n",
      "\n",
      "\n",
      "\n",
      "\n",
      "\n",
      "\n",
      "\n",
      "\n",
      "\n",
      "\n",
      "\n",
      "\n",
      "\n",
      "\n",
      "\n",
      "\n",
      "\n",
      "\n",
      "\n",
      "\n",
      "\n",
      "\n",
      "\n",
      "\n",
      "\n",
      "\n",
      "\n",
      "\n",
      "\n",
      "\n",
      "\n",
      "\n",
      "\n",
      "\n",
      "\n"
     ]
    }
   ],
   "source": [
    "for e in language:\n",
    "    print(e.text)"
   ]
  },
  {
   "cell_type": "markdown",
   "metadata": {},
   "source": [
    "result = []\n",
    "for e in language:\n",
    "    \n",
    "    tmp = []\n",
    "    \n",
    "    speaker = driver.find_elements(By.XPATH, '//tr//td//td')   # casillas de la fila\n",
    "    \n",
    "    for s in speaker:\n",
    "        \n",
    "        tmp.append(s.text)\n",
    "        \n",
    "        \n",
    "   print(result.append(tmp))"
   ]
  },
  {
   "cell_type": "code",
   "execution_count": null,
   "metadata": {},
   "outputs": [],
   "source": [
    "speaker = driver.find_elements(By.XPATH, '//tr//td//a//td')\n",
    "speaker[0].text"
   ]
  },
  {
   "cell_type": "markdown",
   "metadata": {},
   "source": [
    "    for e in elementos:\n",
    "        \n",
    "        tmp.append(e.text)\n",
    "        \n",
    "        \n",
    "    resultado.append(tmp)\n",
    "    "
   ]
  },
  {
   "cell_type": "code",
   "execution_count": null,
   "metadata": {},
   "outputs": [],
   "source": []
  },
  {
   "cell_type": "code",
   "execution_count": null,
   "metadata": {},
   "outputs": [],
   "source": []
  },
  {
   "cell_type": "markdown",
   "metadata": {},
   "source": [
    "### BONUS QUESTIONS"
   ]
  },
  {
   "cell_type": "markdown",
   "metadata": {},
   "source": [
    "#### Scrape a certain number of tweets of a given Twitter account."
   ]
  },
  {
   "cell_type": "code",
   "execution_count": 55,
   "metadata": {},
   "outputs": [],
   "source": [
    "# This is the url you will scrape in this exercise \n",
    "# You will need to add the account credentials to this url\n",
    "#url = 'https://twitter.com/'"
   ]
  },
  {
   "cell_type": "code",
   "execution_count": 56,
   "metadata": {},
   "outputs": [],
   "source": [
    "# your code"
   ]
  },
  {
   "cell_type": "markdown",
   "metadata": {},
   "source": [
    "#### IMDB's Top 250 data (movie name, Initial release, director name and stars) as a pandas dataframe"
   ]
  },
  {
   "cell_type": "code",
   "execution_count": 57,
   "metadata": {},
   "outputs": [],
   "source": [
    "# This is the url you will scrape in this exercise \n",
    "#url = 'https://www.imdb.com/chart/top'"
   ]
  },
  {
   "cell_type": "code",
   "execution_count": 58,
   "metadata": {},
   "outputs": [],
   "source": [
    "# your code"
   ]
  },
  {
   "cell_type": "markdown",
   "metadata": {},
   "source": [
    "#### Movie name, year and a brief summary of the top 10 random movies (IMDB) as a pandas dataframe."
   ]
  },
  {
   "cell_type": "code",
   "execution_count": 59,
   "metadata": {},
   "outputs": [],
   "source": [
    "#This is the url you will scrape in this exercise\n",
    "#url = 'http://www.imdb.com/chart/top'"
   ]
  },
  {
   "cell_type": "code",
   "execution_count": 60,
   "metadata": {},
   "outputs": [],
   "source": [
    "#your code"
   ]
  },
  {
   "cell_type": "markdown",
   "metadata": {},
   "source": [
    "#### Find the live weather report (temperature, wind speed, description and weather) of a given city."
   ]
  },
  {
   "cell_type": "code",
   "execution_count": 61,
   "metadata": {},
   "outputs": [],
   "source": [
    "#https://openweathermap.org/current\n",
    "#city = city=input('Enter the city:')\n",
    "#url = 'http://api.openweathermap.org/data/2.5/weather?'+'q='+city+'&APPID=b35975e18dc93725acb092f7272cc6b8&units=metric'"
   ]
  },
  {
   "cell_type": "code",
   "execution_count": 62,
   "metadata": {},
   "outputs": [],
   "source": [
    "# your code"
   ]
  },
  {
   "cell_type": "markdown",
   "metadata": {},
   "source": [
    "#### Book name,price and stock availability as a pandas dataframe."
   ]
  },
  {
   "cell_type": "code",
   "execution_count": 63,
   "metadata": {},
   "outputs": [],
   "source": [
    "# This is the url you will scrape in this exercise. \n",
    "# It is a fictional bookstore created to be scraped. \n",
    "#url = 'http://books.toscrape.com/'"
   ]
  },
  {
   "cell_type": "code",
   "execution_count": 64,
   "metadata": {},
   "outputs": [],
   "source": [
    "#your code"
   ]
  }
 ],
 "metadata": {
  "kernelspec": {
   "display_name": "clase",
   "language": "python",
   "name": "clase"
  },
  "language_info": {
   "codemirror_mode": {
    "name": "ipython",
    "version": 3
   },
   "file_extension": ".py",
   "mimetype": "text/x-python",
   "name": "python",
   "nbconvert_exporter": "python",
   "pygments_lexer": "ipython3",
   "version": "3.10.13"
  }
 },
 "nbformat": 4,
 "nbformat_minor": 2
}
