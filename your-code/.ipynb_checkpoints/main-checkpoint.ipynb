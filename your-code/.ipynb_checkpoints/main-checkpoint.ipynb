{
 "cells": [
  {
   "cell_type": "markdown",
   "metadata": {},
   "source": [
    "# Web Scraping Lab\n",
    "\n",
    "You will find in this notebook some scrapy exercises to practise your scraping skills.\n",
    "\n",
    "**Tips:**\n",
    "\n",
    "- Check the response status code for each request to ensure you have obtained the intended contennt.\n",
    "- Print the response text in each request to understand the kind of info you are getting and its format.\n",
    "- Check for patterns in the response text to extract the data/info requested in each question.\n",
    "- Visit each url and take a look at its source through Chrome DevTools. You'll need to identify the html tags, special class names etc. used for the html content you are expected to extract."
   ]
  },
  {
   "cell_type": "markdown",
   "metadata": {},
   "source": [
    "- [Selenium Doc](https://www.selenium.dev/documentation/)\n",
    "- [Requests library](http://docs.python-requests.org/en/master/#the-user-guide) documentation \n",
    "- [Urllib](https://docs.python.org/3/library/urllib.html#module-urllib)\n",
    "- [re lib](https://docs.python.org/3/library/re.html)\n",
    "- [lxml lib](https://lxml.de/)\n",
    "- [Scrapy](https://scrapy.org/)\n",
    "- [List of HTTP status codes](https://en.wikipedia.org/wiki/List_of_HTTP_status_codes)\n",
    "- [HTML basics](http://www.simplehtmlguide.com/cheatsheet.php)\n",
    "- [CSS basics](https://www.cssbasics.com/#page_start)"
   ]
  },
  {
   "cell_type": "markdown",
   "metadata": {},
   "source": [
    "#### Below are the libraries and modules you may need. `Selenium` and `pandas` are imported for you."
   ]
  },
  {
   "cell_type": "code",
   "execution_count": 1,
   "metadata": {},
   "outputs": [],
   "source": [
    "import pandas as pd\n",
    "from selenium.webdriver.chrome.options import Options\n",
    "from webdriver_manager.chrome import ChromeDriverManager"
   ]
  },
  {
   "cell_type": "code",
   "execution_count": 2,
   "metadata": {},
   "outputs": [],
   "source": [
    "from selenium import webdriver"
   ]
  },
  {
   "cell_type": "markdown",
   "metadata": {},
   "source": [
    "#### Enable the options you may need. In the next cell you have an example of them but you can choose to use them or not."
   ]
  },
  {
   "cell_type": "code",
   "execution_count": 3,
   "metadata": {},
   "outputs": [],
   "source": [
    "#driver configuration\n",
    "opciones=Options()\n",
    "\n",
    "opciones.add_experimental_option('excludeSwitches', ['enable-automation'])\n",
    "opciones.add_experimental_option('useAutomationExtension', False)\n",
    "opciones.headless=False    # si True, no aperece la ventana (headless=no visible)\n",
    "opciones.add_argument('--start-maximized')         # comienza maximizado\n",
    "#opciones.add_argument('user-data-dir=selenium')    # mantiene las cookies\n",
    "#opciones.add_extension('driver_folder/adblock.crx')       # adblocker\n",
    "opciones.add_argument('--incognito')"
   ]
  },
  {
   "cell_type": "code",
   "execution_count": 4,
   "metadata": {},
   "outputs": [],
   "source": [
    "PATH = 'drive/chromedriver'\n",
    "driver = webdriver.Chrome()\n",
    "driver.get('https://www.google.es')"
   ]
  },
  {
   "cell_type": "code",
   "execution_count": 5,
   "metadata": {},
   "outputs": [
    {
     "data": {
      "text/plain": [
       "\"\\n#en esta versión de selenium vale sólo con opciones\\n\\ndriver = webdriver.Chrome(opciones)\\ndriver.get('https://www.google.es')\\n\\n\""
      ]
     },
     "execution_count": 5,
     "metadata": {},
     "output_type": "execute_result"
    }
   ],
   "source": [
    "'''\n",
    "#en esta versión de selenium vale sólo con opciones\n",
    "\n",
    "driver = webdriver.Chrome(opciones)\n",
    "driver.get('https://www.google.es')\n",
    "\n",
    "'''"
   ]
  },
  {
   "cell_type": "code",
   "execution_count": 6,
   "metadata": {},
   "outputs": [],
   "source": [
    "from selenium.webdriver.common.by import By"
   ]
  },
  {
   "cell_type": "markdown",
   "metadata": {},
   "source": [
    "#### Download, parse, and print the content from the Trending Developers page from GitHub:"
   ]
  },
  {
   "cell_type": "code",
   "execution_count": 7,
   "metadata": {},
   "outputs": [],
   "source": [
    "# This is the url you will scrape in this exercise\n",
    "\n",
    "driver = webdriver.Chrome(opciones)\n",
    "url = 'https://github.com/trending/developers'\n",
    "driver.get(url)"
   ]
  },
  {
   "cell_type": "code",
   "execution_count": 12,
   "metadata": {
    "scrolled": true
   },
   "outputs": [],
   "source": [
    "#your code\n",
    "\n",
    "#driver.find_elements(By.XPATH,'//h1//a')"
   ]
  },
  {
   "cell_type": "code",
   "execution_count": 9,
   "metadata": {},
   "outputs": [],
   "source": [
    "a = driver.find_elements(By.XPATH,'//div[@class=\"col-sm-8 d-md-flex\"]')"
   ]
  },
  {
   "cell_type": "code",
   "execution_count": 10,
   "metadata": {},
   "outputs": [
    {
     "data": {
      "text/plain": [
       "['JongHak Seo', 'Jonghakseo']"
      ]
     },
     "execution_count": 10,
     "metadata": {},
     "output_type": "execute_result"
    }
   ],
   "source": [
    "a[0].text.split(\"\\n\")[0:2]"
   ]
  },
  {
   "cell_type": "code",
   "execution_count": 11,
   "metadata": {},
   "outputs": [
    {
     "name": "stdout",
     "output_type": "stream",
     "text": [
      "['JongHak Seo', 'Jonghakseo']\n",
      "['Casper', 'casper-hansen']\n",
      "['J. Nick Koston', 'bdraco']\n",
      "['Yudong Jin', 'krahets']\n",
      "['Tim Neutkens', 'timneutkens']\n",
      "['Laurent Mazare', 'LaurentMazare']\n",
      "['oobabooga', 'POPULAR REPO']\n",
      "['Henrik Rydgård', 'hrydgard']\n",
      "['Stan Girard', 'StanGirard']\n",
      "['Vaxry', 'vaxerski']\n",
      "['Nikita Sobolev', 'sobolevn']\n",
      "['Michael Lynch', 'mtlynch']\n",
      "['Junior Garcia', 'jrgarciadev']\n",
      "['dkhamsing', 'POPULAR REPO']\n",
      "['Vaibhav Srivastav', 'Vaibhavs10']\n",
      "['Martin von Zweigbergk', 'martinvonz']\n",
      "['Stephen Celis', 'stephencelis']\n",
      "['Georgios Konstantopoulos', 'gakonst']\n",
      "['Ben V. Brown', 'Ralim']\n",
      "['Guilherme Branco Stracini', 'guibranco']\n",
      "[\"John O'Reilly\", 'joreilly']\n",
      "['Adrienne Walker', 'quisquous']\n",
      "['Ivan Starkov', 'istarkov']\n",
      "['DavHau', 'POPULAR REPO']\n",
      "['Andreas Thomas', 'chronark']\n"
     ]
    }
   ],
   "source": [
    "for e in a:\n",
    "    print(e.text.split(\"\\n\")[:2])"
   ]
  },
  {
   "cell_type": "markdown",
   "metadata": {},
   "source": [
    "#### Display the names of the trending developers retrieved in the previous step.\n",
    "\n",
    "Your output should be a Python list of developer names. Each name should not contain any html tag.\n",
    "\n",
    "**Instructions:**\n",
    "\n",
    "1. Find out the html tag and class names used for the developer names.\n",
    "\n",
    "1. Use string manipulation techniques to replace whitespaces and linebreaks (i.e. `\\n`) in the *text* of each html element. Use a list to store the clean names.\n",
    "\n",
    "1. Print the list of names.\n",
    "\n",
    "Your output should look like below:\n",
    "\n",
    "```\n",
    "['trimstray (@trimstray)',\n",
    " 'joewalnes (JoeWalnes)',\n",
    " 'charlax (Charles-AxelDein)',\n",
    " 'ForrestKnight (ForrestKnight)',\n",
    " 'revery-ui (revery-ui)',\n",
    " 'alibaba (Alibaba)',\n",
    " 'Microsoft (Microsoft)',\n",
    " 'github (GitHub)',\n",
    " 'facebook (Facebook)',\n",
    " 'boazsegev (Bo)',\n",
    " 'google (Google)',\n",
    " 'cloudfetch',\n",
    " 'sindresorhus (SindreSorhus)',\n",
    " 'tensorflow',\n",
    " 'apache (TheApacheSoftwareFoundation)',\n",
    " 'DevonCrawford (DevonCrawford)',\n",
    " 'ARMmbed (ArmMbed)',\n",
    " 'vuejs (vuejs)',\n",
    " 'fastai (fast.ai)',\n",
    " 'QiShaoXuan (Qi)',\n",
    " 'joelparkerhenderson (JoelParkerHenderson)',\n",
    " 'torvalds (LinusTorvalds)',\n",
    " 'CyC2018',\n",
    " 'komeiji-satori (神楽坂覚々)',\n",
    " 'script-8']\n",
    " ```"
   ]
  },
  {
   "cell_type": "markdown",
   "metadata": {},
   "source": [
    "#### Display the trending Python repositories in GitHub\n",
    "\n",
    "The steps to solve this problem is similar to the previous one except that you need to find out the repository names instead of developer names."
   ]
  },
  {
   "cell_type": "code",
   "execution_count": 13,
   "metadata": {},
   "outputs": [],
   "source": [
    "# This is the url you will scrape in this exercise\n",
    "url = 'https://github.com/trending/python?since=daily'"
   ]
  },
  {
   "cell_type": "code",
   "execution_count": 14,
   "metadata": {},
   "outputs": [],
   "source": [
    "#your code\n",
    "\n",
    "driver = webdriver.Chrome(opciones)\n",
    "url = 'https://github.com/trending/python?since=daily'\n",
    "driver.get(url)"
   ]
  },
  {
   "cell_type": "code",
   "execution_count": 15,
   "metadata": {},
   "outputs": [],
   "source": [
    "trending = driver.find_elements(By.XPATH,'//h2[@class=\"h3 lh-condensed\"]')"
   ]
  },
  {
   "cell_type": "code",
   "execution_count": 16,
   "metadata": {},
   "outputs": [
    {
     "name": "stdout",
     "output_type": "stream",
     "text": [
      "deepseek-ai / DeepSeek-Coder\n",
      "jianchang512 / pyvideotrans\n",
      "yt-dlp / yt-dlp\n",
      "google / jax\n",
      "dreamgaussian / dreamgaussian\n",
      "AUTOMATIC1111 / stable-diffusion-webui\n",
      "microsoft / DeepSpeed\n",
      "blakeblackshear / frigate\n",
      "kovidgoyal / calibre\n",
      "graphdeco-inria / gaussian-splatting\n",
      "LorenEteval / Furious\n",
      "Pythagora-io / gpt-pilot\n",
      "jxnl / instructor\n",
      "imoneoi / openchat\n",
      "MorvanZhou / Reinforcement-learning-with-tensorflow\n",
      "yihong0618 / tg_bing_dalle\n",
      "home-assistant / core\n",
      "microsoft / DeepSpeed-MII\n",
      "aladdinpersson / Machine-Learning-Collection\n",
      "kivy / python-for-android\n",
      "microsoft / CodeT\n",
      "521xueweihan / HelloGitHub\n",
      "reactive-python / reactpy\n",
      "oobabooga / text-generation-webui\n",
      "drivendata / cookiecutter-data-science\n"
     ]
    }
   ],
   "source": [
    "for e in trending:\n",
    "    print(e.text)"
   ]
  },
  {
   "cell_type": "code",
   "execution_count": 17,
   "metadata": {},
   "outputs": [
    {
     "data": {
      "text/plain": [
       "25"
      ]
     },
     "execution_count": 17,
     "metadata": {},
     "output_type": "execute_result"
    }
   ],
   "source": [
    "#OTRA FORMA\n",
    "trending2 = driver.find_elements(By.CLASS_NAME,'h3.lh-condensed')\n",
    "len(trending2)"
   ]
  },
  {
   "cell_type": "code",
   "execution_count": 18,
   "metadata": {},
   "outputs": [
    {
     "name": "stdout",
     "output_type": "stream",
     "text": [
      "deepseek-ai / DeepSeek-Coder\n",
      "jianchang512 / pyvideotrans\n",
      "yt-dlp / yt-dlp\n",
      "google / jax\n",
      "dreamgaussian / dreamgaussian\n",
      "AUTOMATIC1111 / stable-diffusion-webui\n",
      "microsoft / DeepSpeed\n",
      "blakeblackshear / frigate\n",
      "kovidgoyal / calibre\n",
      "graphdeco-inria / gaussian-splatting\n",
      "LorenEteval / Furious\n",
      "Pythagora-io / gpt-pilot\n",
      "jxnl / instructor\n",
      "imoneoi / openchat\n",
      "MorvanZhou / Reinforcement-learning-with-tensorflow\n",
      "yihong0618 / tg_bing_dalle\n",
      "home-assistant / core\n",
      "microsoft / DeepSpeed-MII\n",
      "aladdinpersson / Machine-Learning-Collection\n",
      "kivy / python-for-android\n",
      "microsoft / CodeT\n",
      "521xueweihan / HelloGitHub\n",
      "reactive-python / reactpy\n",
      "oobabooga / text-generation-webui\n",
      "drivendata / cookiecutter-data-science\n"
     ]
    }
   ],
   "source": [
    "for e in trending2:\n",
    "    print(e.text)"
   ]
  },
  {
   "cell_type": "markdown",
   "metadata": {},
   "source": [
    "#### Display all the image links from Walt Disney wikipedia page"
   ]
  },
  {
   "cell_type": "code",
   "execution_count": 19,
   "metadata": {},
   "outputs": [],
   "source": [
    "# This is the url you will scrape in this exercise\n",
    "url = 'https://en.wikipedia.org/wiki/Walt_Disney'\n",
    "driver = webdriver.Chrome(opciones)\n",
    "driver.get(url)"
   ]
  },
  {
   "cell_type": "code",
   "execution_count": 21,
   "metadata": {},
   "outputs": [
    {
     "data": {
      "text/plain": [
       "36"
      ]
     },
     "execution_count": 21,
     "metadata": {},
     "output_type": "execute_result"
    }
   ],
   "source": [
    "#your code\n",
    "\n",
    "selenium_pics = driver.find_elements(By.TAG_NAME, \"img\")\n",
    "len(selenium_pics)"
   ]
  },
  {
   "cell_type": "code",
   "execution_count": 22,
   "metadata": {},
   "outputs": [
    {
     "data": {
      "text/plain": [
       "['https://en.wikipedia.org/static/images/icons/wikipedia.png',\n",
       " 'https://en.wikipedia.org/static/images/mobile/copyright/wikipedia-wordmark-en.svg',\n",
       " 'https://en.wikipedia.org/static/images/mobile/copyright/wikipedia-tagline-en.svg',\n",
       " 'https://upload.wikimedia.org/wikipedia/en/thumb/e/e7/Cscr-featured.svg/20px-Cscr-featured.svg.png',\n",
       " 'https://upload.wikimedia.org/wikipedia/en/thumb/8/8c/Extended-protection-shackle.svg/20px-Extended-protection-shackle.svg.png',\n",
       " 'https://upload.wikimedia.org/wikipedia/commons/thumb/d/df/Walt_Disney_1946.JPG/220px-Walt_Disney_1946.JPG',\n",
       " 'https://upload.wikimedia.org/wikipedia/commons/thumb/8/87/Walt_Disney_1942_signature.svg/150px-Walt_Disney_1942_signature.svg.png',\n",
       " 'https://upload.wikimedia.org/wikipedia/commons/thumb/3/3a/Walt_Disney_Birthplace_Exterior_Hermosa_Chicago_Illinois.jpg/220px-Walt_Disney_Birthplace_Exterior_Hermosa_Chicago_Illinois.jpg',\n",
       " 'https://upload.wikimedia.org/wikipedia/commons/thumb/c/c4/Walt_Disney_envelope_ca._1921.jpg/220px-Walt_Disney_envelope_ca._1921.jpg',\n",
       " 'https://upload.wikimedia.org/wikipedia/en/thumb/4/4e/Steamboat-willie.jpg/220px-Steamboat-willie.jpg',\n",
       " 'https://upload.wikimedia.org/wikipedia/commons/thumb/c/cd/Walt_Disney_Snow_white_1937_trailer_screenshot_%2813%29.jpg/220px-Walt_Disney_Snow_white_1937_trailer_screenshot_%2813%29.jpg',\n",
       " 'https://upload.wikimedia.org/wikipedia/commons/thumb/1/15/Disney_drawing_goofy.jpg/170px-Disney_drawing_goofy.jpg',\n",
       " 'https://upload.wikimedia.org/wikipedia/commons/thumb/8/8c/WaltDisneyplansDisneylandDec1954.jpg/220px-WaltDisneyplansDisneylandDec1954.jpg',\n",
       " 'https://upload.wikimedia.org/wikipedia/commons/thumb/f/ff/Walt_disney_portrait_right.jpg/170px-Walt_disney_portrait_right.jpg',\n",
       " 'https://upload.wikimedia.org/wikipedia/commons/thumb/1/1a/Walt_Disney_Grave.JPG/170px-Walt_Disney_Grave.JPG',\n",
       " 'https://upload.wikimedia.org/wikipedia/commons/thumb/1/1b/Nuvola_apps_kaboodle.svg/16px-Nuvola_apps_kaboodle.svg.png',\n",
       " 'https://upload.wikimedia.org/wikipedia/commons/thumb/1/13/DisneySchiphol1951.jpg/220px-DisneySchiphol1951.jpg',\n",
       " 'https://upload.wikimedia.org/wikipedia/commons/thumb/6/6c/Disney1968.jpg/170px-Disney1968.jpg',\n",
       " 'https://upload.wikimedia.org/wikipedia/commons/thumb/b/b0/Disney_Oscar_1953_%28cropped%29.jpg/170px-Disney_Oscar_1953_%28cropped%29.jpg',\n",
       " 'https://upload.wikimedia.org/wikipedia/en/thumb/4/4a/Commons-logo.svg/30px-Commons-logo.svg.png',\n",
       " 'https://upload.wikimedia.org/wikipedia/commons/thumb/4/4c/Wikisource-logo.svg/38px-Wikisource-logo.svg.png',\n",
       " 'https://upload.wikimedia.org/wikipedia/commons/thumb/f/fa/Wikiquote-logo.svg/34px-Wikiquote-logo.svg.png',\n",
       " 'https://upload.wikimedia.org/wikipedia/en/thumb/8/8a/OOjs_UI_icon_edit-ltr-progressive.svg/10px-OOjs_UI_icon_edit-ltr-progressive.svg.png',\n",
       " 'https://upload.wikimedia.org/wikipedia/en/thumb/8/8a/OOjs_UI_icon_edit-ltr-progressive.svg/10px-OOjs_UI_icon_edit-ltr-progressive.svg.png',\n",
       " 'https://upload.wikimedia.org/wikipedia/en/thumb/9/96/Symbol_category_class.svg/16px-Symbol_category_class.svg.png',\n",
       " 'https://upload.wikimedia.org/wikipedia/commons/thumb/e/e3/Disneyland_Resort_logo.svg/135px-Disneyland_Resort_logo.svg.png',\n",
       " 'https://upload.wikimedia.org/wikipedia/commons/thumb/d/da/Animation_disc.svg/20px-Animation_disc.svg.png',\n",
       " 'https://upload.wikimedia.org/wikipedia/en/thumb/6/69/P_vip.svg/19px-P_vip.svg.png',\n",
       " 'https://upload.wikimedia.org/wikipedia/commons/thumb/1/1a/Magic_Kingdom_castle.jpg/15px-Magic_Kingdom_castle.jpg',\n",
       " 'https://upload.wikimedia.org/wikipedia/en/thumb/e/e7/Video-x-generic.svg/19px-Video-x-generic.svg.png',\n",
       " 'https://upload.wikimedia.org/wikipedia/commons/thumb/a/a3/Flag_of_Los_Angeles_County%2C_California.svg/21px-Flag_of_Los_Angeles_County%2C_California.svg.png',\n",
       " 'https://upload.wikimedia.org/wikipedia/commons/thumb/8/8c/Blank_television_set.svg/21px-Blank_television_set.svg.png',\n",
       " 'https://upload.wikimedia.org/wikipedia/en/thumb/a/a4/Flag_of_the_United_States.svg/21px-Flag_of_the_United_States.svg.png',\n",
       " 'https://upload.wikimedia.org/wikipedia/en/thumb/8/8a/OOjs_UI_icon_edit-ltr-progressive.svg/10px-OOjs_UI_icon_edit-ltr-progressive.svg.png',\n",
       " 'https://en.wikipedia.org/static/images/footer/wikimedia-button.png',\n",
       " 'https://en.wikipedia.org/static/images/footer/poweredby_mediawiki_88x31.png']"
      ]
     },
     "execution_count": 22,
     "metadata": {},
     "output_type": "execute_result"
    }
   ],
   "source": [
    "disney_pics =[pic.get_attribute(\"src\") for pic in selenium_pics]\n",
    "disney_pics"
   ]
  },
  {
   "cell_type": "markdown",
   "metadata": {},
   "source": [
    "#### Retrieve an arbitary Wikipedia page of \"Python\" and create a list of links on that page"
   ]
  },
  {
   "cell_type": "code",
   "execution_count": 23,
   "metadata": {},
   "outputs": [],
   "source": [
    "# This is the url you will scrape in this exercise\n",
    "url ='https://en.wikipedia.org/wiki/Python' \n",
    "\n",
    "driver = webdriver.Chrome(opciones)\n",
    "driver.get(url)"
   ]
  },
  {
   "cell_type": "code",
   "execution_count": 24,
   "metadata": {},
   "outputs": [],
   "source": [
    "#your code\n",
    "\n",
    "links = driver.find_elements(By.TAG_NAME, \"a\")\n",
    "#links"
   ]
  },
  {
   "cell_type": "code",
   "execution_count": 26,
   "metadata": {},
   "outputs": [],
   "source": [
    "wikilinks =[pic.get_attribute(\"href\") for pic in links]\n",
    "#wikilinks"
   ]
  },
  {
   "cell_type": "markdown",
   "metadata": {},
   "source": [
    "#### Number of Titles that have changed in the United States Code since its last release point "
   ]
  },
  {
   "cell_type": "code",
   "execution_count": 27,
   "metadata": {},
   "outputs": [],
   "source": [
    "# This is the url you will scrape in this exercise\n",
    "url = 'http://uscode.house.gov/download/download.shtml'\n",
    "\n",
    "driver = webdriver.Chrome(opciones)\n",
    "driver.get(url)"
   ]
  },
  {
   "cell_type": "code",
   "execution_count": 28,
   "metadata": {
    "scrolled": true
   },
   "outputs": [
    {
     "data": {
      "text/plain": [
       "[<selenium.webdriver.remote.webelement.WebElement (session=\"f43fa96acb32a3eafd6afcf6614ff711\", element=\"FD1EB2F06F0AFB8D67138C766AEEB23E_element_2\")>,\n",
       " <selenium.webdriver.remote.webelement.WebElement (session=\"f43fa96acb32a3eafd6afcf6614ff711\", element=\"FD1EB2F06F0AFB8D67138C766AEEB23E_element_3\")>]"
      ]
     },
     "execution_count": 28,
     "metadata": {},
     "output_type": "execute_result"
    }
   ],
   "source": [
    "#your code\n",
    "\n",
    "lista_us = driver.find_elements(By.XPATH,'//div[@class=\"usctitlechanged\"]')\n",
    "lista_us"
   ]
  },
  {
   "cell_type": "code",
   "execution_count": 29,
   "metadata": {},
   "outputs": [
    {
     "data": {
      "text/plain": [
       "'Title 20 - Education'"
      ]
     },
     "execution_count": 29,
     "metadata": {},
     "output_type": "execute_result"
    }
   ],
   "source": [
    "lista_us[0].text"
   ]
  },
  {
   "cell_type": "code",
   "execution_count": 30,
   "metadata": {},
   "outputs": [
    {
     "data": {
      "text/plain": [
       "['Title 20 - Education', \"Title 38 - Veterans' Benefits ٭\"]"
      ]
     },
     "execution_count": 30,
     "metadata": {},
     "output_type": "execute_result"
    }
   ],
   "source": [
    "lista =[element.text for element in lista_us]\n",
    "lista"
   ]
  },
  {
   "cell_type": "markdown",
   "metadata": {},
   "source": [
    "#### A Python list with the top ten FBI's Most Wanted names "
   ]
  },
  {
   "cell_type": "code",
   "execution_count": 31,
   "metadata": {},
   "outputs": [],
   "source": [
    "# This is the url you will scrape in this exercise\n",
    "url = 'https://www.fbi.gov/wanted/topten'\n",
    "driver.get(url)"
   ]
  },
  {
   "cell_type": "code",
   "execution_count": 32,
   "metadata": {},
   "outputs": [],
   "source": [
    "#your code \n",
    "\n",
    "mw = driver.find_element(By.CSS_SELECTOR, '#query-results-0f737222c5054a81a120bce207b0446a').find_elements(By.TAG_NAME, 'a')\n",
    "\n",
    "#cojo la caja grande con find element y con find elements las cajas pequeñas."
   ]
  },
  {
   "cell_type": "code",
   "execution_count": 33,
   "metadata": {},
   "outputs": [
    {
     "name": "stdout",
     "output_type": "stream",
     "text": [
      "\n",
      "ALEXIS FLORES\n",
      "\n",
      "ARNOLDO JIMENEZ\n",
      "\n",
      "OMAR ALEXANDER CARDENAS\n",
      "\n",
      "YULAN ADONAY ARCHAGA CARIAS\n",
      "\n",
      "BHADRESHKUMAR CHETANBHAI PATEL\n",
      "\n",
      "DONALD EUGENE FIELDS II\n",
      "\n",
      "RUJA IGNATOVA\n",
      "\n",
      "WILVER VILLEGAS-PALOMINO\n",
      "\n",
      "ALEJANDRO ROSALES CASTILLO\n",
      "\n",
      "JOSE RODOLFO VILLARREAL-HERNANDEZ\n"
     ]
    }
   ],
   "source": [
    "for criminal in mw:\n",
    "    print (criminal.text)"
   ]
  },
  {
   "cell_type": "markdown",
   "metadata": {},
   "source": [
    "####  20 latest earthquakes info (date, time, latitude, longitude and region name) by the EMSC as a pandas dataframe"
   ]
  },
  {
   "cell_type": "code",
   "execution_count": 35,
   "metadata": {},
   "outputs": [],
   "source": [
    "# This is the url you will scrape in this exercise\n",
    "url = 'https://www.emsc-csem.org/Earthquake/'"
   ]
  },
  {
   "cell_type": "code",
   "execution_count": 36,
   "metadata": {},
   "outputs": [],
   "source": [
    "driver = webdriver.Chrome()\n",
    "driver.get(url)"
   ]
  },
  {
   "cell_type": "code",
   "execution_count": 41,
   "metadata": {},
   "outputs": [
    {
     "data": {
      "text/plain": [
       "'46.389'"
      ]
     },
     "execution_count": 41,
     "metadata": {},
     "output_type": "execute_result"
    }
   ],
   "source": [
    "#your code\n",
    "\n",
    "tabla = driver.find_element(By.XPATH, '/html/body/div[3]/div[6]/table')\n",
    "terremoto = tabla.find_element(By.TAG_NAME, 'tbody')\n",
    "terremoto\n",
    "EMSC = terremoto.find_elements(By.TAG_NAME, 'tr')\n",
    "EMSC\n",
    "EMSC[0].find_elements(By.TAG_NAME, 'td')[4].text"
   ]
  },
  {
   "cell_type": "code",
   "execution_count": 42,
   "metadata": {},
   "outputs": [
    {
     "data": {
      "text/plain": [
       "[['',\n",
       "  '',\n",
       "  '',\n",
       "  '2023-11-07 00:49:53\\n1 min ago',\n",
       "  '46.389',\n",
       "  '13.021',\n",
       "  '4',\n",
       "  '',\n",
       "  '0.7',\n",
       "  'NORTHERN ITALY'],\n",
       " ['',\n",
       "  '',\n",
       "  '',\n",
       "  '2023-11-07 00:44:39\\n7 min ago',\n",
       "  '37.154',\n",
       "  '28.547',\n",
       "  '7',\n",
       "  '',\n",
       "  '2.0',\n",
       "  'WESTERN TURKEY'],\n",
       " ['',\n",
       "  '',\n",
       "  '',\n",
       "  '2023-11-07 00:26:58\\n24 min ago',\n",
       "  '46.346',\n",
       "  '13.543',\n",
       "  '4',\n",
       "  '',\n",
       "  '0.7',\n",
       "  'SLOVENIA'],\n",
       " ['',\n",
       "  '',\n",
       "  '',\n",
       "  '2023-11-07 00:14:04\\n37 min ago',\n",
       "  '18.034',\n",
       "  '-68.291',\n",
       "  '69',\n",
       "  '',\n",
       "  '3.8',\n",
       "  'DOMINICAN REPUBLIC REGION'],\n",
       " ['',\n",
       "  '',\n",
       "  '',\n",
       "  '2023-11-07 00:02:12\\n49 min ago',\n",
       "  '7.286',\n",
       "  '91.656',\n",
       "  '10',\n",
       "  '',\n",
       "  '4.5',\n",
       "  'NICOBAR ISLANDS, INDIA REGION'],\n",
       " ['',\n",
       "  '',\n",
       "  '',\n",
       "  '2023-11-06 23:48:30\\n1 hr 03 min ago',\n",
       "  '28.710',\n",
       "  '74.582',\n",
       "  '10',\n",
       "  '',\n",
       "  '3.9',\n",
       "  'RAJASTHAN, INDIA'],\n",
       " ['',\n",
       "  '',\n",
       "  '',\n",
       "  '2023-11-06 23:46:46\\n1 hr 05 min ago',\n",
       "  '12.980',\n",
       "  '-87.860',\n",
       "  '142',\n",
       "  '',\n",
       "  '3.0',\n",
       "  'OFFSHORE EL SALVADOR'],\n",
       " ['',\n",
       "  '',\n",
       "  '',\n",
       "  '2023-11-06 23:44:13\\n1 hr 07 min ago',\n",
       "  '31.662',\n",
       "  '-104.306',\n",
       "  '6',\n",
       "  '',\n",
       "  '2.9',\n",
       "  'WESTERN TEXAS'],\n",
       " ['',\n",
       "  '',\n",
       "  '',\n",
       "  '2023-11-06 23:36:27\\n1 hr 15 min ago',\n",
       "  '38.870',\n",
       "  '37.378',\n",
       "  '5',\n",
       "  '',\n",
       "  '2.9',\n",
       "  'CENTRAL TURKEY'],\n",
       " ['',\n",
       "  '',\n",
       "  '',\n",
       "  '2023-11-06 23:23:25\\n1 hr 28 min ago',\n",
       "  '46.305',\n",
       "  '13.600',\n",
       "  '6',\n",
       "  '',\n",
       "  '0.9',\n",
       "  'SLOVENIA'],\n",
       " ['',\n",
       "  '',\n",
       "  '',\n",
       "  '2023-11-06 23:21:54\\n1 hr 29 min ago',\n",
       "  '46.307',\n",
       "  '7.338',\n",
       "  '5',\n",
       "  '',\n",
       "  '1.5',\n",
       "  'SWITZERLAND'],\n",
       " ['',\n",
       "  '',\n",
       "  '',\n",
       "  '2023-11-06 23:21:29\\n1 hr 30 min ago',\n",
       "  '34.082',\n",
       "  '-116.984',\n",
       "  '1',\n",
       "  '',\n",
       "  '2.3',\n",
       "  'SOUTHERN CALIFORNIA'],\n",
       " ['',\n",
       "  '',\n",
       "  '',\n",
       "  '2023-11-06 23:15:25\\n1 hr 36 min ago',\n",
       "  '57.505',\n",
       "  '-154.232',\n",
       "  '28',\n",
       "  '',\n",
       "  '4.0',\n",
       "  'KODIAK ISLAND REGION, ALASKA'],\n",
       " ['',\n",
       "  '',\n",
       "  '',\n",
       "  '2023-11-06 23:12:04\\n1 hr 39 min ago',\n",
       "  '-20.810',\n",
       "  '-69.210',\n",
       "  '98',\n",
       "  '',\n",
       "  '3.0',\n",
       "  'TARAPACA, CHILE'],\n",
       " ['',\n",
       "  '',\n",
       "  '',\n",
       "  '2023-11-06 23:02:57\\n1 hr 48 min ago',\n",
       "  '46.305',\n",
       "  '13.600',\n",
       "  '8',\n",
       "  '',\n",
       "  '0.9',\n",
       "  'SLOVENIA'],\n",
       " ['',\n",
       "  '',\n",
       "  '',\n",
       "  '2023-11-06 23:01:15\\n1 hr 50 min ago',\n",
       "  '38.685',\n",
       "  '35.285',\n",
       "  '5',\n",
       "  '',\n",
       "  '2.4',\n",
       "  'CENTRAL TURKEY'],\n",
       " ['',\n",
       "  '',\n",
       "  '',\n",
       "  '2023-11-06 22:56:23\\n1 hr 55 min ago',\n",
       "  '-2.390',\n",
       "  '101.870',\n",
       "  '126',\n",
       "  '',\n",
       "  '3.1',\n",
       "  'SOUTHERN SUMATRA, INDONESIA'],\n",
       " ['',\n",
       "  '',\n",
       "  '',\n",
       "  '2023-11-06 22:52:29\\n1 hr 59 min ago',\n",
       "  '-30.530',\n",
       "  '-71.610',\n",
       "  '46',\n",
       "  '',\n",
       "  '2.8',\n",
       "  'COQUIMBO, CHILE'],\n",
       " ['',\n",
       "  '',\n",
       "  '',\n",
       "  '2023-11-06 22:20:46\\n2 hr 31 min ago',\n",
       "  '35.954',\n",
       "  '-4.603',\n",
       "  '76',\n",
       "  '',\n",
       "  '2.9',\n",
       "  'STRAIT OF GIBRALTAR'],\n",
       " ['',\n",
       "  '',\n",
       "  '',\n",
       "  '2023-11-06 22:17:20\\n2 hr 34 min ago',\n",
       "  '-24.150',\n",
       "  '-67.130',\n",
       "  '179',\n",
       "  '',\n",
       "  '3.3',\n",
       "  'SALTA, ARGENTINA'],\n",
       " ['',\n",
       "  '',\n",
       "  '',\n",
       "  '2023-11-06 22:05:12\\n2 hr 46 min ago',\n",
       "  '-1.750',\n",
       "  '120.580',\n",
       "  '10',\n",
       "  '',\n",
       "  '2.8',\n",
       "  'SULAWESI, INDONESIA'],\n",
       " ['',\n",
       "  '',\n",
       "  '',\n",
       "  '2023-11-06 22:01:27\\n2 hr 50 min ago',\n",
       "  '19.263',\n",
       "  '-155.433',\n",
       "  '36',\n",
       "  '',\n",
       "  '2.5',\n",
       "  'ISLAND OF HAWAII, HAWAII'],\n",
       " ['',\n",
       "  '',\n",
       "  '',\n",
       "  '2023-11-06 21:44:43\\n3 hr 07 min ago',\n",
       "  '46.226',\n",
       "  '13.483',\n",
       "  '10',\n",
       "  '',\n",
       "  '0.9',\n",
       "  'NORTHERN ITALY'],\n",
       " ['',\n",
       "  '',\n",
       "  '',\n",
       "  '2023-11-06 21:40:35\\n3 hr 11 min ago',\n",
       "  '-0.530',\n",
       "  '121.890',\n",
       "  '10',\n",
       "  '',\n",
       "  '2.5',\n",
       "  'SULAWESI, INDONESIA'],\n",
       " ['',\n",
       "  '',\n",
       "  '',\n",
       "  '2023-11-06 21:39:25\\n3 hr 12 min ago',\n",
       "  '-38.150',\n",
       "  '-73.930',\n",
       "  '5',\n",
       "  '',\n",
       "  '2.7',\n",
       "  'OFFSHORE BIO-BIO, CHILE'],\n",
       " ['',\n",
       "  '',\n",
       "  '',\n",
       "  '2023-11-06 21:30:59\\n3 hr 20 min ago',\n",
       "  '-7.482',\n",
       "  '156.112',\n",
       "  '26',\n",
       "  '',\n",
       "  '5.3',\n",
       "  'SOLOMON ISLANDS'],\n",
       " ['',\n",
       "  '',\n",
       "  '',\n",
       "  '2023-11-06 21:31:03\\n3 hr 20 min ago',\n",
       "  '40.382',\n",
       "  '-124.330',\n",
       "  '25',\n",
       "  '',\n",
       "  '2.5',\n",
       "  'NORTHERN CALIFORNIA'],\n",
       " ['',\n",
       "  '',\n",
       "  '',\n",
       "  '2023-11-06 21:27:56\\n3 hr 23 min ago',\n",
       "  '-20.490',\n",
       "  '-69.240',\n",
       "  '108',\n",
       "  '',\n",
       "  '2.6',\n",
       "  'TARAPACA, CHILE'],\n",
       " ['',\n",
       "  '',\n",
       "  '',\n",
       "  '2023-11-06 21:22:27\\n3 hr 29 min ago',\n",
       "  '35.022',\n",
       "  '26.339',\n",
       "  '26',\n",
       "  '',\n",
       "  '3.0',\n",
       "  'CRETE, GREECE'],\n",
       " ['',\n",
       "  '',\n",
       "  '',\n",
       "  '2023-11-06 21:18:30\\n3 hr 33 min ago',\n",
       "  '-31.830',\n",
       "  '-69.000',\n",
       "  '115',\n",
       "  '',\n",
       "  '3.1',\n",
       "  'SAN JUAN, ARGENTINA'],\n",
       " ['',\n",
       "  '',\n",
       "  '',\n",
       "  '2023-11-06 21:12:52\\n3 hr 38 min ago',\n",
       "  '5.280',\n",
       "  '94.245',\n",
       "  '30',\n",
       "  '',\n",
       "  '4.7',\n",
       "  'NORTHERN SUMATRA, INDONESIA'],\n",
       " ['',\n",
       "  '',\n",
       "  '',\n",
       "  '2023-11-06 21:05:38\\n3 hr 46 min ago',\n",
       "  '19.006',\n",
       "  '-69.043',\n",
       "  '30',\n",
       "  '',\n",
       "  '3.0',\n",
       "  'DOMINICAN REPUBLIC REGION'],\n",
       " ['',\n",
       "  '',\n",
       "  '',\n",
       "  '2023-11-06 21:01:44\\n3 hr 50 min ago',\n",
       "  '31.650',\n",
       "  '-104.296',\n",
       "  '6',\n",
       "  '',\n",
       "  '2.8',\n",
       "  'WESTERN TEXAS'],\n",
       " ['',\n",
       "  '',\n",
       "  '',\n",
       "  '2023-11-06 21:00:19\\n3 hr 51 min ago',\n",
       "  '31.646',\n",
       "  '-104.311',\n",
       "  '4',\n",
       "  '',\n",
       "  '2.6',\n",
       "  'WESTERN TEXAS'],\n",
       " ['',\n",
       "  '',\n",
       "  '',\n",
       "  '2023-11-06 20:59:27\\n3 hr 52 min ago',\n",
       "  '-7.820',\n",
       "  '118.770',\n",
       "  '24',\n",
       "  '',\n",
       "  '3.6',\n",
       "  'FLORES SEA'],\n",
       " ['',\n",
       "  '',\n",
       "  '',\n",
       "  '2023-11-06 20:54:20\\n3 hr 57 min ago',\n",
       "  '-3.660',\n",
       "  '128.190',\n",
       "  '18',\n",
       "  '',\n",
       "  '2.7',\n",
       "  'SERAM, INDONESIA'],\n",
       " ['',\n",
       "  '',\n",
       "  '',\n",
       "  '2023-11-06 20:50:52\\n4 hr 00 min ago',\n",
       "  '13.458',\n",
       "  '120.882',\n",
       "  '167',\n",
       "  '',\n",
       "  '4.9',\n",
       "  'MINDORO, PHILIPPINES'],\n",
       " ['',\n",
       "  '',\n",
       "  '',\n",
       "  '2023-11-06 20:35:30\\n4 hr 16 min ago',\n",
       "  '37.300',\n",
       "  '141.500',\n",
       "  '50',\n",
       "  '',\n",
       "  '3.5',\n",
       "  'NEAR EAST COAST OF HONSHU, JAPAN'],\n",
       " ['',\n",
       "  '',\n",
       "  '',\n",
       "  '2023-11-06 20:34:07\\n4 hr 17 min ago',\n",
       "  '46.615',\n",
       "  '8.363',\n",
       "  '8',\n",
       "  '',\n",
       "  '1.0',\n",
       "  'SWITZERLAND'],\n",
       " ['',\n",
       "  '',\n",
       "  '',\n",
       "  '2023-11-06 20:27:34\\n4 hr 24 min ago',\n",
       "  '-1.370',\n",
       "  '119.470',\n",
       "  '10',\n",
       "  '',\n",
       "  '2.8',\n",
       "  'SULAWESI, INDONESIA'],\n",
       " ['',\n",
       "  '3',\n",
       "  '',\n",
       "  '2023-11-06 20:18:29\\n4 hr 33 min ago',\n",
       "  '43.036',\n",
       "  '-0.040',\n",
       "  '9',\n",
       "  '',\n",
       "  '2.6',\n",
       "  'PYRENEES'],\n",
       " ['',\n",
       "  '',\n",
       "  '',\n",
       "  '2023-11-06 20:17:54\\n4 hr 33 min ago',\n",
       "  '-53.880',\n",
       "  '-71.470',\n",
       "  '38',\n",
       "  '',\n",
       "  '2.5',\n",
       "  'MAGALLANES, CHILE'],\n",
       " ['',\n",
       "  '',\n",
       "  '',\n",
       "  '2023-11-06 20:14:57\\n4 hr 36 min ago',\n",
       "  '12.660',\n",
       "  '125.450',\n",
       "  '30',\n",
       "  '',\n",
       "  '3.1',\n",
       "  'SAMAR, PHILIPPINES'],\n",
       " ['',\n",
       "  '',\n",
       "  '',\n",
       "  '2023-11-06 20:13:16\\n4 hr 38 min ago',\n",
       "  '36.185',\n",
       "  '-117.977',\n",
       "  '4',\n",
       "  '',\n",
       "  '2.8',\n",
       "  'CENTRAL CALIFORNIA'],\n",
       " ['',\n",
       "  '',\n",
       "  '',\n",
       "  '2023-11-06 20:10:03\\n4 hr 41 min ago',\n",
       "  '28.289',\n",
       "  '-16.786',\n",
       "  '36',\n",
       "  '',\n",
       "  '1.9',\n",
       "  'CANARY ISLANDS, SPAIN REGION'],\n",
       " ['',\n",
       "  '',\n",
       "  '',\n",
       "  '2023-11-06 20:02:43\\n4 hr 49 min ago',\n",
       "  '38.939',\n",
       "  '17.122',\n",
       "  '30',\n",
       "  '',\n",
       "  '2.6',\n",
       "  'SOUTHERN ITALY'],\n",
       " ['',\n",
       "  '',\n",
       "  '',\n",
       "  '2023-11-06 20:00:54\\n4 hr 50 min ago',\n",
       "  '-1.510',\n",
       "  '123.580',\n",
       "  '11',\n",
       "  '',\n",
       "  '2.5',\n",
       "  'SULAWESI, INDONESIA'],\n",
       " ['',\n",
       "  '',\n",
       "  '',\n",
       "  '2023-11-06 19:58:59\\n4 hr 52 min ago',\n",
       "  '28.442',\n",
       "  '-16.840',\n",
       "  '11',\n",
       "  '',\n",
       "  '1.7',\n",
       "  'CANARY ISLANDS, SPAIN REGION'],\n",
       " ['',\n",
       "  '',\n",
       "  '',\n",
       "  '2023-11-06 19:35:54\\n5 hr 15 min ago',\n",
       "  '41.501',\n",
       "  '-5.948',\n",
       "  '1',\n",
       "  '',\n",
       "  '2.5',\n",
       "  'SPAIN'],\n",
       " ['',\n",
       "  '',\n",
       "  '',\n",
       "  '2023-11-06 19:31:59\\n5 hr 19 min ago',\n",
       "  '38.823',\n",
       "  '-122.808',\n",
       "  '1',\n",
       "  '',\n",
       "  '2.1',\n",
       "  'NORTHERN CALIFORNIA'],\n",
       " ['',\n",
       "  '',\n",
       "  '',\n",
       "  '2023-11-06 19:27:55\\n5 hr 23 min ago',\n",
       "  '-10.040',\n",
       "  '123.710',\n",
       "  '12',\n",
       "  '',\n",
       "  '2.6',\n",
       "  'TIMOR REGION, INDONESIA'],\n",
       " ['',\n",
       "  '',\n",
       "  '',\n",
       "  '2023-11-06 19:17:05\\n5 hr 34 min ago',\n",
       "  '0.350',\n",
       "  '122.180',\n",
       "  '138',\n",
       "  '',\n",
       "  '2.6',\n",
       "  'MINAHASA, SULAWESI, INDONESIA'],\n",
       " ['',\n",
       "  '',\n",
       "  '',\n",
       "  '2023-11-06 19:11:01\\n5 hr 40 min ago',\n",
       "  '38.928',\n",
       "  '17.161',\n",
       "  '10',\n",
       "  '',\n",
       "  '2.4',\n",
       "  'SOUTHERN ITALY'],\n",
       " ['',\n",
       "  '',\n",
       "  '',\n",
       "  '2023-11-06 19:09:32\\n5 hr 42 min ago',\n",
       "  '38.783',\n",
       "  '17.097',\n",
       "  '36',\n",
       "  '',\n",
       "  '2.1',\n",
       "  'SOUTHERN ITALY'],\n",
       " ['',\n",
       "  '',\n",
       "  '',\n",
       "  '2023-11-06 19:06:29\\n5 hr 45 min ago',\n",
       "  '-2.990',\n",
       "  '137.740',\n",
       "  '87',\n",
       "  '',\n",
       "  '4.0',\n",
       "  'PAPUA, INDONESIA'],\n",
       " ['',\n",
       "  '',\n",
       "  '',\n",
       "  '2023-11-06 19:00:11\\n5 hr 51 min ago',\n",
       "  '10.638',\n",
       "  '-62.311',\n",
       "  '10',\n",
       "  '',\n",
       "  '4.5',\n",
       "  'SUCRE, VENEZUELA'],\n",
       " ['',\n",
       "  '',\n",
       "  '',\n",
       "  '2023-11-06 18:59:51\\n5 hr 51 min ago',\n",
       "  '38.750',\n",
       "  '23.520',\n",
       "  '5',\n",
       "  '',\n",
       "  '2.2',\n",
       "  'GREECE'],\n",
       " ['',\n",
       "  '',\n",
       "  '',\n",
       "  '2023-11-06 18:55:38\\n5 hr 56 min ago',\n",
       "  '19.216',\n",
       "  '-155.373',\n",
       "  '33',\n",
       "  '',\n",
       "  '3.9',\n",
       "  'ISLAND OF HAWAII, HAWAII'],\n",
       " ['',\n",
       "  '',\n",
       "  '',\n",
       "  '2023-11-06 18:55:37\\n5 hr 56 min ago',\n",
       "  '37.055',\n",
       "  '-121.129',\n",
       "  '-0',\n",
       "  '',\n",
       "  '2.4',\n",
       "  'CENTRAL CALIFORNIA'],\n",
       " ['',\n",
       "  '',\n",
       "  '',\n",
       "  '2023-11-06 18:51:33\\n6 hr 00 min ago',\n",
       "  '38.102',\n",
       "  '37.494',\n",
       "  '6',\n",
       "  '',\n",
       "  '2.2',\n",
       "  'CENTRAL TURKEY'],\n",
       " ['',\n",
       "  '',\n",
       "  '',\n",
       "  '2023-11-06 18:50:46\\n6 hr 01 min ago',\n",
       "  '-4.280',\n",
       "  '137.000',\n",
       "  '11',\n",
       "  '',\n",
       "  '4.0',\n",
       "  'PAPUA, INDONESIA'],\n",
       " ['',\n",
       "  '',\n",
       "  '',\n",
       "  '2023-11-06 18:42:20\\n6 hr 09 min ago',\n",
       "  '-4.480',\n",
       "  '139.240',\n",
       "  '17',\n",
       "  '',\n",
       "  '3.6',\n",
       "  'PAPUA, INDONESIA'],\n",
       " ['',\n",
       "  '',\n",
       "  '',\n",
       "  '2023-11-06 18:41:12\\n6 hr 10 min ago',\n",
       "  '3.930',\n",
       "  '125.620',\n",
       "  '109',\n",
       "  '',\n",
       "  '2.9',\n",
       "  'KEPULAUAN SANGIHE, INDONESIA'],\n",
       " ['',\n",
       "  '',\n",
       "  '',\n",
       "  '2023-11-06 18:40:24\\n6 hr 11 min ago',\n",
       "  '63.940',\n",
       "  '-21.370',\n",
       "  '7',\n",
       "  '',\n",
       "  '3.5',\n",
       "  'ICELAND REGION'],\n",
       " ['',\n",
       "  '',\n",
       "  '',\n",
       "  '2023-11-06 18:38:51\\n6 hr 12 min ago',\n",
       "  '5.940',\n",
       "  '126.160',\n",
       "  '105',\n",
       "  '',\n",
       "  '3.5',\n",
       "  'MINDANAO, PHILIPPINES'],\n",
       " ['',\n",
       "  '',\n",
       "  '',\n",
       "  '2023-11-06 18:37:42\\n6 hr 14 min ago',\n",
       "  '46.304',\n",
       "  '7.338',\n",
       "  '4',\n",
       "  '',\n",
       "  '0.9',\n",
       "  'SWITZERLAND'],\n",
       " ['',\n",
       "  '',\n",
       "  '',\n",
       "  '2023-11-06 18:37:17\\n6 hr 14 min ago',\n",
       "  '12.680',\n",
       "  '-88.140',\n",
       "  '25',\n",
       "  '',\n",
       "  '2.8',\n",
       "  'OFFSHORE EL SALVADOR'],\n",
       " ['',\n",
       "  '',\n",
       "  '',\n",
       "  '2023-11-06 18:33:20\\n6 hr 18 min ago',\n",
       "  '36.720',\n",
       "  '22.670',\n",
       "  '5',\n",
       "  '',\n",
       "  '2.3',\n",
       "  'SOUTHERN GREECE'],\n",
       " ['',\n",
       "  '',\n",
       "  '',\n",
       "  '2023-11-06 18:19:58\\n6 hr 31 min ago',\n",
       "  '-21.860',\n",
       "  '-68.610',\n",
       "  '108',\n",
       "  '',\n",
       "  '2.8',\n",
       "  'ANTOFAGASTA, CHILE'],\n",
       " ['',\n",
       "  '',\n",
       "  '',\n",
       "  '2023-11-06 18:00:29\\n6 hr 51 min ago',\n",
       "  '12.000',\n",
       "  '-86.150',\n",
       "  '20',\n",
       "  '',\n",
       "  '2.5',\n",
       "  'NICARAGUA'],\n",
       " ['',\n",
       "  '',\n",
       "  '',\n",
       "  '2023-11-06 17:56:48\\n6 hr 55 min ago',\n",
       "  '41.513',\n",
       "  '-112.871',\n",
       "  '11',\n",
       "  '',\n",
       "  '2.2',\n",
       "  'UTAH'],\n",
       " ['',\n",
       "  '',\n",
       "  '',\n",
       "  '2023-11-06 17:32:38\\n7 hr 19 min ago',\n",
       "  '38.139',\n",
       "  '38.407',\n",
       "  '1',\n",
       "  '',\n",
       "  '2.2',\n",
       "  'EASTERN TURKEY'],\n",
       " ['',\n",
       "  '',\n",
       "  '',\n",
       "  '2023-11-06 17:27:18\\n7 hr 24 min ago',\n",
       "  '27.550',\n",
       "  '56.250',\n",
       "  '8',\n",
       "  '',\n",
       "  '3.3',\n",
       "  'SOUTHERN IRAN'],\n",
       " ['',\n",
       "  '',\n",
       "  '',\n",
       "  '2023-11-06 17:24:17\\n7 hr 27 min ago',\n",
       "  '41.937',\n",
       "  '-2.037',\n",
       "  '0',\n",
       "  '',\n",
       "  '1.9',\n",
       "  'SPAIN'],\n",
       " ['',\n",
       "  '',\n",
       "  '',\n",
       "  '2023-11-06 17:18:51\\n7 hr 32 min ago',\n",
       "  '28.219',\n",
       "  '-16.884',\n",
       "  '31',\n",
       "  '',\n",
       "  '1.7',\n",
       "  'CANARY ISLANDS, SPAIN REGION'],\n",
       " ['',\n",
       "  '',\n",
       "  '',\n",
       "  '2023-11-06 17:12:44\\n7 hr 39 min ago',\n",
       "  '-22.130',\n",
       "  '-67.690',\n",
       "  '217',\n",
       "  '',\n",
       "  '2.7',\n",
       "  'POTOSI, BOLIVIA'],\n",
       " ['',\n",
       "  '',\n",
       "  '',\n",
       "  '2023-11-06 17:09:29\\n7 hr 42 min ago',\n",
       "  '17.630',\n",
       "  '120.620',\n",
       "  '15',\n",
       "  '',\n",
       "  '3.1',\n",
       "  'LUZON, PHILIPPINES'],\n",
       " ['',\n",
       "  '',\n",
       "  '',\n",
       "  '2023-11-06 17:06:30\\n7 hr 45 min ago',\n",
       "  '-31.400',\n",
       "  '-67.930',\n",
       "  '10',\n",
       "  '',\n",
       "  '3.1',\n",
       "  'SAN JUAN, ARGENTINA'],\n",
       " ['',\n",
       "  '',\n",
       "  '',\n",
       "  '2023-11-06 17:04:16\\n7 hr 47 min ago',\n",
       "  '38.020',\n",
       "  '22.060',\n",
       "  '5',\n",
       "  '',\n",
       "  '2.2',\n",
       "  'GREECE'],\n",
       " ['',\n",
       "  '',\n",
       "  '',\n",
       "  '2023-11-06 16:55:31\\n7 hr 56 min ago',\n",
       "  '54.956',\n",
       "  '-161.298',\n",
       "  '67',\n",
       "  '',\n",
       "  '2.7',\n",
       "  'ALASKA PENINSULA'],\n",
       " ['',\n",
       "  '',\n",
       "  '',\n",
       "  '2023-11-06 16:46:34\\n8 hr 05 min ago',\n",
       "  '28.239',\n",
       "  '-16.826',\n",
       "  '34',\n",
       "  '',\n",
       "  '1.8',\n",
       "  'CANARY ISLANDS, SPAIN REGION'],\n",
       " ['',\n",
       "  '',\n",
       "  '',\n",
       "  '2023-11-06 16:35:04\\n8 hr 16 min ago',\n",
       "  '-27.820',\n",
       "  '-70.990',\n",
       "  '29',\n",
       "  '',\n",
       "  '3.0',\n",
       "  'ATACAMA, CHILE'],\n",
       " ['',\n",
       "  '',\n",
       "  '',\n",
       "  '2023-11-06 16:27:23\\n8 hr 24 min ago',\n",
       "  '42.340',\n",
       "  '48.020',\n",
       "  '5',\n",
       "  '',\n",
       "  '3.5',\n",
       "  'CASPIAN SEA'],\n",
       " ['',\n",
       "  '',\n",
       "  '',\n",
       "  '2023-11-06 16:26:02\\n8 hr 25 min ago',\n",
       "  '-2.410',\n",
       "  '140.510',\n",
       "  '10',\n",
       "  '',\n",
       "  '2.5',\n",
       "  'NEAR N COAST OF PAPUA, INDONESIA'],\n",
       " ['',\n",
       "  '',\n",
       "  '',\n",
       "  '2023-11-06 16:23:10\\n8 hr 28 min ago',\n",
       "  '63.526',\n",
       "  '-147.416',\n",
       "  '2',\n",
       "  '',\n",
       "  '3.2',\n",
       "  'CENTRAL ALASKA'],\n",
       " ['',\n",
       "  '',\n",
       "  '',\n",
       "  '2023-11-06 16:18:30\\n8 hr 33 min ago',\n",
       "  '-31.260',\n",
       "  '-68.590',\n",
       "  '91',\n",
       "  '',\n",
       "  '3.0',\n",
       "  'SAN JUAN, ARGENTINA'],\n",
       " ['',\n",
       "  '',\n",
       "  '',\n",
       "  '2023-11-06 16:05:33\\n8 hr 46 min ago',\n",
       "  '-21.050',\n",
       "  '-69.570',\n",
       "  '55',\n",
       "  '',\n",
       "  '3.2',\n",
       "  'TARAPACA, CHILE'],\n",
       " ['',\n",
       "  '',\n",
       "  '',\n",
       "  '2023-11-06 16:05:25\\n8 hr 46 min ago',\n",
       "  '-34.340',\n",
       "  '-70.430',\n",
       "  '120',\n",
       "  '',\n",
       "  '2.5',\n",
       "  \"LIBERTADOR O'HIGGINS, CHILE\"],\n",
       " ['',\n",
       "  '',\n",
       "  '',\n",
       "  '2023-11-06 15:59:57\\n8 hr 51 min ago',\n",
       "  '-8.780',\n",
       "  '110.370',\n",
       "  '10',\n",
       "  '',\n",
       "  '2.8',\n",
       "  'JAVA, INDONESIA'],\n",
       " ['',\n",
       "  '',\n",
       "  '',\n",
       "  '2023-11-06 15:56:10\\n8 hr 55 min ago',\n",
       "  '17.924',\n",
       "  '-66.288',\n",
       "  '8',\n",
       "  '',\n",
       "  '2.3',\n",
       "  'PUERTO RICO REGION'],\n",
       " ['',\n",
       "  '',\n",
       "  '',\n",
       "  '2023-11-06 15:54:07\\n8 hr 57 min ago',\n",
       "  '-18.380',\n",
       "  '-69.560',\n",
       "  '133',\n",
       "  '',\n",
       "  '3.0',\n",
       "  'TARAPACA, CHILE'],\n",
       " ['',\n",
       "  '',\n",
       "  '',\n",
       "  '2023-11-06 15:53:02\\n8 hr 58 min ago',\n",
       "  '17.939',\n",
       "  '-66.263',\n",
       "  '18',\n",
       "  '',\n",
       "  '2.4',\n",
       "  'PUERTO RICO REGION'],\n",
       " ['',\n",
       "  '',\n",
       "  '',\n",
       "  '2023-11-06 15:52:19\\n8 hr 59 min ago',\n",
       "  '0.760',\n",
       "  '126.430',\n",
       "  '14',\n",
       "  '',\n",
       "  '2.7',\n",
       "  'MOLUCCA SEA'],\n",
       " ['',\n",
       "  '',\n",
       "  '',\n",
       "  '2023-11-06 15:51:57\\n8 hr 59 min ago',\n",
       "  '38.888',\n",
       "  '-118.598',\n",
       "  '0',\n",
       "  '',\n",
       "  '2.2',\n",
       "  'NEVADA'],\n",
       " ['',\n",
       "  '',\n",
       "  '',\n",
       "  '2023-11-06 15:51:37\\n9 hr 00 min ago',\n",
       "  '38.220',\n",
       "  '36.340',\n",
       "  '1',\n",
       "  '',\n",
       "  '2.0',\n",
       "  'CENTRAL TURKEY'],\n",
       " ['',\n",
       "  '',\n",
       "  '',\n",
       "  '2023-11-06 15:50:21\\n9 hr 01 min ago',\n",
       "  '19.521',\n",
       "  '-156.548',\n",
       "  '10',\n",
       "  '',\n",
       "  '2.9',\n",
       "  'HAWAII REGION, HAWAII'],\n",
       " ['',\n",
       "  '',\n",
       "  '',\n",
       "  '2023-11-06 15:46:34\\n9 hr 05 min ago',\n",
       "  '17.921',\n",
       "  '-66.284',\n",
       "  '8',\n",
       "  '',\n",
       "  '2.5',\n",
       "  'PUERTO RICO REGION'],\n",
       " ['',\n",
       "  '1',\n",
       "  '',\n",
       "  '2023-11-06 15:36:42\\n9 hr 15 min ago',\n",
       "  '-7.554',\n",
       "  '127.747',\n",
       "  '148',\n",
       "  '',\n",
       "  '5.2',\n",
       "  'KEPULAUAN BARAT DAYA, INDONESIA'],\n",
       " ['',\n",
       "  '',\n",
       "  '',\n",
       "  '2023-11-06 15:18:31\\n9 hr 33 min ago',\n",
       "  '17.915',\n",
       "  '-66.285',\n",
       "  '13',\n",
       "  '',\n",
       "  '2.1',\n",
       "  'PUERTO RICO REGION'],\n",
       " ['',\n",
       "  '',\n",
       "  '',\n",
       "  '2023-11-06 15:15:23\\n9 hr 36 min ago',\n",
       "  '-33.060',\n",
       "  '-71.910',\n",
       "  '40',\n",
       "  '',\n",
       "  '2.8',\n",
       "  'OFFSHORE VALPARAISO, CHILE']]"
      ]
     },
     "execution_count": 42,
     "metadata": {},
     "output_type": "execute_result"
    }
   ],
   "source": [
    "matriz = []\n",
    "for f in EMSC:\n",
    "    tmp = []\n",
    "    elems = f.find_elements(By.TAG_NAME, 'td')\n",
    "    for e in elems:\n",
    "        tmp.append(e.text)\n",
    "    matriz.append(tmp)\n",
    "matriz"
   ]
  },
  {
   "cell_type": "code",
   "execution_count": 43,
   "metadata": {},
   "outputs": [
    {
     "data": {
      "text/plain": [
       "10"
      ]
     },
     "execution_count": 43,
     "metadata": {},
     "output_type": "execute_result"
    }
   ],
   "source": [
    "len(matriz[0])"
   ]
  },
  {
   "cell_type": "code",
   "execution_count": 44,
   "metadata": {},
   "outputs": [
    {
     "data": {
      "text/plain": [
       "8"
      ]
     },
     "execution_count": 44,
     "metadata": {},
     "output_type": "execute_result"
    }
   ],
   "source": [
    "cabecera = tabla.find_element(By.TAG_NAME, 'thead')\n",
    "len(cabecera.find_elements(By.TAG_NAME, 'th'))"
   ]
  },
  {
   "cell_type": "code",
   "execution_count": 45,
   "metadata": {},
   "outputs": [
    {
     "data": {
      "text/plain": [
       "['',\n",
       " 'Citizen\\nresponse',\n",
       " 'Date & Time\\nUTC',\n",
       " 'Lat.\\ndegrees',\n",
       " 'Lon.\\ndegrees',\n",
       " 'Depth\\nkm',\n",
       " 'Mag.[+]',\n",
       " 'Region']"
      ]
     },
     "execution_count": 45,
     "metadata": {},
     "output_type": "execute_result"
    }
   ],
   "source": [
    "[e.text for e in cabecera.find_elements(By.TAG_NAME, 'th')]"
   ]
  },
  {
   "cell_type": "code",
   "execution_count": 46,
   "metadata": {},
   "outputs": [],
   "source": [
    "columnas = [i for i in range(10)]\n",
    "df = pd.DataFrame(matriz, columns=columnas)\n",
    "df = df[[3, 4, 5, 6, 8, 9]]"
   ]
  },
  {
   "cell_type": "code",
   "execution_count": 47,
   "metadata": {},
   "outputs": [
    {
     "data": {
      "text/plain": [
       "8"
      ]
     },
     "execution_count": 47,
     "metadata": {},
     "output_type": "execute_result"
    }
   ],
   "source": [
    "n_cols = [e.text for e in cabecera.find_elements(By.TAG_NAME, 'th')]\n",
    "len(n_cols)"
   ]
  },
  {
   "cell_type": "code",
   "execution_count": 48,
   "metadata": {},
   "outputs": [
    {
     "data": {
      "text/plain": [
       "['Date & Time\\nUTC',\n",
       " 'Lat.\\ndegrees',\n",
       " 'Lon.\\ndegrees',\n",
       " 'Depth\\nkm',\n",
       " 'Mag.[+]',\n",
       " 'Region']"
      ]
     },
     "execution_count": 48,
     "metadata": {},
     "output_type": "execute_result"
    }
   ],
   "source": [
    "n_cols[2:]"
   ]
  },
  {
   "cell_type": "code",
   "execution_count": 49,
   "metadata": {},
   "outputs": [
    {
     "data": {
      "text/html": [
       "<div>\n",
       "<style scoped>\n",
       "    .dataframe tbody tr th:only-of-type {\n",
       "        vertical-align: middle;\n",
       "    }\n",
       "\n",
       "    .dataframe tbody tr th {\n",
       "        vertical-align: top;\n",
       "    }\n",
       "\n",
       "    .dataframe thead th {\n",
       "        text-align: right;\n",
       "    }\n",
       "</style>\n",
       "<table border=\"1\" class=\"dataframe\">\n",
       "  <thead>\n",
       "    <tr style=\"text-align: right;\">\n",
       "      <th></th>\n",
       "      <th>Date &amp; Time\\nUTC</th>\n",
       "      <th>Lat.\\ndegrees</th>\n",
       "      <th>Lon.\\ndegrees</th>\n",
       "      <th>Depth\\nkm</th>\n",
       "      <th>Mag.[+]</th>\n",
       "      <th>Region</th>\n",
       "    </tr>\n",
       "  </thead>\n",
       "  <tbody>\n",
       "    <tr>\n",
       "      <th>0</th>\n",
       "      <td>2023-11-07 00:49:53\\n1 min ago</td>\n",
       "      <td>46.389</td>\n",
       "      <td>13.021</td>\n",
       "      <td>4</td>\n",
       "      <td>0.7</td>\n",
       "      <td>NORTHERN ITALY</td>\n",
       "    </tr>\n",
       "    <tr>\n",
       "      <th>1</th>\n",
       "      <td>2023-11-07 00:44:39\\n7 min ago</td>\n",
       "      <td>37.154</td>\n",
       "      <td>28.547</td>\n",
       "      <td>7</td>\n",
       "      <td>2.0</td>\n",
       "      <td>WESTERN TURKEY</td>\n",
       "    </tr>\n",
       "    <tr>\n",
       "      <th>2</th>\n",
       "      <td>2023-11-07 00:26:58\\n24 min ago</td>\n",
       "      <td>46.346</td>\n",
       "      <td>13.543</td>\n",
       "      <td>4</td>\n",
       "      <td>0.7</td>\n",
       "      <td>SLOVENIA</td>\n",
       "    </tr>\n",
       "    <tr>\n",
       "      <th>3</th>\n",
       "      <td>2023-11-07 00:14:04\\n37 min ago</td>\n",
       "      <td>18.034</td>\n",
       "      <td>-68.291</td>\n",
       "      <td>69</td>\n",
       "      <td>3.8</td>\n",
       "      <td>DOMINICAN REPUBLIC REGION</td>\n",
       "    </tr>\n",
       "    <tr>\n",
       "      <th>4</th>\n",
       "      <td>2023-11-07 00:02:12\\n49 min ago</td>\n",
       "      <td>7.286</td>\n",
       "      <td>91.656</td>\n",
       "      <td>10</td>\n",
       "      <td>4.5</td>\n",
       "      <td>NICOBAR ISLANDS, INDIA REGION</td>\n",
       "    </tr>\n",
       "  </tbody>\n",
       "</table>\n",
       "</div>"
      ],
      "text/plain": [
       "                  Date & Time\\nUTC Lat.\\ndegrees Lon.\\ndegrees Depth\\nkm  \\\n",
       "0   2023-11-07 00:49:53\\n1 min ago        46.389        13.021         4   \n",
       "1   2023-11-07 00:44:39\\n7 min ago        37.154        28.547         7   \n",
       "2  2023-11-07 00:26:58\\n24 min ago        46.346        13.543         4   \n",
       "3  2023-11-07 00:14:04\\n37 min ago        18.034       -68.291        69   \n",
       "4  2023-11-07 00:02:12\\n49 min ago         7.286        91.656        10   \n",
       "\n",
       "  Mag.[+]                         Region  \n",
       "0     0.7                 NORTHERN ITALY  \n",
       "1     2.0                 WESTERN TURKEY  \n",
       "2     0.7                       SLOVENIA  \n",
       "3     3.8      DOMINICAN REPUBLIC REGION  \n",
       "4     4.5  NICOBAR ISLANDS, INDIA REGION  "
      ]
     },
     "execution_count": 49,
     "metadata": {},
     "output_type": "execute_result"
    }
   ],
   "source": [
    "df.columns = n_cols[2:]\n",
    "df.head()"
   ]
  },
  {
   "cell_type": "markdown",
   "metadata": {},
   "source": [
    "#### Count number of tweets by a given Twitter account."
   ]
  },
  {
   "cell_type": "markdown",
   "metadata": {},
   "source": [
    "You will need to include a ***try/except block*** for account names not found. \n",
    "<br>***Hint:*** the program should count the number of tweets for any provided account"
   ]
  },
  {
   "cell_type": "code",
   "execution_count": 50,
   "metadata": {},
   "outputs": [],
   "source": [
    "# This is the url you will scrape in this exercise \n",
    "# You will need to add the account credentials to this url\n",
    "url = 'https://twitter.com/elonmusk'\n",
    "\n",
    "driver = webdriver.Chrome(opciones)\n",
    "driver.get(url)"
   ]
  },
  {
   "cell_type": "code",
   "execution_count": 51,
   "metadata": {},
   "outputs": [
    {
     "data": {
      "text/plain": [
       "'33 mil posts'"
      ]
     },
     "execution_count": 51,
     "metadata": {},
     "output_type": "execute_result"
    }
   ],
   "source": [
    "#your code\n",
    "\n",
    "tweets = driver.find_element(By.XPATH,'//*[@id=\"react-root\"]/div/div/div[2]/main/div/div/div/div[1]/div/div[1]/div[1]/div/div/div/div/div/div[2]/div/div')\n",
    "tweets.text"
   ]
  },
  {
   "cell_type": "markdown",
   "metadata": {},
   "source": [
    "#### Number of followers of a given twitter account"
   ]
  },
  {
   "cell_type": "markdown",
   "metadata": {},
   "source": [
    "You will need to include a ***try/except block*** in case account/s name not found. \n",
    "<br>***Hint:*** the program should count the followers for any provided account"
   ]
  },
  {
   "cell_type": "code",
   "execution_count": 56,
   "metadata": {},
   "outputs": [],
   "source": [
    "# This is the url you will scrape in this exercise \n",
    "# You will need to add the account credentials to this url\n",
    "url = 'https://twitter.com/elonmusk'\n",
    "driver = webdriver.Chrome(opciones)\n",
    "driver.get(url)"
   ]
  },
  {
   "cell_type": "code",
   "execution_count": 58,
   "metadata": {},
   "outputs": [
    {
     "data": {
      "text/plain": [
       "'162,4 M Seguidores'"
      ]
     },
     "execution_count": 58,
     "metadata": {},
     "output_type": "execute_result"
    }
   ],
   "source": [
    "#your code\n",
    "\n",
    "followers = driver.find_element(By.XPATH, '//*[@id=\"react-root\"]/div/div/div[2]/main/div/div/div/div[1]/div/div[3]/div/div/div/div/div[4]/div[2]/a')\n",
    "followers.text"
   ]
  },
  {
   "cell_type": "markdown",
   "metadata": {},
   "source": [
    "#### List all language names and number of related articles in the order they appear in wikipedia.org"
   ]
  },
  {
   "cell_type": "code",
   "execution_count": 59,
   "metadata": {},
   "outputs": [],
   "source": [
    "# This is the url you will scrape in this exercise\n",
    "url = 'https://www.wikipedia.org/'"
   ]
  },
  {
   "cell_type": "code",
   "execution_count": 60,
   "metadata": {},
   "outputs": [],
   "source": [
    "driver = webdriver.Chrome(opciones)\n",
    "driver.get(url)"
   ]
  },
  {
   "cell_type": "code",
   "execution_count": 61,
   "metadata": {},
   "outputs": [],
   "source": [
    "#your code\n",
    "\n",
    "wikilan = driver.find_element(By.CSS_SELECTOR, \"#www-wikipedia-org > div.central-featured\").find_elements(By.TAG_NAME, 'a')"
   ]
  },
  {
   "cell_type": "code",
   "execution_count": 62,
   "metadata": {},
   "outputs": [
    {
     "data": {
      "text/plain": [
       "'Español 904 000+ artículos'"
      ]
     },
     "execution_count": 62,
     "metadata": {},
     "output_type": "execute_result"
    }
   ],
   "source": [
    "wikilan[0].text.replace(\"\\n1 \", \" \")"
   ]
  },
  {
   "cell_type": "code",
   "execution_count": 63,
   "metadata": {
    "scrolled": true
   },
   "outputs": [
    {
     "data": {
      "text/plain": [
       "['Español 904 000+ artículos',\n",
       " 'English\\n6 740 000+ articles',\n",
       " 'Русский 946 000+ статей',\n",
       " '日本語 392 000+ 記事',\n",
       " 'Deutsch\\n2 850 000+ Artikel',\n",
       " 'Français\\n2 566 000+ articles',\n",
       " 'Italiano 834 000+ voci',\n",
       " 'العربية 221 000+ مقالة',\n",
       " 'Português 112 000+ artigos',\n",
       " 'فارسی\\n980 000+ مقاله']"
      ]
     },
     "execution_count": 63,
     "metadata": {},
     "output_type": "execute_result"
    }
   ],
   "source": [
    "lst_lan =[]\n",
    "\n",
    "for lan in range(len(wikilan)):\n",
    "    x = wikilan[lan].text.replace(\"\\n1 \", \" \")\n",
    "    lst_lan.append(x)\n",
    "\n",
    "lst_lan"
   ]
  },
  {
   "cell_type": "code",
   "execution_count": 64,
   "metadata": {},
   "outputs": [
    {
     "data": {
      "text/plain": [
       "['Español 904 000+ artículos',\n",
       " 'English\\n6 740 000+ articles',\n",
       " 'Русский 946 000+ статей',\n",
       " '日本語 392 000+ 記事',\n",
       " 'Deutsch\\n2 850 000+ Artikel',\n",
       " 'Français\\n2 566 000+ articles',\n",
       " 'Italiano 834 000+ voci',\n",
       " 'العربية 221 000+ مقالة',\n",
       " 'Português 112 000+ artigos',\n",
       " 'فارسی\\n980 000+ مقاله']"
      ]
     },
     "execution_count": 64,
     "metadata": {},
     "output_type": "execute_result"
    }
   ],
   "source": [
    "#one liner\n",
    "lst_lan2 = [lan.text.replace(\"\\n1 \", \" \") for lan in wikilan]\n",
    "lst_lan2"
   ]
  },
  {
   "cell_type": "markdown",
   "metadata": {},
   "source": [
    "#### A list with the different kind of datasets available in data.gov.uk "
   ]
  },
  {
   "cell_type": "code",
   "execution_count": 65,
   "metadata": {},
   "outputs": [],
   "source": [
    "# This is the url you will scrape in this exercise\n",
    "url = 'https://data.gov.uk/'"
   ]
  },
  {
   "cell_type": "code",
   "execution_count": 66,
   "metadata": {},
   "outputs": [],
   "source": [
    "#your code \n",
    "\n",
    "driver = webdriver.Chrome(opciones)\n",
    "driver.get(url)"
   ]
  },
  {
   "cell_type": "code",
   "execution_count": 67,
   "metadata": {},
   "outputs": [
    {
     "data": {
      "text/plain": [
       "[<selenium.webdriver.remote.webelement.WebElement (session=\"f8bab6c780feadc5e684547b356bf3fd\", element=\"9BB0DCC1537B2859119C3DE12B88A64F_element_16\")>,\n",
       " <selenium.webdriver.remote.webelement.WebElement (session=\"f8bab6c780feadc5e684547b356bf3fd\", element=\"9BB0DCC1537B2859119C3DE12B88A64F_element_17\")>,\n",
       " <selenium.webdriver.remote.webelement.WebElement (session=\"f8bab6c780feadc5e684547b356bf3fd\", element=\"9BB0DCC1537B2859119C3DE12B88A64F_element_18\")>,\n",
       " <selenium.webdriver.remote.webelement.WebElement (session=\"f8bab6c780feadc5e684547b356bf3fd\", element=\"9BB0DCC1537B2859119C3DE12B88A64F_element_19\")>,\n",
       " <selenium.webdriver.remote.webelement.WebElement (session=\"f8bab6c780feadc5e684547b356bf3fd\", element=\"9BB0DCC1537B2859119C3DE12B88A64F_element_20\")>,\n",
       " <selenium.webdriver.remote.webelement.WebElement (session=\"f8bab6c780feadc5e684547b356bf3fd\", element=\"9BB0DCC1537B2859119C3DE12B88A64F_element_21\")>,\n",
       " <selenium.webdriver.remote.webelement.WebElement (session=\"f8bab6c780feadc5e684547b356bf3fd\", element=\"9BB0DCC1537B2859119C3DE12B88A64F_element_22\")>,\n",
       " <selenium.webdriver.remote.webelement.WebElement (session=\"f8bab6c780feadc5e684547b356bf3fd\", element=\"9BB0DCC1537B2859119C3DE12B88A64F_element_23\")>,\n",
       " <selenium.webdriver.remote.webelement.WebElement (session=\"f8bab6c780feadc5e684547b356bf3fd\", element=\"9BB0DCC1537B2859119C3DE12B88A64F_element_24\")>,\n",
       " <selenium.webdriver.remote.webelement.WebElement (session=\"f8bab6c780feadc5e684547b356bf3fd\", element=\"9BB0DCC1537B2859119C3DE12B88A64F_element_25\")>,\n",
       " <selenium.webdriver.remote.webelement.WebElement (session=\"f8bab6c780feadc5e684547b356bf3fd\", element=\"9BB0DCC1537B2859119C3DE12B88A64F_element_26\")>,\n",
       " <selenium.webdriver.remote.webelement.WebElement (session=\"f8bab6c780feadc5e684547b356bf3fd\", element=\"9BB0DCC1537B2859119C3DE12B88A64F_element_27\")>,\n",
       " <selenium.webdriver.remote.webelement.WebElement (session=\"f8bab6c780feadc5e684547b356bf3fd\", element=\"9BB0DCC1537B2859119C3DE12B88A64F_element_28\")>,\n",
       " <selenium.webdriver.remote.webelement.WebElement (session=\"f8bab6c780feadc5e684547b356bf3fd\", element=\"9BB0DCC1537B2859119C3DE12B88A64F_element_29\")>]"
      ]
     },
     "execution_count": 67,
     "metadata": {},
     "output_type": "execute_result"
    }
   ],
   "source": [
    "table = driver.find_elements(By.XPATH, '//h3')\n",
    "table"
   ]
  },
  {
   "cell_type": "code",
   "execution_count": 68,
   "metadata": {},
   "outputs": [
    {
     "data": {
      "text/plain": [
       "'Business and economy'"
      ]
     },
     "execution_count": 68,
     "metadata": {},
     "output_type": "execute_result"
    }
   ],
   "source": [
    "table[0].text"
   ]
  },
  {
   "cell_type": "code",
   "execution_count": 69,
   "metadata": {},
   "outputs": [
    {
     "data": {
      "text/plain": [
       "['Business and economy',\n",
       " 'Crime and justice',\n",
       " 'Defence',\n",
       " 'Education',\n",
       " 'Environment',\n",
       " 'Government',\n",
       " 'Government spending',\n",
       " 'Health',\n",
       " 'Mapping',\n",
       " 'Society',\n",
       " 'Towns and cities',\n",
       " 'Transport',\n",
       " 'Digital service performance',\n",
       " 'Government reference data']"
      ]
     },
     "execution_count": 69,
     "metadata": {},
     "output_type": "execute_result"
    }
   ],
   "source": [
    "lst = [e.text for e in table]\n",
    "lst"
   ]
  },
  {
   "cell_type": "markdown",
   "metadata": {},
   "source": [
    "#### Top 10 languages by number of native speakers stored in a Pandas Dataframe"
   ]
  },
  {
   "cell_type": "code",
   "execution_count": 70,
   "metadata": {},
   "outputs": [],
   "source": [
    "# This is the url you will scrape in this exercise\n",
    "url = 'https://en.wikipedia.org/wiki/List_of_languages_by_number_of_native_speakers'"
   ]
  },
  {
   "cell_type": "code",
   "execution_count": 71,
   "metadata": {},
   "outputs": [],
   "source": [
    "driver = webdriver.Chrome(opciones)\n",
    "driver.get(url)"
   ]
  },
  {
   "cell_type": "code",
   "execution_count": 72,
   "metadata": {},
   "outputs": [
    {
     "data": {
      "text/plain": [
       "'Language Native speakers\\n(millions) Language family Branch'"
      ]
     },
     "execution_count": 72,
     "metadata": {},
     "output_type": "execute_result"
    }
   ],
   "source": [
    "#your code\n",
    "\n",
    "encabezado = driver.find_elements(By.TAG_NAME, \"thead\")[0].text\n",
    "encabezado"
   ]
  },
  {
   "cell_type": "markdown",
   "metadata": {},
   "source": [
    "### BONUS QUESTIONS"
   ]
  },
  {
   "cell_type": "markdown",
   "metadata": {},
   "source": [
    "#### Scrape a certain number of tweets of a given Twitter account."
   ]
  },
  {
   "cell_type": "code",
   "execution_count": null,
   "metadata": {},
   "outputs": [],
   "source": [
    "# This is the url you will scrape in this exercise \n",
    "# You will need to add the account credentials to this url\n",
    "url = 'https://twitter.com/'"
   ]
  },
  {
   "cell_type": "code",
   "execution_count": null,
   "metadata": {},
   "outputs": [],
   "source": [
    "# your code"
   ]
  },
  {
   "cell_type": "markdown",
   "metadata": {},
   "source": [
    "#### IMDB's Top 250 data (movie name, Initial release, director name and stars) as a pandas dataframe"
   ]
  },
  {
   "cell_type": "code",
   "execution_count": null,
   "metadata": {},
   "outputs": [],
   "source": [
    "# This is the url you will scrape in this exercise \n",
    "url = 'https://www.imdb.com/chart/top'"
   ]
  },
  {
   "cell_type": "code",
   "execution_count": null,
   "metadata": {},
   "outputs": [],
   "source": [
    "# your code"
   ]
  },
  {
   "cell_type": "markdown",
   "metadata": {},
   "source": [
    "#### Movie name, year and a brief summary of the top 10 random movies (IMDB) as a pandas dataframe."
   ]
  },
  {
   "cell_type": "code",
   "execution_count": null,
   "metadata": {},
   "outputs": [],
   "source": [
    "#This is the url you will scrape in this exercise\n",
    "url = 'http://www.imdb.com/chart/top'"
   ]
  },
  {
   "cell_type": "code",
   "execution_count": null,
   "metadata": {},
   "outputs": [],
   "source": [
    "#your code"
   ]
  },
  {
   "cell_type": "markdown",
   "metadata": {},
   "source": [
    "#### Find the live weather report (temperature, wind speed, description and weather) of a given city."
   ]
  },
  {
   "cell_type": "code",
   "execution_count": null,
   "metadata": {},
   "outputs": [],
   "source": [
    "#https://openweathermap.org/current\n",
    "city = city=input('Enter the city:')\n",
    "url = 'http://api.openweathermap.org/data/2.5/weather?'+'q='+city+'&APPID=b35975e18dc93725acb092f7272cc6b8&units=metric'"
   ]
  },
  {
   "cell_type": "code",
   "execution_count": null,
   "metadata": {},
   "outputs": [],
   "source": [
    "# your code"
   ]
  },
  {
   "cell_type": "markdown",
   "metadata": {},
   "source": [
    "#### Book name,price and stock availability as a pandas dataframe."
   ]
  },
  {
   "cell_type": "code",
   "execution_count": null,
   "metadata": {},
   "outputs": [],
   "source": [
    "# This is the url you will scrape in this exercise. \n",
    "# It is a fictional bookstore created to be scraped. \n",
    "url = 'http://books.toscrape.com/'"
   ]
  },
  {
   "cell_type": "code",
   "execution_count": null,
   "metadata": {},
   "outputs": [],
   "source": [
    "#your code"
   ]
  }
 ],
 "metadata": {
  "kernelspec": {
   "display_name": "Python 3 (ipykernel)",
   "language": "python",
   "name": "python3"
  },
  "language_info": {
   "codemirror_mode": {
    "name": "ipython",
    "version": 3
   },
   "file_extension": ".py",
   "mimetype": "text/x-python",
   "name": "python",
   "nbconvert_exporter": "python",
   "pygments_lexer": "ipython3",
   "version": "3.11.4"
  }
 },
 "nbformat": 4,
 "nbformat_minor": 2
}
