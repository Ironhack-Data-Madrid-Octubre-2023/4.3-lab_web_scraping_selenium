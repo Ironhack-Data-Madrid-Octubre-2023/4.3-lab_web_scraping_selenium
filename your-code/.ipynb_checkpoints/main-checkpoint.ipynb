{
 "cells": [
  {
   "cell_type": "markdown",
   "metadata": {},
   "source": [
    "# Web Scraping Lab\n",
    "\n",
    "You will find in this notebook some scrapy exercises to practise your scraping skills.\n",
    "\n",
    "**Tips:**\n",
    "\n",
    "- Check the response status code for each request to ensure you have obtained the intended contennt.\n",
    "- Print the response text in each request to understand the kind of info you are getting and its format.\n",
    "- Check for patterns in the response text to extract the data/info requested in each question.\n",
    "- Visit each url and take a look at its source through Chrome DevTools. You'll need to identify the html tags, special class names etc. used for the html content you are expected to extract."
   ]
  },
  {
   "cell_type": "markdown",
   "metadata": {},
   "source": [
    "- [Selenium Doc](https://www.selenium.dev/documentation/)\n",
    "- [Requests library](http://docs.python-requests.org/en/master/#the-user-guide) documentation \n",
    "- [Urllib](https://docs.python.org/3/library/urllib.html#module-urllib)\n",
    "- [re lib](https://docs.python.org/3/library/re.html)\n",
    "- [lxml lib](https://lxml.de/)\n",
    "- [Scrapy](https://scrapy.org/)\n",
    "- [List of HTTP status codes](https://en.wikipedia.org/wiki/List_of_HTTP_status_codes)\n",
    "- [HTML basics](http://www.simplehtmlguide.com/cheatsheet.php)\n",
    "- [CSS basics](https://www.cssbasics.com/#page_start)"
   ]
  },
  {
   "cell_type": "markdown",
   "metadata": {},
   "source": [
    "#### Below are the libraries and modules you may need. `Selenium` and `pandas` are imported for you."
   ]
  },
  {
   "cell_type": "code",
   "execution_count": 1,
   "metadata": {},
   "outputs": [],
   "source": [
    "import pandas as pd\n",
    "from selenium.webdriver.chrome.options import Options\n",
    "from webdriver_manager.chrome import ChromeDriverManager"
   ]
  },
  {
   "cell_type": "code",
   "execution_count": 2,
   "metadata": {},
   "outputs": [],
   "source": [
    "from selenium import webdriver # driver de selenium\n",
    "\n",
    "import time   # para manejar tiempo\n",
    "\n",
    "import pandas as pd"
   ]
  },
  {
   "cell_type": "code",
   "execution_count": 3,
   "metadata": {},
   "outputs": [],
   "source": [
    "from selenium.webdriver.chrome.options import Options   # opciones del driver\n",
    "\n",
    "from selenium.webdriver.common.by import By   # para buscar segun tag, id, class, etc...\n",
    "\n",
    "from selenium.webdriver.support.ui import WebDriverWait   # es para esperar\n",
    "\n",
    "from selenium.webdriver.support import expected_conditions as EC  # condiciones esperadas...\n",
    "\n",
    "from selenium.webdriver import ActionChains as AC   # acciones encadenadas, rollo doble click\n",
    "\n",
    "from selenium.webdriver.common.keys import Keys  # manejar teclas"
   ]
  },
  {
   "cell_type": "markdown",
   "metadata": {},
   "source": [
    "#### Enable the options you may need. In the next cell you have an example of them but you can choose to use them or not."
   ]
  },
  {
   "cell_type": "code",
   "execution_count": 4,
   "metadata": {},
   "outputs": [],
   "source": [
    "#driver configuration\n",
    "opciones=Options()\n",
    "\n",
    "opciones.add_experimental_option('excludeSwitches', ['enable-automation'])\n",
    "opciones.add_experimental_option('useAutomationExtension', False)\n",
    "opciones.headless=False    # si True, no aperece la ventana (headless=no visible)\n",
    "opciones.add_argument('--start-maximized')         # comienza maximizado\n",
    "#opciones.add_argument('user-data-dir=selenium')    # mantiene las cookies\n",
    "#opciones.add_extension('driver_folder/adblock.crx')       # adblocker\n",
    "opciones.add_argument('--incognito')"
   ]
  },
  {
   "cell_type": "code",
   "execution_count": 5,
   "metadata": {},
   "outputs": [],
   "source": [
    "PATH = 'driver/chromedriver'\n",
    "\n",
    "driver = webdriver.Chrome()   # abre una ventana de chrome \n",
    "                            # una vez que he abierto una ventana, puedo trabajar siempre sobre esta misma.\n",
    "\n",
    "driver.get('https://www.google.es')"
   ]
  },
  {
   "cell_type": "markdown",
   "metadata": {},
   "source": [
    "#### Download, parse, and print the content from the Trending Developers page from GitHub:"
   ]
  },
  {
   "cell_type": "code",
   "execution_count": 6,
   "metadata": {},
   "outputs": [],
   "source": [
    "# This is the url you will scrape in this exercise\n",
    "url = 'https://github.com/trending/developers'"
   ]
  },
  {
   "cell_type": "code",
   "execution_count": 7,
   "metadata": {},
   "outputs": [],
   "source": [
    "driver.get(url)\n",
    "\n",
    "#no me hace falta volver a abrir la ventana de Chrome ya que ya tengo una abierta. SOLO llamar a la url nueva."
   ]
  },
  {
   "cell_type": "markdown",
   "metadata": {},
   "source": [
    "#### Display the names of the trending developers retrieved in the previous step.\n",
    "\n",
    "Your output should be a Python list of developer names. Each name should not contain any html tag.\n",
    "\n",
    "**Instructions:**\n",
    "\n",
    "1. Find out the html tag and class names used for the developer names.\n",
    "\n",
    "1. Use string manipulation techniques to replace whitespaces and linebreaks (i.e. `\\n`) in the *text* of each html element. Use a list to store the clean names.\n",
    "\n",
    "1. Print the list of names.\n",
    "\n",
    "Your output should look like below:\n",
    "\n",
    "```\n",
    "['trimstray (@trimstray)',\n",
    " 'joewalnes (JoeWalnes)',\n",
    " 'charlax (Charles-AxelDein)',\n",
    " 'ForrestKnight (ForrestKnight)',\n",
    " 'revery-ui (revery-ui)',\n",
    " 'alibaba (Alibaba)',\n",
    " 'Microsoft (Microsoft)',\n",
    " 'github (GitHub)',\n",
    " 'facebook (Facebook)',\n",
    " 'boazsegev (Bo)',\n",
    " 'google (Google)',\n",
    " 'cloudfetch',\n",
    " 'sindresorhus (SindreSorhus)',\n",
    " 'tensorflow',\n",
    " 'apache (TheApacheSoftwareFoundation)',\n",
    " 'DevonCrawford (DevonCrawford)',\n",
    " 'ARMmbed (ArmMbed)',\n",
    " 'vuejs (vuejs)',\n",
    " 'fastai (fast.ai)',\n",
    " 'QiShaoXuan (Qi)',\n",
    " 'joelparkerhenderson (JoelParkerHenderson)',\n",
    " 'torvalds (LinusTorvalds)',\n",
    " 'CyC2018',\n",
    " 'komeiji-satori (神楽坂覚々)',\n",
    " 'script-8']\n",
    " ```"
   ]
  },
  {
   "cell_type": "code",
   "execution_count": 8,
   "metadata": {},
   "outputs": [
    {
     "data": {
      "text/plain": [
       "['Ismail Pelaseyed', 'homanp']"
      ]
     },
     "execution_count": 8,
     "metadata": {},
     "output_type": "execute_result"
    }
   ],
   "source": [
    "driver.find_elements(By.CSS_SELECTOR, 'div.col-md-6')[0].text.split('\\n')"
   ]
  },
  {
   "cell_type": "code",
   "execution_count": 9,
   "metadata": {},
   "outputs": [],
   "source": [
    "lista = [e.text.split('\\n') for e in driver.find_elements(By.CSS_SELECTOR, 'div.col-md-6')]"
   ]
  },
  {
   "cell_type": "code",
   "execution_count": 10,
   "metadata": {},
   "outputs": [
    {
     "data": {
      "text/plain": [
       "[['Ismail Pelaseyed', 'homanp'],\n",
       " ['Alex Stokes', 'ralexstokes'],\n",
       " ['Don Jayamanne', 'DonJayamanne'],\n",
       " ['Stefan Prodan', 'stefanprodan'],\n",
       " ['Travis Cline', 'tmc'],\n",
       " ['Oliver', 'SchrodingersGat'],\n",
       " ['dgtlmoon'],\n",
       " ['Guillaume Klein', 'guillaumekln'],\n",
       " ['lllyasviel'],\n",
       " ['Angelos Chalaris', 'Chalarangelo'],\n",
       " ['Jon Skeet', 'jskeet'],\n",
       " ['Chris Banes', 'chrisbanes'],\n",
       " ['Carlos Scheidegger', 'cscheid'],\n",
       " ['Anders Eknert', 'anderseknert'],\n",
       " ['Emil Ernerfeldt', 'emilk'],\n",
       " ['Andrea Aime', 'aaime'],\n",
       " ['Works for GeoSolutions', 'GeoSolutions'],\n",
       " ['Mattt', 'mattt'],\n",
       " ['Meng Zhang', 'wsxiaoys'],\n",
       " ['Shahed Nasser', 'shahednasser'],\n",
       " ['dkhamsing'],\n",
       " ['Kieron Quinn', 'KieronQuinn'],\n",
       " ['afc163', 'afc163'],\n",
       " ['Alan Donovan', 'adonovan'],\n",
       " ['Lee Calcote', 'leecalcote'],\n",
       " ['Works for Layer5', 'Layer5'],\n",
       " ['Costa Huang', 'vwxyzjn']]"
      ]
     },
     "execution_count": 10,
     "metadata": {},
     "output_type": "execute_result"
    }
   ],
   "source": [
    "[e for e in lista if len(e)<3]"
   ]
  },
  {
   "cell_type": "code",
   "execution_count": 11,
   "metadata": {},
   "outputs": [
    {
     "data": {
      "text/plain": [
       "27"
      ]
     },
     "execution_count": 11,
     "metadata": {},
     "output_type": "execute_result"
    }
   ],
   "source": [
    "len([e for e in lista if len(e)<3])  # --> deberían salir 25\n",
    "                                    # aqui se han reordenado mal... "
   ]
  },
  {
   "cell_type": "code",
   "execution_count": 12,
   "metadata": {},
   "outputs": [],
   "source": [
    "nombres = [e.text for e in driver.find_elements(By.CSS_SELECTOR, 'h1.h3.lh-condensed')]"
   ]
  },
  {
   "cell_type": "code",
   "execution_count": 13,
   "metadata": {},
   "outputs": [],
   "source": [
    "nicks = [e.text for e in driver.find_elements(By.CSS_SELECTOR, 'p.f4.text-normal.mb-1')]"
   ]
  },
  {
   "cell_type": "code",
   "execution_count": 14,
   "metadata": {},
   "outputs": [
    {
     "data": {
      "text/plain": [
       "['Ismail Pelaseyed',\n",
       " 'Alex Stokes',\n",
       " 'Don Jayamanne',\n",
       " 'Stefan Prodan',\n",
       " 'Travis Cline',\n",
       " 'Oliver',\n",
       " 'dgtlmoon',\n",
       " 'Guillaume Klein',\n",
       " 'lllyasviel',\n",
       " 'Angelos Chalaris',\n",
       " 'Jon Skeet',\n",
       " 'Chris Banes',\n",
       " 'Carlos Scheidegger',\n",
       " 'Anders Eknert',\n",
       " 'Emil Ernerfeldt',\n",
       " 'Andrea Aime',\n",
       " 'Mattt',\n",
       " 'Meng Zhang',\n",
       " 'Shahed Nasser',\n",
       " 'dkhamsing',\n",
       " 'Kieron Quinn',\n",
       " 'afc163',\n",
       " 'Alan Donovan',\n",
       " 'Lee Calcote',\n",
       " 'Costa Huang']"
      ]
     },
     "execution_count": 14,
     "metadata": {},
     "output_type": "execute_result"
    }
   ],
   "source": [
    "nombres"
   ]
  },
  {
   "cell_type": "code",
   "execution_count": 15,
   "metadata": {},
   "outputs": [
    {
     "data": {
      "text/plain": [
       "['homanp',\n",
       " 'ralexstokes',\n",
       " 'DonJayamanne',\n",
       " 'stefanprodan',\n",
       " 'tmc',\n",
       " 'SchrodingersGat',\n",
       " 'guillaumekln',\n",
       " 'Chalarangelo',\n",
       " 'jskeet',\n",
       " 'chrisbanes',\n",
       " 'cscheid',\n",
       " 'anderseknert',\n",
       " 'emilk',\n",
       " 'aaime',\n",
       " 'mattt',\n",
       " 'wsxiaoys',\n",
       " 'shahednasser',\n",
       " 'KieronQuinn',\n",
       " 'afc163',\n",
       " 'adonovan',\n",
       " 'leecalcote',\n",
       " 'vwxyzjn']"
      ]
     },
     "execution_count": 15,
     "metadata": {},
     "output_type": "execute_result"
    }
   ],
   "source": [
    "nicks"
   ]
  },
  {
   "cell_type": "code",
   "execution_count": 16,
   "metadata": {},
   "outputs": [
    {
     "data": {
      "text/plain": [
       "[('Ismail Pelaseyed', 'homanp'),\n",
       " ('Alex Stokes', 'ralexstokes'),\n",
       " ('Don Jayamanne', 'DonJayamanne'),\n",
       " ('Stefan Prodan', 'stefanprodan'),\n",
       " ('Travis Cline', 'tmc'),\n",
       " ('Oliver', 'SchrodingersGat'),\n",
       " ('dgtlmoon', 'guillaumekln'),\n",
       " ('Guillaume Klein', 'Chalarangelo'),\n",
       " ('lllyasviel', 'jskeet'),\n",
       " ('Angelos Chalaris', 'chrisbanes'),\n",
       " ('Jon Skeet', 'cscheid'),\n",
       " ('Chris Banes', 'anderseknert'),\n",
       " ('Carlos Scheidegger', 'emilk'),\n",
       " ('Anders Eknert', 'aaime'),\n",
       " ('Emil Ernerfeldt', 'mattt'),\n",
       " ('Andrea Aime', 'wsxiaoys'),\n",
       " ('Mattt', 'shahednasser'),\n",
       " ('Meng Zhang', 'KieronQuinn'),\n",
       " ('Shahed Nasser', 'afc163'),\n",
       " ('dkhamsing', 'adonovan'),\n",
       " ('Kieron Quinn', 'leecalcote'),\n",
       " ('afc163', 'vwxyzjn')]"
      ]
     },
     "execution_count": 16,
     "metadata": {},
     "output_type": "execute_result"
    }
   ],
   "source": [
    "list(zip(nombres, nicks))"
   ]
  },
  {
   "cell_type": "code",
   "execution_count": 17,
   "metadata": {},
   "outputs": [
    {
     "data": {
      "text/plain": [
       "22"
      ]
     },
     "execution_count": 17,
     "metadata": {},
     "output_type": "execute_result"
    }
   ],
   "source": [
    "len(list(zip(nombres, nicks)))\n",
    "\n",
    "#solamente escoge aquellos que estan ligados"
   ]
  },
  {
   "cell_type": "code",
   "execution_count": 18,
   "metadata": {},
   "outputs": [
    {
     "data": {
      "text/plain": [
       "25"
      ]
     },
     "execution_count": 18,
     "metadata": {},
     "output_type": "execute_result"
    }
   ],
   "source": [
    "len(nombres)"
   ]
  },
  {
   "cell_type": "code",
   "execution_count": 19,
   "metadata": {},
   "outputs": [
    {
     "data": {
      "text/plain": [
       "22"
      ]
     },
     "execution_count": 19,
     "metadata": {},
     "output_type": "execute_result"
    }
   ],
   "source": [
    "len(nicks)"
   ]
  },
  {
   "cell_type": "code",
   "execution_count": 20,
   "metadata": {},
   "outputs": [],
   "source": [
    "nombres = [e.text for e in driver.find_elements(By.XPATH, '//h1[@class=\"h3 lh-condensed\"]/a')]\n",
    "nicks = [e.text for e in driver.find_elements(By.XPATH, '//p[@class=\"f4 text-normal mb-1\"]/a')]"
   ]
  },
  {
   "cell_type": "code",
   "execution_count": 21,
   "metadata": {},
   "outputs": [
    {
     "data": {
      "text/plain": [
       "[('Ismail Pelaseyed', 'homanp'),\n",
       " ('Alex Stokes', 'ralexstokes'),\n",
       " ('Don Jayamanne', 'DonJayamanne'),\n",
       " ('Stefan Prodan', 'stefanprodan'),\n",
       " ('Travis Cline', 'tmc'),\n",
       " ('Oliver', 'SchrodingersGat'),\n",
       " ('dgtlmoon', 'guillaumekln'),\n",
       " ('Guillaume Klein', 'Chalarangelo'),\n",
       " ('lllyasviel', 'jskeet'),\n",
       " ('Angelos Chalaris', 'chrisbanes'),\n",
       " ('Jon Skeet', 'cscheid'),\n",
       " ('Chris Banes', 'anderseknert'),\n",
       " ('Carlos Scheidegger', 'emilk'),\n",
       " ('Anders Eknert', 'aaime'),\n",
       " ('Emil Ernerfeldt', 'mattt'),\n",
       " ('Andrea Aime', 'wsxiaoys'),\n",
       " ('Mattt', 'shahednasser'),\n",
       " ('Meng Zhang', 'KieronQuinn'),\n",
       " ('Shahed Nasser', 'afc163'),\n",
       " ('dkhamsing', 'adonovan'),\n",
       " ('Kieron Quinn', 'leecalcote'),\n",
       " ('afc163', 'vwxyzjn')]"
      ]
     },
     "execution_count": 21,
     "metadata": {},
     "output_type": "execute_result"
    }
   ],
   "source": [
    "tabla = list(zip(nombres, nicks))\n",
    "tabla"
   ]
  },
  {
   "cell_type": "code",
   "execution_count": 22,
   "metadata": {},
   "outputs": [
    {
     "data": {
      "text/plain": [
       "22"
      ]
     },
     "execution_count": 22,
     "metadata": {},
     "output_type": "execute_result"
    }
   ],
   "source": [
    "len(tabla)"
   ]
  },
  {
   "cell_type": "markdown",
   "metadata": {},
   "source": [
    "#### Display the trending Python repositories in GitHub\n",
    "\n",
    "The steps to solve this problem is similar to the previous one except that you need to find out the repository names instead of developer names."
   ]
  },
  {
   "cell_type": "code",
   "execution_count": 23,
   "metadata": {},
   "outputs": [],
   "source": [
    "# This is the url you will scrape in this exercise\n",
    "url = 'https://github.com/trending/python?since=daily'"
   ]
  },
  {
   "cell_type": "code",
   "execution_count": 24,
   "metadata": {},
   "outputs": [],
   "source": [
    "driver.get(url)"
   ]
  },
  {
   "cell_type": "code",
   "execution_count": 25,
   "metadata": {},
   "outputs": [
    {
     "data": {
      "text/plain": [
       "<selenium.webdriver.remote.webelement.WebElement (session=\"11859aa140ab292266527bfe09696c26\", element=\"3E4AD40EF9F95F85ADB0D875FA26CDD7_element_177\")>"
      ]
     },
     "execution_count": 25,
     "metadata": {},
     "output_type": "execute_result"
    }
   ],
   "source": [
    "driver.find_elements(By.CSS_SELECTOR, 'h2.h3.lh-condensed')[0]"
   ]
  },
  {
   "cell_type": "code",
   "execution_count": 26,
   "metadata": {},
   "outputs": [
    {
     "data": {
      "text/plain": [
       "['swisskyrepo / PayloadsAllTheThings',\n",
       " 'THUDM / ChatGLM3',\n",
       " 'PaddlePaddle / PaddleOCR',\n",
       " 'langchain-ai / langchain',\n",
       " 'dataelement / bisheng',\n",
       " 'Azure / MS-AMP',\n",
       " 'xxlong0 / Wonder3D',\n",
       " 'yunjey / pytorch-tutorial',\n",
       " 'facebookresearch / llama',\n",
       " 'localstack / localstack',\n",
       " 'OpenBMB / ChatDev',\n",
       " 'ray-project / ray',\n",
       " 'CycodeLabs / raven',\n",
       " 'ageitgey / face_recognition',\n",
       " 'iam-veeramalla / aws-devops-zero-to-hero',\n",
       " 'openai / whisper',\n",
       " 'sqlfluff / sqlfluff',\n",
       " 'imartinez / privateGPT',\n",
       " 'reflex-dev / reflex',\n",
       " 'donnemartin / system-design-primer',\n",
       " 'lm-sys / FastChat',\n",
       " 'togethercomputer / RedPajama-Data',\n",
       " 'SkyworkAI / Skywork',\n",
       " 'microsoft / qlib',\n",
       " 'pathwaycom / llm-app']"
      ]
     },
     "execution_count": 26,
     "metadata": {},
     "output_type": "execute_result"
    }
   ],
   "source": [
    "repositories = [e.text for e in driver.find_elements(By.CSS_SELECTOR, 'h2.h3.lh-condensed')]\n",
    "repositories"
   ]
  },
  {
   "cell_type": "code",
   "execution_count": 27,
   "metadata": {},
   "outputs": [
    {
     "data": {
      "text/plain": [
       "25"
      ]
     },
     "execution_count": 27,
     "metadata": {},
     "output_type": "execute_result"
    }
   ],
   "source": [
    "len(repositories)"
   ]
  },
  {
   "cell_type": "markdown",
   "metadata": {},
   "source": [
    "#### Display all the image links from Walt Disney wikipedia page"
   ]
  },
  {
   "cell_type": "code",
   "execution_count": 28,
   "metadata": {},
   "outputs": [],
   "source": [
    "# This is the url you will scrape in this exercise\n",
    "url = 'https://en.wikipedia.org/wiki/Walt_Disney'"
   ]
  },
  {
   "cell_type": "code",
   "execution_count": 29,
   "metadata": {},
   "outputs": [],
   "source": [
    "driver.get(url)"
   ]
  },
  {
   "cell_type": "code",
   "execution_count": 30,
   "metadata": {},
   "outputs": [
    {
     "data": {
      "text/plain": [
       "[<selenium.webdriver.remote.webelement.WebElement (session=\"11859aa140ab292266527bfe09696c26\", element=\"ECC426357B583DC1A3D1FD279C720947_element_2\")>,\n",
       " <selenium.webdriver.remote.webelement.WebElement (session=\"11859aa140ab292266527bfe09696c26\", element=\"ECC426357B583DC1A3D1FD279C720947_element_3\")>,\n",
       " <selenium.webdriver.remote.webelement.WebElement (session=\"11859aa140ab292266527bfe09696c26\", element=\"ECC426357B583DC1A3D1FD279C720947_element_7\")>,\n",
       " <selenium.webdriver.remote.webelement.WebElement (session=\"11859aa140ab292266527bfe09696c26\", element=\"ECC426357B583DC1A3D1FD279C720947_element_23\")>,\n",
       " <selenium.webdriver.remote.webelement.WebElement (session=\"11859aa140ab292266527bfe09696c26\", element=\"ECC426357B583DC1A3D1FD279C720947_element_24\")>,\n",
       " <selenium.webdriver.remote.webelement.WebElement (session=\"11859aa140ab292266527bfe09696c26\", element=\"ECC426357B583DC1A3D1FD279C720947_element_17\")>,\n",
       " <selenium.webdriver.remote.webelement.WebElement (session=\"11859aa140ab292266527bfe09696c26\", element=\"ECC426357B583DC1A3D1FD279C720947_element_25\")>,\n",
       " <selenium.webdriver.remote.webelement.WebElement (session=\"11859aa140ab292266527bfe09696c26\", element=\"ECC426357B583DC1A3D1FD279C720947_element_26\")>,\n",
       " <selenium.webdriver.remote.webelement.WebElement (session=\"11859aa140ab292266527bfe09696c26\", element=\"ECC426357B583DC1A3D1FD279C720947_element_27\")>,\n",
       " <selenium.webdriver.remote.webelement.WebElement (session=\"11859aa140ab292266527bfe09696c26\", element=\"ECC426357B583DC1A3D1FD279C720947_element_28\")>,\n",
       " <selenium.webdriver.remote.webelement.WebElement (session=\"11859aa140ab292266527bfe09696c26\", element=\"ECC426357B583DC1A3D1FD279C720947_element_29\")>,\n",
       " <selenium.webdriver.remote.webelement.WebElement (session=\"11859aa140ab292266527bfe09696c26\", element=\"ECC426357B583DC1A3D1FD279C720947_element_30\")>,\n",
       " <selenium.webdriver.remote.webelement.WebElement (session=\"11859aa140ab292266527bfe09696c26\", element=\"ECC426357B583DC1A3D1FD279C720947_element_31\")>,\n",
       " <selenium.webdriver.remote.webelement.WebElement (session=\"11859aa140ab292266527bfe09696c26\", element=\"ECC426357B583DC1A3D1FD279C720947_element_32\")>,\n",
       " <selenium.webdriver.remote.webelement.WebElement (session=\"11859aa140ab292266527bfe09696c26\", element=\"ECC426357B583DC1A3D1FD279C720947_element_33\")>,\n",
       " <selenium.webdriver.remote.webelement.WebElement (session=\"11859aa140ab292266527bfe09696c26\", element=\"ECC426357B583DC1A3D1FD279C720947_element_34\")>,\n",
       " <selenium.webdriver.remote.webelement.WebElement (session=\"11859aa140ab292266527bfe09696c26\", element=\"ECC426357B583DC1A3D1FD279C720947_element_35\")>,\n",
       " <selenium.webdriver.remote.webelement.WebElement (session=\"11859aa140ab292266527bfe09696c26\", element=\"ECC426357B583DC1A3D1FD279C720947_element_36\")>,\n",
       " <selenium.webdriver.remote.webelement.WebElement (session=\"11859aa140ab292266527bfe09696c26\", element=\"ECC426357B583DC1A3D1FD279C720947_element_37\")>,\n",
       " <selenium.webdriver.remote.webelement.WebElement (session=\"11859aa140ab292266527bfe09696c26\", element=\"ECC426357B583DC1A3D1FD279C720947_element_38\")>,\n",
       " <selenium.webdriver.remote.webelement.WebElement (session=\"11859aa140ab292266527bfe09696c26\", element=\"ECC426357B583DC1A3D1FD279C720947_element_39\")>,\n",
       " <selenium.webdriver.remote.webelement.WebElement (session=\"11859aa140ab292266527bfe09696c26\", element=\"ECC426357B583DC1A3D1FD279C720947_element_40\")>,\n",
       " <selenium.webdriver.remote.webelement.WebElement (session=\"11859aa140ab292266527bfe09696c26\", element=\"ECC426357B583DC1A3D1FD279C720947_element_41\")>,\n",
       " <selenium.webdriver.remote.webelement.WebElement (session=\"11859aa140ab292266527bfe09696c26\", element=\"ECC426357B583DC1A3D1FD279C720947_element_42\")>,\n",
       " <selenium.webdriver.remote.webelement.WebElement (session=\"11859aa140ab292266527bfe09696c26\", element=\"ECC426357B583DC1A3D1FD279C720947_element_43\")>,\n",
       " <selenium.webdriver.remote.webelement.WebElement (session=\"11859aa140ab292266527bfe09696c26\", element=\"ECC426357B583DC1A3D1FD279C720947_element_44\")>,\n",
       " <selenium.webdriver.remote.webelement.WebElement (session=\"11859aa140ab292266527bfe09696c26\", element=\"ECC426357B583DC1A3D1FD279C720947_element_45\")>,\n",
       " <selenium.webdriver.remote.webelement.WebElement (session=\"11859aa140ab292266527bfe09696c26\", element=\"ECC426357B583DC1A3D1FD279C720947_element_46\")>,\n",
       " <selenium.webdriver.remote.webelement.WebElement (session=\"11859aa140ab292266527bfe09696c26\", element=\"ECC426357B583DC1A3D1FD279C720947_element_47\")>,\n",
       " <selenium.webdriver.remote.webelement.WebElement (session=\"11859aa140ab292266527bfe09696c26\", element=\"ECC426357B583DC1A3D1FD279C720947_element_48\")>,\n",
       " <selenium.webdriver.remote.webelement.WebElement (session=\"11859aa140ab292266527bfe09696c26\", element=\"ECC426357B583DC1A3D1FD279C720947_element_49\")>,\n",
       " <selenium.webdriver.remote.webelement.WebElement (session=\"11859aa140ab292266527bfe09696c26\", element=\"ECC426357B583DC1A3D1FD279C720947_element_50\")>,\n",
       " <selenium.webdriver.remote.webelement.WebElement (session=\"11859aa140ab292266527bfe09696c26\", element=\"ECC426357B583DC1A3D1FD279C720947_element_51\")>,\n",
       " <selenium.webdriver.remote.webelement.WebElement (session=\"11859aa140ab292266527bfe09696c26\", element=\"ECC426357B583DC1A3D1FD279C720947_element_52\")>,\n",
       " <selenium.webdriver.remote.webelement.WebElement (session=\"11859aa140ab292266527bfe09696c26\", element=\"ECC426357B583DC1A3D1FD279C720947_element_53\")>,\n",
       " <selenium.webdriver.remote.webelement.WebElement (session=\"11859aa140ab292266527bfe09696c26\", element=\"ECC426357B583DC1A3D1FD279C720947_element_54\")>]"
      ]
     },
     "execution_count": 30,
     "metadata": {},
     "output_type": "execute_result"
    }
   ],
   "source": [
    "images = driver.find_elements(By.TAG_NAME, 'img')\n",
    "images"
   ]
  },
  {
   "cell_type": "code",
   "execution_count": 31,
   "metadata": {
    "scrolled": true
   },
   "outputs": [
    {
     "data": {
      "text/plain": [
       "['https://en.wikipedia.org/static/images/icons/wikipedia.png',\n",
       " 'https://en.wikipedia.org/static/images/mobile/copyright/wikipedia-wordmark-en.svg',\n",
       " 'https://en.wikipedia.org/static/images/mobile/copyright/wikipedia-tagline-en.svg',\n",
       " 'https://upload.wikimedia.org/wikipedia/en/thumb/e/e7/Cscr-featured.svg/20px-Cscr-featured.svg.png',\n",
       " 'https://upload.wikimedia.org/wikipedia/en/thumb/8/8c/Extended-protection-shackle.svg/20px-Extended-protection-shackle.svg.png',\n",
       " 'https://upload.wikimedia.org/wikipedia/commons/thumb/d/df/Walt_Disney_1946.JPG/220px-Walt_Disney_1946.JPG',\n",
       " 'https://upload.wikimedia.org/wikipedia/commons/thumb/8/87/Walt_Disney_1942_signature.svg/150px-Walt_Disney_1942_signature.svg.png',\n",
       " 'https://upload.wikimedia.org/wikipedia/commons/thumb/3/3a/Walt_Disney_Birthplace_Exterior_Hermosa_Chicago_Illinois.jpg/220px-Walt_Disney_Birthplace_Exterior_Hermosa_Chicago_Illinois.jpg',\n",
       " 'https://upload.wikimedia.org/wikipedia/commons/thumb/c/c4/Walt_Disney_envelope_ca._1921.jpg/220px-Walt_Disney_envelope_ca._1921.jpg',\n",
       " 'https://upload.wikimedia.org/wikipedia/en/thumb/4/4e/Steamboat-willie.jpg/220px-Steamboat-willie.jpg',\n",
       " 'https://upload.wikimedia.org/wikipedia/commons/thumb/c/cd/Walt_Disney_Snow_white_1937_trailer_screenshot_%2813%29.jpg/220px-Walt_Disney_Snow_white_1937_trailer_screenshot_%2813%29.jpg',\n",
       " 'https://upload.wikimedia.org/wikipedia/commons/thumb/1/15/Disney_drawing_goofy.jpg/170px-Disney_drawing_goofy.jpg',\n",
       " 'https://upload.wikimedia.org/wikipedia/commons/thumb/8/8c/WaltDisneyplansDisneylandDec1954.jpg/220px-WaltDisneyplansDisneylandDec1954.jpg',\n",
       " 'https://upload.wikimedia.org/wikipedia/commons/thumb/f/ff/Walt_disney_portrait_right.jpg/170px-Walt_disney_portrait_right.jpg',\n",
       " 'https://upload.wikimedia.org/wikipedia/commons/thumb/1/1a/Walt_Disney_Grave.JPG/170px-Walt_Disney_Grave.JPG',\n",
       " 'https://upload.wikimedia.org/wikipedia/commons/thumb/1/1b/Nuvola_apps_kaboodle.svg/16px-Nuvola_apps_kaboodle.svg.png',\n",
       " 'https://upload.wikimedia.org/wikipedia/commons/thumb/1/13/DisneySchiphol1951.jpg/220px-DisneySchiphol1951.jpg',\n",
       " 'https://upload.wikimedia.org/wikipedia/commons/thumb/6/6c/Disney1968.jpg/170px-Disney1968.jpg',\n",
       " 'https://upload.wikimedia.org/wikipedia/commons/thumb/b/b0/Disney_Oscar_1953_%28cropped%29.jpg/170px-Disney_Oscar_1953_%28cropped%29.jpg',\n",
       " 'https://upload.wikimedia.org/wikipedia/en/thumb/4/4a/Commons-logo.svg/30px-Commons-logo.svg.png',\n",
       " 'https://upload.wikimedia.org/wikipedia/commons/thumb/4/4c/Wikisource-logo.svg/38px-Wikisource-logo.svg.png',\n",
       " 'https://upload.wikimedia.org/wikipedia/commons/thumb/f/fa/Wikiquote-logo.svg/34px-Wikiquote-logo.svg.png',\n",
       " 'https://upload.wikimedia.org/wikipedia/en/thumb/8/8a/OOjs_UI_icon_edit-ltr-progressive.svg/10px-OOjs_UI_icon_edit-ltr-progressive.svg.png',\n",
       " 'https://upload.wikimedia.org/wikipedia/en/thumb/8/8a/OOjs_UI_icon_edit-ltr-progressive.svg/10px-OOjs_UI_icon_edit-ltr-progressive.svg.png',\n",
       " 'https://upload.wikimedia.org/wikipedia/en/thumb/9/96/Symbol_category_class.svg/16px-Symbol_category_class.svg.png',\n",
       " 'https://upload.wikimedia.org/wikipedia/commons/thumb/e/e3/Disneyland_Resort_logo.svg/135px-Disneyland_Resort_logo.svg.png',\n",
       " 'https://upload.wikimedia.org/wikipedia/commons/thumb/d/da/Animation_disc.svg/20px-Animation_disc.svg.png',\n",
       " 'https://upload.wikimedia.org/wikipedia/en/thumb/6/69/P_vip.svg/19px-P_vip.svg.png',\n",
       " 'https://upload.wikimedia.org/wikipedia/commons/thumb/1/1a/Magic_Kingdom_castle.jpg/15px-Magic_Kingdom_castle.jpg',\n",
       " 'https://upload.wikimedia.org/wikipedia/en/thumb/e/e7/Video-x-generic.svg/19px-Video-x-generic.svg.png',\n",
       " 'https://upload.wikimedia.org/wikipedia/commons/thumb/a/a3/Flag_of_Los_Angeles_County%2C_California.svg/21px-Flag_of_Los_Angeles_County%2C_California.svg.png',\n",
       " 'https://upload.wikimedia.org/wikipedia/commons/thumb/8/8c/Blank_television_set.svg/21px-Blank_television_set.svg.png',\n",
       " 'https://upload.wikimedia.org/wikipedia/en/thumb/a/a4/Flag_of_the_United_States.svg/21px-Flag_of_the_United_States.svg.png',\n",
       " 'https://upload.wikimedia.org/wikipedia/en/thumb/8/8a/OOjs_UI_icon_edit-ltr-progressive.svg/10px-OOjs_UI_icon_edit-ltr-progressive.svg.png',\n",
       " 'https://en.wikipedia.org/static/images/footer/wikimedia-button.png',\n",
       " 'https://en.wikipedia.org/static/images/footer/poweredby_mediawiki_88x31.png']"
      ]
     },
     "execution_count": 31,
     "metadata": {},
     "output_type": "execute_result"
    }
   ],
   "source": [
    "image_links = [img.get_attribute('src') for img in images]\n",
    "image_links"
   ]
  },
  {
   "cell_type": "markdown",
   "metadata": {},
   "source": [
    "#### Retrieve an arbitary Wikipedia page of \"Python\" and create a list of links on that page"
   ]
  },
  {
   "cell_type": "code",
   "execution_count": 32,
   "metadata": {},
   "outputs": [],
   "source": [
    "# This is the url you will scrape in this exercise\n",
    "url ='https://en.wikipedia.org/wiki/Python' "
   ]
  },
  {
   "cell_type": "code",
   "execution_count": 33,
   "metadata": {},
   "outputs": [],
   "source": [
    "#your code"
   ]
  },
  {
   "cell_type": "markdown",
   "metadata": {},
   "source": [
    "#### Number of Titles that have changed in the United States Code since its last release point "
   ]
  },
  {
   "cell_type": "code",
   "execution_count": 34,
   "metadata": {},
   "outputs": [],
   "source": [
    "# This is the url you will scrape in this exercise\n",
    "url = 'http://uscode.house.gov/download/download.shtml'"
   ]
  },
  {
   "cell_type": "code",
   "execution_count": 35,
   "metadata": {},
   "outputs": [],
   "source": [
    "#your code"
   ]
  },
  {
   "cell_type": "markdown",
   "metadata": {},
   "source": [
    "#### A Python list with the top ten FBI's Most Wanted names "
   ]
  },
  {
   "cell_type": "code",
   "execution_count": 36,
   "metadata": {},
   "outputs": [],
   "source": [
    "# This is the url you will scrape in this exercise\n",
    "\n",
    "url = 'https://www.fbi.gov/wanted/topten'"
   ]
  },
  {
   "cell_type": "code",
   "execution_count": 37,
   "metadata": {},
   "outputs": [],
   "source": [
    "driver.get(url)"
   ]
  },
  {
   "cell_type": "code",
   "execution_count": 38,
   "metadata": {},
   "outputs": [
    {
     "data": {
      "text/plain": [
       "[<selenium.webdriver.remote.webelement.WebElement (session=\"11859aa140ab292266527bfe09696c26\", element=\"EA864F5136F841DE4E7C0B72E1000E0B_element_27\")>,\n",
       " <selenium.webdriver.remote.webelement.WebElement (session=\"11859aa140ab292266527bfe09696c26\", element=\"EA864F5136F841DE4E7C0B72E1000E0B_element_28\")>,\n",
       " <selenium.webdriver.remote.webelement.WebElement (session=\"11859aa140ab292266527bfe09696c26\", element=\"EA864F5136F841DE4E7C0B72E1000E0B_element_29\")>,\n",
       " <selenium.webdriver.remote.webelement.WebElement (session=\"11859aa140ab292266527bfe09696c26\", element=\"EA864F5136F841DE4E7C0B72E1000E0B_element_30\")>,\n",
       " <selenium.webdriver.remote.webelement.WebElement (session=\"11859aa140ab292266527bfe09696c26\", element=\"EA864F5136F841DE4E7C0B72E1000E0B_element_31\")>,\n",
       " <selenium.webdriver.remote.webelement.WebElement (session=\"11859aa140ab292266527bfe09696c26\", element=\"EA864F5136F841DE4E7C0B72E1000E0B_element_32\")>,\n",
       " <selenium.webdriver.remote.webelement.WebElement (session=\"11859aa140ab292266527bfe09696c26\", element=\"EA864F5136F841DE4E7C0B72E1000E0B_element_33\")>,\n",
       " <selenium.webdriver.remote.webelement.WebElement (session=\"11859aa140ab292266527bfe09696c26\", element=\"EA864F5136F841DE4E7C0B72E1000E0B_element_34\")>,\n",
       " <selenium.webdriver.remote.webelement.WebElement (session=\"11859aa140ab292266527bfe09696c26\", element=\"EA864F5136F841DE4E7C0B72E1000E0B_element_35\")>,\n",
       " <selenium.webdriver.remote.webelement.WebElement (session=\"11859aa140ab292266527bfe09696c26\", element=\"EA864F5136F841DE4E7C0B72E1000E0B_element_36\")>]"
      ]
     },
     "execution_count": 38,
     "metadata": {},
     "output_type": "execute_result"
    }
   ],
   "source": [
    "driver.find_elements(By.CSS_SELECTOR, 'h3.title')"
   ]
  },
  {
   "cell_type": "code",
   "execution_count": 39,
   "metadata": {},
   "outputs": [],
   "source": [
    "wanted = [e.text for e in driver.find_elements(By.CSS_SELECTOR, 'h3.title')]"
   ]
  },
  {
   "cell_type": "code",
   "execution_count": 40,
   "metadata": {},
   "outputs": [
    {
     "data": {
      "text/plain": [
       "['ARNOLDO JIMENEZ',\n",
       " 'OMAR ALEXANDER CARDENAS',\n",
       " 'YULAN ADONAY ARCHAGA CARIAS',\n",
       " 'BHADRESHKUMAR CHETANBHAI PATEL',\n",
       " 'DONALD EUGENE FIELDS II',\n",
       " 'RUJA IGNATOVA',\n",
       " 'WILVER VILLEGAS-PALOMINO',\n",
       " 'ALEJANDRO ROSALES CASTILLO',\n",
       " 'ALEXIS FLORES',\n",
       " 'JOSE RODOLFO VILLARREAL-HERNANDEZ']"
      ]
     },
     "execution_count": 40,
     "metadata": {},
     "output_type": "execute_result"
    }
   ],
   "source": [
    "wanted"
   ]
  },
  {
   "cell_type": "code",
   "execution_count": 41,
   "metadata": {},
   "outputs": [
    {
     "data": {
      "text/plain": [
       "[<selenium.webdriver.remote.webelement.WebElement (session=\"11859aa140ab292266527bfe09696c26\", element=\"EA864F5136F841DE4E7C0B72E1000E0B_element_37\")>,\n",
       " <selenium.webdriver.remote.webelement.WebElement (session=\"11859aa140ab292266527bfe09696c26\", element=\"EA864F5136F841DE4E7C0B72E1000E0B_element_38\")>,\n",
       " <selenium.webdriver.remote.webelement.WebElement (session=\"11859aa140ab292266527bfe09696c26\", element=\"EA864F5136F841DE4E7C0B72E1000E0B_element_39\")>,\n",
       " <selenium.webdriver.remote.webelement.WebElement (session=\"11859aa140ab292266527bfe09696c26\", element=\"EA864F5136F841DE4E7C0B72E1000E0B_element_40\")>,\n",
       " <selenium.webdriver.remote.webelement.WebElement (session=\"11859aa140ab292266527bfe09696c26\", element=\"EA864F5136F841DE4E7C0B72E1000E0B_element_41\")>,\n",
       " <selenium.webdriver.remote.webelement.WebElement (session=\"11859aa140ab292266527bfe09696c26\", element=\"EA864F5136F841DE4E7C0B72E1000E0B_element_42\")>,\n",
       " <selenium.webdriver.remote.webelement.WebElement (session=\"11859aa140ab292266527bfe09696c26\", element=\"EA864F5136F841DE4E7C0B72E1000E0B_element_43\")>,\n",
       " <selenium.webdriver.remote.webelement.WebElement (session=\"11859aa140ab292266527bfe09696c26\", element=\"EA864F5136F841DE4E7C0B72E1000E0B_element_44\")>,\n",
       " <selenium.webdriver.remote.webelement.WebElement (session=\"11859aa140ab292266527bfe09696c26\", element=\"EA864F5136F841DE4E7C0B72E1000E0B_element_45\")>,\n",
       " <selenium.webdriver.remote.webelement.WebElement (session=\"11859aa140ab292266527bfe09696c26\", element=\"EA864F5136F841DE4E7C0B72E1000E0B_element_46\")>]"
      ]
     },
     "execution_count": 41,
     "metadata": {},
     "output_type": "execute_result"
    }
   ],
   "source": [
    "els = driver.find_elements(By.XPATH, '//h3//a')\n",
    "els"
   ]
  },
  {
   "cell_type": "code",
   "execution_count": 42,
   "metadata": {},
   "outputs": [
    {
     "name": "stdout",
     "output_type": "stream",
     "text": [
      "ARNOLDO JIMENEZ\n",
      "OMAR ALEXANDER CARDENAS\n",
      "YULAN ADONAY ARCHAGA CARIAS\n",
      "BHADRESHKUMAR CHETANBHAI PATEL\n",
      "DONALD EUGENE FIELDS II\n",
      "RUJA IGNATOVA\n",
      "WILVER VILLEGAS-PALOMINO\n",
      "ALEJANDRO ROSALES CASTILLO\n",
      "ALEXIS FLORES\n",
      "JOSE RODOLFO VILLARREAL-HERNANDEZ\n"
     ]
    }
   ],
   "source": [
    "for e in els:\n",
    "    print(e.text)"
   ]
  },
  {
   "cell_type": "markdown",
   "metadata": {},
   "source": [
    "- aqui estoy probando a sacar el link de la imagen que acompaña al nombre."
   ]
  },
  {
   "cell_type": "code",
   "execution_count": 43,
   "metadata": {},
   "outputs": [
    {
     "name": "stdout",
     "output_type": "stream",
     "text": [
      "https://www.fbi.gov/wanted/topten/arnoldo-jimenez\n",
      "https://www.fbi.gov/wanted/topten/omar-alexander-cardenas\n",
      "https://www.fbi.gov/wanted/topten/yulan-adonay-archaga-carias\n",
      "https://www.fbi.gov/wanted/topten/bhadreshkumar-chetanbhai-patel\n",
      "https://www.fbi.gov/wanted/topten/donald-eugene-fields-ii\n",
      "https://www.fbi.gov/wanted/topten/ruja-ignatova\n",
      "https://www.fbi.gov/wanted/topten/wilver-villegas-palomino\n",
      "https://www.fbi.gov/wanted/topten/alejandro-castillo\n",
      "https://www.fbi.gov/wanted/topten/alexis-flores\n",
      "https://www.fbi.gov/wanted/topten/jose-rodolfo-villarreal-hernandez\n"
     ]
    }
   ],
   "source": [
    "for e in els:\n",
    "    print(e.get_attribute(\"href\"))"
   ]
  },
  {
   "cell_type": "markdown",
   "metadata": {},
   "source": [
    "####  20 latest earthquakes info (date, time, latitude, longitude and region name) by the EMSC as a pandas dataframe"
   ]
  },
  {
   "cell_type": "code",
   "execution_count": 44,
   "metadata": {},
   "outputs": [],
   "source": [
    "# This is the url you will scrape in this exercise\n",
    "url = 'https://www.emsc-csem.org/Earthquake/'"
   ]
  },
  {
   "cell_type": "code",
   "execution_count": 45,
   "metadata": {},
   "outputs": [],
   "source": [
    "#your code"
   ]
  },
  {
   "cell_type": "markdown",
   "metadata": {},
   "source": [
    "#### Count number of tweets by a given Twitter account."
   ]
  },
  {
   "cell_type": "markdown",
   "metadata": {},
   "source": [
    "You will need to include a ***try/except block*** for account names not found. \n",
    "<br>***Hint:*** the program should count the number of tweets for any provided account"
   ]
  },
  {
   "cell_type": "code",
   "execution_count": 46,
   "metadata": {},
   "outputs": [],
   "source": [
    "# This is the url you will scrape in this exercise \n",
    "# You will need to add the account credentials to this url\n",
    "url = 'https://twitter.com/'"
   ]
  },
  {
   "cell_type": "code",
   "execution_count": 47,
   "metadata": {},
   "outputs": [],
   "source": [
    "#your code"
   ]
  },
  {
   "cell_type": "markdown",
   "metadata": {},
   "source": [
    "#### Number of followers of a given twitter account"
   ]
  },
  {
   "cell_type": "markdown",
   "metadata": {},
   "source": [
    "You will need to include a ***try/except block*** in case account/s name not found. \n",
    "<br>***Hint:*** the program should count the followers for any provided account"
   ]
  },
  {
   "cell_type": "code",
   "execution_count": 48,
   "metadata": {},
   "outputs": [],
   "source": [
    "# This is the url you will scrape in this exercise \n",
    "# You will need to add the account credentials to this url\n",
    "url = 'https://twitter.com/'"
   ]
  },
  {
   "cell_type": "code",
   "execution_count": 49,
   "metadata": {},
   "outputs": [],
   "source": [
    "#your code"
   ]
  },
  {
   "cell_type": "markdown",
   "metadata": {},
   "source": [
    "#### List all language names and number of related articles in the order they appear in wikipedia.org"
   ]
  },
  {
   "cell_type": "code",
   "execution_count": 50,
   "metadata": {},
   "outputs": [],
   "source": [
    "# This is the url you will scrape in this exercise\n",
    "url = 'https://www.wikipedia.org/'"
   ]
  },
  {
   "cell_type": "code",
   "execution_count": 51,
   "metadata": {},
   "outputs": [],
   "source": [
    "#your code"
   ]
  },
  {
   "cell_type": "markdown",
   "metadata": {},
   "source": [
    "#### A list with the different kind of datasets available in data.gov.uk "
   ]
  },
  {
   "cell_type": "code",
   "execution_count": 52,
   "metadata": {},
   "outputs": [],
   "source": [
    "# This is the url you will scrape in this exercise\n",
    "url = 'https://data.gov.uk/'"
   ]
  },
  {
   "cell_type": "code",
   "execution_count": 53,
   "metadata": {},
   "outputs": [],
   "source": [
    "#your code "
   ]
  },
  {
   "cell_type": "markdown",
   "metadata": {},
   "source": [
    "#### Top 10 languages by number of native speakers stored in a Pandas Dataframe"
   ]
  },
  {
   "cell_type": "code",
   "execution_count": 54,
   "metadata": {},
   "outputs": [],
   "source": [
    "# This is the url you will scrape in this exercise\n",
    "url = 'https://en.wikipedia.org/wiki/List_of_languages_by_number_of_native_speakers'"
   ]
  },
  {
   "cell_type": "code",
   "execution_count": 55,
   "metadata": {},
   "outputs": [],
   "source": [
    "#your code"
   ]
  },
  {
   "cell_type": "markdown",
   "metadata": {},
   "source": [
    "### BONUS QUESTIONS"
   ]
  },
  {
   "cell_type": "markdown",
   "metadata": {},
   "source": [
    "#### Scrape a certain number of tweets of a given Twitter account."
   ]
  },
  {
   "cell_type": "code",
   "execution_count": 56,
   "metadata": {},
   "outputs": [],
   "source": [
    "# This is the url you will scrape in this exercise \n",
    "# You will need to add the account credentials to this url\n",
    "url = 'https://twitter.com/'"
   ]
  },
  {
   "cell_type": "code",
   "execution_count": 57,
   "metadata": {},
   "outputs": [],
   "source": [
    "# your code"
   ]
  },
  {
   "cell_type": "markdown",
   "metadata": {},
   "source": [
    "#### IMDB's Top 250 data (movie name, Initial release, director name and stars) as a pandas dataframe"
   ]
  },
  {
   "cell_type": "code",
   "execution_count": 58,
   "metadata": {},
   "outputs": [],
   "source": [
    "# This is the url you will scrape in this exercise \n",
    "url = 'https://www.imdb.com/chart/top'"
   ]
  },
  {
   "cell_type": "code",
   "execution_count": 59,
   "metadata": {},
   "outputs": [],
   "source": [
    "# your code"
   ]
  },
  {
   "cell_type": "markdown",
   "metadata": {},
   "source": [
    "#### Movie name, year and a brief summary of the top 10 random movies (IMDB) as a pandas dataframe."
   ]
  },
  {
   "cell_type": "code",
   "execution_count": 60,
   "metadata": {},
   "outputs": [],
   "source": [
    "#This is the url you will scrape in this exercise\n",
    "url = 'http://www.imdb.com/chart/top'"
   ]
  },
  {
   "cell_type": "code",
   "execution_count": 61,
   "metadata": {},
   "outputs": [],
   "source": [
    "#your code"
   ]
  },
  {
   "cell_type": "markdown",
   "metadata": {},
   "source": [
    "#### Find the live weather report (temperature, wind speed, description and weather) of a given city."
   ]
  },
  {
   "cell_type": "code",
   "execution_count": null,
   "metadata": {},
   "outputs": [],
   "source": [
    "#https://openweathermap.org/current\n",
    "city = city=input('Enter the city:')\n",
    "url = 'http://api.openweathermap.org/data/2.5/weather?'+'q='+city+'&APPID=b35975e18dc93725acb092f7272cc6b8&units=metric'"
   ]
  },
  {
   "cell_type": "code",
   "execution_count": null,
   "metadata": {},
   "outputs": [],
   "source": [
    "# your code"
   ]
  },
  {
   "cell_type": "markdown",
   "metadata": {},
   "source": [
    "#### Book name,price and stock availability as a pandas dataframe."
   ]
  },
  {
   "cell_type": "code",
   "execution_count": null,
   "metadata": {},
   "outputs": [],
   "source": [
    "# This is the url you will scrape in this exercise. \n",
    "# It is a fictional bookstore created to be scraped. \n",
    "url = 'http://books.toscrape.com/'"
   ]
  },
  {
   "cell_type": "code",
   "execution_count": null,
   "metadata": {},
   "outputs": [],
   "source": [
    "#your code"
   ]
  }
 ],
 "metadata": {
  "kernelspec": {
   "display_name": "clase",
   "language": "python",
   "name": "clase"
  },
  "language_info": {
   "codemirror_mode": {
    "name": "ipython",
    "version": 3
   },
   "file_extension": ".py",
   "mimetype": "text/x-python",
   "name": "python",
   "nbconvert_exporter": "python",
   "pygments_lexer": "ipython3",
   "version": "3.10.13"
  }
 },
 "nbformat": 4,
 "nbformat_minor": 2
}
